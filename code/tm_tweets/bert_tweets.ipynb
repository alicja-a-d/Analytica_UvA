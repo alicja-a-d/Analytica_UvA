{
 "cells": [
  {
   "cell_type": "code",
   "execution_count": 49,
   "metadata": {},
   "outputs": [
    {
     "name": "stderr",
     "output_type": "stream",
     "text": [
      "[nltk_data] Downloading package stopwords to\n",
      "[nltk_data]     /Users/alicjadorobis/nltk_data...\n",
      "[nltk_data]   Package stopwords is already up-to-date!\n",
      "[nltk_data] Downloading package wordnet to\n",
      "[nltk_data]     /Users/alicjadorobis/nltk_data...\n",
      "[nltk_data]   Package wordnet is already up-to-date!\n"
     ]
    }
   ],
   "source": [
    "\n",
    "import pandas as pd \n",
    "import seaborn as sns\n",
    "import matplotlib.pyplot as plt\n",
    "from bertopic import BERTopic\n",
    "import string\n",
    "from wordcloud import WordCloud\n",
    "import nltk\n",
    "from nltk.corpus import stopwords\n",
    "from nltk.stem import PorterStemmer\n",
    "from nltk.stem import WordNetLemmatizer\n",
    "from nltk.tokenize import word_tokenize\n",
    "nltk.download('stopwords')\n",
    "nltk.download('wordnet')\n",
    "from collections import Counter\n",
    "import re\n",
    "from ast import literal_eval\n",
    "from sentence_transformers import SentenceTransformer\n",
    "from umap import UMAP\n",
    "import dataframe_image as dfi"
   ]
  },
  {
   "cell_type": "code",
   "execution_count": 78,
   "metadata": {},
   "outputs": [
    {
     "data": {
      "text/html": [
       "<div>\n",
       "<style scoped>\n",
       "    .dataframe tbody tr th:only-of-type {\n",
       "        vertical-align: middle;\n",
       "    }\n",
       "\n",
       "    .dataframe tbody tr th {\n",
       "        vertical-align: top;\n",
       "    }\n",
       "\n",
       "    .dataframe thead th {\n",
       "        text-align: right;\n",
       "    }\n",
       "</style>\n",
       "<table border=\"1\" class=\"dataframe\">\n",
       "  <thead>\n",
       "    <tr style=\"text-align: right;\">\n",
       "      <th></th>\n",
       "      <th>created_at_fuzzy</th>\n",
       "      <th>state_likely_tweeted_from</th>\n",
       "      <th>text</th>\n",
       "      <th>source</th>\n",
       "      <th>display_text_width</th>\n",
       "      <th>lang</th>\n",
       "      <th>favorite_count</th>\n",
       "      <th>retweet_count</th>\n",
       "      <th>is_quote</th>\n",
       "      <th>followers_count</th>\n",
       "      <th>friends_count</th>\n",
       "      <th>listed_count</th>\n",
       "      <th>statuses_count</th>\n",
       "      <th>favourites_count</th>\n",
       "    </tr>\n",
       "  </thead>\n",
       "  <tbody>\n",
       "    <tr>\n",
       "      <th>0</th>\n",
       "      <td>2020-07-24T22:09:10Z</td>\n",
       "      <td>Minnesota</td>\n",
       "      <td>@harconsulting Bet trump backs out of it, when...</td>\n",
       "      <td>Twitter Web App</td>\n",
       "      <td>64</td>\n",
       "      <td>en</td>\n",
       "      <td>1</td>\n",
       "      <td>1</td>\n",
       "      <td>False</td>\n",
       "      <td>26181</td>\n",
       "      <td>28653</td>\n",
       "      <td>1</td>\n",
       "      <td>48506</td>\n",
       "      <td>68822</td>\n",
       "    </tr>\n",
       "    <tr>\n",
       "      <th>1</th>\n",
       "      <td>2020-07-21T00:19:06Z</td>\n",
       "      <td>Texas</td>\n",
       "      <td>@BillOReilly Why would schools being closed en...</td>\n",
       "      <td>Twitter Web App</td>\n",
       "      <td>280</td>\n",
       "      <td>en</td>\n",
       "      <td>0</td>\n",
       "      <td>0</td>\n",
       "      <td>False</td>\n",
       "      <td>216</td>\n",
       "      <td>1348</td>\n",
       "      <td>2</td>\n",
       "      <td>6905</td>\n",
       "      <td>15218</td>\n",
       "    </tr>\n",
       "    <tr>\n",
       "      <th>2</th>\n",
       "      <td>2020-07-24T05:14:11Z</td>\n",
       "      <td>Colorado</td>\n",
       "      <td>@EliTheAverage @TheRickWilson We don't even kn...</td>\n",
       "      <td>Twitter for Android</td>\n",
       "      <td>278</td>\n",
       "      <td>en</td>\n",
       "      <td>0</td>\n",
       "      <td>0</td>\n",
       "      <td>False</td>\n",
       "      <td>866</td>\n",
       "      <td>454</td>\n",
       "      <td>17</td>\n",
       "      <td>2027</td>\n",
       "      <td>174</td>\n",
       "    </tr>\n",
       "    <tr>\n",
       "      <th>3</th>\n",
       "      <td>2020-07-24T21:41:30Z</td>\n",
       "      <td>South Carolina</td>\n",
       "      <td>If you guys vote anywhere near Joe Biden, it’l...</td>\n",
       "      <td>Twitter for iPhone</td>\n",
       "      <td>130</td>\n",
       "      <td>en</td>\n",
       "      <td>1</td>\n",
       "      <td>1</td>\n",
       "      <td>False</td>\n",
       "      <td>976</td>\n",
       "      <td>813</td>\n",
       "      <td>1</td>\n",
       "      <td>26913</td>\n",
       "      <td>25877</td>\n",
       "    </tr>\n",
       "    <tr>\n",
       "      <th>4</th>\n",
       "      <td>2020-07-23T16:47:25Z</td>\n",
       "      <td>West Virginia</td>\n",
       "      <td>Social Media Accuses Trump’s Federal Agents Of...</td>\n",
       "      <td>Twitter Web App</td>\n",
       "      <td>202</td>\n",
       "      <td>en</td>\n",
       "      <td>0</td>\n",
       "      <td>0</td>\n",
       "      <td>False</td>\n",
       "      <td>262</td>\n",
       "      <td>1114</td>\n",
       "      <td>10</td>\n",
       "      <td>40160</td>\n",
       "      <td>4607</td>\n",
       "    </tr>\n",
       "    <tr>\n",
       "      <th>...</th>\n",
       "      <td>...</td>\n",
       "      <td>...</td>\n",
       "      <td>...</td>\n",
       "      <td>...</td>\n",
       "      <td>...</td>\n",
       "      <td>...</td>\n",
       "      <td>...</td>\n",
       "      <td>...</td>\n",
       "      <td>...</td>\n",
       "      <td>...</td>\n",
       "      <td>...</td>\n",
       "      <td>...</td>\n",
       "      <td>...</td>\n",
       "      <td>...</td>\n",
       "    </tr>\n",
       "    <tr>\n",
       "      <th>995</th>\n",
       "      <td>2020-07-23T13:29:32Z</td>\n",
       "      <td>West Virginia</td>\n",
       "      <td>@real_defender @JoeBiden Tell another lie you ...</td>\n",
       "      <td>Twitter for Android</td>\n",
       "      <td>148</td>\n",
       "      <td>en</td>\n",
       "      <td>1</td>\n",
       "      <td>0</td>\n",
       "      <td>False</td>\n",
       "      <td>3639</td>\n",
       "      <td>4435</td>\n",
       "      <td>3</td>\n",
       "      <td>25773</td>\n",
       "      <td>24254</td>\n",
       "    </tr>\n",
       "    <tr>\n",
       "      <th>996</th>\n",
       "      <td>2020-07-24T05:52:51Z</td>\n",
       "      <td>New York</td>\n",
       "      <td>I completely agree, so Trump shouldn’t take an...</td>\n",
       "      <td>Twitter for iPhone</td>\n",
       "      <td>111</td>\n",
       "      <td>en</td>\n",
       "      <td>1</td>\n",
       "      <td>0</td>\n",
       "      <td>True</td>\n",
       "      <td>2133</td>\n",
       "      <td>519</td>\n",
       "      <td>22</td>\n",
       "      <td>9410</td>\n",
       "      <td>12936</td>\n",
       "    </tr>\n",
       "    <tr>\n",
       "      <th>997</th>\n",
       "      <td>2020-07-24T13:06:55Z</td>\n",
       "      <td>Vermont</td>\n",
       "      <td>Rachel Maddow reads from court transcripts and...</td>\n",
       "      <td>Twitter for iPhone</td>\n",
       "      <td>274</td>\n",
       "      <td>en</td>\n",
       "      <td>1</td>\n",
       "      <td>0</td>\n",
       "      <td>False</td>\n",
       "      <td>4126</td>\n",
       "      <td>5000</td>\n",
       "      <td>510</td>\n",
       "      <td>140166</td>\n",
       "      <td>270691</td>\n",
       "    </tr>\n",
       "    <tr>\n",
       "      <th>998</th>\n",
       "      <td>2020-07-23T17:34:15Z</td>\n",
       "      <td>Alabama</td>\n",
       "      <td>If this is happening now,or last night technic...</td>\n",
       "      <td>Twitter for iPhone</td>\n",
       "      <td>271</td>\n",
       "      <td>en</td>\n",
       "      <td>0</td>\n",
       "      <td>0</td>\n",
       "      <td>True</td>\n",
       "      <td>44</td>\n",
       "      <td>165</td>\n",
       "      <td>1</td>\n",
       "      <td>5139</td>\n",
       "      <td>2147</td>\n",
       "    </tr>\n",
       "    <tr>\n",
       "      <th>999</th>\n",
       "      <td>2020-07-25T09:32:30Z</td>\n",
       "      <td>Oklahoma</td>\n",
       "      <td>WE ARE THE UNITED STATES OF AMERICA🇺🇸\\nThe Onl...</td>\n",
       "      <td>Twitter Web App</td>\n",
       "      <td>263</td>\n",
       "      <td>en</td>\n",
       "      <td>2</td>\n",
       "      <td>3</td>\n",
       "      <td>True</td>\n",
       "      <td>8825</td>\n",
       "      <td>8947</td>\n",
       "      <td>1</td>\n",
       "      <td>22911</td>\n",
       "      <td>16762</td>\n",
       "    </tr>\n",
       "  </tbody>\n",
       "</table>\n",
       "<p>1000 rows × 14 columns</p>\n",
       "</div>"
      ],
      "text/plain": [
       "         created_at_fuzzy state_likely_tweeted_from  \\\n",
       "0    2020-07-24T22:09:10Z                 Minnesota   \n",
       "1    2020-07-21T00:19:06Z                     Texas   \n",
       "2    2020-07-24T05:14:11Z                  Colorado   \n",
       "3    2020-07-24T21:41:30Z            South Carolina   \n",
       "4    2020-07-23T16:47:25Z             West Virginia   \n",
       "..                    ...                       ...   \n",
       "995  2020-07-23T13:29:32Z             West Virginia   \n",
       "996  2020-07-24T05:52:51Z                  New York   \n",
       "997  2020-07-24T13:06:55Z                   Vermont   \n",
       "998  2020-07-23T17:34:15Z                   Alabama   \n",
       "999  2020-07-25T09:32:30Z                  Oklahoma   \n",
       "\n",
       "                                                  text               source  \\\n",
       "0    @harconsulting Bet trump backs out of it, when...      Twitter Web App   \n",
       "1    @BillOReilly Why would schools being closed en...      Twitter Web App   \n",
       "2    @EliTheAverage @TheRickWilson We don't even kn...  Twitter for Android   \n",
       "3    If you guys vote anywhere near Joe Biden, it’l...   Twitter for iPhone   \n",
       "4    Social Media Accuses Trump’s Federal Agents Of...      Twitter Web App   \n",
       "..                                                 ...                  ...   \n",
       "995  @real_defender @JoeBiden Tell another lie you ...  Twitter for Android   \n",
       "996  I completely agree, so Trump shouldn’t take an...   Twitter for iPhone   \n",
       "997  Rachel Maddow reads from court transcripts and...   Twitter for iPhone   \n",
       "998  If this is happening now,or last night technic...   Twitter for iPhone   \n",
       "999  WE ARE THE UNITED STATES OF AMERICA🇺🇸\\nThe Onl...      Twitter Web App   \n",
       "\n",
       "     display_text_width lang  favorite_count  retweet_count  is_quote  \\\n",
       "0                    64   en               1              1     False   \n",
       "1                   280   en               0              0     False   \n",
       "2                   278   en               0              0     False   \n",
       "3                   130   en               1              1     False   \n",
       "4                   202   en               0              0     False   \n",
       "..                  ...  ...             ...            ...       ...   \n",
       "995                 148   en               1              0     False   \n",
       "996                 111   en               1              0      True   \n",
       "997                 274   en               1              0     False   \n",
       "998                 271   en               0              0      True   \n",
       "999                 263   en               2              3      True   \n",
       "\n",
       "     followers_count  friends_count  listed_count  statuses_count  \\\n",
       "0              26181          28653             1           48506   \n",
       "1                216           1348             2            6905   \n",
       "2                866            454            17            2027   \n",
       "3                976            813             1           26913   \n",
       "4                262           1114            10           40160   \n",
       "..               ...            ...           ...             ...   \n",
       "995             3639           4435             3           25773   \n",
       "996             2133            519            22            9410   \n",
       "997             4126           5000           510          140166   \n",
       "998               44            165             1            5139   \n",
       "999             8825           8947             1           22911   \n",
       "\n",
       "     favourites_count  \n",
       "0               68822  \n",
       "1               15218  \n",
       "2                 174  \n",
       "3               25877  \n",
       "4                4607  \n",
       "..                ...  \n",
       "995             24254  \n",
       "996             12936  \n",
       "997            270691  \n",
       "998              2147  \n",
       "999             16762  \n",
       "\n",
       "[1000 rows x 14 columns]"
      ]
     },
     "metadata": {},
     "output_type": "display_data"
    }
   ],
   "source": [
    "\n",
    "# loading the data into a dataframe\n",
    "df = pd.read_excel('../../data/test/1000_random_rows_24_07_2020.xlsx')\n",
    "display(df)"
   ]
  },
  {
   "cell_type": "code",
   "execution_count": 80,
   "metadata": {},
   "outputs": [
    {
     "data": {
      "image/png": "[encoded data removed]",
      "text/plain": [
       "<Figure size 500x500 with 1 Axes>"
      ]
     },
     "metadata": {},
     "output_type": "display_data"
    }
   ],
   "source": [
    "#adding an extra column as this is the columsn that will appear in the dataset we gave to LLM, we can of course adapt this \n",
    "# just depends which analysis we will be doing first \n",
    "\n",
    "df['cleaned_text'] = df['text']\n",
    "# creating a new column containing the length of each headline text that is larger than 0\n",
    "non_empty_lengths = df[(df['cleaned_text'].notnull()) & (df['display_text_width'] > 0)]['display_text_width']\n",
    "# visualising the length distribution \n",
    "\n",
    "sns.set(rc={'figure.figsize':(14,11)})\n",
    "sns.set(style=\"whitegrid\")\n",
    "sns.displot(non_empty_lengths, kde=False, color='green', bins=100)\n",
    "\n",
    "\n",
    "plt.ylabel('Frequency', fontsize=12)\n",
    "plt.xlabel('Distribution of Tweet Text Lengths', fontsize=12)\n",
    "plt.grid(True)\n",
    "\n",
    "\n",
    "plt.show()"
   ]
  },
  {
   "cell_type": "markdown",
   "metadata": {},
   "source": [
    "## Pre-processing the text"
   ]
  },
  {
   "cell_type": "code",
   "execution_count": 52,
   "metadata": {},
   "outputs": [],
   "source": [
    "#removing line spacing and 'at' symbols\n",
    "df['cleaned_text'] = df['cleaned_text'].replace('\\n',' ', regex=True)\n",
    "df['cleaned_text'] = df['cleaned_text'].replace('\\xa0',' ', regex=True)\n"
   ]
  },
  {
   "cell_type": "code",
   "execution_count": 53,
   "metadata": {},
   "outputs": [
    {
     "data": {
      "text/plain": [
       "'\\n# removing all emojis\\ndef remove_emojis(data):\\n    emoj = re.compile(\"[\"\\n        u\"😀-🙏\"  # emoticons\\n        u\"🌀-🗿\"  # symbols & pictographs\\n        u\"🚀-\\U0001f6ff\"  # transport & map symbols\\n        u\"\\U0001f1e0-🇿\"  # flags (iOS)\\n        u\"─-⯯\"  # chinese char\\n        u\"✂-➰\"\\n        u\"Ⓜ-🉑\"\\n        u\"🤦-🤷\"\\n        u\"𐀀-\\U0010ffff\"\\n        u\"♀-♂\" \\n        u\"☀-⭕\"\\n        u\"\\u200d\"\\n        u\"⏏\"\\n        u\"⏩\"\\n        u\"⌚\"\\n        u\"️\"  # dingbats\\n        u\"〰\"\\n                      \"]+\", re.UNICODE)\\n                      \\n    return re.sub(emoj, \\'\\', data)\\n\\n\\ndf[\\'cleaned_text\\'] = df[\\'cleaned_text\\'].apply(remove_emojis)\\n'"
      ]
     },
     "execution_count": 53,
     "metadata": {},
     "output_type": "execute_result"
    }
   ],
   "source": [
    "'''\n",
    "# removing all emojis\n",
    "def remove_emojis(data):\n",
    "    emoj = re.compile(\"[\"\n",
    "        u\"\\U0001F600-\\U0001F64F\"  # emoticons\n",
    "        u\"\\U0001F300-\\U0001F5FF\"  # symbols & pictographs\n",
    "        u\"\\U0001F680-\\U0001F6FF\"  # transport & map symbols\n",
    "        u\"\\U0001F1E0-\\U0001F1FF\"  # flags (iOS)\n",
    "        u\"\\U00002500-\\U00002BEF\"  # chinese char\n",
    "        u\"\\U00002702-\\U000027B0\"\n",
    "        u\"\\U000024C2-\\U0001F251\"\n",
    "        u\"\\U0001f926-\\U0001f937\"\n",
    "        u\"\\U00010000-\\U0010ffff\"\n",
    "        u\"\\u2640-\\u2642\" \n",
    "        u\"\\u2600-\\u2B55\"\n",
    "        u\"\\u200d\"\n",
    "        u\"\\u23cf\"\n",
    "        u\"\\u23e9\"\n",
    "        u\"\\u231a\"\n",
    "        u\"\\ufe0f\"  # dingbats\n",
    "        u\"\\u3030\"\n",
    "                      \"]+\", re.UNICODE)\n",
    "                      \n",
    "    return re.sub(emoj, '', data)\n",
    "\n",
    "\n",
    "df['cleaned_text'] = df['cleaned_text'].apply(remove_emojis)\n",
    "'''"
   ]
  },
  {
   "cell_type": "code",
   "execution_count": 54,
   "metadata": {},
   "outputs": [
    {
     "name": "stdout",
     "output_type": "stream",
     "text": [
      "0       Since trump cancelled his convention in Jack...\n",
      "1      9 year old died in Florida from COVID this we...\n",
      "2     If trump decides he won’t leave the White Hous...\n",
      "3     Ao now we have \"the Trump virus\" and the \"Skan...\n",
      "4      That two seconds I spend trying to ace this q...\n",
      "                            ...                        \n",
      "95     This is just another example of why Trump the...\n",
      "96         In the trump orbit, nothing is unimaginable.\n",
      "97      I'm disappointed but not surprised by Melani...\n",
      "98      Who is the interviewer &amp; why do they kee...\n",
      "99      1] That's what I was alluding to before. Pro...\n",
      "Name: cleaned_text, Length: 100, dtype: object\n"
     ]
    }
   ],
   "source": [
    "import re\n",
    "\n",
    "def remove_emojis(data):\n",
    "    emoj = re.compile(\"[\"\n",
    "        u\"\\U0001F600-\\U0001F64F\"  # emoticons\n",
    "        u\"\\U0001F300-\\U0001F5FF\"  # symbols & pictographs\n",
    "        u\"\\U0001F680-\\U0001F6FF\"  # transport & map symbols\n",
    "        u\"\\U0001F1E0-\\U0001F1FF\"  # flags (iOS)\n",
    "        u\"\\U00002500-\\U00002BEF\"  # chinese char\n",
    "        u\"\\U00002702-\\U000027B0\"\n",
    "        u\"\\U000024C2-\\U0001F251\"\n",
    "        u\"\\U0001f926-\\U0001f937\"\n",
    "        u\"\\U00010000-\\U0010ffff\"\n",
    "        u\"\\u2640-\\u2642\" \n",
    "        u\"\\u2600-\\u2B55\"\n",
    "        u\"\\u200d\"\n",
    "        u\"\\u23cf\"\n",
    "        u\"\\u23e9\"\n",
    "        u\"\\u231a\"\n",
    "        u\"\\ufe0f\"  # dingbats\n",
    "        u\"\\u3030\"\n",
    "                      \"]+\", re.UNICODE)\n",
    "                      \n",
    "    return re.sub(emoj, '', str(data))  # Convert data to string before removing emojis\n",
    "\n",
    "# Apply remove_emojis function to 'cleaned_text' column\n",
    "try:\n",
    "    df['cleaned_text'] = df['cleaned_text'].apply(remove_emojis)\n",
    "    print(df['cleaned_text'])\n",
    "except Exception as e:\n",
    "    print(\"An error occurred:\", e)\n"
   ]
  },
  {
   "cell_type": "code",
   "execution_count": 55,
   "metadata": {},
   "outputs": [
    {
     "name": "stdout",
     "output_type": "stream",
     "text": [
      "0      Since trump cancelled his convention in Jack...\n",
      "1     9 year old died in Florida from COVID this we...\n",
      "2    If trump decides he won’t leave the White Hous...\n",
      "3    Ao now we have \"the Trump virus\" and the \"Skan...\n",
      "4     That two seconds I spend trying to ace this q...\n",
      "5     Poor fact checking. According to you own sour...\n",
      "6       Goya bean can claps back at Ivanka Trump  via \n",
      "7     Add sabotage to the corruption, grifting and ...\n",
      "8    Declassified Documents Show FBI Used ‘Defensiv...\n",
      "9      This is video of an America trying to get ou...\n",
      "Name: cleaned_text, dtype: object\n"
     ]
    }
   ],
   "source": [
    "\n",
    "\n",
    "print(df['cleaned_text'].head(10))\n"
   ]
  },
  {
   "cell_type": "code",
   "execution_count": 56,
   "metadata": {},
   "outputs": [
    {
     "data": {
      "text/plain": [
       "\"\\n#removing numbers\\ndef remove_numbers(text):\\n    return re.sub(r'\\\\d+', '', text)\\ndf['cleaned_text'] = df['cleaned_text'].apply(remove_numbers)\\n\""
      ]
     },
     "execution_count": 56,
     "metadata": {},
     "output_type": "execute_result"
    }
   ],
   "source": [
    "'''\n",
    "#removing numbers\n",
    "def remove_numbers(text):\n",
    "    return re.sub(r'\\d+', '', text)\n",
    "df['cleaned_text'] = df['cleaned_text'].apply(remove_numbers)\n",
    "'''"
   ]
  },
  {
   "cell_type": "code",
   "execution_count": 57,
   "metadata": {},
   "outputs": [
    {
     "name": "stdout",
     "output_type": "stream",
     "text": [
      "0       Since trump cancelled his convention in Jack...\n",
      "1       year old died in Florida from COVID this wee...\n",
      "2     If trump decides he won’t leave the White Hous...\n",
      "3     Ao now we have \"the Trump virus\" and the \"Skan...\n",
      "4      That two seconds I spend trying to ace this q...\n",
      "                            ...                        \n",
      "95     This is just another example of why Trump the...\n",
      "96         In the trump orbit, nothing is unimaginable.\n",
      "97      I'm disappointed but not surprised by Melani...\n",
      "98      Who is the interviewer &amp; why do they kee...\n",
      "99      ] That's what I was alluding to before. Prot...\n",
      "Name: cleaned_text, Length: 100, dtype: object\n"
     ]
    }
   ],
   "source": [
    "import re\n",
    "\n",
    "def remove_numbers(text):\n",
    "    if isinstance(text, str):\n",
    "        return re.sub(r'\\d+', '', text)\n",
    "    else:\n",
    "        return text\n",
    "\n",
    "# Apply remove_numbers function to 'cleaned_text' column\n",
    "try:\n",
    "    df['cleaned_text'] = df['cleaned_text'].apply(remove_numbers)\n",
    "    print(df['cleaned_text'])\n",
    "except Exception as e:\n",
    "    print(\"An error occurred:\", e)\n",
    "\n"
   ]
  },
  {
   "cell_type": "code",
   "execution_count": 58,
   "metadata": {},
   "outputs": [
    {
     "data": {
      "text/plain": [
       "\"\\n#removing punctuation\\ndef remove_punctuation(text):\\n    return text.translate(str.maketrans('', '', string.punctuation))\\n\\n\\ndf['cleaned_text'] = df['cleaned_text'].apply(remove_punctuation)\\n\""
      ]
     },
     "execution_count": 58,
     "metadata": {},
     "output_type": "execute_result"
    }
   ],
   "source": [
    "'''\n",
    "#removing punctuation\n",
    "def remove_punctuation(text):\n",
    "    return text.translate(str.maketrans('', '', string.punctuation))\n",
    "\n",
    "\n",
    "df['cleaned_text'] = df['cleaned_text'].apply(remove_punctuation)\n",
    "'''\n"
   ]
  },
  {
   "cell_type": "code",
   "execution_count": 59,
   "metadata": {},
   "outputs": [
    {
     "name": "stdout",
     "output_type": "stream",
     "text": [
      "0       Since trump cancelled his convention in Jack...\n",
      "1       year old died in Florida from COVID this wee...\n",
      "2     If trump decides he won’t leave the White Hous...\n",
      "3     Ao now we have the Trump virus and the Skank flu \n",
      "4      That two seconds I spend trying to ace this q...\n",
      "                            ...                        \n",
      "95     This is just another example of why Trump the...\n",
      "96           In the trump orbit nothing is unimaginable\n",
      "97      Im disappointed but not surprised by Melania...\n",
      "98      Who is the interviewer amp why do they keep ...\n",
      "99       Thats what I was alluding to before Protest...\n",
      "Name: cleaned_text, Length: 100, dtype: object\n"
     ]
    }
   ],
   "source": [
    "import string\n",
    "\n",
    "def remove_punctuation(text):\n",
    "    if isinstance(text, str):\n",
    "        return text.translate(str.maketrans('', '', string.punctuation))\n",
    "    elif isinstance(text, (int, float)):\n",
    "        return str(text).translate(str.maketrans('', '', string.punctuation))\n",
    "    else:\n",
    "        return text  # Return as is if not a string, int, or float\n",
    "\n",
    "# Apply remove_punctuation function to 'cleaned_text' column\n",
    "try:\n",
    "    df['cleaned_text'] = df['cleaned_text'].apply(remove_punctuation)\n",
    "    print(df['cleaned_text'])\n",
    "except Exception as e:\n",
    "    print(\"An error occurred:\", e)\n"
   ]
  },
  {
   "cell_type": "code",
   "execution_count": 60,
   "metadata": {},
   "outputs": [
    {
     "data": {
      "text/plain": [
       "\"\\ndf['review_text_english'] = df['review_text_english'].str.replace(r'\\x08(?:bicycle|bikes)\\x08', 'bike', case=False, regex=True)\\n\\ndf['review_text_english'] = df['review_text_english'].str.replace('places', 'place', case=False)\\n\\ndf['review_text_english'] = df['review_text_english'].str.replace('parkeerplaats', 'parking', case=False)\\n\\ndf['review_text_english'] = df['review_text_english'].str.replace('easily', 'easy', case=False)\\n\\ndf['review_text_english'] = df['review_text_english'].str.replace('authentica', 'authentic', case=False)\\ndf['review_text_english'] = df['review_text_english'].str.replace('genial', 'great', case=False)\\ndf['review_text_english'] = df['review_text_english'].str.replace('pŕ', 'pr', case=False)\\ndf['review_text_english'] = df['review_text_english'].str.replace('combinatie', 'combination', case=False)\\n\""
      ]
     },
     "execution_count": 60,
     "metadata": {},
     "output_type": "execute_result"
    }
   ],
   "source": [
    "# manually replacing synonyms and words\n",
    "'''\n",
    "df['review_text_english'] = df['review_text_english'].str.replace(r'\\b(?:bicycle|bikes)\\b', 'bike', case=False, regex=True)\n",
    "\n",
    "df['review_text_english'] = df['review_text_english'].str.replace('places', 'place', case=False)\n",
    "\n",
    "df['review_text_english'] = df['review_text_english'].str.replace('parkeerplaats', 'parking', case=False)\n",
    "\n",
    "df['review_text_english'] = df['review_text_english'].str.replace('easily', 'easy', case=False)\n",
    "\n",
    "df['review_text_english'] = df['review_text_english'].str.replace('authentica', 'authentic', case=False)\n",
    "df['review_text_english'] = df['review_text_english'].str.replace('genial', 'great', case=False)\n",
    "df['review_text_english'] = df['review_text_english'].str.replace('pŕ', 'pr', case=False)\n",
    "df['review_text_english'] = df['review_text_english'].str.replace('combinatie', 'combination', case=False)\n",
    "'''"
   ]
  },
  {
   "cell_type": "markdown",
   "metadata": {},
   "source": [
    "1. case-normalization\n"
   ]
  },
  {
   "cell_type": "code",
   "execution_count": 61,
   "metadata": {},
   "outputs": [
    {
     "name": "stdout",
     "output_type": "stream",
     "text": [
      "['  since trump cancelled his convention in jacksonville due to health concerns lets see his hypocrite followers say how wonderful he is to care about them and their health while theyve been bitching about stuff being closed and cancelled and corona being a hoax all this time', '  year old died in florida from covid this week i know you don’t give a shit because it’s not your kid but my kid won’t be attending school no matter what trump and his dumbass cult say', 'if trump decides he won’t leave the white house leave him and melanie there if she doesn’t kill him let him wander around and mutter to himself about how perfect he is we can set biden and a legitimate thoughtful government up elsewhere let’s put barr in with him', 'ao now we have the trump virus and the skank flu ', ' that two seconds i spend trying to ace this quiz each time tho   they should put that shit into trump’s walter reed test', ' poor fact checking according to you own sources in january  he made general statements derogatory to president trump', 'goya bean can claps back at ivanka trump  via ', ' add sabotage to the corruption grifting and downright destruction of our government under trump small businesses count on usps especially now gopcomplicittraitors trumpthreatensamerica ', 'declassified documents show fbi used ‘defensive’ briefing in  to spy on donald trump  again one must ask the question why is wray still there he has done nothing about this abuse of power within his agency this is watergate on steroids', '  this is video of an america trying to get out from under a washed up game show host turned wannabe dictator so the only way bidens america is anywhere this bad is if youre threatening to make it that way is that what youre doing', '  trump is the most selfish narcissistic person in this world  gopcomplicittraitors', 'the united states recorded over  deaths for the fourth day in a row it is the first fourday streak since early june  meanwhile trump is golfing  trumpisanationaldisgrace', 'so many people gloating over trump pulling the plug on the rnc in jacksonville it really shows they care more about trump and the gop looking bad than anything else', ' fair hoover was a decent man trump is not', 'mustsee trump humiliates himself explaining cognitive test interviewe  via ', ' i am struggling with this too  trump definitely endorsed him but i’m not sure manny was in the picture then', 'rip qa i mean trump supporters', 'white house wont get into whether or not trump talked with putin about russian bounties to kill us soldiers ', ' if joebiden wins real civil war begins the only way that joebiden can win is voter fraud this is why democrat leaders are pushing for mailinballots this is democrats latest path of subversion good news is that election will be disputed therefore trump will remain', 'everything he’s saying is lies donald trump does not change his mind because that would take him to admit he was wrong everything he’s doing is for the polls  ', 'americans are dying daily americans are being rounded up by traitor trumps secret police squad all of you who say we didnt think it would be this bad  it is we are up against both fascism and rampant stupidity i want out if this nightmare i voted to prevent this shit', '  this is trump america people dont respect people', ' it’s not a job trump is qualified for trumpthedisaster', ' yes and if you don’t biden will ruin country won’t be great like now', '   trumps fine  its biden you should be worried about ', 'remember that the federal invading army is comprised of private security contractors not educated professionally trained police barr amp trump just started the operation june th', 'tonight trumps border patrol took over a portland oregon street firstamendment  portlandstrong ', 'china did a fine job of manipulating trump didn’t they you can’t legislate stupidity away ', 'so the private school that donald trumps son goes to wont be opening for inperson instruction this year  hmm  trumpvirus schoolreopeningisamistake', '  yeah trumps not the best but dude biden isn’t that great either man either way we’re all fucked', '  sure because peacefully protesting the violence of a tyrannical state never ends up in more violence from said state you may want to learn what terrorism is it applies more to donald trump also a traitor and his predecessors than protesters', '    what could trump have done that you would praise him for if you dont have answer your point is moot', ' i agree with this one well done mlb players  whether it’s obama trump or whomever holds office in  this is how it’s done', 'actually obama did not want to appear as though he were trying to influence the election and show bias as a former president he wanted the american people to decide for themselves don’t listen to trump’s made up fairytales ', 'so trump thinks higher home prices are good for all of us   ask someone who is trying to buy their first home', 'darn i was hoping barron would be the  canary in a coal mine  cnn msnbc ', '  trump lost the silent majority thats the independents', '  i still dont get progressives hysteria over goya goyagate is outrage over the ceo being recognized by the  for donating  cans of food to the poor and hungry in a brief talk he said  sentence praising trump  the guy did the same thing with obama', '  lordy who kn his team thought this was a good idea  there is no way in hell they let him debate trump no way', ' they are starting this now because their plan to steal the election in november hinges on it  the dems and the msm will report fake vote tallies and give the victory to biden  they won’t allow trump air time  then they will say he is refusing to leave office', '     this was so nonsensical it almost looked like a trump tweet', '  for what crime exactly  being a political opponent of trump  you may want to try living in russia if you support this practice', ' simply mistaken trump for biden maybe we should question hers', '  of course they are biden’s family needs more money', 'dear democrats if you’re not hanging trump’s sympathy for a pediphile pimp and his praise for supporters chanting “white power” around the necks of your trump loving opponents x a day you’re doing it wrong ', 'trump tries to link covid surge to black lives matter protests  the   via ', ' and joe biden fingered that poor womans vagaina he finger raped her metoo', '     the womans story is already falling apart sure makes you look like a fool i was a democrat trump ', '  trump says something ridiculous and stupid everyday but you want to tweet about obama lol y’all are comical', 'what virtual campaigning means for trump and biden ', '    i agree with you  i meant his victim of sexual abuse because i dont get her amp the why she supports trump', 'donald trump is a boondoggle', 'president trump freenikki  sign the petition  via ', '  this is happening in the usa this is trump’s america  trump owns this how are poor families supposed to care for family members dying from covid and not get it themselves  how very sad and it makes me soooo mad', 'whatever happened to that wall trump promised everyone serious question thinkingatpfchangs', '   trump  get your crying towels ready', 'raise your hand if you think that sinking to be as petty and infantile as trump is a stupid way to counter him at this moment ', '   i cant wait to see which military commander will be assigned to evict trump from the white house', '       that was not even the worse part   this is what really bothered me and she later laughed about it even if twitter would not ban trump it still wasnt funny   ', ' just like your dad you continue to repeat lies since you have nothing else and no he doesnt support welfare for immigrants either the only mob is the one your dad is running ', ' one thing is clear trump so pissed about fauci throwing the first pitch he had to bring his own closer to the presser', 'favorite chant from today’s protest in greenwood  “fuck trump fuck kkk fuck fascist usa”', '  the turn around has been stunning  gifted a beautiful trajectory by president obama leaving another republican pile of smoldering wreckage for biden to extinguish  at least biden has experience with this after helping obama repair the bush recession', ' i watched fear city last night on netflix in episode  you hear trumps name alot and also good old rudy g in sdny back then', '  trump ', '  kind of a loselose for justice although anything that undermines trump is projustice', '  trump is the biggest baby of all time', ' not cancelling trump rally would have boosted economy', 'if donald trump is the first racist president then joe biden will be the second i guess lmao', 'whitney little bitch of a snowflake republican lawmaker asks trump to send federal agents to denver   ', '  thats my question like   trump is sending  of these guys to chicago wtf are  guys gonna do in chicago if real riots happen   the united states put hundreds of thousands of men on the ground allied with locals and other countries and couldnt quell  of iraq', '  say what do you need a list of reasons why trump is despised •  lies • using govt to enrich self •  sexual accusations backed up by trumps words • quid pro quo proven via bolton • conduct unbecoming of a president  • obvious kowtow to putin  i can go into detail', ' i just received mary trump’s book today and am reading it it is well written and delves into the background of the trump family of which she is a member of meghan mccain’s comments were quite abrasive i highly recommend that she reads the book', 'joe biden goes on wild tangent basically accuses americans of being stupid and racist ', 'oh my god guys there’s an album called maga szn about donald trump a rap album about a  year old racist', '  and arizona needs a governor who listens to someone other than trump  is not making decisions that are wise or safe for students staff and families azteacherproblems votethemallout votebluetosaveamerica', 'trump is getting his orders from putin hence all the calls trump will do anything to not go to prison he has no care for america or for americans ', '  also teargassed the mayor  this fascism has to stop  vote for biden  a vote for anyone else is a vote for trump  vote the gop out from top to bottom  trumpisatraitor gopcomplicittraitors', 'i don’t think enough americans understand what is happening in our country we are witnessing a fascist seize power the way hitler did in germany those who stand w trump are aiding and abetting the country’s destruction those not speaking out are enabling the country’s demise ', '     and no he wasn’t infiltrating anyone if bill clinton is a pedophile too fuck him you just can’t wrap your head around the idea that your leader isn’t the man chan says he is ', 'nan', '  we knew erik princes low life guestpo were in this riot bunch this is fasism and trumps push for his dictatorship trump and barr and their guestpo are destroying our nation these are riots period', '  ', ' yay   ms trumpi am so glad to have read your book  it sheds such light on our collective situation', '   trump is really stupid about this  right at this moment i am done with trump  he is playing right into their hands  half the population if not mote will die from this vaccine guaranteed', 'effin moron  ', 'the way activists come for each other in this town trump didnt even need to send in the secret police ', ' ', '   oh no the antifa superterrorists are going to blow air at the suburbs lord trump save our nation from the marxists ', 'the paranoia is real donnie biden will destroy your un american dream and it will be fucking glorious  ', ' that would be great karma i can see trump as a black gay woman who is poor', 'trump sending federal troops to portland  chicago is kind of like realizing your kids arent yet old enough to leave at home while you go to the grocery store so you hire a babysitter  youre not quite ready for freedom portland still have growing up to do', 'opinion  details of trump’s brain test ', 'i love that the media is freaking out about this but swing voters are gonna see this and be relieved biden isnt one of those far left nuts ', ' i think the cops are fash enough to disobey civilian leadership   this may also come up if trump loses the election but refuses to vacate the whitehouse like is the us marshalls service going to fight the secret service', ' this is just another example of why trump the criminal conman extortionist sociopath has to be voted out this tweet that our much needed allies are “socalled” allies is again pathetic and beneath the dignity of his office they despise trump amp know he’s unbalanced and unstable', ' in the trump orbit nothing is unimaginable', '  im disappointed but not surprised by melania trump remember way back when she advocated against bullying in schools  a political ploy i suspect now  they really dont care about us their aboutface on many issues mean squat to me', '  who is the interviewer amp why do they keep scheduling interviews outside in july in dc trumps face is literally melting so he doesnt have to wear a mask  thisll be a good   what q was trump asked bc i havent heard guy ask a single q yet', '   thats what i was alluding to before protests have become so convoluted violence amp looting takes the focus from police abuse amp trump uses it to inflame his base  it doesnt effect politicians directly enough flooding their phones amp offices real old school presence']\n"
     ]
    }
   ],
   "source": [
    "text_list = df['cleaned_text'].tolist()\n",
    "\n",
    "# case normalization function\n",
    "def case_normalization(text):\n",
    "    return text.lower()\n",
    "\n",
    "# apply case normalization to each element of the text list\n",
    "normalized_text_list = [case_normalization(word) for word in text_list]\n",
    "\n",
    "print(normalized_text_list)\n"
   ]
  },
  {
   "cell_type": "markdown",
   "metadata": {},
   "source": [
    "## Visualisation"
   ]
  },
  {
   "cell_type": "code",
   "execution_count": 62,
   "metadata": {},
   "outputs": [
    {
     "data": {
      "image/png": "[encoded data removed]",
      "text/plain": [
       "<Figure size 1000x1000 with 1 Axes>"
      ]
     },
     "metadata": {},
     "output_type": "display_data"
    }
   ],
   "source": [
    "# words visualisation with a wordcloud\n",
    "concatenated_text = ' '.join(normalized_text_list)\n",
    "# generating\n",
    "wordcloud = WordCloud(width=800, height=700, max_words=200, background_color='white').generate(concatenated_text)\n",
    "\n",
    "# plotting the WordCloud\n",
    "plt.figure(figsize=(10, 10))\n",
    "plt.imshow(wordcloud, interpolation='bilinear')\n",
    "plt.axis('off')\n",
    "plt.title('200 Most Popular Words', size= 20)\n",
    "plt.show()"
   ]
  },
  {
   "cell_type": "markdown",
   "metadata": {},
   "source": [
    "## Further pre-processing"
   ]
  },
  {
   "cell_type": "markdown",
   "metadata": {},
   "source": [
    "2. tokenization"
   ]
  },
  {
   "cell_type": "code",
   "execution_count": 63,
   "metadata": {},
   "outputs": [
    {
     "name": "stdout",
     "output_type": "stream",
     "text": [
      "[['since', 'trump', 'cancelled', 'his', 'convention', 'in', 'jacksonville', 'due', 'to', 'health', 'concerns', 'lets', 'see', 'his', 'hypocrite', 'followers', 'say', 'how', 'wonderful', 'he', 'is', 'to', 'care', 'about', 'them', 'and', 'their', 'health', 'while', 'theyve', 'been', 'bitching', 'about', 'stuff', 'being', 'closed', 'and', 'cancelled', 'and', 'corona', 'being', 'a', 'hoax', 'all', 'this', 'time'], ['year', 'old', 'died', 'in', 'florida', 'from', 'covid', 'this', 'week', 'i', 'know', 'you', 'don’t', 'give', 'a', 'shit', 'because', 'it’s', 'not', 'your', 'kid', 'but', 'my', 'kid', 'won’t', 'be', 'attending', 'school', 'no', 'matter', 'what', 'trump', 'and', 'his', 'dumbass', 'cult', 'say'], ['if', 'trump', 'decides', 'he', 'won’t', 'leave', 'the', 'white', 'house', 'leave', 'him', 'and', 'melanie', 'there', 'if', 'she', 'doesn’t', 'kill', 'him', 'let', 'him', 'wander', 'around', 'and', 'mutter', 'to', 'himself', 'about', 'how', 'perfect', 'he', 'is', 'we', 'can', 'set', 'biden', 'and', 'a', 'legitimate', 'thoughtful', 'government', 'up', 'elsewhere', 'let’s', 'put', 'barr', 'in', 'with', 'him'], ['ao', 'now', 'we', 'have', 'the', 'trump', 'virus', 'and', 'the', 'skank', 'flu'], ['that', 'two', 'seconds', 'i', 'spend', 'trying', 'to', 'ace', 'this', 'quiz', 'each', 'time', 'tho', 'they', 'should', 'put', 'that', 'shit', 'into', 'trump’s', 'walter', 'reed', 'test'], ['poor', 'fact', 'checking', 'according', 'to', 'you', 'own', 'sources', 'in', 'january', 'he', 'made', 'general', 'statements', 'derogatory', 'to', 'president', 'trump'], ['goya', 'bean', 'can', 'claps', 'back', 'at', 'ivanka', 'trump', 'via'], ['add', 'sabotage', 'to', 'the', 'corruption', 'grifting', 'and', 'downright', 'destruction', 'of', 'our', 'government', 'under', 'trump', 'small', 'businesses', 'count', 'on', 'usps', 'especially', 'now', 'gopcomplicittraitors', 'trumpthreatensamerica'], ['declassified', 'documents', 'show', 'fbi', 'used', '‘defensive’', 'briefing', 'in', 'to', 'spy', 'on', 'donald', 'trump', 'again', 'one', 'must', 'ask', 'the', 'question', 'why', 'is', 'wray', 'still', 'there', 'he', 'has', 'done', 'nothing', 'about', 'this', 'abuse', 'of', 'power', 'within', 'his', 'agency', 'this', 'is', 'watergate', 'on', 'steroids'], ['this', 'is', 'video', 'of', 'an', 'america', 'trying', 'to', 'get', 'out', 'from', 'under', 'a', 'washed', 'up', 'game', 'show', 'host', 'turned', 'wannabe', 'dictator', 'so', 'the', 'only', 'way', 'bidens', 'america', 'is', 'anywhere', 'this', 'bad', 'is', 'if', 'youre', 'threatening', 'to', 'make', 'it', 'that', 'way', 'is', 'that', 'what', 'youre', 'doing'], ['trump', 'is', 'the', 'most', 'selfish', 'narcissistic', 'person', 'in', 'this', 'world', 'gopcomplicittraitors'], ['the', 'united', 'states', 'recorded', 'over', 'deaths', 'for', 'the', 'fourth', 'day', 'in', 'a', 'row', 'it', 'is', 'the', 'first', 'fourday', 'streak', 'since', 'early', 'june', 'meanwhile', 'trump', 'is', 'golfing', 'trumpisanationaldisgrace'], ['so', 'many', 'people', 'gloating', 'over', 'trump', 'pulling', 'the', 'plug', 'on', 'the', 'rnc', 'in', 'jacksonville', 'it', 'really', 'shows', 'they', 'care', 'more', 'about', 'trump', 'and', 'the', 'gop', 'looking', 'bad', 'than', 'anything', 'else'], ['fair', 'hoover', 'was', 'a', 'decent', 'man', 'trump', 'is', 'not'], ['mustsee', 'trump', 'humiliates', 'himself', 'explaining', 'cognitive', 'test', 'interviewe', 'via'], ['i', 'am', 'struggling', 'with', 'this', 'too', 'trump', 'definitely', 'endorsed', 'him', 'but', 'i’m', 'not', 'sure', 'manny', 'was', 'in', 'the', 'picture', 'then'], ['rip', 'qa', 'i', 'mean', 'trump', 'supporters'], ['white', 'house', 'wont', 'get', 'into', 'whether', 'or', 'not', 'trump', 'talked', 'with', 'putin', 'about', 'russian', 'bounties', 'to', 'kill', 'us', 'soldiers'], ['if', 'joebiden', 'wins', 'real', 'civil', 'war', 'begins', 'the', 'only', 'way', 'that', 'joebiden', 'can', 'win', 'is', 'voter', 'fraud', 'this', 'is', 'why', 'democrat', 'leaders', 'are', 'pushing', 'for', 'mailinballots', 'this', 'is', 'democrats', 'latest', 'path', 'of', 'subversion', 'good', 'news', 'is', 'that', 'election', 'will', 'be', 'disputed', 'therefore', 'trump', 'will', 'remain'], ['everything', 'he’s', 'saying', 'is', 'lies', 'donald', 'trump', 'does', 'not', 'change', 'his', 'mind', 'because', 'that', 'would', 'take', 'him', 'to', 'admit', 'he', 'was', 'wrong', 'everything', 'he’s', 'doing', 'is', 'for', 'the', 'polls'], ['americans', 'are', 'dying', 'daily', 'americans', 'are', 'being', 'rounded', 'up', 'by', 'traitor', 'trumps', 'secret', 'police', 'squad', 'all', 'of', 'you', 'who', 'say', 'we', 'didnt', 'think', 'it', 'would', 'be', 'this', 'bad', 'it', 'is', 'we', 'are', 'up', 'against', 'both', 'fascism', 'and', 'rampant', 'stupidity', 'i', 'want', 'out', 'if', 'this', 'nightmare', 'i', 'voted', 'to', 'prevent', 'this', 'shit'], ['this', 'is', 'trump', 'america', 'people', 'dont', 'respect', 'people'], ['it’s', 'not', 'a', 'job', 'trump', 'is', 'qualified', 'for', 'trumpthedisaster'], ['yes', 'and', 'if', 'you', 'don’t', 'biden', 'will', 'ruin', 'country', 'won’t', 'be', 'great', 'like', 'now'], ['trumps', 'fine', 'its', 'biden', 'you', 'should', 'be', 'worried', 'about'], ['remember', 'that', 'the', 'federal', 'invading', 'army', 'is', 'comprised', 'of', 'private', 'security', 'contractors', 'not', 'educated', 'professionally', 'trained', 'police', 'barr', 'amp', 'trump', 'just', 'started', 'the', 'operation', 'june', 'th'], ['tonight', 'trumps', 'border', 'patrol', 'took', 'over', 'a', 'portland', 'oregon', 'street', 'firstamendment', 'portlandstrong'], ['china', 'did', 'a', 'fine', 'job', 'of', 'manipulating', 'trump', 'didn’t', 'they', 'you', 'can’t', 'legislate', 'stupidity', 'away'], ['so', 'the', 'private', 'school', 'that', 'donald', 'trumps', 'son', 'goes', 'to', 'wont', 'be', 'opening', 'for', 'inperson', 'instruction', 'this', 'year', 'hmm', 'trumpvirus', 'schoolreopeningisamistake'], ['yeah', 'trumps', 'not', 'the', 'best', 'but', 'dude', 'biden', 'isn’t', 'that', 'great', 'either', 'man', 'either', 'way', 'we’re', 'all', 'fucked'], ['sure', 'because', 'peacefully', 'protesting', 'the', 'violence', 'of', 'a', 'tyrannical', 'state', 'never', 'ends', 'up', 'in', 'more', 'violence', 'from', 'said', 'state', 'you', 'may', 'want', 'to', 'learn', 'what', 'terrorism', 'is', 'it', 'applies', 'more', 'to', 'donald', 'trump', 'also', 'a', 'traitor', 'and', 'his', 'predecessors', 'than', 'protesters'], ['what', 'could', 'trump', 'have', 'done', 'that', 'you', 'would', 'praise', 'him', 'for', 'if', 'you', 'dont', 'have', 'answer', 'your', 'point', 'is', 'moot'], ['i', 'agree', 'with', 'this', 'one', 'well', 'done', 'mlb', 'players', 'whether', 'it’s', 'obama', 'trump', 'or', 'whomever', 'holds', 'office', 'in', 'this', 'is', 'how', 'it’s', 'done'], ['actually', 'obama', 'did', 'not', 'want', 'to', 'appear', 'as', 'though', 'he', 'were', 'trying', 'to', 'influence', 'the', 'election', 'and', 'show', 'bias', 'as', 'a', 'former', 'president', 'he', 'wanted', 'the', 'american', 'people', 'to', 'decide', 'for', 'themselves', 'don’t', 'listen', 'to', 'trump’s', 'made', 'up', 'fairytales'], ['so', 'trump', 'thinks', 'higher', 'home', 'prices', 'are', 'good', 'for', 'all', 'of', 'us', 'ask', 'someone', 'who', 'is', 'trying', 'to', 'buy', 'their', 'first', 'home'], ['darn', 'i', 'was', 'hoping', 'barron', 'would', 'be', 'the', 'canary', 'in', 'a', 'coal', 'mine', 'cnn', 'msnbc'], ['trump', 'lost', 'the', 'silent', 'majority', 'thats', 'the', 'independents'], ['i', 'still', 'dont', 'get', 'progressives', 'hysteria', 'over', 'goya', 'goyagate', 'is', 'outrage', 'over', 'the', 'ceo', 'being', 'recognized', 'by', 'the', 'for', 'donating', 'cans', 'of', 'food', 'to', 'the', 'poor', 'and', 'hungry', 'in', 'a', 'brief', 'talk', 'he', 'said', 'sentence', 'praising', 'trump', 'the', 'guy', 'did', 'the', 'same', 'thing', 'with', 'obama'], ['lordy', 'who', 'kn', 'his', 'team', 'thought', 'this', 'was', 'a', 'good', 'idea', 'there', 'is', 'no', 'way', 'in', 'hell', 'they', 'let', 'him', 'debate', 'trump', 'no', 'way'], ['they', 'are', 'starting', 'this', 'now', 'because', 'their', 'plan', 'to', 'steal', 'the', 'election', 'in', 'november', 'hinges', 'on', 'it', 'the', 'dems', 'and', 'the', 'msm', 'will', 'report', 'fake', 'vote', 'tallies', 'and', 'give', 'the', 'victory', 'to', 'biden', 'they', 'won’t', 'allow', 'trump', 'air', 'time', 'then', 'they', 'will', 'say', 'he', 'is', 'refusing', 'to', 'leave', 'office'], ['this', 'was', 'so', 'nonsensical', 'it', 'almost', 'looked', 'like', 'a', 'trump', 'tweet'], ['for', 'what', 'crime', 'exactly', 'being', 'a', 'political', 'opponent', 'of', 'trump', 'you', 'may', 'want', 'to', 'try', 'living', 'in', 'russia', 'if', 'you', 'support', 'this', 'practice'], ['simply', 'mistaken', 'trump', 'for', 'biden', 'maybe', 'we', 'should', 'question', 'hers'], ['of', 'course', 'they', 'are', 'biden’s', 'family', 'needs', 'more', 'money'], ['dear', 'democrats', 'if', 'you’re', 'not', 'hanging', 'trump’s', 'sympathy', 'for', 'a', 'pediphile', 'pimp', 'and', 'his', 'praise', 'for', 'supporters', 'chanting', '“white', 'power”', 'around', 'the', 'necks', 'of', 'your', 'trump', 'loving', 'opponents', 'x', 'a', 'day', 'you’re', 'doing', 'it', 'wrong'], ['trump', 'tries', 'to', 'link', 'covid', 'surge', 'to', 'black', 'lives', 'matter', 'protests', 'the', 'via'], ['and', 'joe', 'biden', 'fingered', 'that', 'poor', 'womans', 'vagaina', 'he', 'finger', 'raped', 'her', 'metoo'], ['the', 'womans', 'story', 'is', 'already', 'falling', 'apart', 'sure', 'makes', 'you', 'look', 'like', 'a', 'fool', 'i', 'was', 'a', 'democrat', 'trump'], ['trump', 'says', 'something', 'ridiculous', 'and', 'stupid', 'everyday', 'but', 'you', 'want', 'to', 'tweet', 'about', 'obama', 'lol', 'y’all', 'are', 'comical'], ['what', 'virtual', 'campaigning', 'means', 'for', 'trump', 'and', 'biden'], ['i', 'agree', 'with', 'you', 'i', 'meant', 'his', 'victim', 'of', 'sexual', 'abuse', 'because', 'i', 'dont', 'get', 'her', 'amp', 'the', 'why', 'she', 'supports', 'trump'], ['donald', 'trump', 'is', 'a', 'boondoggle'], ['president', 'trump', 'freenikki', 'sign', 'the', 'petition', 'via'], ['this', 'is', 'happening', 'in', 'the', 'usa', 'this', 'is', 'trump’s', 'america', 'trump', 'owns', 'this', 'how', 'are', 'poor', 'families', 'supposed', 'to', 'care', 'for', 'family', 'members', 'dying', 'from', 'covid', 'and', 'not', 'get', 'it', 'themselves', 'how', 'very', 'sad', 'and', 'it', 'makes', 'me', 'soooo', 'mad'], ['whatever', 'happened', 'to', 'that', 'wall', 'trump', 'promised', 'everyone', 'serious', 'question', 'thinkingatpfchangs'], ['trump', 'get', 'your', 'crying', 'towels', 'ready'], ['raise', 'your', 'hand', 'if', 'you', 'think', 'that', 'sinking', 'to', 'be', 'as', 'petty', 'and', 'infantile', 'as', 'trump', 'is', 'a', 'stupid', 'way', 'to', 'counter', 'him', 'at', 'this', 'moment'], ['i', 'cant', 'wait', 'to', 'see', 'which', 'military', 'commander', 'will', 'be', 'assigned', 'to', 'evict', 'trump', 'from', 'the', 'white', 'house'], ['that', 'was', 'not', 'even', 'the', 'worse', 'part', 'this', 'is', 'what', 'really', 'bothered', 'me', 'and', 'she', 'later', 'laughed', 'about', 'it', 'even', 'if', 'twitter', 'would', 'not', 'ban', 'trump', 'it', 'still', 'wasnt', 'funny'], ['just', 'like', 'your', 'dad', 'you', 'continue', 'to', 'repeat', 'lies', 'since', 'you', 'have', 'nothing', 'else', 'and', 'no', 'he', 'doesnt', 'support', 'welfare', 'for', 'immigrants', 'either', 'the', 'only', 'mob', 'is', 'the', 'one', 'your', 'dad', 'is', 'running'], ['one', 'thing', 'is', 'clear', 'trump', 'so', 'pissed', 'about', 'fauci', 'throwing', 'the', 'first', 'pitch', 'he', 'had', 'to', 'bring', 'his', 'own', 'closer', 'to', 'the', 'presser'], ['favorite', 'chant', 'from', 'today’s', 'protest', 'in', 'greenwood', '“fuck', 'trump', 'fuck', 'kkk', 'fuck', 'fascist', 'usa”'], ['the', 'turn', 'around', 'has', 'been', 'stunning', 'gifted', 'a', 'beautiful', 'trajectory', 'by', 'president', 'obama', 'leaving', 'another', 'republican', 'pile', 'of', 'smoldering', 'wreckage', 'for', 'biden', 'to', 'extinguish', 'at', 'least', 'biden', 'has', 'experience', 'with', 'this', 'after', 'helping', 'obama', 'repair', 'the', 'bush', 'recession'], ['i', 'watched', 'fear', 'city', 'last', 'night', 'on', 'netflix', 'in', 'episode', 'you', 'hear', 'trumps', 'name', 'alot', 'and', 'also', 'good', 'old', 'rudy', 'g', 'in', 'sdny', 'back', 'then'], ['trump'], ['kind', 'of', 'a', 'loselose', 'for', 'justice', 'although', 'anything', 'that', 'undermines', 'trump', 'is', 'projustice'], ['trump', 'is', 'the', 'biggest', 'baby', 'of', 'all', 'time'], ['not', 'cancelling', 'trump', 'rally', 'would', 'have', 'boosted', 'economy'], ['if', 'donald', 'trump', 'is', 'the', 'first', 'racist', 'president', 'then', 'joe', 'biden', 'will', 'be', 'the', 'second', 'i', 'guess', 'lmao'], ['whitney', 'little', 'bitch', 'of', 'a', 'snowflake', 'republican', 'lawmaker', 'asks', 'trump', 'to', 'send', 'federal', 'agents', 'to', 'denver'], ['thats', 'my', 'question', 'like', 'trump', 'is', 'sending', 'of', 'these', 'guys', 'to', 'chicago', 'wtf', 'are', 'guys', 'gonna', 'do', 'in', 'chicago', 'if', 'real', 'riots', 'happen', 'the', 'united', 'states', 'put', 'hundreds', 'of', 'thousands', 'of', 'men', 'on', 'the', 'ground', 'allied', 'with', 'locals', 'and', 'other', 'countries', 'and', 'couldnt', 'quell', 'of', 'iraq'], ['say', 'what', 'do', 'you', 'need', 'a', 'list', 'of', 'reasons', 'why', 'trump', 'is', 'despised', '•', 'lies', '•', 'using', 'govt', 'to', 'enrich', 'self', '•', 'sexual', 'accusations', 'backed', 'up', 'by', 'trumps', 'words', '•', 'quid', 'pro', 'quo', 'proven', 'via', 'bolton', '•', 'conduct', 'unbecoming', 'of', 'a', 'president', '•', 'obvious', 'kowtow', 'to', 'putin', 'i', 'can', 'go', 'into', 'detail'], ['i', 'just', 'received', 'mary', 'trump’s', 'book', 'today', 'and', 'am', 'reading', 'it', 'it', 'is', 'well', 'written', 'and', 'delves', 'into', 'the', 'background', 'of', 'the', 'trump', 'family', 'of', 'which', 'she', 'is', 'a', 'member', 'of', 'meghan', 'mccain’s', 'comments', 'were', 'quite', 'abrasive', 'i', 'highly', 'recommend', 'that', 'she', 'reads', 'the', 'book'], ['joe', 'biden', 'goes', 'on', 'wild', 'tangent', 'basically', 'accuses', 'americans', 'of', 'being', 'stupid', 'and', 'racist'], ['oh', 'my', 'god', 'guys', 'there’s', 'an', 'album', 'called', 'maga', 'szn', 'about', 'donald', 'trump', 'a', 'rap', 'album', 'about', 'a', 'year', 'old', 'racist'], ['and', 'arizona', 'needs', 'a', 'governor', 'who', 'listens', 'to', 'someone', 'other', 'than', 'trump', 'is', 'not', 'making', 'decisions', 'that', 'are', 'wise', 'or', 'safe', 'for', 'students', 'staff', 'and', 'families', 'azteacherproblems', 'votethemallout', 'votebluetosaveamerica'], ['trump', 'is', 'getting', 'his', 'orders', 'from', 'putin', 'hence', 'all', 'the', 'calls', 'trump', 'will', 'do', 'anything', 'to', 'not', 'go', 'to', 'prison', 'he', 'has', 'no', 'care', 'for', 'america', 'or', 'for', 'americans'], ['also', 'teargassed', 'the', 'mayor', 'this', 'fascism', 'has', 'to', 'stop', 'vote', 'for', 'biden', 'a', 'vote', 'for', 'anyone', 'else', 'is', 'a', 'vote', 'for', 'trump', 'vote', 'the', 'gop', 'out', 'from', 'top', 'to', 'bottom', 'trumpisatraitor', 'gopcomplicittraitors'], ['i', 'don’t', 'think', 'enough', 'americans', 'understand', 'what', 'is', 'happening', 'in', 'our', 'country', 'we', 'are', 'witnessing', 'a', 'fascist', 'seize', 'power', 'the', 'way', 'hitler', 'did', 'in', 'germany', 'those', 'who', 'stand', 'w', 'trump', 'are', 'aiding', 'and', 'abetting', 'the', 'country’s', 'destruction', 'those', 'not', 'speaking', 'out', 'are', 'enabling', 'the', 'country’s', 'demise'], ['and', 'no', 'he', 'wasn’t', 'infiltrating', 'anyone', 'if', 'bill', 'clinton', 'is', 'a', 'pedophile', 'too', 'fuck', 'him', 'you', 'just', 'can’t', 'wrap', 'your', 'head', 'around', 'the', 'idea', 'that', 'your', 'leader', 'isn’t', 'the', 'man', 'chan', 'says', 'he', 'is'], ['nan'], ['we', 'knew', 'erik', 'princes', 'low', 'life', 'guestpo', 'were', 'in', 'this', 'riot', 'bunch', 'this', 'is', 'fasism', 'and', 'trumps', 'push', 'for', 'his', 'dictatorship', 'trump', 'and', 'barr', 'and', 'their', 'guestpo', 'are', 'destroying', 'our', 'nation', 'these', 'are', 'riots', 'period'], [], ['yay', 'ms', 'trumpi', 'am', 'so', 'glad', 'to', 'have', 'read', 'your', 'book', 'it', 'sheds', 'such', 'light', 'on', 'our', 'collective', 'situation'], ['trump', 'is', 'really', 'stupid', 'about', 'this', 'right', 'at', 'this', 'moment', 'i', 'am', 'done', 'with', 'trump', 'he', 'is', 'playing', 'right', 'into', 'their', 'hands', 'half', 'the', 'population', 'if', 'not', 'mote', 'will', 'die', 'from', 'this', 'vaccine', 'guaranteed'], ['effin', 'moron'], ['the', 'way', 'activists', 'come', 'for', 'each', 'other', 'in', 'this', 'town', 'trump', 'didnt', 'even', 'need', 'to', 'send', 'in', 'the', 'secret', 'police'], [], ['oh', 'no', 'the', 'antifa', 'superterrorists', 'are', 'going', 'to', 'blow', 'air', 'at', 'the', 'suburbs', 'lord', 'trump', 'save', 'our', 'nation', 'from', 'the', 'marxists'], ['the', 'paranoia', 'is', 'real', 'donnie', 'biden', 'will', 'destroy', 'your', 'un', 'american', 'dream', 'and', 'it', 'will', 'be', 'fucking', 'glorious'], ['that', 'would', 'be', 'great', 'karma', 'i', 'can', 'see', 'trump', 'as', 'a', 'black', 'gay', 'woman', 'who', 'is', 'poor'], ['trump', 'sending', 'federal', 'troops', 'to', 'portland', 'chicago', 'is', 'kind', 'of', 'like', 'realizing', 'your', 'kids', 'arent', 'yet', 'old', 'enough', 'to', 'leave', 'at', 'home', 'while', 'you', 'go', 'to', 'the', 'grocery', 'store', 'so', 'you', 'hire', 'a', 'babysitter', 'youre', 'not', 'quite', 'ready', 'for', 'freedom', 'portland', 'still', 'have', 'growing', 'up', 'to', 'do'], ['opinion', 'details', 'of', 'trump’s', 'brain', 'test'], ['i', 'love', 'that', 'the', 'media', 'is', 'freaking', 'out', 'about', 'this', 'but', 'swing', 'voters', 'are', 'gonna', 'see', 'this', 'and', 'be', 'relieved', 'biden', 'isnt', 'one', 'of', 'those', 'far', 'left', 'nuts'], ['i', 'think', 'the', 'cops', 'are', 'fash', 'enough', 'to', 'disobey', 'civilian', 'leadership', 'this', 'may', 'also', 'come', 'up', 'if', 'trump', 'loses', 'the', 'election', 'but', 'refuses', 'to', 'vacate', 'the', 'whitehouse', 'like', 'is', 'the', 'us', 'marshalls', 'service', 'going', 'to', 'fight', 'the', 'secret', 'service'], ['this', 'is', 'just', 'another', 'example', 'of', 'why', 'trump', 'the', 'criminal', 'conman', 'extortionist', 'sociopath', 'has', 'to', 'be', 'voted', 'out', 'this', 'tweet', 'that', 'our', 'much', 'needed', 'allies', 'are', '“socalled”', 'allies', 'is', 'again', 'pathetic', 'and', 'beneath', 'the', 'dignity', 'of', 'his', 'office', 'they', 'despise', 'trump', 'amp', 'know', 'he’s', 'unbalanced', 'and', 'unstable'], ['in', 'the', 'trump', 'orbit', 'nothing', 'is', 'unimaginable'], ['im', 'disappointed', 'but', 'not', 'surprised', 'by', 'melania', 'trump', 'remember', 'way', 'back', 'when', 'she', 'advocated', 'against', 'bullying', 'in', 'schools', 'a', 'political', 'ploy', 'i', 'suspect', 'now', 'they', 'really', 'dont', 'care', 'about', 'us', 'their', 'aboutface', 'on', 'many', 'issues', 'mean', 'squat', 'to', 'me'], ['who', 'is', 'the', 'interviewer', 'amp', 'why', 'do', 'they', 'keep', 'scheduling', 'interviews', 'outside', 'in', 'july', 'in', 'dc', 'trumps', 'face', 'is', 'literally', 'melting', 'so', 'he', 'doesnt', 'have', 'to', 'wear', 'a', 'mask', 'thisll', 'be', 'a', 'good', 'what', 'q', 'was', 'trump', 'asked', 'bc', 'i', 'havent', 'heard', 'guy', 'ask', 'a', 'single', 'q', 'yet'], ['thats', 'what', 'i', 'was', 'alluding', 'to', 'before', 'protests', 'have', 'become', 'so', 'convoluted', 'violence', 'amp', 'looting', 'takes', 'the', 'focus', 'from', 'police', 'abuse', 'amp', 'trump', 'uses', 'it', 'to', 'inflame', 'his', 'base', 'it', 'doesnt', 'effect', 'politicians', 'directly', 'enough', 'flooding', 'their', 'phones', 'amp', 'offices', 'real', 'old', 'school', 'presence']]\n"
     ]
    }
   ],
   "source": [
    "def tokenization(text):\n",
    "    return text.split()\n",
    "    \n",
    "tokenized_text_list = [tokenization(word) for word in normalized_text_list]\n",
    "\n",
    "print(tokenized_text_list)"
   ]
  },
  {
   "cell_type": "markdown",
   "metadata": {},
   "source": [
    "3. stopwords removal "
   ]
  },
  {
   "cell_type": "code",
   "execution_count": 64,
   "metadata": {},
   "outputs": [
    {
     "name": "stdout",
     "output_type": "stream",
     "text": [
      "[['since', 'trump', 'cancelled', 'convention', 'jacksonville', 'due', 'health', 'concerns', 'lets', 'see', 'hypocrite', 'followers', 'say', 'wonderful', 'care', 'health', 'theyve', 'bitching', 'stuff', 'closed', 'cancelled', 'corona', 'hoax', 'time'], ['year', 'old', 'died', 'florida', 'covid', 'week', 'know', 'don’t', 'give', 'shit', 'it’s', 'kid', 'kid', 'won’t', 'attending', 'school', 'matter', 'trump', 'dumbass', 'cult', 'say'], ['trump', 'decides', 'won’t', 'leave', 'white', 'house', 'leave', 'melanie', 'doesn’t', 'kill', 'let', 'wander', 'around', 'mutter', 'perfect', 'set', 'biden', 'legitimate', 'thoughtful', 'government', 'elsewhere', 'let’s', 'put', 'barr'], ['ao', 'trump', 'virus', 'skank', 'flu'], ['two', 'seconds', 'spend', 'trying', 'ace', 'quiz', 'time', 'tho', 'put', 'shit', 'trump’s', 'walter', 'reed', 'test'], ['poor', 'fact', 'checking', 'according', 'sources', 'january', 'made', 'general', 'statements', 'derogatory', 'president', 'trump'], ['goya', 'bean', 'claps', 'back', 'ivanka', 'trump', 'via'], ['add', 'sabotage', 'corruption', 'grifting', 'downright', 'destruction', 'government', 'trump', 'small', 'businesses', 'count', 'usps', 'especially', 'gopcomplicittraitors', 'trumpthreatensamerica'], ['declassified', 'documents', 'show', 'fbi', 'used', '‘defensive’', 'briefing', 'spy', 'donald', 'trump', 'one', 'must', 'ask', 'question', 'wray', 'still', 'done', 'nothing', 'abuse', 'power', 'within', 'agency', 'watergate', 'steroids'], ['video', 'america', 'trying', 'get', 'washed', 'game', 'show', 'host', 'turned', 'wannabe', 'dictator', 'way', 'bidens', 'america', 'anywhere', 'bad', 'youre', 'threatening', 'make', 'way', 'youre'], ['trump', 'selfish', 'narcissistic', 'person', 'world', 'gopcomplicittraitors'], ['united', 'states', 'recorded', 'deaths', 'fourth', 'day', 'row', 'first', 'fourday', 'streak', 'since', 'early', 'june', 'meanwhile', 'trump', 'golfing', 'trumpisanationaldisgrace'], ['many', 'people', 'gloating', 'trump', 'pulling', 'plug', 'rnc', 'jacksonville', 'really', 'shows', 'care', 'trump', 'gop', 'looking', 'bad', 'anything', 'else'], ['fair', 'hoover', 'decent', 'man', 'trump'], ['mustsee', 'trump', 'humiliates', 'explaining', 'cognitive', 'test', 'interviewe', 'via'], ['struggling', 'trump', 'definitely', 'endorsed', 'i’m', 'sure', 'manny', 'picture'], ['rip', 'qa', 'mean', 'trump', 'supporters'], ['white', 'house', 'wont', 'get', 'whether', 'trump', 'talked', 'putin', 'russian', 'bounties', 'kill', 'us', 'soldiers'], ['joebiden', 'wins', 'real', 'civil', 'war', 'begins', 'way', 'joebiden', 'win', 'voter', 'fraud', 'democrat', 'leaders', 'pushing', 'mailinballots', 'democrats', 'latest', 'path', 'subversion', 'good', 'news', 'election', 'disputed', 'therefore', 'trump', 'remain'], ['everything', 'he’s', 'saying', 'lies', 'donald', 'trump', 'change', 'mind', 'would', 'take', 'admit', 'wrong', 'everything', 'he’s', 'polls'], ['americans', 'dying', 'daily', 'americans', 'rounded', 'traitor', 'trumps', 'secret', 'police', 'squad', 'say', 'didnt', 'think', 'would', 'bad', 'fascism', 'rampant', 'stupidity', 'want', 'nightmare', 'voted', 'prevent', 'shit'], ['trump', 'america', 'people', 'dont', 'respect', 'people'], ['it’s', 'job', 'trump', 'qualified', 'trumpthedisaster'], ['yes', 'don’t', 'biden', 'ruin', 'country', 'won’t', 'great', 'like'], ['trumps', 'fine', 'biden', 'worried'], ['remember', 'federal', 'invading', 'army', 'comprised', 'private', 'security', 'contractors', 'educated', 'professionally', 'trained', 'police', 'barr', 'amp', 'trump', 'started', 'operation', 'june', 'th'], ['tonight', 'trumps', 'border', 'patrol', 'took', 'portland', 'oregon', 'street', 'firstamendment', 'portlandstrong'], ['china', 'fine', 'job', 'manipulating', 'trump', 'didn’t', 'can’t', 'legislate', 'stupidity', 'away'], ['private', 'school', 'donald', 'trumps', 'son', 'goes', 'wont', 'opening', 'inperson', 'instruction', 'year', 'hmm', 'trumpvirus', 'schoolreopeningisamistake'], ['yeah', 'trumps', 'best', 'dude', 'biden', 'isn’t', 'great', 'either', 'man', 'either', 'way', 'we’re', 'fucked'], ['sure', 'peacefully', 'protesting', 'violence', 'tyrannical', 'state', 'never', 'ends', 'violence', 'said', 'state', 'may', 'want', 'learn', 'terrorism', 'applies', 'donald', 'trump', 'also', 'traitor', 'predecessors', 'protesters'], ['could', 'trump', 'done', 'would', 'praise', 'dont', 'answer', 'point', 'moot'], ['agree', 'one', 'well', 'done', 'mlb', 'players', 'whether', 'it’s', 'obama', 'trump', 'whomever', 'holds', 'office', 'it’s', 'done'], ['actually', 'obama', 'want', 'appear', 'though', 'trying', 'influence', 'election', 'show', 'bias', 'former', 'president', 'wanted', 'american', 'people', 'decide', 'don’t', 'listen', 'trump’s', 'made', 'fairytales'], ['trump', 'thinks', 'higher', 'home', 'prices', 'good', 'us', 'ask', 'someone', 'trying', 'buy', 'first', 'home'], ['darn', 'hoping', 'barron', 'would', 'canary', 'coal', 'mine', 'cnn', 'msnbc'], ['trump', 'lost', 'silent', 'majority', 'thats', 'independents'], ['still', 'dont', 'get', 'progressives', 'hysteria', 'goya', 'goyagate', 'outrage', 'ceo', 'recognized', 'donating', 'cans', 'food', 'poor', 'hungry', 'brief', 'talk', 'said', 'sentence', 'praising', 'trump', 'guy', 'thing', 'obama'], ['lordy', 'kn', 'team', 'thought', 'good', 'idea', 'way', 'hell', 'let', 'debate', 'trump', 'way'], ['starting', 'plan', 'steal', 'election', 'november', 'hinges', 'dems', 'msm', 'report', 'fake', 'vote', 'tallies', 'give', 'victory', 'biden', 'won’t', 'allow', 'trump', 'air', 'time', 'say', 'refusing', 'leave', 'office'], ['nonsensical', 'almost', 'looked', 'like', 'trump', 'tweet'], ['crime', 'exactly', 'political', 'opponent', 'trump', 'may', 'want', 'try', 'living', 'russia', 'support', 'practice'], ['simply', 'mistaken', 'trump', 'biden', 'maybe', 'question'], ['course', 'biden’s', 'family', 'needs', 'money'], ['dear', 'democrats', 'you’re', 'hanging', 'trump’s', 'sympathy', 'pediphile', 'pimp', 'praise', 'supporters', 'chanting', '“white', 'power”', 'around', 'necks', 'trump', 'loving', 'opponents', 'x', 'day', 'you’re', 'wrong'], ['trump', 'tries', 'link', 'covid', 'surge', 'black', 'lives', 'matter', 'protests', 'via'], ['joe', 'biden', 'fingered', 'poor', 'womans', 'vagaina', 'finger', 'raped', 'metoo'], ['womans', 'story', 'already', 'falling', 'apart', 'sure', 'makes', 'look', 'like', 'fool', 'democrat', 'trump'], ['trump', 'says', 'something', 'ridiculous', 'stupid', 'everyday', 'want', 'tweet', 'obama', 'lol', 'y’all', 'comical'], ['virtual', 'campaigning', 'means', 'trump', 'biden'], ['agree', 'meant', 'victim', 'sexual', 'abuse', 'dont', 'get', 'amp', 'supports', 'trump'], ['donald', 'trump', 'boondoggle'], ['president', 'trump', 'freenikki', 'sign', 'petition', 'via'], ['happening', 'usa', 'trump’s', 'america', 'trump', 'owns', 'poor', 'families', 'supposed', 'care', 'family', 'members', 'dying', 'covid', 'get', 'sad', 'makes', 'soooo', 'mad'], ['whatever', 'happened', 'wall', 'trump', 'promised', 'everyone', 'serious', 'question', 'thinkingatpfchangs'], ['trump', 'get', 'crying', 'towels', 'ready'], ['raise', 'hand', 'think', 'sinking', 'petty', 'infantile', 'trump', 'stupid', 'way', 'counter', 'moment'], ['cant', 'wait', 'see', 'military', 'commander', 'assigned', 'evict', 'trump', 'white', 'house'], ['even', 'worse', 'part', 'really', 'bothered', 'later', 'laughed', 'even', 'twitter', 'would', 'ban', 'trump', 'still', 'wasnt', 'funny'], ['like', 'dad', 'continue', 'repeat', 'lies', 'since', 'nothing', 'else', 'doesnt', 'support', 'welfare', 'immigrants', 'either', 'mob', 'one', 'dad', 'running'], ['one', 'thing', 'clear', 'trump', 'pissed', 'fauci', 'throwing', 'first', 'pitch', 'bring', 'closer', 'presser'], ['favorite', 'chant', 'today’s', 'protest', 'greenwood', '“fuck', 'trump', 'fuck', 'kkk', 'fuck', 'fascist', 'usa”'], ['turn', 'around', 'stunning', 'gifted', 'beautiful', 'trajectory', 'president', 'obama', 'leaving', 'another', 'republican', 'pile', 'smoldering', 'wreckage', 'biden', 'extinguish', 'least', 'biden', 'experience', 'helping', 'obama', 'repair', 'bush', 'recession'], ['watched', 'fear', 'city', 'last', 'night', 'netflix', 'episode', 'hear', 'trumps', 'name', 'alot', 'also', 'good', 'old', 'rudy', 'g', 'sdny', 'back'], ['trump'], ['kind', 'loselose', 'justice', 'although', 'anything', 'undermines', 'trump', 'projustice'], ['trump', 'biggest', 'baby', 'time'], ['cancelling', 'trump', 'rally', 'would', 'boosted', 'economy'], ['donald', 'trump', 'first', 'racist', 'president', 'joe', 'biden', 'second', 'guess', 'lmao'], ['whitney', 'little', 'bitch', 'snowflake', 'republican', 'lawmaker', 'asks', 'trump', 'send', 'federal', 'agents', 'denver'], ['thats', 'question', 'like', 'trump', 'sending', 'guys', 'chicago', 'wtf', 'guys', 'gonna', 'chicago', 'real', 'riots', 'happen', 'united', 'states', 'put', 'hundreds', 'thousands', 'men', 'ground', 'allied', 'locals', 'countries', 'couldnt', 'quell', 'iraq'], ['say', 'need', 'list', 'reasons', 'trump', 'despised', '•', 'lies', '•', 'using', 'govt', 'enrich', 'self', '•', 'sexual', 'accusations', 'backed', 'trumps', 'words', '•', 'quid', 'pro', 'quo', 'proven', 'via', 'bolton', '•', 'conduct', 'unbecoming', 'president', '•', 'obvious', 'kowtow', 'putin', 'go', 'detail'], ['received', 'mary', 'trump’s', 'book', 'today', 'reading', 'well', 'written', 'delves', 'background', 'trump', 'family', 'member', 'meghan', 'mccain’s', 'comments', 'quite', 'abrasive', 'highly', 'recommend', 'reads', 'book'], ['joe', 'biden', 'goes', 'wild', 'tangent', 'basically', 'accuses', 'americans', 'stupid', 'racist'], ['oh', 'god', 'guys', 'there’s', 'album', 'called', 'maga', 'szn', 'donald', 'trump', 'rap', 'album', 'year', 'old', 'racist'], ['arizona', 'needs', 'governor', 'listens', 'someone', 'trump', 'making', 'decisions', 'wise', 'safe', 'students', 'staff', 'families', 'azteacherproblems', 'votethemallout', 'votebluetosaveamerica'], ['trump', 'getting', 'orders', 'putin', 'hence', 'calls', 'trump', 'anything', 'go', 'prison', 'care', 'america', 'americans'], ['also', 'teargassed', 'mayor', 'fascism', 'stop', 'vote', 'biden', 'vote', 'anyone', 'else', 'vote', 'trump', 'vote', 'gop', 'top', 'bottom', 'trumpisatraitor', 'gopcomplicittraitors'], ['don’t', 'think', 'enough', 'americans', 'understand', 'happening', 'country', 'witnessing', 'fascist', 'seize', 'power', 'way', 'hitler', 'germany', 'stand', 'w', 'trump', 'aiding', 'abetting', 'country’s', 'destruction', 'speaking', 'enabling', 'country’s', 'demise'], ['wasn’t', 'infiltrating', 'anyone', 'bill', 'clinton', 'pedophile', 'fuck', 'can’t', 'wrap', 'head', 'around', 'idea', 'leader', 'isn’t', 'man', 'chan', 'says'], ['nan'], ['knew', 'erik', 'princes', 'low', 'life', 'guestpo', 'riot', 'bunch', 'fasism', 'trumps', 'push', 'dictatorship', 'trump', 'barr', 'guestpo', 'destroying', 'nation', 'riots', 'period'], [], ['yay', 'ms', 'trumpi', 'glad', 'read', 'book', 'sheds', 'light', 'collective', 'situation'], ['trump', 'really', 'stupid', 'right', 'moment', 'done', 'trump', 'playing', 'right', 'hands', 'half', 'population', 'mote', 'die', 'vaccine', 'guaranteed'], ['effin', 'moron'], ['way', 'activists', 'come', 'town', 'trump', 'didnt', 'even', 'need', 'send', 'secret', 'police'], [], ['oh', 'antifa', 'superterrorists', 'going', 'blow', 'air', 'suburbs', 'lord', 'trump', 'save', 'nation', 'marxists'], ['paranoia', 'real', 'donnie', 'biden', 'destroy', 'un', 'american', 'dream', 'fucking', 'glorious'], ['would', 'great', 'karma', 'see', 'trump', 'black', 'gay', 'woman', 'poor'], ['trump', 'sending', 'federal', 'troops', 'portland', 'chicago', 'kind', 'like', 'realizing', 'kids', 'arent', 'yet', 'old', 'enough', 'leave', 'home', 'go', 'grocery', 'store', 'hire', 'babysitter', 'youre', 'quite', 'ready', 'freedom', 'portland', 'still', 'growing'], ['opinion', 'details', 'trump’s', 'brain', 'test'], ['love', 'media', 'freaking', 'swing', 'voters', 'gonna', 'see', 'relieved', 'biden', 'isnt', 'one', 'far', 'left', 'nuts'], ['think', 'cops', 'fash', 'enough', 'disobey', 'civilian', 'leadership', 'may', 'also', 'come', 'trump', 'loses', 'election', 'refuses', 'vacate', 'whitehouse', 'like', 'us', 'marshalls', 'service', 'going', 'fight', 'secret', 'service'], ['another', 'example', 'trump', 'criminal', 'conman', 'extortionist', 'sociopath', 'voted', 'tweet', 'much', 'needed', 'allies', '“socalled”', 'allies', 'pathetic', 'beneath', 'dignity', 'office', 'despise', 'trump', 'amp', 'know', 'he’s', 'unbalanced', 'unstable'], ['trump', 'orbit', 'nothing', 'unimaginable'], ['im', 'disappointed', 'surprised', 'melania', 'trump', 'remember', 'way', 'back', 'advocated', 'bullying', 'schools', 'political', 'ploy', 'suspect', 'really', 'dont', 'care', 'us', 'aboutface', 'many', 'issues', 'mean', 'squat'], ['interviewer', 'amp', 'keep', 'scheduling', 'interviews', 'outside', 'july', 'dc', 'trumps', 'face', 'literally', 'melting', 'doesnt', 'wear', 'mask', 'thisll', 'good', 'q', 'trump', 'asked', 'bc', 'havent', 'heard', 'guy', 'ask', 'single', 'q', 'yet'], ['thats', 'alluding', 'protests', 'become', 'convoluted', 'violence', 'amp', 'looting', 'takes', 'focus', 'police', 'abuse', 'amp', 'trump', 'uses', 'inflame', 'base', 'doesnt', 'effect', 'politicians', 'directly', 'enough', 'flooding', 'phones', 'amp', 'offices', 'real', 'old', 'school', 'presence']]\n"
     ]
    }
   ],
   "source": [
    "\n",
    "custom_stopwords = ['€']\n",
    "\n",
    "def remove_stopwords(tokens):\n",
    "    stop_words = set(stopwords.words('english')).union(set(custom_stopwords or []))  # adding the custom stopwords and english\n",
    "    return [token for token in tokens if token not in stop_words]\n",
    "\n",
    "tokens = [remove_stopwords(word) for word in tokenized_text_list]\n",
    "print(tokens)"
   ]
  },
  {
   "cell_type": "code",
   "execution_count": 65,
   "metadata": {},
   "outputs": [
    {
     "name": "stdout",
     "output_type": "stream",
     "text": [
      "[\"['since', 'trump', 'cancelled', 'convention', 'jacksonville', 'due', 'health', 'concerns', 'lets', 'see', 'hypocrite', 'followers', 'say', 'wonderful', 'care', 'health', 'theyve', 'bitching', 'stuff', 'closed', 'cancelled', 'corona', 'hoax', 'time']\", \"['year', 'old', 'died', 'florida', 'covid', 'week', 'know', 'don’t', 'give', 'shit', 'it’s', 'kid', 'kid', 'won’t', 'attending', 'school', 'matter', 'trump', 'dumbass', 'cult', 'say']\", \"['trump', 'decides', 'won’t', 'leave', 'white', 'house', 'leave', 'melanie', 'doesn’t', 'kill', 'let', 'wander', 'around', 'mutter', 'perfect', 'set', 'biden', 'legitimate', 'thoughtful', 'government', 'elsewhere', 'let’s', 'put', 'barr']\", \"['ao', 'trump', 'virus', 'skank', 'flu']\", \"['two', 'seconds', 'spend', 'trying', 'ace', 'quiz', 'time', 'tho', 'put', 'shit', 'trump’s', 'walter', 'reed', 'test']\", \"['poor', 'fact', 'checking', 'according', 'sources', 'january', 'made', 'general', 'statements', 'derogatory', 'president', 'trump']\", \"['goya', 'bean', 'claps', 'back', 'ivanka', 'trump', 'via']\", \"['add', 'sabotage', 'corruption', 'grifting', 'downright', 'destruction', 'government', 'trump', 'small', 'businesses', 'count', 'usps', 'especially', 'gopcomplicittraitors', 'trumpthreatensamerica']\", \"['declassified', 'documents', 'show', 'fbi', 'used', '‘defensive’', 'briefing', 'spy', 'donald', 'trump', 'one', 'must', 'ask', 'question', 'wray', 'still', 'done', 'nothing', 'abuse', 'power', 'within', 'agency', 'watergate', 'steroids']\", \"['video', 'america', 'trying', 'get', 'washed', 'game', 'show', 'host', 'turned', 'wannabe', 'dictator', 'way', 'bidens', 'america', 'anywhere', 'bad', 'youre', 'threatening', 'make', 'way', 'youre']\", \"['trump', 'selfish', 'narcissistic', 'person', 'world', 'gopcomplicittraitors']\", \"['united', 'states', 'recorded', 'deaths', 'fourth', 'day', 'row', 'first', 'fourday', 'streak', 'since', 'early', 'june', 'meanwhile', 'trump', 'golfing', 'trumpisanationaldisgrace']\", \"['many', 'people', 'gloating', 'trump', 'pulling', 'plug', 'rnc', 'jacksonville', 'really', 'shows', 'care', 'trump', 'gop', 'looking', 'bad', 'anything', 'else']\", \"['fair', 'hoover', 'decent', 'man', 'trump']\", \"['mustsee', 'trump', 'humiliates', 'explaining', 'cognitive', 'test', 'interviewe', 'via']\", \"['struggling', 'trump', 'definitely', 'endorsed', 'i’m', 'sure', 'manny', 'picture']\", \"['rip', 'qa', 'mean', 'trump', 'supporters']\", \"['white', 'house', 'wont', 'get', 'whether', 'trump', 'talked', 'putin', 'russian', 'bounties', 'kill', 'us', 'soldiers']\", \"['joebiden', 'wins', 'real', 'civil', 'war', 'begins', 'way', 'joebiden', 'win', 'voter', 'fraud', 'democrat', 'leaders', 'pushing', 'mailinballots', 'democrats', 'latest', 'path', 'subversion', 'good', 'news', 'election', 'disputed', 'therefore', 'trump', 'remain']\", \"['everything', 'he’s', 'saying', 'lies', 'donald', 'trump', 'change', 'mind', 'would', 'take', 'admit', 'wrong', 'everything', 'he’s', 'polls']\", \"['americans', 'dying', 'daily', 'americans', 'rounded', 'traitor', 'trumps', 'secret', 'police', 'squad', 'say', 'didnt', 'think', 'would', 'bad', 'fascism', 'rampant', 'stupidity', 'want', 'nightmare', 'voted', 'prevent', 'shit']\", \"['trump', 'america', 'people', 'dont', 'respect', 'people']\", \"['it’s', 'job', 'trump', 'qualified', 'trumpthedisaster']\", \"['yes', 'don’t', 'biden', 'ruin', 'country', 'won’t', 'great', 'like']\", \"['trumps', 'fine', 'biden', 'worried']\", \"['remember', 'federal', 'invading', 'army', 'comprised', 'private', 'security', 'contractors', 'educated', 'professionally', 'trained', 'police', 'barr', 'amp', 'trump', 'started', 'operation', 'june', 'th']\", \"['tonight', 'trumps', 'border', 'patrol', 'took', 'portland', 'oregon', 'street', 'firstamendment', 'portlandstrong']\", \"['china', 'fine', 'job', 'manipulating', 'trump', 'didn’t', 'can’t', 'legislate', 'stupidity', 'away']\", \"['private', 'school', 'donald', 'trumps', 'son', 'goes', 'wont', 'opening', 'inperson', 'instruction', 'year', 'hmm', 'trumpvirus', 'schoolreopeningisamistake']\", \"['yeah', 'trumps', 'best', 'dude', 'biden', 'isn’t', 'great', 'either', 'man', 'either', 'way', 'we’re', 'fucked']\", \"['sure', 'peacefully', 'protesting', 'violence', 'tyrannical', 'state', 'never', 'ends', 'violence', 'said', 'state', 'may', 'want', 'learn', 'terrorism', 'applies', 'donald', 'trump', 'also', 'traitor', 'predecessors', 'protesters']\", \"['could', 'trump', 'done', 'would', 'praise', 'dont', 'answer', 'point', 'moot']\", \"['agree', 'one', 'well', 'done', 'mlb', 'players', 'whether', 'it’s', 'obama', 'trump', 'whomever', 'holds', 'office', 'it’s', 'done']\", \"['actually', 'obama', 'want', 'appear', 'though', 'trying', 'influence', 'election', 'show', 'bias', 'former', 'president', 'wanted', 'american', 'people', 'decide', 'don’t', 'listen', 'trump’s', 'made', 'fairytales']\", \"['trump', 'thinks', 'higher', 'home', 'prices', 'good', 'us', 'ask', 'someone', 'trying', 'buy', 'first', 'home']\", \"['darn', 'hoping', 'barron', 'would', 'canary', 'coal', 'mine', 'cnn', 'msnbc']\", \"['trump', 'lost', 'silent', 'majority', 'thats', 'independents']\", \"['still', 'dont', 'get', 'progressives', 'hysteria', 'goya', 'goyagate', 'outrage', 'ceo', 'recognized', 'donating', 'cans', 'food', 'poor', 'hungry', 'brief', 'talk', 'said', 'sentence', 'praising', 'trump', 'guy', 'thing', 'obama']\", \"['lordy', 'kn', 'team', 'thought', 'good', 'idea', 'way', 'hell', 'let', 'debate', 'trump', 'way']\", \"['starting', 'plan', 'steal', 'election', 'november', 'hinges', 'dems', 'msm', 'report', 'fake', 'vote', 'tallies', 'give', 'victory', 'biden', 'won’t', 'allow', 'trump', 'air', 'time', 'say', 'refusing', 'leave', 'office']\", \"['nonsensical', 'almost', 'looked', 'like', 'trump', 'tweet']\", \"['crime', 'exactly', 'political', 'opponent', 'trump', 'may', 'want', 'try', 'living', 'russia', 'support', 'practice']\", \"['simply', 'mistaken', 'trump', 'biden', 'maybe', 'question']\", \"['course', 'biden’s', 'family', 'needs', 'money']\", \"['dear', 'democrats', 'you’re', 'hanging', 'trump’s', 'sympathy', 'pediphile', 'pimp', 'praise', 'supporters', 'chanting', '“white', 'power”', 'around', 'necks', 'trump', 'loving', 'opponents', 'x', 'day', 'you’re', 'wrong']\", \"['trump', 'tries', 'link', 'covid', 'surge', 'black', 'lives', 'matter', 'protests', 'via']\", \"['joe', 'biden', 'fingered', 'poor', 'womans', 'vagaina', 'finger', 'raped', 'metoo']\", \"['womans', 'story', 'already', 'falling', 'apart', 'sure', 'makes', 'look', 'like', 'fool', 'democrat', 'trump']\", \"['trump', 'says', 'something', 'ridiculous', 'stupid', 'everyday', 'want', 'tweet', 'obama', 'lol', 'y’all', 'comical']\", \"['virtual', 'campaigning', 'means', 'trump', 'biden']\", \"['agree', 'meant', 'victim', 'sexual', 'abuse', 'dont', 'get', 'amp', 'supports', 'trump']\", \"['donald', 'trump', 'boondoggle']\", \"['president', 'trump', 'freenikki', 'sign', 'petition', 'via']\", \"['happening', 'usa', 'trump’s', 'america', 'trump', 'owns', 'poor', 'families', 'supposed', 'care', 'family', 'members', 'dying', 'covid', 'get', 'sad', 'makes', 'soooo', 'mad']\", \"['whatever', 'happened', 'wall', 'trump', 'promised', 'everyone', 'serious', 'question', 'thinkingatpfchangs']\", \"['trump', 'get', 'crying', 'towels', 'ready']\", \"['raise', 'hand', 'think', 'sinking', 'petty', 'infantile', 'trump', 'stupid', 'way', 'counter', 'moment']\", \"['cant', 'wait', 'see', 'military', 'commander', 'assigned', 'evict', 'trump', 'white', 'house']\", \"['even', 'worse', 'part', 'really', 'bothered', 'later', 'laughed', 'even', 'twitter', 'would', 'ban', 'trump', 'still', 'wasnt', 'funny']\", \"['like', 'dad', 'continue', 'repeat', 'lies', 'since', 'nothing', 'else', 'doesnt', 'support', 'welfare', 'immigrants', 'either', 'mob', 'one', 'dad', 'running']\", \"['one', 'thing', 'clear', 'trump', 'pissed', 'fauci', 'throwing', 'first', 'pitch', 'bring', 'closer', 'presser']\", \"['favorite', 'chant', 'today’s', 'protest', 'greenwood', '“fuck', 'trump', 'fuck', 'kkk', 'fuck', 'fascist', 'usa”']\", \"['turn', 'around', 'stunning', 'gifted', 'beautiful', 'trajectory', 'president', 'obama', 'leaving', 'another', 'republican', 'pile', 'smoldering', 'wreckage', 'biden', 'extinguish', 'least', 'biden', 'experience', 'helping', 'obama', 'repair', 'bush', 'recession']\", \"['watched', 'fear', 'city', 'last', 'night', 'netflix', 'episode', 'hear', 'trumps', 'name', 'alot', 'also', 'good', 'old', 'rudy', 'g', 'sdny', 'back']\", \"['trump']\", \"['kind', 'loselose', 'justice', 'although', 'anything', 'undermines', 'trump', 'projustice']\", \"['trump', 'biggest', 'baby', 'time']\", \"['cancelling', 'trump', 'rally', 'would', 'boosted', 'economy']\", \"['donald', 'trump', 'first', 'racist', 'president', 'joe', 'biden', 'second', 'guess', 'lmao']\", \"['whitney', 'little', 'bitch', 'snowflake', 'republican', 'lawmaker', 'asks', 'trump', 'send', 'federal', 'agents', 'denver']\", \"['thats', 'question', 'like', 'trump', 'sending', 'guys', 'chicago', 'wtf', 'guys', 'gonna', 'chicago', 'real', 'riots', 'happen', 'united', 'states', 'put', 'hundreds', 'thousands', 'men', 'ground', 'allied', 'locals', 'countries', 'couldnt', 'quell', 'iraq']\", \"['say', 'need', 'list', 'reasons', 'trump', 'despised', '•', 'lies', '•', 'using', 'govt', 'enrich', 'self', '•', 'sexual', 'accusations', 'backed', 'trumps', 'words', '•', 'quid', 'pro', 'quo', 'proven', 'via', 'bolton', '•', 'conduct', 'unbecoming', 'president', '•', 'obvious', 'kowtow', 'putin', 'go', 'detail']\", \"['received', 'mary', 'trump’s', 'book', 'today', 'reading', 'well', 'written', 'delves', 'background', 'trump', 'family', 'member', 'meghan', 'mccain’s', 'comments', 'quite', 'abrasive', 'highly', 'recommend', 'reads', 'book']\", \"['joe', 'biden', 'goes', 'wild', 'tangent', 'basically', 'accuses', 'americans', 'stupid', 'racist']\", \"['oh', 'god', 'guys', 'there’s', 'album', 'called', 'maga', 'szn', 'donald', 'trump', 'rap', 'album', 'year', 'old', 'racist']\", \"['arizona', 'needs', 'governor', 'listens', 'someone', 'trump', 'making', 'decisions', 'wise', 'safe', 'students', 'staff', 'families', 'azteacherproblems', 'votethemallout', 'votebluetosaveamerica']\", \"['trump', 'getting', 'orders', 'putin', 'hence', 'calls', 'trump', 'anything', 'go', 'prison', 'care', 'america', 'americans']\", \"['also', 'teargassed', 'mayor', 'fascism', 'stop', 'vote', 'biden', 'vote', 'anyone', 'else', 'vote', 'trump', 'vote', 'gop', 'top', 'bottom', 'trumpisatraitor', 'gopcomplicittraitors']\", \"['don’t', 'think', 'enough', 'americans', 'understand', 'happening', 'country', 'witnessing', 'fascist', 'seize', 'power', 'way', 'hitler', 'germany', 'stand', 'w', 'trump', 'aiding', 'abetting', 'country’s', 'destruction', 'speaking', 'enabling', 'country’s', 'demise']\", \"['wasn’t', 'infiltrating', 'anyone', 'bill', 'clinton', 'pedophile', 'fuck', 'can’t', 'wrap', 'head', 'around', 'idea', 'leader', 'isn’t', 'man', 'chan', 'says']\", \"['nan']\", \"['knew', 'erik', 'princes', 'low', 'life', 'guestpo', 'riot', 'bunch', 'fasism', 'trumps', 'push', 'dictatorship', 'trump', 'barr', 'guestpo', 'destroying', 'nation', 'riots', 'period']\", '[]', \"['yay', 'ms', 'trumpi', 'glad', 'read', 'book', 'sheds', 'light', 'collective', 'situation']\", \"['trump', 'really', 'stupid', 'right', 'moment', 'done', 'trump', 'playing', 'right', 'hands', 'half', 'population', 'mote', 'die', 'vaccine', 'guaranteed']\", \"['effin', 'moron']\", \"['way', 'activists', 'come', 'town', 'trump', 'didnt', 'even', 'need', 'send', 'secret', 'police']\", '[]', \"['oh', 'antifa', 'superterrorists', 'going', 'blow', 'air', 'suburbs', 'lord', 'trump', 'save', 'nation', 'marxists']\", \"['paranoia', 'real', 'donnie', 'biden', 'destroy', 'un', 'american', 'dream', 'fucking', 'glorious']\", \"['would', 'great', 'karma', 'see', 'trump', 'black', 'gay', 'woman', 'poor']\", \"['trump', 'sending', 'federal', 'troops', 'portland', 'chicago', 'kind', 'like', 'realizing', 'kids', 'arent', 'yet', 'old', 'enough', 'leave', 'home', 'go', 'grocery', 'store', 'hire', 'babysitter', 'youre', 'quite', 'ready', 'freedom', 'portland', 'still', 'growing']\", \"['opinion', 'details', 'trump’s', 'brain', 'test']\", \"['love', 'media', 'freaking', 'swing', 'voters', 'gonna', 'see', 'relieved', 'biden', 'isnt', 'one', 'far', 'left', 'nuts']\", \"['think', 'cops', 'fash', 'enough', 'disobey', 'civilian', 'leadership', 'may', 'also', 'come', 'trump', 'loses', 'election', 'refuses', 'vacate', 'whitehouse', 'like', 'us', 'marshalls', 'service', 'going', 'fight', 'secret', 'service']\", \"['another', 'example', 'trump', 'criminal', 'conman', 'extortionist', 'sociopath', 'voted', 'tweet', 'much', 'needed', 'allies', '“socalled”', 'allies', 'pathetic', 'beneath', 'dignity', 'office', 'despise', 'trump', 'amp', 'know', 'he’s', 'unbalanced', 'unstable']\", \"['trump', 'orbit', 'nothing', 'unimaginable']\", \"['im', 'disappointed', 'surprised', 'melania', 'trump', 'remember', 'way', 'back', 'advocated', 'bullying', 'schools', 'political', 'ploy', 'suspect', 'really', 'dont', 'care', 'us', 'aboutface', 'many', 'issues', 'mean', 'squat']\", \"['interviewer', 'amp', 'keep', 'scheduling', 'interviews', 'outside', 'july', 'dc', 'trumps', 'face', 'literally', 'melting', 'doesnt', 'wear', 'mask', 'thisll', 'good', 'q', 'trump', 'asked', 'bc', 'havent', 'heard', 'guy', 'ask', 'single', 'q', 'yet']\", \"['thats', 'alluding', 'protests', 'become', 'convoluted', 'violence', 'amp', 'looting', 'takes', 'focus', 'police', 'abuse', 'amp', 'trump', 'uses', 'inflame', 'base', 'doesnt', 'effect', 'politicians', 'directly', 'enough', 'flooding', 'phones', 'amp', 'offices', 'real', 'old', 'school', 'presence']\"]\n"
     ]
    }
   ],
   "source": [
    "# transforming into a string to create a model\n",
    "tokens = [str(token) for token in tokens]\n",
    "print(tokens)\n",
    "tokens = [string.strip(\"'\") for string in tokens if string.strip(\"[]\").strip(\"'\")]"
   ]
  },
  {
   "cell_type": "markdown",
   "metadata": {},
   "source": [
    "5. stemming and lemmatization"
   ]
  },
  {
   "cell_type": "code",
   "execution_count": 66,
   "metadata": {},
   "outputs": [
    {
     "name": "stdout",
     "output_type": "stream",
     "text": [
      "Stemmed Tokens: [\"['since', 'trump', 'cancelled', 'convention', 'jacksonville', 'due', 'health', 'concerns', 'lets', 'see', 'hypocrite', 'followers', 'say', 'wonderful', 'care', 'health', 'theyve', 'bitching', 'stuff', 'closed', 'cancelled', 'corona', 'hoax', 'time']\", \"['year', 'old', 'died', 'florida', 'covid', 'week', 'know', 'don’t', 'give', 'shit', 'it’s', 'kid', 'kid', 'won’t', 'attending', 'school', 'matter', 'trump', 'dumbass', 'cult', 'say']\", \"['trump', 'decides', 'won’t', 'leave', 'white', 'house', 'leave', 'melanie', 'doesn’t', 'kill', 'let', 'wander', 'around', 'mutter', 'perfect', 'set', 'biden', 'legitimate', 'thoughtful', 'government', 'elsewhere', 'let’s', 'put', 'barr']\", \"['ao', 'trump', 'virus', 'skank', 'flu']\", \"['two', 'seconds', 'spend', 'trying', 'ace', 'quiz', 'time', 'tho', 'put', 'shit', 'trump’s', 'walter', 'reed', 'test']\", \"['poor', 'fact', 'checking', 'according', 'sources', 'january', 'made', 'general', 'statements', 'derogatory', 'president', 'trump']\", \"['goya', 'bean', 'claps', 'back', 'ivanka', 'trump', 'via']\", \"['add', 'sabotage', 'corruption', 'grifting', 'downright', 'destruction', 'government', 'trump', 'small', 'businesses', 'count', 'usps', 'especially', 'gopcomplicittraitors', 'trumpthreatensamerica']\", \"['declassified', 'documents', 'show', 'fbi', 'used', '‘defensive’', 'briefing', 'spy', 'donald', 'trump', 'one', 'must', 'ask', 'question', 'wray', 'still', 'done', 'nothing', 'abuse', 'power', 'within', 'agency', 'watergate', 'steroids']\", \"['video', 'america', 'trying', 'get', 'washed', 'game', 'show', 'host', 'turned', 'wannabe', 'dictator', 'way', 'bidens', 'america', 'anywhere', 'bad', 'youre', 'threatening', 'make', 'way', 'youre']\", \"['trump', 'selfish', 'narcissistic', 'person', 'world', 'gopcomplicittraitors']\", \"['united', 'states', 'recorded', 'deaths', 'fourth', 'day', 'row', 'first', 'fourday', 'streak', 'since', 'early', 'june', 'meanwhile', 'trump', 'golfing', 'trumpisanationaldisgrace']\", \"['many', 'people', 'gloating', 'trump', 'pulling', 'plug', 'rnc', 'jacksonville', 'really', 'shows', 'care', 'trump', 'gop', 'looking', 'bad', 'anything', 'else']\", \"['fair', 'hoover', 'decent', 'man', 'trump']\", \"['mustsee', 'trump', 'humiliates', 'explaining', 'cognitive', 'test', 'interviewe', 'via']\", \"['struggling', 'trump', 'definitely', 'endorsed', 'i’m', 'sure', 'manny', 'picture']\", \"['rip', 'qa', 'mean', 'trump', 'supporters']\", \"['white', 'house', 'wont', 'get', 'whether', 'trump', 'talked', 'putin', 'russian', 'bounties', 'kill', 'us', 'soldiers']\", \"['joebiden', 'wins', 'real', 'civil', 'war', 'begins', 'way', 'joebiden', 'win', 'voter', 'fraud', 'democrat', 'leaders', 'pushing', 'mailinballots', 'democrats', 'latest', 'path', 'subversion', 'good', 'news', 'election', 'disputed', 'therefore', 'trump', 'remain']\", \"['everything', 'he’s', 'saying', 'lies', 'donald', 'trump', 'change', 'mind', 'would', 'take', 'admit', 'wrong', 'everything', 'he’s', 'polls']\", \"['americans', 'dying', 'daily', 'americans', 'rounded', 'traitor', 'trumps', 'secret', 'police', 'squad', 'say', 'didnt', 'think', 'would', 'bad', 'fascism', 'rampant', 'stupidity', 'want', 'nightmare', 'voted', 'prevent', 'shit']\", \"['trump', 'america', 'people', 'dont', 'respect', 'people']\", \"['it’s', 'job', 'trump', 'qualified', 'trumpthedisaster']\", \"['yes', 'don’t', 'biden', 'ruin', 'country', 'won’t', 'great', 'like']\", \"['trumps', 'fine', 'biden', 'worried']\", \"['remember', 'federal', 'invading', 'army', 'comprised', 'private', 'security', 'contractors', 'educated', 'professionally', 'trained', 'police', 'barr', 'amp', 'trump', 'started', 'operation', 'june', 'th']\", \"['tonight', 'trumps', 'border', 'patrol', 'took', 'portland', 'oregon', 'street', 'firstamendment', 'portlandstrong']\", \"['china', 'fine', 'job', 'manipulating', 'trump', 'didn’t', 'can’t', 'legislate', 'stupidity', 'away']\", \"['private', 'school', 'donald', 'trumps', 'son', 'goes', 'wont', 'opening', 'inperson', 'instruction', 'year', 'hmm', 'trumpvirus', 'schoolreopeningisamistake']\", \"['yeah', 'trumps', 'best', 'dude', 'biden', 'isn’t', 'great', 'either', 'man', 'either', 'way', 'we’re', 'fucked']\", \"['sure', 'peacefully', 'protesting', 'violence', 'tyrannical', 'state', 'never', 'ends', 'violence', 'said', 'state', 'may', 'want', 'learn', 'terrorism', 'applies', 'donald', 'trump', 'also', 'traitor', 'predecessors', 'protesters']\", \"['could', 'trump', 'done', 'would', 'praise', 'dont', 'answer', 'point', 'moot']\", \"['agree', 'one', 'well', 'done', 'mlb', 'players', 'whether', 'it’s', 'obama', 'trump', 'whomever', 'holds', 'office', 'it’s', 'done']\", \"['actually', 'obama', 'want', 'appear', 'though', 'trying', 'influence', 'election', 'show', 'bias', 'former', 'president', 'wanted', 'american', 'people', 'decide', 'don’t', 'listen', 'trump’s', 'made', 'fairytales']\", \"['trump', 'thinks', 'higher', 'home', 'prices', 'good', 'us', 'ask', 'someone', 'trying', 'buy', 'first', 'home']\", \"['darn', 'hoping', 'barron', 'would', 'canary', 'coal', 'mine', 'cnn', 'msnbc']\", \"['trump', 'lost', 'silent', 'majority', 'thats', 'independents']\", \"['still', 'dont', 'get', 'progressives', 'hysteria', 'goya', 'goyagate', 'outrage', 'ceo', 'recognized', 'donating', 'cans', 'food', 'poor', 'hungry', 'brief', 'talk', 'said', 'sentence', 'praising', 'trump', 'guy', 'thing', 'obama']\", \"['lordy', 'kn', 'team', 'thought', 'good', 'idea', 'way', 'hell', 'let', 'debate', 'trump', 'way']\", \"['starting', 'plan', 'steal', 'election', 'november', 'hinges', 'dems', 'msm', 'report', 'fake', 'vote', 'tallies', 'give', 'victory', 'biden', 'won’t', 'allow', 'trump', 'air', 'time', 'say', 'refusing', 'leave', 'office']\", \"['nonsensical', 'almost', 'looked', 'like', 'trump', 'tweet']\", \"['crime', 'exactly', 'political', 'opponent', 'trump', 'may', 'want', 'try', 'living', 'russia', 'support', 'practice']\", \"['simply', 'mistaken', 'trump', 'biden', 'maybe', 'question']\", \"['course', 'biden’s', 'family', 'needs', 'money']\", \"['dear', 'democrats', 'you’re', 'hanging', 'trump’s', 'sympathy', 'pediphile', 'pimp', 'praise', 'supporters', 'chanting', '“white', 'power”', 'around', 'necks', 'trump', 'loving', 'opponents', 'x', 'day', 'you’re', 'wrong']\", \"['trump', 'tries', 'link', 'covid', 'surge', 'black', 'lives', 'matter', 'protests', 'via']\", \"['joe', 'biden', 'fingered', 'poor', 'womans', 'vagaina', 'finger', 'raped', 'metoo']\", \"['womans', 'story', 'already', 'falling', 'apart', 'sure', 'makes', 'look', 'like', 'fool', 'democrat', 'trump']\", \"['trump', 'says', 'something', 'ridiculous', 'stupid', 'everyday', 'want', 'tweet', 'obama', 'lol', 'y’all', 'comical']\", \"['virtual', 'campaigning', 'means', 'trump', 'biden']\", \"['agree', 'meant', 'victim', 'sexual', 'abuse', 'dont', 'get', 'amp', 'supports', 'trump']\", \"['donald', 'trump', 'boondoggle']\", \"['president', 'trump', 'freenikki', 'sign', 'petition', 'via']\", \"['happening', 'usa', 'trump’s', 'america', 'trump', 'owns', 'poor', 'families', 'supposed', 'care', 'family', 'members', 'dying', 'covid', 'get', 'sad', 'makes', 'soooo', 'mad']\", \"['whatever', 'happened', 'wall', 'trump', 'promised', 'everyone', 'serious', 'question', 'thinkingatpfchangs']\", \"['trump', 'get', 'crying', 'towels', 'ready']\", \"['raise', 'hand', 'think', 'sinking', 'petty', 'infantile', 'trump', 'stupid', 'way', 'counter', 'moment']\", \"['cant', 'wait', 'see', 'military', 'commander', 'assigned', 'evict', 'trump', 'white', 'house']\", \"['even', 'worse', 'part', 'really', 'bothered', 'later', 'laughed', 'even', 'twitter', 'would', 'ban', 'trump', 'still', 'wasnt', 'funny']\", \"['like', 'dad', 'continue', 'repeat', 'lies', 'since', 'nothing', 'else', 'doesnt', 'support', 'welfare', 'immigrants', 'either', 'mob', 'one', 'dad', 'running']\", \"['one', 'thing', 'clear', 'trump', 'pissed', 'fauci', 'throwing', 'first', 'pitch', 'bring', 'closer', 'presser']\", \"['favorite', 'chant', 'today’s', 'protest', 'greenwood', '“fuck', 'trump', 'fuck', 'kkk', 'fuck', 'fascist', 'usa”']\", \"['turn', 'around', 'stunning', 'gifted', 'beautiful', 'trajectory', 'president', 'obama', 'leaving', 'another', 'republican', 'pile', 'smoldering', 'wreckage', 'biden', 'extinguish', 'least', 'biden', 'experience', 'helping', 'obama', 'repair', 'bush', 'recession']\", \"['watched', 'fear', 'city', 'last', 'night', 'netflix', 'episode', 'hear', 'trumps', 'name', 'alot', 'also', 'good', 'old', 'rudy', 'g', 'sdny', 'back']\", \"['trump']\", \"['kind', 'loselose', 'justice', 'although', 'anything', 'undermines', 'trump', 'projustice']\", \"['trump', 'biggest', 'baby', 'time']\", \"['cancelling', 'trump', 'rally', 'would', 'boosted', 'economy']\", \"['donald', 'trump', 'first', 'racist', 'president', 'joe', 'biden', 'second', 'guess', 'lmao']\", \"['whitney', 'little', 'bitch', 'snowflake', 'republican', 'lawmaker', 'asks', 'trump', 'send', 'federal', 'agents', 'denver']\", \"['thats', 'question', 'like', 'trump', 'sending', 'guys', 'chicago', 'wtf', 'guys', 'gonna', 'chicago', 'real', 'riots', 'happen', 'united', 'states', 'put', 'hundreds', 'thousands', 'men', 'ground', 'allied', 'locals', 'countries', 'couldnt', 'quell', 'iraq']\", \"['say', 'need', 'list', 'reasons', 'trump', 'despised', '•', 'lies', '•', 'using', 'govt', 'enrich', 'self', '•', 'sexual', 'accusations', 'backed', 'trumps', 'words', '•', 'quid', 'pro', 'quo', 'proven', 'via', 'bolton', '•', 'conduct', 'unbecoming', 'president', '•', 'obvious', 'kowtow', 'putin', 'go', 'detail']\", \"['received', 'mary', 'trump’s', 'book', 'today', 'reading', 'well', 'written', 'delves', 'background', 'trump', 'family', 'member', 'meghan', 'mccain’s', 'comments', 'quite', 'abrasive', 'highly', 'recommend', 'reads', 'book']\", \"['joe', 'biden', 'goes', 'wild', 'tangent', 'basically', 'accuses', 'americans', 'stupid', 'racist']\", \"['oh', 'god', 'guys', 'there’s', 'album', 'called', 'maga', 'szn', 'donald', 'trump', 'rap', 'album', 'year', 'old', 'racist']\", \"['arizona', 'needs', 'governor', 'listens', 'someone', 'trump', 'making', 'decisions', 'wise', 'safe', 'students', 'staff', 'families', 'azteacherproblems', 'votethemallout', 'votebluetosaveamerica']\", \"['trump', 'getting', 'orders', 'putin', 'hence', 'calls', 'trump', 'anything', 'go', 'prison', 'care', 'america', 'americans']\", \"['also', 'teargassed', 'mayor', 'fascism', 'stop', 'vote', 'biden', 'vote', 'anyone', 'else', 'vote', 'trump', 'vote', 'gop', 'top', 'bottom', 'trumpisatraitor', 'gopcomplicittraitors']\", \"['don’t', 'think', 'enough', 'americans', 'understand', 'happening', 'country', 'witnessing', 'fascist', 'seize', 'power', 'way', 'hitler', 'germany', 'stand', 'w', 'trump', 'aiding', 'abetting', 'country’s', 'destruction', 'speaking', 'enabling', 'country’s', 'demise']\", \"['wasn’t', 'infiltrating', 'anyone', 'bill', 'clinton', 'pedophile', 'fuck', 'can’t', 'wrap', 'head', 'around', 'idea', 'leader', 'isn’t', 'man', 'chan', 'says']\", \"['nan']\", \"['knew', 'erik', 'princes', 'low', 'life', 'guestpo', 'riot', 'bunch', 'fasism', 'trumps', 'push', 'dictatorship', 'trump', 'barr', 'guestpo', 'destroying', 'nation', 'riots', 'period']\", \"['yay', 'ms', 'trumpi', 'glad', 'read', 'book', 'sheds', 'light', 'collective', 'situation']\", \"['trump', 'really', 'stupid', 'right', 'moment', 'done', 'trump', 'playing', 'right', 'hands', 'half', 'population', 'mote', 'die', 'vaccine', 'guaranteed']\", \"['effin', 'moron']\", \"['way', 'activists', 'come', 'town', 'trump', 'didnt', 'even', 'need', 'send', 'secret', 'police']\", \"['oh', 'antifa', 'superterrorists', 'going', 'blow', 'air', 'suburbs', 'lord', 'trump', 'save', 'nation', 'marxists']\", \"['paranoia', 'real', 'donnie', 'biden', 'destroy', 'un', 'american', 'dream', 'fucking', 'glorious']\", \"['would', 'great', 'karma', 'see', 'trump', 'black', 'gay', 'woman', 'poor']\", \"['trump', 'sending', 'federal', 'troops', 'portland', 'chicago', 'kind', 'like', 'realizing', 'kids', 'arent', 'yet', 'old', 'enough', 'leave', 'home', 'go', 'grocery', 'store', 'hire', 'babysitter', 'youre', 'quite', 'ready', 'freedom', 'portland', 'still', 'growing']\", \"['opinion', 'details', 'trump’s', 'brain', 'test']\", \"['love', 'media', 'freaking', 'swing', 'voters', 'gonna', 'see', 'relieved', 'biden', 'isnt', 'one', 'far', 'left', 'nuts']\", \"['think', 'cops', 'fash', 'enough', 'disobey', 'civilian', 'leadership', 'may', 'also', 'come', 'trump', 'loses', 'election', 'refuses', 'vacate', 'whitehouse', 'like', 'us', 'marshalls', 'service', 'going', 'fight', 'secret', 'service']\", \"['another', 'example', 'trump', 'criminal', 'conman', 'extortionist', 'sociopath', 'voted', 'tweet', 'much', 'needed', 'allies', '“socalled”', 'allies', 'pathetic', 'beneath', 'dignity', 'office', 'despise', 'trump', 'amp', 'know', 'he’s', 'unbalanced', 'unstable']\", \"['trump', 'orbit', 'nothing', 'unimaginable']\", \"['im', 'disappointed', 'surprised', 'melania', 'trump', 'remember', 'way', 'back', 'advocated', 'bullying', 'schools', 'political', 'ploy', 'suspect', 'really', 'dont', 'care', 'us', 'aboutface', 'many', 'issues', 'mean', 'squat']\", \"['interviewer', 'amp', 'keep', 'scheduling', 'interviews', 'outside', 'july', 'dc', 'trumps', 'face', 'literally', 'melting', 'doesnt', 'wear', 'mask', 'thisll', 'good', 'q', 'trump', 'asked', 'bc', 'havent', 'heard', 'guy', 'ask', 'single', 'q', 'yet']\", \"['thats', 'alluding', 'protests', 'become', 'convoluted', 'violence', 'amp', 'looting', 'takes', 'focus', 'police', 'abuse', 'amp', 'trump', 'uses', 'inflame', 'base', 'doesnt', 'effect', 'politicians', 'directly', 'enough', 'flooding', 'phones', 'amp', 'offices', 'real', 'old', 'school', 'presence']\"]\n",
      "Lemmatized Tokens: [\"['since', 'trump', 'cancelled', 'convention', 'jacksonville', 'due', 'health', 'concerns', 'lets', 'see', 'hypocrite', 'followers', 'say', 'wonderful', 'care', 'health', 'theyve', 'bitching', 'stuff', 'closed', 'cancelled', 'corona', 'hoax', 'time']\", \"['year', 'old', 'died', 'florida', 'covid', 'week', 'know', 'don’t', 'give', 'shit', 'it’s', 'kid', 'kid', 'won’t', 'attending', 'school', 'matter', 'trump', 'dumbass', 'cult', 'say']\", \"['trump', 'decides', 'won’t', 'leave', 'white', 'house', 'leave', 'melanie', 'doesn’t', 'kill', 'let', 'wander', 'around', 'mutter', 'perfect', 'set', 'biden', 'legitimate', 'thoughtful', 'government', 'elsewhere', 'let’s', 'put', 'barr']\", \"['ao', 'trump', 'virus', 'skank', 'flu']\", \"['two', 'seconds', 'spend', 'trying', 'ace', 'quiz', 'time', 'tho', 'put', 'shit', 'trump’s', 'walter', 'reed', 'test']\", \"['poor', 'fact', 'checking', 'according', 'sources', 'january', 'made', 'general', 'statements', 'derogatory', 'president', 'trump']\", \"['goya', 'bean', 'claps', 'back', 'ivanka', 'trump', 'via']\", \"['add', 'sabotage', 'corruption', 'grifting', 'downright', 'destruction', 'government', 'trump', 'small', 'businesses', 'count', 'usps', 'especially', 'gopcomplicittraitors', 'trumpthreatensamerica']\", \"['declassified', 'documents', 'show', 'fbi', 'used', '‘defensive’', 'briefing', 'spy', 'donald', 'trump', 'one', 'must', 'ask', 'question', 'wray', 'still', 'done', 'nothing', 'abuse', 'power', 'within', 'agency', 'watergate', 'steroids']\", \"['video', 'america', 'trying', 'get', 'washed', 'game', 'show', 'host', 'turned', 'wannabe', 'dictator', 'way', 'bidens', 'america', 'anywhere', 'bad', 'youre', 'threatening', 'make', 'way', 'youre']\", \"['trump', 'selfish', 'narcissistic', 'person', 'world', 'gopcomplicittraitors']\", \"['united', 'states', 'recorded', 'deaths', 'fourth', 'day', 'row', 'first', 'fourday', 'streak', 'since', 'early', 'june', 'meanwhile', 'trump', 'golfing', 'trumpisanationaldisgrace']\", \"['many', 'people', 'gloating', 'trump', 'pulling', 'plug', 'rnc', 'jacksonville', 'really', 'shows', 'care', 'trump', 'gop', 'looking', 'bad', 'anything', 'else']\", \"['fair', 'hoover', 'decent', 'man', 'trump']\", \"['mustsee', 'trump', 'humiliates', 'explaining', 'cognitive', 'test', 'interviewe', 'via']\", \"['struggling', 'trump', 'definitely', 'endorsed', 'i’m', 'sure', 'manny', 'picture']\", \"['rip', 'qa', 'mean', 'trump', 'supporters']\", \"['white', 'house', 'wont', 'get', 'whether', 'trump', 'talked', 'putin', 'russian', 'bounties', 'kill', 'us', 'soldiers']\", \"['joebiden', 'wins', 'real', 'civil', 'war', 'begins', 'way', 'joebiden', 'win', 'voter', 'fraud', 'democrat', 'leaders', 'pushing', 'mailinballots', 'democrats', 'latest', 'path', 'subversion', 'good', 'news', 'election', 'disputed', 'therefore', 'trump', 'remain']\", \"['everything', 'he’s', 'saying', 'lies', 'donald', 'trump', 'change', 'mind', 'would', 'take', 'admit', 'wrong', 'everything', 'he’s', 'polls']\", \"['americans', 'dying', 'daily', 'americans', 'rounded', 'traitor', 'trumps', 'secret', 'police', 'squad', 'say', 'didnt', 'think', 'would', 'bad', 'fascism', 'rampant', 'stupidity', 'want', 'nightmare', 'voted', 'prevent', 'shit']\", \"['trump', 'america', 'people', 'dont', 'respect', 'people']\", \"['it’s', 'job', 'trump', 'qualified', 'trumpthedisaster']\", \"['yes', 'don’t', 'biden', 'ruin', 'country', 'won’t', 'great', 'like']\", \"['trumps', 'fine', 'biden', 'worried']\", \"['remember', 'federal', 'invading', 'army', 'comprised', 'private', 'security', 'contractors', 'educated', 'professionally', 'trained', 'police', 'barr', 'amp', 'trump', 'started', 'operation', 'june', 'th']\", \"['tonight', 'trumps', 'border', 'patrol', 'took', 'portland', 'oregon', 'street', 'firstamendment', 'portlandstrong']\", \"['china', 'fine', 'job', 'manipulating', 'trump', 'didn’t', 'can’t', 'legislate', 'stupidity', 'away']\", \"['private', 'school', 'donald', 'trumps', 'son', 'goes', 'wont', 'opening', 'inperson', 'instruction', 'year', 'hmm', 'trumpvirus', 'schoolreopeningisamistake']\", \"['yeah', 'trumps', 'best', 'dude', 'biden', 'isn’t', 'great', 'either', 'man', 'either', 'way', 'we’re', 'fucked']\", \"['sure', 'peacefully', 'protesting', 'violence', 'tyrannical', 'state', 'never', 'ends', 'violence', 'said', 'state', 'may', 'want', 'learn', 'terrorism', 'applies', 'donald', 'trump', 'also', 'traitor', 'predecessors', 'protesters']\", \"['could', 'trump', 'done', 'would', 'praise', 'dont', 'answer', 'point', 'moot']\", \"['agree', 'one', 'well', 'done', 'mlb', 'players', 'whether', 'it’s', 'obama', 'trump', 'whomever', 'holds', 'office', 'it’s', 'done']\", \"['actually', 'obama', 'want', 'appear', 'though', 'trying', 'influence', 'election', 'show', 'bias', 'former', 'president', 'wanted', 'american', 'people', 'decide', 'don’t', 'listen', 'trump’s', 'made', 'fairytales']\", \"['trump', 'thinks', 'higher', 'home', 'prices', 'good', 'us', 'ask', 'someone', 'trying', 'buy', 'first', 'home']\", \"['darn', 'hoping', 'barron', 'would', 'canary', 'coal', 'mine', 'cnn', 'msnbc']\", \"['trump', 'lost', 'silent', 'majority', 'thats', 'independents']\", \"['still', 'dont', 'get', 'progressives', 'hysteria', 'goya', 'goyagate', 'outrage', 'ceo', 'recognized', 'donating', 'cans', 'food', 'poor', 'hungry', 'brief', 'talk', 'said', 'sentence', 'praising', 'trump', 'guy', 'thing', 'obama']\", \"['lordy', 'kn', 'team', 'thought', 'good', 'idea', 'way', 'hell', 'let', 'debate', 'trump', 'way']\", \"['starting', 'plan', 'steal', 'election', 'november', 'hinges', 'dems', 'msm', 'report', 'fake', 'vote', 'tallies', 'give', 'victory', 'biden', 'won’t', 'allow', 'trump', 'air', 'time', 'say', 'refusing', 'leave', 'office']\", \"['nonsensical', 'almost', 'looked', 'like', 'trump', 'tweet']\", \"['crime', 'exactly', 'political', 'opponent', 'trump', 'may', 'want', 'try', 'living', 'russia', 'support', 'practice']\", \"['simply', 'mistaken', 'trump', 'biden', 'maybe', 'question']\", \"['course', 'biden’s', 'family', 'needs', 'money']\", \"['dear', 'democrats', 'you’re', 'hanging', 'trump’s', 'sympathy', 'pediphile', 'pimp', 'praise', 'supporters', 'chanting', '“white', 'power”', 'around', 'necks', 'trump', 'loving', 'opponents', 'x', 'day', 'you’re', 'wrong']\", \"['trump', 'tries', 'link', 'covid', 'surge', 'black', 'lives', 'matter', 'protests', 'via']\", \"['joe', 'biden', 'fingered', 'poor', 'womans', 'vagaina', 'finger', 'raped', 'metoo']\", \"['womans', 'story', 'already', 'falling', 'apart', 'sure', 'makes', 'look', 'like', 'fool', 'democrat', 'trump']\", \"['trump', 'says', 'something', 'ridiculous', 'stupid', 'everyday', 'want', 'tweet', 'obama', 'lol', 'y’all', 'comical']\", \"['virtual', 'campaigning', 'means', 'trump', 'biden']\", \"['agree', 'meant', 'victim', 'sexual', 'abuse', 'dont', 'get', 'amp', 'supports', 'trump']\", \"['donald', 'trump', 'boondoggle']\", \"['president', 'trump', 'freenikki', 'sign', 'petition', 'via']\", \"['happening', 'usa', 'trump’s', 'america', 'trump', 'owns', 'poor', 'families', 'supposed', 'care', 'family', 'members', 'dying', 'covid', 'get', 'sad', 'makes', 'soooo', 'mad']\", \"['whatever', 'happened', 'wall', 'trump', 'promised', 'everyone', 'serious', 'question', 'thinkingatpfchangs']\", \"['trump', 'get', 'crying', 'towels', 'ready']\", \"['raise', 'hand', 'think', 'sinking', 'petty', 'infantile', 'trump', 'stupid', 'way', 'counter', 'moment']\", \"['cant', 'wait', 'see', 'military', 'commander', 'assigned', 'evict', 'trump', 'white', 'house']\", \"['even', 'worse', 'part', 'really', 'bothered', 'later', 'laughed', 'even', 'twitter', 'would', 'ban', 'trump', 'still', 'wasnt', 'funny']\", \"['like', 'dad', 'continue', 'repeat', 'lies', 'since', 'nothing', 'else', 'doesnt', 'support', 'welfare', 'immigrants', 'either', 'mob', 'one', 'dad', 'running']\", \"['one', 'thing', 'clear', 'trump', 'pissed', 'fauci', 'throwing', 'first', 'pitch', 'bring', 'closer', 'presser']\", \"['favorite', 'chant', 'today’s', 'protest', 'greenwood', '“fuck', 'trump', 'fuck', 'kkk', 'fuck', 'fascist', 'usa”']\", \"['turn', 'around', 'stunning', 'gifted', 'beautiful', 'trajectory', 'president', 'obama', 'leaving', 'another', 'republican', 'pile', 'smoldering', 'wreckage', 'biden', 'extinguish', 'least', 'biden', 'experience', 'helping', 'obama', 'repair', 'bush', 'recession']\", \"['watched', 'fear', 'city', 'last', 'night', 'netflix', 'episode', 'hear', 'trumps', 'name', 'alot', 'also', 'good', 'old', 'rudy', 'g', 'sdny', 'back']\", \"['trump']\", \"['kind', 'loselose', 'justice', 'although', 'anything', 'undermines', 'trump', 'projustice']\", \"['trump', 'biggest', 'baby', 'time']\", \"['cancelling', 'trump', 'rally', 'would', 'boosted', 'economy']\", \"['donald', 'trump', 'first', 'racist', 'president', 'joe', 'biden', 'second', 'guess', 'lmao']\", \"['whitney', 'little', 'bitch', 'snowflake', 'republican', 'lawmaker', 'asks', 'trump', 'send', 'federal', 'agents', 'denver']\", \"['thats', 'question', 'like', 'trump', 'sending', 'guys', 'chicago', 'wtf', 'guys', 'gonna', 'chicago', 'real', 'riots', 'happen', 'united', 'states', 'put', 'hundreds', 'thousands', 'men', 'ground', 'allied', 'locals', 'countries', 'couldnt', 'quell', 'iraq']\", \"['say', 'need', 'list', 'reasons', 'trump', 'despised', '•', 'lies', '•', 'using', 'govt', 'enrich', 'self', '•', 'sexual', 'accusations', 'backed', 'trumps', 'words', '•', 'quid', 'pro', 'quo', 'proven', 'via', 'bolton', '•', 'conduct', 'unbecoming', 'president', '•', 'obvious', 'kowtow', 'putin', 'go', 'detail']\", \"['received', 'mary', 'trump’s', 'book', 'today', 'reading', 'well', 'written', 'delves', 'background', 'trump', 'family', 'member', 'meghan', 'mccain’s', 'comments', 'quite', 'abrasive', 'highly', 'recommend', 'reads', 'book']\", \"['joe', 'biden', 'goes', 'wild', 'tangent', 'basically', 'accuses', 'americans', 'stupid', 'racist']\", \"['oh', 'god', 'guys', 'there’s', 'album', 'called', 'maga', 'szn', 'donald', 'trump', 'rap', 'album', 'year', 'old', 'racist']\", \"['arizona', 'needs', 'governor', 'listens', 'someone', 'trump', 'making', 'decisions', 'wise', 'safe', 'students', 'staff', 'families', 'azteacherproblems', 'votethemallout', 'votebluetosaveamerica']\", \"['trump', 'getting', 'orders', 'putin', 'hence', 'calls', 'trump', 'anything', 'go', 'prison', 'care', 'america', 'americans']\", \"['also', 'teargassed', 'mayor', 'fascism', 'stop', 'vote', 'biden', 'vote', 'anyone', 'else', 'vote', 'trump', 'vote', 'gop', 'top', 'bottom', 'trumpisatraitor', 'gopcomplicittraitors']\", \"['don’t', 'think', 'enough', 'americans', 'understand', 'happening', 'country', 'witnessing', 'fascist', 'seize', 'power', 'way', 'hitler', 'germany', 'stand', 'w', 'trump', 'aiding', 'abetting', 'country’s', 'destruction', 'speaking', 'enabling', 'country’s', 'demise']\", \"['wasn’t', 'infiltrating', 'anyone', 'bill', 'clinton', 'pedophile', 'fuck', 'can’t', 'wrap', 'head', 'around', 'idea', 'leader', 'isn’t', 'man', 'chan', 'says']\", \"['nan']\", \"['knew', 'erik', 'princes', 'low', 'life', 'guestpo', 'riot', 'bunch', 'fasism', 'trumps', 'push', 'dictatorship', 'trump', 'barr', 'guestpo', 'destroying', 'nation', 'riots', 'period']\", \"['yay', 'ms', 'trumpi', 'glad', 'read', 'book', 'sheds', 'light', 'collective', 'situation']\", \"['trump', 'really', 'stupid', 'right', 'moment', 'done', 'trump', 'playing', 'right', 'hands', 'half', 'population', 'mote', 'die', 'vaccine', 'guaranteed']\", \"['effin', 'moron']\", \"['way', 'activists', 'come', 'town', 'trump', 'didnt', 'even', 'need', 'send', 'secret', 'police']\", \"['oh', 'antifa', 'superterrorists', 'going', 'blow', 'air', 'suburbs', 'lord', 'trump', 'save', 'nation', 'marxists']\", \"['paranoia', 'real', 'donnie', 'biden', 'destroy', 'un', 'american', 'dream', 'fucking', 'glorious']\", \"['would', 'great', 'karma', 'see', 'trump', 'black', 'gay', 'woman', 'poor']\", \"['trump', 'sending', 'federal', 'troops', 'portland', 'chicago', 'kind', 'like', 'realizing', 'kids', 'arent', 'yet', 'old', 'enough', 'leave', 'home', 'go', 'grocery', 'store', 'hire', 'babysitter', 'youre', 'quite', 'ready', 'freedom', 'portland', 'still', 'growing']\", \"['opinion', 'details', 'trump’s', 'brain', 'test']\", \"['love', 'media', 'freaking', 'swing', 'voters', 'gonna', 'see', 'relieved', 'biden', 'isnt', 'one', 'far', 'left', 'nuts']\", \"['think', 'cops', 'fash', 'enough', 'disobey', 'civilian', 'leadership', 'may', 'also', 'come', 'trump', 'loses', 'election', 'refuses', 'vacate', 'whitehouse', 'like', 'us', 'marshalls', 'service', 'going', 'fight', 'secret', 'service']\", \"['another', 'example', 'trump', 'criminal', 'conman', 'extortionist', 'sociopath', 'voted', 'tweet', 'much', 'needed', 'allies', '“socalled”', 'allies', 'pathetic', 'beneath', 'dignity', 'office', 'despise', 'trump', 'amp', 'know', 'he’s', 'unbalanced', 'unstable']\", \"['trump', 'orbit', 'nothing', 'unimaginable']\", \"['im', 'disappointed', 'surprised', 'melania', 'trump', 'remember', 'way', 'back', 'advocated', 'bullying', 'schools', 'political', 'ploy', 'suspect', 'really', 'dont', 'care', 'us', 'aboutface', 'many', 'issues', 'mean', 'squat']\", \"['interviewer', 'amp', 'keep', 'scheduling', 'interviews', 'outside', 'july', 'dc', 'trumps', 'face', 'literally', 'melting', 'doesnt', 'wear', 'mask', 'thisll', 'good', 'q', 'trump', 'asked', 'bc', 'havent', 'heard', 'guy', 'ask', 'single', 'q', 'yet']\", \"['thats', 'alluding', 'protests', 'become', 'convoluted', 'violence', 'amp', 'looting', 'takes', 'focus', 'police', 'abuse', 'amp', 'trump', 'uses', 'inflame', 'base', 'doesnt', 'effect', 'politicians', 'directly', 'enough', 'flooding', 'phones', 'amp', 'offices', 'real', 'old', 'school', 'presence']\"]\n"
     ]
    }
   ],
   "source": [
    "\n",
    "# initialising stemmer and lemmatizer\n",
    "stemmer = PorterStemmer()\n",
    "lemmatizer = WordNetLemmatizer()\n",
    "\n",
    "# stemming\n",
    "stemmed_words = [stemmer.stem(token) for token in tokens]\n",
    "\n",
    "# lemmatization\n",
    "lemmatized_words = [lemmatizer.lemmatize(token) for token in tokens]\n",
    "\n",
    "\n",
    "print(\"Stemmed Tokens:\", stemmed_words)\n",
    "print(\"Lemmatized Tokens:\", lemmatized_words)\n",
    "tokens = lemmatized_words"
   ]
  },
  {
   "cell_type": "markdown",
   "metadata": {},
   "source": [
    "# Analysis"
   ]
  },
  {
   "cell_type": "markdown",
   "metadata": {},
   "source": [
    "1. Bag of words "
   ]
  },
  {
   "cell_type": "code",
   "execution_count": 67,
   "metadata": {},
   "outputs": [
    {
     "data": {
      "text/plain": [
       "Counter({\"['since', 'trump', 'cancelled', 'convention', 'jacksonville', 'due', 'health', 'concerns', 'lets', 'see', 'hypocrite', 'followers', 'say', 'wonderful', 'care', 'health', 'theyve', 'bitching', 'stuff', 'closed', 'cancelled', 'corona', 'hoax', 'time']\": 1,\n",
       "         \"['year', 'old', 'died', 'florida', 'covid', 'week', 'know', 'don’t', 'give', 'shit', 'it’s', 'kid', 'kid', 'won’t', 'attending', 'school', 'matter', 'trump', 'dumbass', 'cult', 'say']\": 1,\n",
       "         \"['trump', 'decides', 'won’t', 'leave', 'white', 'house', 'leave', 'melanie', 'doesn’t', 'kill', 'let', 'wander', 'around', 'mutter', 'perfect', 'set', 'biden', 'legitimate', 'thoughtful', 'government', 'elsewhere', 'let’s', 'put', 'barr']\": 1,\n",
       "         \"['ao', 'trump', 'virus', 'skank', 'flu']\": 1,\n",
       "         \"['two', 'seconds', 'spend', 'trying', 'ace', 'quiz', 'time', 'tho', 'put', 'shit', 'trump’s', 'walter', 'reed', 'test']\": 1,\n",
       "         \"['poor', 'fact', 'checking', 'according', 'sources', 'january', 'made', 'general', 'statements', 'derogatory', 'president', 'trump']\": 1,\n",
       "         \"['goya', 'bean', 'claps', 'back', 'ivanka', 'trump', 'via']\": 1,\n",
       "         \"['add', 'sabotage', 'corruption', 'grifting', 'downright', 'destruction', 'government', 'trump', 'small', 'businesses', 'count', 'usps', 'especially', 'gopcomplicittraitors', 'trumpthreatensamerica']\": 1,\n",
       "         \"['declassified', 'documents', 'show', 'fbi', 'used', '‘defensive’', 'briefing', 'spy', 'donald', 'trump', 'one', 'must', 'ask', 'question', 'wray', 'still', 'done', 'nothing', 'abuse', 'power', 'within', 'agency', 'watergate', 'steroids']\": 1,\n",
       "         \"['video', 'america', 'trying', 'get', 'washed', 'game', 'show', 'host', 'turned', 'wannabe', 'dictator', 'way', 'bidens', 'america', 'anywhere', 'bad', 'youre', 'threatening', 'make', 'way', 'youre']\": 1,\n",
       "         \"['trump', 'selfish', 'narcissistic', 'person', 'world', 'gopcomplicittraitors']\": 1,\n",
       "         \"['united', 'states', 'recorded', 'deaths', 'fourth', 'day', 'row', 'first', 'fourday', 'streak', 'since', 'early', 'june', 'meanwhile', 'trump', 'golfing', 'trumpisanationaldisgrace']\": 1,\n",
       "         \"['many', 'people', 'gloating', 'trump', 'pulling', 'plug', 'rnc', 'jacksonville', 'really', 'shows', 'care', 'trump', 'gop', 'looking', 'bad', 'anything', 'else']\": 1,\n",
       "         \"['fair', 'hoover', 'decent', 'man', 'trump']\": 1,\n",
       "         \"['mustsee', 'trump', 'humiliates', 'explaining', 'cognitive', 'test', 'interviewe', 'via']\": 1,\n",
       "         \"['struggling', 'trump', 'definitely', 'endorsed', 'i’m', 'sure', 'manny', 'picture']\": 1,\n",
       "         \"['rip', 'qa', 'mean', 'trump', 'supporters']\": 1,\n",
       "         \"['white', 'house', 'wont', 'get', 'whether', 'trump', 'talked', 'putin', 'russian', 'bounties', 'kill', 'us', 'soldiers']\": 1,\n",
       "         \"['joebiden', 'wins', 'real', 'civil', 'war', 'begins', 'way', 'joebiden', 'win', 'voter', 'fraud', 'democrat', 'leaders', 'pushing', 'mailinballots', 'democrats', 'latest', 'path', 'subversion', 'good', 'news', 'election', 'disputed', 'therefore', 'trump', 'remain']\": 1,\n",
       "         \"['everything', 'he’s', 'saying', 'lies', 'donald', 'trump', 'change', 'mind', 'would', 'take', 'admit', 'wrong', 'everything', 'he’s', 'polls']\": 1,\n",
       "         \"['americans', 'dying', 'daily', 'americans', 'rounded', 'traitor', 'trumps', 'secret', 'police', 'squad', 'say', 'didnt', 'think', 'would', 'bad', 'fascism', 'rampant', 'stupidity', 'want', 'nightmare', 'voted', 'prevent', 'shit']\": 1,\n",
       "         \"['trump', 'america', 'people', 'dont', 'respect', 'people']\": 1,\n",
       "         \"['it’s', 'job', 'trump', 'qualified', 'trumpthedisaster']\": 1,\n",
       "         \"['yes', 'don’t', 'biden', 'ruin', 'country', 'won’t', 'great', 'like']\": 1,\n",
       "         \"['trumps', 'fine', 'biden', 'worried']\": 1,\n",
       "         \"['remember', 'federal', 'invading', 'army', 'comprised', 'private', 'security', 'contractors', 'educated', 'professionally', 'trained', 'police', 'barr', 'amp', 'trump', 'started', 'operation', 'june', 'th']\": 1,\n",
       "         \"['tonight', 'trumps', 'border', 'patrol', 'took', 'portland', 'oregon', 'street', 'firstamendment', 'portlandstrong']\": 1,\n",
       "         \"['china', 'fine', 'job', 'manipulating', 'trump', 'didn’t', 'can’t', 'legislate', 'stupidity', 'away']\": 1,\n",
       "         \"['private', 'school', 'donald', 'trumps', 'son', 'goes', 'wont', 'opening', 'inperson', 'instruction', 'year', 'hmm', 'trumpvirus', 'schoolreopeningisamistake']\": 1,\n",
       "         \"['yeah', 'trumps', 'best', 'dude', 'biden', 'isn’t', 'great', 'either', 'man', 'either', 'way', 'we’re', 'fucked']\": 1,\n",
       "         \"['sure', 'peacefully', 'protesting', 'violence', 'tyrannical', 'state', 'never', 'ends', 'violence', 'said', 'state', 'may', 'want', 'learn', 'terrorism', 'applies', 'donald', 'trump', 'also', 'traitor', 'predecessors', 'protesters']\": 1,\n",
       "         \"['could', 'trump', 'done', 'would', 'praise', 'dont', 'answer', 'point', 'moot']\": 1,\n",
       "         \"['agree', 'one', 'well', 'done', 'mlb', 'players', 'whether', 'it’s', 'obama', 'trump', 'whomever', 'holds', 'office', 'it’s', 'done']\": 1,\n",
       "         \"['actually', 'obama', 'want', 'appear', 'though', 'trying', 'influence', 'election', 'show', 'bias', 'former', 'president', 'wanted', 'american', 'people', 'decide', 'don’t', 'listen', 'trump’s', 'made', 'fairytales']\": 1,\n",
       "         \"['trump', 'thinks', 'higher', 'home', 'prices', 'good', 'us', 'ask', 'someone', 'trying', 'buy', 'first', 'home']\": 1,\n",
       "         \"['darn', 'hoping', 'barron', 'would', 'canary', 'coal', 'mine', 'cnn', 'msnbc']\": 1,\n",
       "         \"['trump', 'lost', 'silent', 'majority', 'thats', 'independents']\": 1,\n",
       "         \"['still', 'dont', 'get', 'progressives', 'hysteria', 'goya', 'goyagate', 'outrage', 'ceo', 'recognized', 'donating', 'cans', 'food', 'poor', 'hungry', 'brief', 'talk', 'said', 'sentence', 'praising', 'trump', 'guy', 'thing', 'obama']\": 1,\n",
       "         \"['lordy', 'kn', 'team', 'thought', 'good', 'idea', 'way', 'hell', 'let', 'debate', 'trump', 'way']\": 1,\n",
       "         \"['starting', 'plan', 'steal', 'election', 'november', 'hinges', 'dems', 'msm', 'report', 'fake', 'vote', 'tallies', 'give', 'victory', 'biden', 'won’t', 'allow', 'trump', 'air', 'time', 'say', 'refusing', 'leave', 'office']\": 1,\n",
       "         \"['nonsensical', 'almost', 'looked', 'like', 'trump', 'tweet']\": 1,\n",
       "         \"['crime', 'exactly', 'political', 'opponent', 'trump', 'may', 'want', 'try', 'living', 'russia', 'support', 'practice']\": 1,\n",
       "         \"['simply', 'mistaken', 'trump', 'biden', 'maybe', 'question']\": 1,\n",
       "         \"['course', 'biden’s', 'family', 'needs', 'money']\": 1,\n",
       "         \"['dear', 'democrats', 'you’re', 'hanging', 'trump’s', 'sympathy', 'pediphile', 'pimp', 'praise', 'supporters', 'chanting', '“white', 'power”', 'around', 'necks', 'trump', 'loving', 'opponents', 'x', 'day', 'you’re', 'wrong']\": 1,\n",
       "         \"['trump', 'tries', 'link', 'covid', 'surge', 'black', 'lives', 'matter', 'protests', 'via']\": 1,\n",
       "         \"['joe', 'biden', 'fingered', 'poor', 'womans', 'vagaina', 'finger', 'raped', 'metoo']\": 1,\n",
       "         \"['womans', 'story', 'already', 'falling', 'apart', 'sure', 'makes', 'look', 'like', 'fool', 'democrat', 'trump']\": 1,\n",
       "         \"['trump', 'says', 'something', 'ridiculous', 'stupid', 'everyday', 'want', 'tweet', 'obama', 'lol', 'y’all', 'comical']\": 1,\n",
       "         \"['virtual', 'campaigning', 'means', 'trump', 'biden']\": 1,\n",
       "         \"['agree', 'meant', 'victim', 'sexual', 'abuse', 'dont', 'get', 'amp', 'supports', 'trump']\": 1,\n",
       "         \"['donald', 'trump', 'boondoggle']\": 1,\n",
       "         \"['president', 'trump', 'freenikki', 'sign', 'petition', 'via']\": 1,\n",
       "         \"['happening', 'usa', 'trump’s', 'america', 'trump', 'owns', 'poor', 'families', 'supposed', 'care', 'family', 'members', 'dying', 'covid', 'get', 'sad', 'makes', 'soooo', 'mad']\": 1,\n",
       "         \"['whatever', 'happened', 'wall', 'trump', 'promised', 'everyone', 'serious', 'question', 'thinkingatpfchangs']\": 1,\n",
       "         \"['trump', 'get', 'crying', 'towels', 'ready']\": 1,\n",
       "         \"['raise', 'hand', 'think', 'sinking', 'petty', 'infantile', 'trump', 'stupid', 'way', 'counter', 'moment']\": 1,\n",
       "         \"['cant', 'wait', 'see', 'military', 'commander', 'assigned', 'evict', 'trump', 'white', 'house']\": 1,\n",
       "         \"['even', 'worse', 'part', 'really', 'bothered', 'later', 'laughed', 'even', 'twitter', 'would', 'ban', 'trump', 'still', 'wasnt', 'funny']\": 1,\n",
       "         \"['like', 'dad', 'continue', 'repeat', 'lies', 'since', 'nothing', 'else', 'doesnt', 'support', 'welfare', 'immigrants', 'either', 'mob', 'one', 'dad', 'running']\": 1,\n",
       "         \"['one', 'thing', 'clear', 'trump', 'pissed', 'fauci', 'throwing', 'first', 'pitch', 'bring', 'closer', 'presser']\": 1,\n",
       "         \"['favorite', 'chant', 'today’s', 'protest', 'greenwood', '“fuck', 'trump', 'fuck', 'kkk', 'fuck', 'fascist', 'usa”']\": 1,\n",
       "         \"['turn', 'around', 'stunning', 'gifted', 'beautiful', 'trajectory', 'president', 'obama', 'leaving', 'another', 'republican', 'pile', 'smoldering', 'wreckage', 'biden', 'extinguish', 'least', 'biden', 'experience', 'helping', 'obama', 'repair', 'bush', 'recession']\": 1,\n",
       "         \"['watched', 'fear', 'city', 'last', 'night', 'netflix', 'episode', 'hear', 'trumps', 'name', 'alot', 'also', 'good', 'old', 'rudy', 'g', 'sdny', 'back']\": 1,\n",
       "         \"['trump']\": 1,\n",
       "         \"['kind', 'loselose', 'justice', 'although', 'anything', 'undermines', 'trump', 'projustice']\": 1,\n",
       "         \"['trump', 'biggest', 'baby', 'time']\": 1,\n",
       "         \"['cancelling', 'trump', 'rally', 'would', 'boosted', 'economy']\": 1,\n",
       "         \"['donald', 'trump', 'first', 'racist', 'president', 'joe', 'biden', 'second', 'guess', 'lmao']\": 1,\n",
       "         \"['whitney', 'little', 'bitch', 'snowflake', 'republican', 'lawmaker', 'asks', 'trump', 'send', 'federal', 'agents', 'denver']\": 1,\n",
       "         \"['thats', 'question', 'like', 'trump', 'sending', 'guys', 'chicago', 'wtf', 'guys', 'gonna', 'chicago', 'real', 'riots', 'happen', 'united', 'states', 'put', 'hundreds', 'thousands', 'men', 'ground', 'allied', 'locals', 'countries', 'couldnt', 'quell', 'iraq']\": 1,\n",
       "         \"['say', 'need', 'list', 'reasons', 'trump', 'despised', '•', 'lies', '•', 'using', 'govt', 'enrich', 'self', '•', 'sexual', 'accusations', 'backed', 'trumps', 'words', '•', 'quid', 'pro', 'quo', 'proven', 'via', 'bolton', '•', 'conduct', 'unbecoming', 'president', '•', 'obvious', 'kowtow', 'putin', 'go', 'detail']\": 1,\n",
       "         \"['received', 'mary', 'trump’s', 'book', 'today', 'reading', 'well', 'written', 'delves', 'background', 'trump', 'family', 'member', 'meghan', 'mccain’s', 'comments', 'quite', 'abrasive', 'highly', 'recommend', 'reads', 'book']\": 1,\n",
       "         \"['joe', 'biden', 'goes', 'wild', 'tangent', 'basically', 'accuses', 'americans', 'stupid', 'racist']\": 1,\n",
       "         \"['oh', 'god', 'guys', 'there’s', 'album', 'called', 'maga', 'szn', 'donald', 'trump', 'rap', 'album', 'year', 'old', 'racist']\": 1,\n",
       "         \"['arizona', 'needs', 'governor', 'listens', 'someone', 'trump', 'making', 'decisions', 'wise', 'safe', 'students', 'staff', 'families', 'azteacherproblems', 'votethemallout', 'votebluetosaveamerica']\": 1,\n",
       "         \"['trump', 'getting', 'orders', 'putin', 'hence', 'calls', 'trump', 'anything', 'go', 'prison', 'care', 'america', 'americans']\": 1,\n",
       "         \"['also', 'teargassed', 'mayor', 'fascism', 'stop', 'vote', 'biden', 'vote', 'anyone', 'else', 'vote', 'trump', 'vote', 'gop', 'top', 'bottom', 'trumpisatraitor', 'gopcomplicittraitors']\": 1,\n",
       "         \"['don’t', 'think', 'enough', 'americans', 'understand', 'happening', 'country', 'witnessing', 'fascist', 'seize', 'power', 'way', 'hitler', 'germany', 'stand', 'w', 'trump', 'aiding', 'abetting', 'country’s', 'destruction', 'speaking', 'enabling', 'country’s', 'demise']\": 1,\n",
       "         \"['wasn’t', 'infiltrating', 'anyone', 'bill', 'clinton', 'pedophile', 'fuck', 'can’t', 'wrap', 'head', 'around', 'idea', 'leader', 'isn’t', 'man', 'chan', 'says']\": 1,\n",
       "         \"['nan']\": 1,\n",
       "         \"['knew', 'erik', 'princes', 'low', 'life', 'guestpo', 'riot', 'bunch', 'fasism', 'trumps', 'push', 'dictatorship', 'trump', 'barr', 'guestpo', 'destroying', 'nation', 'riots', 'period']\": 1,\n",
       "         \"['yay', 'ms', 'trumpi', 'glad', 'read', 'book', 'sheds', 'light', 'collective', 'situation']\": 1,\n",
       "         \"['trump', 'really', 'stupid', 'right', 'moment', 'done', 'trump', 'playing', 'right', 'hands', 'half', 'population', 'mote', 'die', 'vaccine', 'guaranteed']\": 1,\n",
       "         \"['effin', 'moron']\": 1,\n",
       "         \"['way', 'activists', 'come', 'town', 'trump', 'didnt', 'even', 'need', 'send', 'secret', 'police']\": 1,\n",
       "         \"['oh', 'antifa', 'superterrorists', 'going', 'blow', 'air', 'suburbs', 'lord', 'trump', 'save', 'nation', 'marxists']\": 1,\n",
       "         \"['paranoia', 'real', 'donnie', 'biden', 'destroy', 'un', 'american', 'dream', 'fucking', 'glorious']\": 1,\n",
       "         \"['would', 'great', 'karma', 'see', 'trump', 'black', 'gay', 'woman', 'poor']\": 1,\n",
       "         \"['trump', 'sending', 'federal', 'troops', 'portland', 'chicago', 'kind', 'like', 'realizing', 'kids', 'arent', 'yet', 'old', 'enough', 'leave', 'home', 'go', 'grocery', 'store', 'hire', 'babysitter', 'youre', 'quite', 'ready', 'freedom', 'portland', 'still', 'growing']\": 1,\n",
       "         \"['opinion', 'details', 'trump’s', 'brain', 'test']\": 1,\n",
       "         \"['love', 'media', 'freaking', 'swing', 'voters', 'gonna', 'see', 'relieved', 'biden', 'isnt', 'one', 'far', 'left', 'nuts']\": 1,\n",
       "         \"['think', 'cops', 'fash', 'enough', 'disobey', 'civilian', 'leadership', 'may', 'also', 'come', 'trump', 'loses', 'election', 'refuses', 'vacate', 'whitehouse', 'like', 'us', 'marshalls', 'service', 'going', 'fight', 'secret', 'service']\": 1,\n",
       "         \"['another', 'example', 'trump', 'criminal', 'conman', 'extortionist', 'sociopath', 'voted', 'tweet', 'much', 'needed', 'allies', '“socalled”', 'allies', 'pathetic', 'beneath', 'dignity', 'office', 'despise', 'trump', 'amp', 'know', 'he’s', 'unbalanced', 'unstable']\": 1,\n",
       "         \"['trump', 'orbit', 'nothing', 'unimaginable']\": 1,\n",
       "         \"['im', 'disappointed', 'surprised', 'melania', 'trump', 'remember', 'way', 'back', 'advocated', 'bullying', 'schools', 'political', 'ploy', 'suspect', 'really', 'dont', 'care', 'us', 'aboutface', 'many', 'issues', 'mean', 'squat']\": 1,\n",
       "         \"['interviewer', 'amp', 'keep', 'scheduling', 'interviews', 'outside', 'july', 'dc', 'trumps', 'face', 'literally', 'melting', 'doesnt', 'wear', 'mask', 'thisll', 'good', 'q', 'trump', 'asked', 'bc', 'havent', 'heard', 'guy', 'ask', 'single', 'q', 'yet']\": 1,\n",
       "         \"['thats', 'alluding', 'protests', 'become', 'convoluted', 'violence', 'amp', 'looting', 'takes', 'focus', 'police', 'abuse', 'amp', 'trump', 'uses', 'inflame', 'base', 'doesnt', 'effect', 'politicians', 'directly', 'enough', 'flooding', 'phones', 'amp', 'offices', 'real', 'old', 'school', 'presence']\": 1})"
      ]
     },
     "execution_count": 67,
     "metadata": {},
     "output_type": "execute_result"
    }
   ],
   "source": [
    "def bag_of_words(tokens):\n",
    "    return Counter(tokens)\n",
    "\n",
    "bag_of_words(tokens)"
   ]
  },
  {
   "cell_type": "markdown",
   "metadata": {},
   "source": [
    "# Modelling"
   ]
  },
  {
   "cell_type": "code",
   "execution_count": 68,
   "metadata": {},
   "outputs": [
    {
     "name": "stderr",
     "output_type": "stream",
     "text": [
      "2024-03-24 10:49:44,374 - BERTopic - Embedding - Transforming documents to embeddings.\n",
      "Batches: 100%|██████████| 4/4 [00:00<00:00, 24.35it/s]\n",
      "2024-03-24 10:49:45,807 - BERTopic - Embedding - Completed ✓\n",
      "2024-03-24 10:49:45,807 - BERTopic - Dimensionality - Fitting the dimensionality reduction algorithm\n",
      "2024-03-24 10:49:51,103 - BERTopic - Dimensionality - Completed ✓\n",
      "2024-03-24 10:49:51,104 - BERTopic - Cluster - Start clustering the reduced embeddings\n",
      "2024-03-24 10:49:51,125 - BERTopic - Cluster - Completed ✓\n",
      "2024-03-24 10:49:51,126 - BERTopic - Representation - Extracting topics from clusters using representation models.\n",
      "2024-03-24 10:49:51,148 - BERTopic - Representation - Completed ✓\n",
      "2024-03-24 10:49:51,149 - BERTopic - Topic reduction - Reducing number of topics\n",
      "2024-03-24 10:49:51,151 - BERTopic - Topic reduction - Reduced number of topics from 1 to 1\n"
     ]
    }
   ],
   "source": [
    "# preparing embeddings\n",
    "sentence_model = SentenceTransformer(\"paraphrase-MiniLM-L3-v2\")\n",
    "embeddings = sentence_model.encode(tokens, show_progress_bar=False)\n",
    "\n",
    "# training BERTopic\n",
    "model = BERTopic(verbose=True, embedding_model='paraphrase-MiniLM-L3-v2', min_topic_size=16, nr_topics=11)\n",
    "review_topics, _ = model.fit_transform(tokens)\n",
    "\n",
    "# running the visualization with the original embeddings\n",
    "model.visualize_documents(tokens, embeddings=embeddings)\n",
    "\n",
    "# reducing dimensionality of embeddings\n",
    "reduced_embeddings = UMAP(n_neighbors=10, n_components=2, min_dist=0.0, metric='cosine').fit_transform(embeddings)\n",
    "\n"
   ]
  },
  {
   "cell_type": "code",
   "execution_count": 75,
   "metadata": {},
   "outputs": [
    {
     "name": "stderr",
     "output_type": "stream",
     "text": [
      "Batches: 100%|██████████| 4/4 [00:01<00:00,  3.52it/s]\n",
      "2024-03-24 10:51:21,379 - BERTopic - Dimensionality - Reducing dimensionality of input embeddings.\n",
      "2024-03-24 10:51:21,388 - BERTopic - Dimensionality - Completed ✓\n",
      "2024-03-24 10:51:21,389 - BERTopic - Clustering - Approximating new points with `hdbscan_model`\n",
      "2024-03-24 10:51:21,392 - BERTopic - Cluster - Completed ✓\n"
     ]
    },
    {
     "name": "stdout",
     "output_type": "stream",
     "text": [
      "Cosine Similarity Matrix:\n",
      "[[1. 0.]\n",
      " [0. 0.]]\n"
     ]
    }
   ],
   "source": [
    "from sklearn.metrics.pairwise import cosine_similarity\n",
    "\n",
    "# get topic vectors\n",
    "topic_vectors = model.transform(tokens)\n",
    "\n",
    "# compute cosine similarity matrix\n",
    "cosine_sim_matrix = cosine_similarity(topic_vectors)\n",
    "\n",
    "# Display the similarity matrix\n",
    "print(\"Cosine Similarity Matrix:\")\n",
    "print(cosine_sim_matrix)"
   ]
  },
  {
   "cell_type": "code",
   "execution_count": 70,
   "metadata": {},
   "outputs": [
    {
     "data": {
      "application/vnd.plotly.v1+json": {
       "config": {
        "plotlyServerURL": "https://plotly.com"
       },
       "data": [
        {
         "hoverinfo": "text",
         "hovertext": [
          "['think', 'cops', 'fash', 'enough', 'disobey', 'civilian', 'leadership', 'may', 'also', 'come', 'trump', 'loses', 'election', 'refuses', 'vacate', 'whitehouse', 'like', 'us', 'marshalls', 'service', 'going', 'fight', 'secret', 'service']",
          "['united', 'states', 'recorded', 'deaths', 'fourth', 'day', 'row', 'first', 'fourday', 'streak', 'since', 'early', 'june', 'meanwhile', 'trump', 'golfing', 'trumpisanationaldisgrace']",
          "['trump', 'sending', 'federal', 'troops', 'portland', 'chicago', 'kind', 'like', 'realizing', 'kids', 'arent', 'yet', 'old', 'enough', 'leave', 'home', 'go', 'grocery', 'store', 'hire', 'babysitter', 'youre', 'quite', 'ready', 'freedom', 'portland', 'still', 'growing']",
          "['since', 'trump', 'cancelled', 'convention', 'jacksonville', 'due', 'health', 'concerns', 'lets', 'see', 'hypocrite', 'followers', 'say', 'wonderful', 'care', 'health', 'theyve', 'bitching', 'stuff', 'closed', 'cancelled', 'corona', 'hoax', 'time']",
          "['ao', 'trump', 'virus', 'skank', 'flu']",
          "['poor', 'fact', 'checking', 'according', 'sources', 'january', 'made', 'general', 'statements', 'derogatory', 'president', 'trump']",
          "['trump', 'says', 'something', 'ridiculous', 'stupid', 'everyday', 'want', 'tweet', 'obama', 'lol', 'y’all', 'comical']",
          "['virtual', 'campaigning', 'means', 'trump', 'biden']",
          "['president', 'trump', 'freenikki', 'sign', 'petition', 'via']",
          "['trumps', 'fine', 'biden', 'worried']",
          "['raise', 'hand', 'think', 'sinking', 'petty', 'infantile', 'trump', 'stupid', 'way', 'counter', 'moment']",
          "['trump', 'really', 'stupid', 'right', 'moment', 'done', 'trump', 'playing', 'right', 'hands', 'half', 'population', 'mote', 'die', 'vaccine', 'guaranteed']",
          "['starting', 'plan', 'steal', 'election', 'november', 'hinges', 'dems', 'msm', 'report', 'fake', 'vote', 'tallies', 'give', 'victory', 'biden', 'won’t', 'allow', 'trump', 'air', 'time', 'say', 'refusing', 'leave', 'office']",
          "['trump', 'selfish', 'narcissistic', 'person', 'world', 'gopcomplicittraitors']",
          "['declassified', 'documents', 'show', 'fbi', 'used', '‘defensive’', 'briefing', 'spy', 'donald', 'trump', 'one', 'must', 'ask', 'question', 'wray', 'still', 'done', 'nothing', 'abuse', 'power', 'within', 'agency', 'watergate', 'steroids']",
          "['could', 'trump', 'done', 'would', 'praise', 'dont', 'answer', 'point', 'moot']",
          "['kind', 'loselose', 'justice', 'although', 'anything', 'undermines', 'trump', 'projustice']",
          "['even', 'worse', 'part', 'really', 'bothered', 'later', 'laughed', 'even', 'twitter', 'would', 'ban', 'trump', 'still', 'wasnt', 'funny']",
          "['trump', 'america', 'people', 'dont', 'respect', 'people']",
          "['whitney', 'little', 'bitch', 'snowflake', 'republican', 'lawmaker', 'asks', 'trump', 'send', 'federal', 'agents', 'denver']",
          "['darn', 'hoping', 'barron', 'would', 'canary', 'coal', 'mine', 'cnn', 'msnbc']",
          "['like', 'dad', 'continue', 'repeat', 'lies', 'since', 'nothing', 'else', 'doesnt', 'support', 'welfare', 'immigrants', 'either', 'mob', 'one', 'dad', 'running']",
          "['it’s', 'job', 'trump', 'qualified', 'trumpthedisaster']",
          "['one', 'thing', 'clear', 'trump', 'pissed', 'fauci', 'throwing', 'first', 'pitch', 'bring', 'closer', 'presser']",
          "['fair', 'hoover', 'decent', 'man', 'trump']",
          "['say', 'need', 'list', 'reasons', 'trump', 'despised', '•', 'lies', '•', 'using', 'govt', 'enrich', 'self', '•', 'sexual', 'accusations', 'backed', 'trumps', 'words', '•', 'quid', 'pro', 'quo', 'proven', 'via', 'bolton', '•', 'conduct', 'unbecoming', 'president', '•', 'obvious', 'kowtow', 'putin', 'go', 'detail']",
          "['oh', 'antifa', 'superterrorists', 'going', 'blow', 'air', 'suburbs', 'lord', 'trump', 'save', 'nation', 'marxists']",
          "['video', 'america', 'trying', 'get', 'washed', 'game', 'show', 'host', 'turned', 'wannabe', 'dictator', 'way', 'bidens', 'america', 'anywhere', 'bad', 'youre', 'threatening', 'make', 'way', 'youre']",
          "['struggling', 'trump', 'definitely', 'endorsed', 'i’m', 'sure', 'manny', 'picture']",
          "['knew', 'erik', 'princes', 'low', 'life', 'guestpo', 'riot', 'bunch', 'fasism', 'trumps', 'push', 'dictatorship', 'trump', 'barr', 'guestpo', 'destroying', 'nation', 'riots', 'period']",
          "['course', 'biden’s', 'family', 'needs', 'money']",
          "['nan']",
          "['favorite', 'chant', 'today’s', 'protest', 'greenwood', '“fuck', 'trump', 'fuck', 'kkk', 'fuck', 'fascist', 'usa”']",
          "['watched', 'fear', 'city', 'last', 'night', 'netflix', 'episode', 'hear', 'trumps', 'name', 'alot', 'also', 'good', 'old', 'rudy', 'g', 'sdny', 'back']",
          "['yes', 'don’t', 'biden', 'ruin', 'country', 'won’t', 'great', 'like']",
          "['turn', 'around', 'stunning', 'gifted', 'beautiful', 'trajectory', 'president', 'obama', 'leaving', 'another', 'republican', 'pile', 'smoldering', 'wreckage', 'biden', 'extinguish', 'least', 'biden', 'experience', 'helping', 'obama', 'repair', 'bush', 'recession']",
          "['received', 'mary', 'trump’s', 'book', 'today', 'reading', 'well', 'written', 'delves', 'background', 'trump', 'family', 'member', 'meghan', 'mccain’s', 'comments', 'quite', 'abrasive', 'highly', 'recommend', 'reads', 'book']",
          "['goya', 'bean', 'claps', 'back', 'ivanka', 'trump', 'via']",
          "['trump']",
          "['white', 'house', 'wont', 'get', 'whether', 'trump', 'talked', 'putin', 'russian', 'bounties', 'kill', 'us', 'soldiers']",
          "['trump', 'tries', 'link', 'covid', 'surge', 'black', 'lives', 'matter', 'protests', 'via']",
          "['agree', 'meant', 'victim', 'sexual', 'abuse', 'dont', 'get', 'amp', 'supports', 'trump']",
          "['everything', 'he’s', 'saying', 'lies', 'donald', 'trump', 'change', 'mind', 'would', 'take', 'admit', 'wrong', 'everything', 'he’s', 'polls']",
          "['im', 'disappointed', 'surprised', 'melania', 'trump', 'remember', 'way', 'back', 'advocated', 'bullying', 'schools', 'political', 'ploy', 'suspect', 'really', 'dont', 'care', 'us', 'aboutface', 'many', 'issues', 'mean', 'squat']",
          "['mustsee', 'trump', 'humiliates', 'explaining', 'cognitive', 'test', 'interviewe', 'via']",
          "['actually', 'obama', 'want', 'appear', 'though', 'trying', 'influence', 'election', 'show', 'bias', 'former', 'president', 'wanted', 'american', 'people', 'decide', 'don’t', 'listen', 'trump’s', 'made', 'fairytales']",
          "['lordy', 'kn', 'team', 'thought', 'good', 'idea', 'way', 'hell', 'let', 'debate', 'trump', 'way']",
          "['effin', 'moron']",
          "['nonsensical', 'almost', 'looked', 'like', 'trump', 'tweet']",
          "['many', 'people', 'gloating', 'trump', 'pulling', 'plug', 'rnc', 'jacksonville', 'really', 'shows', 'care', 'trump', 'gop', 'looking', 'bad', 'anything', 'else']",
          "['cant', 'wait', 'see', 'military', 'commander', 'assigned', 'evict', 'trump', 'white', 'house']",
          "['whatever', 'happened', 'wall', 'trump', 'promised', 'everyone', 'serious', 'question', 'thinkingatpfchangs']",
          "['private', 'school', 'donald', 'trumps', 'son', 'goes', 'wont', 'opening', 'inperson', 'instruction', 'year', 'hmm', 'trumpvirus', 'schoolreopeningisamistake']",
          "['sure', 'peacefully', 'protesting', 'violence', 'tyrannical', 'state', 'never', 'ends', 'violence', 'said', 'state', 'may', 'want', 'learn', 'terrorism', 'applies', 'donald', 'trump', 'also', 'traitor', 'predecessors', 'protesters']",
          "['remember', 'federal', 'invading', 'army', 'comprised', 'private', 'security', 'contractors', 'educated', 'professionally', 'trained', 'police', 'barr', 'amp', 'trump', 'started', 'operation', 'june', 'th']",
          "['yay', 'ms', 'trumpi', 'glad', 'read', 'book', 'sheds', 'light', 'collective', 'situation']",
          "['china', 'fine', 'job', 'manipulating', 'trump', 'didn’t', 'can’t', 'legislate', 'stupidity', 'away']",
          "['womans', 'story', 'already', 'falling', 'apart', 'sure', 'makes', 'look', 'like', 'fool', 'democrat', 'trump']",
          "['trump', 'orbit', 'nothing', 'unimaginable']",
          "['trump', 'getting', 'orders', 'putin', 'hence', 'calls', 'trump', 'anything', 'go', 'prison', 'care', 'america', 'americans']",
          "['trump', 'lost', 'silent', 'majority', 'thats', 'independents']",
          "['thats', 'question', 'like', 'trump', 'sending', 'guys', 'chicago', 'wtf', 'guys', 'gonna', 'chicago', 'real', 'riots', 'happen', 'united', 'states', 'put', 'hundreds', 'thousands', 'men', 'ground', 'allied', 'locals', 'countries', 'couldnt', 'quell', 'iraq']",
          "['trump', 'biggest', 'baby', 'time']",
          "['still', 'dont', 'get', 'progressives', 'hysteria', 'goya', 'goyagate', 'outrage', 'ceo', 'recognized', 'donating', 'cans', 'food', 'poor', 'hungry', 'brief', 'talk', 'said', 'sentence', 'praising', 'trump', 'guy', 'thing', 'obama']",
          "['happening', 'usa', 'trump’s', 'america', 'trump', 'owns', 'poor', 'families', 'supposed', 'care', 'family', 'members', 'dying', 'covid', 'get', 'sad', 'makes', 'soooo', 'mad']",
          "['yeah', 'trumps', 'best', 'dude', 'biden', 'isn’t', 'great', 'either', 'man', 'either', 'way', 'we’re', 'fucked']",
          "['cancelling', 'trump', 'rally', 'would', 'boosted', 'economy']",
          "['trump', 'thinks', 'higher', 'home', 'prices', 'good', 'us', 'ask', 'someone', 'trying', 'buy', 'first', 'home']",
          "['tonight', 'trumps', 'border', 'patrol', 'took', 'portland', 'oregon', 'street', 'firstamendment', 'portlandstrong']",
          "['way', 'activists', 'come', 'town', 'trump', 'didnt', 'even', 'need', 'send', 'secret', 'police']",
          "['thats', 'alluding', 'protests', 'become', 'convoluted', 'violence', 'amp', 'looting', 'takes', 'focus', 'police', 'abuse', 'amp', 'trump', 'uses', 'inflame', 'base', 'doesnt', 'effect', 'politicians', 'directly', 'enough', 'flooding', 'phones', 'amp', 'offices', 'real', 'old', 'school', 'presence']",
          "['year', 'old', 'died', 'florida', 'covid', 'week', 'know', 'don’t', 'give', 'shit', 'it’s', 'kid', 'kid', 'won’t', 'attending', 'school', 'matter', 'trump', 'dumbass', 'cult', 'say']",
          "['trump', 'get', 'crying', 'towels', 'ready']",
          "['rip', 'qa', 'mean', 'trump', 'supporters']",
          "['add', 'sabotage', 'corruption', 'grifting', 'downright', 'destruction', 'government', 'trump', 'small', 'businesses', 'count', 'usps', 'especially', 'gopcomplicittraitors', 'trumpthreatensamerica']",
          "['opinion', 'details', 'trump’s', 'brain', 'test']",
          "['joebiden', 'wins', 'real', 'civil', 'war', 'begins', 'way', 'joebiden', 'win', 'voter', 'fraud', 'democrat', 'leaders', 'pushing', 'mailinballots', 'democrats', 'latest', 'path', 'subversion', 'good', 'news', 'election', 'disputed', 'therefore', 'trump', 'remain']",
          "['joe', 'biden', 'fingered', 'poor', 'womans', 'vagaina', 'finger', 'raped', 'metoo']",
          "['trump', 'decides', 'won’t', 'leave', 'white', 'house', 'leave', 'melanie', 'doesn’t', 'kill', 'let', 'wander', 'around', 'mutter', 'perfect', 'set', 'biden', 'legitimate', 'thoughtful', 'government', 'elsewhere', 'let’s', 'put', 'barr']",
          "['donald', 'trump', 'boondoggle']",
          "['agree', 'one', 'well', 'done', 'mlb', 'players', 'whether', 'it’s', 'obama', 'trump', 'whomever', 'holds', 'office', 'it’s', 'done']",
          "['would', 'great', 'karma', 'see', 'trump', 'black', 'gay', 'woman', 'poor']",
          "['dear', 'democrats', 'you’re', 'hanging', 'trump’s', 'sympathy', 'pediphile', 'pimp', 'praise', 'supporters', 'chanting', '“white', 'power”', 'around', 'necks', 'trump', 'loving', 'opponents', 'x', 'day', 'you’re', 'wrong']",
          "['americans', 'dying', 'daily', 'americans', 'rounded', 'traitor', 'trumps', 'secret', 'police', 'squad', 'say', 'didnt', 'think', 'would', 'bad', 'fascism', 'rampant', 'stupidity', 'want', 'nightmare', 'voted', 'prevent', 'shit']",
          "['also', 'teargassed', 'mayor', 'fascism', 'stop', 'vote', 'biden', 'vote', 'anyone', 'else', 'vote', 'trump', 'vote', 'gop', 'top', 'bottom', 'trumpisatraitor', 'gopcomplicittraitors']",
          "['donald', 'trump', 'first', 'racist', 'president', 'joe', 'biden', 'second', 'guess', 'lmao']",
          "['two', 'seconds', 'spend', 'trying', 'ace', 'quiz', 'time', 'tho', 'put', 'shit', 'trump’s', 'walter', 'reed', 'test']",
          "['oh', 'god', 'guys', 'there’s', 'album', 'called', 'maga', 'szn', 'donald', 'trump', 'rap', 'album', 'year', 'old', 'racist']",
          "['joe', 'biden', 'goes', 'wild', 'tangent', 'basically', 'accuses', 'americans', 'stupid', 'racist']",
          "['another', 'example', 'trump', 'criminal', 'conman', 'extortionist', 'sociopath', 'voted', 'tweet', 'much', 'needed', 'allies', '“socalled”', 'allies', 'pathetic', 'beneath', 'dignity', 'office', 'despise', 'trump', 'amp', 'know', 'he’s', 'unbalanced', 'unstable']",
          "['arizona', 'needs', 'governor', 'listens', 'someone', 'trump', 'making', 'decisions', 'wise', 'safe', 'students', 'staff', 'families', 'azteacherproblems', 'votethemallout', 'votebluetosaveamerica']",
          "['paranoia', 'real', 'donnie', 'biden', 'destroy', 'un', 'american', 'dream', 'fucking', 'glorious']",
          "['wasn’t', 'infiltrating', 'anyone', 'bill', 'clinton', 'pedophile', 'fuck', 'can’t', 'wrap', 'head', 'around', 'idea', 'leader', 'isn’t', 'man', 'chan', 'says']",
          "['don’t', 'think', 'enough', 'americans', 'understand', 'happening', 'country', 'witnessing', 'fascist', 'seize', 'power', 'way', 'hitler', 'germany', 'stand', 'w', 'trump', 'aiding', 'abetting', 'country’s', 'destruction', 'speaking', 'enabling', 'country’s', 'demise']",
          "['simply', 'mistaken', 'trump', 'biden', 'maybe', 'question']",
          "['interviewer', 'amp', 'keep', 'scheduling', 'interviews', 'outside', 'july', 'dc', 'trumps', 'face', 'literally', 'melting', 'doesnt', 'wear', 'mask', 'thisll', 'good', 'q', 'trump', 'asked', 'bc', 'havent', 'heard', 'guy', 'ask', 'single', 'q', 'yet']",
          "['love', 'media', 'freaking', 'swing', 'voters', 'gonna', 'see', 'relieved', 'biden', 'isnt', 'one', 'far', 'left', 'nuts']",
          "['crime', 'exactly', 'political', 'opponent', 'trump', 'may', 'want', 'try', 'living', 'russia', 'support', 'practice']",
          null
         ],
         "marker": {
          "color": "#CFD8DC",
          "opacity": 0.5,
          "size": 5
         },
         "mode": "markers+text",
         "name": "other",
         "showlegend": false,
         "type": "scattergl",
         "x": [
          -5.038763999938965,
          -3.9561476707458496,
          -4.351100444793701,
          -3.9808032512664795,
          -5.845981121063232,
          -5.427647590637207,
          -4.214629173278809,
          -3.782447338104248,
          -4.051816463470459,
          -3.8304378986358643,
          -4.258966445922852,
          -4.004228115081787,
          -3.7405893802642822,
          -6.358724117279053,
          -5.981590747833252,
          -3.5765745639801025,
          -6.134197235107422,
          -3.6256468296051025,
          -5.273604393005371,
          -5.97170352935791,
          -3.4797704219818115,
          -4.248785018920898,
          -4.168142318725586,
          -3.889780282974243,
          -2.7857182025909424,
          -5.757816791534424,
          -4.929259777069092,
          -4.0025153160095215,
          -5.545931339263916,
          -4.616092681884766,
          -2.4260849952697754,
          -2.4839370250701904,
          -5.322481155395508,
          -3.669238805770874,
          -2.6606674194335938,
          -3.6295862197875977,
          -4.771447658538818,
          -5.138194561004639,
          -4.702342987060547,
          -4.790775299072266,
          -5.499782562255859,
          -5.855460166931152,
          -3.5134146213531494,
          -5.361260890960693,
          -5.097273349761963,
          -3.8895633220672607,
          -2.9329986572265625,
          -4.44236946105957,
          -4.240060806274414,
          -5.264232158660889,
          -4.772659778594971,
          -3.7044882774353027,
          -5.138404846191406,
          -5.287759304046631,
          -5.411759376525879,
          -4.817466735839844,
          -4.233750343322754,
          -3.2143566608428955,
          -4.100933074951172,
          -4.582507610321045,
          -5.590495586395264,
          -4.405439376831055,
          -4.148905277252197,
          -4.545437335968018,
          -4.334939956665039,
          -2.7340283393859863,
          -3.584629774093628,
          -3.5766818523406982,
          -4.5992431640625,
          -4.924882888793945,
          -5.563125133514404,
          -4.011916637420654,
          -4.510893821716309,
          -5.736220359802246,
          -6.201611518859863,
          -4.797738075256348,
          -3.556662082672119,
          -2.9098246097564697,
          -4.351139545440674,
          -4.671435356140137,
          -4.068742275238037,
          -2.9319815635681152,
          -5.546738624572754,
          -4.379313945770264,
          -5.224672317504883,
          -3.6723008155822754,
          -4.368075370788574,
          -3.812775135040283,
          -3.778949737548828,
          -5.880509376525879,
          -4.242918014526367,
          -3.9749646186828613,
          -5.641642093658447,
          -4.545192718505859,
          -3.653487205505371,
          -5.3944993019104,
          -3.85968017578125,
          -5.12794828414917,
          -4.455554485321045
         ],
         "y": [
          5.821926116943359,
          4.64923620223999,
          5.449656963348389,
          5.248621940612793,
          4.011186122894287,
          4.804235935211182,
          3.8477888107299805,
          2.4051289558410645,
          2.3633062839508057,
          2.460766315460205,
          3.600087881088257,
          3.622788190841675,
          6.077029228210449,
          5.772294998168945,
          5.174571990966797,
          3.3440070152282715,
          5.548358917236328,
          3.8344197273254395,
          3.58142352104187,
          4.6667160987854,
          5.371222496032715,
          5.07927131652832,
          2.4608917236328125,
          3.9838626384735107,
          4.889533042907715,
          5.006455421447754,
          6.723886966705322,
          6.196164131164551,
          4.626247406005859,
          6.333179950714111,
          4.529058456420898,
          4.458362102508545,
          6.440182685852051,
          5.277525424957275,
          5.173060894012451,
          6.060518741607666,
          4.67682409286499,
          4.246905326843262,
          2.7077693939208984,
          6.047548294067383,
          3.982241153717041,
          4.1383538246154785,
          4.266683578491211,
          4.932419300079346,
          2.968364953994751,
          5.8187432289123535,
          5.077690601348877,
          2.9106829166412354,
          2.9815139770507812,
          4.307303428649902,
          5.984424114227295,
          3.8852970600128174,
          4.379243850708008,
          6.059370040893555,
          5.816640377044678,
          4.633876800537109,
          3.8494129180908203,
          4.564670562744141,
          3.0384325981140137,
          5.841061115264893,
          5.237020969390869,
          5.641636371612549,
          3.4204089641571045,
          5.088432788848877,
          4.604416370391846,
          4.879728317260742,
          3.364287853240967,
          4.957425117492676,
          5.35817813873291,
          5.627737045288086,
          5.841778755187988,
          4.719259262084961,
          4.374602317810059,
          3.8878462314605713,
          5.572265148162842,
          3.046318769454956,
          6.259006977081299,
          4.46543550491333,
          5.866943836212158,
          2.5722172260284424,
          4.223714828491211,
          4.674081325531006,
          6.521243095397949,
          6.42241096496582,
          6.761128902435303,
          3.0232720375061035,
          3.450333833694458,
          4.7620673179626465,
          6.575501918792725,
          5.69223690032959,
          5.3730878829956055,
          6.513906478881836,
          6.414600849151611,
          6.553236961364746,
          2.703918218612671,
          4.951645851135254,
          5.620155334472656,
          5.27927303314209,
          4.7582573890686035
         ]
        }
       ],
       "layout": {
        "annotations": [
         {
          "showarrow": false,
          "text": "D1",
          "x": -7.312532734870911,
          "y": 4.8920542895793915,
          "yshift": 10
         },
         {
          "showarrow": false,
          "text": "D2",
          "x": -4.68735249042511,
          "xshift": 10,
          "y": 7.775298237800598
         }
        ],
        "height": 750,
        "shapes": [
         {
          "line": {
           "color": "#CFD8DC",
           "width": 2
          },
          "type": "line",
          "x0": -4.68735249042511,
          "x1": -4.68735249042511,
          "y0": 2.008810341358185,
          "y1": 7.775298237800598
         },
         {
          "line": {
           "color": "#9E9E9E",
           "width": 2
          },
          "type": "line",
          "x0": -7.312532734870911,
          "x1": -2.0621722459793093,
          "y0": 4.8920542895793915,
          "y1": 4.8920542895793915
         }
        ],
        "template": {
         "data": {
          "bar": [
           {
            "error_x": {
             "color": "rgb(36,36,36)"
            },
            "error_y": {
             "color": "rgb(36,36,36)"
            },
            "marker": {
             "line": {
              "color": "white",
              "width": 0.5
             },
             "pattern": {
              "fillmode": "overlay",
              "size": 10,
              "solidity": 0.2
             }
            },
            "type": "bar"
           }
          ],
          "barpolar": [
           {
            "marker": {
             "line": {
              "color": "white",
              "width": 0.5
             },
             "pattern": {
              "fillmode": "overlay",
              "size": 10,
              "solidity": 0.2
             }
            },
            "type": "barpolar"
           }
          ],
          "carpet": [
           {
            "aaxis": {
             "endlinecolor": "rgb(36,36,36)",
             "gridcolor": "white",
             "linecolor": "white",
             "minorgridcolor": "white",
             "startlinecolor": "rgb(36,36,36)"
            },
            "baxis": {
             "endlinecolor": "rgb(36,36,36)",
             "gridcolor": "white",
             "linecolor": "white",
             "minorgridcolor": "white",
             "startlinecolor": "rgb(36,36,36)"
            },
            "type": "carpet"
           }
          ],
          "choropleth": [
           {
            "colorbar": {
             "outlinewidth": 1,
             "tickcolor": "rgb(36,36,36)",
             "ticks": "outside"
            },
            "type": "choropleth"
           }
          ],
          "contour": [
           {
            "colorbar": {
             "outlinewidth": 1,
             "tickcolor": "rgb(36,36,36)",
             "ticks": "outside"
            },
            "colorscale": [
             [
              0,
              "#440154"
             ],
             [
              0.1111111111111111,
              "#482878"
             ],
             [
              0.2222222222222222,
              "#3e4989"
             ],
             [
              0.3333333333333333,
              "#31688e"
             ],
             [
              0.4444444444444444,
              "#26828e"
             ],
             [
              0.5555555555555556,
              "#1f9e89"
             ],
             [
              0.6666666666666666,
              "#35b779"
             ],
             [
              0.7777777777777778,
              "#6ece58"
             ],
             [
              0.8888888888888888,
              "#b5de2b"
             ],
             [
              1,
              "#fde725"
             ]
            ],
            "type": "contour"
           }
          ],
          "contourcarpet": [
           {
            "colorbar": {
             "outlinewidth": 1,
             "tickcolor": "rgb(36,36,36)",
             "ticks": "outside"
            },
            "type": "contourcarpet"
           }
          ],
          "heatmap": [
           {
            "colorbar": {
             "outlinewidth": 1,
             "tickcolor": "rgb(36,36,36)",
             "ticks": "outside"
            },
            "colorscale": [
             [
              0,
              "#440154"
             ],
             [
              0.1111111111111111,
              "#482878"
             ],
             [
              0.2222222222222222,
              "#3e4989"
             ],
             [
              0.3333333333333333,
              "#31688e"
             ],
             [
              0.4444444444444444,
              "#26828e"
             ],
             [
              0.5555555555555556,
              "#1f9e89"
             ],
             [
              0.6666666666666666,
              "#35b779"
             ],
             [
              0.7777777777777778,
              "#6ece58"
             ],
             [
              0.8888888888888888,
              "#b5de2b"
             ],
             [
              1,
              "#fde725"
             ]
            ],
            "type": "heatmap"
           }
          ],
          "heatmapgl": [
           {
            "colorbar": {
             "outlinewidth": 1,
             "tickcolor": "rgb(36,36,36)",
             "ticks": "outside"
            },
            "colorscale": [
             [
              0,
              "#440154"
             ],
             [
              0.1111111111111111,
              "#482878"
             ],
             [
              0.2222222222222222,
              "#3e4989"
             ],
             [
              0.3333333333333333,
              "#31688e"
             ],
             [
              0.4444444444444444,
              "#26828e"
             ],
             [
              0.5555555555555556,
              "#1f9e89"
             ],
             [
              0.6666666666666666,
              "#35b779"
             ],
             [
              0.7777777777777778,
              "#6ece58"
             ],
             [
              0.8888888888888888,
              "#b5de2b"
             ],
             [
              1,
              "#fde725"
             ]
            ],
            "type": "heatmapgl"
           }
          ],
          "histogram": [
           {
            "marker": {
             "line": {
              "color": "white",
              "width": 0.6
             }
            },
            "type": "histogram"
           }
          ],
          "histogram2d": [
           {
            "colorbar": {
             "outlinewidth": 1,
             "tickcolor": "rgb(36,36,36)",
             "ticks": "outside"
            },
            "colorscale": [
             [
              0,
              "#440154"
             ],
             [
              0.1111111111111111,
              "#482878"
             ],
             [
              0.2222222222222222,
              "#3e4989"
             ],
             [
              0.3333333333333333,
              "#31688e"
             ],
             [
              0.4444444444444444,
              "#26828e"
             ],
             [
              0.5555555555555556,
              "#1f9e89"
             ],
             [
              0.6666666666666666,
              "#35b779"
             ],
             [
              0.7777777777777778,
              "#6ece58"
             ],
             [
              0.8888888888888888,
              "#b5de2b"
             ],
             [
              1,
              "#fde725"
             ]
            ],
            "type": "histogram2d"
           }
          ],
          "histogram2dcontour": [
           {
            "colorbar": {
             "outlinewidth": 1,
             "tickcolor": "rgb(36,36,36)",
             "ticks": "outside"
            },
            "colorscale": [
             [
              0,
              "#440154"
             ],
             [
              0.1111111111111111,
              "#482878"
             ],
             [
              0.2222222222222222,
              "#3e4989"
             ],
             [
              0.3333333333333333,
              "#31688e"
             ],
             [
              0.4444444444444444,
              "#26828e"
             ],
             [
              0.5555555555555556,
              "#1f9e89"
             ],
             [
              0.6666666666666666,
              "#35b779"
             ],
             [
              0.7777777777777778,
              "#6ece58"
             ],
             [
              0.8888888888888888,
              "#b5de2b"
             ],
             [
              1,
              "#fde725"
             ]
            ],
            "type": "histogram2dcontour"
           }
          ],
          "mesh3d": [
           {
            "colorbar": {
             "outlinewidth": 1,
             "tickcolor": "rgb(36,36,36)",
             "ticks": "outside"
            },
            "type": "mesh3d"
           }
          ],
          "parcoords": [
           {
            "line": {
             "colorbar": {
              "outlinewidth": 1,
              "tickcolor": "rgb(36,36,36)",
              "ticks": "outside"
             }
            },
            "type": "parcoords"
           }
          ],
          "pie": [
           {
            "automargin": true,
            "type": "pie"
           }
          ],
          "scatter": [
           {
            "fillpattern": {
             "fillmode": "overlay",
             "size": 10,
             "solidity": 0.2
            },
            "type": "scatter"
           }
          ],
          "scatter3d": [
           {
            "line": {
             "colorbar": {
              "outlinewidth": 1,
              "tickcolor": "rgb(36,36,36)",
              "ticks": "outside"
             }
            },
            "marker": {
             "colorbar": {
              "outlinewidth": 1,
              "tickcolor": "rgb(36,36,36)",
              "ticks": "outside"
             }
            },
            "type": "scatter3d"
           }
          ],
          "scattercarpet": [
           {
            "marker": {
             "colorbar": {
              "outlinewidth": 1,
              "tickcolor": "rgb(36,36,36)",
              "ticks": "outside"
             }
            },
            "type": "scattercarpet"
           }
          ],
          "scattergeo": [
           {
            "marker": {
             "colorbar": {
              "outlinewidth": 1,
              "tickcolor": "rgb(36,36,36)",
              "ticks": "outside"
             }
            },
            "type": "scattergeo"
           }
          ],
          "scattergl": [
           {
            "marker": {
             "colorbar": {
              "outlinewidth": 1,
              "tickcolor": "rgb(36,36,36)",
              "ticks": "outside"
             }
            },
            "type": "scattergl"
           }
          ],
          "scattermapbox": [
           {
            "marker": {
             "colorbar": {
              "outlinewidth": 1,
              "tickcolor": "rgb(36,36,36)",
              "ticks": "outside"
             }
            },
            "type": "scattermapbox"
           }
          ],
          "scatterpolar": [
           {
            "marker": {
             "colorbar": {
              "outlinewidth": 1,
              "tickcolor": "rgb(36,36,36)",
              "ticks": "outside"
             }
            },
            "type": "scatterpolar"
           }
          ],
          "scatterpolargl": [
           {
            "marker": {
             "colorbar": {
              "outlinewidth": 1,
              "tickcolor": "rgb(36,36,36)",
              "ticks": "outside"
             }
            },
            "type": "scatterpolargl"
           }
          ],
          "scatterternary": [
           {
            "marker": {
             "colorbar": {
              "outlinewidth": 1,
              "tickcolor": "rgb(36,36,36)",
              "ticks": "outside"
             }
            },
            "type": "scatterternary"
           }
          ],
          "surface": [
           {
            "colorbar": {
             "outlinewidth": 1,
             "tickcolor": "rgb(36,36,36)",
             "ticks": "outside"
            },
            "colorscale": [
             [
              0,
              "#440154"
             ],
             [
              0.1111111111111111,
              "#482878"
             ],
             [
              0.2222222222222222,
              "#3e4989"
             ],
             [
              0.3333333333333333,
              "#31688e"
             ],
             [
              0.4444444444444444,
              "#26828e"
             ],
             [
              0.5555555555555556,
              "#1f9e89"
             ],
             [
              0.6666666666666666,
              "#35b779"
             ],
             [
              0.7777777777777778,
              "#6ece58"
             ],
             [
              0.8888888888888888,
              "#b5de2b"
             ],
             [
              1,
              "#fde725"
             ]
            ],
            "type": "surface"
           }
          ],
          "table": [
           {
            "cells": {
             "fill": {
              "color": "rgb(237,237,237)"
             },
             "line": {
              "color": "white"
             }
            },
            "header": {
             "fill": {
              "color": "rgb(217,217,217)"
             },
             "line": {
              "color": "white"
             }
            },
            "type": "table"
           }
          ]
         },
         "layout": {
          "annotationdefaults": {
           "arrowhead": 0,
           "arrowwidth": 1
          },
          "autotypenumbers": "strict",
          "coloraxis": {
           "colorbar": {
            "outlinewidth": 1,
            "tickcolor": "rgb(36,36,36)",
            "ticks": "outside"
           }
          },
          "colorscale": {
           "diverging": [
            [
             0,
             "rgb(103,0,31)"
            ],
            [
             0.1,
             "rgb(178,24,43)"
            ],
            [
             0.2,
             "rgb(214,96,77)"
            ],
            [
             0.3,
             "rgb(244,165,130)"
            ],
            [
             0.4,
             "rgb(253,219,199)"
            ],
            [
             0.5,
             "rgb(247,247,247)"
            ],
            [
             0.6,
             "rgb(209,229,240)"
            ],
            [
             0.7,
             "rgb(146,197,222)"
            ],
            [
             0.8,
             "rgb(67,147,195)"
            ],
            [
             0.9,
             "rgb(33,102,172)"
            ],
            [
             1,
             "rgb(5,48,97)"
            ]
           ],
           "sequential": [
            [
             0,
             "#440154"
            ],
            [
             0.1111111111111111,
             "#482878"
            ],
            [
             0.2222222222222222,
             "#3e4989"
            ],
            [
             0.3333333333333333,
             "#31688e"
            ],
            [
             0.4444444444444444,
             "#26828e"
            ],
            [
             0.5555555555555556,
             "#1f9e89"
            ],
            [
             0.6666666666666666,
             "#35b779"
            ],
            [
             0.7777777777777778,
             "#6ece58"
            ],
            [
             0.8888888888888888,
             "#b5de2b"
            ],
            [
             1,
             "#fde725"
            ]
           ],
           "sequentialminus": [
            [
             0,
             "#440154"
            ],
            [
             0.1111111111111111,
             "#482878"
            ],
            [
             0.2222222222222222,
             "#3e4989"
            ],
            [
             0.3333333333333333,
             "#31688e"
            ],
            [
             0.4444444444444444,
             "#26828e"
            ],
            [
             0.5555555555555556,
             "#1f9e89"
            ],
            [
             0.6666666666666666,
             "#35b779"
            ],
            [
             0.7777777777777778,
             "#6ece58"
            ],
            [
             0.8888888888888888,
             "#b5de2b"
            ],
            [
             1,
             "#fde725"
            ]
           ]
          },
          "colorway": [
           "#1F77B4",
           "#FF7F0E",
           "#2CA02C",
           "#D62728",
           "#9467BD",
           "#8C564B",
           "#E377C2",
           "#7F7F7F",
           "#BCBD22",
           "#17BECF"
          ],
          "font": {
           "color": "rgb(36,36,36)"
          },
          "geo": {
           "bgcolor": "white",
           "lakecolor": "white",
           "landcolor": "white",
           "showlakes": true,
           "showland": true,
           "subunitcolor": "white"
          },
          "hoverlabel": {
           "align": "left"
          },
          "hovermode": "closest",
          "mapbox": {
           "style": "light"
          },
          "paper_bgcolor": "white",
          "plot_bgcolor": "white",
          "polar": {
           "angularaxis": {
            "gridcolor": "rgb(232,232,232)",
            "linecolor": "rgb(36,36,36)",
            "showgrid": false,
            "showline": true,
            "ticks": "outside"
           },
           "bgcolor": "white",
           "radialaxis": {
            "gridcolor": "rgb(232,232,232)",
            "linecolor": "rgb(36,36,36)",
            "showgrid": false,
            "showline": true,
            "ticks": "outside"
           }
          },
          "scene": {
           "xaxis": {
            "backgroundcolor": "white",
            "gridcolor": "rgb(232,232,232)",
            "gridwidth": 2,
            "linecolor": "rgb(36,36,36)",
            "showbackground": true,
            "showgrid": false,
            "showline": true,
            "ticks": "outside",
            "zeroline": false,
            "zerolinecolor": "rgb(36,36,36)"
           },
           "yaxis": {
            "backgroundcolor": "white",
            "gridcolor": "rgb(232,232,232)",
            "gridwidth": 2,
            "linecolor": "rgb(36,36,36)",
            "showbackground": true,
            "showgrid": false,
            "showline": true,
            "ticks": "outside",
            "zeroline": false,
            "zerolinecolor": "rgb(36,36,36)"
           },
           "zaxis": {
            "backgroundcolor": "white",
            "gridcolor": "rgb(232,232,232)",
            "gridwidth": 2,
            "linecolor": "rgb(36,36,36)",
            "showbackground": true,
            "showgrid": false,
            "showline": true,
            "ticks": "outside",
            "zeroline": false,
            "zerolinecolor": "rgb(36,36,36)"
           }
          },
          "shapedefaults": {
           "fillcolor": "black",
           "line": {
            "width": 0
           },
           "opacity": 0.3
          },
          "ternary": {
           "aaxis": {
            "gridcolor": "rgb(232,232,232)",
            "linecolor": "rgb(36,36,36)",
            "showgrid": false,
            "showline": true,
            "ticks": "outside"
           },
           "baxis": {
            "gridcolor": "rgb(232,232,232)",
            "linecolor": "rgb(36,36,36)",
            "showgrid": false,
            "showline": true,
            "ticks": "outside"
           },
           "bgcolor": "white",
           "caxis": {
            "gridcolor": "rgb(232,232,232)",
            "linecolor": "rgb(36,36,36)",
            "showgrid": false,
            "showline": true,
            "ticks": "outside"
           }
          },
          "title": {
           "x": 0.05
          },
          "xaxis": {
           "automargin": true,
           "gridcolor": "rgb(232,232,232)",
           "linecolor": "rgb(36,36,36)",
           "showgrid": false,
           "showline": true,
           "ticks": "outside",
           "title": {
            "standoff": 15
           },
           "zeroline": false,
           "zerolinecolor": "rgb(36,36,36)"
          },
          "yaxis": {
           "automargin": true,
           "gridcolor": "rgb(232,232,232)",
           "linecolor": "rgb(36,36,36)",
           "showgrid": false,
           "showline": true,
           "ticks": "outside",
           "title": {
            "standoff": 15
           },
           "zeroline": false,
           "zerolinecolor": "rgb(36,36,36)"
          }
         }
        },
        "title": {
         "font": {
          "color": "Black",
          "size": 22
         },
         "text": "<b>Documents and Topics</b>",
         "x": 0.5,
         "xanchor": "center",
         "yanchor": "top"
        },
        "width": 1200,
        "xaxis": {
         "visible": false
        },
        "yaxis": {
         "visible": false
        }
       }
      }
     },
     "metadata": {},
     "output_type": "display_data"
    }
   ],
   "source": [
    "model.visualize_documents(tokens, reduced_embeddings=reduced_embeddings)"
   ]
  },
  {
   "cell_type": "markdown",
   "metadata": {},
   "source": [
    "Topic Extraction and Representation"
   ]
  },
  {
   "cell_type": "code",
   "execution_count": 71,
   "metadata": {},
   "outputs": [
    {
     "name": "stdout",
     "output_type": "stream",
     "text": [
      "Number of topics: 1\n"
     ]
    },
    {
     "data": {
      "text/html": [
       "<div>\n",
       "<style scoped>\n",
       "    .dataframe tbody tr th:only-of-type {\n",
       "        vertical-align: middle;\n",
       "    }\n",
       "\n",
       "    .dataframe tbody tr th {\n",
       "        vertical-align: top;\n",
       "    }\n",
       "\n",
       "    .dataframe thead th {\n",
       "        text-align: right;\n",
       "    }\n",
       "</style>\n",
       "<table border=\"1\" class=\"dataframe\">\n",
       "  <thead>\n",
       "    <tr style=\"text-align: right;\">\n",
       "      <th></th>\n",
       "      <th>Topic</th>\n",
       "      <th>Count</th>\n",
       "      <th>Name</th>\n",
       "      <th>Representation</th>\n",
       "      <th>Representative_Docs</th>\n",
       "    </tr>\n",
       "  </thead>\n",
       "  <tbody>\n",
       "    <tr>\n",
       "      <th>0</th>\n",
       "      <td>-1</td>\n",
       "      <td>98</td>\n",
       "      <td>-1_trump_biden_way_trumps</td>\n",
       "      <td>[trump, biden, way, trumps, amp, would, like, ...</td>\n",
       "      <td>[['happening', 'usa', 'trump’s', 'america', 't...</td>\n",
       "    </tr>\n",
       "  </tbody>\n",
       "</table>\n",
       "</div>"
      ],
      "text/plain": [
       "   Topic  Count                       Name  \\\n",
       "0     -1     98  -1_trump_biden_way_trumps   \n",
       "\n",
       "                                      Representation  \\\n",
       "0  [trump, biden, way, trumps, amp, would, like, ...   \n",
       "\n",
       "                                 Representative_Docs  \n",
       "0  [['happening', 'usa', 'trump’s', 'america', 't...  "
      ]
     },
     "metadata": {},
     "output_type": "display_data"
    }
   ],
   "source": [
    "import os\n",
    "os.environ[\"TOKENIZERS_PARALLELISM\"] = \"false\"\n",
    "\n",
    "frequency = model.get_topic_info()\n",
    "print(\"Number of topics: {}\".format( len(frequency)))\n",
    "display(frequency)\n",
    "dfi.export(frequency, 'dataframe_topics.png')"
   ]
  },
  {
   "cell_type": "markdown",
   "metadata": {},
   "source": [
    "-1 refers to all outliers and should typically be ignored. Next, let's take a look at the most frequent topic that was generated, topic 0:"
   ]
  },
  {
   "cell_type": "code",
   "execution_count": 72,
   "metadata": {},
   "outputs": [
    {
     "data": {
      "text/plain": [
       "False"
      ]
     },
     "execution_count": 72,
     "metadata": {},
     "output_type": "execute_result"
    }
   ],
   "source": [
    "model.get_topic(0)"
   ]
  },
  {
   "cell_type": "code",
   "execution_count": 73,
   "metadata": {},
   "outputs": [
    {
     "data": {
      "text/html": [
       "<div>\n",
       "<style scoped>\n",
       "    .dataframe tbody tr th:only-of-type {\n",
       "        vertical-align: middle;\n",
       "    }\n",
       "\n",
       "    .dataframe tbody tr th {\n",
       "        vertical-align: top;\n",
       "    }\n",
       "\n",
       "    .dataframe thead th {\n",
       "        text-align: right;\n",
       "    }\n",
       "</style>\n",
       "<table border=\"1\" class=\"dataframe\">\n",
       "  <thead>\n",
       "    <tr style=\"text-align: right;\">\n",
       "      <th></th>\n",
       "      <th>Document</th>\n",
       "      <th>Topic</th>\n",
       "      <th>Name</th>\n",
       "      <th>Representation</th>\n",
       "      <th>Representative_Docs</th>\n",
       "      <th>Top_n_words</th>\n",
       "      <th>Probability</th>\n",
       "      <th>Representative_document</th>\n",
       "    </tr>\n",
       "  </thead>\n",
       "  <tbody>\n",
       "    <tr>\n",
       "      <th>0</th>\n",
       "      <td>['since', 'trump', 'cancelled', 'convention', ...</td>\n",
       "      <td>-1</td>\n",
       "      <td>-1_trump_biden_way_trumps</td>\n",
       "      <td>[trump, biden, way, trumps, amp, would, like, ...</td>\n",
       "      <td>[['happening', 'usa', 'trump’s', 'america', 't...</td>\n",
       "      <td>trump - biden - way - trumps - amp - would - l...</td>\n",
       "      <td>0.0</td>\n",
       "      <td>False</td>\n",
       "    </tr>\n",
       "    <tr>\n",
       "      <th>1</th>\n",
       "      <td>['year', 'old', 'died', 'florida', 'covid', 'w...</td>\n",
       "      <td>-1</td>\n",
       "      <td>-1_trump_biden_way_trumps</td>\n",
       "      <td>[trump, biden, way, trumps, amp, would, like, ...</td>\n",
       "      <td>[['happening', 'usa', 'trump’s', 'america', 't...</td>\n",
       "      <td>trump - biden - way - trumps - amp - would - l...</td>\n",
       "      <td>0.0</td>\n",
       "      <td>False</td>\n",
       "    </tr>\n",
       "    <tr>\n",
       "      <th>2</th>\n",
       "      <td>['trump', 'decides', 'won’t', 'leave', 'white'...</td>\n",
       "      <td>-1</td>\n",
       "      <td>-1_trump_biden_way_trumps</td>\n",
       "      <td>[trump, biden, way, trumps, amp, would, like, ...</td>\n",
       "      <td>[['happening', 'usa', 'trump’s', 'america', 't...</td>\n",
       "      <td>trump - biden - way - trumps - amp - would - l...</td>\n",
       "      <td>0.0</td>\n",
       "      <td>False</td>\n",
       "    </tr>\n",
       "    <tr>\n",
       "      <th>3</th>\n",
       "      <td>['ao', 'trump', 'virus', 'skank', 'flu']</td>\n",
       "      <td>-1</td>\n",
       "      <td>-1_trump_biden_way_trumps</td>\n",
       "      <td>[trump, biden, way, trumps, amp, would, like, ...</td>\n",
       "      <td>[['happening', 'usa', 'trump’s', 'america', 't...</td>\n",
       "      <td>trump - biden - way - trumps - amp - would - l...</td>\n",
       "      <td>0.0</td>\n",
       "      <td>False</td>\n",
       "    </tr>\n",
       "    <tr>\n",
       "      <th>4</th>\n",
       "      <td>['two', 'seconds', 'spend', 'trying', 'ace', '...</td>\n",
       "      <td>-1</td>\n",
       "      <td>-1_trump_biden_way_trumps</td>\n",
       "      <td>[trump, biden, way, trumps, amp, would, like, ...</td>\n",
       "      <td>[['happening', 'usa', 'trump’s', 'america', 't...</td>\n",
       "      <td>trump - biden - way - trumps - amp - would - l...</td>\n",
       "      <td>0.0</td>\n",
       "      <td>False</td>\n",
       "    </tr>\n",
       "    <tr>\n",
       "      <th>...</th>\n",
       "      <td>...</td>\n",
       "      <td>...</td>\n",
       "      <td>...</td>\n",
       "      <td>...</td>\n",
       "      <td>...</td>\n",
       "      <td>...</td>\n",
       "      <td>...</td>\n",
       "      <td>...</td>\n",
       "    </tr>\n",
       "    <tr>\n",
       "      <th>93</th>\n",
       "      <td>['another', 'example', 'trump', 'criminal', 'c...</td>\n",
       "      <td>-1</td>\n",
       "      <td>-1_trump_biden_way_trumps</td>\n",
       "      <td>[trump, biden, way, trumps, amp, would, like, ...</td>\n",
       "      <td>[['happening', 'usa', 'trump’s', 'america', 't...</td>\n",
       "      <td>trump - biden - way - trumps - amp - would - l...</td>\n",
       "      <td>0.0</td>\n",
       "      <td>False</td>\n",
       "    </tr>\n",
       "    <tr>\n",
       "      <th>94</th>\n",
       "      <td>['trump', 'orbit', 'nothing', 'unimaginable']</td>\n",
       "      <td>-1</td>\n",
       "      <td>-1_trump_biden_way_trumps</td>\n",
       "      <td>[trump, biden, way, trumps, amp, would, like, ...</td>\n",
       "      <td>[['happening', 'usa', 'trump’s', 'america', 't...</td>\n",
       "      <td>trump - biden - way - trumps - amp - would - l...</td>\n",
       "      <td>0.0</td>\n",
       "      <td>False</td>\n",
       "    </tr>\n",
       "    <tr>\n",
       "      <th>95</th>\n",
       "      <td>['im', 'disappointed', 'surprised', 'melania',...</td>\n",
       "      <td>-1</td>\n",
       "      <td>-1_trump_biden_way_trumps</td>\n",
       "      <td>[trump, biden, way, trumps, amp, would, like, ...</td>\n",
       "      <td>[['happening', 'usa', 'trump’s', 'america', 't...</td>\n",
       "      <td>trump - biden - way - trumps - amp - would - l...</td>\n",
       "      <td>0.0</td>\n",
       "      <td>False</td>\n",
       "    </tr>\n",
       "    <tr>\n",
       "      <th>96</th>\n",
       "      <td>['interviewer', 'amp', 'keep', 'scheduling', '...</td>\n",
       "      <td>-1</td>\n",
       "      <td>-1_trump_biden_way_trumps</td>\n",
       "      <td>[trump, biden, way, trumps, amp, would, like, ...</td>\n",
       "      <td>[['happening', 'usa', 'trump’s', 'america', 't...</td>\n",
       "      <td>trump - biden - way - trumps - amp - would - l...</td>\n",
       "      <td>0.0</td>\n",
       "      <td>False</td>\n",
       "    </tr>\n",
       "    <tr>\n",
       "      <th>97</th>\n",
       "      <td>['thats', 'alluding', 'protests', 'become', 'c...</td>\n",
       "      <td>-1</td>\n",
       "      <td>-1_trump_biden_way_trumps</td>\n",
       "      <td>[trump, biden, way, trumps, amp, would, like, ...</td>\n",
       "      <td>[['happening', 'usa', 'trump’s', 'america', 't...</td>\n",
       "      <td>trump - biden - way - trumps - amp - would - l...</td>\n",
       "      <td>0.0</td>\n",
       "      <td>False</td>\n",
       "    </tr>\n",
       "  </tbody>\n",
       "</table>\n",
       "<p>98 rows × 8 columns</p>\n",
       "</div>"
      ],
      "text/plain": [
       "                                             Document  Topic  \\\n",
       "0   ['since', 'trump', 'cancelled', 'convention', ...     -1   \n",
       "1   ['year', 'old', 'died', 'florida', 'covid', 'w...     -1   \n",
       "2   ['trump', 'decides', 'won’t', 'leave', 'white'...     -1   \n",
       "3            ['ao', 'trump', 'virus', 'skank', 'flu']     -1   \n",
       "4   ['two', 'seconds', 'spend', 'trying', 'ace', '...     -1   \n",
       "..                                                ...    ...   \n",
       "93  ['another', 'example', 'trump', 'criminal', 'c...     -1   \n",
       "94      ['trump', 'orbit', 'nothing', 'unimaginable']     -1   \n",
       "95  ['im', 'disappointed', 'surprised', 'melania',...     -1   \n",
       "96  ['interviewer', 'amp', 'keep', 'scheduling', '...     -1   \n",
       "97  ['thats', 'alluding', 'protests', 'become', 'c...     -1   \n",
       "\n",
       "                         Name  \\\n",
       "0   -1_trump_biden_way_trumps   \n",
       "1   -1_trump_biden_way_trumps   \n",
       "2   -1_trump_biden_way_trumps   \n",
       "3   -1_trump_biden_way_trumps   \n",
       "4   -1_trump_biden_way_trumps   \n",
       "..                        ...   \n",
       "93  -1_trump_biden_way_trumps   \n",
       "94  -1_trump_biden_way_trumps   \n",
       "95  -1_trump_biden_way_trumps   \n",
       "96  -1_trump_biden_way_trumps   \n",
       "97  -1_trump_biden_way_trumps   \n",
       "\n",
       "                                       Representation  \\\n",
       "0   [trump, biden, way, trumps, amp, would, like, ...   \n",
       "1   [trump, biden, way, trumps, amp, would, like, ...   \n",
       "2   [trump, biden, way, trumps, amp, would, like, ...   \n",
       "3   [trump, biden, way, trumps, amp, would, like, ...   \n",
       "4   [trump, biden, way, trumps, amp, would, like, ...   \n",
       "..                                                ...   \n",
       "93  [trump, biden, way, trumps, amp, would, like, ...   \n",
       "94  [trump, biden, way, trumps, amp, would, like, ...   \n",
       "95  [trump, biden, way, trumps, amp, would, like, ...   \n",
       "96  [trump, biden, way, trumps, amp, would, like, ...   \n",
       "97  [trump, biden, way, trumps, amp, would, like, ...   \n",
       "\n",
       "                                  Representative_Docs  \\\n",
       "0   [['happening', 'usa', 'trump’s', 'america', 't...   \n",
       "1   [['happening', 'usa', 'trump’s', 'america', 't...   \n",
       "2   [['happening', 'usa', 'trump’s', 'america', 't...   \n",
       "3   [['happening', 'usa', 'trump’s', 'america', 't...   \n",
       "4   [['happening', 'usa', 'trump’s', 'america', 't...   \n",
       "..                                                ...   \n",
       "93  [['happening', 'usa', 'trump’s', 'america', 't...   \n",
       "94  [['happening', 'usa', 'trump’s', 'america', 't...   \n",
       "95  [['happening', 'usa', 'trump’s', 'america', 't...   \n",
       "96  [['happening', 'usa', 'trump’s', 'america', 't...   \n",
       "97  [['happening', 'usa', 'trump’s', 'america', 't...   \n",
       "\n",
       "                                          Top_n_words  Probability  \\\n",
       "0   trump - biden - way - trumps - amp - would - l...          0.0   \n",
       "1   trump - biden - way - trumps - amp - would - l...          0.0   \n",
       "2   trump - biden - way - trumps - amp - would - l...          0.0   \n",
       "3   trump - biden - way - trumps - amp - would - l...          0.0   \n",
       "4   trump - biden - way - trumps - amp - would - l...          0.0   \n",
       "..                                                ...          ...   \n",
       "93  trump - biden - way - trumps - amp - would - l...          0.0   \n",
       "94  trump - biden - way - trumps - amp - would - l...          0.0   \n",
       "95  trump - biden - way - trumps - amp - would - l...          0.0   \n",
       "96  trump - biden - way - trumps - amp - would - l...          0.0   \n",
       "97  trump - biden - way - trumps - amp - would - l...          0.0   \n",
       "\n",
       "    Representative_document  \n",
       "0                     False  \n",
       "1                     False  \n",
       "2                     False  \n",
       "3                     False  \n",
       "4                     False  \n",
       "..                      ...  \n",
       "93                    False  \n",
       "94                    False  \n",
       "95                    False  \n",
       "96                    False  \n",
       "97                    False  \n",
       "\n",
       "[98 rows x 8 columns]"
      ]
     },
     "execution_count": 73,
     "metadata": {},
     "output_type": "execute_result"
    }
   ],
   "source": [
    "model.get_document_info(tokens)"
   ]
  },
  {
   "cell_type": "markdown",
   "metadata": {},
   "source": [
    "Top terms and c-TF-IDF scores"
   ]
  },
  {
   "cell_type": "code",
   "execution_count": 74,
   "metadata": {},
   "outputs": [
    {
     "ename": "IndexError",
     "evalue": "single positional indexer is out-of-bounds",
     "output_type": "error",
     "traceback": [
      "\u001b[0;31m---------------------------------------------------------------------------\u001b[0m",
      "\u001b[0;31mIndexError\u001b[0m                                Traceback (most recent call last)",
      "Cell \u001b[0;32mIn[74], line 1\u001b[0m\n\u001b[0;32m----> 1\u001b[0m a_topic \u001b[38;5;241m=\u001b[39m \u001b[43mfrequency\u001b[49m\u001b[38;5;241;43m.\u001b[39;49m\u001b[43miloc\u001b[49m\u001b[43m[\u001b[49m\u001b[38;5;241;43m1\u001b[39;49m\u001b[43m]\u001b[49m[\u001b[38;5;124m\"\u001b[39m\u001b[38;5;124mTopic\u001b[39m\u001b[38;5;124m\"\u001b[39m] \u001b[38;5;66;03m# selecting the 1st topic\u001b[39;00m\n\u001b[1;32m      2\u001b[0m model\u001b[38;5;241m.\u001b[39mget_topic(a_topic) \u001b[38;5;66;03m# showing the words and their c-TF-IDF scores\u001b[39;00m\n",
      "File \u001b[0;32m~/opt/anaconda3/envs/bert_envv/lib/python3.8/site-packages/pandas/core/indexing.py:1103\u001b[0m, in \u001b[0;36m_LocationIndexer.__getitem__\u001b[0;34m(self, key)\u001b[0m\n\u001b[1;32m   1100\u001b[0m axis \u001b[38;5;241m=\u001b[39m \u001b[38;5;28mself\u001b[39m\u001b[38;5;241m.\u001b[39maxis \u001b[38;5;129;01mor\u001b[39;00m \u001b[38;5;241m0\u001b[39m\n\u001b[1;32m   1102\u001b[0m maybe_callable \u001b[38;5;241m=\u001b[39m com\u001b[38;5;241m.\u001b[39mapply_if_callable(key, \u001b[38;5;28mself\u001b[39m\u001b[38;5;241m.\u001b[39mobj)\n\u001b[0;32m-> 1103\u001b[0m \u001b[38;5;28;01mreturn\u001b[39;00m \u001b[38;5;28;43mself\u001b[39;49m\u001b[38;5;241;43m.\u001b[39;49m\u001b[43m_getitem_axis\u001b[49m\u001b[43m(\u001b[49m\u001b[43mmaybe_callable\u001b[49m\u001b[43m,\u001b[49m\u001b[43m \u001b[49m\u001b[43maxis\u001b[49m\u001b[38;5;241;43m=\u001b[39;49m\u001b[43maxis\u001b[49m\u001b[43m)\u001b[49m\n",
      "File \u001b[0;32m~/opt/anaconda3/envs/bert_envv/lib/python3.8/site-packages/pandas/core/indexing.py:1656\u001b[0m, in \u001b[0;36m_iLocIndexer._getitem_axis\u001b[0;34m(self, key, axis)\u001b[0m\n\u001b[1;32m   1653\u001b[0m     \u001b[38;5;28;01mraise\u001b[39;00m \u001b[38;5;167;01mTypeError\u001b[39;00m(\u001b[38;5;124m\"\u001b[39m\u001b[38;5;124mCannot index by location index with a non-integer key\u001b[39m\u001b[38;5;124m\"\u001b[39m)\n\u001b[1;32m   1655\u001b[0m \u001b[38;5;66;03m# validate the location\u001b[39;00m\n\u001b[0;32m-> 1656\u001b[0m \u001b[38;5;28;43mself\u001b[39;49m\u001b[38;5;241;43m.\u001b[39;49m\u001b[43m_validate_integer\u001b[49m\u001b[43m(\u001b[49m\u001b[43mkey\u001b[49m\u001b[43m,\u001b[49m\u001b[43m \u001b[49m\u001b[43maxis\u001b[49m\u001b[43m)\u001b[49m\n\u001b[1;32m   1658\u001b[0m \u001b[38;5;28;01mreturn\u001b[39;00m \u001b[38;5;28mself\u001b[39m\u001b[38;5;241m.\u001b[39mobj\u001b[38;5;241m.\u001b[39m_ixs(key, axis\u001b[38;5;241m=\u001b[39maxis)\n",
      "File \u001b[0;32m~/opt/anaconda3/envs/bert_envv/lib/python3.8/site-packages/pandas/core/indexing.py:1589\u001b[0m, in \u001b[0;36m_iLocIndexer._validate_integer\u001b[0;34m(self, key, axis)\u001b[0m\n\u001b[1;32m   1587\u001b[0m len_axis \u001b[38;5;241m=\u001b[39m \u001b[38;5;28mlen\u001b[39m(\u001b[38;5;28mself\u001b[39m\u001b[38;5;241m.\u001b[39mobj\u001b[38;5;241m.\u001b[39m_get_axis(axis))\n\u001b[1;32m   1588\u001b[0m \u001b[38;5;28;01mif\u001b[39;00m key \u001b[38;5;241m>\u001b[39m\u001b[38;5;241m=\u001b[39m len_axis \u001b[38;5;129;01mor\u001b[39;00m key \u001b[38;5;241m<\u001b[39m \u001b[38;5;241m-\u001b[39mlen_axis:\n\u001b[0;32m-> 1589\u001b[0m     \u001b[38;5;28;01mraise\u001b[39;00m \u001b[38;5;167;01mIndexError\u001b[39;00m(\u001b[38;5;124m\"\u001b[39m\u001b[38;5;124msingle positional indexer is out-of-bounds\u001b[39m\u001b[38;5;124m\"\u001b[39m)\n",
      "\u001b[0;31mIndexError\u001b[0m: single positional indexer is out-of-bounds"
     ]
    }
   ],
   "source": [
    "a_topic = frequency.iloc[1][\"Topic\"] # selecting the 1st topic\n",
    "model.get_topic(a_topic) # showing the words and their c-TF-IDF scores"
   ]
  },
  {
   "cell_type": "markdown",
   "metadata": {},
   "source": [
    "Topic visualisation\n"
   ]
  },
  {
   "cell_type": "code",
   "execution_count": null,
   "metadata": {},
   "outputs": [
    {
     "data": {
      "application/vnd.plotly.v1+json": {
       "config": {
        "plotlyServerURL": "https://plotly.com"
       },
       "data": [
        {
         "marker": {
          "color": "#D55E00"
         },
         "orientation": "h",
         "type": "bar",
         "x": [
          0.019043771068112697,
          0.019945552139577622,
          0.02021462272002041,
          0.020224215480289368,
          0.025534572933147565,
          0.027500244275990716,
          0.02778499476638052,
          0.030607803826038164,
          0.03330053294285552,
          0.043724873189067655
         ],
         "xaxis": "x",
         "y": [
          "garage  ",
          "people  ",
          "bus  ",
          "euros  ",
          "tram  ",
          "public  ",
          "transport  ",
          "car  ",
          "bike  ",
          "parking  "
         ],
         "yaxis": "y"
        },
        {
         "marker": {
          "color": "#0072B2"
         },
         "orientation": "h",
         "type": "bar",
         "x": [
          0.08498019164184345,
          0.08498019164184345,
          0.08511929155890906,
          0.08805833497865295,
          0.09512173021640306,
          0.11194770075163932,
          0.18868987428870082,
          0.1904464584949328,
          0.2770326481759012,
          0.3004354713166769
         ],
         "xaxis": "x2",
         "y": [
          "maintained  ",
          "looks  ",
          "place  ",
          "everything  ",
          "well  ",
          "pretty  ",
          "excellent  ",
          "nice  ",
          "good  ",
          "great  "
         ],
         "yaxis": "y2"
        },
        {
         "marker": {
          "color": "#CC79A7"
         },
         "orientation": "h",
         "type": "bar",
         "x": [
          0.059266628119219227,
          0.06462495957764597,
          0.06838152191781831,
          0.07212668111330298,
          0.07286680705732909,
          0.08230183178075742,
          0.09740176807157817,
          0.1382887989448449,
          0.14631744090825793,
          0.4389980064373742
         ],
         "xaxis": "x3",
         "y": [
          "amstel  ",
          "train  ",
          "big  ",
          "facilities  ",
          "beautiful  ",
          "stations  ",
          "nice  ",
          "south  ",
          "busy  ",
          "station  "
         ],
         "yaxis": "y3"
        },
        {
         "marker": {
          "color": "#E69F00"
         },
         "orientation": "h",
         "type": "bar",
         "x": [
          0.09083388450396504,
          0.10388600279588185,
          0.12392431524599853,
          0.14570073642789266,
          0.16272718404171008,
          0.1710036187148245,
          0.19224878618442637,
          0.28611941950259473,
          0.3670284832645473,
          0.42209322293498247
         ],
         "xaxis": "x4",
         "y": [
          "workers  ",
          "bad  ",
          "nice  ",
          "employees  ",
          "helpful  ",
          "good  ",
          "rude  ",
          "service  ",
          "friendly  ",
          "staff  "
         ],
         "yaxis": "y4"
        },
        {
         "marker": {
          "color": "#56B4E9"
         },
         "orientation": "h",
         "type": "bar",
         "x": [
          0.07560644771310307,
          0.07834624483250682,
          0.08120485776618397,
          0.08168016913021837,
          0.08456536034327383,
          0.08770551596606335,
          0.1021117181717512,
          0.16952552892540115,
          0.20212188083344249,
          0.3962517248348362
         ],
         "xaxis": "x5",
         "y": [
          "cars  ",
          "energiedirect  ",
          "perfect  ",
          "reasonable  ",
          "service  ",
          "arranged  ",
          "nice  ",
          "good  ",
          "price  ",
          "expensive  "
         ],
         "yaxis": "y5"
        },
        {
         "marker": {
          "color": "#009E73"
         },
         "orientation": "h",
         "type": "bar",
         "x": [
          0.08162691584960352,
          0.08900003470742664,
          0.09015784848083569,
          0.09519145882923269,
          0.11063662020140971,
          0.1241029811592349,
          0.13259084749208452,
          0.18501783939959154,
          0.34699214675423595,
          0.7675532828232189
         ],
         "xaxis": "x6",
         "y": [
          "arranged  ",
          "well  ",
          "good  ",
          "connections  ",
          "top  ",
          "reliable  ",
          "connection  ",
          "handy  ",
          "reach  ",
          "easy  "
         ],
         "yaxis": "y6"
        },
        {
         "marker": {
          "color": "#F0E442"
         },
         "orientation": "h",
         "type": "bar",
         "x": [
          0.15494956708765367,
          0.15494956708765367,
          0.16002908952851355,
          0.16755369547521282,
          0.17943554264645534,
          0.2254878368170022,
          0.2351294643942437,
          0.41250118217009774,
          0.4227863078637988,
          0.5015271330305474
         ],
         "xaxis": "x7",
         "y": [
          "winner  ",
          "unavailable  ",
          "everything  ",
          "bit  ",
          "spot  ",
          "confusing  ",
          "drama  ",
          "place  ",
          "ok  ",
          "always  "
         ],
         "yaxis": "y7"
        },
        {
         "marker": {
          "color": "#D55E00"
         },
         "orientation": "h",
         "type": "bar",
         "x": [
          0.11030590737933786,
          0.1393949956941272,
          0.1426825953246046,
          0.15355251904241707,
          0.16569996457461844,
          0.18731863356701312,
          0.22343814034213627,
          0.2879935065200934,
          0.3274776102982321,
          0.5091437320332183
         ],
         "xaxis": "x8",
         "y": [
          "big  ",
          "rent  ",
          "well  ",
          "size  ",
          "fits  ",
          "drive  ",
          "place  ",
          "accessible  ",
          "easy  ",
          "spacious  "
         ],
         "yaxis": "y8"
        },
        {
         "marker": {
          "color": "#0072B2"
         },
         "orientation": "h",
         "type": "bar",
         "x": [
          0.12900313115312367,
          0.13638050026399337,
          0.1384207539211759,
          0.1389298952780378,
          0.1492106942325554,
          0.18418388495327206,
          0.19741683569532467,
          0.21203490638948036,
          0.27276100052798674,
          0.8626880169102095
         ],
         "xaxis": "x9",
         "y": [
          "way  ",
          "strategic  ",
          "handy  ",
          "easy  ",
          "cheapway  ",
          "covered  ",
          "super  ",
          "perfect  ",
          "pack  ",
          "cheap  "
         ],
         "yaxis": "y9"
        },
        {
         "marker": {
          "color": "#CC79A7"
         },
         "orientation": "h",
         "type": "bar",
         "x": [
          0.1666187181717085,
          0.17760588906208377,
          0.2093815627586449,
          0.2303287785636256,
          0.28776348173421396,
          0.3796195171129049,
          0.4963765832070204,
          0.6618354442760271,
          0.7470313496467114,
          0.800862933401089
         ],
         "xaxis": "x10",
         "y": [
          "recommended  ",
          "it  ",
          "practical  ",
          "decent  ",
          "informative  ",
          "really  ",
          "option  ",
          "convenient  ",
          "useful  ",
          "handy  "
         ],
         "yaxis": "y10"
        }
       ],
       "layout": {
        "annotations": [
         {
          "font": {
           "size": 16
          },
          "showarrow": false,
          "text": "Topic 0",
          "x": 0.0875,
          "xanchor": "center",
          "xref": "paper",
          "y": 1,
          "yanchor": "bottom",
          "yref": "paper"
         },
         {
          "font": {
           "size": 16
          },
          "showarrow": false,
          "text": "Topic 1",
          "x": 0.36250000000000004,
          "xanchor": "center",
          "xref": "paper",
          "y": 1,
          "yanchor": "bottom",
          "yref": "paper"
         },
         {
          "font": {
           "size": 16
          },
          "showarrow": false,
          "text": "Topic 2",
          "x": 0.6375000000000001,
          "xanchor": "center",
          "xref": "paper",
          "y": 1,
          "yanchor": "bottom",
          "yref": "paper"
         },
         {
          "font": {
           "size": 16
          },
          "showarrow": false,
          "text": "Topic 3",
          "x": 0.9125,
          "xanchor": "center",
          "xref": "paper",
          "y": 1,
          "yanchor": "bottom",
          "yref": "paper"
         },
         {
          "font": {
           "size": 16
          },
          "showarrow": false,
          "text": "Topic 4",
          "x": 0.0875,
          "xanchor": "center",
          "xref": "paper",
          "y": 0.6222222222222222,
          "yanchor": "bottom",
          "yref": "paper"
         },
         {
          "font": {
           "size": 16
          },
          "showarrow": false,
          "text": "Topic 5",
          "x": 0.36250000000000004,
          "xanchor": "center",
          "xref": "paper",
          "y": 0.6222222222222222,
          "yanchor": "bottom",
          "yref": "paper"
         },
         {
          "font": {
           "size": 16
          },
          "showarrow": false,
          "text": "Topic 6",
          "x": 0.6375000000000001,
          "xanchor": "center",
          "xref": "paper",
          "y": 0.6222222222222222,
          "yanchor": "bottom",
          "yref": "paper"
         },
         {
          "font": {
           "size": 16
          },
          "showarrow": false,
          "text": "Topic 7",
          "x": 0.9125,
          "xanchor": "center",
          "xref": "paper",
          "y": 0.6222222222222222,
          "yanchor": "bottom",
          "yref": "paper"
         },
         {
          "font": {
           "size": 16
          },
          "showarrow": false,
          "text": "Topic 8",
          "x": 0.0875,
          "xanchor": "center",
          "xref": "paper",
          "y": 0.24444444444444446,
          "yanchor": "bottom",
          "yref": "paper"
         },
         {
          "font": {
           "size": 16
          },
          "showarrow": false,
          "text": "Topic 9",
          "x": 0.36250000000000004,
          "xanchor": "center",
          "xref": "paper",
          "y": 0.24444444444444446,
          "yanchor": "bottom",
          "yref": "paper"
         }
        ],
        "height": 1050,
        "hoverlabel": {
         "bgcolor": "white",
         "font": {
          "family": "Rockwell",
          "size": 16
         }
        },
        "showlegend": false,
        "template": {
         "data": {
          "bar": [
           {
            "error_x": {
             "color": "#2a3f5f"
            },
            "error_y": {
             "color": "#2a3f5f"
            },
            "marker": {
             "line": {
              "color": "white",
              "width": 0.5
             },
             "pattern": {
              "fillmode": "overlay",
              "size": 10,
              "solidity": 0.2
             }
            },
            "type": "bar"
           }
          ],
          "barpolar": [
           {
            "marker": {
             "line": {
              "color": "white",
              "width": 0.5
             },
             "pattern": {
              "fillmode": "overlay",
              "size": 10,
              "solidity": 0.2
             }
            },
            "type": "barpolar"
           }
          ],
          "carpet": [
           {
            "aaxis": {
             "endlinecolor": "#2a3f5f",
             "gridcolor": "#C8D4E3",
             "linecolor": "#C8D4E3",
             "minorgridcolor": "#C8D4E3",
             "startlinecolor": "#2a3f5f"
            },
            "baxis": {
             "endlinecolor": "#2a3f5f",
             "gridcolor": "#C8D4E3",
             "linecolor": "#C8D4E3",
             "minorgridcolor": "#C8D4E3",
             "startlinecolor": "#2a3f5f"
            },
            "type": "carpet"
           }
          ],
          "choropleth": [
           {
            "colorbar": {
             "outlinewidth": 0,
             "ticks": ""
            },
            "type": "choropleth"
           }
          ],
          "contour": [
           {
            "colorbar": {
             "outlinewidth": 0,
             "ticks": ""
            },
            "colorscale": [
             [
              0,
              "#0d0887"
             ],
             [
              0.1111111111111111,
              "#46039f"
             ],
             [
              0.2222222222222222,
              "#7201a8"
             ],
             [
              0.3333333333333333,
              "#9c179e"
             ],
             [
              0.4444444444444444,
              "#bd3786"
             ],
             [
              0.5555555555555556,
              "#d8576b"
             ],
             [
              0.6666666666666666,
              "#ed7953"
             ],
             [
              0.7777777777777778,
              "#fb9f3a"
             ],
             [
              0.8888888888888888,
              "#fdca26"
             ],
             [
              1,
              "#f0f921"
             ]
            ],
            "type": "contour"
           }
          ],
          "contourcarpet": [
           {
            "colorbar": {
             "outlinewidth": 0,
             "ticks": ""
            },
            "type": "contourcarpet"
           }
          ],
          "heatmap": [
           {
            "colorbar": {
             "outlinewidth": 0,
             "ticks": ""
            },
            "colorscale": [
             [
              0,
              "#0d0887"
             ],
             [
              0.1111111111111111,
              "#46039f"
             ],
             [
              0.2222222222222222,
              "#7201a8"
             ],
             [
              0.3333333333333333,
              "#9c179e"
             ],
             [
              0.4444444444444444,
              "#bd3786"
             ],
             [
              0.5555555555555556,
              "#d8576b"
             ],
             [
              0.6666666666666666,
              "#ed7953"
             ],
             [
              0.7777777777777778,
              "#fb9f3a"
             ],
             [
              0.8888888888888888,
              "#fdca26"
             ],
             [
              1,
              "#f0f921"
             ]
            ],
            "type": "heatmap"
           }
          ],
          "heatmapgl": [
           {
            "colorbar": {
             "outlinewidth": 0,
             "ticks": ""
            },
            "colorscale": [
             [
              0,
              "#0d0887"
             ],
             [
              0.1111111111111111,
              "#46039f"
             ],
             [
              0.2222222222222222,
              "#7201a8"
             ],
             [
              0.3333333333333333,
              "#9c179e"
             ],
             [
              0.4444444444444444,
              "#bd3786"
             ],
             [
              0.5555555555555556,
              "#d8576b"
             ],
             [
              0.6666666666666666,
              "#ed7953"
             ],
             [
              0.7777777777777778,
              "#fb9f3a"
             ],
             [
              0.8888888888888888,
              "#fdca26"
             ],
             [
              1,
              "#f0f921"
             ]
            ],
            "type": "heatmapgl"
           }
          ],
          "histogram": [
           {
            "marker": {
             "pattern": {
              "fillmode": "overlay",
              "size": 10,
              "solidity": 0.2
             }
            },
            "type": "histogram"
           }
          ],
          "histogram2d": [
           {
            "colorbar": {
             "outlinewidth": 0,
             "ticks": ""
            },
            "colorscale": [
             [
              0,
              "#0d0887"
             ],
             [
              0.1111111111111111,
              "#46039f"
             ],
             [
              0.2222222222222222,
              "#7201a8"
             ],
             [
              0.3333333333333333,
              "#9c179e"
             ],
             [
              0.4444444444444444,
              "#bd3786"
             ],
             [
              0.5555555555555556,
              "#d8576b"
             ],
             [
              0.6666666666666666,
              "#ed7953"
             ],
             [
              0.7777777777777778,
              "#fb9f3a"
             ],
             [
              0.8888888888888888,
              "#fdca26"
             ],
             [
              1,
              "#f0f921"
             ]
            ],
            "type": "histogram2d"
           }
          ],
          "histogram2dcontour": [
           {
            "colorbar": {
             "outlinewidth": 0,
             "ticks": ""
            },
            "colorscale": [
             [
              0,
              "#0d0887"
             ],
             [
              0.1111111111111111,
              "#46039f"
             ],
             [
              0.2222222222222222,
              "#7201a8"
             ],
             [
              0.3333333333333333,
              "#9c179e"
             ],
             [
              0.4444444444444444,
              "#bd3786"
             ],
             [
              0.5555555555555556,
              "#d8576b"
             ],
             [
              0.6666666666666666,
              "#ed7953"
             ],
             [
              0.7777777777777778,
              "#fb9f3a"
             ],
             [
              0.8888888888888888,
              "#fdca26"
             ],
             [
              1,
              "#f0f921"
             ]
            ],
            "type": "histogram2dcontour"
           }
          ],
          "mesh3d": [
           {
            "colorbar": {
             "outlinewidth": 0,
             "ticks": ""
            },
            "type": "mesh3d"
           }
          ],
          "parcoords": [
           {
            "line": {
             "colorbar": {
              "outlinewidth": 0,
              "ticks": ""
             }
            },
            "type": "parcoords"
           }
          ],
          "pie": [
           {
            "automargin": true,
            "type": "pie"
           }
          ],
          "scatter": [
           {
            "fillpattern": {
             "fillmode": "overlay",
             "size": 10,
             "solidity": 0.2
            },
            "type": "scatter"
           }
          ],
          "scatter3d": [
           {
            "line": {
             "colorbar": {
              "outlinewidth": 0,
              "ticks": ""
             }
            },
            "marker": {
             "colorbar": {
              "outlinewidth": 0,
              "ticks": ""
             }
            },
            "type": "scatter3d"
           }
          ],
          "scattercarpet": [
           {
            "marker": {
             "colorbar": {
              "outlinewidth": 0,
              "ticks": ""
             }
            },
            "type": "scattercarpet"
           }
          ],
          "scattergeo": [
           {
            "marker": {
             "colorbar": {
              "outlinewidth": 0,
              "ticks": ""
             }
            },
            "type": "scattergeo"
           }
          ],
          "scattergl": [
           {
            "marker": {
             "colorbar": {
              "outlinewidth": 0,
              "ticks": ""
             }
            },
            "type": "scattergl"
           }
          ],
          "scattermapbox": [
           {
            "marker": {
             "colorbar": {
              "outlinewidth": 0,
              "ticks": ""
             }
            },
            "type": "scattermapbox"
           }
          ],
          "scatterpolar": [
           {
            "marker": {
             "colorbar": {
              "outlinewidth": 0,
              "ticks": ""
             }
            },
            "type": "scatterpolar"
           }
          ],
          "scatterpolargl": [
           {
            "marker": {
             "colorbar": {
              "outlinewidth": 0,
              "ticks": ""
             }
            },
            "type": "scatterpolargl"
           }
          ],
          "scatterternary": [
           {
            "marker": {
             "colorbar": {
              "outlinewidth": 0,
              "ticks": ""
             }
            },
            "type": "scatterternary"
           }
          ],
          "surface": [
           {
            "colorbar": {
             "outlinewidth": 0,
             "ticks": ""
            },
            "colorscale": [
             [
              0,
              "#0d0887"
             ],
             [
              0.1111111111111111,
              "#46039f"
             ],
             [
              0.2222222222222222,
              "#7201a8"
             ],
             [
              0.3333333333333333,
              "#9c179e"
             ],
             [
              0.4444444444444444,
              "#bd3786"
             ],
             [
              0.5555555555555556,
              "#d8576b"
             ],
             [
              0.6666666666666666,
              "#ed7953"
             ],
             [
              0.7777777777777778,
              "#fb9f3a"
             ],
             [
              0.8888888888888888,
              "#fdca26"
             ],
             [
              1,
              "#f0f921"
             ]
            ],
            "type": "surface"
           }
          ],
          "table": [
           {
            "cells": {
             "fill": {
              "color": "#EBF0F8"
             },
             "line": {
              "color": "white"
             }
            },
            "header": {
             "fill": {
              "color": "#C8D4E3"
             },
             "line": {
              "color": "white"
             }
            },
            "type": "table"
           }
          ]
         },
         "layout": {
          "annotationdefaults": {
           "arrowcolor": "#2a3f5f",
           "arrowhead": 0,
           "arrowwidth": 1
          },
          "autotypenumbers": "strict",
          "coloraxis": {
           "colorbar": {
            "outlinewidth": 0,
            "ticks": ""
           }
          },
          "colorscale": {
           "diverging": [
            [
             0,
             "#8e0152"
            ],
            [
             0.1,
             "#c51b7d"
            ],
            [
             0.2,
             "#de77ae"
            ],
            [
             0.3,
             "#f1b6da"
            ],
            [
             0.4,
             "#fde0ef"
            ],
            [
             0.5,
             "#f7f7f7"
            ],
            [
             0.6,
             "#e6f5d0"
            ],
            [
             0.7,
             "#b8e186"
            ],
            [
             0.8,
             "#7fbc41"
            ],
            [
             0.9,
             "#4d9221"
            ],
            [
             1,
             "#276419"
            ]
           ],
           "sequential": [
            [
             0,
             "#0d0887"
            ],
            [
             0.1111111111111111,
             "#46039f"
            ],
            [
             0.2222222222222222,
             "#7201a8"
            ],
            [
             0.3333333333333333,
             "#9c179e"
            ],
            [
             0.4444444444444444,
             "#bd3786"
            ],
            [
             0.5555555555555556,
             "#d8576b"
            ],
            [
             0.6666666666666666,
             "#ed7953"
            ],
            [
             0.7777777777777778,
             "#fb9f3a"
            ],
            [
             0.8888888888888888,
             "#fdca26"
            ],
            [
             1,
             "#f0f921"
            ]
           ],
           "sequentialminus": [
            [
             0,
             "#0d0887"
            ],
            [
             0.1111111111111111,
             "#46039f"
            ],
            [
             0.2222222222222222,
             "#7201a8"
            ],
            [
             0.3333333333333333,
             "#9c179e"
            ],
            [
             0.4444444444444444,
             "#bd3786"
            ],
            [
             0.5555555555555556,
             "#d8576b"
            ],
            [
             0.6666666666666666,
             "#ed7953"
            ],
            [
             0.7777777777777778,
             "#fb9f3a"
            ],
            [
             0.8888888888888888,
             "#fdca26"
            ],
            [
             1,
             "#f0f921"
            ]
           ]
          },
          "colorway": [
           "#636efa",
           "#EF553B",
           "#00cc96",
           "#ab63fa",
           "#FFA15A",
           "#19d3f3",
           "#FF6692",
           "#B6E880",
           "#FF97FF",
           "#FECB52"
          ],
          "font": {
           "color": "#2a3f5f"
          },
          "geo": {
           "bgcolor": "white",
           "lakecolor": "white",
           "landcolor": "white",
           "showlakes": true,
           "showland": true,
           "subunitcolor": "#C8D4E3"
          },
          "hoverlabel": {
           "align": "left"
          },
          "hovermode": "closest",
          "mapbox": {
           "style": "light"
          },
          "paper_bgcolor": "white",
          "plot_bgcolor": "white",
          "polar": {
           "angularaxis": {
            "gridcolor": "#EBF0F8",
            "linecolor": "#EBF0F8",
            "ticks": ""
           },
           "bgcolor": "white",
           "radialaxis": {
            "gridcolor": "#EBF0F8",
            "linecolor": "#EBF0F8",
            "ticks": ""
           }
          },
          "scene": {
           "xaxis": {
            "backgroundcolor": "white",
            "gridcolor": "#DFE8F3",
            "gridwidth": 2,
            "linecolor": "#EBF0F8",
            "showbackground": true,
            "ticks": "",
            "zerolinecolor": "#EBF0F8"
           },
           "yaxis": {
            "backgroundcolor": "white",
            "gridcolor": "#DFE8F3",
            "gridwidth": 2,
            "linecolor": "#EBF0F8",
            "showbackground": true,
            "ticks": "",
            "zerolinecolor": "#EBF0F8"
           },
           "zaxis": {
            "backgroundcolor": "white",
            "gridcolor": "#DFE8F3",
            "gridwidth": 2,
            "linecolor": "#EBF0F8",
            "showbackground": true,
            "ticks": "",
            "zerolinecolor": "#EBF0F8"
           }
          },
          "shapedefaults": {
           "line": {
            "color": "#2a3f5f"
           }
          },
          "ternary": {
           "aaxis": {
            "gridcolor": "#DFE8F3",
            "linecolor": "#A2B1C6",
            "ticks": ""
           },
           "baxis": {
            "gridcolor": "#DFE8F3",
            "linecolor": "#A2B1C6",
            "ticks": ""
           },
           "bgcolor": "white",
           "caxis": {
            "gridcolor": "#DFE8F3",
            "linecolor": "#A2B1C6",
            "ticks": ""
           }
          },
          "title": {
           "x": 0.05
          },
          "xaxis": {
           "automargin": true,
           "gridcolor": "#EBF0F8",
           "linecolor": "#EBF0F8",
           "ticks": "",
           "title": {
            "standoff": 15
           },
           "zerolinecolor": "#EBF0F8",
           "zerolinewidth": 2
          },
          "yaxis": {
           "automargin": true,
           "gridcolor": "#EBF0F8",
           "linecolor": "#EBF0F8",
           "ticks": "",
           "title": {
            "standoff": 15
           },
           "zerolinecolor": "#EBF0F8",
           "zerolinewidth": 2
          }
         }
        },
        "title": {
         "font": {
          "color": "Black",
          "size": 22
         },
         "text": "Topic Word Scores",
         "x": 0.5,
         "xanchor": "center",
         "yanchor": "top"
        },
        "width": 1200,
        "xaxis": {
         "anchor": "y",
         "domain": [
          0,
          0.175
         ],
         "showgrid": true
        },
        "xaxis10": {
         "anchor": "y10",
         "domain": [
          0.275,
          0.45
         ],
         "showgrid": true
        },
        "xaxis11": {
         "anchor": "y11",
         "domain": [
          0.55,
          0.7250000000000001
         ],
         "showgrid": true
        },
        "xaxis12": {
         "anchor": "y12",
         "domain": [
          0.825,
          1
         ],
         "showgrid": true
        },
        "xaxis2": {
         "anchor": "y2",
         "domain": [
          0.275,
          0.45
         ],
         "showgrid": true
        },
        "xaxis3": {
         "anchor": "y3",
         "domain": [
          0.55,
          0.7250000000000001
         ],
         "showgrid": true
        },
        "xaxis4": {
         "anchor": "y4",
         "domain": [
          0.825,
          1
         ],
         "showgrid": true
        },
        "xaxis5": {
         "anchor": "y5",
         "domain": [
          0,
          0.175
         ],
         "showgrid": true
        },
        "xaxis6": {
         "anchor": "y6",
         "domain": [
          0.275,
          0.45
         ],
         "showgrid": true
        },
        "xaxis7": {
         "anchor": "y7",
         "domain": [
          0.55,
          0.7250000000000001
         ],
         "showgrid": true
        },
        "xaxis8": {
         "anchor": "y8",
         "domain": [
          0.825,
          1
         ],
         "showgrid": true
        },
        "xaxis9": {
         "anchor": "y9",
         "domain": [
          0,
          0.175
         ],
         "showgrid": true
        },
        "yaxis": {
         "anchor": "x",
         "domain": [
          0.7555555555555555,
          1
         ],
         "showgrid": true
        },
        "yaxis10": {
         "anchor": "x10",
         "domain": [
          0,
          0.24444444444444446
         ],
         "showgrid": true
        },
        "yaxis11": {
         "anchor": "x11",
         "domain": [
          0,
          0.24444444444444446
         ],
         "showgrid": true
        },
        "yaxis12": {
         "anchor": "x12",
         "domain": [
          0,
          0.24444444444444446
         ],
         "showgrid": true
        },
        "yaxis2": {
         "anchor": "x2",
         "domain": [
          0.7555555555555555,
          1
         ],
         "showgrid": true
        },
        "yaxis3": {
         "anchor": "x3",
         "domain": [
          0.7555555555555555,
          1
         ],
         "showgrid": true
        },
        "yaxis4": {
         "anchor": "x4",
         "domain": [
          0.7555555555555555,
          1
         ],
         "showgrid": true
        },
        "yaxis5": {
         "anchor": "x5",
         "domain": [
          0.37777777777777777,
          0.6222222222222222
         ],
         "showgrid": true
        },
        "yaxis6": {
         "anchor": "x6",
         "domain": [
          0.37777777777777777,
          0.6222222222222222
         ],
         "showgrid": true
        },
        "yaxis7": {
         "anchor": "x7",
         "domain": [
          0.37777777777777777,
          0.6222222222222222
         ],
         "showgrid": true
        },
        "yaxis8": {
         "anchor": "x8",
         "domain": [
          0.37777777777777777,
          0.6222222222222222
         ],
         "showgrid": true
        },
        "yaxis9": {
         "anchor": "x9",
         "domain": [
          0,
          0.24444444444444446
         ],
         "showgrid": true
        }
       }
      }
     },
     "metadata": {},
     "output_type": "display_data"
    }
   ],
   "source": [
    "\n",
    "model.visualize_barchart(top_n_topics=17, n_words= 10, width = 300, height = 350)"
   ]
  },
  {
   "cell_type": "code",
   "execution_count": null,
   "metadata": {},
   "outputs": [
    {
     "data": {
      "application/vnd.plotly.v1+json": {
       "config": {
        "plotlyServerURL": "https://plotly.com"
       },
       "data": [
        {
         "customdata": [
          [
           0,
           "bike | car | parking | service | station",
           846
          ],
          [
           1,
           "parking | tram | garage | great | spacious",
           220
          ],
          [
           2,
           "easy | expensive | handy | cheap | good",
           158
          ],
          [
           3,
           "public | transport | euros | parking | people",
           97
          ],
          [
           4,
           "great | good | nice | neat | excellent",
           89
          ],
          [
           5,
           "station | south | busy | nice | big",
           64
          ],
          [
           6,
           "staff | friendly | service | good | helpful",
           49
          ],
          [
           7,
           "cheap | parking | transport | public | free",
           46
          ],
          [
           8,
           "ok | confusing | bit | everything | unavailable",
           19
          ]
         ],
         "hovertemplate": "<b>Topic %{customdata[0]}</b><br>%{customdata[1]}<br>Size: %{customdata[2]}",
         "legendgroup": "",
         "marker": {
          "color": "#B0BEC5",
          "line": {
           "color": "DarkSlateGrey",
           "width": 2
          },
          "size": [
           846,
           220,
           158,
           97,
           89,
           64,
           49,
           46,
           19
          ],
          "sizemode": "area",
          "sizeref": 0.52875,
          "symbol": "circle"
         },
         "mode": "markers",
         "name": "",
         "orientation": "v",
         "showlegend": false,
         "type": "scatter",
         "x": [
          30.013916015625,
          29.207012176513672,
          1.6276215314865112,
          29.357120513916016,
          2.4147393703460693,
          1.4890753030776978,
          2.7924864292144775,
          29.725872039794922,
          2.627455234527588
         ],
         "xaxis": "x",
         "y": [
          15.592462539672852,
          15.769840240478516,
          -5.5554938316345215,
          15.254144668579102,
          -5.620424270629883,
          -5.018831729888916,
          -5.195420742034912,
          14.887876510620117,
          -6.11225700378418
         ],
         "yaxis": "y"
        }
       ],
       "layout": {
        "annotations": [
         {
          "showarrow": false,
          "text": "D1",
          "x": 1.2657140076160431,
          "y": 5.553110361099242,
          "yshift": 10
         },
         {
          "showarrow": false,
          "text": "D2",
          "x": 17.890858712792394,
          "xshift": 10,
          "y": 18.13531627655029
         }
        ],
        "height": 650,
        "hoverlabel": {
         "bgcolor": "white",
         "font": {
          "family": "Rockwell",
          "size": 16
         }
        },
        "legend": {
         "itemsizing": "constant",
         "tracegroupgap": 0
        },
        "margin": {
         "t": 60
        },
        "shapes": [
         {
          "line": {
           "color": "#CFD8DC",
           "width": 2
          },
          "type": "line",
          "x0": 17.890858712792394,
          "x1": 17.890858712792394,
          "y0": -7.029095554351807,
          "y1": 18.13531627655029
         },
         {
          "line": {
           "color": "#9E9E9E",
           "width": 2
          },
          "type": "line",
          "x0": 1.2657140076160431,
          "x1": 34.51600341796875,
          "y0": 5.553110361099242,
          "y1": 5.553110361099242
         }
        ],
        "sliders": [
         {
          "active": 0,
          "pad": {
           "t": 50
          },
          "steps": [
           {
            "args": [
             {
              "marker.color": [
               [
                "red",
                "#B0BEC5",
                "#B0BEC5",
                "#B0BEC5",
                "#B0BEC5",
                "#B0BEC5",
                "#B0BEC5",
                "#B0BEC5",
                "#B0BEC5"
               ]
              ]
             }
            ],
            "label": "Topic 0",
            "method": "update"
           },
           {
            "args": [
             {
              "marker.color": [
               [
                "#B0BEC5",
                "red",
                "#B0BEC5",
                "#B0BEC5",
                "#B0BEC5",
                "#B0BEC5",
                "#B0BEC5",
                "#B0BEC5",
                "#B0BEC5"
               ]
              ]
             }
            ],
            "label": "Topic 1",
            "method": "update"
           },
           {
            "args": [
             {
              "marker.color": [
               [
                "#B0BEC5",
                "#B0BEC5",
                "red",
                "#B0BEC5",
                "#B0BEC5",
                "#B0BEC5",
                "#B0BEC5",
                "#B0BEC5",
                "#B0BEC5"
               ]
              ]
             }
            ],
            "label": "Topic 2",
            "method": "update"
           },
           {
            "args": [
             {
              "marker.color": [
               [
                "#B0BEC5",
                "#B0BEC5",
                "#B0BEC5",
                "red",
                "#B0BEC5",
                "#B0BEC5",
                "#B0BEC5",
                "#B0BEC5",
                "#B0BEC5"
               ]
              ]
             }
            ],
            "label": "Topic 3",
            "method": "update"
           },
           {
            "args": [
             {
              "marker.color": [
               [
                "#B0BEC5",
                "#B0BEC5",
                "#B0BEC5",
                "#B0BEC5",
                "red",
                "#B0BEC5",
                "#B0BEC5",
                "#B0BEC5",
                "#B0BEC5"
               ]
              ]
             }
            ],
            "label": "Topic 4",
            "method": "update"
           },
           {
            "args": [
             {
              "marker.color": [
               [
                "#B0BEC5",
                "#B0BEC5",
                "#B0BEC5",
                "#B0BEC5",
                "#B0BEC5",
                "red",
                "#B0BEC5",
                "#B0BEC5",
                "#B0BEC5"
               ]
              ]
             }
            ],
            "label": "Topic 5",
            "method": "update"
           },
           {
            "args": [
             {
              "marker.color": [
               [
                "#B0BEC5",
                "#B0BEC5",
                "#B0BEC5",
                "#B0BEC5",
                "#B0BEC5",
                "#B0BEC5",
                "red",
                "#B0BEC5",
                "#B0BEC5"
               ]
              ]
             }
            ],
            "label": "Topic 6",
            "method": "update"
           },
           {
            "args": [
             {
              "marker.color": [
               [
                "#B0BEC5",
                "#B0BEC5",
                "#B0BEC5",
                "#B0BEC5",
                "#B0BEC5",
                "#B0BEC5",
                "#B0BEC5",
                "red",
                "#B0BEC5"
               ]
              ]
             }
            ],
            "label": "Topic 7",
            "method": "update"
           },
           {
            "args": [
             {
              "marker.color": [
               [
                "#B0BEC5",
                "#B0BEC5",
                "#B0BEC5",
                "#B0BEC5",
                "#B0BEC5",
                "#B0BEC5",
                "#B0BEC5",
                "#B0BEC5",
                "red"
               ]
              ]
             }
            ],
            "label": "Topic 8",
            "method": "update"
           }
          ]
         }
        ],
        "template": {
         "data": {
          "bar": [
           {
            "error_x": {
             "color": "rgb(36,36,36)"
            },
            "error_y": {
             "color": "rgb(36,36,36)"
            },
            "marker": {
             "line": {
              "color": "white",
              "width": 0.5
             },
             "pattern": {
              "fillmode": "overlay",
              "size": 10,
              "solidity": 0.2
             }
            },
            "type": "bar"
           }
          ],
          "barpolar": [
           {
            "marker": {
             "line": {
              "color": "white",
              "width": 0.5
             },
             "pattern": {
              "fillmode": "overlay",
              "size": 10,
              "solidity": 0.2
             }
            },
            "type": "barpolar"
           }
          ],
          "carpet": [
           {
            "aaxis": {
             "endlinecolor": "rgb(36,36,36)",
             "gridcolor": "white",
             "linecolor": "white",
             "minorgridcolor": "white",
             "startlinecolor": "rgb(36,36,36)"
            },
            "baxis": {
             "endlinecolor": "rgb(36,36,36)",
             "gridcolor": "white",
             "linecolor": "white",
             "minorgridcolor": "white",
             "startlinecolor": "rgb(36,36,36)"
            },
            "type": "carpet"
           }
          ],
          "choropleth": [
           {
            "colorbar": {
             "outlinewidth": 1,
             "tickcolor": "rgb(36,36,36)",
             "ticks": "outside"
            },
            "type": "choropleth"
           }
          ],
          "contour": [
           {
            "colorbar": {
             "outlinewidth": 1,
             "tickcolor": "rgb(36,36,36)",
             "ticks": "outside"
            },
            "colorscale": [
             [
              0,
              "#440154"
             ],
             [
              0.1111111111111111,
              "#482878"
             ],
             [
              0.2222222222222222,
              "#3e4989"
             ],
             [
              0.3333333333333333,
              "#31688e"
             ],
             [
              0.4444444444444444,
              "#26828e"
             ],
             [
              0.5555555555555556,
              "#1f9e89"
             ],
             [
              0.6666666666666666,
              "#35b779"
             ],
             [
              0.7777777777777778,
              "#6ece58"
             ],
             [
              0.8888888888888888,
              "#b5de2b"
             ],
             [
              1,
              "#fde725"
             ]
            ],
            "type": "contour"
           }
          ],
          "contourcarpet": [
           {
            "colorbar": {
             "outlinewidth": 1,
             "tickcolor": "rgb(36,36,36)",
             "ticks": "outside"
            },
            "type": "contourcarpet"
           }
          ],
          "heatmap": [
           {
            "colorbar": {
             "outlinewidth": 1,
             "tickcolor": "rgb(36,36,36)",
             "ticks": "outside"
            },
            "colorscale": [
             [
              0,
              "#440154"
             ],
             [
              0.1111111111111111,
              "#482878"
             ],
             [
              0.2222222222222222,
              "#3e4989"
             ],
             [
              0.3333333333333333,
              "#31688e"
             ],
             [
              0.4444444444444444,
              "#26828e"
             ],
             [
              0.5555555555555556,
              "#1f9e89"
             ],
             [
              0.6666666666666666,
              "#35b779"
             ],
             [
              0.7777777777777778,
              "#6ece58"
             ],
             [
              0.8888888888888888,
              "#b5de2b"
             ],
             [
              1,
              "#fde725"
             ]
            ],
            "type": "heatmap"
           }
          ],
          "heatmapgl": [
           {
            "colorbar": {
             "outlinewidth": 1,
             "tickcolor": "rgb(36,36,36)",
             "ticks": "outside"
            },
            "colorscale": [
             [
              0,
              "#440154"
             ],
             [
              0.1111111111111111,
              "#482878"
             ],
             [
              0.2222222222222222,
              "#3e4989"
             ],
             [
              0.3333333333333333,
              "#31688e"
             ],
             [
              0.4444444444444444,
              "#26828e"
             ],
             [
              0.5555555555555556,
              "#1f9e89"
             ],
             [
              0.6666666666666666,
              "#35b779"
             ],
             [
              0.7777777777777778,
              "#6ece58"
             ],
             [
              0.8888888888888888,
              "#b5de2b"
             ],
             [
              1,
              "#fde725"
             ]
            ],
            "type": "heatmapgl"
           }
          ],
          "histogram": [
           {
            "marker": {
             "line": {
              "color": "white",
              "width": 0.6
             }
            },
            "type": "histogram"
           }
          ],
          "histogram2d": [
           {
            "colorbar": {
             "outlinewidth": 1,
             "tickcolor": "rgb(36,36,36)",
             "ticks": "outside"
            },
            "colorscale": [
             [
              0,
              "#440154"
             ],
             [
              0.1111111111111111,
              "#482878"
             ],
             [
              0.2222222222222222,
              "#3e4989"
             ],
             [
              0.3333333333333333,
              "#31688e"
             ],
             [
              0.4444444444444444,
              "#26828e"
             ],
             [
              0.5555555555555556,
              "#1f9e89"
             ],
             [
              0.6666666666666666,
              "#35b779"
             ],
             [
              0.7777777777777778,
              "#6ece58"
             ],
             [
              0.8888888888888888,
              "#b5de2b"
             ],
             [
              1,
              "#fde725"
             ]
            ],
            "type": "histogram2d"
           }
          ],
          "histogram2dcontour": [
           {
            "colorbar": {
             "outlinewidth": 1,
             "tickcolor": "rgb(36,36,36)",
             "ticks": "outside"
            },
            "colorscale": [
             [
              0,
              "#440154"
             ],
             [
              0.1111111111111111,
              "#482878"
             ],
             [
              0.2222222222222222,
              "#3e4989"
             ],
             [
              0.3333333333333333,
              "#31688e"
             ],
             [
              0.4444444444444444,
              "#26828e"
             ],
             [
              0.5555555555555556,
              "#1f9e89"
             ],
             [
              0.6666666666666666,
              "#35b779"
             ],
             [
              0.7777777777777778,
              "#6ece58"
             ],
             [
              0.8888888888888888,
              "#b5de2b"
             ],
             [
              1,
              "#fde725"
             ]
            ],
            "type": "histogram2dcontour"
           }
          ],
          "mesh3d": [
           {
            "colorbar": {
             "outlinewidth": 1,
             "tickcolor": "rgb(36,36,36)",
             "ticks": "outside"
            },
            "type": "mesh3d"
           }
          ],
          "parcoords": [
           {
            "line": {
             "colorbar": {
              "outlinewidth": 1,
              "tickcolor": "rgb(36,36,36)",
              "ticks": "outside"
             }
            },
            "type": "parcoords"
           }
          ],
          "pie": [
           {
            "automargin": true,
            "type": "pie"
           }
          ],
          "scatter": [
           {
            "fillpattern": {
             "fillmode": "overlay",
             "size": 10,
             "solidity": 0.2
            },
            "type": "scatter"
           }
          ],
          "scatter3d": [
           {
            "line": {
             "colorbar": {
              "outlinewidth": 1,
              "tickcolor": "rgb(36,36,36)",
              "ticks": "outside"
             }
            },
            "marker": {
             "colorbar": {
              "outlinewidth": 1,
              "tickcolor": "rgb(36,36,36)",
              "ticks": "outside"
             }
            },
            "type": "scatter3d"
           }
          ],
          "scattercarpet": [
           {
            "marker": {
             "colorbar": {
              "outlinewidth": 1,
              "tickcolor": "rgb(36,36,36)",
              "ticks": "outside"
             }
            },
            "type": "scattercarpet"
           }
          ],
          "scattergeo": [
           {
            "marker": {
             "colorbar": {
              "outlinewidth": 1,
              "tickcolor": "rgb(36,36,36)",
              "ticks": "outside"
             }
            },
            "type": "scattergeo"
           }
          ],
          "scattergl": [
           {
            "marker": {
             "colorbar": {
              "outlinewidth": 1,
              "tickcolor": "rgb(36,36,36)",
              "ticks": "outside"
             }
            },
            "type": "scattergl"
           }
          ],
          "scattermapbox": [
           {
            "marker": {
             "colorbar": {
              "outlinewidth": 1,
              "tickcolor": "rgb(36,36,36)",
              "ticks": "outside"
             }
            },
            "type": "scattermapbox"
           }
          ],
          "scatterpolar": [
           {
            "marker": {
             "colorbar": {
              "outlinewidth": 1,
              "tickcolor": "rgb(36,36,36)",
              "ticks": "outside"
             }
            },
            "type": "scatterpolar"
           }
          ],
          "scatterpolargl": [
           {
            "marker": {
             "colorbar": {
              "outlinewidth": 1,
              "tickcolor": "rgb(36,36,36)",
              "ticks": "outside"
             }
            },
            "type": "scatterpolargl"
           }
          ],
          "scatterternary": [
           {
            "marker": {
             "colorbar": {
              "outlinewidth": 1,
              "tickcolor": "rgb(36,36,36)",
              "ticks": "outside"
             }
            },
            "type": "scatterternary"
           }
          ],
          "surface": [
           {
            "colorbar": {
             "outlinewidth": 1,
             "tickcolor": "rgb(36,36,36)",
             "ticks": "outside"
            },
            "colorscale": [
             [
              0,
              "#440154"
             ],
             [
              0.1111111111111111,
              "#482878"
             ],
             [
              0.2222222222222222,
              "#3e4989"
             ],
             [
              0.3333333333333333,
              "#31688e"
             ],
             [
              0.4444444444444444,
              "#26828e"
             ],
             [
              0.5555555555555556,
              "#1f9e89"
             ],
             [
              0.6666666666666666,
              "#35b779"
             ],
             [
              0.7777777777777778,
              "#6ece58"
             ],
             [
              0.8888888888888888,
              "#b5de2b"
             ],
             [
              1,
              "#fde725"
             ]
            ],
            "type": "surface"
           }
          ],
          "table": [
           {
            "cells": {
             "fill": {
              "color": "rgb(237,237,237)"
             },
             "line": {
              "color": "white"
             }
            },
            "header": {
             "fill": {
              "color": "rgb(217,217,217)"
             },
             "line": {
              "color": "white"
             }
            },
            "type": "table"
           }
          ]
         },
         "layout": {
          "annotationdefaults": {
           "arrowhead": 0,
           "arrowwidth": 1
          },
          "autotypenumbers": "strict",
          "coloraxis": {
           "colorbar": {
            "outlinewidth": 1,
            "tickcolor": "rgb(36,36,36)",
            "ticks": "outside"
           }
          },
          "colorscale": {
           "diverging": [
            [
             0,
             "rgb(103,0,31)"
            ],
            [
             0.1,
             "rgb(178,24,43)"
            ],
            [
             0.2,
             "rgb(214,96,77)"
            ],
            [
             0.3,
             "rgb(244,165,130)"
            ],
            [
             0.4,
             "rgb(253,219,199)"
            ],
            [
             0.5,
             "rgb(247,247,247)"
            ],
            [
             0.6,
             "rgb(209,229,240)"
            ],
            [
             0.7,
             "rgb(146,197,222)"
            ],
            [
             0.8,
             "rgb(67,147,195)"
            ],
            [
             0.9,
             "rgb(33,102,172)"
            ],
            [
             1,
             "rgb(5,48,97)"
            ]
           ],
           "sequential": [
            [
             0,
             "#440154"
            ],
            [
             0.1111111111111111,
             "#482878"
            ],
            [
             0.2222222222222222,
             "#3e4989"
            ],
            [
             0.3333333333333333,
             "#31688e"
            ],
            [
             0.4444444444444444,
             "#26828e"
            ],
            [
             0.5555555555555556,
             "#1f9e89"
            ],
            [
             0.6666666666666666,
             "#35b779"
            ],
            [
             0.7777777777777778,
             "#6ece58"
            ],
            [
             0.8888888888888888,
             "#b5de2b"
            ],
            [
             1,
             "#fde725"
            ]
           ],
           "sequentialminus": [
            [
             0,
             "#440154"
            ],
            [
             0.1111111111111111,
             "#482878"
            ],
            [
             0.2222222222222222,
             "#3e4989"
            ],
            [
             0.3333333333333333,
             "#31688e"
            ],
            [
             0.4444444444444444,
             "#26828e"
            ],
            [
             0.5555555555555556,
             "#1f9e89"
            ],
            [
             0.6666666666666666,
             "#35b779"
            ],
            [
             0.7777777777777778,
             "#6ece58"
            ],
            [
             0.8888888888888888,
             "#b5de2b"
            ],
            [
             1,
             "#fde725"
            ]
           ]
          },
          "colorway": [
           "#1F77B4",
           "#FF7F0E",
           "#2CA02C",
           "#D62728",
           "#9467BD",
           "#8C564B",
           "#E377C2",
           "#7F7F7F",
           "#BCBD22",
           "#17BECF"
          ],
          "font": {
           "color": "rgb(36,36,36)"
          },
          "geo": {
           "bgcolor": "white",
           "lakecolor": "white",
           "landcolor": "white",
           "showlakes": true,
           "showland": true,
           "subunitcolor": "white"
          },
          "hoverlabel": {
           "align": "left"
          },
          "hovermode": "closest",
          "mapbox": {
           "style": "light"
          },
          "paper_bgcolor": "white",
          "plot_bgcolor": "white",
          "polar": {
           "angularaxis": {
            "gridcolor": "rgb(232,232,232)",
            "linecolor": "rgb(36,36,36)",
            "showgrid": false,
            "showline": true,
            "ticks": "outside"
           },
           "bgcolor": "white",
           "radialaxis": {
            "gridcolor": "rgb(232,232,232)",
            "linecolor": "rgb(36,36,36)",
            "showgrid": false,
            "showline": true,
            "ticks": "outside"
           }
          },
          "scene": {
           "xaxis": {
            "backgroundcolor": "white",
            "gridcolor": "rgb(232,232,232)",
            "gridwidth": 2,
            "linecolor": "rgb(36,36,36)",
            "showbackground": true,
            "showgrid": false,
            "showline": true,
            "ticks": "outside",
            "zeroline": false,
            "zerolinecolor": "rgb(36,36,36)"
           },
           "yaxis": {
            "backgroundcolor": "white",
            "gridcolor": "rgb(232,232,232)",
            "gridwidth": 2,
            "linecolor": "rgb(36,36,36)",
            "showbackground": true,
            "showgrid": false,
            "showline": true,
            "ticks": "outside",
            "zeroline": false,
            "zerolinecolor": "rgb(36,36,36)"
           },
           "zaxis": {
            "backgroundcolor": "white",
            "gridcolor": "rgb(232,232,232)",
            "gridwidth": 2,
            "linecolor": "rgb(36,36,36)",
            "showbackground": true,
            "showgrid": false,
            "showline": true,
            "ticks": "outside",
            "zeroline": false,
            "zerolinecolor": "rgb(36,36,36)"
           }
          },
          "shapedefaults": {
           "fillcolor": "black",
           "line": {
            "width": 0
           },
           "opacity": 0.3
          },
          "ternary": {
           "aaxis": {
            "gridcolor": "rgb(232,232,232)",
            "linecolor": "rgb(36,36,36)",
            "showgrid": false,
            "showline": true,
            "ticks": "outside"
           },
           "baxis": {
            "gridcolor": "rgb(232,232,232)",
            "linecolor": "rgb(36,36,36)",
            "showgrid": false,
            "showline": true,
            "ticks": "outside"
           },
           "bgcolor": "white",
           "caxis": {
            "gridcolor": "rgb(232,232,232)",
            "linecolor": "rgb(36,36,36)",
            "showgrid": false,
            "showline": true,
            "ticks": "outside"
           }
          },
          "title": {
           "x": 0.05
          },
          "xaxis": {
           "automargin": true,
           "gridcolor": "rgb(232,232,232)",
           "linecolor": "rgb(36,36,36)",
           "showgrid": false,
           "showline": true,
           "ticks": "outside",
           "title": {
            "standoff": 15
           },
           "zeroline": false,
           "zerolinecolor": "rgb(36,36,36)"
          },
          "yaxis": {
           "automargin": true,
           "gridcolor": "rgb(232,232,232)",
           "linecolor": "rgb(36,36,36)",
           "showgrid": false,
           "showline": true,
           "ticks": "outside",
           "title": {
            "standoff": 15
           },
           "zeroline": false,
           "zerolinecolor": "rgb(36,36,36)"
          }
         }
        },
        "title": {
         "font": {
          "color": "Black",
          "size": 22
         },
         "text": "<b>Intertopic Distance Map</b>",
         "x": 0.5,
         "xanchor": "center",
         "y": 0.95,
         "yanchor": "top"
        },
        "width": 650,
        "xaxis": {
         "anchor": "y",
         "domain": [
          0,
          1
         ],
         "range": [
          1.2657140076160431,
          34.51600341796875
         ],
         "title": {
          "text": ""
         },
         "visible": false
        },
        "yaxis": {
         "anchor": "x",
         "domain": [
          0,
          1
         ],
         "range": [
          -7.029095554351807,
          18.13531627655029
         ],
         "title": {
          "text": ""
         },
         "visible": false
        }
       }
      }
     },
     "metadata": {},
     "output_type": "display_data"
    }
   ],
   "source": [
    "model.visualize_topics()"
   ]
  },
  {
   "cell_type": "code",
   "execution_count": null,
   "metadata": {},
   "outputs": [
    {
     "data": {
      "text/html": [
       "<div>\n",
       "<style scoped>\n",
       "    .dataframe tbody tr th:only-of-type {\n",
       "        vertical-align: middle;\n",
       "    }\n",
       "\n",
       "    .dataframe tbody tr th {\n",
       "        vertical-align: top;\n",
       "    }\n",
       "\n",
       "    .dataframe thead th {\n",
       "        text-align: right;\n",
       "    }\n",
       "</style>\n",
       "<table border=\"1\" class=\"dataframe\">\n",
       "  <thead>\n",
       "    <tr style=\"text-align: right;\">\n",
       "      <th></th>\n",
       "      <th>Topic</th>\n",
       "      <th>Percentage of documents in a topic</th>\n",
       "    </tr>\n",
       "  </thead>\n",
       "  <tbody>\n",
       "    <tr>\n",
       "      <th>3</th>\n",
       "      <td>-1</td>\n",
       "      <td>12.54%</td>\n",
       "    </tr>\n",
       "    <tr>\n",
       "      <th>0</th>\n",
       "      <td>0</td>\n",
       "      <td>72.59%</td>\n",
       "    </tr>\n",
       "    <tr>\n",
       "      <th>5</th>\n",
       "      <td>1</td>\n",
       "      <td>3.18%</td>\n",
       "    </tr>\n",
       "    <tr>\n",
       "      <th>4</th>\n",
       "      <td>2</td>\n",
       "      <td>2.91%</td>\n",
       "    </tr>\n",
       "    <tr>\n",
       "      <th>2</th>\n",
       "      <td>3</td>\n",
       "      <td>2.37%</td>\n",
       "    </tr>\n",
       "    <tr>\n",
       "      <th>6</th>\n",
       "      <td>4</td>\n",
       "      <td>1.82%</td>\n",
       "    </tr>\n",
       "    <tr>\n",
       "      <th>8</th>\n",
       "      <td>5</td>\n",
       "      <td>1.2%</td>\n",
       "    </tr>\n",
       "    <tr>\n",
       "      <th>1</th>\n",
       "      <td>6</td>\n",
       "      <td>1.16%</td>\n",
       "    </tr>\n",
       "    <tr>\n",
       "      <th>10</th>\n",
       "      <td>7</td>\n",
       "      <td>0.85%</td>\n",
       "    </tr>\n",
       "    <tr>\n",
       "      <th>7</th>\n",
       "      <td>8</td>\n",
       "      <td>0.7%</td>\n",
       "    </tr>\n",
       "    <tr>\n",
       "      <th>9</th>\n",
       "      <td>9</td>\n",
       "      <td>0.66%</td>\n",
       "    </tr>\n",
       "  </tbody>\n",
       "</table>\n",
       "</div>"
      ],
      "text/plain": [
       "    Topic Percentage of documents in a topic\n",
       "3      -1                             12.54%\n",
       "0       0                             72.59%\n",
       "5       1                              3.18%\n",
       "4       2                              2.91%\n",
       "2       3                              2.37%\n",
       "6       4                              1.82%\n",
       "8       5                               1.2%\n",
       "1       6                              1.16%\n",
       "10      7                              0.85%\n",
       "7       8                               0.7%\n",
       "9       9                              0.66%"
      ]
     },
     "metadata": {},
     "output_type": "display_data"
    }
   ],
   "source": [
    "# Calculate the percentage representation of topics\n",
    "\n",
    "your_docs = tokens\n",
    "topic_counts = Counter(review_topics)\n",
    "total_documents = len(your_docs)\n",
    "topic_percentages = {topic: count / total_documents * 100 for topic, count in topic_counts.items()}\n",
    "topic_percentages = {topic: round(count / total_documents * 100, 2) for topic, count in topic_counts.items()}\n",
    "\n",
    "# Create a DataFrame from the topic percentages\n",
    "df_topic_percentages = pd.DataFrame(list(topic_percentages.items()), columns=['Topic', 'Percentage of documents in a topic'])\n",
    "df_topic_percentages = df_topic_percentages.sort_values(by='Topic', ascending=True)\n",
    "df_topic_percentages['Percentage of documents in a topic'] = df_topic_percentages['Percentage of documents in a topic'].astype(str) + '%'\n",
    "\n",
    "# Display the DataFrame\n",
    "display(df_topic_percentages)\n",
    "\n",
    "dfi.export(df_topic_percentages, 'dataframe_topics%.png')"
   ]
  },
  {
   "cell_type": "code",
   "execution_count": null,
   "metadata": {},
   "outputs": [
    {
     "data": {
      "application/vnd.plotly.v1+json": {
       "config": {
        "plotlyServerURL": "https://plotly.com"
       },
       "data": [
        {
         "hoverinfo": "text",
         "marker": {
          "color": "rgb(61,153,112)"
         },
         "mode": "lines",
         "type": "scatter",
         "x": [
          0,
          0.7248882453784538,
          0.7248882453784538,
          0
         ],
         "xaxis": "x",
         "y": [
          -15,
          -15,
          -25,
          -25
         ],
         "yaxis": "y"
        },
        {
         "hoverinfo": "text",
         "marker": {
          "color": "rgb(61,153,112)"
         },
         "mode": "lines",
         "type": "scatter",
         "x": [
          0.7248882453784538,
          0.7406772903345574,
          0.7406772903345574,
          0
         ],
         "xaxis": "x",
         "y": [
          -20,
          -20,
          -35,
          -35
         ],
         "yaxis": "y"
        },
        {
         "hoverinfo": "text",
         "marker": {
          "color": "rgb(61,153,112)"
         },
         "mode": "lines",
         "type": "scatter",
         "x": [
          0.7406772903345574,
          0.8435904341878725,
          0.8435904341878725,
          0
         ],
         "xaxis": "x",
         "y": [
          -27.5,
          -27.5,
          -45,
          -45
         ],
         "yaxis": "y"
        },
        {
         "hoverinfo": "text",
         "marker": {
          "color": "rgb(61,153,112)"
         },
         "mode": "lines",
         "type": "scatter",
         "x": [
          0,
          0.9305889936707847,
          0.9305889936707847,
          0.8435904341878725
         ],
         "xaxis": "x",
         "y": [
          -5,
          -5,
          -36.25,
          -36.25
         ],
         "yaxis": "y"
        },
        {
         "hoverinfo": "text",
         "marker": {
          "color": "rgb(255,65,54)"
         },
         "mode": "lines",
         "type": "scatter",
         "x": [
          0,
          0.6117694234285704,
          0.6117694234285704,
          0
         ],
         "xaxis": "x",
         "y": [
          -65,
          -65,
          -75,
          -75
         ],
         "yaxis": "y"
        },
        {
         "hoverinfo": "text",
         "marker": {
          "color": "rgb(255,65,54)"
         },
         "mode": "lines",
         "type": "scatter",
         "x": [
          0,
          0.9200763394165349,
          0.9200763394165349,
          0.6117694234285704
         ],
         "xaxis": "x",
         "y": [
          -55,
          -55,
          -70,
          -70
         ],
         "yaxis": "y"
        },
        {
         "hoverinfo": "text",
         "marker": {
          "color": "rgb(35,205,205)"
         },
         "mode": "lines",
         "type": "scatter",
         "x": [
          0,
          0.9634624277159234,
          0.9634624277159234,
          0
         ],
         "xaxis": "x",
         "y": [
          -85,
          -85,
          -95,
          -95
         ],
         "yaxis": "y"
        },
        {
         "hoverinfo": "text",
         "marker": {
          "color": "rgb(0,116,217)"
         },
         "mode": "lines",
         "type": "scatter",
         "x": [
          0.9200763394165349,
          1.0226731836523184,
          1.0226731836523184,
          0.9634624277159234
         ],
         "xaxis": "x",
         "y": [
          -62.5,
          -62.5,
          -90,
          -90
         ],
         "yaxis": "y"
        },
        {
         "hoverinfo": "text",
         "marker": {
          "color": "rgb(0,116,217)"
         },
         "mode": "lines",
         "type": "scatter",
         "x": [
          0.9305889936707847,
          1.1462908217527237,
          1.1462908217527237,
          1.0226731836523184
         ],
         "xaxis": "x",
         "y": [
          -20.625,
          -20.625,
          -76.25,
          -76.25
         ],
         "yaxis": "y"
        }
       ],
       "layout": {
        "autosize": false,
        "height": 350,
        "hoverlabel": {
         "bgcolor": "white",
         "font": {
          "family": "Rockwell",
          "size": 16
         }
        },
        "hovermode": "closest",
        "plot_bgcolor": "#ECEFF1",
        "showlegend": false,
        "template": {
         "data": {
          "bar": [
           {
            "error_x": {
             "color": "#2a3f5f"
            },
            "error_y": {
             "color": "#2a3f5f"
            },
            "marker": {
             "line": {
              "color": "white",
              "width": 0.5
             },
             "pattern": {
              "fillmode": "overlay",
              "size": 10,
              "solidity": 0.2
             }
            },
            "type": "bar"
           }
          ],
          "barpolar": [
           {
            "marker": {
             "line": {
              "color": "white",
              "width": 0.5
             },
             "pattern": {
              "fillmode": "overlay",
              "size": 10,
              "solidity": 0.2
             }
            },
            "type": "barpolar"
           }
          ],
          "carpet": [
           {
            "aaxis": {
             "endlinecolor": "#2a3f5f",
             "gridcolor": "#C8D4E3",
             "linecolor": "#C8D4E3",
             "minorgridcolor": "#C8D4E3",
             "startlinecolor": "#2a3f5f"
            },
            "baxis": {
             "endlinecolor": "#2a3f5f",
             "gridcolor": "#C8D4E3",
             "linecolor": "#C8D4E3",
             "minorgridcolor": "#C8D4E3",
             "startlinecolor": "#2a3f5f"
            },
            "type": "carpet"
           }
          ],
          "choropleth": [
           {
            "colorbar": {
             "outlinewidth": 0,
             "ticks": ""
            },
            "type": "choropleth"
           }
          ],
          "contour": [
           {
            "colorbar": {
             "outlinewidth": 0,
             "ticks": ""
            },
            "colorscale": [
             [
              0,
              "#0d0887"
             ],
             [
              0.1111111111111111,
              "#46039f"
             ],
             [
              0.2222222222222222,
              "#7201a8"
             ],
             [
              0.3333333333333333,
              "#9c179e"
             ],
             [
              0.4444444444444444,
              "#bd3786"
             ],
             [
              0.5555555555555556,
              "#d8576b"
             ],
             [
              0.6666666666666666,
              "#ed7953"
             ],
             [
              0.7777777777777778,
              "#fb9f3a"
             ],
             [
              0.8888888888888888,
              "#fdca26"
             ],
             [
              1,
              "#f0f921"
             ]
            ],
            "type": "contour"
           }
          ],
          "contourcarpet": [
           {
            "colorbar": {
             "outlinewidth": 0,
             "ticks": ""
            },
            "type": "contourcarpet"
           }
          ],
          "heatmap": [
           {
            "colorbar": {
             "outlinewidth": 0,
             "ticks": ""
            },
            "colorscale": [
             [
              0,
              "#0d0887"
             ],
             [
              0.1111111111111111,
              "#46039f"
             ],
             [
              0.2222222222222222,
              "#7201a8"
             ],
             [
              0.3333333333333333,
              "#9c179e"
             ],
             [
              0.4444444444444444,
              "#bd3786"
             ],
             [
              0.5555555555555556,
              "#d8576b"
             ],
             [
              0.6666666666666666,
              "#ed7953"
             ],
             [
              0.7777777777777778,
              "#fb9f3a"
             ],
             [
              0.8888888888888888,
              "#fdca26"
             ],
             [
              1,
              "#f0f921"
             ]
            ],
            "type": "heatmap"
           }
          ],
          "heatmapgl": [
           {
            "colorbar": {
             "outlinewidth": 0,
             "ticks": ""
            },
            "colorscale": [
             [
              0,
              "#0d0887"
             ],
             [
              0.1111111111111111,
              "#46039f"
             ],
             [
              0.2222222222222222,
              "#7201a8"
             ],
             [
              0.3333333333333333,
              "#9c179e"
             ],
             [
              0.4444444444444444,
              "#bd3786"
             ],
             [
              0.5555555555555556,
              "#d8576b"
             ],
             [
              0.6666666666666666,
              "#ed7953"
             ],
             [
              0.7777777777777778,
              "#fb9f3a"
             ],
             [
              0.8888888888888888,
              "#fdca26"
             ],
             [
              1,
              "#f0f921"
             ]
            ],
            "type": "heatmapgl"
           }
          ],
          "histogram": [
           {
            "marker": {
             "pattern": {
              "fillmode": "overlay",
              "size": 10,
              "solidity": 0.2
             }
            },
            "type": "histogram"
           }
          ],
          "histogram2d": [
           {
            "colorbar": {
             "outlinewidth": 0,
             "ticks": ""
            },
            "colorscale": [
             [
              0,
              "#0d0887"
             ],
             [
              0.1111111111111111,
              "#46039f"
             ],
             [
              0.2222222222222222,
              "#7201a8"
             ],
             [
              0.3333333333333333,
              "#9c179e"
             ],
             [
              0.4444444444444444,
              "#bd3786"
             ],
             [
              0.5555555555555556,
              "#d8576b"
             ],
             [
              0.6666666666666666,
              "#ed7953"
             ],
             [
              0.7777777777777778,
              "#fb9f3a"
             ],
             [
              0.8888888888888888,
              "#fdca26"
             ],
             [
              1,
              "#f0f921"
             ]
            ],
            "type": "histogram2d"
           }
          ],
          "histogram2dcontour": [
           {
            "colorbar": {
             "outlinewidth": 0,
             "ticks": ""
            },
            "colorscale": [
             [
              0,
              "#0d0887"
             ],
             [
              0.1111111111111111,
              "#46039f"
             ],
             [
              0.2222222222222222,
              "#7201a8"
             ],
             [
              0.3333333333333333,
              "#9c179e"
             ],
             [
              0.4444444444444444,
              "#bd3786"
             ],
             [
              0.5555555555555556,
              "#d8576b"
             ],
             [
              0.6666666666666666,
              "#ed7953"
             ],
             [
              0.7777777777777778,
              "#fb9f3a"
             ],
             [
              0.8888888888888888,
              "#fdca26"
             ],
             [
              1,
              "#f0f921"
             ]
            ],
            "type": "histogram2dcontour"
           }
          ],
          "mesh3d": [
           {
            "colorbar": {
             "outlinewidth": 0,
             "ticks": ""
            },
            "type": "mesh3d"
           }
          ],
          "parcoords": [
           {
            "line": {
             "colorbar": {
              "outlinewidth": 0,
              "ticks": ""
             }
            },
            "type": "parcoords"
           }
          ],
          "pie": [
           {
            "automargin": true,
            "type": "pie"
           }
          ],
          "scatter": [
           {
            "fillpattern": {
             "fillmode": "overlay",
             "size": 10,
             "solidity": 0.2
            },
            "type": "scatter"
           }
          ],
          "scatter3d": [
           {
            "line": {
             "colorbar": {
              "outlinewidth": 0,
              "ticks": ""
             }
            },
            "marker": {
             "colorbar": {
              "outlinewidth": 0,
              "ticks": ""
             }
            },
            "type": "scatter3d"
           }
          ],
          "scattercarpet": [
           {
            "marker": {
             "colorbar": {
              "outlinewidth": 0,
              "ticks": ""
             }
            },
            "type": "scattercarpet"
           }
          ],
          "scattergeo": [
           {
            "marker": {
             "colorbar": {
              "outlinewidth": 0,
              "ticks": ""
             }
            },
            "type": "scattergeo"
           }
          ],
          "scattergl": [
           {
            "marker": {
             "colorbar": {
              "outlinewidth": 0,
              "ticks": ""
             }
            },
            "type": "scattergl"
           }
          ],
          "scattermapbox": [
           {
            "marker": {
             "colorbar": {
              "outlinewidth": 0,
              "ticks": ""
             }
            },
            "type": "scattermapbox"
           }
          ],
          "scatterpolar": [
           {
            "marker": {
             "colorbar": {
              "outlinewidth": 0,
              "ticks": ""
             }
            },
            "type": "scatterpolar"
           }
          ],
          "scatterpolargl": [
           {
            "marker": {
             "colorbar": {
              "outlinewidth": 0,
              "ticks": ""
             }
            },
            "type": "scatterpolargl"
           }
          ],
          "scatterternary": [
           {
            "marker": {
             "colorbar": {
              "outlinewidth": 0,
              "ticks": ""
             }
            },
            "type": "scatterternary"
           }
          ],
          "surface": [
           {
            "colorbar": {
             "outlinewidth": 0,
             "ticks": ""
            },
            "colorscale": [
             [
              0,
              "#0d0887"
             ],
             [
              0.1111111111111111,
              "#46039f"
             ],
             [
              0.2222222222222222,
              "#7201a8"
             ],
             [
              0.3333333333333333,
              "#9c179e"
             ],
             [
              0.4444444444444444,
              "#bd3786"
             ],
             [
              0.5555555555555556,
              "#d8576b"
             ],
             [
              0.6666666666666666,
              "#ed7953"
             ],
             [
              0.7777777777777778,
              "#fb9f3a"
             ],
             [
              0.8888888888888888,
              "#fdca26"
             ],
             [
              1,
              "#f0f921"
             ]
            ],
            "type": "surface"
           }
          ],
          "table": [
           {
            "cells": {
             "fill": {
              "color": "#EBF0F8"
             },
             "line": {
              "color": "white"
             }
            },
            "header": {
             "fill": {
              "color": "#C8D4E3"
             },
             "line": {
              "color": "white"
             }
            },
            "type": "table"
           }
          ]
         },
         "layout": {
          "annotationdefaults": {
           "arrowcolor": "#2a3f5f",
           "arrowhead": 0,
           "arrowwidth": 1
          },
          "autotypenumbers": "strict",
          "coloraxis": {
           "colorbar": {
            "outlinewidth": 0,
            "ticks": ""
           }
          },
          "colorscale": {
           "diverging": [
            [
             0,
             "#8e0152"
            ],
            [
             0.1,
             "#c51b7d"
            ],
            [
             0.2,
             "#de77ae"
            ],
            [
             0.3,
             "#f1b6da"
            ],
            [
             0.4,
             "#fde0ef"
            ],
            [
             0.5,
             "#f7f7f7"
            ],
            [
             0.6,
             "#e6f5d0"
            ],
            [
             0.7,
             "#b8e186"
            ],
            [
             0.8,
             "#7fbc41"
            ],
            [
             0.9,
             "#4d9221"
            ],
            [
             1,
             "#276419"
            ]
           ],
           "sequential": [
            [
             0,
             "#0d0887"
            ],
            [
             0.1111111111111111,
             "#46039f"
            ],
            [
             0.2222222222222222,
             "#7201a8"
            ],
            [
             0.3333333333333333,
             "#9c179e"
            ],
            [
             0.4444444444444444,
             "#bd3786"
            ],
            [
             0.5555555555555556,
             "#d8576b"
            ],
            [
             0.6666666666666666,
             "#ed7953"
            ],
            [
             0.7777777777777778,
             "#fb9f3a"
            ],
            [
             0.8888888888888888,
             "#fdca26"
            ],
            [
             1,
             "#f0f921"
            ]
           ],
           "sequentialminus": [
            [
             0,
             "#0d0887"
            ],
            [
             0.1111111111111111,
             "#46039f"
            ],
            [
             0.2222222222222222,
             "#7201a8"
            ],
            [
             0.3333333333333333,
             "#9c179e"
            ],
            [
             0.4444444444444444,
             "#bd3786"
            ],
            [
             0.5555555555555556,
             "#d8576b"
            ],
            [
             0.6666666666666666,
             "#ed7953"
            ],
            [
             0.7777777777777778,
             "#fb9f3a"
            ],
            [
             0.8888888888888888,
             "#fdca26"
            ],
            [
             1,
             "#f0f921"
            ]
           ]
          },
          "colorway": [
           "#636efa",
           "#EF553B",
           "#00cc96",
           "#ab63fa",
           "#FFA15A",
           "#19d3f3",
           "#FF6692",
           "#B6E880",
           "#FF97FF",
           "#FECB52"
          ],
          "font": {
           "color": "#2a3f5f"
          },
          "geo": {
           "bgcolor": "white",
           "lakecolor": "white",
           "landcolor": "white",
           "showlakes": true,
           "showland": true,
           "subunitcolor": "#C8D4E3"
          },
          "hoverlabel": {
           "align": "left"
          },
          "hovermode": "closest",
          "mapbox": {
           "style": "light"
          },
          "paper_bgcolor": "white",
          "plot_bgcolor": "white",
          "polar": {
           "angularaxis": {
            "gridcolor": "#EBF0F8",
            "linecolor": "#EBF0F8",
            "ticks": ""
           },
           "bgcolor": "white",
           "radialaxis": {
            "gridcolor": "#EBF0F8",
            "linecolor": "#EBF0F8",
            "ticks": ""
           }
          },
          "scene": {
           "xaxis": {
            "backgroundcolor": "white",
            "gridcolor": "#DFE8F3",
            "gridwidth": 2,
            "linecolor": "#EBF0F8",
            "showbackground": true,
            "ticks": "",
            "zerolinecolor": "#EBF0F8"
           },
           "yaxis": {
            "backgroundcolor": "white",
            "gridcolor": "#DFE8F3",
            "gridwidth": 2,
            "linecolor": "#EBF0F8",
            "showbackground": true,
            "ticks": "",
            "zerolinecolor": "#EBF0F8"
           },
           "zaxis": {
            "backgroundcolor": "white",
            "gridcolor": "#DFE8F3",
            "gridwidth": 2,
            "linecolor": "#EBF0F8",
            "showbackground": true,
            "ticks": "",
            "zerolinecolor": "#EBF0F8"
           }
          },
          "shapedefaults": {
           "line": {
            "color": "#2a3f5f"
           }
          },
          "ternary": {
           "aaxis": {
            "gridcolor": "#DFE8F3",
            "linecolor": "#A2B1C6",
            "ticks": ""
           },
           "baxis": {
            "gridcolor": "#DFE8F3",
            "linecolor": "#A2B1C6",
            "ticks": ""
           },
           "bgcolor": "white",
           "caxis": {
            "gridcolor": "#DFE8F3",
            "linecolor": "#A2B1C6",
            "ticks": ""
           }
          },
          "title": {
           "x": 0.05
          },
          "xaxis": {
           "automargin": true,
           "gridcolor": "#EBF0F8",
           "linecolor": "#EBF0F8",
           "ticks": "",
           "title": {
            "standoff": 15
           },
           "zerolinecolor": "#EBF0F8",
           "zerolinewidth": 2
          },
          "yaxis": {
           "automargin": true,
           "gridcolor": "#EBF0F8",
           "linecolor": "#EBF0F8",
           "ticks": "",
           "title": {
            "standoff": 15
           },
           "zerolinecolor": "#EBF0F8",
           "zerolinewidth": 2
          }
         }
        },
        "title": {
         "font": {
          "color": "Black",
          "size": 22
         },
         "text": "<b>Hierarchical Clustering</b>",
         "x": 0.5,
         "xanchor": "center",
         "yanchor": "top"
        },
        "width": 1000,
        "xaxis": {
         "mirror": "allticks",
         "rangemode": "tozero",
         "showgrid": false,
         "showline": true,
         "showticklabels": true,
         "ticks": "outside",
         "type": "linear",
         "zeroline": false
        },
        "yaxis": {
         "mirror": "allticks",
         "range": [
          -100,
          0
         ],
         "rangemode": "tozero",
         "showgrid": false,
         "showline": true,
         "showticklabels": true,
         "tickmode": "array",
         "ticks": "outside",
         "ticktext": [
          "2_station_busy_south",
          "1_great_good_nice",
          "4_expensive_price_good",
          "0_parking_bike_car",
          "3_staff_friendly_service",
          "8_cheap_pack_perfect",
          "5_easy_reach_handy",
          "7_spacious_easy_accessible",
          "6_always_ok_place",
          "9_handy_useful_convenient"
         ],
         "tickvals": [
          -5,
          -15,
          -25,
          -35,
          -45,
          -55,
          -65,
          -75,
          -85,
          -95
         ],
         "type": "linear",
         "zeroline": false
        }
       }
      }
     },
     "metadata": {},
     "output_type": "display_data"
    }
   ],
   "source": [
    "model.visualize_hierarchy(top_n_topics=30)"
   ]
  },
  {
   "cell_type": "code",
   "execution_count": null,
   "metadata": {},
   "outputs": [],
   "source": []
  },
  {
   "cell_type": "code",
   "execution_count": null,
   "metadata": {},
   "outputs": [
    {
     "name": "stdout",
     "output_type": "stream",
     "text": [
      "Most Similar Topic Info: \n",
      "[('always', 0.5015271330305474), ('ok', 0.4227863078637988), ('place', 0.41250118217009774), ('drama', 0.2351294643942437), ('confusing', 0.2254878368170022), ('spot', 0.17943554264645534), ('bit', 0.16755369547521282), ('everything', 0.16002908952851355), ('unavailable', 0.15494956708765367), ('winner', 0.15494956708765367)]\n",
      "Similarity Score: 0.13532403968221576\n"
     ]
    }
   ],
   "source": [
    "similar_topics, similarity = model.find_topics(\"politics\", top_n = 3)\n",
    "most_similar = similar_topics[0]\n",
    "print(\"Most Similar Topic Info: \\n{}\".format(model.get_topic(most_similar)))\n",
    "print(\"Similarity Score: {}\".format(similarity[0]))"
   ]
  },
  {
   "cell_type": "code",
   "execution_count": null,
   "metadata": {},
   "outputs": [
    {
     "data": {
      "text/plain": [
       "<bertopic._bertopic.BERTopic at 0x7f994c8210f0>"
      ]
     },
     "execution_count": 92,
     "metadata": {},
     "output_type": "execute_result"
    }
   ],
   "source": [
    "#saving the model\n",
    "model.save(\"bert_best_model_tweets\")\n",
    "\n",
    "# loading the serialised model\n",
    "my_best_model = BERTopic.load(\"bert_best_model_tweets\")\n",
    "my_best_model"
   ]
  }
 ],
 "metadata": {
  "kernelspec": {
   "display_name": "Python 3",
   "language": "python",
   "name": "python3"
  },
  "language_info": {
   "codemirror_mode": {
    "name": "ipython",
    "version": 3
   },
   "file_extension": ".py",
   "mimetype": "text/x-python",
   "name": "python",
   "nbconvert_exporter": "python",
   "pygments_lexer": "ipython3",
   "version": "3.8.18"
  }
 },
 "nbformat": 4,
 "nbformat_minor": 2
}
