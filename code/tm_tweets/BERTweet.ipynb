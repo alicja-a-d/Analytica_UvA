{
 "cells": [
  {
   "cell_type": "markdown",
   "metadata": {},
   "source": [
    "### Topic modelling on tweets with BERTweet\n"
   ]
  },
  {
   "cell_type": "code",
   "execution_count": 11,
   "metadata": {},
   "outputs": [
    {
     "name": "stderr",
     "output_type": "stream",
     "text": [
      "[nltk_data] Downloading package stopwords to\n",
      "[nltk_data]     C:\\Users\\hielk\\AppData\\Roaming\\nltk_data...\n",
      "[nltk_data]   Package stopwords is already up-to-date!\n",
      "[nltk_data] Downloading package wordnet to\n",
      "[nltk_data]     C:\\Users\\hielk\\AppData\\Roaming\\nltk_data...\n",
      "[nltk_data]   Package wordnet is already up-to-date!\n"
     ]
    }
   ],
   "source": [
    "#importing required libraries\n",
    "# %pip install nltk emoji==0.6.0\n",
    "import pandas as pd \n",
    "import seaborn as sns\n",
    "import matplotlib.pyplot as plt\n",
    "from bertopic import BERTopic\n",
    "import string\n",
    "from wordcloud import WordCloud\n",
    "import nltk\n",
    "from nltk.corpus import stopwords\n",
    "from nltk.stem import PorterStemmer\n",
    "from nltk.stem import WordNetLemmatizer\n",
    "from nltk.tokenize import word_tokenize\n",
    "nltk.download('stopwords')\n",
    "nltk.download('wordnet')\n",
    "from collections import Counter\n",
    "import re\n",
    "import os\n",
    "from ast import literal_eval\n",
    "from sentence_transformers import SentenceTransformer\n",
    "from umap import UMAP\n",
    "import dataframe_image as dfi\n",
    "from sklearn.metrics.pairwise import cosine_similarity\n",
    "from sklearn.feature_extraction import text\n",
    "\n",
    "import emoji\n",
    "from emoji import demojize\n",
    "from nltk.tokenize import TweetTokenizer  #keeps hashtags intact\n",
    "\n",
    "import torch\n",
    "from transformers import AutoModel, AutoTokenizer \n",
    "from TweetNormalizer import normalizeTweet\n"
   ]
  },
  {
   "cell_type": "markdown",
   "metadata": {},
   "source": [
    "Running the topic modelling on 2000 tweets as a 100 was too little."
   ]
  },
  {
   "cell_type": "code",
   "execution_count": 6,
   "metadata": {},
   "outputs": [],
   "source": [
    "\n",
    "# # loading the data into a dataframe\n",
    "# df = pd.read_excel('../../data/test/3000_random_rows_24_07_2020.xlsx')\n",
    "# display(df.head())"
   ]
  },
  {
   "cell_type": "code",
   "execution_count": 12,
   "metadata": {},
   "outputs": [
    {
     "data": {
      "text/html": [
       "<div>\n",
       "<style scoped>\n",
       "    .dataframe tbody tr th:only-of-type {\n",
       "        vertical-align: middle;\n",
       "    }\n",
       "\n",
       "    .dataframe tbody tr th {\n",
       "        vertical-align: top;\n",
       "    }\n",
       "\n",
       "    .dataframe thead th {\n",
       "        text-align: right;\n",
       "    }\n",
       "</style>\n",
       "<table border=\"1\" class=\"dataframe\">\n",
       "  <thead>\n",
       "    <tr style=\"text-align: right;\">\n",
       "      <th></th>\n",
       "      <th>created_at_fuzzy</th>\n",
       "      <th>state_likely_tweeted_from</th>\n",
       "      <th>text</th>\n",
       "      <th>source</th>\n",
       "      <th>display_text_width</th>\n",
       "      <th>lang</th>\n",
       "      <th>favorite_count</th>\n",
       "      <th>retweet_count</th>\n",
       "      <th>is_quote</th>\n",
       "      <th>followers_count</th>\n",
       "      <th>friends_count</th>\n",
       "      <th>listed_count</th>\n",
       "      <th>statuses_count</th>\n",
       "      <th>favourites_count</th>\n",
       "      <th>cleaned_text</th>\n",
       "      <th>Toxicity</th>\n",
       "      <th>Fact assessment</th>\n",
       "      <th>Trivia question</th>\n",
       "      <th>Offensive Assessment</th>\n",
       "    </tr>\n",
       "  </thead>\n",
       "  <tbody>\n",
       "    <tr>\n",
       "      <th>0</th>\n",
       "      <td>2020-08-13T16:55:49Z</td>\n",
       "      <td>California</td>\n",
       "      <td>LIVE: Trump holds press conference https://t.c...</td>\n",
       "      <td>Twitter Web App</td>\n",
       "      <td>71</td>\n",
       "      <td>en</td>\n",
       "      <td>0</td>\n",
       "      <td>0</td>\n",
       "      <td>False</td>\n",
       "      <td>3281</td>\n",
       "      <td>4938</td>\n",
       "      <td>4</td>\n",
       "      <td>39349</td>\n",
       "      <td>23299</td>\n",
       "      <td>LIVE: Trump holds press conference  via @YouTube</td>\n",
       "      <td>1</td>\n",
       "      <td>no verdict</td>\n",
       "      <td>NaN</td>\n",
       "      <td>NaN</td>\n",
       "    </tr>\n",
       "    <tr>\n",
       "      <th>1</th>\n",
       "      <td>2020-08-30T00:03:31Z</td>\n",
       "      <td>Tennessee</td>\n",
       "      <td>Trump’s claim the ‘silent majority’ will save ...</td>\n",
       "      <td>Twitter Web App</td>\n",
       "      <td>205</td>\n",
       "      <td>en</td>\n",
       "      <td>9</td>\n",
       "      <td>2</td>\n",
       "      <td>False</td>\n",
       "      <td>2866</td>\n",
       "      <td>3000</td>\n",
       "      <td>2</td>\n",
       "      <td>23786</td>\n",
       "      <td>30906</td>\n",
       "      <td>Trump’s claim the ‘silent majority’ will save ...</td>\n",
       "      <td>8</td>\n",
       "      <td>'no verdict'</td>\n",
       "      <td>NaN</td>\n",
       "      <td>NaN</td>\n",
       "    </tr>\n",
       "    <tr>\n",
       "      <th>2</th>\n",
       "      <td>2020-10-26T23:16:05Z</td>\n",
       "      <td>New York</td>\n",
       "      <td>#NewHampshire #VoteBlue #VoteBlueToSaveAmerica...</td>\n",
       "      <td>Twitter Web App</td>\n",
       "      <td>267</td>\n",
       "      <td>en</td>\n",
       "      <td>7</td>\n",
       "      <td>4</td>\n",
       "      <td>False</td>\n",
       "      <td>32221</td>\n",
       "      <td>26550</td>\n",
       "      <td>52</td>\n",
       "      <td>304911</td>\n",
       "      <td>146137</td>\n",
       "      <td>#NewHampshire #VoteBlue #VoteBlueToSaveAmerica...</td>\n",
       "      <td>2</td>\n",
       "      <td>'true'</td>\n",
       "      <td>NaN</td>\n",
       "      <td>NaN</td>\n",
       "    </tr>\n",
       "    <tr>\n",
       "      <th>3</th>\n",
       "      <td>2020-08-24T09:54:59Z</td>\n",
       "      <td>Florida</td>\n",
       "      <td>@davidsirota I'm so confused, when is the medi...</td>\n",
       "      <td>Twitter for Android</td>\n",
       "      <td>262</td>\n",
       "      <td>en</td>\n",
       "      <td>2</td>\n",
       "      <td>0</td>\n",
       "      <td>False</td>\n",
       "      <td>457</td>\n",
       "      <td>375</td>\n",
       "      <td>5</td>\n",
       "      <td>16851</td>\n",
       "      <td>7429</td>\n",
       "      <td>@davidsirota I'm so confused, when is the medi...</td>\n",
       "      <td>7</td>\n",
       "      <td>'no verdict'</td>\n",
       "      <td>NaN</td>\n",
       "      <td>NaN</td>\n",
       "    </tr>\n",
       "    <tr>\n",
       "      <th>4</th>\n",
       "      <td>2021-02-04T11:31:07Z</td>\n",
       "      <td>Washington</td>\n",
       "      <td>@Carlos27480217 @DonaldJTrumpJr Yep! He has Ba...</td>\n",
       "      <td>Twitter for Android</td>\n",
       "      <td>88</td>\n",
       "      <td>en</td>\n",
       "      <td>0</td>\n",
       "      <td>0</td>\n",
       "      <td>False</td>\n",
       "      <td>43</td>\n",
       "      <td>177</td>\n",
       "      <td>0</td>\n",
       "      <td>2618</td>\n",
       "      <td>1517</td>\n",
       "      <td>@Carlos27480217 @DonaldJTrumpJr Yep! He has Ba...</td>\n",
       "      <td>8</td>\n",
       "      <td>'false'</td>\n",
       "      <td>NaN</td>\n",
       "      <td>NaN</td>\n",
       "    </tr>\n",
       "    <tr>\n",
       "      <th>5</th>\n",
       "      <td>2021-01-03T11:54:56Z</td>\n",
       "      <td>Texas</td>\n",
       "      <td>@HouseGOP @SenateGOP @GOP @NRSC @NRCC It is in...</td>\n",
       "      <td>Twitter for iPhone</td>\n",
       "      <td>270</td>\n",
       "      <td>en</td>\n",
       "      <td>0</td>\n",
       "      <td>0</td>\n",
       "      <td>True</td>\n",
       "      <td>17842</td>\n",
       "      <td>15408</td>\n",
       "      <td>29</td>\n",
       "      <td>37936</td>\n",
       "      <td>31978</td>\n",
       "      <td>@HouseGOP @SenateGOP @GOP @NRSC @NRCC It is in...</td>\n",
       "      <td>8</td>\n",
       "      <td>false</td>\n",
       "      <td>NaN</td>\n",
       "      <td>NaN</td>\n",
       "    </tr>\n",
       "    <tr>\n",
       "      <th>6</th>\n",
       "      <td>2020-09-03T03:39:01Z</td>\n",
       "      <td>Illinois</td>\n",
       "      <td>@dachs8 @JordanChariton Seriously? Almost ever...</td>\n",
       "      <td>Twitter for Android</td>\n",
       "      <td>278</td>\n",
       "      <td>en</td>\n",
       "      <td>6</td>\n",
       "      <td>0</td>\n",
       "      <td>False</td>\n",
       "      <td>1116</td>\n",
       "      <td>1588</td>\n",
       "      <td>6</td>\n",
       "      <td>7168</td>\n",
       "      <td>125089</td>\n",
       "      <td>@dachs8 @JordanChariton Seriously? Almost ever...</td>\n",
       "      <td>7</td>\n",
       "      <td>'no verdict'</td>\n",
       "      <td>NaN</td>\n",
       "      <td>NaN</td>\n",
       "    </tr>\n",
       "    <tr>\n",
       "      <th>7</th>\n",
       "      <td>2021-02-10T01:29:58Z</td>\n",
       "      <td>North Carolina</td>\n",
       "      <td>Biden endorses sending stimulus checks to Amer...</td>\n",
       "      <td>Twitter for iPhone</td>\n",
       "      <td>120</td>\n",
       "      <td>en</td>\n",
       "      <td>0</td>\n",
       "      <td>0</td>\n",
       "      <td>False</td>\n",
       "      <td>377</td>\n",
       "      <td>295</td>\n",
       "      <td>1</td>\n",
       "      <td>84774</td>\n",
       "      <td>38849</td>\n",
       "      <td>Biden endorses sending stimulus checks to Amer...</td>\n",
       "      <td>2</td>\n",
       "      <td>'true'</td>\n",
       "      <td>NaN</td>\n",
       "      <td>NaN</td>\n",
       "    </tr>\n",
       "    <tr>\n",
       "      <th>8</th>\n",
       "      <td>2020-12-16T19:04:31Z</td>\n",
       "      <td>California</td>\n",
       "      <td>Doug Collins is in the Deep state Mitch McConn...</td>\n",
       "      <td>Twitter for Android</td>\n",
       "      <td>195</td>\n",
       "      <td>en</td>\n",
       "      <td>1</td>\n",
       "      <td>0</td>\n",
       "      <td>False</td>\n",
       "      <td>91</td>\n",
       "      <td>523</td>\n",
       "      <td>0</td>\n",
       "      <td>1245</td>\n",
       "      <td>1427</td>\n",
       "      <td>Doug Collins is in the Deep state Mitch McConn...</td>\n",
       "      <td>8</td>\n",
       "      <td>False</td>\n",
       "      <td>NaN</td>\n",
       "      <td>NaN</td>\n",
       "    </tr>\n",
       "    <tr>\n",
       "      <th>9</th>\n",
       "      <td>2020-07-29T13:51:59Z</td>\n",
       "      <td>Kansas</td>\n",
       "      <td>It was Trump's antic semitic joke: \"You don't ...</td>\n",
       "      <td>Twitter for Android</td>\n",
       "      <td>69</td>\n",
       "      <td>en</td>\n",
       "      <td>0</td>\n",
       "      <td>0</td>\n",
       "      <td>True</td>\n",
       "      <td>211</td>\n",
       "      <td>637</td>\n",
       "      <td>0</td>\n",
       "      <td>115742</td>\n",
       "      <td>48100</td>\n",
       "      <td>It was Trump's antic semitic joke: \"You don't ...</td>\n",
       "      <td>8</td>\n",
       "      <td>False</td>\n",
       "      <td>NaN</td>\n",
       "      <td>NaN</td>\n",
       "    </tr>\n",
       "    <tr>\n",
       "      <th>10</th>\n",
       "      <td>2020-10-08T07:48:34Z</td>\n",
       "      <td>Oregon</td>\n",
       "      <td>We're not electing a dictator. The president i...</td>\n",
       "      <td>Twitter for Android</td>\n",
       "      <td>242</td>\n",
       "      <td>en</td>\n",
       "      <td>1</td>\n",
       "      <td>0</td>\n",
       "      <td>False</td>\n",
       "      <td>678</td>\n",
       "      <td>1179</td>\n",
       "      <td>34</td>\n",
       "      <td>146317</td>\n",
       "      <td>266836</td>\n",
       "      <td>We're not electing a dictator. The president i...</td>\n",
       "      <td>7</td>\n",
       "      <td>'no verdict'</td>\n",
       "      <td>NaN</td>\n",
       "      <td>NaN</td>\n",
       "    </tr>\n",
       "    <tr>\n",
       "      <th>11</th>\n",
       "      <td>2020-12-25T11:32:41Z</td>\n",
       "      <td>Pennsylvania</td>\n",
       "      <td>@PreetBharara I've always stood by *pled*, unt...</td>\n",
       "      <td>Twitter for Android</td>\n",
       "      <td>108</td>\n",
       "      <td>en</td>\n",
       "      <td>0</td>\n",
       "      <td>0</td>\n",
       "      <td>False</td>\n",
       "      <td>164</td>\n",
       "      <td>242</td>\n",
       "      <td>7</td>\n",
       "      <td>22893</td>\n",
       "      <td>18428</td>\n",
       "      <td>@PreetBharara I've always stood by *pled*, unt...</td>\n",
       "      <td>2</td>\n",
       "      <td>'no verdict'</td>\n",
       "      <td>NaN</td>\n",
       "      <td>NaN</td>\n",
       "    </tr>\n",
       "    <tr>\n",
       "      <th>12</th>\n",
       "      <td>2020-11-26T07:20:31Z</td>\n",
       "      <td>Indiana</td>\n",
       "      <td>@DenaePFA @WajahatAli Got this Bible verse fro...</td>\n",
       "      <td>Twitter Web App</td>\n",
       "      <td>232</td>\n",
       "      <td>en</td>\n",
       "      <td>1</td>\n",
       "      <td>0</td>\n",
       "      <td>False</td>\n",
       "      <td>5781</td>\n",
       "      <td>6037</td>\n",
       "      <td>3</td>\n",
       "      <td>23623</td>\n",
       "      <td>21302</td>\n",
       "      <td>@DenaePFA @WajahatAli Got this Bible verse fro...</td>\n",
       "      <td>7</td>\n",
       "      <td>'no verdict'</td>\n",
       "      <td>NaN</td>\n",
       "      <td>NaN</td>\n",
       "    </tr>\n",
       "    <tr>\n",
       "      <th>13</th>\n",
       "      <td>2020-10-17T14:04:04Z</td>\n",
       "      <td>Pennsylvania</td>\n",
       "      <td>@AndrewBatesNC Except he said he would cancel ...</td>\n",
       "      <td>Twitter for Android</td>\n",
       "      <td>126</td>\n",
       "      <td>en</td>\n",
       "      <td>0</td>\n",
       "      <td>0</td>\n",
       "      <td>False</td>\n",
       "      <td>118</td>\n",
       "      <td>352</td>\n",
       "      <td>3</td>\n",
       "      <td>3802</td>\n",
       "      <td>4830</td>\n",
       "      <td>@AndrewBatesNC Except he said he would cancel ...</td>\n",
       "      <td>7</td>\n",
       "      <td>False</td>\n",
       "      <td>NaN</td>\n",
       "      <td>NaN</td>\n",
       "    </tr>\n",
       "    <tr>\n",
       "      <th>14</th>\n",
       "      <td>2021-03-25T06:10:17Z</td>\n",
       "      <td>Texas</td>\n",
       "      <td>@laurenboebert The president of Mexico blames ...</td>\n",
       "      <td>Twitter for Android</td>\n",
       "      <td>36</td>\n",
       "      <td>en</td>\n",
       "      <td>0</td>\n",
       "      <td>0</td>\n",
       "      <td>False</td>\n",
       "      <td>7</td>\n",
       "      <td>58</td>\n",
       "      <td>0</td>\n",
       "      <td>158</td>\n",
       "      <td>124</td>\n",
       "      <td>@laurenboebert The president of Mexico blames ...</td>\n",
       "      <td>3</td>\n",
       "      <td>False</td>\n",
       "      <td>NaN</td>\n",
       "      <td>NaN</td>\n",
       "    </tr>\n",
       "    <tr>\n",
       "      <th>15</th>\n",
       "      <td>2020-11-15T13:47:51Z</td>\n",
       "      <td>Maine</td>\n",
       "      <td>@CassandraAhearn PS\\r\\n@Twitter  @Jack  @Twitt...</td>\n",
       "      <td>Twitter Web App</td>\n",
       "      <td>263</td>\n",
       "      <td>en</td>\n",
       "      <td>1</td>\n",
       "      <td>0</td>\n",
       "      <td>False</td>\n",
       "      <td>11320</td>\n",
       "      <td>12314</td>\n",
       "      <td>8</td>\n",
       "      <td>26730</td>\n",
       "      <td>36105</td>\n",
       "      <td>@CassandraAhearn PS\\r\\n@Twitter  @Jack  @Twitt...</td>\n",
       "      <td>8</td>\n",
       "      <td>'no verdict'</td>\n",
       "      <td>NaN</td>\n",
       "      <td>NaN</td>\n",
       "    </tr>\n",
       "    <tr>\n",
       "      <th>16</th>\n",
       "      <td>2021-02-16T01:52:59Z</td>\n",
       "      <td>Utah</td>\n",
       "      <td>Hot take; Romney isn’t against Trump because h...</td>\n",
       "      <td>Twitter for iPhone</td>\n",
       "      <td>132</td>\n",
       "      <td>en</td>\n",
       "      <td>16</td>\n",
       "      <td>1</td>\n",
       "      <td>True</td>\n",
       "      <td>298</td>\n",
       "      <td>501</td>\n",
       "      <td>2</td>\n",
       "      <td>3002</td>\n",
       "      <td>5086</td>\n",
       "      <td>Hot take; Romney isn’t against Trump because h...</td>\n",
       "      <td>2</td>\n",
       "      <td>'true'</td>\n",
       "      <td>NaN</td>\n",
       "      <td>NaN</td>\n",
       "    </tr>\n",
       "    <tr>\n",
       "      <th>17</th>\n",
       "      <td>2020-09-30T23:10:23Z</td>\n",
       "      <td>Hawaii</td>\n",
       "      <td>Trump actually stood in front of the cameras t...</td>\n",
       "      <td>Twitter Web App</td>\n",
       "      <td>181</td>\n",
       "      <td>en</td>\n",
       "      <td>12</td>\n",
       "      <td>3</td>\n",
       "      <td>False</td>\n",
       "      <td>2689</td>\n",
       "      <td>2491</td>\n",
       "      <td>22</td>\n",
       "      <td>39381</td>\n",
       "      <td>88744</td>\n",
       "      <td>Trump actually stood in front of the cameras t...</td>\n",
       "      <td>8</td>\n",
       "      <td>'true'</td>\n",
       "      <td>NaN</td>\n",
       "      <td>NaN</td>\n",
       "    </tr>\n",
       "    <tr>\n",
       "      <th>18</th>\n",
       "      <td>2021-03-04T07:03:15Z</td>\n",
       "      <td>Iowa</td>\n",
       "      <td>feel free to join in if you ever see me bullyi...</td>\n",
       "      <td>Twitter for iPhone</td>\n",
       "      <td>64</td>\n",
       "      <td>en</td>\n",
       "      <td>2</td>\n",
       "      <td>0</td>\n",
       "      <td>False</td>\n",
       "      <td>819</td>\n",
       "      <td>450</td>\n",
       "      <td>5</td>\n",
       "      <td>26708</td>\n",
       "      <td>73717</td>\n",
       "      <td>feel free to join in if you ever see me bullyi...</td>\n",
       "      <td>2</td>\n",
       "      <td>'no verdict'</td>\n",
       "      <td>NaN</td>\n",
       "      <td>NaN</td>\n",
       "    </tr>\n",
       "    <tr>\n",
       "      <th>19</th>\n",
       "      <td>2020-09-30T05:47:00Z</td>\n",
       "      <td>Nevada</td>\n",
       "      <td>@PatriotBee78 Biden was low on substance. Also...</td>\n",
       "      <td>Twitter Web App</td>\n",
       "      <td>166</td>\n",
       "      <td>en</td>\n",
       "      <td>5</td>\n",
       "      <td>4</td>\n",
       "      <td>False</td>\n",
       "      <td>38505</td>\n",
       "      <td>38626</td>\n",
       "      <td>225</td>\n",
       "      <td>81777</td>\n",
       "      <td>2779</td>\n",
       "      <td>@PatriotBee78 Biden was low on substance. Also...</td>\n",
       "      <td>8</td>\n",
       "      <td>'false'</td>\n",
       "      <td>NaN</td>\n",
       "      <td>NaN</td>\n",
       "    </tr>\n",
       "  </tbody>\n",
       "</table>\n",
       "</div>"
      ],
      "text/plain": [
       "        created_at_fuzzy state_likely_tweeted_from  \\\n",
       "0   2020-08-13T16:55:49Z                California   \n",
       "1   2020-08-30T00:03:31Z                 Tennessee   \n",
       "2   2020-10-26T23:16:05Z                  New York   \n",
       "3   2020-08-24T09:54:59Z                   Florida   \n",
       "4   2021-02-04T11:31:07Z                Washington   \n",
       "5   2021-01-03T11:54:56Z                     Texas   \n",
       "6   2020-09-03T03:39:01Z                  Illinois   \n",
       "7   2021-02-10T01:29:58Z            North Carolina   \n",
       "8   2020-12-16T19:04:31Z                California   \n",
       "9   2020-07-29T13:51:59Z                    Kansas   \n",
       "10  2020-10-08T07:48:34Z                    Oregon   \n",
       "11  2020-12-25T11:32:41Z              Pennsylvania   \n",
       "12  2020-11-26T07:20:31Z                   Indiana   \n",
       "13  2020-10-17T14:04:04Z              Pennsylvania   \n",
       "14  2021-03-25T06:10:17Z                     Texas   \n",
       "15  2020-11-15T13:47:51Z                     Maine   \n",
       "16  2021-02-16T01:52:59Z                      Utah   \n",
       "17  2020-09-30T23:10:23Z                    Hawaii   \n",
       "18  2021-03-04T07:03:15Z                      Iowa   \n",
       "19  2020-09-30T05:47:00Z                    Nevada   \n",
       "\n",
       "                                                 text               source  \\\n",
       "0   LIVE: Trump holds press conference https://t.c...      Twitter Web App   \n",
       "1   Trump’s claim the ‘silent majority’ will save ...      Twitter Web App   \n",
       "2   #NewHampshire #VoteBlue #VoteBlueToSaveAmerica...      Twitter Web App   \n",
       "3   @davidsirota I'm so confused, when is the medi...  Twitter for Android   \n",
       "4   @Carlos27480217 @DonaldJTrumpJr Yep! He has Ba...  Twitter for Android   \n",
       "5   @HouseGOP @SenateGOP @GOP @NRSC @NRCC It is in...   Twitter for iPhone   \n",
       "6   @dachs8 @JordanChariton Seriously? Almost ever...  Twitter for Android   \n",
       "7   Biden endorses sending stimulus checks to Amer...   Twitter for iPhone   \n",
       "8   Doug Collins is in the Deep state Mitch McConn...  Twitter for Android   \n",
       "9   It was Trump's antic semitic joke: \"You don't ...  Twitter for Android   \n",
       "10  We're not electing a dictator. The president i...  Twitter for Android   \n",
       "11  @PreetBharara I've always stood by *pled*, unt...  Twitter for Android   \n",
       "12  @DenaePFA @WajahatAli Got this Bible verse fro...      Twitter Web App   \n",
       "13  @AndrewBatesNC Except he said he would cancel ...  Twitter for Android   \n",
       "14  @laurenboebert The president of Mexico blames ...  Twitter for Android   \n",
       "15  @CassandraAhearn PS\\r\\n@Twitter  @Jack  @Twitt...      Twitter Web App   \n",
       "16  Hot take; Romney isn’t against Trump because h...   Twitter for iPhone   \n",
       "17  Trump actually stood in front of the cameras t...      Twitter Web App   \n",
       "18  feel free to join in if you ever see me bullyi...   Twitter for iPhone   \n",
       "19  @PatriotBee78 Biden was low on substance. Also...      Twitter Web App   \n",
       "\n",
       "    display_text_width lang  favorite_count  retweet_count  is_quote  \\\n",
       "0                   71   en               0              0     False   \n",
       "1                  205   en               9              2     False   \n",
       "2                  267   en               7              4     False   \n",
       "3                  262   en               2              0     False   \n",
       "4                   88   en               0              0     False   \n",
       "5                  270   en               0              0      True   \n",
       "6                  278   en               6              0     False   \n",
       "7                  120   en               0              0     False   \n",
       "8                  195   en               1              0     False   \n",
       "9                   69   en               0              0      True   \n",
       "10                 242   en               1              0     False   \n",
       "11                 108   en               0              0     False   \n",
       "12                 232   en               1              0     False   \n",
       "13                 126   en               0              0     False   \n",
       "14                  36   en               0              0     False   \n",
       "15                 263   en               1              0     False   \n",
       "16                 132   en              16              1      True   \n",
       "17                 181   en              12              3     False   \n",
       "18                  64   en               2              0     False   \n",
       "19                 166   en               5              4     False   \n",
       "\n",
       "    followers_count  friends_count  listed_count  statuses_count  \\\n",
       "0              3281           4938             4           39349   \n",
       "1              2866           3000             2           23786   \n",
       "2             32221          26550            52          304911   \n",
       "3               457            375             5           16851   \n",
       "4                43            177             0            2618   \n",
       "5             17842          15408            29           37936   \n",
       "6              1116           1588             6            7168   \n",
       "7               377            295             1           84774   \n",
       "8                91            523             0            1245   \n",
       "9               211            637             0          115742   \n",
       "10              678           1179            34          146317   \n",
       "11              164            242             7           22893   \n",
       "12             5781           6037             3           23623   \n",
       "13              118            352             3            3802   \n",
       "14                7             58             0             158   \n",
       "15            11320          12314             8           26730   \n",
       "16              298            501             2            3002   \n",
       "17             2689           2491            22           39381   \n",
       "18              819            450             5           26708   \n",
       "19            38505          38626           225           81777   \n",
       "\n",
       "    favourites_count                                       cleaned_text  \\\n",
       "0              23299   LIVE: Trump holds press conference  via @YouTube   \n",
       "1              30906  Trump’s claim the ‘silent majority’ will save ...   \n",
       "2             146137  #NewHampshire #VoteBlue #VoteBlueToSaveAmerica...   \n",
       "3               7429  @davidsirota I'm so confused, when is the medi...   \n",
       "4               1517  @Carlos27480217 @DonaldJTrumpJr Yep! He has Ba...   \n",
       "5              31978  @HouseGOP @SenateGOP @GOP @NRSC @NRCC It is in...   \n",
       "6             125089  @dachs8 @JordanChariton Seriously? Almost ever...   \n",
       "7              38849  Biden endorses sending stimulus checks to Amer...   \n",
       "8               1427  Doug Collins is in the Deep state Mitch McConn...   \n",
       "9              48100  It was Trump's antic semitic joke: \"You don't ...   \n",
       "10            266836  We're not electing a dictator. The president i...   \n",
       "11             18428  @PreetBharara I've always stood by *pled*, unt...   \n",
       "12             21302  @DenaePFA @WajahatAli Got this Bible verse fro...   \n",
       "13              4830  @AndrewBatesNC Except he said he would cancel ...   \n",
       "14               124  @laurenboebert The president of Mexico blames ...   \n",
       "15             36105  @CassandraAhearn PS\\r\\n@Twitter  @Jack  @Twitt...   \n",
       "16              5086  Hot take; Romney isn’t against Trump because h...   \n",
       "17             88744  Trump actually stood in front of the cameras t...   \n",
       "18             73717  feel free to join in if you ever see me bullyi...   \n",
       "19              2779  @PatriotBee78 Biden was low on substance. Also...   \n",
       "\n",
       "    Toxicity Fact assessment Trivia question Offensive Assessment  \n",
       "0          1      no verdict             NaN                  NaN  \n",
       "1          8    'no verdict'             NaN                  NaN  \n",
       "2          2          'true'             NaN                  NaN  \n",
       "3          7    'no verdict'             NaN                  NaN  \n",
       "4          8         'false'             NaN                  NaN  \n",
       "5          8           false             NaN                  NaN  \n",
       "6          7    'no verdict'             NaN                  NaN  \n",
       "7          2          'true'             NaN                  NaN  \n",
       "8          8           False             NaN                  NaN  \n",
       "9          8           False             NaN                  NaN  \n",
       "10         7    'no verdict'             NaN                  NaN  \n",
       "11         2    'no verdict'             NaN                  NaN  \n",
       "12         7    'no verdict'             NaN                  NaN  \n",
       "13         7           False             NaN                  NaN  \n",
       "14         3           False             NaN                  NaN  \n",
       "15         8    'no verdict'             NaN                  NaN  \n",
       "16         2          'true'             NaN                  NaN  \n",
       "17         8          'true'             NaN                  NaN  \n",
       "18         2    'no verdict'             NaN                  NaN  \n",
       "19         8         'false'             NaN                  NaN  "
      ]
     },
     "execution_count": 12,
     "metadata": {},
     "output_type": "execute_result"
    }
   ],
   "source": [
    "# Path to your CSV file\n",
    "csv_file_path = \"../../data/labelled/2000_random_tweets_labelled.csv\"\n",
    "\n",
    "# Read the CSV file into a DataFrame\n",
    "df = pd.read_csv(csv_file_path)\n",
    "\n",
    "# Remove rows with text language other than English\n",
    "df = df[df['lang'] == 'en']\n",
    "\n",
    "# Display the first few rows of the DataFrame to verify it was read correctly\n",
    "df.head(20)\n"
   ]
  },
  {
   "cell_type": "code",
   "execution_count": 13,
   "metadata": {},
   "outputs": [
    {
     "data": {
      "image/png": "[encoded data removed]",
      "text/plain": [
       "<Figure size 500x500 with 1 Axes>"
      ]
     },
     "metadata": {},
     "output_type": "display_data"
    }
   ],
   "source": [
    "#adding an extra column as this is the columsn that will appear in the dataset we gave to LLM, we can of course adapt this \n",
    "# just depends which analysis we will be doing first \n",
    "\n",
    "df['cleaned_text'] = df['text']\n",
    "\n",
    "\n",
    "# creating a new column containing the length of each headline text that is larger than 0\n",
    "non_empty_lengths = df[(df['cleaned_text'].notnull()) & (df['display_text_width'] > 0)]['display_text_width']\n",
    "# visualising the length distribution \n",
    "\n",
    "sns.set(rc={'figure.figsize':(14,11)})\n",
    "sns.set(style=\"whitegrid\")\n",
    "sns.displot(non_empty_lengths, kde=False, color='green', bins=100)\n",
    "\n",
    "\n",
    "plt.ylabel('Frequency', fontsize=12)\n",
    "plt.xlabel('Distribution of Tweet Text Lengths', fontsize=12)\n",
    "plt.grid(True)\n",
    "\n",
    "\n",
    "plt.show()"
   ]
  },
  {
   "cell_type": "code",
   "execution_count": 14,
   "metadata": {},
   "outputs": [],
   "source": [
    "from sklearn.feature_extraction.text import CountVectorizer\n",
    "\n",
    "count_vectoriser = CountVectorizer(stop_words=\"english\") # Stopwords for BERT"
   ]
  },
  {
   "cell_type": "code",
   "execution_count": 15,
   "metadata": {},
   "outputs": [],
   "source": [
    "from TweetNormalizer import normalizeTweet\n",
    "\n",
    "def apply_tweet_normalization(df):\n",
    "    \"\"\"\n",
    "    Apply tweet normalization to the 'cleaned_text' column in the DataFrame.\n",
    "    \n",
    "    Parameters:\n",
    "        df (pandas.DataFrame): DataFrame containing the 'cleaned_text' column.\n",
    "        \n",
    "    Returns:\n",
    "        pandas.DataFrame: DataFrame with normalized tweet text.\n",
    "    \"\"\"\n",
    "    try:\n",
    "        df['cleaned_text'] = df['cleaned_text'].apply(normalizeTweet)\n",
    "        return df\n",
    "    except Exception as e:\n",
    "        print(\"An error occurred:\", e)\n",
    "        return None\n",
    "\n",
    "# Call the function to apply tweet normalization\n",
    "df = apply_tweet_normalization(df)"
   ]
  },
  {
   "cell_type": "code",
   "execution_count": 16,
   "metadata": {},
   "outputs": [
    {
     "data": {
      "text/html": [
       "<div>\n",
       "<style scoped>\n",
       "    .dataframe tbody tr th:only-of-type {\n",
       "        vertical-align: middle;\n",
       "    }\n",
       "\n",
       "    .dataframe tbody tr th {\n",
       "        vertical-align: top;\n",
       "    }\n",
       "\n",
       "    .dataframe thead th {\n",
       "        text-align: right;\n",
       "    }\n",
       "</style>\n",
       "<table border=\"1\" class=\"dataframe\">\n",
       "  <thead>\n",
       "    <tr style=\"text-align: right;\">\n",
       "      <th></th>\n",
       "      <th>created_at_fuzzy</th>\n",
       "      <th>state_likely_tweeted_from</th>\n",
       "      <th>text</th>\n",
       "      <th>source</th>\n",
       "      <th>display_text_width</th>\n",
       "      <th>lang</th>\n",
       "      <th>favorite_count</th>\n",
       "      <th>retweet_count</th>\n",
       "      <th>is_quote</th>\n",
       "      <th>followers_count</th>\n",
       "      <th>friends_count</th>\n",
       "      <th>listed_count</th>\n",
       "      <th>statuses_count</th>\n",
       "      <th>favourites_count</th>\n",
       "      <th>cleaned_text</th>\n",
       "      <th>Toxicity</th>\n",
       "      <th>Fact assessment</th>\n",
       "      <th>Trivia question</th>\n",
       "      <th>Offensive Assessment</th>\n",
       "    </tr>\n",
       "  </thead>\n",
       "  <tbody>\n",
       "    <tr>\n",
       "      <th>0</th>\n",
       "      <td>2020-08-13T16:55:49Z</td>\n",
       "      <td>California</td>\n",
       "      <td>LIVE: Trump holds press conference https://t.c...</td>\n",
       "      <td>Twitter Web App</td>\n",
       "      <td>71</td>\n",
       "      <td>en</td>\n",
       "      <td>0</td>\n",
       "      <td>0</td>\n",
       "      <td>False</td>\n",
       "      <td>3281</td>\n",
       "      <td>4938</td>\n",
       "      <td>4</td>\n",
       "      <td>39349</td>\n",
       "      <td>23299</td>\n",
       "      <td>LIVE : Trump holds press conference HTTPURL vi...</td>\n",
       "      <td>1</td>\n",
       "      <td>no verdict</td>\n",
       "      <td>NaN</td>\n",
       "      <td>NaN</td>\n",
       "    </tr>\n",
       "    <tr>\n",
       "      <th>1</th>\n",
       "      <td>2020-08-30T00:03:31Z</td>\n",
       "      <td>Tennessee</td>\n",
       "      <td>Trump’s claim the ‘silent majority’ will save ...</td>\n",
       "      <td>Twitter Web App</td>\n",
       "      <td>205</td>\n",
       "      <td>en</td>\n",
       "      <td>9</td>\n",
       "      <td>2</td>\n",
       "      <td>False</td>\n",
       "      <td>2866</td>\n",
       "      <td>3000</td>\n",
       "      <td>2</td>\n",
       "      <td>23786</td>\n",
       "      <td>30906</td>\n",
       "      <td>Trump 's claim the ‘ silent majority ' will sa...</td>\n",
       "      <td>8</td>\n",
       "      <td>'no verdict'</td>\n",
       "      <td>NaN</td>\n",
       "      <td>NaN</td>\n",
       "    </tr>\n",
       "    <tr>\n",
       "      <th>2</th>\n",
       "      <td>2020-10-26T23:16:05Z</td>\n",
       "      <td>New York</td>\n",
       "      <td>#NewHampshire #VoteBlue #VoteBlueToSaveAmerica...</td>\n",
       "      <td>Twitter Web App</td>\n",
       "      <td>267</td>\n",
       "      <td>en</td>\n",
       "      <td>7</td>\n",
       "      <td>4</td>\n",
       "      <td>False</td>\n",
       "      <td>32221</td>\n",
       "      <td>26550</td>\n",
       "      <td>52</td>\n",
       "      <td>304911</td>\n",
       "      <td>146137</td>\n",
       "      <td>#NewHampshire #VoteBlue #VoteBlueToSaveAmerica...</td>\n",
       "      <td>2</td>\n",
       "      <td>'true'</td>\n",
       "      <td>NaN</td>\n",
       "      <td>NaN</td>\n",
       "    </tr>\n",
       "    <tr>\n",
       "      <th>3</th>\n",
       "      <td>2020-08-24T09:54:59Z</td>\n",
       "      <td>Florida</td>\n",
       "      <td>@davidsirota I'm so confused, when is the medi...</td>\n",
       "      <td>Twitter for Android</td>\n",
       "      <td>262</td>\n",
       "      <td>en</td>\n",
       "      <td>2</td>\n",
       "      <td>0</td>\n",
       "      <td>False</td>\n",
       "      <td>457</td>\n",
       "      <td>375</td>\n",
       "      <td>5</td>\n",
       "      <td>16851</td>\n",
       "      <td>7429</td>\n",
       "      <td>@USER I 'm so confused , when is the media goi...</td>\n",
       "      <td>7</td>\n",
       "      <td>'no verdict'</td>\n",
       "      <td>NaN</td>\n",
       "      <td>NaN</td>\n",
       "    </tr>\n",
       "    <tr>\n",
       "      <th>4</th>\n",
       "      <td>2021-02-04T11:31:07Z</td>\n",
       "      <td>Washington</td>\n",
       "      <td>@Carlos27480217 @DonaldJTrumpJr Yep! He has Ba...</td>\n",
       "      <td>Twitter for Android</td>\n",
       "      <td>88</td>\n",
       "      <td>en</td>\n",
       "      <td>0</td>\n",
       "      <td>0</td>\n",
       "      <td>False</td>\n",
       "      <td>43</td>\n",
       "      <td>177</td>\n",
       "      <td>0</td>\n",
       "      <td>2618</td>\n",
       "      <td>1517</td>\n",
       "      <td>@USER @USER Yep ! He has Balls ! ! Now with Ou...</td>\n",
       "      <td>8</td>\n",
       "      <td>'false'</td>\n",
       "      <td>NaN</td>\n",
       "      <td>NaN</td>\n",
       "    </tr>\n",
       "    <tr>\n",
       "      <th>...</th>\n",
       "      <td>...</td>\n",
       "      <td>...</td>\n",
       "      <td>...</td>\n",
       "      <td>...</td>\n",
       "      <td>...</td>\n",
       "      <td>...</td>\n",
       "      <td>...</td>\n",
       "      <td>...</td>\n",
       "      <td>...</td>\n",
       "      <td>...</td>\n",
       "      <td>...</td>\n",
       "      <td>...</td>\n",
       "      <td>...</td>\n",
       "      <td>...</td>\n",
       "      <td>...</td>\n",
       "      <td>...</td>\n",
       "      <td>...</td>\n",
       "      <td>...</td>\n",
       "      <td>...</td>\n",
       "    </tr>\n",
       "    <tr>\n",
       "      <th>1995</th>\n",
       "      <td>2021-01-15T18:46:33Z</td>\n",
       "      <td>Georgia</td>\n",
       "      <td>U.S. says Capitol rioters meant to 'capture an...</td>\n",
       "      <td>Twitter for iPhone</td>\n",
       "      <td>126</td>\n",
       "      <td>en</td>\n",
       "      <td>2</td>\n",
       "      <td>0</td>\n",
       "      <td>False</td>\n",
       "      <td>1546</td>\n",
       "      <td>1600</td>\n",
       "      <td>2</td>\n",
       "      <td>5156</td>\n",
       "      <td>3058</td>\n",
       "      <td>U . S . says Capitol rioters meant to ' captur...</td>\n",
       "      <td>8</td>\n",
       "      <td>'true'</td>\n",
       "      <td>NaN</td>\n",
       "      <td>NaN</td>\n",
       "    </tr>\n",
       "    <tr>\n",
       "      <th>1996</th>\n",
       "      <td>2020-12-21T13:11:53Z</td>\n",
       "      <td>Iowa</td>\n",
       "      <td>@KeithOlbermann Look in Keith’s eyes.  Trump o...</td>\n",
       "      <td>Twitter for iPhone</td>\n",
       "      <td>104</td>\n",
       "      <td>en</td>\n",
       "      <td>0</td>\n",
       "      <td>0</td>\n",
       "      <td>False</td>\n",
       "      <td>28</td>\n",
       "      <td>50</td>\n",
       "      <td>0</td>\n",
       "      <td>758</td>\n",
       "      <td>6974</td>\n",
       "      <td>@USER Look in Keith 's eyes . Trump owns him ....</td>\n",
       "      <td>8</td>\n",
       "      <td>'no verdict'</td>\n",
       "      <td>NaN</td>\n",
       "      <td>NaN</td>\n",
       "    </tr>\n",
       "    <tr>\n",
       "      <th>1997</th>\n",
       "      <td>2021-02-06T06:35:34Z</td>\n",
       "      <td>North Carolina</td>\n",
       "      <td>@AmyAThatcher I guess the right wingers are pi...</td>\n",
       "      <td>Twitter for Android</td>\n",
       "      <td>125</td>\n",
       "      <td>en</td>\n",
       "      <td>1</td>\n",
       "      <td>0</td>\n",
       "      <td>False</td>\n",
       "      <td>598</td>\n",
       "      <td>512</td>\n",
       "      <td>9</td>\n",
       "      <td>26537</td>\n",
       "      <td>156580</td>\n",
       "      <td>@USER I guess the right wingers are pissed bec...</td>\n",
       "      <td>3</td>\n",
       "      <td>'no verdict'</td>\n",
       "      <td>NaN</td>\n",
       "      <td>NaN</td>\n",
       "    </tr>\n",
       "    <tr>\n",
       "      <th>1998</th>\n",
       "      <td>2020-08-14T07:37:59Z</td>\n",
       "      <td>Iowa</td>\n",
       "      <td>Insane....\\r\\n\\r\\nBiden calls for mandate requ...</td>\n",
       "      <td>Twitter for iPad</td>\n",
       "      <td>98</td>\n",
       "      <td>en</td>\n",
       "      <td>1</td>\n",
       "      <td>0</td>\n",
       "      <td>False</td>\n",
       "      <td>31</td>\n",
       "      <td>96</td>\n",
       "      <td>0</td>\n",
       "      <td>1041</td>\n",
       "      <td>2414</td>\n",
       "      <td>Insane ... Biden calls for mandate requiring a...</td>\n",
       "      <td>2</td>\n",
       "      <td>'true'</td>\n",
       "      <td>NaN</td>\n",
       "      <td>NaN</td>\n",
       "    </tr>\n",
       "    <tr>\n",
       "      <th>1999</th>\n",
       "      <td>2020-09-13T10:35:06Z</td>\n",
       "      <td>Florida</td>\n",
       "      <td>The following things must happen Nov 3.\\r\\n1- ...</td>\n",
       "      <td>Twitter for iPhone</td>\n",
       "      <td>201</td>\n",
       "      <td>en</td>\n",
       "      <td>0</td>\n",
       "      <td>0</td>\n",
       "      <td>True</td>\n",
       "      <td>1492</td>\n",
       "      <td>2270</td>\n",
       "      <td>3</td>\n",
       "      <td>58417</td>\n",
       "      <td>14909</td>\n",
       "      <td>The following things must happen Nov 3 . 1 - T...</td>\n",
       "      <td>9</td>\n",
       "      <td>False</td>\n",
       "      <td>NaN</td>\n",
       "      <td>NaN</td>\n",
       "    </tr>\n",
       "  </tbody>\n",
       "</table>\n",
       "<p>1919 rows × 19 columns</p>\n",
       "</div>"
      ],
      "text/plain": [
       "          created_at_fuzzy state_likely_tweeted_from  \\\n",
       "0     2020-08-13T16:55:49Z                California   \n",
       "1     2020-08-30T00:03:31Z                 Tennessee   \n",
       "2     2020-10-26T23:16:05Z                  New York   \n",
       "3     2020-08-24T09:54:59Z                   Florida   \n",
       "4     2021-02-04T11:31:07Z                Washington   \n",
       "...                    ...                       ...   \n",
       "1995  2021-01-15T18:46:33Z                   Georgia   \n",
       "1996  2020-12-21T13:11:53Z                      Iowa   \n",
       "1997  2021-02-06T06:35:34Z            North Carolina   \n",
       "1998  2020-08-14T07:37:59Z                      Iowa   \n",
       "1999  2020-09-13T10:35:06Z                   Florida   \n",
       "\n",
       "                                                   text               source  \\\n",
       "0     LIVE: Trump holds press conference https://t.c...      Twitter Web App   \n",
       "1     Trump’s claim the ‘silent majority’ will save ...      Twitter Web App   \n",
       "2     #NewHampshire #VoteBlue #VoteBlueToSaveAmerica...      Twitter Web App   \n",
       "3     @davidsirota I'm so confused, when is the medi...  Twitter for Android   \n",
       "4     @Carlos27480217 @DonaldJTrumpJr Yep! He has Ba...  Twitter for Android   \n",
       "...                                                 ...                  ...   \n",
       "1995  U.S. says Capitol rioters meant to 'capture an...   Twitter for iPhone   \n",
       "1996  @KeithOlbermann Look in Keith’s eyes.  Trump o...   Twitter for iPhone   \n",
       "1997  @AmyAThatcher I guess the right wingers are pi...  Twitter for Android   \n",
       "1998  Insane....\\r\\n\\r\\nBiden calls for mandate requ...     Twitter for iPad   \n",
       "1999  The following things must happen Nov 3.\\r\\n1- ...   Twitter for iPhone   \n",
       "\n",
       "      display_text_width lang  favorite_count  retweet_count  is_quote  \\\n",
       "0                     71   en               0              0     False   \n",
       "1                    205   en               9              2     False   \n",
       "2                    267   en               7              4     False   \n",
       "3                    262   en               2              0     False   \n",
       "4                     88   en               0              0     False   \n",
       "...                  ...  ...             ...            ...       ...   \n",
       "1995                 126   en               2              0     False   \n",
       "1996                 104   en               0              0     False   \n",
       "1997                 125   en               1              0     False   \n",
       "1998                  98   en               1              0     False   \n",
       "1999                 201   en               0              0      True   \n",
       "\n",
       "      followers_count  friends_count  listed_count  statuses_count  \\\n",
       "0                3281           4938             4           39349   \n",
       "1                2866           3000             2           23786   \n",
       "2               32221          26550            52          304911   \n",
       "3                 457            375             5           16851   \n",
       "4                  43            177             0            2618   \n",
       "...               ...            ...           ...             ...   \n",
       "1995             1546           1600             2            5156   \n",
       "1996               28             50             0             758   \n",
       "1997              598            512             9           26537   \n",
       "1998               31             96             0            1041   \n",
       "1999             1492           2270             3           58417   \n",
       "\n",
       "      favourites_count                                       cleaned_text  \\\n",
       "0                23299  LIVE : Trump holds press conference HTTPURL vi...   \n",
       "1                30906  Trump 's claim the ‘ silent majority ' will sa...   \n",
       "2               146137  #NewHampshire #VoteBlue #VoteBlueToSaveAmerica...   \n",
       "3                 7429  @USER I 'm so confused , when is the media goi...   \n",
       "4                 1517  @USER @USER Yep ! He has Balls ! ! Now with Ou...   \n",
       "...                ...                                                ...   \n",
       "1995              3058  U . S . says Capitol rioters meant to ' captur...   \n",
       "1996              6974  @USER Look in Keith 's eyes . Trump owns him ....   \n",
       "1997            156580  @USER I guess the right wingers are pissed bec...   \n",
       "1998              2414  Insane ... Biden calls for mandate requiring a...   \n",
       "1999             14909  The following things must happen Nov 3 . 1 - T...   \n",
       "\n",
       "      Toxicity Fact assessment Trivia question Offensive Assessment  \n",
       "0            1      no verdict             NaN                  NaN  \n",
       "1            8    'no verdict'             NaN                  NaN  \n",
       "2            2          'true'             NaN                  NaN  \n",
       "3            7    'no verdict'             NaN                  NaN  \n",
       "4            8         'false'             NaN                  NaN  \n",
       "...        ...             ...             ...                  ...  \n",
       "1995         8          'true'             NaN                  NaN  \n",
       "1996         8    'no verdict'             NaN                  NaN  \n",
       "1997         3    'no verdict'             NaN                  NaN  \n",
       "1998         2          'true'             NaN                  NaN  \n",
       "1999         9           False             NaN                  NaN  \n",
       "\n",
       "[1919 rows x 19 columns]"
      ]
     },
     "execution_count": 16,
     "metadata": {},
     "output_type": "execute_result"
    }
   ],
   "source": [
    "df"
   ]
  },
  {
   "cell_type": "code",
   "execution_count": 17,
   "metadata": {},
   "outputs": [
    {
     "data": {
      "text/html": [
       "<div>\n",
       "<style scoped>\n",
       "    .dataframe tbody tr th:only-of-type {\n",
       "        vertical-align: middle;\n",
       "    }\n",
       "\n",
       "    .dataframe tbody tr th {\n",
       "        vertical-align: top;\n",
       "    }\n",
       "\n",
       "    .dataframe thead th {\n",
       "        text-align: right;\n",
       "    }\n",
       "</style>\n",
       "<table border=\"1\" class=\"dataframe\">\n",
       "  <thead>\n",
       "    <tr style=\"text-align: right;\">\n",
       "      <th></th>\n",
       "      <th>created_at_fuzzy</th>\n",
       "      <th>state_likely_tweeted_from</th>\n",
       "      <th>text</th>\n",
       "      <th>source</th>\n",
       "      <th>display_text_width</th>\n",
       "      <th>lang</th>\n",
       "      <th>favorite_count</th>\n",
       "      <th>retweet_count</th>\n",
       "      <th>is_quote</th>\n",
       "      <th>followers_count</th>\n",
       "      <th>friends_count</th>\n",
       "      <th>listed_count</th>\n",
       "      <th>statuses_count</th>\n",
       "      <th>favourites_count</th>\n",
       "      <th>cleaned_text</th>\n",
       "      <th>Toxicity</th>\n",
       "      <th>Fact assessment</th>\n",
       "      <th>Trivia question</th>\n",
       "      <th>Offensive Assessment</th>\n",
       "    </tr>\n",
       "  </thead>\n",
       "  <tbody>\n",
       "    <tr>\n",
       "      <th>0</th>\n",
       "      <td>2020-08-13T16:55:49Z</td>\n",
       "      <td>California</td>\n",
       "      <td>LIVE: Trump holds press conference https://t.c...</td>\n",
       "      <td>Twitter Web App</td>\n",
       "      <td>71</td>\n",
       "      <td>en</td>\n",
       "      <td>0</td>\n",
       "      <td>0</td>\n",
       "      <td>False</td>\n",
       "      <td>3281</td>\n",
       "      <td>4938</td>\n",
       "      <td>4</td>\n",
       "      <td>39349</td>\n",
       "      <td>23299</td>\n",
       "      <td>live : trump hold press conference httpurl via...</td>\n",
       "      <td>1</td>\n",
       "      <td>no verdict</td>\n",
       "      <td>NaN</td>\n",
       "      <td>NaN</td>\n",
       "    </tr>\n",
       "    <tr>\n",
       "      <th>1</th>\n",
       "      <td>2020-08-30T00:03:31Z</td>\n",
       "      <td>Tennessee</td>\n",
       "      <td>Trump’s claim the ‘silent majority’ will save ...</td>\n",
       "      <td>Twitter Web App</td>\n",
       "      <td>205</td>\n",
       "      <td>en</td>\n",
       "      <td>9</td>\n",
       "      <td>2</td>\n",
       "      <td>False</td>\n",
       "      <td>2866</td>\n",
       "      <td>3000</td>\n",
       "      <td>2</td>\n",
       "      <td>23786</td>\n",
       "      <td>30906</td>\n",
       "      <td>trump 's claim the ‘ silent majority ' will sa...</td>\n",
       "      <td>8</td>\n",
       "      <td>'no verdict'</td>\n",
       "      <td>NaN</td>\n",
       "      <td>NaN</td>\n",
       "    </tr>\n",
       "    <tr>\n",
       "      <th>2</th>\n",
       "      <td>2020-10-26T23:16:05Z</td>\n",
       "      <td>New York</td>\n",
       "      <td>#NewHampshire #VoteBlue #VoteBlueToSaveAmerica...</td>\n",
       "      <td>Twitter Web App</td>\n",
       "      <td>267</td>\n",
       "      <td>en</td>\n",
       "      <td>7</td>\n",
       "      <td>4</td>\n",
       "      <td>False</td>\n",
       "      <td>32221</td>\n",
       "      <td>26550</td>\n",
       "      <td>52</td>\n",
       "      <td>304911</td>\n",
       "      <td>146137</td>\n",
       "      <td>#newhampshire #voteblue #votebluetosaveamerica...</td>\n",
       "      <td>2</td>\n",
       "      <td>'true'</td>\n",
       "      <td>NaN</td>\n",
       "      <td>NaN</td>\n",
       "    </tr>\n",
       "    <tr>\n",
       "      <th>3</th>\n",
       "      <td>2020-08-24T09:54:59Z</td>\n",
       "      <td>Florida</td>\n",
       "      <td>@davidsirota I'm so confused, when is the medi...</td>\n",
       "      <td>Twitter for Android</td>\n",
       "      <td>262</td>\n",
       "      <td>en</td>\n",
       "      <td>2</td>\n",
       "      <td>0</td>\n",
       "      <td>False</td>\n",
       "      <td>457</td>\n",
       "      <td>375</td>\n",
       "      <td>5</td>\n",
       "      <td>16851</td>\n",
       "      <td>7429</td>\n",
       "      <td>@user i 'm so confused , when is the medium go...</td>\n",
       "      <td>7</td>\n",
       "      <td>'no verdict'</td>\n",
       "      <td>NaN</td>\n",
       "      <td>NaN</td>\n",
       "    </tr>\n",
       "    <tr>\n",
       "      <th>4</th>\n",
       "      <td>2021-02-04T11:31:07Z</td>\n",
       "      <td>Washington</td>\n",
       "      <td>@Carlos27480217 @DonaldJTrumpJr Yep! He has Ba...</td>\n",
       "      <td>Twitter for Android</td>\n",
       "      <td>88</td>\n",
       "      <td>en</td>\n",
       "      <td>0</td>\n",
       "      <td>0</td>\n",
       "      <td>False</td>\n",
       "      <td>43</td>\n",
       "      <td>177</td>\n",
       "      <td>0</td>\n",
       "      <td>2618</td>\n",
       "      <td>1517</td>\n",
       "      <td>@user @user yep ! he ha balls ! ! now with our...</td>\n",
       "      <td>8</td>\n",
       "      <td>'false'</td>\n",
       "      <td>NaN</td>\n",
       "      <td>NaN</td>\n",
       "    </tr>\n",
       "    <tr>\n",
       "      <th>...</th>\n",
       "      <td>...</td>\n",
       "      <td>...</td>\n",
       "      <td>...</td>\n",
       "      <td>...</td>\n",
       "      <td>...</td>\n",
       "      <td>...</td>\n",
       "      <td>...</td>\n",
       "      <td>...</td>\n",
       "      <td>...</td>\n",
       "      <td>...</td>\n",
       "      <td>...</td>\n",
       "      <td>...</td>\n",
       "      <td>...</td>\n",
       "      <td>...</td>\n",
       "      <td>...</td>\n",
       "      <td>...</td>\n",
       "      <td>...</td>\n",
       "      <td>...</td>\n",
       "      <td>...</td>\n",
       "    </tr>\n",
       "    <tr>\n",
       "      <th>1995</th>\n",
       "      <td>2021-01-15T18:46:33Z</td>\n",
       "      <td>Georgia</td>\n",
       "      <td>U.S. says Capitol rioters meant to 'capture an...</td>\n",
       "      <td>Twitter for iPhone</td>\n",
       "      <td>126</td>\n",
       "      <td>en</td>\n",
       "      <td>2</td>\n",
       "      <td>0</td>\n",
       "      <td>False</td>\n",
       "      <td>1546</td>\n",
       "      <td>1600</td>\n",
       "      <td>2</td>\n",
       "      <td>5156</td>\n",
       "      <td>3058</td>\n",
       "      <td>u . s . say capitol rioter meant to ' capture ...</td>\n",
       "      <td>8</td>\n",
       "      <td>'true'</td>\n",
       "      <td>NaN</td>\n",
       "      <td>NaN</td>\n",
       "    </tr>\n",
       "    <tr>\n",
       "      <th>1996</th>\n",
       "      <td>2020-12-21T13:11:53Z</td>\n",
       "      <td>Iowa</td>\n",
       "      <td>@KeithOlbermann Look in Keith’s eyes.  Trump o...</td>\n",
       "      <td>Twitter for iPhone</td>\n",
       "      <td>104</td>\n",
       "      <td>en</td>\n",
       "      <td>0</td>\n",
       "      <td>0</td>\n",
       "      <td>False</td>\n",
       "      <td>28</td>\n",
       "      <td>50</td>\n",
       "      <td>0</td>\n",
       "      <td>758</td>\n",
       "      <td>6974</td>\n",
       "      <td>@user look in keith 's eye . trump owns him . ...</td>\n",
       "      <td>8</td>\n",
       "      <td>'no verdict'</td>\n",
       "      <td>NaN</td>\n",
       "      <td>NaN</td>\n",
       "    </tr>\n",
       "    <tr>\n",
       "      <th>1997</th>\n",
       "      <td>2021-02-06T06:35:34Z</td>\n",
       "      <td>North Carolina</td>\n",
       "      <td>@AmyAThatcher I guess the right wingers are pi...</td>\n",
       "      <td>Twitter for Android</td>\n",
       "      <td>125</td>\n",
       "      <td>en</td>\n",
       "      <td>1</td>\n",
       "      <td>0</td>\n",
       "      <td>False</td>\n",
       "      <td>598</td>\n",
       "      <td>512</td>\n",
       "      <td>9</td>\n",
       "      <td>26537</td>\n",
       "      <td>156580</td>\n",
       "      <td>@user i guess the right winger are pissed beca...</td>\n",
       "      <td>3</td>\n",
       "      <td>'no verdict'</td>\n",
       "      <td>NaN</td>\n",
       "      <td>NaN</td>\n",
       "    </tr>\n",
       "    <tr>\n",
       "      <th>1998</th>\n",
       "      <td>2020-08-14T07:37:59Z</td>\n",
       "      <td>Iowa</td>\n",
       "      <td>Insane....\\r\\n\\r\\nBiden calls for mandate requ...</td>\n",
       "      <td>Twitter for iPad</td>\n",
       "      <td>98</td>\n",
       "      <td>en</td>\n",
       "      <td>1</td>\n",
       "      <td>0</td>\n",
       "      <td>False</td>\n",
       "      <td>31</td>\n",
       "      <td>96</td>\n",
       "      <td>0</td>\n",
       "      <td>1041</td>\n",
       "      <td>2414</td>\n",
       "      <td>insane ... biden call for mandate requiring al...</td>\n",
       "      <td>2</td>\n",
       "      <td>'true'</td>\n",
       "      <td>NaN</td>\n",
       "      <td>NaN</td>\n",
       "    </tr>\n",
       "    <tr>\n",
       "      <th>1999</th>\n",
       "      <td>2020-09-13T10:35:06Z</td>\n",
       "      <td>Florida</td>\n",
       "      <td>The following things must happen Nov 3.\\r\\n1- ...</td>\n",
       "      <td>Twitter for iPhone</td>\n",
       "      <td>201</td>\n",
       "      <td>en</td>\n",
       "      <td>0</td>\n",
       "      <td>0</td>\n",
       "      <td>True</td>\n",
       "      <td>1492</td>\n",
       "      <td>2270</td>\n",
       "      <td>3</td>\n",
       "      <td>58417</td>\n",
       "      <td>14909</td>\n",
       "      <td>the following thing must happen nov 3 . 1 - tr...</td>\n",
       "      <td>9</td>\n",
       "      <td>False</td>\n",
       "      <td>NaN</td>\n",
       "      <td>NaN</td>\n",
       "    </tr>\n",
       "  </tbody>\n",
       "</table>\n",
       "<p>1919 rows × 19 columns</p>\n",
       "</div>"
      ],
      "text/plain": [
       "          created_at_fuzzy state_likely_tweeted_from  \\\n",
       "0     2020-08-13T16:55:49Z                California   \n",
       "1     2020-08-30T00:03:31Z                 Tennessee   \n",
       "2     2020-10-26T23:16:05Z                  New York   \n",
       "3     2020-08-24T09:54:59Z                   Florida   \n",
       "4     2021-02-04T11:31:07Z                Washington   \n",
       "...                    ...                       ...   \n",
       "1995  2021-01-15T18:46:33Z                   Georgia   \n",
       "1996  2020-12-21T13:11:53Z                      Iowa   \n",
       "1997  2021-02-06T06:35:34Z            North Carolina   \n",
       "1998  2020-08-14T07:37:59Z                      Iowa   \n",
       "1999  2020-09-13T10:35:06Z                   Florida   \n",
       "\n",
       "                                                   text               source  \\\n",
       "0     LIVE: Trump holds press conference https://t.c...      Twitter Web App   \n",
       "1     Trump’s claim the ‘silent majority’ will save ...      Twitter Web App   \n",
       "2     #NewHampshire #VoteBlue #VoteBlueToSaveAmerica...      Twitter Web App   \n",
       "3     @davidsirota I'm so confused, when is the medi...  Twitter for Android   \n",
       "4     @Carlos27480217 @DonaldJTrumpJr Yep! He has Ba...  Twitter for Android   \n",
       "...                                                 ...                  ...   \n",
       "1995  U.S. says Capitol rioters meant to 'capture an...   Twitter for iPhone   \n",
       "1996  @KeithOlbermann Look in Keith’s eyes.  Trump o...   Twitter for iPhone   \n",
       "1997  @AmyAThatcher I guess the right wingers are pi...  Twitter for Android   \n",
       "1998  Insane....\\r\\n\\r\\nBiden calls for mandate requ...     Twitter for iPad   \n",
       "1999  The following things must happen Nov 3.\\r\\n1- ...   Twitter for iPhone   \n",
       "\n",
       "      display_text_width lang  favorite_count  retweet_count  is_quote  \\\n",
       "0                     71   en               0              0     False   \n",
       "1                    205   en               9              2     False   \n",
       "2                    267   en               7              4     False   \n",
       "3                    262   en               2              0     False   \n",
       "4                     88   en               0              0     False   \n",
       "...                  ...  ...             ...            ...       ...   \n",
       "1995                 126   en               2              0     False   \n",
       "1996                 104   en               0              0     False   \n",
       "1997                 125   en               1              0     False   \n",
       "1998                  98   en               1              0     False   \n",
       "1999                 201   en               0              0      True   \n",
       "\n",
       "      followers_count  friends_count  listed_count  statuses_count  \\\n",
       "0                3281           4938             4           39349   \n",
       "1                2866           3000             2           23786   \n",
       "2               32221          26550            52          304911   \n",
       "3                 457            375             5           16851   \n",
       "4                  43            177             0            2618   \n",
       "...               ...            ...           ...             ...   \n",
       "1995             1546           1600             2            5156   \n",
       "1996               28             50             0             758   \n",
       "1997              598            512             9           26537   \n",
       "1998               31             96             0            1041   \n",
       "1999             1492           2270             3           58417   \n",
       "\n",
       "      favourites_count                                       cleaned_text  \\\n",
       "0                23299  live : trump hold press conference httpurl via...   \n",
       "1                30906  trump 's claim the ‘ silent majority ' will sa...   \n",
       "2               146137  #newhampshire #voteblue #votebluetosaveamerica...   \n",
       "3                 7429  @user i 'm so confused , when is the medium go...   \n",
       "4                 1517  @user @user yep ! he ha balls ! ! now with our...   \n",
       "...                ...                                                ...   \n",
       "1995              3058  u . s . say capitol rioter meant to ' capture ...   \n",
       "1996              6974  @user look in keith 's eye . trump owns him . ...   \n",
       "1997            156580  @user i guess the right winger are pissed beca...   \n",
       "1998              2414  insane ... biden call for mandate requiring al...   \n",
       "1999             14909  the following thing must happen nov 3 . 1 - tr...   \n",
       "\n",
       "      Toxicity Fact assessment Trivia question Offensive Assessment  \n",
       "0            1      no verdict             NaN                  NaN  \n",
       "1            8    'no verdict'             NaN                  NaN  \n",
       "2            2          'true'             NaN                  NaN  \n",
       "3            7    'no verdict'             NaN                  NaN  \n",
       "4            8         'false'             NaN                  NaN  \n",
       "...        ...             ...             ...                  ...  \n",
       "1995         8          'true'             NaN                  NaN  \n",
       "1996         8    'no verdict'             NaN                  NaN  \n",
       "1997         3    'no verdict'             NaN                  NaN  \n",
       "1998         2          'true'             NaN                  NaN  \n",
       "1999         9           False             NaN                  NaN  \n",
       "\n",
       "[1919 rows x 19 columns]"
      ]
     },
     "execution_count": 17,
     "metadata": {},
     "output_type": "execute_result"
    }
   ],
   "source": [
    "def clean_text_BERT(doc):\n",
    "    lemma = WordNetLemmatizer()\n",
    "    no_emoji = emoji.demojize(doc, delimiters=(\"\", \"\")) # Substitutes emoji by descriptive word\n",
    "    normalized = \" \".join(lemma.lemmatize(word).lower() for word in no_emoji.split())\n",
    "    return normalized\n",
    "\n",
    "df[\"cleaned_text\"] = df[\"cleaned_text\"].apply(clean_text_BERT)\n",
    "df"
   ]
  },
  {
   "cell_type": "code",
   "execution_count": 18,
   "metadata": {},
   "outputs": [
    {
     "name": "stdout",
     "output_type": "stream",
     "text": [
      "       created_at_fuzzy state_likely_tweeted_from  \\\n",
      "0  2020-08-13T16:55:49Z                California   \n",
      "1  2020-08-30T00:03:31Z                 Tennessee   \n",
      "2  2020-10-26T23:16:05Z                  New York   \n",
      "3  2020-08-24T09:54:59Z                   Florida   \n",
      "4  2021-02-04T11:31:07Z                Washington   \n",
      "\n",
      "                                                text               source  \\\n",
      "0  LIVE: Trump holds press conference https://t.c...      Twitter Web App   \n",
      "1  Trump’s claim the ‘silent majority’ will save ...      Twitter Web App   \n",
      "2  #NewHampshire #VoteBlue #VoteBlueToSaveAmerica...      Twitter Web App   \n",
      "3  @davidsirota I'm so confused, when is the medi...  Twitter for Android   \n",
      "4  @Carlos27480217 @DonaldJTrumpJr Yep! He has Ba...  Twitter for Android   \n",
      "\n",
      "   display_text_width lang  favorite_count  retweet_count  is_quote  \\\n",
      "0                  71   en               0              0     False   \n",
      "1                 205   en               9              2     False   \n",
      "2                 267   en               7              4     False   \n",
      "3                 262   en               2              0     False   \n",
      "4                  88   en               0              0     False   \n",
      "\n",
      "   followers_count  friends_count  listed_count  statuses_count  \\\n",
      "0             3281           4938             4           39349   \n",
      "1             2866           3000             2           23786   \n",
      "2            32221          26550            52          304911   \n",
      "3              457            375             5           16851   \n",
      "4               43            177             0            2618   \n",
      "\n",
      "   favourites_count                                       cleaned_text  \\\n",
      "0             23299           live : trump hold press conference  via    \n",
      "1             30906  trump 's claim the ‘ silent majority ' will sa...   \n",
      "2            146137  #newhampshire #voteblue #votebluetosaveamerica...   \n",
      "3              7429   i 'm so confused , when is the medium going t...   \n",
      "4              1517    yep ! he ha balls ! ! now with our whimp in ...   \n",
      "\n",
      "   Toxicity Fact assessment Trivia question Offensive Assessment  \n",
      "0         1      no verdict             NaN                  NaN  \n",
      "1         8    'no verdict'             NaN                  NaN  \n",
      "2         2          'true'             NaN                  NaN  \n",
      "3         7    'no verdict'             NaN                  NaN  \n",
      "4         8         'false'             NaN                  NaN  \n"
     ]
    }
   ],
   "source": [
    "def remove_specific_words(df):\n",
    "    # Define the words to remove\n",
    "    words_to_remove = ['@user', 'httpurl']\n",
    "    \n",
    "    # Create a regex pattern to match these words\n",
    "    pattern = '|'.join(words_to_remove)\n",
    "    \n",
    "    try:\n",
    "        # Replace the words with an empty string\n",
    "        df['cleaned_text'] = df['cleaned_text'].str.replace(pattern, '', regex=True)\n",
    "        return df\n",
    "    except Exception as e:\n",
    "        print(\"An error occurred while removing specific words:\", e)\n",
    "        return None\n",
    "\n",
    "# Call the function to remove the words\n",
    "df = remove_specific_words(df)\n",
    "\n",
    "# Display the DataFrame to verify changes\n",
    "print(df.head())"
   ]
  },
  {
   "cell_type": "code",
   "execution_count": 20,
   "metadata": {},
   "outputs": [
    {
     "name": "stdout",
     "output_type": "stream",
     "text": [
      "all-MiniLM-L12-v2\n"
     ]
    },
    {
     "data": {
      "application/vnd.jupyter.widget-view+json": {
       "model_id": "7aa1be58acc549c89f285a4327d6c6bd",
       "version_major": 2,
       "version_minor": 0
      },
      "text/plain": [
       "Batches:   0%|          | 0/60 [00:00<?, ?it/s]"
      ]
     },
     "metadata": {},
     "output_type": "display_data"
    },
    {
     "name": "stderr",
     "output_type": "stream",
     "text": [
      "2024-05-07 10:48:17,060 - BERTopic - Transformed documents to Embeddings\n",
      "2024-05-07 10:48:25,734 - BERTopic - Reduced dimensionality\n",
      "2024-05-07 10:48:25,820 - BERTopic - Clustered reduced embeddings\n"
     ]
    },
    {
     "data": {
      "text/html": [
       "<div>\n",
       "<style scoped>\n",
       "    .dataframe tbody tr th:only-of-type {\n",
       "        vertical-align: middle;\n",
       "    }\n",
       "\n",
       "    .dataframe tbody tr th {\n",
       "        vertical-align: top;\n",
       "    }\n",
       "\n",
       "    .dataframe thead th {\n",
       "        text-align: right;\n",
       "    }\n",
       "</style>\n",
       "<table border=\"1\" class=\"dataframe\">\n",
       "  <thead>\n",
       "    <tr style=\"text-align: right;\">\n",
       "      <th></th>\n",
       "      <th>Topic</th>\n",
       "      <th>Count</th>\n",
       "      <th>Name</th>\n",
       "      <th>Representation</th>\n",
       "      <th>Representative_Docs</th>\n",
       "    </tr>\n",
       "  </thead>\n",
       "  <tbody>\n",
       "    <tr>\n",
       "      <th>0</th>\n",
       "      <td>-1</td>\n",
       "      <td>711</td>\n",
       "      <td>-1_trump_biden_wa_president</td>\n",
       "      <td>[trump, biden, wa, president, joe, ha, just, l...</td>\n",
       "      <td>[less than a week to go . biden is no prize , ...</td>\n",
       "    </tr>\n",
       "    <tr>\n",
       "      <th>1</th>\n",
       "      <td>0</td>\n",
       "      <td>89</td>\n",
       "      <td>0_capitol_trump_terrorist_riot</td>\n",
       "      <td>[capitol, trump, terrorist, riot, people, viol...</td>\n",
       "      <td>[ we 're interpreters &amp; workers for u . s forc...</td>\n",
       "    </tr>\n",
       "    <tr>\n",
       "      <th>2</th>\n",
       "      <td>1</td>\n",
       "      <td>79</td>\n",
       "      <td>1_face_with_tears_of_joy_rolling_on_the_floor_...</td>\n",
       "      <td>[face_with_tears_of_joy, rolling_on_the_floor_...</td>\n",
       "      <td>[                                             ...</td>\n",
       "    </tr>\n",
       "    <tr>\n",
       "      <th>3</th>\n",
       "      <td>2</td>\n",
       "      <td>69</td>\n",
       "      <td>2_vote_ballot_state_election</td>\n",
       "      <td>[vote, ballot, state, election, trump, mail, v...</td>\n",
       "      <td>[           if people who claim fraud get thei...</td>\n",
       "    </tr>\n",
       "    <tr>\n",
       "      <th>4</th>\n",
       "      <td>3</td>\n",
       "      <td>65</td>\n",
       "      <td>3_biden_vote biden_manifest_vote</td>\n",
       "      <td>[biden, vote biden, manifest, vote, 45 elector...</td>\n",
       "      <td>[  seriously ? almost every poll sited on the ...</td>\n",
       "    </tr>\n",
       "    <tr>\n",
       "      <th>5</th>\n",
       "      <td>4</td>\n",
       "      <td>61</td>\n",
       "      <td>4_biden_plan_policy_tax</td>\n",
       "      <td>[biden, plan, policy, tax, student, debt, admi...</td>\n",
       "      <td>[  criticism him relentlessly on populist poli...</td>\n",
       "    </tr>\n",
       "    <tr>\n",
       "      <th>6</th>\n",
       "      <td>5</td>\n",
       "      <td>57</td>\n",
       "      <td>5_supporter_trump supporter_support_trump</td>\n",
       "      <td>[supporter, trump supporter, support, trump, s...</td>\n",
       "      <td>[  this is fair but generous . he 's also gett...</td>\n",
       "    </tr>\n",
       "    <tr>\n",
       "      <th>7</th>\n",
       "      <td>6</td>\n",
       "      <td>54</td>\n",
       "      <td>6_money_trump_economy_tax</td>\n",
       "      <td>[money, trump, economy, tax, year, like, econo...</td>\n",
       "      <td>[ i support no tax on truly family farms but g...</td>\n",
       "    </tr>\n",
       "    <tr>\n",
       "      <th>8</th>\n",
       "      <td>7</td>\n",
       "      <td>47</td>\n",
       "      <td>7_trump_world_real_trump trump</td>\n",
       "      <td>[trump, world, real, trump trump, country, tru...</td>\n",
       "      <td>[   trump ha been a laughing stock to the enti...</td>\n",
       "    </tr>\n",
       "    <tr>\n",
       "      <th>9</th>\n",
       "      <td>8</td>\n",
       "      <td>44</td>\n",
       "      <td>8_trump_think_term_crazy</td>\n",
       "      <td>[trump, think, term, crazy, office, like trump...</td>\n",
       "      <td>[ people that think trump wa anything other th...</td>\n",
       "    </tr>\n",
       "    <tr>\n",
       "      <th>10</th>\n",
       "      <td>9</td>\n",
       "      <td>43</td>\n",
       "      <td>9_twitter_tweet_trump_medium</td>\n",
       "      <td>[twitter, tweet, trump, medium, white_heavy_ch...</td>\n",
       "      <td>[ ps    #deactivatetrump #suspendtrump trump u...</td>\n",
       "    </tr>\n",
       "    <tr>\n",
       "      <th>11</th>\n",
       "      <td>10</td>\n",
       "      <td>41</td>\n",
       "      <td>10_harris_kamala_black_kamala harris</td>\n",
       "      <td>[harris, kamala, black, kamala harris, biden, ...</td>\n",
       "      <td>[the inauguration of joe biden did n't feature...</td>\n",
       "    </tr>\n",
       "    <tr>\n",
       "      <th>12</th>\n",
       "      <td>11</td>\n",
       "      <td>35</td>\n",
       "      <td>11_biden_joe biden_joe_thewayiseeit</td>\n",
       "      <td>[biden, joe biden, joe, thewayiseeit, thewayis...</td>\n",
       "      <td>[#newhampshire #voteblue #votebluetosaveameric...</td>\n",
       "    </tr>\n",
       "    <tr>\n",
       "      <th>13</th>\n",
       "      <td>12</td>\n",
       "      <td>33</td>\n",
       "      <td>12_vaccine_vaccinated_biden_coronavirus vaccine</td>\n",
       "      <td>[vaccine, vaccinated, biden, coronavirus vacci...</td>\n",
       "      <td>[investors are encouraged by the latest progre...</td>\n",
       "    </tr>\n",
       "    <tr>\n",
       "      <th>14</th>\n",
       "      <td>13</td>\n",
       "      <td>33</td>\n",
       "      <td>13_court_supreme court_supreme_lawyer</td>\n",
       "      <td>[court, supreme court, supreme, lawyer, trump ...</td>\n",
       "      <td>[   did n't realize you were on trump legal te...</td>\n",
       "    </tr>\n",
       "    <tr>\n",
       "      <th>15</th>\n",
       "      <td>14</td>\n",
       "      <td>32</td>\n",
       "      <td>14_party_gop_republicans_deep</td>\n",
       "      <td>[party, gop, republicans, deep, trump, democra...</td>\n",
       "      <td>[the gop war ha begun . trumpists v traditiona...</td>\n",
       "    </tr>\n",
       "    <tr>\n",
       "      <th>16</th>\n",
       "      <td>15</td>\n",
       "      <td>31</td>\n",
       "      <td>15_border_immigration_biden_ha</td>\n",
       "      <td>[border, immigration, biden, ha, biden adminis...</td>\n",
       "      <td>[ wow what bs this guy spews ! this ha been go...</td>\n",
       "    </tr>\n",
       "    <tr>\n",
       "      <th>17</th>\n",
       "      <td>16</td>\n",
       "      <td>30</td>\n",
       "      <td>16_white_racist_black_supremacist</td>\n",
       "      <td>[white, racist, black, supremacist, white supr...</td>\n",
       "      <td>[   the “ fear , anger and paranoia in the pub...</td>\n",
       "    </tr>\n",
       "    <tr>\n",
       "      <th>18</th>\n",
       "      <td>17</td>\n",
       "      <td>24</td>\n",
       "      <td>17_woodward_cnn_jack_film</td>\n",
       "      <td>[woodward, cnn, jack, film, video, trump, time...</td>\n",
       "      <td>[ why doe n't anyone show the video of  announ...</td>\n",
       "    </tr>\n",
       "    <tr>\n",
       "      <th>19</th>\n",
       "      <td>18</td>\n",
       "      <td>23</td>\n",
       "      <td>18_concede_communist_loses_conceded</td>\n",
       "      <td>[concede, communist, loses, conceded, losing, ...</td>\n",
       "      <td>[the communist fucs are to stupid to realize  ...</td>\n",
       "    </tr>\n",
       "    <tr>\n",
       "      <th>20</th>\n",
       "      <td>19</td>\n",
       "      <td>21</td>\n",
       "      <td>19_accept_biden_votes_won</td>\n",
       "      <td>[accept, biden, votes, won, lost, biden won, b...</td>\n",
       "      <td>[ president trump please look in to this . how...</td>\n",
       "    </tr>\n",
       "    <tr>\n",
       "      <th>21</th>\n",
       "      <td>20</td>\n",
       "      <td>21</td>\n",
       "      <td>20_putin_russia_moscow mitch_moscow</td>\n",
       "      <td>[putin, russia, moscow mitch, moscow, mitch, r...</td>\n",
       "      <td>[  sorry , the notion that \" trump is putin 's...</td>\n",
       "    </tr>\n",
       "    <tr>\n",
       "      <th>22</th>\n",
       "      <td>21</td>\n",
       "      <td>19</td>\n",
       "      <td>21_christian_devil_god_satan</td>\n",
       "      <td>[christian, devil, god, satan, celebrant, bibl...</td>\n",
       "      <td>[  got this bible verse from billy graham spea...</td>\n",
       "    </tr>\n",
       "    <tr>\n",
       "      <th>23</th>\n",
       "      <td>22</td>\n",
       "      <td>18</td>\n",
       "      <td>22_lie_lied_trump lie_lying</td>\n",
       "      <td>[lie, lied, trump lie, lying, doe lie, knew kn...</td>\n",
       "      <td>[      he admited he wa wrong amd ha changed s...</td>\n",
       "    </tr>\n",
       "    <tr>\n",
       "      <th>24</th>\n",
       "      <td>23</td>\n",
       "      <td>18</td>\n",
       "      <td>23_china_hunter biden_hunter_biden</td>\n",
       "      <td>[china, hunter biden, hunter, biden, email, ru...</td>\n",
       "      <td>[ our chinese whistleblower friend say that bi...</td>\n",
       "    </tr>\n",
       "    <tr>\n",
       "      <th>25</th>\n",
       "      <td>24</td>\n",
       "      <td>17</td>\n",
       "      <td>24_gun_atf_biden_end</td>\n",
       "      <td>[gun, atf, biden, end, waco, severe, korea, no...</td>\n",
       "      <td>[kill shot murdered mgk into another style of ...</td>\n",
       "    </tr>\n",
       "    <tr>\n",
       "      <th>26</th>\n",
       "      <td>25</td>\n",
       "      <td>17</td>\n",
       "      <td>25_fact_biden_lie_dog</td>\n",
       "      <td>[fact, biden, lie, dog, ample, dude, cheating,...</td>\n",
       "      <td>[   fact check false sweetheart . oh but hey ,...</td>\n",
       "    </tr>\n",
       "    <tr>\n",
       "      <th>27</th>\n",
       "      <td>26</td>\n",
       "      <td>16</td>\n",
       "      <td>26_said_trump wa_mean trump_year trump</td>\n",
       "      <td>[said, trump wa, mean trump, year trump, trump...</td>\n",
       "      <td>[john bolton , hardly a bff of  , say trump ne...</td>\n",
       "    </tr>\n",
       "    <tr>\n",
       "      <th>28</th>\n",
       "      <td>27</td>\n",
       "      <td>15</td>\n",
       "      <td>27_impeached_impeachment_trump impeachment_senate</td>\n",
       "      <td>[impeached, impeachment, trump impeachment, se...</td>\n",
       "      <td>[  ya 'll really believed theyd convict him ov...</td>\n",
       "    </tr>\n",
       "    <tr>\n",
       "      <th>29</th>\n",
       "      <td>28</td>\n",
       "      <td>15</td>\n",
       "      <td>28_awful_ve_trump president_worse</td>\n",
       "      <td>[awful, ve, trump president, worse, trump, sh ...</td>\n",
       "      <td>[ another deranged trump sycophant who will be...</td>\n",
       "    </tr>\n",
       "    <tr>\n",
       "      <th>30</th>\n",
       "      <td>29</td>\n",
       "      <td>15</td>\n",
       "      <td>29_biden_money mouth_face_mouth_face_money</td>\n",
       "      <td>[biden, money mouth_face, mouth_face, money, h...</td>\n",
       "      <td>[   i 'm not gullible at all , i just can read...</td>\n",
       "    </tr>\n",
       "    <tr>\n",
       "      <th>31</th>\n",
       "      <td>30</td>\n",
       "      <td>14</td>\n",
       "      <td>30_debate_final_biden_trump biden</td>\n",
       "      <td>[debate, final, biden, trump biden, biden deba...</td>\n",
       "      <td>[joe biden 's ' communication skill ' on show ...</td>\n",
       "    </tr>\n",
       "    <tr>\n",
       "      <th>32</th>\n",
       "      <td>31</td>\n",
       "      <td>14</td>\n",
       "      <td>31_care_miss trump_mrs_kevin sorbo</td>\n",
       "      <td>[care, miss trump, mrs, kevin sorbo, sorbo, ca...</td>\n",
       "      <td>[let 's see if baron grows up to be a accompli...</td>\n",
       "    </tr>\n",
       "    <tr>\n",
       "      <th>33</th>\n",
       "      <td>32</td>\n",
       "      <td>14</td>\n",
       "      <td>32_united_states united_states_united_states_2...</td>\n",
       "      <td>[united_states united_states, united_states, 2...</td>\n",
       "      <td>[ trump pence 2020 kag ! ! , once upon a time ...</td>\n",
       "    </tr>\n",
       "    <tr>\n",
       "      <th>34</th>\n",
       "      <td>33</td>\n",
       "      <td>14</td>\n",
       "      <td>33_virus_infected_country_tested</td>\n",
       "      <td>[virus, infected, country, tested, virus did, ...</td>\n",
       "      <td>[    maybe because he know that this shit ha b...</td>\n",
       "    </tr>\n",
       "    <tr>\n",
       "      <th>35</th>\n",
       "      <td>34</td>\n",
       "      <td>14</td>\n",
       "      <td>34_pardon_trump pardon_prison_pardon trump</td>\n",
       "      <td>[pardon, trump pardon, prison, pardon trump, p...</td>\n",
       "      <td>[  if trump ever actually get convicted of any...</td>\n",
       "    </tr>\n",
       "    <tr>\n",
       "      <th>36</th>\n",
       "      <td>35</td>\n",
       "      <td>13</td>\n",
       "      <td>35_remove_fix_library_remove trump</td>\n",
       "      <td>[remove, fix, library, remove trump, death, ar...</td>\n",
       "      <td>[ even if asymptomatic the cabinet and vice pr...</td>\n",
       "    </tr>\n",
       "    <tr>\n",
       "      <th>37</th>\n",
       "      <td>36</td>\n",
       "      <td>11</td>\n",
       "      <td>36_covid_ploy_trump covid_responsible</td>\n",
       "      <td>[covid, ploy, trump covid, responsible, 19, co...</td>\n",
       "      <td>[  you know first reading your comment , it so...</td>\n",
       "    </tr>\n",
       "    <tr>\n",
       "      <th>38</th>\n",
       "      <td>37</td>\n",
       "      <td>11</td>\n",
       "      <td>37_parler_did trump_trump did_2001</td>\n",
       "      <td>[parler, did trump, trump did, 2001, leaving f...</td>\n",
       "      <td>[trump say become a very pissed off hal comput...</td>\n",
       "    </tr>\n",
       "    <tr>\n",
       "      <th>39</th>\n",
       "      <td>38</td>\n",
       "      <td>11</td>\n",
       "      <td>38_mask_wear_wear mask_wearing mask</td>\n",
       "      <td>[mask, wear, wear mask, wearing mask, wearing,...</td>\n",
       "      <td>[ i wa getting quote for a patio and the contr...</td>\n",
       "    </tr>\n",
       "    <tr>\n",
       "      <th>40</th>\n",
       "      <td>39</td>\n",
       "      <td>10</td>\n",
       "      <td>39_died_americans died_people_death</td>\n",
       "      <td>[died, americans died, people, death, american...</td>\n",
       "      <td>[ if president trump is responsible for the de...</td>\n",
       "    </tr>\n",
       "  </tbody>\n",
       "</table>\n",
       "</div>"
      ],
      "text/plain": [
       "    Topic  Count                                               Name  \\\n",
       "0      -1    711                        -1_trump_biden_wa_president   \n",
       "1       0     89                     0_capitol_trump_terrorist_riot   \n",
       "2       1     79  1_face_with_tears_of_joy_rolling_on_the_floor_...   \n",
       "3       2     69                       2_vote_ballot_state_election   \n",
       "4       3     65                   3_biden_vote biden_manifest_vote   \n",
       "5       4     61                            4_biden_plan_policy_tax   \n",
       "6       5     57          5_supporter_trump supporter_support_trump   \n",
       "7       6     54                          6_money_trump_economy_tax   \n",
       "8       7     47                     7_trump_world_real_trump trump   \n",
       "9       8     44                           8_trump_think_term_crazy   \n",
       "10      9     43                       9_twitter_tweet_trump_medium   \n",
       "11     10     41               10_harris_kamala_black_kamala harris   \n",
       "12     11     35                11_biden_joe biden_joe_thewayiseeit   \n",
       "13     12     33    12_vaccine_vaccinated_biden_coronavirus vaccine   \n",
       "14     13     33              13_court_supreme court_supreme_lawyer   \n",
       "15     14     32                      14_party_gop_republicans_deep   \n",
       "16     15     31                     15_border_immigration_biden_ha   \n",
       "17     16     30                  16_white_racist_black_supremacist   \n",
       "18     17     24                          17_woodward_cnn_jack_film   \n",
       "19     18     23                18_concede_communist_loses_conceded   \n",
       "20     19     21                          19_accept_biden_votes_won   \n",
       "21     20     21                20_putin_russia_moscow mitch_moscow   \n",
       "22     21     19                       21_christian_devil_god_satan   \n",
       "23     22     18                        22_lie_lied_trump lie_lying   \n",
       "24     23     18                 23_china_hunter biden_hunter_biden   \n",
       "25     24     17                               24_gun_atf_biden_end   \n",
       "26     25     17                              25_fact_biden_lie_dog   \n",
       "27     26     16             26_said_trump wa_mean trump_year trump   \n",
       "28     27     15  27_impeached_impeachment_trump impeachment_senate   \n",
       "29     28     15                  28_awful_ve_trump president_worse   \n",
       "30     29     15         29_biden_money mouth_face_mouth_face_money   \n",
       "31     30     14                  30_debate_final_biden_trump biden   \n",
       "32     31     14                 31_care_miss trump_mrs_kevin sorbo   \n",
       "33     32     14  32_united_states united_states_united_states_2...   \n",
       "34     33     14                   33_virus_infected_country_tested   \n",
       "35     34     14         34_pardon_trump pardon_prison_pardon trump   \n",
       "36     35     13                 35_remove_fix_library_remove trump   \n",
       "37     36     11              36_covid_ploy_trump covid_responsible   \n",
       "38     37     11                 37_parler_did trump_trump did_2001   \n",
       "39     38     11                38_mask_wear_wear mask_wearing mask   \n",
       "40     39     10                39_died_americans died_people_death   \n",
       "\n",
       "                                       Representation  \\\n",
       "0   [trump, biden, wa, president, joe, ha, just, l...   \n",
       "1   [capitol, trump, terrorist, riot, people, viol...   \n",
       "2   [face_with_tears_of_joy, rolling_on_the_floor_...   \n",
       "3   [vote, ballot, state, election, trump, mail, v...   \n",
       "4   [biden, vote biden, manifest, vote, 45 elector...   \n",
       "5   [biden, plan, policy, tax, student, debt, admi...   \n",
       "6   [supporter, trump supporter, support, trump, s...   \n",
       "7   [money, trump, economy, tax, year, like, econo...   \n",
       "8   [trump, world, real, trump trump, country, tru...   \n",
       "9   [trump, think, term, crazy, office, like trump...   \n",
       "10  [twitter, tweet, trump, medium, white_heavy_ch...   \n",
       "11  [harris, kamala, black, kamala harris, biden, ...   \n",
       "12  [biden, joe biden, joe, thewayiseeit, thewayis...   \n",
       "13  [vaccine, vaccinated, biden, coronavirus vacci...   \n",
       "14  [court, supreme court, supreme, lawyer, trump ...   \n",
       "15  [party, gop, republicans, deep, trump, democra...   \n",
       "16  [border, immigration, biden, ha, biden adminis...   \n",
       "17  [white, racist, black, supremacist, white supr...   \n",
       "18  [woodward, cnn, jack, film, video, trump, time...   \n",
       "19  [concede, communist, loses, conceded, losing, ...   \n",
       "20  [accept, biden, votes, won, lost, biden won, b...   \n",
       "21  [putin, russia, moscow mitch, moscow, mitch, r...   \n",
       "22  [christian, devil, god, satan, celebrant, bibl...   \n",
       "23  [lie, lied, trump lie, lying, doe lie, knew kn...   \n",
       "24  [china, hunter biden, hunter, biden, email, ru...   \n",
       "25  [gun, atf, biden, end, waco, severe, korea, no...   \n",
       "26  [fact, biden, lie, dog, ample, dude, cheating,...   \n",
       "27  [said, trump wa, mean trump, year trump, trump...   \n",
       "28  [impeached, impeachment, trump impeachment, se...   \n",
       "29  [awful, ve, trump president, worse, trump, sh ...   \n",
       "30  [biden, money mouth_face, mouth_face, money, h...   \n",
       "31  [debate, final, biden, trump biden, biden deba...   \n",
       "32  [care, miss trump, mrs, kevin sorbo, sorbo, ca...   \n",
       "33  [united_states united_states, united_states, 2...   \n",
       "34  [virus, infected, country, tested, virus did, ...   \n",
       "35  [pardon, trump pardon, prison, pardon trump, p...   \n",
       "36  [remove, fix, library, remove trump, death, ar...   \n",
       "37  [covid, ploy, trump covid, responsible, 19, co...   \n",
       "38  [parler, did trump, trump did, 2001, leaving f...   \n",
       "39  [mask, wear, wear mask, wearing mask, wearing,...   \n",
       "40  [died, americans died, people, death, american...   \n",
       "\n",
       "                                  Representative_Docs  \n",
       "0   [less than a week to go . biden is no prize , ...  \n",
       "1   [ we 're interpreters & workers for u . s forc...  \n",
       "2   [                                             ...  \n",
       "3   [           if people who claim fraud get thei...  \n",
       "4   [  seriously ? almost every poll sited on the ...  \n",
       "5   [  criticism him relentlessly on populist poli...  \n",
       "6   [  this is fair but generous . he 's also gett...  \n",
       "7   [ i support no tax on truly family farms but g...  \n",
       "8   [   trump ha been a laughing stock to the enti...  \n",
       "9   [ people that think trump wa anything other th...  \n",
       "10  [ ps    #deactivatetrump #suspendtrump trump u...  \n",
       "11  [the inauguration of joe biden did n't feature...  \n",
       "12  [#newhampshire #voteblue #votebluetosaveameric...  \n",
       "13  [investors are encouraged by the latest progre...  \n",
       "14  [   did n't realize you were on trump legal te...  \n",
       "15  [the gop war ha begun . trumpists v traditiona...  \n",
       "16  [ wow what bs this guy spews ! this ha been go...  \n",
       "17  [   the “ fear , anger and paranoia in the pub...  \n",
       "18  [ why doe n't anyone show the video of  announ...  \n",
       "19  [the communist fucs are to stupid to realize  ...  \n",
       "20  [ president trump please look in to this . how...  \n",
       "21  [  sorry , the notion that \" trump is putin 's...  \n",
       "22  [  got this bible verse from billy graham spea...  \n",
       "23  [      he admited he wa wrong amd ha changed s...  \n",
       "24  [ our chinese whistleblower friend say that bi...  \n",
       "25  [kill shot murdered mgk into another style of ...  \n",
       "26  [   fact check false sweetheart . oh but hey ,...  \n",
       "27  [john bolton , hardly a bff of  , say trump ne...  \n",
       "28  [  ya 'll really believed theyd convict him ov...  \n",
       "29  [ another deranged trump sycophant who will be...  \n",
       "30  [   i 'm not gullible at all , i just can read...  \n",
       "31  [joe biden 's ' communication skill ' on show ...  \n",
       "32  [let 's see if baron grows up to be a accompli...  \n",
       "33  [ trump pence 2020 kag ! ! , once upon a time ...  \n",
       "34  [    maybe because he know that this shit ha b...  \n",
       "35  [  if trump ever actually get convicted of any...  \n",
       "36  [ even if asymptomatic the cabinet and vice pr...  \n",
       "37  [  you know first reading your comment , it so...  \n",
       "38  [trump say become a very pissed off hal comput...  \n",
       "39  [ i wa getting quote for a patio and the contr...  \n",
       "40  [ if president trump is responsible for the de...  "
      ]
     },
     "metadata": {},
     "output_type": "display_data"
    }
   ],
   "source": [
    "from bertopic.vectorizers import ClassTfidfTransformer\n",
    "from hdbscan import HDBSCAN\n",
    "from umap import UMAP\n",
    "from bertopic.representation import KeyBERTInspired\n",
    "\n",
    "print(\"all-MiniLM-L12-v2\")\n",
    "\n",
    "umap_model = UMAP(n_neighbors=15, n_components=5, \n",
    "                  min_dist=0.0, metric='cosine', random_state=42) \n",
    "representation_model = KeyBERTInspired()\n",
    "ctfidf_model = ClassTfidfTransformer(reduce_frequent_words=True)\n",
    "\n",
    "# flag_hyperparameters \n",
    "# Specify min_cluster_size and min_samples to minimize outliers\n",
    "hdbscan_model = HDBSCAN(min_cluster_size=10, metric='euclidean',\n",
    "                        cluster_selection_method='eom', prediction_data=True, min_samples=4) # Clustering algorithm that yields denser topics and reduces outliers\n",
    "\n",
    "# Initiate BERTopic and fit data\n",
    "model = BERTopic(verbose=True, representation_model = representation_model, \n",
    "                 embedding_model = \"all-MiniLM-L12-v2\", umap_model = umap_model, \n",
    "                 ctfidf_model=ctfidf_model, hdbscan_model=hdbscan_model)\n",
    "topics, _ = model.fit_transform(df[\"cleaned_text\"])\n",
    "\n",
    "# Get the default set of English stop words from scikit-learn\n",
    "default_stop_words = text.ENGLISH_STOP_WORDS\n",
    "\n",
    "# # Define your custom stop words\n",
    "# custom_stop_words = {'@user', 'httpurl'}\n",
    "\n",
    "# # Combine the default stop words with your custom stop words\n",
    "# combined_stop_words = default_stop_words.union(custom_stop_words)\n",
    "\n",
    "# # Convert the combined stop words from a set to a list\n",
    "# combined_stop_words_list = list(combined_stop_words)\n",
    "\n",
    "# Initialize the CountVectorizer with the combined set of stop words\n",
    "count_vectoriser = CountVectorizer(ngram_range=(1, 2), stop_words=\"english\")\n",
    "# count_vectoriser = CountVectorizer(stop_words=combined_stop_words_list)\n",
    "\n",
    "model.update_topics(df[\"cleaned_text\"], vectorizer_model=count_vectoriser)\n",
    "\n",
    "display(model.get_topic_info())"
   ]
  },
  {
   "cell_type": "code",
   "execution_count": 21,
   "metadata": {},
   "outputs": [
    {
     "data": {
      "text/plain": [
       "[' why doe n\\'t anyone show the video of  announcing that he had some \" big news on hillary \" a week before the wikileaks released hacked email ? seems like pretty strong proof that trump and trump campaign obviosly knew about them in advance .',\n",
       " 'on cnn wednesday , \" qanon anonymous \" podcast host julian feeld explained the strange new conspiracy theory that trump will be re-inaugurated on march 4th a the \" 19th president \" of the \" restored \" united states ',\n",
       " ' dr lee , at this point i \\'m willing to suck it up and keep moving forward . personally i \\'m not bothered by what bob woodward , michael or anyone else is doing this close to the election . donald trump must be removed from office \" by any mean necessary . \" period .']"
      ]
     },
     "execution_count": 21,
     "metadata": {},
     "output_type": "execute_result"
    }
   ],
   "source": [
    "model.get_representative_docs(17)"
   ]
  },
  {
   "cell_type": "code",
   "execution_count": 22,
   "metadata": {},
   "outputs": [
    {
     "data": {
      "application/vnd.plotly.v1+json": {
       "config": {
        "plotlyServerURL": "https://plot.ly"
       },
       "data": [
        {
         "customdata": [
          [
           0,
           "capitol | trump | terrorist | riot | people",
           89
          ],
          [
           1,
           "face_with_tears_of_joy | rolling_on_the_floor_laughing | face_with_tears_of_joy face_with_tears_of_joy | rolling_on_the_floor_laughing rolling_on_the_floor_laughing | rolling_on_the_floor_laughing face_with_tears_of_joy",
           79
          ],
          [
           2,
           "vote | ballot | state | election | trump",
           69
          ],
          [
           3,
           "biden | vote biden | manifest | vote | 45 electoral",
           65
          ],
          [
           4,
           "biden | plan | policy | tax | student",
           61
          ],
          [
           5,
           "supporter | trump supporter | support | trump | said",
           57
          ],
          [
           6,
           "money | trump | economy | tax | year",
           54
          ],
          [
           7,
           "trump | world | real | trump trump | country",
           47
          ],
          [
           8,
           "trump | think | term | crazy | office",
           44
          ],
          [
           9,
           "twitter | tweet | trump | medium | white_heavy_check_mark",
           43
          ],
          [
           10,
           "harris | kamala | black | kamala harris | biden",
           41
          ],
          [
           11,
           "biden | joe biden | joe | thewayiseeit | thewayiseeit thewayiseeit",
           35
          ],
          [
           12,
           "vaccine | vaccinated | biden | coronavirus vaccine | vaccination",
           33
          ],
          [
           13,
           "court | supreme court | supreme | lawyer | trump lawyer",
           33
          ],
          [
           14,
           "party | gop | republicans | deep | trump",
           32
          ],
          [
           15,
           "border | immigration | biden | ha | biden administration",
           31
          ],
          [
           16,
           "white | racist | black | supremacist | white supremacist",
           30
          ],
          [
           17,
           "woodward | cnn | jack | film | video",
           24
          ],
          [
           18,
           "concede | communist | loses | conceded | losing",
           23
          ],
          [
           19,
           "accept | biden | votes | won | lost",
           21
          ],
          [
           20,
           "putin | russia | moscow mitch | moscow | mitch",
           21
          ],
          [
           21,
           "christian | devil | god | satan | celebrant",
           19
          ],
          [
           22,
           "lie | lied | trump lie | lying | doe lie",
           18
          ],
          [
           23,
           "china | hunter biden | hunter | biden | email",
           18
          ],
          [
           24,
           "gun | atf | biden | end | waco",
           17
          ],
          [
           25,
           "fact | biden | lie | dog | ample",
           17
          ],
          [
           26,
           "said | trump wa | mean trump | year trump | trump",
           16
          ],
          [
           27,
           "impeached | impeachment | trump impeachment | senate | house",
           15
          ],
          [
           28,
           "awful | ve | trump president | worse | trump",
           15
          ],
          [
           29,
           "biden | money mouth_face | mouth_face | money | hunter",
           15
          ],
          [
           30,
           "debate | final | biden | trump biden | biden debate",
           14
          ],
          [
           31,
           "care | miss trump | mrs | kevin sorbo | sorbo",
           14
          ],
          [
           32,
           "united_states united_states | united_states | 2020 | pence 2020 | trump pence",
           14
          ],
          [
           33,
           "virus | infected | country | tested | virus did",
           14
          ],
          [
           34,
           "pardon | trump pardon | prison | pardon trump | pension",
           14
          ],
          [
           35,
           "remove | fix | library | remove trump | death",
           13
          ],
          [
           36,
           "covid | ploy | trump covid | responsible | 19",
           11
          ],
          [
           37,
           "parler | did trump | trump did | 2001 | leaving free",
           11
          ],
          [
           38,
           "mask | wear | wear mask | wearing mask | wearing",
           11
          ],
          [
           39,
           "died | americans died | people | death | americans",
           10
          ]
         ],
         "hovertemplate": "<b>Topic %{customdata[0]}</b><br>%{customdata[1]}<br>Size: %{customdata[2]}",
         "legendgroup": "",
         "marker": {
          "color": "#B0BEC5",
          "line": {
           "color": "DarkSlateGrey",
           "width": 2
          },
          "size": [
           89,
           79,
           69,
           65,
           61,
           57,
           54,
           47,
           44,
           43,
           41,
           35,
           33,
           33,
           32,
           31,
           30,
           24,
           23,
           21,
           21,
           19,
           18,
           18,
           17,
           17,
           16,
           15,
           15,
           15,
           14,
           14,
           14,
           14,
           14,
           13,
           11,
           11,
           11,
           10
          ],
          "sizemode": "area",
          "sizeref": 0.055625,
          "symbol": "circle"
         },
         "mode": "markers",
         "name": "",
         "orientation": "v",
         "showlegend": false,
         "type": "scatter",
         "x": [
          12.37625503540039,
          -3.553004264831543,
          1.0305683612823486,
          1.2016159296035767,
          -2.8959457874298096,
          11.660334587097168,
          -3.036961793899536,
          8.529836654663086,
          14.554676055908203,
          8.69963550567627,
          -1.6055916547775269,
          0.6351587772369385,
          15.489361763000488,
          -1.8266267776489258,
          1.1887556314468384,
          -2.837238073348999,
          12.389244079589844,
          14.418628692626953,
          2.427743911743164,
          2.7810802459716797,
          4.199983596801758,
          8.245521545410156,
          2.6822097301483154,
          4.272409439086914,
          4.6248602867126465,
          2.8135082721710205,
          12.192575454711914,
          11.873470306396484,
          14.339021682739258,
          -3.2835257053375244,
          -1.5841354131698608,
          8.300871849060059,
          4.763802528381348,
          15.317612648010254,
          10.412707328796387,
          10.238950729370117,
          15.18266773223877,
          11.933704376220703,
          10.651382446289062,
          10.327044486999512
         ],
         "xaxis": "x",
         "y": [
          2.689006805419922,
          9.961003303527832,
          13.195913314819336,
          12.72653865814209,
          10.642669677734375,
          2.8470864295959473,
          10.97107982635498,
          3.4644408226013184,
          2.522005796432495,
          3.712036609649658,
          11.401416778564453,
          12.477839469909668,
          1.9903395175933838,
          11.159357070922852,
          13.503366470336914,
          10.615815162658691,
          2.857715368270874,
          1.9280107021331787,
          13.260663986206055,
          13.070876121520996,
          13.028428077697754,
          3.274137020111084,
          13.813920974731445,
          13.108611106872559,
          13.141378402709961,
          13.522306442260742,
          2.3404855728149414,
          2.59271240234375,
          2.18603515625,
          10.220325469970703,
          11.265932083129883,
          3.2801637649536133,
          13.211112976074219,
          2.135472536087036,
          2.6039891242980957,
          2.9370269775390625,
          2.279006004333496,
          2.276738166809082,
          2.397975206375122,
          2.861889123916626
         ],
         "yaxis": "y"
        }
       ],
       "layout": {
        "annotations": [
         {
          "showarrow": false,
          "text": "D1",
          "x": -4.085954904556274,
          "y": 8.762409108877183,
          "yshift": 10
         },
         {
          "showarrow": false,
          "text": "D2",
          "x": 6.863405561447143,
          "xshift": 10,
          "y": 15.886009120941162
         }
        ],
        "height": 650,
        "hoverlabel": {
         "bgcolor": "white",
         "font": {
          "family": "Rockwell",
          "size": 16
         }
        },
        "legend": {
         "itemsizing": "constant",
         "tracegroupgap": 0
        },
        "margin": {
         "t": 60
        },
        "shapes": [
         {
          "line": {
           "color": "#CFD8DC",
           "width": 2
          },
          "type": "line",
          "x0": 6.863405561447143,
          "x1": 6.863405561447143,
          "y0": 1.6388090968132019,
          "y1": 15.886009120941162
         },
         {
          "line": {
           "color": "#9E9E9E",
           "width": 2
          },
          "type": "line",
          "x0": -4.085954904556274,
          "x1": 17.81276602745056,
          "y0": 8.762409108877183,
          "y1": 8.762409108877183
         }
        ],
        "sliders": [
         {
          "active": 0,
          "pad": {
           "t": 50
          },
          "steps": [
           {
            "args": [
             {
              "marker.color": [
               [
                "red",
                "#B0BEC5",
                "#B0BEC5",
                "#B0BEC5",
                "#B0BEC5",
                "#B0BEC5",
                "#B0BEC5",
                "#B0BEC5",
                "#B0BEC5",
                "#B0BEC5",
                "#B0BEC5",
                "#B0BEC5",
                "#B0BEC5",
                "#B0BEC5",
                "#B0BEC5",
                "#B0BEC5",
                "#B0BEC5",
                "#B0BEC5",
                "#B0BEC5",
                "#B0BEC5",
                "#B0BEC5",
                "#B0BEC5",
                "#B0BEC5",
                "#B0BEC5",
                "#B0BEC5",
                "#B0BEC5",
                "#B0BEC5",
                "#B0BEC5",
                "#B0BEC5",
                "#B0BEC5",
                "#B0BEC5",
                "#B0BEC5",
                "#B0BEC5",
                "#B0BEC5",
                "#B0BEC5",
                "#B0BEC5",
                "#B0BEC5",
                "#B0BEC5",
                "#B0BEC5",
                "#B0BEC5"
               ]
              ]
             }
            ],
            "label": "Topic 0",
            "method": "update"
           },
           {
            "args": [
             {
              "marker.color": [
               [
                "#B0BEC5",
                "red",
                "#B0BEC5",
                "#B0BEC5",
                "#B0BEC5",
                "#B0BEC5",
                "#B0BEC5",
                "#B0BEC5",
                "#B0BEC5",
                "#B0BEC5",
                "#B0BEC5",
                "#B0BEC5",
                "#B0BEC5",
                "#B0BEC5",
                "#B0BEC5",
                "#B0BEC5",
                "#B0BEC5",
                "#B0BEC5",
                "#B0BEC5",
                "#B0BEC5",
                "#B0BEC5",
                "#B0BEC5",
                "#B0BEC5",
                "#B0BEC5",
                "#B0BEC5",
                "#B0BEC5",
                "#B0BEC5",
                "#B0BEC5",
                "#B0BEC5",
                "#B0BEC5",
                "#B0BEC5",
                "#B0BEC5",
                "#B0BEC5",
                "#B0BEC5",
                "#B0BEC5",
                "#B0BEC5",
                "#B0BEC5",
                "#B0BEC5",
                "#B0BEC5",
                "#B0BEC5"
               ]
              ]
             }
            ],
            "label": "Topic 1",
            "method": "update"
           },
           {
            "args": [
             {
              "marker.color": [
               [
                "#B0BEC5",
                "#B0BEC5",
                "red",
                "#B0BEC5",
                "#B0BEC5",
                "#B0BEC5",
                "#B0BEC5",
                "#B0BEC5",
                "#B0BEC5",
                "#B0BEC5",
                "#B0BEC5",
                "#B0BEC5",
                "#B0BEC5",
                "#B0BEC5",
                "#B0BEC5",
                "#B0BEC5",
                "#B0BEC5",
                "#B0BEC5",
                "#B0BEC5",
                "#B0BEC5",
                "#B0BEC5",
                "#B0BEC5",
                "#B0BEC5",
                "#B0BEC5",
                "#B0BEC5",
                "#B0BEC5",
                "#B0BEC5",
                "#B0BEC5",
                "#B0BEC5",
                "#B0BEC5",
                "#B0BEC5",
                "#B0BEC5",
                "#B0BEC5",
                "#B0BEC5",
                "#B0BEC5",
                "#B0BEC5",
                "#B0BEC5",
                "#B0BEC5",
                "#B0BEC5",
                "#B0BEC5"
               ]
              ]
             }
            ],
            "label": "Topic 2",
            "method": "update"
           },
           {
            "args": [
             {
              "marker.color": [
               [
                "#B0BEC5",
                "#B0BEC5",
                "#B0BEC5",
                "red",
                "#B0BEC5",
                "#B0BEC5",
                "#B0BEC5",
                "#B0BEC5",
                "#B0BEC5",
                "#B0BEC5",
                "#B0BEC5",
                "#B0BEC5",
                "#B0BEC5",
                "#B0BEC5",
                "#B0BEC5",
                "#B0BEC5",
                "#B0BEC5",
                "#B0BEC5",
                "#B0BEC5",
                "#B0BEC5",
                "#B0BEC5",
                "#B0BEC5",
                "#B0BEC5",
                "#B0BEC5",
                "#B0BEC5",
                "#B0BEC5",
                "#B0BEC5",
                "#B0BEC5",
                "#B0BEC5",
                "#B0BEC5",
                "#B0BEC5",
                "#B0BEC5",
                "#B0BEC5",
                "#B0BEC5",
                "#B0BEC5",
                "#B0BEC5",
                "#B0BEC5",
                "#B0BEC5",
                "#B0BEC5",
                "#B0BEC5"
               ]
              ]
             }
            ],
            "label": "Topic 3",
            "method": "update"
           },
           {
            "args": [
             {
              "marker.color": [
               [
                "#B0BEC5",
                "#B0BEC5",
                "#B0BEC5",
                "#B0BEC5",
                "red",
                "#B0BEC5",
                "#B0BEC5",
                "#B0BEC5",
                "#B0BEC5",
                "#B0BEC5",
                "#B0BEC5",
                "#B0BEC5",
                "#B0BEC5",
                "#B0BEC5",
                "#B0BEC5",
                "#B0BEC5",
                "#B0BEC5",
                "#B0BEC5",
                "#B0BEC5",
                "#B0BEC5",
                "#B0BEC5",
                "#B0BEC5",
                "#B0BEC5",
                "#B0BEC5",
                "#B0BEC5",
                "#B0BEC5",
                "#B0BEC5",
                "#B0BEC5",
                "#B0BEC5",
                "#B0BEC5",
                "#B0BEC5",
                "#B0BEC5",
                "#B0BEC5",
                "#B0BEC5",
                "#B0BEC5",
                "#B0BEC5",
                "#B0BEC5",
                "#B0BEC5",
                "#B0BEC5",
                "#B0BEC5"
               ]
              ]
             }
            ],
            "label": "Topic 4",
            "method": "update"
           },
           {
            "args": [
             {
              "marker.color": [
               [
                "#B0BEC5",
                "#B0BEC5",
                "#B0BEC5",
                "#B0BEC5",
                "#B0BEC5",
                "red",
                "#B0BEC5",
                "#B0BEC5",
                "#B0BEC5",
                "#B0BEC5",
                "#B0BEC5",
                "#B0BEC5",
                "#B0BEC5",
                "#B0BEC5",
                "#B0BEC5",
                "#B0BEC5",
                "#B0BEC5",
                "#B0BEC5",
                "#B0BEC5",
                "#B0BEC5",
                "#B0BEC5",
                "#B0BEC5",
                "#B0BEC5",
                "#B0BEC5",
                "#B0BEC5",
                "#B0BEC5",
                "#B0BEC5",
                "#B0BEC5",
                "#B0BEC5",
                "#B0BEC5",
                "#B0BEC5",
                "#B0BEC5",
                "#B0BEC5",
                "#B0BEC5",
                "#B0BEC5",
                "#B0BEC5",
                "#B0BEC5",
                "#B0BEC5",
                "#B0BEC5",
                "#B0BEC5"
               ]
              ]
             }
            ],
            "label": "Topic 5",
            "method": "update"
           },
           {
            "args": [
             {
              "marker.color": [
               [
                "#B0BEC5",
                "#B0BEC5",
                "#B0BEC5",
                "#B0BEC5",
                "#B0BEC5",
                "#B0BEC5",
                "red",
                "#B0BEC5",
                "#B0BEC5",
                "#B0BEC5",
                "#B0BEC5",
                "#B0BEC5",
                "#B0BEC5",
                "#B0BEC5",
                "#B0BEC5",
                "#B0BEC5",
                "#B0BEC5",
                "#B0BEC5",
                "#B0BEC5",
                "#B0BEC5",
                "#B0BEC5",
                "#B0BEC5",
                "#B0BEC5",
                "#B0BEC5",
                "#B0BEC5",
                "#B0BEC5",
                "#B0BEC5",
                "#B0BEC5",
                "#B0BEC5",
                "#B0BEC5",
                "#B0BEC5",
                "#B0BEC5",
                "#B0BEC5",
                "#B0BEC5",
                "#B0BEC5",
                "#B0BEC5",
                "#B0BEC5",
                "#B0BEC5",
                "#B0BEC5",
                "#B0BEC5"
               ]
              ]
             }
            ],
            "label": "Topic 6",
            "method": "update"
           },
           {
            "args": [
             {
              "marker.color": [
               [
                "#B0BEC5",
                "#B0BEC5",
                "#B0BEC5",
                "#B0BEC5",
                "#B0BEC5",
                "#B0BEC5",
                "#B0BEC5",
                "red",
                "#B0BEC5",
                "#B0BEC5",
                "#B0BEC5",
                "#B0BEC5",
                "#B0BEC5",
                "#B0BEC5",
                "#B0BEC5",
                "#B0BEC5",
                "#B0BEC5",
                "#B0BEC5",
                "#B0BEC5",
                "#B0BEC5",
                "#B0BEC5",
                "#B0BEC5",
                "#B0BEC5",
                "#B0BEC5",
                "#B0BEC5",
                "#B0BEC5",
                "#B0BEC5",
                "#B0BEC5",
                "#B0BEC5",
                "#B0BEC5",
                "#B0BEC5",
                "#B0BEC5",
                "#B0BEC5",
                "#B0BEC5",
                "#B0BEC5",
                "#B0BEC5",
                "#B0BEC5",
                "#B0BEC5",
                "#B0BEC5",
                "#B0BEC5"
               ]
              ]
             }
            ],
            "label": "Topic 7",
            "method": "update"
           },
           {
            "args": [
             {
              "marker.color": [
               [
                "#B0BEC5",
                "#B0BEC5",
                "#B0BEC5",
                "#B0BEC5",
                "#B0BEC5",
                "#B0BEC5",
                "#B0BEC5",
                "#B0BEC5",
                "red",
                "#B0BEC5",
                "#B0BEC5",
                "#B0BEC5",
                "#B0BEC5",
                "#B0BEC5",
                "#B0BEC5",
                "#B0BEC5",
                "#B0BEC5",
                "#B0BEC5",
                "#B0BEC5",
                "#B0BEC5",
                "#B0BEC5",
                "#B0BEC5",
                "#B0BEC5",
                "#B0BEC5",
                "#B0BEC5",
                "#B0BEC5",
                "#B0BEC5",
                "#B0BEC5",
                "#B0BEC5",
                "#B0BEC5",
                "#B0BEC5",
                "#B0BEC5",
                "#B0BEC5",
                "#B0BEC5",
                "#B0BEC5",
                "#B0BEC5",
                "#B0BEC5",
                "#B0BEC5",
                "#B0BEC5",
                "#B0BEC5"
               ]
              ]
             }
            ],
            "label": "Topic 8",
            "method": "update"
           },
           {
            "args": [
             {
              "marker.color": [
               [
                "#B0BEC5",
                "#B0BEC5",
                "#B0BEC5",
                "#B0BEC5",
                "#B0BEC5",
                "#B0BEC5",
                "#B0BEC5",
                "#B0BEC5",
                "#B0BEC5",
                "red",
                "#B0BEC5",
                "#B0BEC5",
                "#B0BEC5",
                "#B0BEC5",
                "#B0BEC5",
                "#B0BEC5",
                "#B0BEC5",
                "#B0BEC5",
                "#B0BEC5",
                "#B0BEC5",
                "#B0BEC5",
                "#B0BEC5",
                "#B0BEC5",
                "#B0BEC5",
                "#B0BEC5",
                "#B0BEC5",
                "#B0BEC5",
                "#B0BEC5",
                "#B0BEC5",
                "#B0BEC5",
                "#B0BEC5",
                "#B0BEC5",
                "#B0BEC5",
                "#B0BEC5",
                "#B0BEC5",
                "#B0BEC5",
                "#B0BEC5",
                "#B0BEC5",
                "#B0BEC5",
                "#B0BEC5"
               ]
              ]
             }
            ],
            "label": "Topic 9",
            "method": "update"
           },
           {
            "args": [
             {
              "marker.color": [
               [
                "#B0BEC5",
                "#B0BEC5",
                "#B0BEC5",
                "#B0BEC5",
                "#B0BEC5",
                "#B0BEC5",
                "#B0BEC5",
                "#B0BEC5",
                "#B0BEC5",
                "#B0BEC5",
                "red",
                "#B0BEC5",
                "#B0BEC5",
                "#B0BEC5",
                "#B0BEC5",
                "#B0BEC5",
                "#B0BEC5",
                "#B0BEC5",
                "#B0BEC5",
                "#B0BEC5",
                "#B0BEC5",
                "#B0BEC5",
                "#B0BEC5",
                "#B0BEC5",
                "#B0BEC5",
                "#B0BEC5",
                "#B0BEC5",
                "#B0BEC5",
                "#B0BEC5",
                "#B0BEC5",
                "#B0BEC5",
                "#B0BEC5",
                "#B0BEC5",
                "#B0BEC5",
                "#B0BEC5",
                "#B0BEC5",
                "#B0BEC5",
                "#B0BEC5",
                "#B0BEC5",
                "#B0BEC5"
               ]
              ]
             }
            ],
            "label": "Topic 10",
            "method": "update"
           },
           {
            "args": [
             {
              "marker.color": [
               [
                "#B0BEC5",
                "#B0BEC5",
                "#B0BEC5",
                "#B0BEC5",
                "#B0BEC5",
                "#B0BEC5",
                "#B0BEC5",
                "#B0BEC5",
                "#B0BEC5",
                "#B0BEC5",
                "#B0BEC5",
                "red",
                "#B0BEC5",
                "#B0BEC5",
                "#B0BEC5",
                "#B0BEC5",
                "#B0BEC5",
                "#B0BEC5",
                "#B0BEC5",
                "#B0BEC5",
                "#B0BEC5",
                "#B0BEC5",
                "#B0BEC5",
                "#B0BEC5",
                "#B0BEC5",
                "#B0BEC5",
                "#B0BEC5",
                "#B0BEC5",
                "#B0BEC5",
                "#B0BEC5",
                "#B0BEC5",
                "#B0BEC5",
                "#B0BEC5",
                "#B0BEC5",
                "#B0BEC5",
                "#B0BEC5",
                "#B0BEC5",
                "#B0BEC5",
                "#B0BEC5",
                "#B0BEC5"
               ]
              ]
             }
            ],
            "label": "Topic 11",
            "method": "update"
           },
           {
            "args": [
             {
              "marker.color": [
               [
                "#B0BEC5",
                "#B0BEC5",
                "#B0BEC5",
                "#B0BEC5",
                "#B0BEC5",
                "#B0BEC5",
                "#B0BEC5",
                "#B0BEC5",
                "#B0BEC5",
                "#B0BEC5",
                "#B0BEC5",
                "#B0BEC5",
                "red",
                "#B0BEC5",
                "#B0BEC5",
                "#B0BEC5",
                "#B0BEC5",
                "#B0BEC5",
                "#B0BEC5",
                "#B0BEC5",
                "#B0BEC5",
                "#B0BEC5",
                "#B0BEC5",
                "#B0BEC5",
                "#B0BEC5",
                "#B0BEC5",
                "#B0BEC5",
                "#B0BEC5",
                "#B0BEC5",
                "#B0BEC5",
                "#B0BEC5",
                "#B0BEC5",
                "#B0BEC5",
                "#B0BEC5",
                "#B0BEC5",
                "#B0BEC5",
                "#B0BEC5",
                "#B0BEC5",
                "#B0BEC5",
                "#B0BEC5"
               ]
              ]
             }
            ],
            "label": "Topic 12",
            "method": "update"
           },
           {
            "args": [
             {
              "marker.color": [
               [
                "#B0BEC5",
                "#B0BEC5",
                "#B0BEC5",
                "#B0BEC5",
                "#B0BEC5",
                "#B0BEC5",
                "#B0BEC5",
                "#B0BEC5",
                "#B0BEC5",
                "#B0BEC5",
                "#B0BEC5",
                "#B0BEC5",
                "#B0BEC5",
                "red",
                "#B0BEC5",
                "#B0BEC5",
                "#B0BEC5",
                "#B0BEC5",
                "#B0BEC5",
                "#B0BEC5",
                "#B0BEC5",
                "#B0BEC5",
                "#B0BEC5",
                "#B0BEC5",
                "#B0BEC5",
                "#B0BEC5",
                "#B0BEC5",
                "#B0BEC5",
                "#B0BEC5",
                "#B0BEC5",
                "#B0BEC5",
                "#B0BEC5",
                "#B0BEC5",
                "#B0BEC5",
                "#B0BEC5",
                "#B0BEC5",
                "#B0BEC5",
                "#B0BEC5",
                "#B0BEC5",
                "#B0BEC5"
               ]
              ]
             }
            ],
            "label": "Topic 13",
            "method": "update"
           },
           {
            "args": [
             {
              "marker.color": [
               [
                "#B0BEC5",
                "#B0BEC5",
                "#B0BEC5",
                "#B0BEC5",
                "#B0BEC5",
                "#B0BEC5",
                "#B0BEC5",
                "#B0BEC5",
                "#B0BEC5",
                "#B0BEC5",
                "#B0BEC5",
                "#B0BEC5",
                "#B0BEC5",
                "#B0BEC5",
                "red",
                "#B0BEC5",
                "#B0BEC5",
                "#B0BEC5",
                "#B0BEC5",
                "#B0BEC5",
                "#B0BEC5",
                "#B0BEC5",
                "#B0BEC5",
                "#B0BEC5",
                "#B0BEC5",
                "#B0BEC5",
                "#B0BEC5",
                "#B0BEC5",
                "#B0BEC5",
                "#B0BEC5",
                "#B0BEC5",
                "#B0BEC5",
                "#B0BEC5",
                "#B0BEC5",
                "#B0BEC5",
                "#B0BEC5",
                "#B0BEC5",
                "#B0BEC5",
                "#B0BEC5",
                "#B0BEC5"
               ]
              ]
             }
            ],
            "label": "Topic 14",
            "method": "update"
           },
           {
            "args": [
             {
              "marker.color": [
               [
                "#B0BEC5",
                "#B0BEC5",
                "#B0BEC5",
                "#B0BEC5",
                "#B0BEC5",
                "#B0BEC5",
                "#B0BEC5",
                "#B0BEC5",
                "#B0BEC5",
                "#B0BEC5",
                "#B0BEC5",
                "#B0BEC5",
                "#B0BEC5",
                "#B0BEC5",
                "#B0BEC5",
                "red",
                "#B0BEC5",
                "#B0BEC5",
                "#B0BEC5",
                "#B0BEC5",
                "#B0BEC5",
                "#B0BEC5",
                "#B0BEC5",
                "#B0BEC5",
                "#B0BEC5",
                "#B0BEC5",
                "#B0BEC5",
                "#B0BEC5",
                "#B0BEC5",
                "#B0BEC5",
                "#B0BEC5",
                "#B0BEC5",
                "#B0BEC5",
                "#B0BEC5",
                "#B0BEC5",
                "#B0BEC5",
                "#B0BEC5",
                "#B0BEC5",
                "#B0BEC5",
                "#B0BEC5"
               ]
              ]
             }
            ],
            "label": "Topic 15",
            "method": "update"
           },
           {
            "args": [
             {
              "marker.color": [
               [
                "#B0BEC5",
                "#B0BEC5",
                "#B0BEC5",
                "#B0BEC5",
                "#B0BEC5",
                "#B0BEC5",
                "#B0BEC5",
                "#B0BEC5",
                "#B0BEC5",
                "#B0BEC5",
                "#B0BEC5",
                "#B0BEC5",
                "#B0BEC5",
                "#B0BEC5",
                "#B0BEC5",
                "#B0BEC5",
                "red",
                "#B0BEC5",
                "#B0BEC5",
                "#B0BEC5",
                "#B0BEC5",
                "#B0BEC5",
                "#B0BEC5",
                "#B0BEC5",
                "#B0BEC5",
                "#B0BEC5",
                "#B0BEC5",
                "#B0BEC5",
                "#B0BEC5",
                "#B0BEC5",
                "#B0BEC5",
                "#B0BEC5",
                "#B0BEC5",
                "#B0BEC5",
                "#B0BEC5",
                "#B0BEC5",
                "#B0BEC5",
                "#B0BEC5",
                "#B0BEC5",
                "#B0BEC5"
               ]
              ]
             }
            ],
            "label": "Topic 16",
            "method": "update"
           },
           {
            "args": [
             {
              "marker.color": [
               [
                "#B0BEC5",
                "#B0BEC5",
                "#B0BEC5",
                "#B0BEC5",
                "#B0BEC5",
                "#B0BEC5",
                "#B0BEC5",
                "#B0BEC5",
                "#B0BEC5",
                "#B0BEC5",
                "#B0BEC5",
                "#B0BEC5",
                "#B0BEC5",
                "#B0BEC5",
                "#B0BEC5",
                "#B0BEC5",
                "#B0BEC5",
                "red",
                "#B0BEC5",
                "#B0BEC5",
                "#B0BEC5",
                "#B0BEC5",
                "#B0BEC5",
                "#B0BEC5",
                "#B0BEC5",
                "#B0BEC5",
                "#B0BEC5",
                "#B0BEC5",
                "#B0BEC5",
                "#B0BEC5",
                "#B0BEC5",
                "#B0BEC5",
                "#B0BEC5",
                "#B0BEC5",
                "#B0BEC5",
                "#B0BEC5",
                "#B0BEC5",
                "#B0BEC5",
                "#B0BEC5",
                "#B0BEC5"
               ]
              ]
             }
            ],
            "label": "Topic 17",
            "method": "update"
           },
           {
            "args": [
             {
              "marker.color": [
               [
                "#B0BEC5",
                "#B0BEC5",
                "#B0BEC5",
                "#B0BEC5",
                "#B0BEC5",
                "#B0BEC5",
                "#B0BEC5",
                "#B0BEC5",
                "#B0BEC5",
                "#B0BEC5",
                "#B0BEC5",
                "#B0BEC5",
                "#B0BEC5",
                "#B0BEC5",
                "#B0BEC5",
                "#B0BEC5",
                "#B0BEC5",
                "#B0BEC5",
                "red",
                "#B0BEC5",
                "#B0BEC5",
                "#B0BEC5",
                "#B0BEC5",
                "#B0BEC5",
                "#B0BEC5",
                "#B0BEC5",
                "#B0BEC5",
                "#B0BEC5",
                "#B0BEC5",
                "#B0BEC5",
                "#B0BEC5",
                "#B0BEC5",
                "#B0BEC5",
                "#B0BEC5",
                "#B0BEC5",
                "#B0BEC5",
                "#B0BEC5",
                "#B0BEC5",
                "#B0BEC5",
                "#B0BEC5"
               ]
              ]
             }
            ],
            "label": "Topic 18",
            "method": "update"
           },
           {
            "args": [
             {
              "marker.color": [
               [
                "#B0BEC5",
                "#B0BEC5",
                "#B0BEC5",
                "#B0BEC5",
                "#B0BEC5",
                "#B0BEC5",
                "#B0BEC5",
                "#B0BEC5",
                "#B0BEC5",
                "#B0BEC5",
                "#B0BEC5",
                "#B0BEC5",
                "#B0BEC5",
                "#B0BEC5",
                "#B0BEC5",
                "#B0BEC5",
                "#B0BEC5",
                "#B0BEC5",
                "#B0BEC5",
                "red",
                "#B0BEC5",
                "#B0BEC5",
                "#B0BEC5",
                "#B0BEC5",
                "#B0BEC5",
                "#B0BEC5",
                "#B0BEC5",
                "#B0BEC5",
                "#B0BEC5",
                "#B0BEC5",
                "#B0BEC5",
                "#B0BEC5",
                "#B0BEC5",
                "#B0BEC5",
                "#B0BEC5",
                "#B0BEC5",
                "#B0BEC5",
                "#B0BEC5",
                "#B0BEC5",
                "#B0BEC5"
               ]
              ]
             }
            ],
            "label": "Topic 19",
            "method": "update"
           },
           {
            "args": [
             {
              "marker.color": [
               [
                "#B0BEC5",
                "#B0BEC5",
                "#B0BEC5",
                "#B0BEC5",
                "#B0BEC5",
                "#B0BEC5",
                "#B0BEC5",
                "#B0BEC5",
                "#B0BEC5",
                "#B0BEC5",
                "#B0BEC5",
                "#B0BEC5",
                "#B0BEC5",
                "#B0BEC5",
                "#B0BEC5",
                "#B0BEC5",
                "#B0BEC5",
                "#B0BEC5",
                "#B0BEC5",
                "#B0BEC5",
                "red",
                "#B0BEC5",
                "#B0BEC5",
                "#B0BEC5",
                "#B0BEC5",
                "#B0BEC5",
                "#B0BEC5",
                "#B0BEC5",
                "#B0BEC5",
                "#B0BEC5",
                "#B0BEC5",
                "#B0BEC5",
                "#B0BEC5",
                "#B0BEC5",
                "#B0BEC5",
                "#B0BEC5",
                "#B0BEC5",
                "#B0BEC5",
                "#B0BEC5",
                "#B0BEC5"
               ]
              ]
             }
            ],
            "label": "Topic 20",
            "method": "update"
           },
           {
            "args": [
             {
              "marker.color": [
               [
                "#B0BEC5",
                "#B0BEC5",
                "#B0BEC5",
                "#B0BEC5",
                "#B0BEC5",
                "#B0BEC5",
                "#B0BEC5",
                "#B0BEC5",
                "#B0BEC5",
                "#B0BEC5",
                "#B0BEC5",
                "#B0BEC5",
                "#B0BEC5",
                "#B0BEC5",
                "#B0BEC5",
                "#B0BEC5",
                "#B0BEC5",
                "#B0BEC5",
                "#B0BEC5",
                "#B0BEC5",
                "#B0BEC5",
                "red",
                "#B0BEC5",
                "#B0BEC5",
                "#B0BEC5",
                "#B0BEC5",
                "#B0BEC5",
                "#B0BEC5",
                "#B0BEC5",
                "#B0BEC5",
                "#B0BEC5",
                "#B0BEC5",
                "#B0BEC5",
                "#B0BEC5",
                "#B0BEC5",
                "#B0BEC5",
                "#B0BEC5",
                "#B0BEC5",
                "#B0BEC5",
                "#B0BEC5"
               ]
              ]
             }
            ],
            "label": "Topic 21",
            "method": "update"
           },
           {
            "args": [
             {
              "marker.color": [
               [
                "#B0BEC5",
                "#B0BEC5",
                "#B0BEC5",
                "#B0BEC5",
                "#B0BEC5",
                "#B0BEC5",
                "#B0BEC5",
                "#B0BEC5",
                "#B0BEC5",
                "#B0BEC5",
                "#B0BEC5",
                "#B0BEC5",
                "#B0BEC5",
                "#B0BEC5",
                "#B0BEC5",
                "#B0BEC5",
                "#B0BEC5",
                "#B0BEC5",
                "#B0BEC5",
                "#B0BEC5",
                "#B0BEC5",
                "#B0BEC5",
                "red",
                "#B0BEC5",
                "#B0BEC5",
                "#B0BEC5",
                "#B0BEC5",
                "#B0BEC5",
                "#B0BEC5",
                "#B0BEC5",
                "#B0BEC5",
                "#B0BEC5",
                "#B0BEC5",
                "#B0BEC5",
                "#B0BEC5",
                "#B0BEC5",
                "#B0BEC5",
                "#B0BEC5",
                "#B0BEC5",
                "#B0BEC5"
               ]
              ]
             }
            ],
            "label": "Topic 22",
            "method": "update"
           },
           {
            "args": [
             {
              "marker.color": [
               [
                "#B0BEC5",
                "#B0BEC5",
                "#B0BEC5",
                "#B0BEC5",
                "#B0BEC5",
                "#B0BEC5",
                "#B0BEC5",
                "#B0BEC5",
                "#B0BEC5",
                "#B0BEC5",
                "#B0BEC5",
                "#B0BEC5",
                "#B0BEC5",
                "#B0BEC5",
                "#B0BEC5",
                "#B0BEC5",
                "#B0BEC5",
                "#B0BEC5",
                "#B0BEC5",
                "#B0BEC5",
                "#B0BEC5",
                "#B0BEC5",
                "#B0BEC5",
                "red",
                "#B0BEC5",
                "#B0BEC5",
                "#B0BEC5",
                "#B0BEC5",
                "#B0BEC5",
                "#B0BEC5",
                "#B0BEC5",
                "#B0BEC5",
                "#B0BEC5",
                "#B0BEC5",
                "#B0BEC5",
                "#B0BEC5",
                "#B0BEC5",
                "#B0BEC5",
                "#B0BEC5",
                "#B0BEC5"
               ]
              ]
             }
            ],
            "label": "Topic 23",
            "method": "update"
           },
           {
            "args": [
             {
              "marker.color": [
               [
                "#B0BEC5",
                "#B0BEC5",
                "#B0BEC5",
                "#B0BEC5",
                "#B0BEC5",
                "#B0BEC5",
                "#B0BEC5",
                "#B0BEC5",
                "#B0BEC5",
                "#B0BEC5",
                "#B0BEC5",
                "#B0BEC5",
                "#B0BEC5",
                "#B0BEC5",
                "#B0BEC5",
                "#B0BEC5",
                "#B0BEC5",
                "#B0BEC5",
                "#B0BEC5",
                "#B0BEC5",
                "#B0BEC5",
                "#B0BEC5",
                "#B0BEC5",
                "#B0BEC5",
                "red",
                "#B0BEC5",
                "#B0BEC5",
                "#B0BEC5",
                "#B0BEC5",
                "#B0BEC5",
                "#B0BEC5",
                "#B0BEC5",
                "#B0BEC5",
                "#B0BEC5",
                "#B0BEC5",
                "#B0BEC5",
                "#B0BEC5",
                "#B0BEC5",
                "#B0BEC5",
                "#B0BEC5"
               ]
              ]
             }
            ],
            "label": "Topic 24",
            "method": "update"
           },
           {
            "args": [
             {
              "marker.color": [
               [
                "#B0BEC5",
                "#B0BEC5",
                "#B0BEC5",
                "#B0BEC5",
                "#B0BEC5",
                "#B0BEC5",
                "#B0BEC5",
                "#B0BEC5",
                "#B0BEC5",
                "#B0BEC5",
                "#B0BEC5",
                "#B0BEC5",
                "#B0BEC5",
                "#B0BEC5",
                "#B0BEC5",
                "#B0BEC5",
                "#B0BEC5",
                "#B0BEC5",
                "#B0BEC5",
                "#B0BEC5",
                "#B0BEC5",
                "#B0BEC5",
                "#B0BEC5",
                "#B0BEC5",
                "#B0BEC5",
                "red",
                "#B0BEC5",
                "#B0BEC5",
                "#B0BEC5",
                "#B0BEC5",
                "#B0BEC5",
                "#B0BEC5",
                "#B0BEC5",
                "#B0BEC5",
                "#B0BEC5",
                "#B0BEC5",
                "#B0BEC5",
                "#B0BEC5",
                "#B0BEC5",
                "#B0BEC5"
               ]
              ]
             }
            ],
            "label": "Topic 25",
            "method": "update"
           },
           {
            "args": [
             {
              "marker.color": [
               [
                "#B0BEC5",
                "#B0BEC5",
                "#B0BEC5",
                "#B0BEC5",
                "#B0BEC5",
                "#B0BEC5",
                "#B0BEC5",
                "#B0BEC5",
                "#B0BEC5",
                "#B0BEC5",
                "#B0BEC5",
                "#B0BEC5",
                "#B0BEC5",
                "#B0BEC5",
                "#B0BEC5",
                "#B0BEC5",
                "#B0BEC5",
                "#B0BEC5",
                "#B0BEC5",
                "#B0BEC5",
                "#B0BEC5",
                "#B0BEC5",
                "#B0BEC5",
                "#B0BEC5",
                "#B0BEC5",
                "#B0BEC5",
                "red",
                "#B0BEC5",
                "#B0BEC5",
                "#B0BEC5",
                "#B0BEC5",
                "#B0BEC5",
                "#B0BEC5",
                "#B0BEC5",
                "#B0BEC5",
                "#B0BEC5",
                "#B0BEC5",
                "#B0BEC5",
                "#B0BEC5",
                "#B0BEC5"
               ]
              ]
             }
            ],
            "label": "Topic 26",
            "method": "update"
           },
           {
            "args": [
             {
              "marker.color": [
               [
                "#B0BEC5",
                "#B0BEC5",
                "#B0BEC5",
                "#B0BEC5",
                "#B0BEC5",
                "#B0BEC5",
                "#B0BEC5",
                "#B0BEC5",
                "#B0BEC5",
                "#B0BEC5",
                "#B0BEC5",
                "#B0BEC5",
                "#B0BEC5",
                "#B0BEC5",
                "#B0BEC5",
                "#B0BEC5",
                "#B0BEC5",
                "#B0BEC5",
                "#B0BEC5",
                "#B0BEC5",
                "#B0BEC5",
                "#B0BEC5",
                "#B0BEC5",
                "#B0BEC5",
                "#B0BEC5",
                "#B0BEC5",
                "#B0BEC5",
                "red",
                "#B0BEC5",
                "#B0BEC5",
                "#B0BEC5",
                "#B0BEC5",
                "#B0BEC5",
                "#B0BEC5",
                "#B0BEC5",
                "#B0BEC5",
                "#B0BEC5",
                "#B0BEC5",
                "#B0BEC5",
                "#B0BEC5"
               ]
              ]
             }
            ],
            "label": "Topic 27",
            "method": "update"
           },
           {
            "args": [
             {
              "marker.color": [
               [
                "#B0BEC5",
                "#B0BEC5",
                "#B0BEC5",
                "#B0BEC5",
                "#B0BEC5",
                "#B0BEC5",
                "#B0BEC5",
                "#B0BEC5",
                "#B0BEC5",
                "#B0BEC5",
                "#B0BEC5",
                "#B0BEC5",
                "#B0BEC5",
                "#B0BEC5",
                "#B0BEC5",
                "#B0BEC5",
                "#B0BEC5",
                "#B0BEC5",
                "#B0BEC5",
                "#B0BEC5",
                "#B0BEC5",
                "#B0BEC5",
                "#B0BEC5",
                "#B0BEC5",
                "#B0BEC5",
                "#B0BEC5",
                "#B0BEC5",
                "#B0BEC5",
                "red",
                "#B0BEC5",
                "#B0BEC5",
                "#B0BEC5",
                "#B0BEC5",
                "#B0BEC5",
                "#B0BEC5",
                "#B0BEC5",
                "#B0BEC5",
                "#B0BEC5",
                "#B0BEC5",
                "#B0BEC5"
               ]
              ]
             }
            ],
            "label": "Topic 28",
            "method": "update"
           },
           {
            "args": [
             {
              "marker.color": [
               [
                "#B0BEC5",
                "#B0BEC5",
                "#B0BEC5",
                "#B0BEC5",
                "#B0BEC5",
                "#B0BEC5",
                "#B0BEC5",
                "#B0BEC5",
                "#B0BEC5",
                "#B0BEC5",
                "#B0BEC5",
                "#B0BEC5",
                "#B0BEC5",
                "#B0BEC5",
                "#B0BEC5",
                "#B0BEC5",
                "#B0BEC5",
                "#B0BEC5",
                "#B0BEC5",
                "#B0BEC5",
                "#B0BEC5",
                "#B0BEC5",
                "#B0BEC5",
                "#B0BEC5",
                "#B0BEC5",
                "#B0BEC5",
                "#B0BEC5",
                "#B0BEC5",
                "#B0BEC5",
                "red",
                "#B0BEC5",
                "#B0BEC5",
                "#B0BEC5",
                "#B0BEC5",
                "#B0BEC5",
                "#B0BEC5",
                "#B0BEC5",
                "#B0BEC5",
                "#B0BEC5",
                "#B0BEC5"
               ]
              ]
             }
            ],
            "label": "Topic 29",
            "method": "update"
           },
           {
            "args": [
             {
              "marker.color": [
               [
                "#B0BEC5",
                "#B0BEC5",
                "#B0BEC5",
                "#B0BEC5",
                "#B0BEC5",
                "#B0BEC5",
                "#B0BEC5",
                "#B0BEC5",
                "#B0BEC5",
                "#B0BEC5",
                "#B0BEC5",
                "#B0BEC5",
                "#B0BEC5",
                "#B0BEC5",
                "#B0BEC5",
                "#B0BEC5",
                "#B0BEC5",
                "#B0BEC5",
                "#B0BEC5",
                "#B0BEC5",
                "#B0BEC5",
                "#B0BEC5",
                "#B0BEC5",
                "#B0BEC5",
                "#B0BEC5",
                "#B0BEC5",
                "#B0BEC5",
                "#B0BEC5",
                "#B0BEC5",
                "#B0BEC5",
                "red",
                "#B0BEC5",
                "#B0BEC5",
                "#B0BEC5",
                "#B0BEC5",
                "#B0BEC5",
                "#B0BEC5",
                "#B0BEC5",
                "#B0BEC5",
                "#B0BEC5"
               ]
              ]
             }
            ],
            "label": "Topic 30",
            "method": "update"
           },
           {
            "args": [
             {
              "marker.color": [
               [
                "#B0BEC5",
                "#B0BEC5",
                "#B0BEC5",
                "#B0BEC5",
                "#B0BEC5",
                "#B0BEC5",
                "#B0BEC5",
                "#B0BEC5",
                "#B0BEC5",
                "#B0BEC5",
                "#B0BEC5",
                "#B0BEC5",
                "#B0BEC5",
                "#B0BEC5",
                "#B0BEC5",
                "#B0BEC5",
                "#B0BEC5",
                "#B0BEC5",
                "#B0BEC5",
                "#B0BEC5",
                "#B0BEC5",
                "#B0BEC5",
                "#B0BEC5",
                "#B0BEC5",
                "#B0BEC5",
                "#B0BEC5",
                "#B0BEC5",
                "#B0BEC5",
                "#B0BEC5",
                "#B0BEC5",
                "#B0BEC5",
                "red",
                "#B0BEC5",
                "#B0BEC5",
                "#B0BEC5",
                "#B0BEC5",
                "#B0BEC5",
                "#B0BEC5",
                "#B0BEC5",
                "#B0BEC5"
               ]
              ]
             }
            ],
            "label": "Topic 31",
            "method": "update"
           },
           {
            "args": [
             {
              "marker.color": [
               [
                "#B0BEC5",
                "#B0BEC5",
                "#B0BEC5",
                "#B0BEC5",
                "#B0BEC5",
                "#B0BEC5",
                "#B0BEC5",
                "#B0BEC5",
                "#B0BEC5",
                "#B0BEC5",
                "#B0BEC5",
                "#B0BEC5",
                "#B0BEC5",
                "#B0BEC5",
                "#B0BEC5",
                "#B0BEC5",
                "#B0BEC5",
                "#B0BEC5",
                "#B0BEC5",
                "#B0BEC5",
                "#B0BEC5",
                "#B0BEC5",
                "#B0BEC5",
                "#B0BEC5",
                "#B0BEC5",
                "#B0BEC5",
                "#B0BEC5",
                "#B0BEC5",
                "#B0BEC5",
                "#B0BEC5",
                "#B0BEC5",
                "#B0BEC5",
                "red",
                "#B0BEC5",
                "#B0BEC5",
                "#B0BEC5",
                "#B0BEC5",
                "#B0BEC5",
                "#B0BEC5",
                "#B0BEC5"
               ]
              ]
             }
            ],
            "label": "Topic 32",
            "method": "update"
           },
           {
            "args": [
             {
              "marker.color": [
               [
                "#B0BEC5",
                "#B0BEC5",
                "#B0BEC5",
                "#B0BEC5",
                "#B0BEC5",
                "#B0BEC5",
                "#B0BEC5",
                "#B0BEC5",
                "#B0BEC5",
                "#B0BEC5",
                "#B0BEC5",
                "#B0BEC5",
                "#B0BEC5",
                "#B0BEC5",
                "#B0BEC5",
                "#B0BEC5",
                "#B0BEC5",
                "#B0BEC5",
                "#B0BEC5",
                "#B0BEC5",
                "#B0BEC5",
                "#B0BEC5",
                "#B0BEC5",
                "#B0BEC5",
                "#B0BEC5",
                "#B0BEC5",
                "#B0BEC5",
                "#B0BEC5",
                "#B0BEC5",
                "#B0BEC5",
                "#B0BEC5",
                "#B0BEC5",
                "#B0BEC5",
                "red",
                "#B0BEC5",
                "#B0BEC5",
                "#B0BEC5",
                "#B0BEC5",
                "#B0BEC5",
                "#B0BEC5"
               ]
              ]
             }
            ],
            "label": "Topic 33",
            "method": "update"
           },
           {
            "args": [
             {
              "marker.color": [
               [
                "#B0BEC5",
                "#B0BEC5",
                "#B0BEC5",
                "#B0BEC5",
                "#B0BEC5",
                "#B0BEC5",
                "#B0BEC5",
                "#B0BEC5",
                "#B0BEC5",
                "#B0BEC5",
                "#B0BEC5",
                "#B0BEC5",
                "#B0BEC5",
                "#B0BEC5",
                "#B0BEC5",
                "#B0BEC5",
                "#B0BEC5",
                "#B0BEC5",
                "#B0BEC5",
                "#B0BEC5",
                "#B0BEC5",
                "#B0BEC5",
                "#B0BEC5",
                "#B0BEC5",
                "#B0BEC5",
                "#B0BEC5",
                "#B0BEC5",
                "#B0BEC5",
                "#B0BEC5",
                "#B0BEC5",
                "#B0BEC5",
                "#B0BEC5",
                "#B0BEC5",
                "#B0BEC5",
                "red",
                "#B0BEC5",
                "#B0BEC5",
                "#B0BEC5",
                "#B0BEC5",
                "#B0BEC5"
               ]
              ]
             }
            ],
            "label": "Topic 34",
            "method": "update"
           },
           {
            "args": [
             {
              "marker.color": [
               [
                "#B0BEC5",
                "#B0BEC5",
                "#B0BEC5",
                "#B0BEC5",
                "#B0BEC5",
                "#B0BEC5",
                "#B0BEC5",
                "#B0BEC5",
                "#B0BEC5",
                "#B0BEC5",
                "#B0BEC5",
                "#B0BEC5",
                "#B0BEC5",
                "#B0BEC5",
                "#B0BEC5",
                "#B0BEC5",
                "#B0BEC5",
                "#B0BEC5",
                "#B0BEC5",
                "#B0BEC5",
                "#B0BEC5",
                "#B0BEC5",
                "#B0BEC5",
                "#B0BEC5",
                "#B0BEC5",
                "#B0BEC5",
                "#B0BEC5",
                "#B0BEC5",
                "#B0BEC5",
                "#B0BEC5",
                "#B0BEC5",
                "#B0BEC5",
                "#B0BEC5",
                "#B0BEC5",
                "#B0BEC5",
                "red",
                "#B0BEC5",
                "#B0BEC5",
                "#B0BEC5",
                "#B0BEC5"
               ]
              ]
             }
            ],
            "label": "Topic 35",
            "method": "update"
           },
           {
            "args": [
             {
              "marker.color": [
               [
                "#B0BEC5",
                "#B0BEC5",
                "#B0BEC5",
                "#B0BEC5",
                "#B0BEC5",
                "#B0BEC5",
                "#B0BEC5",
                "#B0BEC5",
                "#B0BEC5",
                "#B0BEC5",
                "#B0BEC5",
                "#B0BEC5",
                "#B0BEC5",
                "#B0BEC5",
                "#B0BEC5",
                "#B0BEC5",
                "#B0BEC5",
                "#B0BEC5",
                "#B0BEC5",
                "#B0BEC5",
                "#B0BEC5",
                "#B0BEC5",
                "#B0BEC5",
                "#B0BEC5",
                "#B0BEC5",
                "#B0BEC5",
                "#B0BEC5",
                "#B0BEC5",
                "#B0BEC5",
                "#B0BEC5",
                "#B0BEC5",
                "#B0BEC5",
                "#B0BEC5",
                "#B0BEC5",
                "#B0BEC5",
                "#B0BEC5",
                "red",
                "#B0BEC5",
                "#B0BEC5",
                "#B0BEC5"
               ]
              ]
             }
            ],
            "label": "Topic 36",
            "method": "update"
           },
           {
            "args": [
             {
              "marker.color": [
               [
                "#B0BEC5",
                "#B0BEC5",
                "#B0BEC5",
                "#B0BEC5",
                "#B0BEC5",
                "#B0BEC5",
                "#B0BEC5",
                "#B0BEC5",
                "#B0BEC5",
                "#B0BEC5",
                "#B0BEC5",
                "#B0BEC5",
                "#B0BEC5",
                "#B0BEC5",
                "#B0BEC5",
                "#B0BEC5",
                "#B0BEC5",
                "#B0BEC5",
                "#B0BEC5",
                "#B0BEC5",
                "#B0BEC5",
                "#B0BEC5",
                "#B0BEC5",
                "#B0BEC5",
                "#B0BEC5",
                "#B0BEC5",
                "#B0BEC5",
                "#B0BEC5",
                "#B0BEC5",
                "#B0BEC5",
                "#B0BEC5",
                "#B0BEC5",
                "#B0BEC5",
                "#B0BEC5",
                "#B0BEC5",
                "#B0BEC5",
                "#B0BEC5",
                "red",
                "#B0BEC5",
                "#B0BEC5"
               ]
              ]
             }
            ],
            "label": "Topic 37",
            "method": "update"
           },
           {
            "args": [
             {
              "marker.color": [
               [
                "#B0BEC5",
                "#B0BEC5",
                "#B0BEC5",
                "#B0BEC5",
                "#B0BEC5",
                "#B0BEC5",
                "#B0BEC5",
                "#B0BEC5",
                "#B0BEC5",
                "#B0BEC5",
                "#B0BEC5",
                "#B0BEC5",
                "#B0BEC5",
                "#B0BEC5",
                "#B0BEC5",
                "#B0BEC5",
                "#B0BEC5",
                "#B0BEC5",
                "#B0BEC5",
                "#B0BEC5",
                "#B0BEC5",
                "#B0BEC5",
                "#B0BEC5",
                "#B0BEC5",
                "#B0BEC5",
                "#B0BEC5",
                "#B0BEC5",
                "#B0BEC5",
                "#B0BEC5",
                "#B0BEC5",
                "#B0BEC5",
                "#B0BEC5",
                "#B0BEC5",
                "#B0BEC5",
                "#B0BEC5",
                "#B0BEC5",
                "#B0BEC5",
                "#B0BEC5",
                "red",
                "#B0BEC5"
               ]
              ]
             }
            ],
            "label": "Topic 38",
            "method": "update"
           },
           {
            "args": [
             {
              "marker.color": [
               [
                "#B0BEC5",
                "#B0BEC5",
                "#B0BEC5",
                "#B0BEC5",
                "#B0BEC5",
                "#B0BEC5",
                "#B0BEC5",
                "#B0BEC5",
                "#B0BEC5",
                "#B0BEC5",
                "#B0BEC5",
                "#B0BEC5",
                "#B0BEC5",
                "#B0BEC5",
                "#B0BEC5",
                "#B0BEC5",
                "#B0BEC5",
                "#B0BEC5",
                "#B0BEC5",
                "#B0BEC5",
                "#B0BEC5",
                "#B0BEC5",
                "#B0BEC5",
                "#B0BEC5",
                "#B0BEC5",
                "#B0BEC5",
                "#B0BEC5",
                "#B0BEC5",
                "#B0BEC5",
                "#B0BEC5",
                "#B0BEC5",
                "#B0BEC5",
                "#B0BEC5",
                "#B0BEC5",
                "#B0BEC5",
                "#B0BEC5",
                "#B0BEC5",
                "#B0BEC5",
                "#B0BEC5",
                "red"
               ]
              ]
             }
            ],
            "label": "Topic 39",
            "method": "update"
           }
          ]
         }
        ],
        "template": {
         "data": {
          "bar": [
           {
            "error_x": {
             "color": "rgb(36,36,36)"
            },
            "error_y": {
             "color": "rgb(36,36,36)"
            },
            "marker": {
             "line": {
              "color": "white",
              "width": 0.5
             },
             "pattern": {
              "fillmode": "overlay",
              "size": 10,
              "solidity": 0.2
             }
            },
            "type": "bar"
           }
          ],
          "barpolar": [
           {
            "marker": {
             "line": {
              "color": "white",
              "width": 0.5
             },
             "pattern": {
              "fillmode": "overlay",
              "size": 10,
              "solidity": 0.2
             }
            },
            "type": "barpolar"
           }
          ],
          "carpet": [
           {
            "aaxis": {
             "endlinecolor": "rgb(36,36,36)",
             "gridcolor": "white",
             "linecolor": "white",
             "minorgridcolor": "white",
             "startlinecolor": "rgb(36,36,36)"
            },
            "baxis": {
             "endlinecolor": "rgb(36,36,36)",
             "gridcolor": "white",
             "linecolor": "white",
             "minorgridcolor": "white",
             "startlinecolor": "rgb(36,36,36)"
            },
            "type": "carpet"
           }
          ],
          "choropleth": [
           {
            "colorbar": {
             "outlinewidth": 1,
             "tickcolor": "rgb(36,36,36)",
             "ticks": "outside"
            },
            "type": "choropleth"
           }
          ],
          "contour": [
           {
            "colorbar": {
             "outlinewidth": 1,
             "tickcolor": "rgb(36,36,36)",
             "ticks": "outside"
            },
            "colorscale": [
             [
              0,
              "#440154"
             ],
             [
              0.1111111111111111,
              "#482878"
             ],
             [
              0.2222222222222222,
              "#3e4989"
             ],
             [
              0.3333333333333333,
              "#31688e"
             ],
             [
              0.4444444444444444,
              "#26828e"
             ],
             [
              0.5555555555555556,
              "#1f9e89"
             ],
             [
              0.6666666666666666,
              "#35b779"
             ],
             [
              0.7777777777777778,
              "#6ece58"
             ],
             [
              0.8888888888888888,
              "#b5de2b"
             ],
             [
              1,
              "#fde725"
             ]
            ],
            "type": "contour"
           }
          ],
          "contourcarpet": [
           {
            "colorbar": {
             "outlinewidth": 1,
             "tickcolor": "rgb(36,36,36)",
             "ticks": "outside"
            },
            "type": "contourcarpet"
           }
          ],
          "heatmap": [
           {
            "colorbar": {
             "outlinewidth": 1,
             "tickcolor": "rgb(36,36,36)",
             "ticks": "outside"
            },
            "colorscale": [
             [
              0,
              "#440154"
             ],
             [
              0.1111111111111111,
              "#482878"
             ],
             [
              0.2222222222222222,
              "#3e4989"
             ],
             [
              0.3333333333333333,
              "#31688e"
             ],
             [
              0.4444444444444444,
              "#26828e"
             ],
             [
              0.5555555555555556,
              "#1f9e89"
             ],
             [
              0.6666666666666666,
              "#35b779"
             ],
             [
              0.7777777777777778,
              "#6ece58"
             ],
             [
              0.8888888888888888,
              "#b5de2b"
             ],
             [
              1,
              "#fde725"
             ]
            ],
            "type": "heatmap"
           }
          ],
          "heatmapgl": [
           {
            "colorbar": {
             "outlinewidth": 1,
             "tickcolor": "rgb(36,36,36)",
             "ticks": "outside"
            },
            "colorscale": [
             [
              0,
              "#440154"
             ],
             [
              0.1111111111111111,
              "#482878"
             ],
             [
              0.2222222222222222,
              "#3e4989"
             ],
             [
              0.3333333333333333,
              "#31688e"
             ],
             [
              0.4444444444444444,
              "#26828e"
             ],
             [
              0.5555555555555556,
              "#1f9e89"
             ],
             [
              0.6666666666666666,
              "#35b779"
             ],
             [
              0.7777777777777778,
              "#6ece58"
             ],
             [
              0.8888888888888888,
              "#b5de2b"
             ],
             [
              1,
              "#fde725"
             ]
            ],
            "type": "heatmapgl"
           }
          ],
          "histogram": [
           {
            "marker": {
             "line": {
              "color": "white",
              "width": 0.6
             }
            },
            "type": "histogram"
           }
          ],
          "histogram2d": [
           {
            "colorbar": {
             "outlinewidth": 1,
             "tickcolor": "rgb(36,36,36)",
             "ticks": "outside"
            },
            "colorscale": [
             [
              0,
              "#440154"
             ],
             [
              0.1111111111111111,
              "#482878"
             ],
             [
              0.2222222222222222,
              "#3e4989"
             ],
             [
              0.3333333333333333,
              "#31688e"
             ],
             [
              0.4444444444444444,
              "#26828e"
             ],
             [
              0.5555555555555556,
              "#1f9e89"
             ],
             [
              0.6666666666666666,
              "#35b779"
             ],
             [
              0.7777777777777778,
              "#6ece58"
             ],
             [
              0.8888888888888888,
              "#b5de2b"
             ],
             [
              1,
              "#fde725"
             ]
            ],
            "type": "histogram2d"
           }
          ],
          "histogram2dcontour": [
           {
            "colorbar": {
             "outlinewidth": 1,
             "tickcolor": "rgb(36,36,36)",
             "ticks": "outside"
            },
            "colorscale": [
             [
              0,
              "#440154"
             ],
             [
              0.1111111111111111,
              "#482878"
             ],
             [
              0.2222222222222222,
              "#3e4989"
             ],
             [
              0.3333333333333333,
              "#31688e"
             ],
             [
              0.4444444444444444,
              "#26828e"
             ],
             [
              0.5555555555555556,
              "#1f9e89"
             ],
             [
              0.6666666666666666,
              "#35b779"
             ],
             [
              0.7777777777777778,
              "#6ece58"
             ],
             [
              0.8888888888888888,
              "#b5de2b"
             ],
             [
              1,
              "#fde725"
             ]
            ],
            "type": "histogram2dcontour"
           }
          ],
          "mesh3d": [
           {
            "colorbar": {
             "outlinewidth": 1,
             "tickcolor": "rgb(36,36,36)",
             "ticks": "outside"
            },
            "type": "mesh3d"
           }
          ],
          "parcoords": [
           {
            "line": {
             "colorbar": {
              "outlinewidth": 1,
              "tickcolor": "rgb(36,36,36)",
              "ticks": "outside"
             }
            },
            "type": "parcoords"
           }
          ],
          "pie": [
           {
            "automargin": true,
            "type": "pie"
           }
          ],
          "scatter": [
           {
            "fillpattern": {
             "fillmode": "overlay",
             "size": 10,
             "solidity": 0.2
            },
            "type": "scatter"
           }
          ],
          "scatter3d": [
           {
            "line": {
             "colorbar": {
              "outlinewidth": 1,
              "tickcolor": "rgb(36,36,36)",
              "ticks": "outside"
             }
            },
            "marker": {
             "colorbar": {
              "outlinewidth": 1,
              "tickcolor": "rgb(36,36,36)",
              "ticks": "outside"
             }
            },
            "type": "scatter3d"
           }
          ],
          "scattercarpet": [
           {
            "marker": {
             "colorbar": {
              "outlinewidth": 1,
              "tickcolor": "rgb(36,36,36)",
              "ticks": "outside"
             }
            },
            "type": "scattercarpet"
           }
          ],
          "scattergeo": [
           {
            "marker": {
             "colorbar": {
              "outlinewidth": 1,
              "tickcolor": "rgb(36,36,36)",
              "ticks": "outside"
             }
            },
            "type": "scattergeo"
           }
          ],
          "scattergl": [
           {
            "marker": {
             "colorbar": {
              "outlinewidth": 1,
              "tickcolor": "rgb(36,36,36)",
              "ticks": "outside"
             }
            },
            "type": "scattergl"
           }
          ],
          "scattermapbox": [
           {
            "marker": {
             "colorbar": {
              "outlinewidth": 1,
              "tickcolor": "rgb(36,36,36)",
              "ticks": "outside"
             }
            },
            "type": "scattermapbox"
           }
          ],
          "scatterpolar": [
           {
            "marker": {
             "colorbar": {
              "outlinewidth": 1,
              "tickcolor": "rgb(36,36,36)",
              "ticks": "outside"
             }
            },
            "type": "scatterpolar"
           }
          ],
          "scatterpolargl": [
           {
            "marker": {
             "colorbar": {
              "outlinewidth": 1,
              "tickcolor": "rgb(36,36,36)",
              "ticks": "outside"
             }
            },
            "type": "scatterpolargl"
           }
          ],
          "scatterternary": [
           {
            "marker": {
             "colorbar": {
              "outlinewidth": 1,
              "tickcolor": "rgb(36,36,36)",
              "ticks": "outside"
             }
            },
            "type": "scatterternary"
           }
          ],
          "surface": [
           {
            "colorbar": {
             "outlinewidth": 1,
             "tickcolor": "rgb(36,36,36)",
             "ticks": "outside"
            },
            "colorscale": [
             [
              0,
              "#440154"
             ],
             [
              0.1111111111111111,
              "#482878"
             ],
             [
              0.2222222222222222,
              "#3e4989"
             ],
             [
              0.3333333333333333,
              "#31688e"
             ],
             [
              0.4444444444444444,
              "#26828e"
             ],
             [
              0.5555555555555556,
              "#1f9e89"
             ],
             [
              0.6666666666666666,
              "#35b779"
             ],
             [
              0.7777777777777778,
              "#6ece58"
             ],
             [
              0.8888888888888888,
              "#b5de2b"
             ],
             [
              1,
              "#fde725"
             ]
            ],
            "type": "surface"
           }
          ],
          "table": [
           {
            "cells": {
             "fill": {
              "color": "rgb(237,237,237)"
             },
             "line": {
              "color": "white"
             }
            },
            "header": {
             "fill": {
              "color": "rgb(217,217,217)"
             },
             "line": {
              "color": "white"
             }
            },
            "type": "table"
           }
          ]
         },
         "layout": {
          "annotationdefaults": {
           "arrowhead": 0,
           "arrowwidth": 1
          },
          "autotypenumbers": "strict",
          "coloraxis": {
           "colorbar": {
            "outlinewidth": 1,
            "tickcolor": "rgb(36,36,36)",
            "ticks": "outside"
           }
          },
          "colorscale": {
           "diverging": [
            [
             0,
             "rgb(103,0,31)"
            ],
            [
             0.1,
             "rgb(178,24,43)"
            ],
            [
             0.2,
             "rgb(214,96,77)"
            ],
            [
             0.3,
             "rgb(244,165,130)"
            ],
            [
             0.4,
             "rgb(253,219,199)"
            ],
            [
             0.5,
             "rgb(247,247,247)"
            ],
            [
             0.6,
             "rgb(209,229,240)"
            ],
            [
             0.7,
             "rgb(146,197,222)"
            ],
            [
             0.8,
             "rgb(67,147,195)"
            ],
            [
             0.9,
             "rgb(33,102,172)"
            ],
            [
             1,
             "rgb(5,48,97)"
            ]
           ],
           "sequential": [
            [
             0,
             "#440154"
            ],
            [
             0.1111111111111111,
             "#482878"
            ],
            [
             0.2222222222222222,
             "#3e4989"
            ],
            [
             0.3333333333333333,
             "#31688e"
            ],
            [
             0.4444444444444444,
             "#26828e"
            ],
            [
             0.5555555555555556,
             "#1f9e89"
            ],
            [
             0.6666666666666666,
             "#35b779"
            ],
            [
             0.7777777777777778,
             "#6ece58"
            ],
            [
             0.8888888888888888,
             "#b5de2b"
            ],
            [
             1,
             "#fde725"
            ]
           ],
           "sequentialminus": [
            [
             0,
             "#440154"
            ],
            [
             0.1111111111111111,
             "#482878"
            ],
            [
             0.2222222222222222,
             "#3e4989"
            ],
            [
             0.3333333333333333,
             "#31688e"
            ],
            [
             0.4444444444444444,
             "#26828e"
            ],
            [
             0.5555555555555556,
             "#1f9e89"
            ],
            [
             0.6666666666666666,
             "#35b779"
            ],
            [
             0.7777777777777778,
             "#6ece58"
            ],
            [
             0.8888888888888888,
             "#b5de2b"
            ],
            [
             1,
             "#fde725"
            ]
           ]
          },
          "colorway": [
           "#1F77B4",
           "#FF7F0E",
           "#2CA02C",
           "#D62728",
           "#9467BD",
           "#8C564B",
           "#E377C2",
           "#7F7F7F",
           "#BCBD22",
           "#17BECF"
          ],
          "font": {
           "color": "rgb(36,36,36)"
          },
          "geo": {
           "bgcolor": "white",
           "lakecolor": "white",
           "landcolor": "white",
           "showlakes": true,
           "showland": true,
           "subunitcolor": "white"
          },
          "hoverlabel": {
           "align": "left"
          },
          "hovermode": "closest",
          "mapbox": {
           "style": "light"
          },
          "paper_bgcolor": "white",
          "plot_bgcolor": "white",
          "polar": {
           "angularaxis": {
            "gridcolor": "rgb(232,232,232)",
            "linecolor": "rgb(36,36,36)",
            "showgrid": false,
            "showline": true,
            "ticks": "outside"
           },
           "bgcolor": "white",
           "radialaxis": {
            "gridcolor": "rgb(232,232,232)",
            "linecolor": "rgb(36,36,36)",
            "showgrid": false,
            "showline": true,
            "ticks": "outside"
           }
          },
          "scene": {
           "xaxis": {
            "backgroundcolor": "white",
            "gridcolor": "rgb(232,232,232)",
            "gridwidth": 2,
            "linecolor": "rgb(36,36,36)",
            "showbackground": true,
            "showgrid": false,
            "showline": true,
            "ticks": "outside",
            "zeroline": false,
            "zerolinecolor": "rgb(36,36,36)"
           },
           "yaxis": {
            "backgroundcolor": "white",
            "gridcolor": "rgb(232,232,232)",
            "gridwidth": 2,
            "linecolor": "rgb(36,36,36)",
            "showbackground": true,
            "showgrid": false,
            "showline": true,
            "ticks": "outside",
            "zeroline": false,
            "zerolinecolor": "rgb(36,36,36)"
           },
           "zaxis": {
            "backgroundcolor": "white",
            "gridcolor": "rgb(232,232,232)",
            "gridwidth": 2,
            "linecolor": "rgb(36,36,36)",
            "showbackground": true,
            "showgrid": false,
            "showline": true,
            "ticks": "outside",
            "zeroline": false,
            "zerolinecolor": "rgb(36,36,36)"
           }
          },
          "shapedefaults": {
           "fillcolor": "black",
           "line": {
            "width": 0
           },
           "opacity": 0.3
          },
          "ternary": {
           "aaxis": {
            "gridcolor": "rgb(232,232,232)",
            "linecolor": "rgb(36,36,36)",
            "showgrid": false,
            "showline": true,
            "ticks": "outside"
           },
           "baxis": {
            "gridcolor": "rgb(232,232,232)",
            "linecolor": "rgb(36,36,36)",
            "showgrid": false,
            "showline": true,
            "ticks": "outside"
           },
           "bgcolor": "white",
           "caxis": {
            "gridcolor": "rgb(232,232,232)",
            "linecolor": "rgb(36,36,36)",
            "showgrid": false,
            "showline": true,
            "ticks": "outside"
           }
          },
          "title": {
           "x": 0.05
          },
          "xaxis": {
           "automargin": true,
           "gridcolor": "rgb(232,232,232)",
           "linecolor": "rgb(36,36,36)",
           "showgrid": false,
           "showline": true,
           "ticks": "outside",
           "title": {
            "standoff": 15
           },
           "zeroline": false,
           "zerolinecolor": "rgb(36,36,36)"
          },
          "yaxis": {
           "automargin": true,
           "gridcolor": "rgb(232,232,232)",
           "linecolor": "rgb(36,36,36)",
           "showgrid": false,
           "showline": true,
           "ticks": "outside",
           "title": {
            "standoff": 15
           },
           "zeroline": false,
           "zerolinecolor": "rgb(36,36,36)"
          }
         }
        },
        "title": {
         "font": {
          "color": "Black",
          "size": 22
         },
         "text": "<b>Intertopic Distance Map</b>",
         "x": 0.5,
         "xanchor": "center",
         "y": 0.95,
         "yanchor": "top"
        },
        "width": 650,
        "xaxis": {
         "anchor": "y",
         "domain": [
          0,
          1
         ],
         "range": [
          -4.085954904556274,
          17.81276602745056
         ],
         "title": {
          "text": ""
         },
         "visible": false
        },
        "yaxis": {
         "anchor": "x",
         "domain": [
          0,
          1
         ],
         "range": [
          1.6388090968132019,
          15.886009120941162
         ],
         "title": {
          "text": ""
         },
         "visible": false
        }
       }
      }
     },
     "metadata": {},
     "output_type": "display_data"
    }
   ],
   "source": [
    "model.visualize_topics(custom_labels=True)"
   ]
  },
  {
   "cell_type": "code",
   "execution_count": 23,
   "metadata": {},
   "outputs": [
    {
     "data": {
      "application/vnd.plotly.v1+json": {
       "config": {
        "plotlyServerURL": "https://plot.ly"
       },
       "data": [
        {
         "marker": {
          "color": "#D55E00"
         },
         "orientation": "h",
         "type": "bar",
         "x": [
          0.010617910722203415,
          0.014830430755614197,
          0.014830430755614197,
          0.022056637331010896,
          0.023292626708774015
         ],
         "xaxis": "x",
         "y": [
          "people  ",
          "riot  ",
          "terrorist  ",
          "trump  ",
          "capitol  "
         ],
         "yaxis": "y"
        },
        {
         "marker": {
          "color": "#0072B2"
         },
         "orientation": "h",
         "type": "bar",
         "x": [
          0.02642308840549169,
          0.03631776160886314,
          0.050954255583136196,
          0.07293626399652338,
          0.08739786141649737
         ],
         "xaxis": "x2",
         "y": [
          "rolling_on_the_floor_laughing face_with_tears_of_joy  ",
          "rolling_on_the_floor_laughing rolling_on_the_floor_laughing  ",
          "face_with_tears_of_joy face_with_tears_of_joy  ",
          "rolling_on_the_floor_laughing  ",
          "face_with_tears_of_joy  "
         ],
         "yaxis": "y2"
        },
        {
         "marker": {
          "color": "#CC79A7"
         },
         "orientation": "h",
         "type": "bar",
         "x": [
          0.0207191433461602,
          0.023732904980616157,
          0.023987246014925565,
          0.028006634850532286,
          0.03771580193739442
         ],
         "xaxis": "x3",
         "y": [
          "trump  ",
          "election  ",
          "state  ",
          "ballot  ",
          "vote  "
         ],
         "yaxis": "y3"
        },
        {
         "marker": {
          "color": "#E69F00"
         },
         "orientation": "h",
         "type": "bar",
         "x": [
          0.023728433593105485,
          0.0261677747887781,
          0.02688283482796087,
          0.02758975747767323,
          0.05877149066432012
         ],
         "xaxis": "x4",
         "y": [
          "45 electoral  ",
          "vote  ",
          "manifest  ",
          "vote biden  ",
          "biden  "
         ],
         "yaxis": "y4"
        },
        {
         "marker": {
          "color": "#56B4E9"
         },
         "orientation": "h",
         "type": "bar",
         "x": [
          0.014625771947212013,
          0.01504732804633337,
          0.01518079394874257,
          0.019357564587690366,
          0.03136501100985594
         ],
         "xaxis": "x5",
         "y": [
          "student  ",
          "tax  ",
          "policy  ",
          "plan  ",
          "biden  "
         ],
         "yaxis": "y5"
        },
        {
         "marker": {
          "color": "#009E73"
         },
         "orientation": "h",
         "type": "bar",
         "x": [
          0.017004764618114062,
          0.026397354170672276,
          0.027033687276397756,
          0.04637026152353053,
          0.05517807029981938
         ],
         "xaxis": "x6",
         "y": [
          "said  ",
          "trump  ",
          "support  ",
          "trump supporter  ",
          "supporter  "
         ],
         "yaxis": "y6"
        },
        {
         "marker": {
          "color": "#F0E442"
         },
         "orientation": "h",
         "type": "bar",
         "x": [
          0.013774393935896714,
          0.014521365728177287,
          0.021831897858557187,
          0.022779661416692985,
          0.04386924746680812
         ],
         "xaxis": "x7",
         "y": [
          "year  ",
          "tax  ",
          "economy  ",
          "trump  ",
          "money  "
         ],
         "yaxis": "y7"
        },
        {
         "marker": {
          "color": "#D55E00"
         },
         "orientation": "h",
         "type": "bar",
         "x": [
          0.025235989097711926,
          0.03126503511946998,
          0.0373386908894453,
          0.045598299548635625,
          0.05304815149835844
         ],
         "xaxis": "x8",
         "y": [
          "country  ",
          "trump trump  ",
          "real  ",
          "world  ",
          "trump  "
         ],
         "yaxis": "y8"
        },
        {
         "marker": {
          "color": "#0072B2"
         },
         "orientation": "h",
         "type": "bar",
         "x": [
          0.017877233061483953,
          0.018049013718924915,
          0.021592167588125943,
          0.024964765242177608,
          0.029448575138933838
         ],
         "xaxis": "x9",
         "y": [
          "office  ",
          "crazy  ",
          "term  ",
          "think  ",
          "trump  "
         ],
         "yaxis": "y9"
        },
        {
         "marker": {
          "color": "#CC79A7"
         },
         "orientation": "h",
         "type": "bar",
         "x": [
          0.019957696206348175,
          0.021819232146083938,
          0.027047277929480352,
          0.02705595806695193,
          0.04960258978941188
         ],
         "xaxis": "x10",
         "y": [
          "white_heavy_check_mark  ",
          "medium  ",
          "trump  ",
          "tweet  ",
          "twitter  "
         ],
         "yaxis": "y10"
        },
        {
         "marker": {
          "color": "#E69F00"
         },
         "orientation": "h",
         "type": "bar",
         "x": [
          0.024551947221997678,
          0.026047020394075138,
          0.026978663587683752,
          0.04613685283775648,
          0.053906043047161956
         ],
         "xaxis": "x11",
         "y": [
          "biden  ",
          "kamala harris  ",
          "black  ",
          "kamala  ",
          "harris  "
         ],
         "yaxis": "y11"
        },
        {
         "marker": {
          "color": "#56B4E9"
         },
         "orientation": "h",
         "type": "bar",
         "x": [
          0.03292195038109637,
          0.03819907496801255,
          0.04090655862300665,
          0.04149605516724984,
          0.050300543972462475
         ],
         "xaxis": "x12",
         "y": [
          "thewayiseeit thewayiseeit  ",
          "thewayiseeit  ",
          "joe  ",
          "joe biden  ",
          "biden  "
         ],
         "yaxis": "y12"
        },
        {
         "marker": {
          "color": "#009E73"
         },
         "orientation": "h",
         "type": "bar",
         "x": [
          0.01973862160474172,
          0.01973862160474172,
          0.022996900729451833,
          0.02910705218473697,
          0.09635486642179078
         ],
         "xaxis": "x13",
         "y": [
          "vaccination  ",
          "coronavirus vaccine  ",
          "biden  ",
          "vaccinated  ",
          "vaccine  "
         ],
         "yaxis": "y13"
        },
        {
         "marker": {
          "color": "#F0E442"
         },
         "orientation": "h",
         "type": "bar",
         "x": [
          0.03343824027779997,
          0.03431956533278068,
          0.06297120530110716,
          0.06297120530110716,
          0.06541926044450497
         ],
         "xaxis": "x14",
         "y": [
          "trump lawyer  ",
          "lawyer  ",
          "supreme  ",
          "supreme court  ",
          "court  "
         ],
         "yaxis": "y14"
        },
        {
         "marker": {
          "color": "#D55E00"
         },
         "orientation": "h",
         "type": "bar",
         "x": [
          0.01736644030823006,
          0.018915286849443633,
          0.019996889912694778,
          0.02998354225333286,
          0.06485039458938274
         ],
         "xaxis": "x15",
         "y": [
          "trump  ",
          "deep  ",
          "republicans  ",
          "gop  ",
          "party  "
         ],
         "yaxis": "y15"
        },
        {
         "marker": {
          "color": "#0072B2"
         },
         "orientation": "h",
         "type": "bar",
         "x": [
          0.01686448469469422,
          0.022118165054167267,
          0.0265902678156502,
          0.04100304506571702,
          0.06210188561065075
         ],
         "xaxis": "x16",
         "y": [
          "biden administration  ",
          "ha  ",
          "biden  ",
          "immigration  ",
          "border  "
         ],
         "yaxis": "y16"
        },
        {
         "marker": {
          "color": "#CC79A7"
         },
         "orientation": "h",
         "type": "bar",
         "x": [
          0.02188562633288953,
          0.02188562633288953,
          0.026897757017491676,
          0.05620755605647797,
          0.059321525541574646
         ],
         "xaxis": "x17",
         "y": [
          "white supremacist  ",
          "supremacist  ",
          "black  ",
          "racist  ",
          "white  "
         ],
         "yaxis": "y17"
        },
        {
         "marker": {
          "color": "#E69F00"
         },
         "orientation": "h",
         "type": "bar",
         "x": [
          0.020144831025389213,
          0.020854741191979675,
          0.020854741191979675,
          0.023834253337159553,
          0.039163369369142345
         ],
         "xaxis": "x18",
         "y": [
          "video  ",
          "film  ",
          "jack  ",
          "cnn  ",
          "woodward  "
         ],
         "yaxis": "y18"
        },
        {
         "marker": {
          "color": "#56B4E9"
         },
         "orientation": "h",
         "type": "bar",
         "x": [
          0.03351398962283439,
          0.03713954619142435,
          0.03812971066960902,
          0.043533881447418,
          0.05585664937139065
         ],
         "xaxis": "x19",
         "y": [
          "losing  ",
          "conceded  ",
          "loses  ",
          "communist  ",
          "concede  "
         ],
         "yaxis": "y19"
        },
        {
         "marker": {
          "color": "#009E73"
         },
         "orientation": "h",
         "type": "bar",
         "x": [
          0.025919693203458372,
          0.02674075289289412,
          0.03042826039611355,
          0.030945607923974328,
          0.03133415012147164
         ],
         "xaxis": "x20",
         "y": [
          "lost  ",
          "won  ",
          "votes  ",
          "biden  ",
          "accept  "
         ],
         "yaxis": "y20"
        },
        {
         "marker": {
          "color": "#F0E442"
         },
         "orientation": "h",
         "type": "bar",
         "x": [
          0.02592764165755859,
          0.031714081625960684,
          0.031714081625960684,
          0.059465166707212386,
          0.08525386367089388
         ],
         "xaxis": "x21",
         "y": [
          "mitch  ",
          "moscow  ",
          "moscow mitch  ",
          "russia  ",
          "putin  "
         ],
         "yaxis": "y21"
        },
        {
         "marker": {
          "color": "#D55E00"
         },
         "orientation": "h",
         "type": "bar",
         "x": [
          0.029150774189226458,
          0.040961012031707766,
          0.050827091594580695,
          0.05200100469019476,
          0.06857330073095569
         ],
         "xaxis": "x22",
         "y": [
          "celebrant  ",
          "satan  ",
          "god  ",
          "devil  ",
          "christian  "
         ],
         "yaxis": "y22"
        },
        {
         "marker": {
          "color": "#0072B2"
         },
         "orientation": "h",
         "type": "bar",
         "x": [
          0.03645923039621201,
          0.04630088930355877,
          0.0468786062691509,
          0.06357006612541574,
          0.10519095475945185
         ],
         "xaxis": "x23",
         "y": [
          "doe lie  ",
          "lying  ",
          "trump lie  ",
          "lied  ",
          "lie  "
         ],
         "yaxis": "y23"
        },
        {
         "marker": {
          "color": "#CC79A7"
         },
         "orientation": "h",
         "type": "bar",
         "x": [
          0.03626949279625247,
          0.04807843158813682,
          0.052347440120932974,
          0.05571203245987482,
          0.09680004063549941
         ],
         "xaxis": "x24",
         "y": [
          "email  ",
          "biden  ",
          "hunter  ",
          "hunter biden  ",
          "china  "
         ],
         "yaxis": "y24"
        },
        {
         "marker": {
          "color": "#E69F00"
         },
         "orientation": "h",
         "type": "bar",
         "x": [
          0.025748872975996814,
          0.026141247526879262,
          0.028102181843770113,
          0.036180853685955146,
          0.06874737624034305
         ],
         "xaxis": "x25",
         "y": [
          "waco  ",
          "end  ",
          "biden  ",
          "atf  ",
          "gun  "
         ],
         "yaxis": "y25"
        },
        {
         "marker": {
          "color": "#56B4E9"
         },
         "orientation": "h",
         "type": "bar",
         "x": [
          0.028474876139223608,
          0.03491917534402784,
          0.03654198844078345,
          0.04028424404445431,
          0.04137370894914674
         ],
         "xaxis": "x26",
         "y": [
          "ample  ",
          "dog  ",
          "lie  ",
          "biden  ",
          "fact  "
         ],
         "yaxis": "y26"
        },
        {
         "marker": {
          "color": "#009E73"
         },
         "orientation": "h",
         "type": "bar",
         "x": [
          0.033129400723378694,
          0.03477576988891197,
          0.03596588153108626,
          0.03652693836102598,
          0.03766137212962639
         ],
         "xaxis": "x27",
         "y": [
          "trump  ",
          "year trump  ",
          "mean trump  ",
          "trump wa  ",
          "said  "
         ],
         "yaxis": "y27"
        },
        {
         "marker": {
          "color": "#F0E442"
         },
         "orientation": "h",
         "type": "bar",
         "x": [
          0.035381056117641904,
          0.03942113123759258,
          0.039513936614134666,
          0.06385698951889766,
          0.09812359172576454
         ],
         "xaxis": "x28",
         "y": [
          "house  ",
          "senate  ",
          "trump impeachment  ",
          "impeachment  ",
          "impeached  "
         ],
         "yaxis": "y28"
        },
        {
         "marker": {
          "color": "#D55E00"
         },
         "orientation": "h",
         "type": "bar",
         "x": [
          0.043491250590949077,
          0.043537742848821316,
          0.04425270781934159,
          0.04923048257293389,
          0.06242531643448983
         ],
         "xaxis": "x29",
         "y": [
          "trump  ",
          "worse  ",
          "trump president  ",
          "ve  ",
          "awful  "
         ],
         "yaxis": "y29"
        },
        {
         "marker": {
          "color": "#0072B2"
         },
         "orientation": "h",
         "type": "bar",
         "x": [
          0.03329377417653208,
          0.03947111729293271,
          0.041337665015907375,
          0.041337665015907375,
          0.04357453253706423
         ],
         "xaxis": "x30",
         "y": [
          "hunter  ",
          "money  ",
          "mouth_face  ",
          "money mouth_face  ",
          "biden  "
         ],
         "yaxis": "y30"
        },
        {
         "marker": {
          "color": "#CC79A7"
         },
         "orientation": "h",
         "type": "bar",
         "x": [
          0.03412583965085444,
          0.036287220411860104,
          0.03724475833694332,
          0.04013823869451939,
          0.07767848013921018
         ],
         "xaxis": "x31",
         "y": [
          "biden debate  ",
          "trump biden  ",
          "biden  ",
          "final  ",
          "debate  "
         ],
         "yaxis": "y31"
        },
        {
         "marker": {
          "color": "#E69F00"
         },
         "orientation": "h",
         "type": "bar",
         "x": [
          0.03797385717825049,
          0.03797385717825049,
          0.03797385717825049,
          0.03797385717825049,
          0.04105042416023141
         ],
         "xaxis": "x32",
         "y": [
          "sorbo  ",
          "kevin sorbo  ",
          "mrs  ",
          "miss trump  ",
          "care  "
         ],
         "yaxis": "y32"
        },
        {
         "marker": {
          "color": "#56B4E9"
         },
         "orientation": "h",
         "type": "bar",
         "x": [
          0.06964821502845275,
          0.06964821502845275,
          0.09350082340823637,
          0.7436656138879596,
          0.7681829703313806
         ],
         "xaxis": "x33",
         "y": [
          "trump pence  ",
          "pence 2020  ",
          "2020  ",
          "united_states  ",
          "united_states united_states  "
         ],
         "yaxis": "y33"
        },
        {
         "marker": {
          "color": "#009E73"
         },
         "orientation": "h",
         "type": "bar",
         "x": [
          0.02928418734341056,
          0.02928418734341056,
          0.0355873644884782,
          0.03917924666875658,
          0.11696506458905317
         ],
         "xaxis": "x34",
         "y": [
          "virus did  ",
          "tested  ",
          "country  ",
          "infected  ",
          "virus  "
         ],
         "yaxis": "y34"
        },
        {
         "marker": {
          "color": "#F0E442"
         },
         "orientation": "h",
         "type": "bar",
         "x": [
          0.04397659748821448,
          0.058836188296380154,
          0.06592151952710297,
          0.07539239771121174,
          0.15587293991348844
         ],
         "xaxis": "x35",
         "y": [
          "pension  ",
          "pardon trump  ",
          "prison  ",
          "trump pardon  ",
          "pardon  "
         ],
         "yaxis": "y35"
        },
        {
         "marker": {
          "color": "#D55E00"
         },
         "orientation": "h",
         "type": "bar",
         "x": [
          0.03453181965363804,
          0.03666816581395534,
          0.03666816581395534,
          0.04312847997262113,
          0.04312847997262113
         ],
         "xaxis": "x36",
         "y": [
          "death  ",
          "remove trump  ",
          "library  ",
          "fix  ",
          "remove  "
         ],
         "yaxis": "y36"
        },
        {
         "marker": {
          "color": "#0072B2"
         },
         "orientation": "h",
         "type": "bar",
         "x": [
          0.028381102292078637,
          0.032294885828934285,
          0.036934659484785554,
          0.04036337661485905,
          0.1277981430846039
         ],
         "xaxis": "x37",
         "y": [
          "19  ",
          "responsible  ",
          "trump covid  ",
          "ploy  ",
          "covid  "
         ],
         "yaxis": "y37"
        },
        {
         "marker": {
          "color": "#CC79A7"
         },
         "orientation": "h",
         "type": "bar",
         "x": [
          0.04146730890105253,
          0.04146730890105253,
          0.04751933375891557,
          0.053978017740833446,
          0.07483736765538254
         ],
         "xaxis": "x38",
         "y": [
          "leaving free  ",
          "2001  ",
          "trump did  ",
          "did trump  ",
          "parler  "
         ],
         "yaxis": "y38"
        },
        {
         "marker": {
          "color": "#E69F00"
         },
         "orientation": "h",
         "type": "bar",
         "x": [
          0.04431731120940732,
          0.05008881415576521,
          0.06111194354864239,
          0.08385425911111294,
          0.15261759881575993
         ],
         "xaxis": "x39",
         "y": [
          "wearing  ",
          "wearing mask  ",
          "wear mask  ",
          "wear  ",
          "mask  "
         ],
         "yaxis": "y39"
        },
        {
         "marker": {
          "color": "#56B4E9"
         },
         "orientation": "h",
         "type": "bar",
         "x": [
          0.04391743791110471,
          0.051012084906326666,
          0.053662583713485194,
          0.05435343109284644,
          0.07778292497267576
         ],
         "xaxis": "x40",
         "y": [
          "americans  ",
          "death  ",
          "people  ",
          "americans died  ",
          "died  "
         ],
         "yaxis": "y40"
        }
       ],
       "layout": {
        "annotations": [
         {
          "font": {
           "size": 16
          },
          "showarrow": false,
          "text": "Topic 0",
          "x": 0.0875,
          "xanchor": "center",
          "xref": "paper",
          "y": 1,
          "yanchor": "bottom",
          "yref": "paper"
         },
         {
          "font": {
           "size": 16
          },
          "showarrow": false,
          "text": "Topic 1",
          "x": 0.36250000000000004,
          "xanchor": "center",
          "xref": "paper",
          "y": 1,
          "yanchor": "bottom",
          "yref": "paper"
         },
         {
          "font": {
           "size": 16
          },
          "showarrow": false,
          "text": "Topic 2",
          "x": 0.6375000000000001,
          "xanchor": "center",
          "xref": "paper",
          "y": 1,
          "yanchor": "bottom",
          "yref": "paper"
         },
         {
          "font": {
           "size": 16
          },
          "showarrow": false,
          "text": "Topic 3",
          "x": 0.9125,
          "xanchor": "center",
          "xref": "paper",
          "y": 1,
          "yanchor": "bottom",
          "yref": "paper"
         },
         {
          "font": {
           "size": 16
          },
          "showarrow": false,
          "text": "Topic 4",
          "x": 0.0875,
          "xanchor": "center",
          "xref": "paper",
          "y": 0.8960000000000001,
          "yanchor": "bottom",
          "yref": "paper"
         },
         {
          "font": {
           "size": 16
          },
          "showarrow": false,
          "text": "Topic 5",
          "x": 0.36250000000000004,
          "xanchor": "center",
          "xref": "paper",
          "y": 0.8960000000000001,
          "yanchor": "bottom",
          "yref": "paper"
         },
         {
          "font": {
           "size": 16
          },
          "showarrow": false,
          "text": "Topic 6",
          "x": 0.6375000000000001,
          "xanchor": "center",
          "xref": "paper",
          "y": 0.8960000000000001,
          "yanchor": "bottom",
          "yref": "paper"
         },
         {
          "font": {
           "size": 16
          },
          "showarrow": false,
          "text": "Topic 7",
          "x": 0.9125,
          "xanchor": "center",
          "xref": "paper",
          "y": 0.8960000000000001,
          "yanchor": "bottom",
          "yref": "paper"
         },
         {
          "font": {
           "size": 16
          },
          "showarrow": false,
          "text": "Topic 8",
          "x": 0.0875,
          "xanchor": "center",
          "xref": "paper",
          "y": 0.792,
          "yanchor": "bottom",
          "yref": "paper"
         },
         {
          "font": {
           "size": 16
          },
          "showarrow": false,
          "text": "Topic 9",
          "x": 0.36250000000000004,
          "xanchor": "center",
          "xref": "paper",
          "y": 0.792,
          "yanchor": "bottom",
          "yref": "paper"
         },
         {
          "font": {
           "size": 16
          },
          "showarrow": false,
          "text": "Topic 10",
          "x": 0.6375000000000001,
          "xanchor": "center",
          "xref": "paper",
          "y": 0.792,
          "yanchor": "bottom",
          "yref": "paper"
         },
         {
          "font": {
           "size": 16
          },
          "showarrow": false,
          "text": "Topic 11",
          "x": 0.9125,
          "xanchor": "center",
          "xref": "paper",
          "y": 0.792,
          "yanchor": "bottom",
          "yref": "paper"
         },
         {
          "font": {
           "size": 16
          },
          "showarrow": false,
          "text": "Topic 12",
          "x": 0.0875,
          "xanchor": "center",
          "xref": "paper",
          "y": 0.688,
          "yanchor": "bottom",
          "yref": "paper"
         },
         {
          "font": {
           "size": 16
          },
          "showarrow": false,
          "text": "Topic 13",
          "x": 0.36250000000000004,
          "xanchor": "center",
          "xref": "paper",
          "y": 0.688,
          "yanchor": "bottom",
          "yref": "paper"
         },
         {
          "font": {
           "size": 16
          },
          "showarrow": false,
          "text": "Topic 14",
          "x": 0.6375000000000001,
          "xanchor": "center",
          "xref": "paper",
          "y": 0.688,
          "yanchor": "bottom",
          "yref": "paper"
         },
         {
          "font": {
           "size": 16
          },
          "showarrow": false,
          "text": "Topic 15",
          "x": 0.9125,
          "xanchor": "center",
          "xref": "paper",
          "y": 0.688,
          "yanchor": "bottom",
          "yref": "paper"
         },
         {
          "font": {
           "size": 16
          },
          "showarrow": false,
          "text": "Topic 16",
          "x": 0.0875,
          "xanchor": "center",
          "xref": "paper",
          "y": 0.5840000000000001,
          "yanchor": "bottom",
          "yref": "paper"
         },
         {
          "font": {
           "size": 16
          },
          "showarrow": false,
          "text": "Topic 17",
          "x": 0.36250000000000004,
          "xanchor": "center",
          "xref": "paper",
          "y": 0.5840000000000001,
          "yanchor": "bottom",
          "yref": "paper"
         },
         {
          "font": {
           "size": 16
          },
          "showarrow": false,
          "text": "Topic 18",
          "x": 0.6375000000000001,
          "xanchor": "center",
          "xref": "paper",
          "y": 0.5840000000000001,
          "yanchor": "bottom",
          "yref": "paper"
         },
         {
          "font": {
           "size": 16
          },
          "showarrow": false,
          "text": "Topic 19",
          "x": 0.9125,
          "xanchor": "center",
          "xref": "paper",
          "y": 0.5840000000000001,
          "yanchor": "bottom",
          "yref": "paper"
         },
         {
          "font": {
           "size": 16
          },
          "showarrow": false,
          "text": "Topic 20",
          "x": 0.0875,
          "xanchor": "center",
          "xref": "paper",
          "y": 0.48000000000000004,
          "yanchor": "bottom",
          "yref": "paper"
         },
         {
          "font": {
           "size": 16
          },
          "showarrow": false,
          "text": "Topic 21",
          "x": 0.36250000000000004,
          "xanchor": "center",
          "xref": "paper",
          "y": 0.48000000000000004,
          "yanchor": "bottom",
          "yref": "paper"
         },
         {
          "font": {
           "size": 16
          },
          "showarrow": false,
          "text": "Topic 22",
          "x": 0.6375000000000001,
          "xanchor": "center",
          "xref": "paper",
          "y": 0.48000000000000004,
          "yanchor": "bottom",
          "yref": "paper"
         },
         {
          "font": {
           "size": 16
          },
          "showarrow": false,
          "text": "Topic 23",
          "x": 0.9125,
          "xanchor": "center",
          "xref": "paper",
          "y": 0.48000000000000004,
          "yanchor": "bottom",
          "yref": "paper"
         },
         {
          "font": {
           "size": 16
          },
          "showarrow": false,
          "text": "Topic 24",
          "x": 0.0875,
          "xanchor": "center",
          "xref": "paper",
          "y": 0.376,
          "yanchor": "bottom",
          "yref": "paper"
         },
         {
          "font": {
           "size": 16
          },
          "showarrow": false,
          "text": "Topic 25",
          "x": 0.36250000000000004,
          "xanchor": "center",
          "xref": "paper",
          "y": 0.376,
          "yanchor": "bottom",
          "yref": "paper"
         },
         {
          "font": {
           "size": 16
          },
          "showarrow": false,
          "text": "Topic 26",
          "x": 0.6375000000000001,
          "xanchor": "center",
          "xref": "paper",
          "y": 0.376,
          "yanchor": "bottom",
          "yref": "paper"
         },
         {
          "font": {
           "size": 16
          },
          "showarrow": false,
          "text": "Topic 27",
          "x": 0.9125,
          "xanchor": "center",
          "xref": "paper",
          "y": 0.376,
          "yanchor": "bottom",
          "yref": "paper"
         },
         {
          "font": {
           "size": 16
          },
          "showarrow": false,
          "text": "Topic 28",
          "x": 0.0875,
          "xanchor": "center",
          "xref": "paper",
          "y": 0.272,
          "yanchor": "bottom",
          "yref": "paper"
         },
         {
          "font": {
           "size": 16
          },
          "showarrow": false,
          "text": "Topic 29",
          "x": 0.36250000000000004,
          "xanchor": "center",
          "xref": "paper",
          "y": 0.272,
          "yanchor": "bottom",
          "yref": "paper"
         },
         {
          "font": {
           "size": 16
          },
          "showarrow": false,
          "text": "Topic 30",
          "x": 0.6375000000000001,
          "xanchor": "center",
          "xref": "paper",
          "y": 0.272,
          "yanchor": "bottom",
          "yref": "paper"
         },
         {
          "font": {
           "size": 16
          },
          "showarrow": false,
          "text": "Topic 31",
          "x": 0.9125,
          "xanchor": "center",
          "xref": "paper",
          "y": 0.272,
          "yanchor": "bottom",
          "yref": "paper"
         },
         {
          "font": {
           "size": 16
          },
          "showarrow": false,
          "text": "Topic 32",
          "x": 0.0875,
          "xanchor": "center",
          "xref": "paper",
          "y": 0.168,
          "yanchor": "bottom",
          "yref": "paper"
         },
         {
          "font": {
           "size": 16
          },
          "showarrow": false,
          "text": "Topic 33",
          "x": 0.36250000000000004,
          "xanchor": "center",
          "xref": "paper",
          "y": 0.168,
          "yanchor": "bottom",
          "yref": "paper"
         },
         {
          "font": {
           "size": 16
          },
          "showarrow": false,
          "text": "Topic 34",
          "x": 0.6375000000000001,
          "xanchor": "center",
          "xref": "paper",
          "y": 0.168,
          "yanchor": "bottom",
          "yref": "paper"
         },
         {
          "font": {
           "size": 16
          },
          "showarrow": false,
          "text": "Topic 35",
          "x": 0.9125,
          "xanchor": "center",
          "xref": "paper",
          "y": 0.168,
          "yanchor": "bottom",
          "yref": "paper"
         },
         {
          "font": {
           "size": 16
          },
          "showarrow": false,
          "text": "Topic 36",
          "x": 0.0875,
          "xanchor": "center",
          "xref": "paper",
          "y": 0.064,
          "yanchor": "bottom",
          "yref": "paper"
         },
         {
          "font": {
           "size": 16
          },
          "showarrow": false,
          "text": "Topic 37",
          "x": 0.36250000000000004,
          "xanchor": "center",
          "xref": "paper",
          "y": 0.064,
          "yanchor": "bottom",
          "yref": "paper"
         },
         {
          "font": {
           "size": 16
          },
          "showarrow": false,
          "text": "Topic 38",
          "x": 0.6375000000000001,
          "xanchor": "center",
          "xref": "paper",
          "y": 0.064,
          "yanchor": "bottom",
          "yref": "paper"
         },
         {
          "font": {
           "size": 16
          },
          "showarrow": false,
          "text": "Topic 39",
          "x": 0.9125,
          "xanchor": "center",
          "xref": "paper",
          "y": 0.064,
          "yanchor": "bottom",
          "yref": "paper"
         }
        ],
        "height": 2500,
        "hoverlabel": {
         "bgcolor": "white",
         "font": {
          "family": "Rockwell",
          "size": 16
         }
        },
        "showlegend": false,
        "template": {
         "data": {
          "bar": [
           {
            "error_x": {
             "color": "#2a3f5f"
            },
            "error_y": {
             "color": "#2a3f5f"
            },
            "marker": {
             "line": {
              "color": "white",
              "width": 0.5
             },
             "pattern": {
              "fillmode": "overlay",
              "size": 10,
              "solidity": 0.2
             }
            },
            "type": "bar"
           }
          ],
          "barpolar": [
           {
            "marker": {
             "line": {
              "color": "white",
              "width": 0.5
             },
             "pattern": {
              "fillmode": "overlay",
              "size": 10,
              "solidity": 0.2
             }
            },
            "type": "barpolar"
           }
          ],
          "carpet": [
           {
            "aaxis": {
             "endlinecolor": "#2a3f5f",
             "gridcolor": "#C8D4E3",
             "linecolor": "#C8D4E3",
             "minorgridcolor": "#C8D4E3",
             "startlinecolor": "#2a3f5f"
            },
            "baxis": {
             "endlinecolor": "#2a3f5f",
             "gridcolor": "#C8D4E3",
             "linecolor": "#C8D4E3",
             "minorgridcolor": "#C8D4E3",
             "startlinecolor": "#2a3f5f"
            },
            "type": "carpet"
           }
          ],
          "choropleth": [
           {
            "colorbar": {
             "outlinewidth": 0,
             "ticks": ""
            },
            "type": "choropleth"
           }
          ],
          "contour": [
           {
            "colorbar": {
             "outlinewidth": 0,
             "ticks": ""
            },
            "colorscale": [
             [
              0,
              "#0d0887"
             ],
             [
              0.1111111111111111,
              "#46039f"
             ],
             [
              0.2222222222222222,
              "#7201a8"
             ],
             [
              0.3333333333333333,
              "#9c179e"
             ],
             [
              0.4444444444444444,
              "#bd3786"
             ],
             [
              0.5555555555555556,
              "#d8576b"
             ],
             [
              0.6666666666666666,
              "#ed7953"
             ],
             [
              0.7777777777777778,
              "#fb9f3a"
             ],
             [
              0.8888888888888888,
              "#fdca26"
             ],
             [
              1,
              "#f0f921"
             ]
            ],
            "type": "contour"
           }
          ],
          "contourcarpet": [
           {
            "colorbar": {
             "outlinewidth": 0,
             "ticks": ""
            },
            "type": "contourcarpet"
           }
          ],
          "heatmap": [
           {
            "colorbar": {
             "outlinewidth": 0,
             "ticks": ""
            },
            "colorscale": [
             [
              0,
              "#0d0887"
             ],
             [
              0.1111111111111111,
              "#46039f"
             ],
             [
              0.2222222222222222,
              "#7201a8"
             ],
             [
              0.3333333333333333,
              "#9c179e"
             ],
             [
              0.4444444444444444,
              "#bd3786"
             ],
             [
              0.5555555555555556,
              "#d8576b"
             ],
             [
              0.6666666666666666,
              "#ed7953"
             ],
             [
              0.7777777777777778,
              "#fb9f3a"
             ],
             [
              0.8888888888888888,
              "#fdca26"
             ],
             [
              1,
              "#f0f921"
             ]
            ],
            "type": "heatmap"
           }
          ],
          "heatmapgl": [
           {
            "colorbar": {
             "outlinewidth": 0,
             "ticks": ""
            },
            "colorscale": [
             [
              0,
              "#0d0887"
             ],
             [
              0.1111111111111111,
              "#46039f"
             ],
             [
              0.2222222222222222,
              "#7201a8"
             ],
             [
              0.3333333333333333,
              "#9c179e"
             ],
             [
              0.4444444444444444,
              "#bd3786"
             ],
             [
              0.5555555555555556,
              "#d8576b"
             ],
             [
              0.6666666666666666,
              "#ed7953"
             ],
             [
              0.7777777777777778,
              "#fb9f3a"
             ],
             [
              0.8888888888888888,
              "#fdca26"
             ],
             [
              1,
              "#f0f921"
             ]
            ],
            "type": "heatmapgl"
           }
          ],
          "histogram": [
           {
            "marker": {
             "pattern": {
              "fillmode": "overlay",
              "size": 10,
              "solidity": 0.2
             }
            },
            "type": "histogram"
           }
          ],
          "histogram2d": [
           {
            "colorbar": {
             "outlinewidth": 0,
             "ticks": ""
            },
            "colorscale": [
             [
              0,
              "#0d0887"
             ],
             [
              0.1111111111111111,
              "#46039f"
             ],
             [
              0.2222222222222222,
              "#7201a8"
             ],
             [
              0.3333333333333333,
              "#9c179e"
             ],
             [
              0.4444444444444444,
              "#bd3786"
             ],
             [
              0.5555555555555556,
              "#d8576b"
             ],
             [
              0.6666666666666666,
              "#ed7953"
             ],
             [
              0.7777777777777778,
              "#fb9f3a"
             ],
             [
              0.8888888888888888,
              "#fdca26"
             ],
             [
              1,
              "#f0f921"
             ]
            ],
            "type": "histogram2d"
           }
          ],
          "histogram2dcontour": [
           {
            "colorbar": {
             "outlinewidth": 0,
             "ticks": ""
            },
            "colorscale": [
             [
              0,
              "#0d0887"
             ],
             [
              0.1111111111111111,
              "#46039f"
             ],
             [
              0.2222222222222222,
              "#7201a8"
             ],
             [
              0.3333333333333333,
              "#9c179e"
             ],
             [
              0.4444444444444444,
              "#bd3786"
             ],
             [
              0.5555555555555556,
              "#d8576b"
             ],
             [
              0.6666666666666666,
              "#ed7953"
             ],
             [
              0.7777777777777778,
              "#fb9f3a"
             ],
             [
              0.8888888888888888,
              "#fdca26"
             ],
             [
              1,
              "#f0f921"
             ]
            ],
            "type": "histogram2dcontour"
           }
          ],
          "mesh3d": [
           {
            "colorbar": {
             "outlinewidth": 0,
             "ticks": ""
            },
            "type": "mesh3d"
           }
          ],
          "parcoords": [
           {
            "line": {
             "colorbar": {
              "outlinewidth": 0,
              "ticks": ""
             }
            },
            "type": "parcoords"
           }
          ],
          "pie": [
           {
            "automargin": true,
            "type": "pie"
           }
          ],
          "scatter": [
           {
            "fillpattern": {
             "fillmode": "overlay",
             "size": 10,
             "solidity": 0.2
            },
            "type": "scatter"
           }
          ],
          "scatter3d": [
           {
            "line": {
             "colorbar": {
              "outlinewidth": 0,
              "ticks": ""
             }
            },
            "marker": {
             "colorbar": {
              "outlinewidth": 0,
              "ticks": ""
             }
            },
            "type": "scatter3d"
           }
          ],
          "scattercarpet": [
           {
            "marker": {
             "colorbar": {
              "outlinewidth": 0,
              "ticks": ""
             }
            },
            "type": "scattercarpet"
           }
          ],
          "scattergeo": [
           {
            "marker": {
             "colorbar": {
              "outlinewidth": 0,
              "ticks": ""
             }
            },
            "type": "scattergeo"
           }
          ],
          "scattergl": [
           {
            "marker": {
             "colorbar": {
              "outlinewidth": 0,
              "ticks": ""
             }
            },
            "type": "scattergl"
           }
          ],
          "scattermapbox": [
           {
            "marker": {
             "colorbar": {
              "outlinewidth": 0,
              "ticks": ""
             }
            },
            "type": "scattermapbox"
           }
          ],
          "scatterpolar": [
           {
            "marker": {
             "colorbar": {
              "outlinewidth": 0,
              "ticks": ""
             }
            },
            "type": "scatterpolar"
           }
          ],
          "scatterpolargl": [
           {
            "marker": {
             "colorbar": {
              "outlinewidth": 0,
              "ticks": ""
             }
            },
            "type": "scatterpolargl"
           }
          ],
          "scatterternary": [
           {
            "marker": {
             "colorbar": {
              "outlinewidth": 0,
              "ticks": ""
             }
            },
            "type": "scatterternary"
           }
          ],
          "surface": [
           {
            "colorbar": {
             "outlinewidth": 0,
             "ticks": ""
            },
            "colorscale": [
             [
              0,
              "#0d0887"
             ],
             [
              0.1111111111111111,
              "#46039f"
             ],
             [
              0.2222222222222222,
              "#7201a8"
             ],
             [
              0.3333333333333333,
              "#9c179e"
             ],
             [
              0.4444444444444444,
              "#bd3786"
             ],
             [
              0.5555555555555556,
              "#d8576b"
             ],
             [
              0.6666666666666666,
              "#ed7953"
             ],
             [
              0.7777777777777778,
              "#fb9f3a"
             ],
             [
              0.8888888888888888,
              "#fdca26"
             ],
             [
              1,
              "#f0f921"
             ]
            ],
            "type": "surface"
           }
          ],
          "table": [
           {
            "cells": {
             "fill": {
              "color": "#EBF0F8"
             },
             "line": {
              "color": "white"
             }
            },
            "header": {
             "fill": {
              "color": "#C8D4E3"
             },
             "line": {
              "color": "white"
             }
            },
            "type": "table"
           }
          ]
         },
         "layout": {
          "annotationdefaults": {
           "arrowcolor": "#2a3f5f",
           "arrowhead": 0,
           "arrowwidth": 1
          },
          "autotypenumbers": "strict",
          "coloraxis": {
           "colorbar": {
            "outlinewidth": 0,
            "ticks": ""
           }
          },
          "colorscale": {
           "diverging": [
            [
             0,
             "#8e0152"
            ],
            [
             0.1,
             "#c51b7d"
            ],
            [
             0.2,
             "#de77ae"
            ],
            [
             0.3,
             "#f1b6da"
            ],
            [
             0.4,
             "#fde0ef"
            ],
            [
             0.5,
             "#f7f7f7"
            ],
            [
             0.6,
             "#e6f5d0"
            ],
            [
             0.7,
             "#b8e186"
            ],
            [
             0.8,
             "#7fbc41"
            ],
            [
             0.9,
             "#4d9221"
            ],
            [
             1,
             "#276419"
            ]
           ],
           "sequential": [
            [
             0,
             "#0d0887"
            ],
            [
             0.1111111111111111,
             "#46039f"
            ],
            [
             0.2222222222222222,
             "#7201a8"
            ],
            [
             0.3333333333333333,
             "#9c179e"
            ],
            [
             0.4444444444444444,
             "#bd3786"
            ],
            [
             0.5555555555555556,
             "#d8576b"
            ],
            [
             0.6666666666666666,
             "#ed7953"
            ],
            [
             0.7777777777777778,
             "#fb9f3a"
            ],
            [
             0.8888888888888888,
             "#fdca26"
            ],
            [
             1,
             "#f0f921"
            ]
           ],
           "sequentialminus": [
            [
             0,
             "#0d0887"
            ],
            [
             0.1111111111111111,
             "#46039f"
            ],
            [
             0.2222222222222222,
             "#7201a8"
            ],
            [
             0.3333333333333333,
             "#9c179e"
            ],
            [
             0.4444444444444444,
             "#bd3786"
            ],
            [
             0.5555555555555556,
             "#d8576b"
            ],
            [
             0.6666666666666666,
             "#ed7953"
            ],
            [
             0.7777777777777778,
             "#fb9f3a"
            ],
            [
             0.8888888888888888,
             "#fdca26"
            ],
            [
             1,
             "#f0f921"
            ]
           ]
          },
          "colorway": [
           "#636efa",
           "#EF553B",
           "#00cc96",
           "#ab63fa",
           "#FFA15A",
           "#19d3f3",
           "#FF6692",
           "#B6E880",
           "#FF97FF",
           "#FECB52"
          ],
          "font": {
           "color": "#2a3f5f"
          },
          "geo": {
           "bgcolor": "white",
           "lakecolor": "white",
           "landcolor": "white",
           "showlakes": true,
           "showland": true,
           "subunitcolor": "#C8D4E3"
          },
          "hoverlabel": {
           "align": "left"
          },
          "hovermode": "closest",
          "mapbox": {
           "style": "light"
          },
          "paper_bgcolor": "white",
          "plot_bgcolor": "white",
          "polar": {
           "angularaxis": {
            "gridcolor": "#EBF0F8",
            "linecolor": "#EBF0F8",
            "ticks": ""
           },
           "bgcolor": "white",
           "radialaxis": {
            "gridcolor": "#EBF0F8",
            "linecolor": "#EBF0F8",
            "ticks": ""
           }
          },
          "scene": {
           "xaxis": {
            "backgroundcolor": "white",
            "gridcolor": "#DFE8F3",
            "gridwidth": 2,
            "linecolor": "#EBF0F8",
            "showbackground": true,
            "ticks": "",
            "zerolinecolor": "#EBF0F8"
           },
           "yaxis": {
            "backgroundcolor": "white",
            "gridcolor": "#DFE8F3",
            "gridwidth": 2,
            "linecolor": "#EBF0F8",
            "showbackground": true,
            "ticks": "",
            "zerolinecolor": "#EBF0F8"
           },
           "zaxis": {
            "backgroundcolor": "white",
            "gridcolor": "#DFE8F3",
            "gridwidth": 2,
            "linecolor": "#EBF0F8",
            "showbackground": true,
            "ticks": "",
            "zerolinecolor": "#EBF0F8"
           }
          },
          "shapedefaults": {
           "line": {
            "color": "#2a3f5f"
           }
          },
          "ternary": {
           "aaxis": {
            "gridcolor": "#DFE8F3",
            "linecolor": "#A2B1C6",
            "ticks": ""
           },
           "baxis": {
            "gridcolor": "#DFE8F3",
            "linecolor": "#A2B1C6",
            "ticks": ""
           },
           "bgcolor": "white",
           "caxis": {
            "gridcolor": "#DFE8F3",
            "linecolor": "#A2B1C6",
            "ticks": ""
           }
          },
          "title": {
           "x": 0.05
          },
          "xaxis": {
           "automargin": true,
           "gridcolor": "#EBF0F8",
           "linecolor": "#EBF0F8",
           "ticks": "",
           "title": {
            "standoff": 15
           },
           "zerolinecolor": "#EBF0F8",
           "zerolinewidth": 2
          },
          "yaxis": {
           "automargin": true,
           "gridcolor": "#EBF0F8",
           "linecolor": "#EBF0F8",
           "ticks": "",
           "title": {
            "standoff": 15
           },
           "zerolinecolor": "#EBF0F8",
           "zerolinewidth": 2
          }
         }
        },
        "title": {
         "font": {
          "color": "Black",
          "size": 22
         },
         "text": "Topic Word Scores",
         "x": 0.5,
         "xanchor": "center",
         "yanchor": "top"
        },
        "width": 1000,
        "xaxis": {
         "anchor": "y",
         "domain": [
          0,
          0.175
         ],
         "showgrid": true
        },
        "xaxis10": {
         "anchor": "y10",
         "domain": [
          0.275,
          0.45
         ],
         "showgrid": true
        },
        "xaxis11": {
         "anchor": "y11",
         "domain": [
          0.55,
          0.7250000000000001
         ],
         "showgrid": true
        },
        "xaxis12": {
         "anchor": "y12",
         "domain": [
          0.825,
          1
         ],
         "showgrid": true
        },
        "xaxis13": {
         "anchor": "y13",
         "domain": [
          0,
          0.175
         ],
         "showgrid": true
        },
        "xaxis14": {
         "anchor": "y14",
         "domain": [
          0.275,
          0.45
         ],
         "showgrid": true
        },
        "xaxis15": {
         "anchor": "y15",
         "domain": [
          0.55,
          0.7250000000000001
         ],
         "showgrid": true
        },
        "xaxis16": {
         "anchor": "y16",
         "domain": [
          0.825,
          1
         ],
         "showgrid": true
        },
        "xaxis17": {
         "anchor": "y17",
         "domain": [
          0,
          0.175
         ],
         "showgrid": true
        },
        "xaxis18": {
         "anchor": "y18",
         "domain": [
          0.275,
          0.45
         ],
         "showgrid": true
        },
        "xaxis19": {
         "anchor": "y19",
         "domain": [
          0.55,
          0.7250000000000001
         ],
         "showgrid": true
        },
        "xaxis2": {
         "anchor": "y2",
         "domain": [
          0.275,
          0.45
         ],
         "showgrid": true
        },
        "xaxis20": {
         "anchor": "y20",
         "domain": [
          0.825,
          1
         ],
         "showgrid": true
        },
        "xaxis21": {
         "anchor": "y21",
         "domain": [
          0,
          0.175
         ],
         "showgrid": true
        },
        "xaxis22": {
         "anchor": "y22",
         "domain": [
          0.275,
          0.45
         ],
         "showgrid": true
        },
        "xaxis23": {
         "anchor": "y23",
         "domain": [
          0.55,
          0.7250000000000001
         ],
         "showgrid": true
        },
        "xaxis24": {
         "anchor": "y24",
         "domain": [
          0.825,
          1
         ],
         "showgrid": true
        },
        "xaxis25": {
         "anchor": "y25",
         "domain": [
          0,
          0.175
         ],
         "showgrid": true
        },
        "xaxis26": {
         "anchor": "y26",
         "domain": [
          0.275,
          0.45
         ],
         "showgrid": true
        },
        "xaxis27": {
         "anchor": "y27",
         "domain": [
          0.55,
          0.7250000000000001
         ],
         "showgrid": true
        },
        "xaxis28": {
         "anchor": "y28",
         "domain": [
          0.825,
          1
         ],
         "showgrid": true
        },
        "xaxis29": {
         "anchor": "y29",
         "domain": [
          0,
          0.175
         ],
         "showgrid": true
        },
        "xaxis3": {
         "anchor": "y3",
         "domain": [
          0.55,
          0.7250000000000001
         ],
         "showgrid": true
        },
        "xaxis30": {
         "anchor": "y30",
         "domain": [
          0.275,
          0.45
         ],
         "showgrid": true
        },
        "xaxis31": {
         "anchor": "y31",
         "domain": [
          0.55,
          0.7250000000000001
         ],
         "showgrid": true
        },
        "xaxis32": {
         "anchor": "y32",
         "domain": [
          0.825,
          1
         ],
         "showgrid": true
        },
        "xaxis33": {
         "anchor": "y33",
         "domain": [
          0,
          0.175
         ],
         "showgrid": true
        },
        "xaxis34": {
         "anchor": "y34",
         "domain": [
          0.275,
          0.45
         ],
         "showgrid": true
        },
        "xaxis35": {
         "anchor": "y35",
         "domain": [
          0.55,
          0.7250000000000001
         ],
         "showgrid": true
        },
        "xaxis36": {
         "anchor": "y36",
         "domain": [
          0.825,
          1
         ],
         "showgrid": true
        },
        "xaxis37": {
         "anchor": "y37",
         "domain": [
          0,
          0.175
         ],
         "showgrid": true
        },
        "xaxis38": {
         "anchor": "y38",
         "domain": [
          0.275,
          0.45
         ],
         "showgrid": true
        },
        "xaxis39": {
         "anchor": "y39",
         "domain": [
          0.55,
          0.7250000000000001
         ],
         "showgrid": true
        },
        "xaxis4": {
         "anchor": "y4",
         "domain": [
          0.825,
          1
         ],
         "showgrid": true
        },
        "xaxis40": {
         "anchor": "y40",
         "domain": [
          0.825,
          1
         ],
         "showgrid": true
        },
        "xaxis5": {
         "anchor": "y5",
         "domain": [
          0,
          0.175
         ],
         "showgrid": true
        },
        "xaxis6": {
         "anchor": "y6",
         "domain": [
          0.275,
          0.45
         ],
         "showgrid": true
        },
        "xaxis7": {
         "anchor": "y7",
         "domain": [
          0.55,
          0.7250000000000001
         ],
         "showgrid": true
        },
        "xaxis8": {
         "anchor": "y8",
         "domain": [
          0.825,
          1
         ],
         "showgrid": true
        },
        "xaxis9": {
         "anchor": "y9",
         "domain": [
          0,
          0.175
         ],
         "showgrid": true
        },
        "yaxis": {
         "anchor": "x",
         "domain": [
          0.936,
          1
         ],
         "showgrid": true
        },
        "yaxis10": {
         "anchor": "x10",
         "domain": [
          0.728,
          0.792
         ],
         "showgrid": true
        },
        "yaxis11": {
         "anchor": "x11",
         "domain": [
          0.728,
          0.792
         ],
         "showgrid": true
        },
        "yaxis12": {
         "anchor": "x12",
         "domain": [
          0.728,
          0.792
         ],
         "showgrid": true
        },
        "yaxis13": {
         "anchor": "x13",
         "domain": [
          0.624,
          0.688
         ],
         "showgrid": true
        },
        "yaxis14": {
         "anchor": "x14",
         "domain": [
          0.624,
          0.688
         ],
         "showgrid": true
        },
        "yaxis15": {
         "anchor": "x15",
         "domain": [
          0.624,
          0.688
         ],
         "showgrid": true
        },
        "yaxis16": {
         "anchor": "x16",
         "domain": [
          0.624,
          0.688
         ],
         "showgrid": true
        },
        "yaxis17": {
         "anchor": "x17",
         "domain": [
          0.52,
          0.5840000000000001
         ],
         "showgrid": true
        },
        "yaxis18": {
         "anchor": "x18",
         "domain": [
          0.52,
          0.5840000000000001
         ],
         "showgrid": true
        },
        "yaxis19": {
         "anchor": "x19",
         "domain": [
          0.52,
          0.5840000000000001
         ],
         "showgrid": true
        },
        "yaxis2": {
         "anchor": "x2",
         "domain": [
          0.936,
          1
         ],
         "showgrid": true
        },
        "yaxis20": {
         "anchor": "x20",
         "domain": [
          0.52,
          0.5840000000000001
         ],
         "showgrid": true
        },
        "yaxis21": {
         "anchor": "x21",
         "domain": [
          0.41600000000000004,
          0.48000000000000004
         ],
         "showgrid": true
        },
        "yaxis22": {
         "anchor": "x22",
         "domain": [
          0.41600000000000004,
          0.48000000000000004
         ],
         "showgrid": true
        },
        "yaxis23": {
         "anchor": "x23",
         "domain": [
          0.41600000000000004,
          0.48000000000000004
         ],
         "showgrid": true
        },
        "yaxis24": {
         "anchor": "x24",
         "domain": [
          0.41600000000000004,
          0.48000000000000004
         ],
         "showgrid": true
        },
        "yaxis25": {
         "anchor": "x25",
         "domain": [
          0.312,
          0.376
         ],
         "showgrid": true
        },
        "yaxis26": {
         "anchor": "x26",
         "domain": [
          0.312,
          0.376
         ],
         "showgrid": true
        },
        "yaxis27": {
         "anchor": "x27",
         "domain": [
          0.312,
          0.376
         ],
         "showgrid": true
        },
        "yaxis28": {
         "anchor": "x28",
         "domain": [
          0.312,
          0.376
         ],
         "showgrid": true
        },
        "yaxis29": {
         "anchor": "x29",
         "domain": [
          0.20800000000000002,
          0.272
         ],
         "showgrid": true
        },
        "yaxis3": {
         "anchor": "x3",
         "domain": [
          0.936,
          1
         ],
         "showgrid": true
        },
        "yaxis30": {
         "anchor": "x30",
         "domain": [
          0.20800000000000002,
          0.272
         ],
         "showgrid": true
        },
        "yaxis31": {
         "anchor": "x31",
         "domain": [
          0.20800000000000002,
          0.272
         ],
         "showgrid": true
        },
        "yaxis32": {
         "anchor": "x32",
         "domain": [
          0.20800000000000002,
          0.272
         ],
         "showgrid": true
        },
        "yaxis33": {
         "anchor": "x33",
         "domain": [
          0.10400000000000001,
          0.168
         ],
         "showgrid": true
        },
        "yaxis34": {
         "anchor": "x34",
         "domain": [
          0.10400000000000001,
          0.168
         ],
         "showgrid": true
        },
        "yaxis35": {
         "anchor": "x35",
         "domain": [
          0.10400000000000001,
          0.168
         ],
         "showgrid": true
        },
        "yaxis36": {
         "anchor": "x36",
         "domain": [
          0.10400000000000001,
          0.168
         ],
         "showgrid": true
        },
        "yaxis37": {
         "anchor": "x37",
         "domain": [
          0,
          0.064
         ],
         "showgrid": true
        },
        "yaxis38": {
         "anchor": "x38",
         "domain": [
          0,
          0.064
         ],
         "showgrid": true
        },
        "yaxis39": {
         "anchor": "x39",
         "domain": [
          0,
          0.064
         ],
         "showgrid": true
        },
        "yaxis4": {
         "anchor": "x4",
         "domain": [
          0.936,
          1
         ],
         "showgrid": true
        },
        "yaxis40": {
         "anchor": "x40",
         "domain": [
          0,
          0.064
         ],
         "showgrid": true
        },
        "yaxis5": {
         "anchor": "x5",
         "domain": [
          0.8320000000000001,
          0.8960000000000001
         ],
         "showgrid": true
        },
        "yaxis6": {
         "anchor": "x6",
         "domain": [
          0.8320000000000001,
          0.8960000000000001
         ],
         "showgrid": true
        },
        "yaxis7": {
         "anchor": "x7",
         "domain": [
          0.8320000000000001,
          0.8960000000000001
         ],
         "showgrid": true
        },
        "yaxis8": {
         "anchor": "x8",
         "domain": [
          0.8320000000000001,
          0.8960000000000001
         ],
         "showgrid": true
        },
        "yaxis9": {
         "anchor": "x9",
         "domain": [
          0.728,
          0.792
         ],
         "showgrid": true
        }
       }
      }
     },
     "metadata": {},
     "output_type": "display_data"
    }
   ],
   "source": [
    "model.visualize_barchart(top_n_topics=43)"
   ]
  },
  {
   "cell_type": "markdown",
   "metadata": {},
   "source": [
    "## Visualisation of word distribution"
   ]
  },
  {
   "cell_type": "code",
   "execution_count": 24,
   "metadata": {},
   "outputs": [
    {
     "data": {
      "application/vnd.plotly.v1+json": {
       "config": {
        "plotlyServerURL": "https://plot.ly"
       },
       "data": [
        {
         "hovertext": "<b>Topic -1</b>:trump_biden_wa_president_joe_ha_ju",
         "line": {
          "color": "black",
          "width": 1.5
         },
         "mode": "lines+lines",
         "name": "",
         "opacity": 0.1,
         "type": "scatter",
         "x": [
          1,
          2,
          3,
          4,
          5,
          6,
          7,
          8,
          9,
          10
         ],
         "y": [
          0.016634204835660072,
          0.016195427945875387,
          0.009711089738648959,
          0.009388955394757651,
          0.007574328006963057,
          0.0075708101149904745,
          0.0072999795153540405,
          0.007264167325183501,
          0.006929644931571948,
          0.006730954954161227
         ]
        },
        {
         "hovertext": "<b>Topic 0</b>:capitol_trump_terrorist_riot_people",
         "line": {
          "color": "black",
          "width": 1.5
         },
         "mode": "lines+lines",
         "name": "",
         "opacity": 0.1,
         "type": "scatter",
         "x": [
          1,
          2,
          3,
          4,
          5,
          6,
          7,
          8,
          9,
          10
         ],
         "y": [
          0.023292626708774015,
          0.022056637331010896,
          0.014830430755614197,
          0.014830430755614197,
          0.010617910722203415,
          0.010350101218409397,
          0.009953581507619285,
          0.009225059115105159,
          0.008824291093542908,
          0.008824291093542908
         ]
        },
        {
         "hovertext": "<b>Topic 1</b>:face_with_tears_of_joy_rolling_on_t",
         "line": {
          "color": "black",
          "width": 1.5
         },
         "mode": "lines+lines",
         "name": "",
         "opacity": 0.1,
         "type": "scatter",
         "x": [
          1,
          2,
          3,
          4,
          5,
          6,
          7,
          8,
          9,
          10
         ],
         "y": [
          0.08739786141649737,
          0.07293626399652338,
          0.050954255583136196,
          0.03631776160886314,
          0.02642308840549169,
          0.021286351299335038,
          0.01986219366627853,
          0.017531586472922564,
          0.017531586472922564,
          0.016199419085218426
         ]
        },
        {
         "hovertext": "<b>Topic 2</b>:vote_ballot_state_election_trump_ma",
         "line": {
          "color": "black",
          "width": 1.5
         },
         "mode": "lines+lines",
         "name": "",
         "opacity": 0.1,
         "type": "scatter",
         "x": [
          1,
          2,
          3,
          4,
          5,
          6,
          7,
          8,
          9,
          10
         ],
         "y": [
          0.03771580193739442,
          0.028006634850532286,
          0.023987246014925565,
          0.023732904980616157,
          0.0207191433461602,
          0.020109457589722265,
          0.019184536982453475,
          0.018931753943518242,
          0.0183642426595803,
          0.015649915816336263
         ]
        },
        {
         "hovertext": "<b>Topic 3</b>:biden_vote biden_manifest_vote_45 e",
         "line": {
          "color": "black",
          "width": 1.5
         },
         "mode": "lines+lines",
         "name": "",
         "opacity": 0.1,
         "type": "scatter",
         "x": [
          1,
          2,
          3,
          4,
          5,
          6,
          7,
          8,
          9,
          10
         ],
         "y": [
          0.05877149066432012,
          0.02758975747767323,
          0.02688283482796087,
          0.0261677747887781,
          0.023728433593105485,
          0.023728433593105485,
          0.023728433593105485,
          0.021034928280781753,
          0.020649308800184608,
          0.018857242462522048
         ]
        },
        {
         "hovertext": "<b>Topic 4</b>:biden_plan_policy_tax_student_debt_",
         "line": {
          "color": "black",
          "width": 1.5
         },
         "mode": "lines+lines",
         "name": "",
         "opacity": 0.1,
         "type": "scatter",
         "x": [
          1,
          2,
          3,
          4,
          5,
          6,
          7,
          8,
          9,
          10
         ],
         "y": [
          0.03136501100985594,
          0.019357564587690366,
          0.01518079394874257,
          0.01504732804633337,
          0.014625771947212013,
          0.014202931803756806,
          0.01395699521828548,
          0.01383695487262803,
          0.012591528438497245,
          0.012307277004975688
         ]
        },
        {
         "hovertext": "<b>Topic 5</b>:supporter_trump supporter_support_t",
         "line": {
          "color": "black",
          "width": 1.5
         },
         "mode": "lines+lines",
         "name": "",
         "opacity": 0.1,
         "type": "scatter",
         "x": [
          1,
          2,
          3,
          4,
          5,
          6,
          7,
          8,
          9,
          10
         ],
         "y": [
          0.05517807029981938,
          0.04637026152353053,
          0.027033687276397756,
          0.026397354170672276,
          0.017004764618114062,
          0.015370320736287028,
          0.015247914350976218,
          0.014855010619733306,
          0.014199231815238316,
          0.013901486481085997
         ]
        },
        {
         "hovertext": "<b>Topic 6</b>:money_trump_economy_tax_year_like_e",
         "line": {
          "color": "black",
          "width": 1.5
         },
         "mode": "lines+lines",
         "name": "",
         "opacity": 0.1,
         "type": "scatter",
         "x": [
          1,
          2,
          3,
          4,
          5,
          6,
          7,
          8,
          9,
          10
         ],
         "y": [
          0.04386924746680812,
          0.022779661416692985,
          0.021831897858557187,
          0.014521365728177287,
          0.013774393935896714,
          0.013263855914301915,
          0.012762160597529956,
          0.012762160597529956,
          0.012151405815647002,
          0.012151405815647002
         ]
        },
        {
         "hovertext": "<b>Topic 7</b>:trump_world_real_trump trump_countr",
         "line": {
          "color": "black",
          "width": 1.5
         },
         "mode": "lines+lines",
         "name": "",
         "opacity": 0.1,
         "type": "scatter",
         "x": [
          1,
          2,
          3,
          4,
          5,
          6,
          7,
          8,
          9,
          10
         ],
         "y": [
          0.05304815149835844,
          0.045598299548635625,
          0.0373386908894453,
          0.03126503511946998,
          0.025235989097711926,
          0.024316273538769043,
          0.024316273538769043,
          0.024316273538769043,
          0.022886426966477923,
          0.02225069749894789
         ]
        },
        {
         "hovertext": "<b>Topic 8</b>:trump_think_term_crazy_office_like ",
         "line": {
          "color": "black",
          "width": 1.5
         },
         "mode": "lines+lines",
         "name": "",
         "opacity": 0.1,
         "type": "scatter",
         "x": [
          1,
          2,
          3,
          4,
          5,
          6,
          7,
          8,
          9,
          10
         ],
         "y": [
          0.029448575138933838,
          0.024964765242177608,
          0.021592167588125943,
          0.018049013718924915,
          0.017877233061483953,
          0.017877233061483953,
          0.0175156050163249,
          0.016797009759129445,
          0.015153327723274261,
          0.015153327723274261
         ]
        },
        {
         "hovertext": "<b>Topic 9</b>:twitter_tweet_trump_medium_white_he",
         "line": {
          "color": "black",
          "width": 1.5
         },
         "mode": "lines+lines",
         "name": "",
         "opacity": 0.1,
         "type": "scatter",
         "x": [
          1,
          2,
          3,
          4,
          5,
          6,
          7,
          8,
          9,
          10
         ],
         "y": [
          0.04960258978941188,
          0.02705595806695193,
          0.027047277929480352,
          0.021819232146083938,
          0.019957696206348175,
          0.019002586897055078,
          0.018262364928381757,
          0.01714755739858674,
          0.01710728336725716,
          0.015653628648461895
         ]
        },
        {
         "hovertext": "<b>Topic 10</b>:harris_kamala_black_kamala harris_",
         "line": {
          "color": "black",
          "width": 1.5
         },
         "mode": "lines+lines",
         "name": "",
         "opacity": 0.1,
         "type": "scatter",
         "x": [
          1,
          2,
          3,
          4,
          5,
          6,
          7,
          8,
          9,
          10
         ],
         "y": [
          0.053906043047161956,
          0.04613685283775648,
          0.026978663587683752,
          0.026047020394075138,
          0.024551947221997678,
          0.02452544318500343,
          0.022362699480206423,
          0.022279875395377378,
          0.015100881549217831,
          0.013498269729673475
         ]
        },
        {
         "hovertext": "<b>Topic 11</b>:biden_joe biden_joe_thewayiseeit_t",
         "line": {
          "color": "black",
          "width": 1.5
         },
         "mode": "lines+lines",
         "name": "",
         "opacity": 0.1,
         "type": "scatter",
         "x": [
          1,
          2,
          3,
          4,
          5,
          6,
          7,
          8,
          9,
          10
         ],
         "y": [
          0.050300543972462475,
          0.04149605516724984,
          0.04090655862300665,
          0.03819907496801255,
          0.03292195038109637,
          0.030711771669424494,
          0.02491115175629889,
          0.024675113230332002,
          0.02246721792188967,
          0.021586895896662316
         ]
        },
        {
         "hovertext": "<b>Topic 12</b>:vaccine_vaccinated_biden_coronavir",
         "line": {
          "color": "black",
          "width": 1.5
         },
         "mode": "lines+lines",
         "name": "",
         "opacity": 0.1,
         "type": "scatter",
         "x": [
          1,
          2,
          3,
          4,
          5,
          6,
          7,
          8,
          9,
          10
         ],
         "y": [
          0.09635486642179078,
          0.02910705218473697,
          0.022996900729451833,
          0.01973862160474172,
          0.01973862160474172,
          0.01973862160474172,
          0.01959437383975493,
          0.019015294578644704,
          0.017360066088605634,
          0.015481799574384374
         ]
        },
        {
         "hovertext": "<b>Topic 13</b>:court_supreme court_supreme_lawyer",
         "line": {
          "color": "black",
          "width": 1.5
         },
         "mode": "lines+lines",
         "name": "",
         "opacity": 0.1,
         "type": "scatter",
         "x": [
          1,
          2,
          3,
          4,
          5,
          6,
          7,
          8,
          9,
          10
         ],
         "y": [
          0.06541926044450497,
          0.06297120530110716,
          0.06297120530110716,
          0.03431956533278068,
          0.03343824027779997,
          0.03163480351081289,
          0.027707750029460524,
          0.02323555254354614,
          0.02074954703716515,
          0.0207358076376964
         ]
        },
        {
         "hovertext": "<b>Topic 14</b>:party_gop_republicans_deep_trump_d",
         "line": {
          "color": "black",
          "width": 1.5
         },
         "mode": "lines+lines",
         "name": "",
         "opacity": 0.1,
         "type": "scatter",
         "x": [
          1,
          2,
          3,
          4,
          5,
          6,
          7,
          8,
          9,
          10
         ],
         "y": [
          0.06485039458938274,
          0.02998354225333286,
          0.019996889912694778,
          0.018915286849443633,
          0.01736644030823006,
          0.017203855991016676,
          0.014995207091590225,
          0.014995207091590225,
          0.013560199469170805,
          0.012856176130067105
         ]
        },
        {
         "hovertext": "<b>Topic 15</b>:border_immigration_biden_ha_biden ",
         "line": {
          "color": "black",
          "width": 1.5
         },
         "mode": "lines+lines",
         "name": "",
         "opacity": 0.1,
         "type": "scatter",
         "x": [
          1,
          2,
          3,
          4,
          5,
          6,
          7,
          8,
          9,
          10
         ],
         "y": [
          0.06210188561065075,
          0.04100304506571702,
          0.0265902678156502,
          0.022118165054167267,
          0.01686448469469422,
          0.01635309267852495,
          0.01624322882573738,
          0.015705740102840305,
          0.015690297807534146,
          0.01561206338274406
         ]
        },
        {
         "hovertext": "<b>Topic 16</b>:white_racist_black_supremacist_whi",
         "line": {
          "color": "black",
          "width": 1.5
         },
         "mode": "lines+lines",
         "name": "",
         "opacity": 0.1,
         "type": "scatter",
         "x": [
          1,
          2,
          3,
          4,
          5,
          6,
          7,
          8,
          9,
          10
         ],
         "y": [
          0.059321525541574646,
          0.05620755605647797,
          0.026897757017491676,
          0.02188562633288953,
          0.02188562633288953,
          0.02009355852457153,
          0.019609470318342103,
          0.019609470318342103,
          0.018671025947924347,
          0.017349961531272877
         ]
        },
        {
         "hovertext": "<b>Topic 17</b>:woodward_cnn_jack_film_video_trump",
         "line": {
          "color": "black",
          "width": 1.5
         },
         "mode": "lines+lines",
         "name": "",
         "opacity": 0.1,
         "type": "scatter",
         "x": [
          1,
          2,
          3,
          4,
          5,
          6,
          7,
          8,
          9,
          10
         ],
         "y": [
          0.039163369369142345,
          0.023834253337159553,
          0.020854741191979675,
          0.020854741191979675,
          0.020144831025389213,
          0.01958668066326646,
          0.01680806644061972,
          0.016219505537478345,
          0.016219505537478345,
          0.016219505537478345
         ]
        },
        {
         "hovertext": "<b>Topic 18</b>:concede_communist_loses_conceded_l",
         "line": {
          "color": "black",
          "width": 1.5
         },
         "mode": "lines+lines",
         "name": "",
         "opacity": 0.1,
         "type": "scatter",
         "x": [
          1,
          2,
          3,
          4,
          5,
          6,
          7,
          8,
          9,
          10
         ],
         "y": [
          0.05585664937139065,
          0.043533881447418,
          0.03812971066960902,
          0.03713954619142435,
          0.03351398962283439,
          0.030821663829395878,
          0.029654554813640623,
          0.027759630952430402,
          0.027759630952430402,
          0.027759630952430402
         ]
        },
        {
         "hovertext": "<b>Topic 19</b>:accept_biden_votes_won_lost_biden ",
         "line": {
          "color": "black",
          "width": 1.5
         },
         "mode": "lines+lines",
         "name": "",
         "opacity": 0.1,
         "type": "scatter",
         "x": [
          1,
          2,
          3,
          4,
          5,
          6,
          7,
          8,
          9,
          10
         ],
         "y": [
          0.03133415012147164,
          0.030945607923974328,
          0.03042826039611355,
          0.02674075289289412,
          0.025919693203458372,
          0.025587789307452476,
          0.021941341605343032,
          0.02171487861127876,
          0.021184819133757027,
          0.020100011306421774
         ]
        },
        {
         "hovertext": "<b>Topic 20</b>:putin_russia_moscow mitch_moscow_m",
         "line": {
          "color": "black",
          "width": 1.5
         },
         "mode": "lines+lines",
         "name": "",
         "opacity": 0.1,
         "type": "scatter",
         "x": [
          1,
          2,
          3,
          4,
          5,
          6,
          7,
          8,
          9,
          10
         ],
         "y": [
          0.08525386367089388,
          0.059465166707212386,
          0.031714081625960684,
          0.031714081625960684,
          0.02592764165755859,
          0.024418627073234177,
          0.023273737586301965,
          0.022569999769083623,
          0.022569999769083623,
          0.022569999769083623
         ]
        },
        {
         "hovertext": "<b>Topic 21</b>:christian_devil_god_satan_celebran",
         "line": {
          "color": "black",
          "width": 1.5
         },
         "mode": "lines+lines",
         "name": "",
         "opacity": 0.1,
         "type": "scatter",
         "x": [
          1,
          2,
          3,
          4,
          5,
          6,
          7,
          8,
          9,
          10
         ],
         "y": [
          0.06857330073095569,
          0.05200100469019476,
          0.050827091594580695,
          0.040961012031707766,
          0.029150774189226458,
          0.029150774189226458,
          0.029150774189226458,
          0.029150774189226458,
          0.02843277658223778,
          0.02730734135447184
         ]
        },
        {
         "hovertext": "<b>Topic 22</b>:lie_lied_trump lie_lying_doe lie_k",
         "line": {
          "color": "black",
          "width": 1.5
         },
         "mode": "lines+lines",
         "name": "",
         "opacity": 0.1,
         "type": "scatter",
         "x": [
          1,
          2,
          3,
          4,
          5,
          6,
          7,
          8,
          9,
          10
         ],
         "y": [
          0.10519095475945185,
          0.06357006612541574,
          0.0468786062691509,
          0.04630088930355877,
          0.03645923039621201,
          0.03645923039621201,
          0.03645923039621201,
          0.03645923039621201,
          0.03645923039621201,
          0.03645923039621201
         ]
        },
        {
         "hovertext": "<b>Topic 23</b>:china_hunter biden_hunter_biden_em",
         "line": {
          "color": "black",
          "width": 1.5
         },
         "mode": "lines+lines",
         "name": "",
         "opacity": 0.1,
         "type": "scatter",
         "x": [
          1,
          2,
          3,
          4,
          5,
          6,
          7,
          8,
          9,
          10
         ],
         "y": [
          0.09680004063549941,
          0.05571203245987482,
          0.052347440120932974,
          0.04807843158813682,
          0.03626949279625247,
          0.03083660209414558,
          0.03083660209414558,
          0.03083660209414558,
          0.02750414585421145,
          0.02750414585421145
         ]
        },
        {
         "hovertext": "<b>Topic 24</b>:gun_atf_biden_end_waco_severe_kore",
         "line": {
          "color": "black",
          "width": 1.5
         },
         "mode": "lines+lines",
         "name": "",
         "opacity": 0.1,
         "type": "scatter",
         "x": [
          1,
          2,
          3,
          4,
          5,
          6,
          7,
          8,
          9,
          10
         ],
         "y": [
          0.06874737624034305,
          0.036180853685955146,
          0.028102181843770113,
          0.026141247526879262,
          0.025748872975996814,
          0.025748872975996814,
          0.025748872975996814,
          0.025748872975996814,
          0.0241205691239701,
          0.0241205691239701
         ]
        },
        {
         "hovertext": "<b>Topic 25</b>:fact_biden_lie_dog_ample_dude_chea",
         "line": {
          "color": "black",
          "width": 1.5
         },
         "mode": "lines+lines",
         "name": "",
         "opacity": 0.1,
         "type": "scatter",
         "x": [
          1,
          2,
          3,
          4,
          5,
          6,
          7,
          8,
          9,
          10
         ],
         "y": [
          0.04137370894914674,
          0.04028424404445431,
          0.03654198844078345,
          0.03491917534402784,
          0.028474876139223608,
          0.026056042439385533,
          0.02519384754422364,
          0.02519384754422364,
          0.023835058607196792,
          0.022539221197225272
         ]
        },
        {
         "hovertext": "<b>Topic 26</b>:said_trump wa_mean trump_year trum",
         "line": {
          "color": "black",
          "width": 1.5
         },
         "mode": "lines+lines",
         "name": "",
         "opacity": 0.1,
         "type": "scatter",
         "x": [
          1,
          2,
          3,
          4,
          5,
          6,
          7,
          8,
          9,
          10
         ],
         "y": [
          0.03766137212962639,
          0.03652693836102598,
          0.03596588153108626,
          0.03477576988891197,
          0.033129400723378694,
          0.030406406494347015,
          0.029263073062322523,
          0.028816060030638944,
          0.028816060030638944,
          0.026342306140152295
         ]
        },
        {
         "hovertext": "<b>Topic 27</b>:impeached_impeachment_trump impeac",
         "line": {
          "color": "black",
          "width": 1.5
         },
         "mode": "lines+lines",
         "name": "",
         "opacity": 0.1,
         "type": "scatter",
         "x": [
          1,
          2,
          3,
          4,
          5,
          6,
          7,
          8,
          9,
          10
         ],
         "y": [
          0.09812359172576454,
          0.06385698951889766,
          0.039513936614134666,
          0.03942113123759258,
          0.035381056117641904,
          0.03424004073148991,
          0.032729385854400043,
          0.03245604434939399,
          0.030659649244534883,
          0.02919237987083824
         ]
        },
        {
         "hovertext": "<b>Topic 28</b>:awful_ve_trump president_worse_tru",
         "line": {
          "color": "black",
          "width": 1.5
         },
         "mode": "lines+lines",
         "name": "",
         "opacity": 0.1,
         "type": "scatter",
         "x": [
          1,
          2,
          3,
          4,
          5,
          6,
          7,
          8,
          9,
          10
         ],
         "y": [
          0.06242531643448983,
          0.04923048257293389,
          0.04425270781934159,
          0.043537742848821316,
          0.043491250590949077,
          0.03458980401014626,
          0.03458980401014626,
          0.03458980401014626,
          0.03458980401014626,
          0.03458980401014626
         ]
        },
        {
         "hovertext": "<b>Topic 29</b>:biden_money mouth_face_mouth_face_",
         "line": {
          "color": "black",
          "width": 1.5
         },
         "mode": "lines+lines",
         "name": "",
         "opacity": 0.1,
         "type": "scatter",
         "x": [
          1,
          2,
          3,
          4,
          5,
          6,
          7,
          8,
          9,
          10
         ],
         "y": [
          0.04357453253706423,
          0.041337665015907375,
          0.041337665015907375,
          0.03947111729293271,
          0.03329377417653208,
          0.030306545894292682,
          0.029418827285219346,
          0.029418827285219346,
          0.029418827285219346,
          0.029418827285219346
         ]
        },
        {
         "hovertext": "<b>Topic 30</b>:debate_final_biden_trump biden_bid",
         "line": {
          "color": "black",
          "width": 1.5
         },
         "mode": "lines+lines",
         "name": "",
         "opacity": 0.1,
         "type": "scatter",
         "x": [
          1,
          2,
          3,
          4,
          5,
          6,
          7,
          8,
          9,
          10
         ],
         "y": [
          0.07767848013921018,
          0.04013823869451939,
          0.03724475833694332,
          0.036287220411860104,
          0.03412583965085444,
          0.03292020376601821,
          0.03292020376601821,
          0.03196779427896837,
          0.03028903407374626,
          0.026758825796346263
         ]
        },
        {
         "hovertext": "<b>Topic 31</b>:care_miss trump_mrs_kevin sorbo_so",
         "line": {
          "color": "black",
          "width": 1.5
         },
         "mode": "lines+lines",
         "name": "",
         "opacity": 0.1,
         "type": "scatter",
         "x": [
          1,
          2,
          3,
          4,
          5,
          6,
          7,
          8,
          9,
          10
         ],
         "y": [
          0.04105042416023141,
          0.03797385717825049,
          0.03797385717825049,
          0.03797385717825049,
          0.03797385717825049,
          0.035572471378674,
          0.03527480265536918,
          0.03255072364089409,
          0.030563697756927112,
          0.029776141464777
         ]
        },
        {
         "hovertext": "<b>Topic 32</b>:united_states united_states_united",
         "line": {
          "color": "black",
          "width": 1.5
         },
         "mode": "lines+lines",
         "name": "",
         "opacity": 0.1,
         "type": "scatter",
         "x": [
          1,
          2,
          3,
          4,
          5,
          6,
          7,
          8,
          9,
          10
         ],
         "y": [
          0.7681829703313806,
          0.7436656138879596,
          0.09350082340823637,
          0.06964821502845275,
          0.06964821502845275,
          0.062226339978140616,
          0.05860470497576203,
          0.05708534692672924,
          0.04062599958435052,
          0.03805689795115282
         ]
        },
        {
         "hovertext": "<b>Topic 33</b>:virus_infected_country_tested_viru",
         "line": {
          "color": "black",
          "width": 1.5
         },
         "mode": "lines+lines",
         "name": "",
         "opacity": 0.1,
         "type": "scatter",
         "x": [
          1,
          2,
          3,
          4,
          5,
          6,
          7,
          8,
          9,
          10
         ],
         "y": [
          0.11696506458905317,
          0.03917924666875658,
          0.0355873644884782,
          0.02928418734341056,
          0.02928418734341056,
          0.02928418734341056,
          0.02928418734341056,
          0.027578043613546165,
          0.02743231774511016,
          0.025102045462199792
         ]
        },
        {
         "hovertext": "<b>Topic 34</b>:pardon_trump pardon_prison_pardon ",
         "line": {
          "color": "black",
          "width": 1.5
         },
         "mode": "lines+lines",
         "name": "",
         "opacity": 0.1,
         "type": "scatter",
         "x": [
          1,
          2,
          3,
          4,
          5,
          6,
          7,
          8,
          9,
          10
         ],
         "y": [
          0.15587293991348844,
          0.07539239771121174,
          0.06592151952710297,
          0.058836188296380154,
          0.04397659748821448,
          0.039224125530920105,
          0.03539507266008397,
          0.028595621808940173,
          0.026732971193949084,
          0.02436738770474221
         ]
        },
        {
         "hovertext": "<b>Topic 35</b>:remove_fix_library_remove trump_de",
         "line": {
          "color": "black",
          "width": 1.5
         },
         "mode": "lines+lines",
         "name": "",
         "opacity": 0.1,
         "type": "scatter",
         "x": [
          1,
          2,
          3,
          4,
          5,
          6,
          7,
          8,
          9,
          10
         ],
         "y": [
          0.04312847997262113,
          0.04312847997262113,
          0.03666816581395534,
          0.03666816581395534,
          0.03453181965363804,
          0.032705502949850286,
          0.03164409337792889,
          0.03143150105152238,
          0.03143150105152238,
          0.03143150105152238
         ]
        },
        {
         "hovertext": "<b>Topic 36</b>:covid_ploy_trump covid_responsible",
         "line": {
          "color": "black",
          "width": 1.5
         },
         "mode": "lines+lines",
         "name": "",
         "opacity": 0.1,
         "type": "scatter",
         "x": [
          1,
          2,
          3,
          4,
          5,
          6,
          7,
          8,
          9,
          10
         ],
         "y": [
          0.1277981430846039,
          0.04036337661485905,
          0.036934659484785554,
          0.032294885828934285,
          0.028381102292078637,
          0.028381102292078637,
          0.02796673847100845,
          0.02601665158807616,
          0.023875117246060548,
          0.023875117246060548
         ]
        },
        {
         "hovertext": "<b>Topic 37</b>:parler_did trump_trump did_2001_le",
         "line": {
          "color": "black",
          "width": 1.5
         },
         "mode": "lines+lines",
         "name": "",
         "opacity": 0.1,
         "type": "scatter",
         "x": [
          1,
          2,
          3,
          4,
          5,
          6,
          7,
          8,
          9,
          10
         ],
         "y": [
          0.07483736765538254,
          0.053978017740833446,
          0.04751933375891557,
          0.04146730890105253,
          0.04146730890105253,
          0.04146730890105253,
          0.04146730890105253,
          0.04146730890105253,
          0.04146730890105253,
          0.04146730890105253
         ]
        },
        {
         "hovertext": "<b>Topic 38</b>:mask_wear_wear mask_wearing mask_w",
         "line": {
          "color": "black",
          "width": 1.5
         },
         "mode": "lines+lines",
         "name": "",
         "opacity": 0.1,
         "type": "scatter",
         "x": [
          1,
          2,
          3,
          4,
          5,
          6,
          7,
          8,
          9,
          10
         ],
         "y": [
          0.15261759881575993,
          0.08385425911111294,
          0.06111194354864239,
          0.05008881415576521,
          0.04431731120940732,
          0.035445725159650325,
          0.03179448615458984,
          0.026191122399747756,
          0.023479630587039987,
          0.023182992480862568
         ]
        },
        {
         "hovertext": "<b>Topic 39</b>:died_americans died_people_death_a",
         "line": {
          "color": "black",
          "width": 1.5
         },
         "mode": "lines+lines",
         "name": "",
         "opacity": 0.1,
         "type": "scatter",
         "x": [
          1,
          2,
          3,
          4,
          5,
          6,
          7,
          8,
          9,
          10
         ],
         "y": [
          0.07778292497267576,
          0.05435343109284644,
          0.053662583713485194,
          0.051012084906326666,
          0.04391743791110471,
          0.04330286626667047,
          0.04062599958435052,
          0.04062599958435052,
          0.04062599958435052,
          0.03623562072856429
         ]
        }
       ],
       "layout": {
        "height": 500,
        "hoverlabel": {
         "bgcolor": "white",
         "font": {
          "family": "Rockwell",
          "size": 16
         }
        },
        "showlegend": false,
        "template": {
         "data": {
          "bar": [
           {
            "error_x": {
             "color": "#2a3f5f"
            },
            "error_y": {
             "color": "#2a3f5f"
            },
            "marker": {
             "line": {
              "color": "white",
              "width": 0.5
             },
             "pattern": {
              "fillmode": "overlay",
              "size": 10,
              "solidity": 0.2
             }
            },
            "type": "bar"
           }
          ],
          "barpolar": [
           {
            "marker": {
             "line": {
              "color": "white",
              "width": 0.5
             },
             "pattern": {
              "fillmode": "overlay",
              "size": 10,
              "solidity": 0.2
             }
            },
            "type": "barpolar"
           }
          ],
          "carpet": [
           {
            "aaxis": {
             "endlinecolor": "#2a3f5f",
             "gridcolor": "#C8D4E3",
             "linecolor": "#C8D4E3",
             "minorgridcolor": "#C8D4E3",
             "startlinecolor": "#2a3f5f"
            },
            "baxis": {
             "endlinecolor": "#2a3f5f",
             "gridcolor": "#C8D4E3",
             "linecolor": "#C8D4E3",
             "minorgridcolor": "#C8D4E3",
             "startlinecolor": "#2a3f5f"
            },
            "type": "carpet"
           }
          ],
          "choropleth": [
           {
            "colorbar": {
             "outlinewidth": 0,
             "ticks": ""
            },
            "type": "choropleth"
           }
          ],
          "contour": [
           {
            "colorbar": {
             "outlinewidth": 0,
             "ticks": ""
            },
            "colorscale": [
             [
              0,
              "#0d0887"
             ],
             [
              0.1111111111111111,
              "#46039f"
             ],
             [
              0.2222222222222222,
              "#7201a8"
             ],
             [
              0.3333333333333333,
              "#9c179e"
             ],
             [
              0.4444444444444444,
              "#bd3786"
             ],
             [
              0.5555555555555556,
              "#d8576b"
             ],
             [
              0.6666666666666666,
              "#ed7953"
             ],
             [
              0.7777777777777778,
              "#fb9f3a"
             ],
             [
              0.8888888888888888,
              "#fdca26"
             ],
             [
              1,
              "#f0f921"
             ]
            ],
            "type": "contour"
           }
          ],
          "contourcarpet": [
           {
            "colorbar": {
             "outlinewidth": 0,
             "ticks": ""
            },
            "type": "contourcarpet"
           }
          ],
          "heatmap": [
           {
            "colorbar": {
             "outlinewidth": 0,
             "ticks": ""
            },
            "colorscale": [
             [
              0,
              "#0d0887"
             ],
             [
              0.1111111111111111,
              "#46039f"
             ],
             [
              0.2222222222222222,
              "#7201a8"
             ],
             [
              0.3333333333333333,
              "#9c179e"
             ],
             [
              0.4444444444444444,
              "#bd3786"
             ],
             [
              0.5555555555555556,
              "#d8576b"
             ],
             [
              0.6666666666666666,
              "#ed7953"
             ],
             [
              0.7777777777777778,
              "#fb9f3a"
             ],
             [
              0.8888888888888888,
              "#fdca26"
             ],
             [
              1,
              "#f0f921"
             ]
            ],
            "type": "heatmap"
           }
          ],
          "heatmapgl": [
           {
            "colorbar": {
             "outlinewidth": 0,
             "ticks": ""
            },
            "colorscale": [
             [
              0,
              "#0d0887"
             ],
             [
              0.1111111111111111,
              "#46039f"
             ],
             [
              0.2222222222222222,
              "#7201a8"
             ],
             [
              0.3333333333333333,
              "#9c179e"
             ],
             [
              0.4444444444444444,
              "#bd3786"
             ],
             [
              0.5555555555555556,
              "#d8576b"
             ],
             [
              0.6666666666666666,
              "#ed7953"
             ],
             [
              0.7777777777777778,
              "#fb9f3a"
             ],
             [
              0.8888888888888888,
              "#fdca26"
             ],
             [
              1,
              "#f0f921"
             ]
            ],
            "type": "heatmapgl"
           }
          ],
          "histogram": [
           {
            "marker": {
             "pattern": {
              "fillmode": "overlay",
              "size": 10,
              "solidity": 0.2
             }
            },
            "type": "histogram"
           }
          ],
          "histogram2d": [
           {
            "colorbar": {
             "outlinewidth": 0,
             "ticks": ""
            },
            "colorscale": [
             [
              0,
              "#0d0887"
             ],
             [
              0.1111111111111111,
              "#46039f"
             ],
             [
              0.2222222222222222,
              "#7201a8"
             ],
             [
              0.3333333333333333,
              "#9c179e"
             ],
             [
              0.4444444444444444,
              "#bd3786"
             ],
             [
              0.5555555555555556,
              "#d8576b"
             ],
             [
              0.6666666666666666,
              "#ed7953"
             ],
             [
              0.7777777777777778,
              "#fb9f3a"
             ],
             [
              0.8888888888888888,
              "#fdca26"
             ],
             [
              1,
              "#f0f921"
             ]
            ],
            "type": "histogram2d"
           }
          ],
          "histogram2dcontour": [
           {
            "colorbar": {
             "outlinewidth": 0,
             "ticks": ""
            },
            "colorscale": [
             [
              0,
              "#0d0887"
             ],
             [
              0.1111111111111111,
              "#46039f"
             ],
             [
              0.2222222222222222,
              "#7201a8"
             ],
             [
              0.3333333333333333,
              "#9c179e"
             ],
             [
              0.4444444444444444,
              "#bd3786"
             ],
             [
              0.5555555555555556,
              "#d8576b"
             ],
             [
              0.6666666666666666,
              "#ed7953"
             ],
             [
              0.7777777777777778,
              "#fb9f3a"
             ],
             [
              0.8888888888888888,
              "#fdca26"
             ],
             [
              1,
              "#f0f921"
             ]
            ],
            "type": "histogram2dcontour"
           }
          ],
          "mesh3d": [
           {
            "colorbar": {
             "outlinewidth": 0,
             "ticks": ""
            },
            "type": "mesh3d"
           }
          ],
          "parcoords": [
           {
            "line": {
             "colorbar": {
              "outlinewidth": 0,
              "ticks": ""
             }
            },
            "type": "parcoords"
           }
          ],
          "pie": [
           {
            "automargin": true,
            "type": "pie"
           }
          ],
          "scatter": [
           {
            "fillpattern": {
             "fillmode": "overlay",
             "size": 10,
             "solidity": 0.2
            },
            "type": "scatter"
           }
          ],
          "scatter3d": [
           {
            "line": {
             "colorbar": {
              "outlinewidth": 0,
              "ticks": ""
             }
            },
            "marker": {
             "colorbar": {
              "outlinewidth": 0,
              "ticks": ""
             }
            },
            "type": "scatter3d"
           }
          ],
          "scattercarpet": [
           {
            "marker": {
             "colorbar": {
              "outlinewidth": 0,
              "ticks": ""
             }
            },
            "type": "scattercarpet"
           }
          ],
          "scattergeo": [
           {
            "marker": {
             "colorbar": {
              "outlinewidth": 0,
              "ticks": ""
             }
            },
            "type": "scattergeo"
           }
          ],
          "scattergl": [
           {
            "marker": {
             "colorbar": {
              "outlinewidth": 0,
              "ticks": ""
             }
            },
            "type": "scattergl"
           }
          ],
          "scattermapbox": [
           {
            "marker": {
             "colorbar": {
              "outlinewidth": 0,
              "ticks": ""
             }
            },
            "type": "scattermapbox"
           }
          ],
          "scatterpolar": [
           {
            "marker": {
             "colorbar": {
              "outlinewidth": 0,
              "ticks": ""
             }
            },
            "type": "scatterpolar"
           }
          ],
          "scatterpolargl": [
           {
            "marker": {
             "colorbar": {
              "outlinewidth": 0,
              "ticks": ""
             }
            },
            "type": "scatterpolargl"
           }
          ],
          "scatterternary": [
           {
            "marker": {
             "colorbar": {
              "outlinewidth": 0,
              "ticks": ""
             }
            },
            "type": "scatterternary"
           }
          ],
          "surface": [
           {
            "colorbar": {
             "outlinewidth": 0,
             "ticks": ""
            },
            "colorscale": [
             [
              0,
              "#0d0887"
             ],
             [
              0.1111111111111111,
              "#46039f"
             ],
             [
              0.2222222222222222,
              "#7201a8"
             ],
             [
              0.3333333333333333,
              "#9c179e"
             ],
             [
              0.4444444444444444,
              "#bd3786"
             ],
             [
              0.5555555555555556,
              "#d8576b"
             ],
             [
              0.6666666666666666,
              "#ed7953"
             ],
             [
              0.7777777777777778,
              "#fb9f3a"
             ],
             [
              0.8888888888888888,
              "#fdca26"
             ],
             [
              1,
              "#f0f921"
             ]
            ],
            "type": "surface"
           }
          ],
          "table": [
           {
            "cells": {
             "fill": {
              "color": "#EBF0F8"
             },
             "line": {
              "color": "white"
             }
            },
            "header": {
             "fill": {
              "color": "#C8D4E3"
             },
             "line": {
              "color": "white"
             }
            },
            "type": "table"
           }
          ]
         },
         "layout": {
          "annotationdefaults": {
           "arrowcolor": "#2a3f5f",
           "arrowhead": 0,
           "arrowwidth": 1
          },
          "autotypenumbers": "strict",
          "coloraxis": {
           "colorbar": {
            "outlinewidth": 0,
            "ticks": ""
           }
          },
          "colorscale": {
           "diverging": [
            [
             0,
             "#8e0152"
            ],
            [
             0.1,
             "#c51b7d"
            ],
            [
             0.2,
             "#de77ae"
            ],
            [
             0.3,
             "#f1b6da"
            ],
            [
             0.4,
             "#fde0ef"
            ],
            [
             0.5,
             "#f7f7f7"
            ],
            [
             0.6,
             "#e6f5d0"
            ],
            [
             0.7,
             "#b8e186"
            ],
            [
             0.8,
             "#7fbc41"
            ],
            [
             0.9,
             "#4d9221"
            ],
            [
             1,
             "#276419"
            ]
           ],
           "sequential": [
            [
             0,
             "#0d0887"
            ],
            [
             0.1111111111111111,
             "#46039f"
            ],
            [
             0.2222222222222222,
             "#7201a8"
            ],
            [
             0.3333333333333333,
             "#9c179e"
            ],
            [
             0.4444444444444444,
             "#bd3786"
            ],
            [
             0.5555555555555556,
             "#d8576b"
            ],
            [
             0.6666666666666666,
             "#ed7953"
            ],
            [
             0.7777777777777778,
             "#fb9f3a"
            ],
            [
             0.8888888888888888,
             "#fdca26"
            ],
            [
             1,
             "#f0f921"
            ]
           ],
           "sequentialminus": [
            [
             0,
             "#0d0887"
            ],
            [
             0.1111111111111111,
             "#46039f"
            ],
            [
             0.2222222222222222,
             "#7201a8"
            ],
            [
             0.3333333333333333,
             "#9c179e"
            ],
            [
             0.4444444444444444,
             "#bd3786"
            ],
            [
             0.5555555555555556,
             "#d8576b"
            ],
            [
             0.6666666666666666,
             "#ed7953"
            ],
            [
             0.7777777777777778,
             "#fb9f3a"
            ],
            [
             0.8888888888888888,
             "#fdca26"
            ],
            [
             1,
             "#f0f921"
            ]
           ]
          },
          "colorway": [
           "#636efa",
           "#EF553B",
           "#00cc96",
           "#ab63fa",
           "#FFA15A",
           "#19d3f3",
           "#FF6692",
           "#B6E880",
           "#FF97FF",
           "#FECB52"
          ],
          "font": {
           "color": "#2a3f5f"
          },
          "geo": {
           "bgcolor": "white",
           "lakecolor": "white",
           "landcolor": "white",
           "showlakes": true,
           "showland": true,
           "subunitcolor": "#C8D4E3"
          },
          "hoverlabel": {
           "align": "left"
          },
          "hovermode": "closest",
          "mapbox": {
           "style": "light"
          },
          "paper_bgcolor": "white",
          "plot_bgcolor": "white",
          "polar": {
           "angularaxis": {
            "gridcolor": "#EBF0F8",
            "linecolor": "#EBF0F8",
            "ticks": ""
           },
           "bgcolor": "white",
           "radialaxis": {
            "gridcolor": "#EBF0F8",
            "linecolor": "#EBF0F8",
            "ticks": ""
           }
          },
          "scene": {
           "xaxis": {
            "backgroundcolor": "white",
            "gridcolor": "#DFE8F3",
            "gridwidth": 2,
            "linecolor": "#EBF0F8",
            "showbackground": true,
            "ticks": "",
            "zerolinecolor": "#EBF0F8"
           },
           "yaxis": {
            "backgroundcolor": "white",
            "gridcolor": "#DFE8F3",
            "gridwidth": 2,
            "linecolor": "#EBF0F8",
            "showbackground": true,
            "ticks": "",
            "zerolinecolor": "#EBF0F8"
           },
           "zaxis": {
            "backgroundcolor": "white",
            "gridcolor": "#DFE8F3",
            "gridwidth": 2,
            "linecolor": "#EBF0F8",
            "showbackground": true,
            "ticks": "",
            "zerolinecolor": "#EBF0F8"
           }
          },
          "shapedefaults": {
           "line": {
            "color": "#2a3f5f"
           }
          },
          "ternary": {
           "aaxis": {
            "gridcolor": "#DFE8F3",
            "linecolor": "#A2B1C6",
            "ticks": ""
           },
           "baxis": {
            "gridcolor": "#DFE8F3",
            "linecolor": "#A2B1C6",
            "ticks": ""
           },
           "bgcolor": "white",
           "caxis": {
            "gridcolor": "#DFE8F3",
            "linecolor": "#A2B1C6",
            "ticks": ""
           }
          },
          "title": {
           "x": 0.05
          },
          "xaxis": {
           "automargin": true,
           "gridcolor": "#EBF0F8",
           "linecolor": "#EBF0F8",
           "ticks": "",
           "title": {
            "standoff": 15
           },
           "zerolinecolor": "#EBF0F8",
           "zerolinewidth": 2
          },
          "yaxis": {
           "automargin": true,
           "gridcolor": "#EBF0F8",
           "linecolor": "#EBF0F8",
           "ticks": "",
           "title": {
            "standoff": 15
           },
           "zerolinecolor": "#EBF0F8",
           "zerolinewidth": 2
          }
         }
        },
        "title": {
         "font": {
          "color": "Black",
          "size": 22
         },
         "text": "<b>Term score decline per Topic</b>",
         "x": 0.5,
         "xanchor": "center",
         "y": 0.9,
         "yanchor": "top"
        },
        "width": 800,
        "xaxis": {
         "dtick": 2,
         "range": [
          0,
          10
         ],
         "tick0": 1,
         "title": {
          "text": "Term Rank"
         }
        },
        "yaxis": {
         "title": {
          "text": "c-TF-IDF score"
         }
        }
       }
      }
     },
     "metadata": {},
     "output_type": "display_data"
    }
   ],
   "source": [
    "model.visualize_term_rank()\n"
   ]
  },
  {
   "cell_type": "markdown",
   "metadata": {},
   "source": [
    "# Modelling"
   ]
  },
  {
   "cell_type": "code",
   "execution_count": 25,
   "metadata": {},
   "outputs": [],
   "source": [
    "df['topic_label'] = topics\n",
    "\n",
    "# Save the DataFrame with the new column\n",
    "df.to_csv('dataset_with_topic_labels.csv', index=False)"
   ]
  },
  {
   "cell_type": "markdown",
   "metadata": {},
   "source": [
    "### Topic visualisation\n"
   ]
  },
  {
   "cell_type": "code",
   "execution_count": 26,
   "metadata": {},
   "outputs": [
    {
     "data": {
      "application/vnd.plotly.v1+json": {
       "config": {
        "plotlyServerURL": "https://plot.ly"
       },
       "data": [
        {
         "hoverinfo": "text",
         "marker": {
          "color": "rgb(61,153,112)"
         },
         "mode": "lines",
         "type": "scatter",
         "x": [
          0,
          0.9044333188322268,
          0.9044333188322268,
          0
         ],
         "xaxis": "x",
         "y": [
          -15,
          -15,
          -25,
          -25
         ],
         "yaxis": "y"
        },
        {
         "hoverinfo": "text",
         "marker": {
          "color": "rgb(61,153,112)"
         },
         "mode": "lines",
         "type": "scatter",
         "x": [
          0,
          0.970739168207291,
          0.970739168207291,
          0.9044333188322268
         ],
         "xaxis": "x",
         "y": [
          -5,
          -5,
          -20,
          -20
         ],
         "yaxis": "y"
        },
        {
         "hoverinfo": "text",
         "marker": {
          "color": "rgb(255,65,54)"
         },
         "mode": "lines",
         "type": "scatter",
         "x": [
          0,
          0.8754169629872638,
          0.8754169629872638,
          0
         ],
         "xaxis": "x",
         "y": [
          -45,
          -45,
          -55,
          -55
         ],
         "yaxis": "y"
        },
        {
         "hoverinfo": "text",
         "marker": {
          "color": "rgb(255,65,54)"
         },
         "mode": "lines",
         "type": "scatter",
         "x": [
          0,
          0.8283284121919305,
          0.8283284121919305,
          0
         ],
         "xaxis": "x",
         "y": [
          -65,
          -65,
          -75,
          -75
         ],
         "yaxis": "y"
        },
        {
         "hoverinfo": "text",
         "marker": {
          "color": "rgb(255,65,54)"
         },
         "mode": "lines",
         "type": "scatter",
         "x": [
          0.8283284121919305,
          0.897813860425645,
          0.897813860425645,
          0
         ],
         "xaxis": "x",
         "y": [
          -70,
          -70,
          -85,
          -85
         ],
         "yaxis": "y"
        },
        {
         "hoverinfo": "text",
         "marker": {
          "color": "rgb(255,65,54)"
         },
         "mode": "lines",
         "type": "scatter",
         "x": [
          0.8754169629872638,
          0.919144970404759,
          0.919144970404759,
          0.897813860425645
         ],
         "xaxis": "x",
         "y": [
          -50,
          -50,
          -77.5,
          -77.5
         ],
         "yaxis": "y"
        },
        {
         "hoverinfo": "text",
         "marker": {
          "color": "rgb(255,65,54)"
         },
         "mode": "lines",
         "type": "scatter",
         "x": [
          0,
          0.9480889539286353,
          0.9480889539286353,
          0.919144970404759
         ],
         "xaxis": "x",
         "y": [
          -35,
          -35,
          -63.75,
          -63.75
         ],
         "yaxis": "y"
        },
        {
         "hoverinfo": "text",
         "marker": {
          "color": "rgb(255,65,54)"
         },
         "mode": "lines",
         "type": "scatter",
         "x": [
          0.9480889539286353,
          0.9511476287030841,
          0.9511476287030841,
          0
         ],
         "xaxis": "x",
         "y": [
          -49.375,
          -49.375,
          -95,
          -95
         ],
         "yaxis": "y"
        },
        {
         "hoverinfo": "text",
         "marker": {
          "color": "rgb(0,116,217)"
         },
         "mode": "lines",
         "type": "scatter",
         "x": [
          0.970739168207291,
          1.0025870778751422,
          1.0025870778751422,
          0.9511476287030841
         ],
         "xaxis": "x",
         "y": [
          -12.5,
          -12.5,
          -72.1875,
          -72.1875
         ],
         "yaxis": "y"
        },
        {
         "hoverinfo": "text",
         "marker": {
          "color": "rgb(35,205,205)"
         },
         "mode": "lines",
         "type": "scatter",
         "x": [
          0,
          0.9371644559339996,
          0.9371644559339996,
          0
         ],
         "xaxis": "x",
         "y": [
          -115,
          -115,
          -125,
          -125
         ],
         "yaxis": "y"
        },
        {
         "hoverinfo": "text",
         "marker": {
          "color": "rgb(35,205,205)"
         },
         "mode": "lines",
         "type": "scatter",
         "x": [
          0.9371644559339996,
          0.9656918040648129,
          0.9656918040648129,
          0
         ],
         "xaxis": "x",
         "y": [
          -120,
          -120,
          -135,
          -135
         ],
         "yaxis": "y"
        },
        {
         "hoverinfo": "text",
         "marker": {
          "color": "rgb(35,205,205)"
         },
         "mode": "lines",
         "type": "scatter",
         "x": [
          0,
          0.970477890113299,
          0.970477890113299,
          0.9656918040648129
         ],
         "xaxis": "x",
         "y": [
          -105,
          -105,
          -127.5,
          -127.5
         ],
         "yaxis": "y"
        },
        {
         "hoverinfo": "text",
         "marker": {
          "color": "rgb(35,205,205)"
         },
         "mode": "lines",
         "type": "scatter",
         "x": [
          0.970477890113299,
          0.9763500737945497,
          0.9763500737945497,
          0
         ],
         "xaxis": "x",
         "y": [
          -116.25,
          -116.25,
          -145,
          -145
         ],
         "yaxis": "y"
        },
        {
         "hoverinfo": "text",
         "marker": {
          "color": "rgb(35,205,205)"
         },
         "mode": "lines",
         "type": "scatter",
         "x": [
          0,
          0.9753540522911293,
          0.9753540522911293,
          0
         ],
         "xaxis": "x",
         "y": [
          -155,
          -155,
          -165,
          -165
         ],
         "yaxis": "y"
        },
        {
         "hoverinfo": "text",
         "marker": {
          "color": "rgb(35,205,205)"
         },
         "mode": "lines",
         "type": "scatter",
         "x": [
          0.9763500737945497,
          0.9907948669331766,
          0.9907948669331766,
          0.9753540522911293
         ],
         "xaxis": "x",
         "y": [
          -130.625,
          -130.625,
          -160,
          -160
         ],
         "yaxis": "y"
        },
        {
         "hoverinfo": "text",
         "marker": {
          "color": "rgb(133,20,75)"
         },
         "mode": "lines",
         "type": "scatter",
         "x": [
          0,
          0.9372499865760779,
          0.9372499865760779,
          0
         ],
         "xaxis": "x",
         "y": [
          -175,
          -175,
          -185,
          -185
         ],
         "yaxis": "y"
        },
        {
         "hoverinfo": "text",
         "marker": {
          "color": "rgb(133,20,75)"
         },
         "mode": "lines",
         "type": "scatter",
         "x": [
          0.9372499865760779,
          0.9633003624572263,
          0.9633003624572263,
          0
         ],
         "xaxis": "x",
         "y": [
          -180,
          -180,
          -195,
          -195
         ],
         "yaxis": "y"
        },
        {
         "hoverinfo": "text",
         "marker": {
          "color": "rgb(0,116,217)"
         },
         "mode": "lines",
         "type": "scatter",
         "x": [
          0.9907948669331766,
          1.000821705313096,
          1.000821705313096,
          0.9633003624572263
         ],
         "xaxis": "x",
         "y": [
          -145.3125,
          -145.3125,
          -187.5,
          -187.5
         ],
         "yaxis": "y"
        },
        {
         "hoverinfo": "text",
         "marker": {
          "color": "rgb(255,220,0)"
         },
         "mode": "lines",
         "type": "scatter",
         "x": [
          0,
          0.9007021903666121,
          0.9007021903666121,
          0
         ],
         "xaxis": "x",
         "y": [
          -215,
          -215,
          -225,
          -225
         ],
         "yaxis": "y"
        },
        {
         "hoverinfo": "text",
         "marker": {
          "color": "rgb(255,220,0)"
         },
         "mode": "lines",
         "type": "scatter",
         "x": [
          0.9007021903666121,
          0.9524991589531994,
          0.9524991589531994,
          0
         ],
         "xaxis": "x",
         "y": [
          -220,
          -220,
          -235,
          -235
         ],
         "yaxis": "y"
        },
        {
         "hoverinfo": "text",
         "marker": {
          "color": "rgb(255,220,0)"
         },
         "mode": "lines",
         "type": "scatter",
         "x": [
          0,
          0.9624334875475992,
          0.9624334875475992,
          0.9524991589531994
         ],
         "xaxis": "x",
         "y": [
          -205,
          -205,
          -227.5,
          -227.5
         ],
         "yaxis": "y"
        },
        {
         "hoverinfo": "text",
         "marker": {
          "color": "rgb(255,220,0)"
         },
         "mode": "lines",
         "type": "scatter",
         "x": [
          0,
          0.8640286981235968,
          0.8640286981235968,
          0
         ],
         "xaxis": "x",
         "y": [
          -255,
          -255,
          -265,
          -265
         ],
         "yaxis": "y"
        },
        {
         "hoverinfo": "text",
         "marker": {
          "color": "rgb(255,220,0)"
         },
         "mode": "lines",
         "type": "scatter",
         "x": [
          0,
          0.910929345925889,
          0.910929345925889,
          0.8640286981235968
         ],
         "xaxis": "x",
         "y": [
          -245,
          -245,
          -260,
          -260
         ],
         "yaxis": "y"
        },
        {
         "hoverinfo": "text",
         "marker": {
          "color": "rgb(255,220,0)"
         },
         "mode": "lines",
         "type": "scatter",
         "x": [
          0.910929345925889,
          0.924421526379226,
          0.924421526379226,
          0
         ],
         "xaxis": "x",
         "y": [
          -252.5,
          -252.5,
          -275,
          -275
         ],
         "yaxis": "y"
        },
        {
         "hoverinfo": "text",
         "marker": {
          "color": "rgb(255,220,0)"
         },
         "mode": "lines",
         "type": "scatter",
         "x": [
          0.9624334875475992,
          0.9744261752780461,
          0.9744261752780461,
          0.924421526379226
         ],
         "xaxis": "x",
         "y": [
          -216.25,
          -216.25,
          -263.75,
          -263.75
         ],
         "yaxis": "y"
        },
        {
         "hoverinfo": "text",
         "marker": {
          "color": "rgb(255,220,0)"
         },
         "mode": "lines",
         "type": "scatter",
         "x": [
          0,
          0.9364110870471217,
          0.9364110870471217,
          0
         ],
         "xaxis": "x",
         "y": [
          -285,
          -285,
          -295,
          -295
         ],
         "yaxis": "y"
        },
        {
         "hoverinfo": "text",
         "marker": {
          "color": "rgb(255,220,0)"
         },
         "mode": "lines",
         "type": "scatter",
         "x": [
          0,
          0.9491950512117321,
          0.9491950512117321,
          0
         ],
         "xaxis": "x",
         "y": [
          -305,
          -305,
          -315,
          -315
         ],
         "yaxis": "y"
        },
        {
         "hoverinfo": "text",
         "marker": {
          "color": "rgb(255,220,0)"
         },
         "mode": "lines",
         "type": "scatter",
         "x": [
          0.9364110870471217,
          0.9621159505513918,
          0.9621159505513918,
          0.9491950512117321
         ],
         "xaxis": "x",
         "y": [
          -290,
          -290,
          -310,
          -310
         ],
         "yaxis": "y"
        },
        {
         "hoverinfo": "text",
         "marker": {
          "color": "rgb(255,220,0)"
         },
         "mode": "lines",
         "type": "scatter",
         "x": [
          0,
          0.9459577676927646,
          0.9459577676927646,
          0
         ],
         "xaxis": "x",
         "y": [
          -325,
          -325,
          -335,
          -335
         ],
         "yaxis": "y"
        },
        {
         "hoverinfo": "text",
         "marker": {
          "color": "rgb(255,220,0)"
         },
         "mode": "lines",
         "type": "scatter",
         "x": [
          0.9621159505513918,
          0.9696402908187306,
          0.9696402908187306,
          0.9459577676927646
         ],
         "xaxis": "x",
         "y": [
          -300,
          -300,
          -330,
          -330
         ],
         "yaxis": "y"
        },
        {
         "hoverinfo": "text",
         "marker": {
          "color": "rgb(255,220,0)"
         },
         "mode": "lines",
         "type": "scatter",
         "x": [
          0.9744261752780461,
          0.9963022190846842,
          0.9963022190846842,
          0.9696402908187306
         ],
         "xaxis": "x",
         "y": [
          -240,
          -240,
          -315,
          -315
         ],
         "yaxis": "y"
        },
        {
         "hoverinfo": "text",
         "marker": {
          "color": "rgb(40,35,35)"
         },
         "mode": "lines",
         "type": "scatter",
         "x": [
          0,
          0.9096627504213827,
          0.9096627504213827,
          0
         ],
         "xaxis": "x",
         "y": [
          -345,
          -345,
          -355,
          -355
         ],
         "yaxis": "y"
        },
        {
         "hoverinfo": "text",
         "marker": {
          "color": "rgb(0,116,217)"
         },
         "mode": "lines",
         "type": "scatter",
         "x": [
          0.9963022190846842,
          1.0254492687481835,
          1.0254492687481835,
          0.9096627504213827
         ],
         "xaxis": "x",
         "y": [
          -277.5,
          -277.5,
          -350,
          -350
         ],
         "yaxis": "y"
        },
        {
         "hoverinfo": "text",
         "marker": {
          "color": "rgb(0,116,217)"
         },
         "mode": "lines",
         "type": "scatter",
         "x": [
          1.000821705313096,
          1.034311798049041,
          1.034311798049041,
          1.0254492687481835
         ],
         "xaxis": "x",
         "y": [
          -166.40625,
          -166.40625,
          -313.75,
          -313.75
         ],
         "yaxis": "y"
        },
        {
         "hoverinfo": "text",
         "marker": {
          "color": "rgb(61,153,112)"
         },
         "mode": "lines",
         "type": "scatter",
         "x": [
          0,
          0.862171541261389,
          0.862171541261389,
          0
         ],
         "xaxis": "x",
         "y": [
          -375,
          -375,
          -385,
          -385
         ],
         "yaxis": "y"
        },
        {
         "hoverinfo": "text",
         "marker": {
          "color": "rgb(61,153,112)"
         },
         "mode": "lines",
         "type": "scatter",
         "x": [
          0,
          0.9285300669083904,
          0.9285300669083904,
          0.862171541261389
         ],
         "xaxis": "x",
         "y": [
          -365,
          -365,
          -380,
          -380
         ],
         "yaxis": "y"
        },
        {
         "hoverinfo": "text",
         "marker": {
          "color": "rgb(61,153,112)"
         },
         "mode": "lines",
         "type": "scatter",
         "x": [
          0.9285300669083904,
          0.9658031187357895,
          0.9658031187357895,
          0
         ],
         "xaxis": "x",
         "y": [
          -372.5,
          -372.5,
          -395,
          -395
         ],
         "yaxis": "y"
        },
        {
         "hoverinfo": "text",
         "marker": {
          "color": "rgb(0,116,217)"
         },
         "mode": "lines",
         "type": "scatter",
         "x": [
          1.034311798049041,
          1.0711615050116443,
          1.0711615050116443,
          0.9658031187357895
         ],
         "xaxis": "x",
         "y": [
          -240.078125,
          -240.078125,
          -383.75,
          -383.75
         ],
         "yaxis": "y"
        },
        {
         "hoverinfo": "text",
         "marker": {
          "color": "rgb(0,116,217)"
         },
         "mode": "lines",
         "type": "scatter",
         "x": [
          1.0025870778751422,
          1.2074549167562474,
          1.2074549167562474,
          1.0711615050116443
         ],
         "xaxis": "x",
         "y": [
          -42.34375,
          -42.34375,
          -311.9140625,
          -311.9140625
         ],
         "yaxis": "y"
        }
       ],
       "layout": {
        "autosize": false,
        "height": 800,
        "hoverlabel": {
         "bgcolor": "white",
         "font": {
          "family": "Rockwell",
          "size": 16
         }
        },
        "hovermode": "closest",
        "plot_bgcolor": "#ECEFF1",
        "showlegend": false,
        "template": {
         "data": {
          "bar": [
           {
            "error_x": {
             "color": "#2a3f5f"
            },
            "error_y": {
             "color": "#2a3f5f"
            },
            "marker": {
             "line": {
              "color": "white",
              "width": 0.5
             },
             "pattern": {
              "fillmode": "overlay",
              "size": 10,
              "solidity": 0.2
             }
            },
            "type": "bar"
           }
          ],
          "barpolar": [
           {
            "marker": {
             "line": {
              "color": "white",
              "width": 0.5
             },
             "pattern": {
              "fillmode": "overlay",
              "size": 10,
              "solidity": 0.2
             }
            },
            "type": "barpolar"
           }
          ],
          "carpet": [
           {
            "aaxis": {
             "endlinecolor": "#2a3f5f",
             "gridcolor": "#C8D4E3",
             "linecolor": "#C8D4E3",
             "minorgridcolor": "#C8D4E3",
             "startlinecolor": "#2a3f5f"
            },
            "baxis": {
             "endlinecolor": "#2a3f5f",
             "gridcolor": "#C8D4E3",
             "linecolor": "#C8D4E3",
             "minorgridcolor": "#C8D4E3",
             "startlinecolor": "#2a3f5f"
            },
            "type": "carpet"
           }
          ],
          "choropleth": [
           {
            "colorbar": {
             "outlinewidth": 0,
             "ticks": ""
            },
            "type": "choropleth"
           }
          ],
          "contour": [
           {
            "colorbar": {
             "outlinewidth": 0,
             "ticks": ""
            },
            "colorscale": [
             [
              0,
              "#0d0887"
             ],
             [
              0.1111111111111111,
              "#46039f"
             ],
             [
              0.2222222222222222,
              "#7201a8"
             ],
             [
              0.3333333333333333,
              "#9c179e"
             ],
             [
              0.4444444444444444,
              "#bd3786"
             ],
             [
              0.5555555555555556,
              "#d8576b"
             ],
             [
              0.6666666666666666,
              "#ed7953"
             ],
             [
              0.7777777777777778,
              "#fb9f3a"
             ],
             [
              0.8888888888888888,
              "#fdca26"
             ],
             [
              1,
              "#f0f921"
             ]
            ],
            "type": "contour"
           }
          ],
          "contourcarpet": [
           {
            "colorbar": {
             "outlinewidth": 0,
             "ticks": ""
            },
            "type": "contourcarpet"
           }
          ],
          "heatmap": [
           {
            "colorbar": {
             "outlinewidth": 0,
             "ticks": ""
            },
            "colorscale": [
             [
              0,
              "#0d0887"
             ],
             [
              0.1111111111111111,
              "#46039f"
             ],
             [
              0.2222222222222222,
              "#7201a8"
             ],
             [
              0.3333333333333333,
              "#9c179e"
             ],
             [
              0.4444444444444444,
              "#bd3786"
             ],
             [
              0.5555555555555556,
              "#d8576b"
             ],
             [
              0.6666666666666666,
              "#ed7953"
             ],
             [
              0.7777777777777778,
              "#fb9f3a"
             ],
             [
              0.8888888888888888,
              "#fdca26"
             ],
             [
              1,
              "#f0f921"
             ]
            ],
            "type": "heatmap"
           }
          ],
          "heatmapgl": [
           {
            "colorbar": {
             "outlinewidth": 0,
             "ticks": ""
            },
            "colorscale": [
             [
              0,
              "#0d0887"
             ],
             [
              0.1111111111111111,
              "#46039f"
             ],
             [
              0.2222222222222222,
              "#7201a8"
             ],
             [
              0.3333333333333333,
              "#9c179e"
             ],
             [
              0.4444444444444444,
              "#bd3786"
             ],
             [
              0.5555555555555556,
              "#d8576b"
             ],
             [
              0.6666666666666666,
              "#ed7953"
             ],
             [
              0.7777777777777778,
              "#fb9f3a"
             ],
             [
              0.8888888888888888,
              "#fdca26"
             ],
             [
              1,
              "#f0f921"
             ]
            ],
            "type": "heatmapgl"
           }
          ],
          "histogram": [
           {
            "marker": {
             "pattern": {
              "fillmode": "overlay",
              "size": 10,
              "solidity": 0.2
             }
            },
            "type": "histogram"
           }
          ],
          "histogram2d": [
           {
            "colorbar": {
             "outlinewidth": 0,
             "ticks": ""
            },
            "colorscale": [
             [
              0,
              "#0d0887"
             ],
             [
              0.1111111111111111,
              "#46039f"
             ],
             [
              0.2222222222222222,
              "#7201a8"
             ],
             [
              0.3333333333333333,
              "#9c179e"
             ],
             [
              0.4444444444444444,
              "#bd3786"
             ],
             [
              0.5555555555555556,
              "#d8576b"
             ],
             [
              0.6666666666666666,
              "#ed7953"
             ],
             [
              0.7777777777777778,
              "#fb9f3a"
             ],
             [
              0.8888888888888888,
              "#fdca26"
             ],
             [
              1,
              "#f0f921"
             ]
            ],
            "type": "histogram2d"
           }
          ],
          "histogram2dcontour": [
           {
            "colorbar": {
             "outlinewidth": 0,
             "ticks": ""
            },
            "colorscale": [
             [
              0,
              "#0d0887"
             ],
             [
              0.1111111111111111,
              "#46039f"
             ],
             [
              0.2222222222222222,
              "#7201a8"
             ],
             [
              0.3333333333333333,
              "#9c179e"
             ],
             [
              0.4444444444444444,
              "#bd3786"
             ],
             [
              0.5555555555555556,
              "#d8576b"
             ],
             [
              0.6666666666666666,
              "#ed7953"
             ],
             [
              0.7777777777777778,
              "#fb9f3a"
             ],
             [
              0.8888888888888888,
              "#fdca26"
             ],
             [
              1,
              "#f0f921"
             ]
            ],
            "type": "histogram2dcontour"
           }
          ],
          "mesh3d": [
           {
            "colorbar": {
             "outlinewidth": 0,
             "ticks": ""
            },
            "type": "mesh3d"
           }
          ],
          "parcoords": [
           {
            "line": {
             "colorbar": {
              "outlinewidth": 0,
              "ticks": ""
             }
            },
            "type": "parcoords"
           }
          ],
          "pie": [
           {
            "automargin": true,
            "type": "pie"
           }
          ],
          "scatter": [
           {
            "fillpattern": {
             "fillmode": "overlay",
             "size": 10,
             "solidity": 0.2
            },
            "type": "scatter"
           }
          ],
          "scatter3d": [
           {
            "line": {
             "colorbar": {
              "outlinewidth": 0,
              "ticks": ""
             }
            },
            "marker": {
             "colorbar": {
              "outlinewidth": 0,
              "ticks": ""
             }
            },
            "type": "scatter3d"
           }
          ],
          "scattercarpet": [
           {
            "marker": {
             "colorbar": {
              "outlinewidth": 0,
              "ticks": ""
             }
            },
            "type": "scattercarpet"
           }
          ],
          "scattergeo": [
           {
            "marker": {
             "colorbar": {
              "outlinewidth": 0,
              "ticks": ""
             }
            },
            "type": "scattergeo"
           }
          ],
          "scattergl": [
           {
            "marker": {
             "colorbar": {
              "outlinewidth": 0,
              "ticks": ""
             }
            },
            "type": "scattergl"
           }
          ],
          "scattermapbox": [
           {
            "marker": {
             "colorbar": {
              "outlinewidth": 0,
              "ticks": ""
             }
            },
            "type": "scattermapbox"
           }
          ],
          "scatterpolar": [
           {
            "marker": {
             "colorbar": {
              "outlinewidth": 0,
              "ticks": ""
             }
            },
            "type": "scatterpolar"
           }
          ],
          "scatterpolargl": [
           {
            "marker": {
             "colorbar": {
              "outlinewidth": 0,
              "ticks": ""
             }
            },
            "type": "scatterpolargl"
           }
          ],
          "scatterternary": [
           {
            "marker": {
             "colorbar": {
              "outlinewidth": 0,
              "ticks": ""
             }
            },
            "type": "scatterternary"
           }
          ],
          "surface": [
           {
            "colorbar": {
             "outlinewidth": 0,
             "ticks": ""
            },
            "colorscale": [
             [
              0,
              "#0d0887"
             ],
             [
              0.1111111111111111,
              "#46039f"
             ],
             [
              0.2222222222222222,
              "#7201a8"
             ],
             [
              0.3333333333333333,
              "#9c179e"
             ],
             [
              0.4444444444444444,
              "#bd3786"
             ],
             [
              0.5555555555555556,
              "#d8576b"
             ],
             [
              0.6666666666666666,
              "#ed7953"
             ],
             [
              0.7777777777777778,
              "#fb9f3a"
             ],
             [
              0.8888888888888888,
              "#fdca26"
             ],
             [
              1,
              "#f0f921"
             ]
            ],
            "type": "surface"
           }
          ],
          "table": [
           {
            "cells": {
             "fill": {
              "color": "#EBF0F8"
             },
             "line": {
              "color": "white"
             }
            },
            "header": {
             "fill": {
              "color": "#C8D4E3"
             },
             "line": {
              "color": "white"
             }
            },
            "type": "table"
           }
          ]
         },
         "layout": {
          "annotationdefaults": {
           "arrowcolor": "#2a3f5f",
           "arrowhead": 0,
           "arrowwidth": 1
          },
          "autotypenumbers": "strict",
          "coloraxis": {
           "colorbar": {
            "outlinewidth": 0,
            "ticks": ""
           }
          },
          "colorscale": {
           "diverging": [
            [
             0,
             "#8e0152"
            ],
            [
             0.1,
             "#c51b7d"
            ],
            [
             0.2,
             "#de77ae"
            ],
            [
             0.3,
             "#f1b6da"
            ],
            [
             0.4,
             "#fde0ef"
            ],
            [
             0.5,
             "#f7f7f7"
            ],
            [
             0.6,
             "#e6f5d0"
            ],
            [
             0.7,
             "#b8e186"
            ],
            [
             0.8,
             "#7fbc41"
            ],
            [
             0.9,
             "#4d9221"
            ],
            [
             1,
             "#276419"
            ]
           ],
           "sequential": [
            [
             0,
             "#0d0887"
            ],
            [
             0.1111111111111111,
             "#46039f"
            ],
            [
             0.2222222222222222,
             "#7201a8"
            ],
            [
             0.3333333333333333,
             "#9c179e"
            ],
            [
             0.4444444444444444,
             "#bd3786"
            ],
            [
             0.5555555555555556,
             "#d8576b"
            ],
            [
             0.6666666666666666,
             "#ed7953"
            ],
            [
             0.7777777777777778,
             "#fb9f3a"
            ],
            [
             0.8888888888888888,
             "#fdca26"
            ],
            [
             1,
             "#f0f921"
            ]
           ],
           "sequentialminus": [
            [
             0,
             "#0d0887"
            ],
            [
             0.1111111111111111,
             "#46039f"
            ],
            [
             0.2222222222222222,
             "#7201a8"
            ],
            [
             0.3333333333333333,
             "#9c179e"
            ],
            [
             0.4444444444444444,
             "#bd3786"
            ],
            [
             0.5555555555555556,
             "#d8576b"
            ],
            [
             0.6666666666666666,
             "#ed7953"
            ],
            [
             0.7777777777777778,
             "#fb9f3a"
            ],
            [
             0.8888888888888888,
             "#fdca26"
            ],
            [
             1,
             "#f0f921"
            ]
           ]
          },
          "colorway": [
           "#636efa",
           "#EF553B",
           "#00cc96",
           "#ab63fa",
           "#FFA15A",
           "#19d3f3",
           "#FF6692",
           "#B6E880",
           "#FF97FF",
           "#FECB52"
          ],
          "font": {
           "color": "#2a3f5f"
          },
          "geo": {
           "bgcolor": "white",
           "lakecolor": "white",
           "landcolor": "white",
           "showlakes": true,
           "showland": true,
           "subunitcolor": "#C8D4E3"
          },
          "hoverlabel": {
           "align": "left"
          },
          "hovermode": "closest",
          "mapbox": {
           "style": "light"
          },
          "paper_bgcolor": "white",
          "plot_bgcolor": "white",
          "polar": {
           "angularaxis": {
            "gridcolor": "#EBF0F8",
            "linecolor": "#EBF0F8",
            "ticks": ""
           },
           "bgcolor": "white",
           "radialaxis": {
            "gridcolor": "#EBF0F8",
            "linecolor": "#EBF0F8",
            "ticks": ""
           }
          },
          "scene": {
           "xaxis": {
            "backgroundcolor": "white",
            "gridcolor": "#DFE8F3",
            "gridwidth": 2,
            "linecolor": "#EBF0F8",
            "showbackground": true,
            "ticks": "",
            "zerolinecolor": "#EBF0F8"
           },
           "yaxis": {
            "backgroundcolor": "white",
            "gridcolor": "#DFE8F3",
            "gridwidth": 2,
            "linecolor": "#EBF0F8",
            "showbackground": true,
            "ticks": "",
            "zerolinecolor": "#EBF0F8"
           },
           "zaxis": {
            "backgroundcolor": "white",
            "gridcolor": "#DFE8F3",
            "gridwidth": 2,
            "linecolor": "#EBF0F8",
            "showbackground": true,
            "ticks": "",
            "zerolinecolor": "#EBF0F8"
           }
          },
          "shapedefaults": {
           "line": {
            "color": "#2a3f5f"
           }
          },
          "ternary": {
           "aaxis": {
            "gridcolor": "#DFE8F3",
            "linecolor": "#A2B1C6",
            "ticks": ""
           },
           "baxis": {
            "gridcolor": "#DFE8F3",
            "linecolor": "#A2B1C6",
            "ticks": ""
           },
           "bgcolor": "white",
           "caxis": {
            "gridcolor": "#DFE8F3",
            "linecolor": "#A2B1C6",
            "ticks": ""
           }
          },
          "title": {
           "x": 0.05
          },
          "xaxis": {
           "automargin": true,
           "gridcolor": "#EBF0F8",
           "linecolor": "#EBF0F8",
           "ticks": "",
           "title": {
            "standoff": 15
           },
           "zerolinecolor": "#EBF0F8",
           "zerolinewidth": 2
          },
          "yaxis": {
           "automargin": true,
           "gridcolor": "#EBF0F8",
           "linecolor": "#EBF0F8",
           "ticks": "",
           "title": {
            "standoff": 15
           },
           "zerolinecolor": "#EBF0F8",
           "zerolinewidth": 2
          }
         }
        },
        "title": {
         "font": {
          "color": "Black",
          "size": 22
         },
         "text": "<b>Hierarchical Clustering</b>",
         "x": 0.5,
         "xanchor": "center",
         "yanchor": "top"
        },
        "width": 1000,
        "xaxis": {
         "mirror": "allticks",
         "rangemode": "tozero",
         "showgrid": false,
         "showline": true,
         "showticklabels": true,
         "ticks": "outside",
         "type": "linear",
         "zeroline": false
        },
        "yaxis": {
         "mirror": "allticks",
         "range": [
          -400,
          0
         ],
         "rangemode": "tozero",
         "showgrid": false,
         "showline": true,
         "showticklabels": true,
         "tickmode": "array",
         "ticks": "outside",
         "ticktext": [
          "24_gun_atf_biden",
          "23_china_hunter biden_hunter",
          "29_biden_money mouth_face_m...",
          "12_vaccine_vaccinated_biden",
          "15_border_immigration_biden",
          "4_biden_plan_policy",
          "3_biden_vote biden_manifest",
          "11_biden_joe biden_joe",
          "10_harris_kamala_black",
          "30_debate_final_biden",
          "21_christian_devil_god",
          "31_care_miss trump_mrs",
          "7_trump_world_real",
          "28_awful_ve_trump president",
          "38_mask_wear_wear mask",
          "34_pardon_trump pardon_prison",
          "37_parler_did trump_trump did",
          "39_died_americans died_people",
          "36_covid_ploy_trump covid",
          "33_virus_infected_country",
          "35_remove_fix_library",
          "14_party_gop_republicans",
          "8_trump_think_term",
          "13_court_supreme court_supr...",
          "6_money_trump_economy",
          "5_supporter_trump supporter...",
          "0_capitol_trump_terrorist",
          "16_white_racist_black",
          "9_twitter_tweet_trump",
          "17_woodward_cnn_jack",
          "27_impeached_impeachment_tr...",
          "26_said_trump wa_mean trump",
          "18_concede_communist_loses",
          "20_putin_russia_moscow mitch",
          "22_lie_lied_trump lie",
          "25_fact_biden_lie",
          "1_face_with_tears_of_joy_ro...",
          "19_accept_biden_votes",
          "2_vote_ballot_state",
          "32_united_states united_sta..."
         ],
         "tickvals": [
          -5,
          -15,
          -25,
          -35,
          -45,
          -55,
          -65,
          -75,
          -85,
          -95,
          -105,
          -115,
          -125,
          -135,
          -145,
          -155,
          -165,
          -175,
          -185,
          -195,
          -205,
          -215,
          -225,
          -235,
          -245,
          -255,
          -265,
          -275,
          -285,
          -295,
          -305,
          -315,
          -325,
          -335,
          -345,
          -355,
          -365,
          -375,
          -385,
          -395
         ],
         "type": "linear",
         "zeroline": false
        }
       }
      }
     },
     "metadata": {},
     "output_type": "display_data"
    }
   ],
   "source": [
    "model.visualize_hierarchy(top_n_topics=43)"
   ]
  },
  {
   "cell_type": "code",
   "execution_count": 27,
   "metadata": {},
   "outputs": [
    {
     "data": {
      "text/plain": [
       "<bertopic._bertopic.BERTopic at 0x241d7b56350>"
      ]
     },
     "execution_count": 27,
     "metadata": {},
     "output_type": "execute_result"
    }
   ],
   "source": [
    "#saving the model\n",
    "model.save(\"bert_best_model_tweets\")\n",
    "\n",
    "# loading the serialised model\n",
    "my_best_model = BERTopic.load(\"bert_best_model_tweets\")\n",
    "my_best_model"
   ]
  }
 ],
 "metadata": {
  "kernelspec": {
   "display_name": "Python 3",
   "language": "python",
   "name": "python3"
  },
  "language_info": {
   "codemirror_mode": {
    "name": "ipython",
    "version": 3
   },
   "file_extension": ".py",
   "mimetype": "text/x-python",
   "name": "python",
   "nbconvert_exporter": "python",
   "pygments_lexer": "ipython3",
   "version": "3.11.5"
  }
 },
 "nbformat": 4,
 "nbformat_minor": 2
}
