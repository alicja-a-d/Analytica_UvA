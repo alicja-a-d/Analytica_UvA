{
 "cells": [
  {
   "cell_type": "markdown",
   "metadata": {},
   "source": [
    "### Topic modelling on tweets with BERTweet\n"
   ]
  },
  {
   "cell_type": "code",
   "execution_count": 1,
   "metadata": {},
   "outputs": [
    {
     "name": "stderr",
     "output_type": "stream",
     "text": [
      "[nltk_data] Downloading package stopwords to\n",
      "[nltk_data]     C:\\Users\\hielk\\AppData\\Roaming\\nltk_data...\n",
      "[nltk_data]   Package stopwords is already up-to-date!\n",
      "[nltk_data] Downloading package wordnet to\n",
      "[nltk_data]     C:\\Users\\hielk\\AppData\\Roaming\\nltk_data...\n",
      "[nltk_data]   Package wordnet is already up-to-date!\n"
     ]
    }
   ],
   "source": [
    "#importing required libraries\n",
    "# %pip install nltk emoji==0.6.0\n",
    "import pandas as pd \n",
    "import seaborn as sns\n",
    "import matplotlib.pyplot as plt\n",
    "from bertopic import BERTopic\n",
    "import string\n",
    "from wordcloud import WordCloud\n",
    "import nltk\n",
    "from nltk.corpus import stopwords\n",
    "from nltk.stem import PorterStemmer\n",
    "from nltk.stem import WordNetLemmatizer\n",
    "from nltk.tokenize import word_tokenize\n",
    "nltk.download('stopwords')\n",
    "nltk.download('wordnet')\n",
    "from collections import Counter\n",
    "import re\n",
    "import os\n",
    "from ast import literal_eval\n",
    "from sentence_transformers import SentenceTransformer\n",
    "from umap import UMAP\n",
    "import dataframe_image as dfi\n",
    "from sklearn.metrics.pairwise import cosine_similarity\n",
    "from sklearn.feature_extraction import text\n",
    "\n",
    "import emoji\n",
    "from emoji import demojize\n",
    "from nltk.tokenize import TweetTokenizer  #keeps hashtags intact\n",
    "\n",
    "import torch\n",
    "from transformers import AutoModel, AutoTokenizer \n",
    "from TweetNormalizer import normalizeTweet\n"
   ]
  },
  {
   "cell_type": "markdown",
   "metadata": {},
   "source": [
    "Running the topic modelling on 2000 tweets as a 100 was too little."
   ]
  },
  {
   "cell_type": "code",
   "execution_count": 2,
   "metadata": {},
   "outputs": [
    {
     "data": {
      "text/html": [
       "<div>\n",
       "<style scoped>\n",
       "    .dataframe tbody tr th:only-of-type {\n",
       "        vertical-align: middle;\n",
       "    }\n",
       "\n",
       "    .dataframe tbody tr th {\n",
       "        vertical-align: top;\n",
       "    }\n",
       "\n",
       "    .dataframe thead th {\n",
       "        text-align: right;\n",
       "    }\n",
       "</style>\n",
       "<table border=\"1\" class=\"dataframe\">\n",
       "  <thead>\n",
       "    <tr style=\"text-align: right;\">\n",
       "      <th></th>\n",
       "      <th>created_at_fuzzy</th>\n",
       "      <th>state_likely_tweeted_from</th>\n",
       "      <th>text</th>\n",
       "      <th>source</th>\n",
       "      <th>display_text_width</th>\n",
       "      <th>lang</th>\n",
       "      <th>favorite_count</th>\n",
       "      <th>retweet_count</th>\n",
       "      <th>is_quote</th>\n",
       "      <th>followers_count</th>\n",
       "      <th>friends_count</th>\n",
       "      <th>listed_count</th>\n",
       "      <th>statuses_count</th>\n",
       "      <th>favourites_count</th>\n",
       "      <th>cleaned_text</th>\n",
       "      <th>Toxicity</th>\n",
       "      <th>Fact assessment</th>\n",
       "      <th>Trivia question</th>\n",
       "      <th>Offensive Assessment</th>\n",
       "    </tr>\n",
       "  </thead>\n",
       "  <tbody>\n",
       "    <tr>\n",
       "      <th>0</th>\n",
       "      <td>2020-08-13T16:55:49Z</td>\n",
       "      <td>California</td>\n",
       "      <td>LIVE: Trump holds press conference https://t.c...</td>\n",
       "      <td>Twitter Web App</td>\n",
       "      <td>71</td>\n",
       "      <td>en</td>\n",
       "      <td>0</td>\n",
       "      <td>0</td>\n",
       "      <td>False</td>\n",
       "      <td>3281</td>\n",
       "      <td>4938</td>\n",
       "      <td>4</td>\n",
       "      <td>39349</td>\n",
       "      <td>23299</td>\n",
       "      <td>LIVE: Trump holds press conference  via @YouTube</td>\n",
       "      <td>1</td>\n",
       "      <td>no verdict</td>\n",
       "      <td>NaN</td>\n",
       "      <td>NaN</td>\n",
       "    </tr>\n",
       "    <tr>\n",
       "      <th>1</th>\n",
       "      <td>2020-08-30T00:03:31Z</td>\n",
       "      <td>Tennessee</td>\n",
       "      <td>Trump’s claim the ‘silent majority’ will save ...</td>\n",
       "      <td>Twitter Web App</td>\n",
       "      <td>205</td>\n",
       "      <td>en</td>\n",
       "      <td>9</td>\n",
       "      <td>2</td>\n",
       "      <td>False</td>\n",
       "      <td>2866</td>\n",
       "      <td>3000</td>\n",
       "      <td>2</td>\n",
       "      <td>23786</td>\n",
       "      <td>30906</td>\n",
       "      <td>Trump’s claim the ‘silent majority’ will save ...</td>\n",
       "      <td>8</td>\n",
       "      <td>'no verdict'</td>\n",
       "      <td>NaN</td>\n",
       "      <td>NaN</td>\n",
       "    </tr>\n",
       "    <tr>\n",
       "      <th>2</th>\n",
       "      <td>2020-10-26T23:16:05Z</td>\n",
       "      <td>New York</td>\n",
       "      <td>#NewHampshire #VoteBlue #VoteBlueToSaveAmerica...</td>\n",
       "      <td>Twitter Web App</td>\n",
       "      <td>267</td>\n",
       "      <td>en</td>\n",
       "      <td>7</td>\n",
       "      <td>4</td>\n",
       "      <td>False</td>\n",
       "      <td>32221</td>\n",
       "      <td>26550</td>\n",
       "      <td>52</td>\n",
       "      <td>304911</td>\n",
       "      <td>146137</td>\n",
       "      <td>#NewHampshire #VoteBlue #VoteBlueToSaveAmerica...</td>\n",
       "      <td>2</td>\n",
       "      <td>'true'</td>\n",
       "      <td>NaN</td>\n",
       "      <td>NaN</td>\n",
       "    </tr>\n",
       "    <tr>\n",
       "      <th>3</th>\n",
       "      <td>2020-08-24T09:54:59Z</td>\n",
       "      <td>Florida</td>\n",
       "      <td>@davidsirota I'm so confused, when is the medi...</td>\n",
       "      <td>Twitter for Android</td>\n",
       "      <td>262</td>\n",
       "      <td>en</td>\n",
       "      <td>2</td>\n",
       "      <td>0</td>\n",
       "      <td>False</td>\n",
       "      <td>457</td>\n",
       "      <td>375</td>\n",
       "      <td>5</td>\n",
       "      <td>16851</td>\n",
       "      <td>7429</td>\n",
       "      <td>@davidsirota I'm so confused, when is the medi...</td>\n",
       "      <td>7</td>\n",
       "      <td>'no verdict'</td>\n",
       "      <td>NaN</td>\n",
       "      <td>NaN</td>\n",
       "    </tr>\n",
       "    <tr>\n",
       "      <th>4</th>\n",
       "      <td>2021-02-04T11:31:07Z</td>\n",
       "      <td>Washington</td>\n",
       "      <td>@Carlos27480217 @DonaldJTrumpJr Yep! He has Ba...</td>\n",
       "      <td>Twitter for Android</td>\n",
       "      <td>88</td>\n",
       "      <td>en</td>\n",
       "      <td>0</td>\n",
       "      <td>0</td>\n",
       "      <td>False</td>\n",
       "      <td>43</td>\n",
       "      <td>177</td>\n",
       "      <td>0</td>\n",
       "      <td>2618</td>\n",
       "      <td>1517</td>\n",
       "      <td>@Carlos27480217 @DonaldJTrumpJr Yep! He has Ba...</td>\n",
       "      <td>8</td>\n",
       "      <td>'false'</td>\n",
       "      <td>NaN</td>\n",
       "      <td>NaN</td>\n",
       "    </tr>\n",
       "    <tr>\n",
       "      <th>5</th>\n",
       "      <td>2021-01-03T11:54:56Z</td>\n",
       "      <td>Texas</td>\n",
       "      <td>@HouseGOP @SenateGOP @GOP @NRSC @NRCC It is in...</td>\n",
       "      <td>Twitter for iPhone</td>\n",
       "      <td>270</td>\n",
       "      <td>en</td>\n",
       "      <td>0</td>\n",
       "      <td>0</td>\n",
       "      <td>True</td>\n",
       "      <td>17842</td>\n",
       "      <td>15408</td>\n",
       "      <td>29</td>\n",
       "      <td>37936</td>\n",
       "      <td>31978</td>\n",
       "      <td>@HouseGOP @SenateGOP @GOP @NRSC @NRCC It is in...</td>\n",
       "      <td>8</td>\n",
       "      <td>false</td>\n",
       "      <td>NaN</td>\n",
       "      <td>NaN</td>\n",
       "    </tr>\n",
       "    <tr>\n",
       "      <th>6</th>\n",
       "      <td>2020-09-03T03:39:01Z</td>\n",
       "      <td>Illinois</td>\n",
       "      <td>@dachs8 @JordanChariton Seriously? Almost ever...</td>\n",
       "      <td>Twitter for Android</td>\n",
       "      <td>278</td>\n",
       "      <td>en</td>\n",
       "      <td>6</td>\n",
       "      <td>0</td>\n",
       "      <td>False</td>\n",
       "      <td>1116</td>\n",
       "      <td>1588</td>\n",
       "      <td>6</td>\n",
       "      <td>7168</td>\n",
       "      <td>125089</td>\n",
       "      <td>@dachs8 @JordanChariton Seriously? Almost ever...</td>\n",
       "      <td>7</td>\n",
       "      <td>'no verdict'</td>\n",
       "      <td>NaN</td>\n",
       "      <td>NaN</td>\n",
       "    </tr>\n",
       "    <tr>\n",
       "      <th>7</th>\n",
       "      <td>2021-02-10T01:29:58Z</td>\n",
       "      <td>North Carolina</td>\n",
       "      <td>Biden endorses sending stimulus checks to Amer...</td>\n",
       "      <td>Twitter for iPhone</td>\n",
       "      <td>120</td>\n",
       "      <td>en</td>\n",
       "      <td>0</td>\n",
       "      <td>0</td>\n",
       "      <td>False</td>\n",
       "      <td>377</td>\n",
       "      <td>295</td>\n",
       "      <td>1</td>\n",
       "      <td>84774</td>\n",
       "      <td>38849</td>\n",
       "      <td>Biden endorses sending stimulus checks to Amer...</td>\n",
       "      <td>2</td>\n",
       "      <td>'true'</td>\n",
       "      <td>NaN</td>\n",
       "      <td>NaN</td>\n",
       "    </tr>\n",
       "    <tr>\n",
       "      <th>8</th>\n",
       "      <td>2020-12-16T19:04:31Z</td>\n",
       "      <td>California</td>\n",
       "      <td>Doug Collins is in the Deep state Mitch McConn...</td>\n",
       "      <td>Twitter for Android</td>\n",
       "      <td>195</td>\n",
       "      <td>en</td>\n",
       "      <td>1</td>\n",
       "      <td>0</td>\n",
       "      <td>False</td>\n",
       "      <td>91</td>\n",
       "      <td>523</td>\n",
       "      <td>0</td>\n",
       "      <td>1245</td>\n",
       "      <td>1427</td>\n",
       "      <td>Doug Collins is in the Deep state Mitch McConn...</td>\n",
       "      <td>8</td>\n",
       "      <td>False</td>\n",
       "      <td>NaN</td>\n",
       "      <td>NaN</td>\n",
       "    </tr>\n",
       "    <tr>\n",
       "      <th>9</th>\n",
       "      <td>2020-07-29T13:51:59Z</td>\n",
       "      <td>Kansas</td>\n",
       "      <td>It was Trump's antic semitic joke: \"You don't ...</td>\n",
       "      <td>Twitter for Android</td>\n",
       "      <td>69</td>\n",
       "      <td>en</td>\n",
       "      <td>0</td>\n",
       "      <td>0</td>\n",
       "      <td>True</td>\n",
       "      <td>211</td>\n",
       "      <td>637</td>\n",
       "      <td>0</td>\n",
       "      <td>115742</td>\n",
       "      <td>48100</td>\n",
       "      <td>It was Trump's antic semitic joke: \"You don't ...</td>\n",
       "      <td>8</td>\n",
       "      <td>False</td>\n",
       "      <td>NaN</td>\n",
       "      <td>NaN</td>\n",
       "    </tr>\n",
       "    <tr>\n",
       "      <th>10</th>\n",
       "      <td>2020-10-08T07:48:34Z</td>\n",
       "      <td>Oregon</td>\n",
       "      <td>We're not electing a dictator. The president i...</td>\n",
       "      <td>Twitter for Android</td>\n",
       "      <td>242</td>\n",
       "      <td>en</td>\n",
       "      <td>1</td>\n",
       "      <td>0</td>\n",
       "      <td>False</td>\n",
       "      <td>678</td>\n",
       "      <td>1179</td>\n",
       "      <td>34</td>\n",
       "      <td>146317</td>\n",
       "      <td>266836</td>\n",
       "      <td>We're not electing a dictator. The president i...</td>\n",
       "      <td>7</td>\n",
       "      <td>'no verdict'</td>\n",
       "      <td>NaN</td>\n",
       "      <td>NaN</td>\n",
       "    </tr>\n",
       "    <tr>\n",
       "      <th>11</th>\n",
       "      <td>2020-12-25T11:32:41Z</td>\n",
       "      <td>Pennsylvania</td>\n",
       "      <td>@PreetBharara I've always stood by *pled*, unt...</td>\n",
       "      <td>Twitter for Android</td>\n",
       "      <td>108</td>\n",
       "      <td>en</td>\n",
       "      <td>0</td>\n",
       "      <td>0</td>\n",
       "      <td>False</td>\n",
       "      <td>164</td>\n",
       "      <td>242</td>\n",
       "      <td>7</td>\n",
       "      <td>22893</td>\n",
       "      <td>18428</td>\n",
       "      <td>@PreetBharara I've always stood by *pled*, unt...</td>\n",
       "      <td>2</td>\n",
       "      <td>'no verdict'</td>\n",
       "      <td>NaN</td>\n",
       "      <td>NaN</td>\n",
       "    </tr>\n",
       "    <tr>\n",
       "      <th>12</th>\n",
       "      <td>2020-11-26T07:20:31Z</td>\n",
       "      <td>Indiana</td>\n",
       "      <td>@DenaePFA @WajahatAli Got this Bible verse fro...</td>\n",
       "      <td>Twitter Web App</td>\n",
       "      <td>232</td>\n",
       "      <td>en</td>\n",
       "      <td>1</td>\n",
       "      <td>0</td>\n",
       "      <td>False</td>\n",
       "      <td>5781</td>\n",
       "      <td>6037</td>\n",
       "      <td>3</td>\n",
       "      <td>23623</td>\n",
       "      <td>21302</td>\n",
       "      <td>@DenaePFA @WajahatAli Got this Bible verse fro...</td>\n",
       "      <td>7</td>\n",
       "      <td>'no verdict'</td>\n",
       "      <td>NaN</td>\n",
       "      <td>NaN</td>\n",
       "    </tr>\n",
       "    <tr>\n",
       "      <th>13</th>\n",
       "      <td>2020-10-17T14:04:04Z</td>\n",
       "      <td>Pennsylvania</td>\n",
       "      <td>@AndrewBatesNC Except he said he would cancel ...</td>\n",
       "      <td>Twitter for Android</td>\n",
       "      <td>126</td>\n",
       "      <td>en</td>\n",
       "      <td>0</td>\n",
       "      <td>0</td>\n",
       "      <td>False</td>\n",
       "      <td>118</td>\n",
       "      <td>352</td>\n",
       "      <td>3</td>\n",
       "      <td>3802</td>\n",
       "      <td>4830</td>\n",
       "      <td>@AndrewBatesNC Except he said he would cancel ...</td>\n",
       "      <td>7</td>\n",
       "      <td>False</td>\n",
       "      <td>NaN</td>\n",
       "      <td>NaN</td>\n",
       "    </tr>\n",
       "    <tr>\n",
       "      <th>14</th>\n",
       "      <td>2021-03-25T06:10:17Z</td>\n",
       "      <td>Texas</td>\n",
       "      <td>@laurenboebert The president of Mexico blames ...</td>\n",
       "      <td>Twitter for Android</td>\n",
       "      <td>36</td>\n",
       "      <td>en</td>\n",
       "      <td>0</td>\n",
       "      <td>0</td>\n",
       "      <td>False</td>\n",
       "      <td>7</td>\n",
       "      <td>58</td>\n",
       "      <td>0</td>\n",
       "      <td>158</td>\n",
       "      <td>124</td>\n",
       "      <td>@laurenboebert The president of Mexico blames ...</td>\n",
       "      <td>3</td>\n",
       "      <td>False</td>\n",
       "      <td>NaN</td>\n",
       "      <td>NaN</td>\n",
       "    </tr>\n",
       "    <tr>\n",
       "      <th>15</th>\n",
       "      <td>2020-11-15T13:47:51Z</td>\n",
       "      <td>Maine</td>\n",
       "      <td>@CassandraAhearn PS\\r\\n@Twitter  @Jack  @Twitt...</td>\n",
       "      <td>Twitter Web App</td>\n",
       "      <td>263</td>\n",
       "      <td>en</td>\n",
       "      <td>1</td>\n",
       "      <td>0</td>\n",
       "      <td>False</td>\n",
       "      <td>11320</td>\n",
       "      <td>12314</td>\n",
       "      <td>8</td>\n",
       "      <td>26730</td>\n",
       "      <td>36105</td>\n",
       "      <td>@CassandraAhearn PS\\r\\n@Twitter  @Jack  @Twitt...</td>\n",
       "      <td>8</td>\n",
       "      <td>'no verdict'</td>\n",
       "      <td>NaN</td>\n",
       "      <td>NaN</td>\n",
       "    </tr>\n",
       "    <tr>\n",
       "      <th>16</th>\n",
       "      <td>2021-02-16T01:52:59Z</td>\n",
       "      <td>Utah</td>\n",
       "      <td>Hot take; Romney isn’t against Trump because h...</td>\n",
       "      <td>Twitter for iPhone</td>\n",
       "      <td>132</td>\n",
       "      <td>en</td>\n",
       "      <td>16</td>\n",
       "      <td>1</td>\n",
       "      <td>True</td>\n",
       "      <td>298</td>\n",
       "      <td>501</td>\n",
       "      <td>2</td>\n",
       "      <td>3002</td>\n",
       "      <td>5086</td>\n",
       "      <td>Hot take; Romney isn’t against Trump because h...</td>\n",
       "      <td>2</td>\n",
       "      <td>'true'</td>\n",
       "      <td>NaN</td>\n",
       "      <td>NaN</td>\n",
       "    </tr>\n",
       "    <tr>\n",
       "      <th>17</th>\n",
       "      <td>2020-09-30T23:10:23Z</td>\n",
       "      <td>Hawaii</td>\n",
       "      <td>Trump actually stood in front of the cameras t...</td>\n",
       "      <td>Twitter Web App</td>\n",
       "      <td>181</td>\n",
       "      <td>en</td>\n",
       "      <td>12</td>\n",
       "      <td>3</td>\n",
       "      <td>False</td>\n",
       "      <td>2689</td>\n",
       "      <td>2491</td>\n",
       "      <td>22</td>\n",
       "      <td>39381</td>\n",
       "      <td>88744</td>\n",
       "      <td>Trump actually stood in front of the cameras t...</td>\n",
       "      <td>8</td>\n",
       "      <td>'true'</td>\n",
       "      <td>NaN</td>\n",
       "      <td>NaN</td>\n",
       "    </tr>\n",
       "    <tr>\n",
       "      <th>18</th>\n",
       "      <td>2021-03-04T07:03:15Z</td>\n",
       "      <td>Iowa</td>\n",
       "      <td>feel free to join in if you ever see me bullyi...</td>\n",
       "      <td>Twitter for iPhone</td>\n",
       "      <td>64</td>\n",
       "      <td>en</td>\n",
       "      <td>2</td>\n",
       "      <td>0</td>\n",
       "      <td>False</td>\n",
       "      <td>819</td>\n",
       "      <td>450</td>\n",
       "      <td>5</td>\n",
       "      <td>26708</td>\n",
       "      <td>73717</td>\n",
       "      <td>feel free to join in if you ever see me bullyi...</td>\n",
       "      <td>2</td>\n",
       "      <td>'no verdict'</td>\n",
       "      <td>NaN</td>\n",
       "      <td>NaN</td>\n",
       "    </tr>\n",
       "    <tr>\n",
       "      <th>19</th>\n",
       "      <td>2020-09-30T05:47:00Z</td>\n",
       "      <td>Nevada</td>\n",
       "      <td>@PatriotBee78 Biden was low on substance. Also...</td>\n",
       "      <td>Twitter Web App</td>\n",
       "      <td>166</td>\n",
       "      <td>en</td>\n",
       "      <td>5</td>\n",
       "      <td>4</td>\n",
       "      <td>False</td>\n",
       "      <td>38505</td>\n",
       "      <td>38626</td>\n",
       "      <td>225</td>\n",
       "      <td>81777</td>\n",
       "      <td>2779</td>\n",
       "      <td>@PatriotBee78 Biden was low on substance. Also...</td>\n",
       "      <td>8</td>\n",
       "      <td>'false'</td>\n",
       "      <td>NaN</td>\n",
       "      <td>NaN</td>\n",
       "    </tr>\n",
       "  </tbody>\n",
       "</table>\n",
       "</div>"
      ],
      "text/plain": [
       "        created_at_fuzzy state_likely_tweeted_from  \\\n",
       "0   2020-08-13T16:55:49Z                California   \n",
       "1   2020-08-30T00:03:31Z                 Tennessee   \n",
       "2   2020-10-26T23:16:05Z                  New York   \n",
       "3   2020-08-24T09:54:59Z                   Florida   \n",
       "4   2021-02-04T11:31:07Z                Washington   \n",
       "5   2021-01-03T11:54:56Z                     Texas   \n",
       "6   2020-09-03T03:39:01Z                  Illinois   \n",
       "7   2021-02-10T01:29:58Z            North Carolina   \n",
       "8   2020-12-16T19:04:31Z                California   \n",
       "9   2020-07-29T13:51:59Z                    Kansas   \n",
       "10  2020-10-08T07:48:34Z                    Oregon   \n",
       "11  2020-12-25T11:32:41Z              Pennsylvania   \n",
       "12  2020-11-26T07:20:31Z                   Indiana   \n",
       "13  2020-10-17T14:04:04Z              Pennsylvania   \n",
       "14  2021-03-25T06:10:17Z                     Texas   \n",
       "15  2020-11-15T13:47:51Z                     Maine   \n",
       "16  2021-02-16T01:52:59Z                      Utah   \n",
       "17  2020-09-30T23:10:23Z                    Hawaii   \n",
       "18  2021-03-04T07:03:15Z                      Iowa   \n",
       "19  2020-09-30T05:47:00Z                    Nevada   \n",
       "\n",
       "                                                 text               source  \\\n",
       "0   LIVE: Trump holds press conference https://t.c...      Twitter Web App   \n",
       "1   Trump’s claim the ‘silent majority’ will save ...      Twitter Web App   \n",
       "2   #NewHampshire #VoteBlue #VoteBlueToSaveAmerica...      Twitter Web App   \n",
       "3   @davidsirota I'm so confused, when is the medi...  Twitter for Android   \n",
       "4   @Carlos27480217 @DonaldJTrumpJr Yep! He has Ba...  Twitter for Android   \n",
       "5   @HouseGOP @SenateGOP @GOP @NRSC @NRCC It is in...   Twitter for iPhone   \n",
       "6   @dachs8 @JordanChariton Seriously? Almost ever...  Twitter for Android   \n",
       "7   Biden endorses sending stimulus checks to Amer...   Twitter for iPhone   \n",
       "8   Doug Collins is in the Deep state Mitch McConn...  Twitter for Android   \n",
       "9   It was Trump's antic semitic joke: \"You don't ...  Twitter for Android   \n",
       "10  We're not electing a dictator. The president i...  Twitter for Android   \n",
       "11  @PreetBharara I've always stood by *pled*, unt...  Twitter for Android   \n",
       "12  @DenaePFA @WajahatAli Got this Bible verse fro...      Twitter Web App   \n",
       "13  @AndrewBatesNC Except he said he would cancel ...  Twitter for Android   \n",
       "14  @laurenboebert The president of Mexico blames ...  Twitter for Android   \n",
       "15  @CassandraAhearn PS\\r\\n@Twitter  @Jack  @Twitt...      Twitter Web App   \n",
       "16  Hot take; Romney isn’t against Trump because h...   Twitter for iPhone   \n",
       "17  Trump actually stood in front of the cameras t...      Twitter Web App   \n",
       "18  feel free to join in if you ever see me bullyi...   Twitter for iPhone   \n",
       "19  @PatriotBee78 Biden was low on substance. Also...      Twitter Web App   \n",
       "\n",
       "    display_text_width lang  favorite_count  retweet_count  is_quote  \\\n",
       "0                   71   en               0              0     False   \n",
       "1                  205   en               9              2     False   \n",
       "2                  267   en               7              4     False   \n",
       "3                  262   en               2              0     False   \n",
       "4                   88   en               0              0     False   \n",
       "5                  270   en               0              0      True   \n",
       "6                  278   en               6              0     False   \n",
       "7                  120   en               0              0     False   \n",
       "8                  195   en               1              0     False   \n",
       "9                   69   en               0              0      True   \n",
       "10                 242   en               1              0     False   \n",
       "11                 108   en               0              0     False   \n",
       "12                 232   en               1              0     False   \n",
       "13                 126   en               0              0     False   \n",
       "14                  36   en               0              0     False   \n",
       "15                 263   en               1              0     False   \n",
       "16                 132   en              16              1      True   \n",
       "17                 181   en              12              3     False   \n",
       "18                  64   en               2              0     False   \n",
       "19                 166   en               5              4     False   \n",
       "\n",
       "    followers_count  friends_count  listed_count  statuses_count  \\\n",
       "0              3281           4938             4           39349   \n",
       "1              2866           3000             2           23786   \n",
       "2             32221          26550            52          304911   \n",
       "3               457            375             5           16851   \n",
       "4                43            177             0            2618   \n",
       "5             17842          15408            29           37936   \n",
       "6              1116           1588             6            7168   \n",
       "7               377            295             1           84774   \n",
       "8                91            523             0            1245   \n",
       "9               211            637             0          115742   \n",
       "10              678           1179            34          146317   \n",
       "11              164            242             7           22893   \n",
       "12             5781           6037             3           23623   \n",
       "13              118            352             3            3802   \n",
       "14                7             58             0             158   \n",
       "15            11320          12314             8           26730   \n",
       "16              298            501             2            3002   \n",
       "17             2689           2491            22           39381   \n",
       "18              819            450             5           26708   \n",
       "19            38505          38626           225           81777   \n",
       "\n",
       "    favourites_count                                       cleaned_text  \\\n",
       "0              23299   LIVE: Trump holds press conference  via @YouTube   \n",
       "1              30906  Trump’s claim the ‘silent majority’ will save ...   \n",
       "2             146137  #NewHampshire #VoteBlue #VoteBlueToSaveAmerica...   \n",
       "3               7429  @davidsirota I'm so confused, when is the medi...   \n",
       "4               1517  @Carlos27480217 @DonaldJTrumpJr Yep! He has Ba...   \n",
       "5              31978  @HouseGOP @SenateGOP @GOP @NRSC @NRCC It is in...   \n",
       "6             125089  @dachs8 @JordanChariton Seriously? Almost ever...   \n",
       "7              38849  Biden endorses sending stimulus checks to Amer...   \n",
       "8               1427  Doug Collins is in the Deep state Mitch McConn...   \n",
       "9              48100  It was Trump's antic semitic joke: \"You don't ...   \n",
       "10            266836  We're not electing a dictator. The president i...   \n",
       "11             18428  @PreetBharara I've always stood by *pled*, unt...   \n",
       "12             21302  @DenaePFA @WajahatAli Got this Bible verse fro...   \n",
       "13              4830  @AndrewBatesNC Except he said he would cancel ...   \n",
       "14               124  @laurenboebert The president of Mexico blames ...   \n",
       "15             36105  @CassandraAhearn PS\\r\\n@Twitter  @Jack  @Twitt...   \n",
       "16              5086  Hot take; Romney isn’t against Trump because h...   \n",
       "17             88744  Trump actually stood in front of the cameras t...   \n",
       "18             73717  feel free to join in if you ever see me bullyi...   \n",
       "19              2779  @PatriotBee78 Biden was low on substance. Also...   \n",
       "\n",
       "    Toxicity Fact assessment Trivia question Offensive Assessment  \n",
       "0          1      no verdict             NaN                  NaN  \n",
       "1          8    'no verdict'             NaN                  NaN  \n",
       "2          2          'true'             NaN                  NaN  \n",
       "3          7    'no verdict'             NaN                  NaN  \n",
       "4          8         'false'             NaN                  NaN  \n",
       "5          8           false             NaN                  NaN  \n",
       "6          7    'no verdict'             NaN                  NaN  \n",
       "7          2          'true'             NaN                  NaN  \n",
       "8          8           False             NaN                  NaN  \n",
       "9          8           False             NaN                  NaN  \n",
       "10         7    'no verdict'             NaN                  NaN  \n",
       "11         2    'no verdict'             NaN                  NaN  \n",
       "12         7    'no verdict'             NaN                  NaN  \n",
       "13         7           False             NaN                  NaN  \n",
       "14         3           False             NaN                  NaN  \n",
       "15         8    'no verdict'             NaN                  NaN  \n",
       "16         2          'true'             NaN                  NaN  \n",
       "17         8          'true'             NaN                  NaN  \n",
       "18         2    'no verdict'             NaN                  NaN  \n",
       "19         8         'false'             NaN                  NaN  "
      ]
     },
     "execution_count": 2,
     "metadata": {},
     "output_type": "execute_result"
    }
   ],
   "source": [
    "# Path to the CSV file\n",
    "csv_file_path = \"../../data/labelled/2000_random_tweets_labelled.csv\"\n",
    "\n",
    "# Read the CSV file into a DataFrame\n",
    "df = pd.read_csv(csv_file_path)\n",
    "\n",
    "# Remove rows with text language other than English\n",
    "df = df[df['lang'] == 'en']\n",
    "\n",
    "# Display the first few rows of the DataFrame to verify it was read correctly\n",
    "df.head(20)\n"
   ]
  },
  {
   "cell_type": "code",
   "execution_count": 3,
   "metadata": {},
   "outputs": [
    {
     "data": {
      "image/png": "[encoded data removed]",
      "text/plain": [
       "<Figure size 500x500 with 1 Axes>"
      ]
     },
     "metadata": {},
     "output_type": "display_data"
    }
   ],
   "source": [
    "#adding an extra column as this is the columsn that will appear in the dataset we gave to LLM, we can of course adapt this \n",
    "# just depends which analysis we will be doing first \n",
    "\n",
    "df['cleaned_text'] = df['text']\n",
    "\n",
    "\n",
    "# creating a new column containing the length of each headline text that is larger than 0\n",
    "non_empty_lengths = df[(df['cleaned_text'].notnull()) & (df['display_text_width'] > 0)]['display_text_width']\n",
    "# visualising the length distribution \n",
    "\n",
    "sns.set(rc={'figure.figsize':(14,11)})\n",
    "sns.set(style=\"whitegrid\")\n",
    "sns.displot(non_empty_lengths, kde=False, color='green', bins=100)\n",
    "\n",
    "\n",
    "plt.ylabel('Frequency', fontsize=12)\n",
    "plt.xlabel('Distribution of Tweet Text Lengths', fontsize=12)\n",
    "plt.grid(True)\n",
    "\n",
    "\n",
    "plt.show()"
   ]
  },
  {
   "cell_type": "markdown",
   "metadata": {},
   "source": [
    "# Text preprocessing and cleaning"
   ]
  },
  {
   "cell_type": "code",
   "execution_count": 4,
   "metadata": {},
   "outputs": [],
   "source": [
    "from TweetNormalizer import normalizeTweet\n",
    "\n",
    "def apply_tweet_normalization(df):\n",
    "    \"\"\"\n",
    "    Apply tweet normalization to the 'cleaned_text' column in the DataFrame.\n",
    "    \n",
    "    Parameters:\n",
    "        df (pandas.DataFrame): DataFrame containing the 'cleaned_text' column.\n",
    "        \n",
    "    Returns:\n",
    "        pandas.DataFrame: DataFrame with normalized tweet text.\n",
    "    \"\"\"\n",
    "    try:\n",
    "        df['cleaned_text'] = df['cleaned_text'].apply(normalizeTweet)\n",
    "        return df\n",
    "    except Exception as e:\n",
    "        print(\"An error occurred:\", e)\n",
    "        return None\n",
    "\n",
    "# Call the function to apply tweet normalization\n",
    "df = apply_tweet_normalization(df)"
   ]
  },
  {
   "cell_type": "code",
   "execution_count": 5,
   "metadata": {},
   "outputs": [
    {
     "data": {
      "text/html": [
       "<div>\n",
       "<style scoped>\n",
       "    .dataframe tbody tr th:only-of-type {\n",
       "        vertical-align: middle;\n",
       "    }\n",
       "\n",
       "    .dataframe tbody tr th {\n",
       "        vertical-align: top;\n",
       "    }\n",
       "\n",
       "    .dataframe thead th {\n",
       "        text-align: right;\n",
       "    }\n",
       "</style>\n",
       "<table border=\"1\" class=\"dataframe\">\n",
       "  <thead>\n",
       "    <tr style=\"text-align: right;\">\n",
       "      <th></th>\n",
       "      <th>created_at_fuzzy</th>\n",
       "      <th>state_likely_tweeted_from</th>\n",
       "      <th>text</th>\n",
       "      <th>source</th>\n",
       "      <th>display_text_width</th>\n",
       "      <th>lang</th>\n",
       "      <th>favorite_count</th>\n",
       "      <th>retweet_count</th>\n",
       "      <th>is_quote</th>\n",
       "      <th>followers_count</th>\n",
       "      <th>friends_count</th>\n",
       "      <th>listed_count</th>\n",
       "      <th>statuses_count</th>\n",
       "      <th>favourites_count</th>\n",
       "      <th>cleaned_text</th>\n",
       "      <th>Toxicity</th>\n",
       "      <th>Fact assessment</th>\n",
       "      <th>Trivia question</th>\n",
       "      <th>Offensive Assessment</th>\n",
       "    </tr>\n",
       "  </thead>\n",
       "  <tbody>\n",
       "    <tr>\n",
       "      <th>0</th>\n",
       "      <td>2020-08-13T16:55:49Z</td>\n",
       "      <td>California</td>\n",
       "      <td>LIVE: Trump holds press conference https://t.c...</td>\n",
       "      <td>Twitter Web App</td>\n",
       "      <td>71</td>\n",
       "      <td>en</td>\n",
       "      <td>0</td>\n",
       "      <td>0</td>\n",
       "      <td>False</td>\n",
       "      <td>3281</td>\n",
       "      <td>4938</td>\n",
       "      <td>4</td>\n",
       "      <td>39349</td>\n",
       "      <td>23299</td>\n",
       "      <td>live : trump hold press conference httpurl via...</td>\n",
       "      <td>1</td>\n",
       "      <td>no verdict</td>\n",
       "      <td>NaN</td>\n",
       "      <td>NaN</td>\n",
       "    </tr>\n",
       "    <tr>\n",
       "      <th>1</th>\n",
       "      <td>2020-08-30T00:03:31Z</td>\n",
       "      <td>Tennessee</td>\n",
       "      <td>Trump’s claim the ‘silent majority’ will save ...</td>\n",
       "      <td>Twitter Web App</td>\n",
       "      <td>205</td>\n",
       "      <td>en</td>\n",
       "      <td>9</td>\n",
       "      <td>2</td>\n",
       "      <td>False</td>\n",
       "      <td>2866</td>\n",
       "      <td>3000</td>\n",
       "      <td>2</td>\n",
       "      <td>23786</td>\n",
       "      <td>30906</td>\n",
       "      <td>trump 's claim the ‘ silent majority ' will sa...</td>\n",
       "      <td>8</td>\n",
       "      <td>'no verdict'</td>\n",
       "      <td>NaN</td>\n",
       "      <td>NaN</td>\n",
       "    </tr>\n",
       "    <tr>\n",
       "      <th>2</th>\n",
       "      <td>2020-10-26T23:16:05Z</td>\n",
       "      <td>New York</td>\n",
       "      <td>#NewHampshire #VoteBlue #VoteBlueToSaveAmerica...</td>\n",
       "      <td>Twitter Web App</td>\n",
       "      <td>267</td>\n",
       "      <td>en</td>\n",
       "      <td>7</td>\n",
       "      <td>4</td>\n",
       "      <td>False</td>\n",
       "      <td>32221</td>\n",
       "      <td>26550</td>\n",
       "      <td>52</td>\n",
       "      <td>304911</td>\n",
       "      <td>146137</td>\n",
       "      <td>#newhampshire #voteblue #votebluetosaveamerica...</td>\n",
       "      <td>2</td>\n",
       "      <td>'true'</td>\n",
       "      <td>NaN</td>\n",
       "      <td>NaN</td>\n",
       "    </tr>\n",
       "    <tr>\n",
       "      <th>3</th>\n",
       "      <td>2020-08-24T09:54:59Z</td>\n",
       "      <td>Florida</td>\n",
       "      <td>@davidsirota I'm so confused, when is the medi...</td>\n",
       "      <td>Twitter for Android</td>\n",
       "      <td>262</td>\n",
       "      <td>en</td>\n",
       "      <td>2</td>\n",
       "      <td>0</td>\n",
       "      <td>False</td>\n",
       "      <td>457</td>\n",
       "      <td>375</td>\n",
       "      <td>5</td>\n",
       "      <td>16851</td>\n",
       "      <td>7429</td>\n",
       "      <td>@user i 'm so confused , when is the medium go...</td>\n",
       "      <td>7</td>\n",
       "      <td>'no verdict'</td>\n",
       "      <td>NaN</td>\n",
       "      <td>NaN</td>\n",
       "    </tr>\n",
       "    <tr>\n",
       "      <th>4</th>\n",
       "      <td>2021-02-04T11:31:07Z</td>\n",
       "      <td>Washington</td>\n",
       "      <td>@Carlos27480217 @DonaldJTrumpJr Yep! He has Ba...</td>\n",
       "      <td>Twitter for Android</td>\n",
       "      <td>88</td>\n",
       "      <td>en</td>\n",
       "      <td>0</td>\n",
       "      <td>0</td>\n",
       "      <td>False</td>\n",
       "      <td>43</td>\n",
       "      <td>177</td>\n",
       "      <td>0</td>\n",
       "      <td>2618</td>\n",
       "      <td>1517</td>\n",
       "      <td>@user @user yep ! he ha balls ! ! now with our...</td>\n",
       "      <td>8</td>\n",
       "      <td>'false'</td>\n",
       "      <td>NaN</td>\n",
       "      <td>NaN</td>\n",
       "    </tr>\n",
       "    <tr>\n",
       "      <th>...</th>\n",
       "      <td>...</td>\n",
       "      <td>...</td>\n",
       "      <td>...</td>\n",
       "      <td>...</td>\n",
       "      <td>...</td>\n",
       "      <td>...</td>\n",
       "      <td>...</td>\n",
       "      <td>...</td>\n",
       "      <td>...</td>\n",
       "      <td>...</td>\n",
       "      <td>...</td>\n",
       "      <td>...</td>\n",
       "      <td>...</td>\n",
       "      <td>...</td>\n",
       "      <td>...</td>\n",
       "      <td>...</td>\n",
       "      <td>...</td>\n",
       "      <td>...</td>\n",
       "      <td>...</td>\n",
       "    </tr>\n",
       "    <tr>\n",
       "      <th>1995</th>\n",
       "      <td>2021-01-15T18:46:33Z</td>\n",
       "      <td>Georgia</td>\n",
       "      <td>U.S. says Capitol rioters meant to 'capture an...</td>\n",
       "      <td>Twitter for iPhone</td>\n",
       "      <td>126</td>\n",
       "      <td>en</td>\n",
       "      <td>2</td>\n",
       "      <td>0</td>\n",
       "      <td>False</td>\n",
       "      <td>1546</td>\n",
       "      <td>1600</td>\n",
       "      <td>2</td>\n",
       "      <td>5156</td>\n",
       "      <td>3058</td>\n",
       "      <td>u . s . say capitol rioter meant to ' capture ...</td>\n",
       "      <td>8</td>\n",
       "      <td>'true'</td>\n",
       "      <td>NaN</td>\n",
       "      <td>NaN</td>\n",
       "    </tr>\n",
       "    <tr>\n",
       "      <th>1996</th>\n",
       "      <td>2020-12-21T13:11:53Z</td>\n",
       "      <td>Iowa</td>\n",
       "      <td>@KeithOlbermann Look in Keith’s eyes.  Trump o...</td>\n",
       "      <td>Twitter for iPhone</td>\n",
       "      <td>104</td>\n",
       "      <td>en</td>\n",
       "      <td>0</td>\n",
       "      <td>0</td>\n",
       "      <td>False</td>\n",
       "      <td>28</td>\n",
       "      <td>50</td>\n",
       "      <td>0</td>\n",
       "      <td>758</td>\n",
       "      <td>6974</td>\n",
       "      <td>@user look in keith 's eye . trump owns him . ...</td>\n",
       "      <td>8</td>\n",
       "      <td>'no verdict'</td>\n",
       "      <td>NaN</td>\n",
       "      <td>NaN</td>\n",
       "    </tr>\n",
       "    <tr>\n",
       "      <th>1997</th>\n",
       "      <td>2021-02-06T06:35:34Z</td>\n",
       "      <td>North Carolina</td>\n",
       "      <td>@AmyAThatcher I guess the right wingers are pi...</td>\n",
       "      <td>Twitter for Android</td>\n",
       "      <td>125</td>\n",
       "      <td>en</td>\n",
       "      <td>1</td>\n",
       "      <td>0</td>\n",
       "      <td>False</td>\n",
       "      <td>598</td>\n",
       "      <td>512</td>\n",
       "      <td>9</td>\n",
       "      <td>26537</td>\n",
       "      <td>156580</td>\n",
       "      <td>@user i guess the right winger are pissed beca...</td>\n",
       "      <td>3</td>\n",
       "      <td>'no verdict'</td>\n",
       "      <td>NaN</td>\n",
       "      <td>NaN</td>\n",
       "    </tr>\n",
       "    <tr>\n",
       "      <th>1998</th>\n",
       "      <td>2020-08-14T07:37:59Z</td>\n",
       "      <td>Iowa</td>\n",
       "      <td>Insane....\\r\\n\\r\\nBiden calls for mandate requ...</td>\n",
       "      <td>Twitter for iPad</td>\n",
       "      <td>98</td>\n",
       "      <td>en</td>\n",
       "      <td>1</td>\n",
       "      <td>0</td>\n",
       "      <td>False</td>\n",
       "      <td>31</td>\n",
       "      <td>96</td>\n",
       "      <td>0</td>\n",
       "      <td>1041</td>\n",
       "      <td>2414</td>\n",
       "      <td>insane ... biden call for mandate requiring al...</td>\n",
       "      <td>2</td>\n",
       "      <td>'true'</td>\n",
       "      <td>NaN</td>\n",
       "      <td>NaN</td>\n",
       "    </tr>\n",
       "    <tr>\n",
       "      <th>1999</th>\n",
       "      <td>2020-09-13T10:35:06Z</td>\n",
       "      <td>Florida</td>\n",
       "      <td>The following things must happen Nov 3.\\r\\n1- ...</td>\n",
       "      <td>Twitter for iPhone</td>\n",
       "      <td>201</td>\n",
       "      <td>en</td>\n",
       "      <td>0</td>\n",
       "      <td>0</td>\n",
       "      <td>True</td>\n",
       "      <td>1492</td>\n",
       "      <td>2270</td>\n",
       "      <td>3</td>\n",
       "      <td>58417</td>\n",
       "      <td>14909</td>\n",
       "      <td>the following thing must happen nov 3 . 1 - tr...</td>\n",
       "      <td>9</td>\n",
       "      <td>False</td>\n",
       "      <td>NaN</td>\n",
       "      <td>NaN</td>\n",
       "    </tr>\n",
       "  </tbody>\n",
       "</table>\n",
       "<p>1919 rows × 19 columns</p>\n",
       "</div>"
      ],
      "text/plain": [
       "          created_at_fuzzy state_likely_tweeted_from  \\\n",
       "0     2020-08-13T16:55:49Z                California   \n",
       "1     2020-08-30T00:03:31Z                 Tennessee   \n",
       "2     2020-10-26T23:16:05Z                  New York   \n",
       "3     2020-08-24T09:54:59Z                   Florida   \n",
       "4     2021-02-04T11:31:07Z                Washington   \n",
       "...                    ...                       ...   \n",
       "1995  2021-01-15T18:46:33Z                   Georgia   \n",
       "1996  2020-12-21T13:11:53Z                      Iowa   \n",
       "1997  2021-02-06T06:35:34Z            North Carolina   \n",
       "1998  2020-08-14T07:37:59Z                      Iowa   \n",
       "1999  2020-09-13T10:35:06Z                   Florida   \n",
       "\n",
       "                                                   text               source  \\\n",
       "0     LIVE: Trump holds press conference https://t.c...      Twitter Web App   \n",
       "1     Trump’s claim the ‘silent majority’ will save ...      Twitter Web App   \n",
       "2     #NewHampshire #VoteBlue #VoteBlueToSaveAmerica...      Twitter Web App   \n",
       "3     @davidsirota I'm so confused, when is the medi...  Twitter for Android   \n",
       "4     @Carlos27480217 @DonaldJTrumpJr Yep! He has Ba...  Twitter for Android   \n",
       "...                                                 ...                  ...   \n",
       "1995  U.S. says Capitol rioters meant to 'capture an...   Twitter for iPhone   \n",
       "1996  @KeithOlbermann Look in Keith’s eyes.  Trump o...   Twitter for iPhone   \n",
       "1997  @AmyAThatcher I guess the right wingers are pi...  Twitter for Android   \n",
       "1998  Insane....\\r\\n\\r\\nBiden calls for mandate requ...     Twitter for iPad   \n",
       "1999  The following things must happen Nov 3.\\r\\n1- ...   Twitter for iPhone   \n",
       "\n",
       "      display_text_width lang  favorite_count  retweet_count  is_quote  \\\n",
       "0                     71   en               0              0     False   \n",
       "1                    205   en               9              2     False   \n",
       "2                    267   en               7              4     False   \n",
       "3                    262   en               2              0     False   \n",
       "4                     88   en               0              0     False   \n",
       "...                  ...  ...             ...            ...       ...   \n",
       "1995                 126   en               2              0     False   \n",
       "1996                 104   en               0              0     False   \n",
       "1997                 125   en               1              0     False   \n",
       "1998                  98   en               1              0     False   \n",
       "1999                 201   en               0              0      True   \n",
       "\n",
       "      followers_count  friends_count  listed_count  statuses_count  \\\n",
       "0                3281           4938             4           39349   \n",
       "1                2866           3000             2           23786   \n",
       "2               32221          26550            52          304911   \n",
       "3                 457            375             5           16851   \n",
       "4                  43            177             0            2618   \n",
       "...               ...            ...           ...             ...   \n",
       "1995             1546           1600             2            5156   \n",
       "1996               28             50             0             758   \n",
       "1997              598            512             9           26537   \n",
       "1998               31             96             0            1041   \n",
       "1999             1492           2270             3           58417   \n",
       "\n",
       "      favourites_count                                       cleaned_text  \\\n",
       "0                23299  live : trump hold press conference httpurl via...   \n",
       "1                30906  trump 's claim the ‘ silent majority ' will sa...   \n",
       "2               146137  #newhampshire #voteblue #votebluetosaveamerica...   \n",
       "3                 7429  @user i 'm so confused , when is the medium go...   \n",
       "4                 1517  @user @user yep ! he ha balls ! ! now with our...   \n",
       "...                ...                                                ...   \n",
       "1995              3058  u . s . say capitol rioter meant to ' capture ...   \n",
       "1996              6974  @user look in keith 's eye . trump owns him . ...   \n",
       "1997            156580  @user i guess the right winger are pissed beca...   \n",
       "1998              2414  insane ... biden call for mandate requiring al...   \n",
       "1999             14909  the following thing must happen nov 3 . 1 - tr...   \n",
       "\n",
       "      Toxicity Fact assessment Trivia question Offensive Assessment  \n",
       "0            1      no verdict             NaN                  NaN  \n",
       "1            8    'no verdict'             NaN                  NaN  \n",
       "2            2          'true'             NaN                  NaN  \n",
       "3            7    'no verdict'             NaN                  NaN  \n",
       "4            8         'false'             NaN                  NaN  \n",
       "...        ...             ...             ...                  ...  \n",
       "1995         8          'true'             NaN                  NaN  \n",
       "1996         8    'no verdict'             NaN                  NaN  \n",
       "1997         3    'no verdict'             NaN                  NaN  \n",
       "1998         2          'true'             NaN                  NaN  \n",
       "1999         9           False             NaN                  NaN  \n",
       "\n",
       "[1919 rows x 19 columns]"
      ]
     },
     "execution_count": 5,
     "metadata": {},
     "output_type": "execute_result"
    }
   ],
   "source": [
    "def clean_text_BERT(doc):\n",
    "    lemma = WordNetLemmatizer()\n",
    "    no_emoji = emoji.demojize(doc, delimiters=(\"\", \"\")) # Substitutes emoji by descriptive word\n",
    "    normalized = \" \".join(lemma.lemmatize(word).lower() for word in no_emoji.split())\n",
    "    return normalized\n",
    "\n",
    "df[\"cleaned_text\"] = df[\"cleaned_text\"].apply(clean_text_BERT)\n",
    "df"
   ]
  },
  {
   "cell_type": "code",
   "execution_count": 6,
   "metadata": {},
   "outputs": [
    {
     "name": "stdout",
     "output_type": "stream",
     "text": [
      "       created_at_fuzzy state_likely_tweeted_from  \\\n",
      "0  2020-08-13T16:55:49Z                California   \n",
      "1  2020-08-30T00:03:31Z                 Tennessee   \n",
      "2  2020-10-26T23:16:05Z                  New York   \n",
      "3  2020-08-24T09:54:59Z                   Florida   \n",
      "4  2021-02-04T11:31:07Z                Washington   \n",
      "\n",
      "                                                text               source  \\\n",
      "0  LIVE: Trump holds press conference https://t.c...      Twitter Web App   \n",
      "1  Trump’s claim the ‘silent majority’ will save ...      Twitter Web App   \n",
      "2  #NewHampshire #VoteBlue #VoteBlueToSaveAmerica...      Twitter Web App   \n",
      "3  @davidsirota I'm so confused, when is the medi...  Twitter for Android   \n",
      "4  @Carlos27480217 @DonaldJTrumpJr Yep! He has Ba...  Twitter for Android   \n",
      "\n",
      "   display_text_width lang  favorite_count  retweet_count  is_quote  \\\n",
      "0                  71   en               0              0     False   \n",
      "1                 205   en               9              2     False   \n",
      "2                 267   en               7              4     False   \n",
      "3                 262   en               2              0     False   \n",
      "4                  88   en               0              0     False   \n",
      "\n",
      "   followers_count  friends_count  listed_count  statuses_count  \\\n",
      "0             3281           4938             4           39349   \n",
      "1             2866           3000             2           23786   \n",
      "2            32221          26550            52          304911   \n",
      "3              457            375             5           16851   \n",
      "4               43            177             0            2618   \n",
      "\n",
      "   favourites_count                                       cleaned_text  \\\n",
      "0             23299           live : trump hold press conference  via    \n",
      "1             30906  trump 's claim the ‘ silent majority ' will sa...   \n",
      "2            146137  #newhampshire #voteblue #votebluetosaveamerica...   \n",
      "3              7429   i 'm so confused , when is the medium going t...   \n",
      "4              1517    yep ! he ha balls ! ! now with our whimp in ...   \n",
      "\n",
      "   Toxicity Fact assessment Trivia question Offensive Assessment  \n",
      "0         1      no verdict             NaN                  NaN  \n",
      "1         8    'no verdict'             NaN                  NaN  \n",
      "2         2          'true'             NaN                  NaN  \n",
      "3         7    'no verdict'             NaN                  NaN  \n",
      "4         8         'false'             NaN                  NaN  \n"
     ]
    }
   ],
   "source": [
    "def remove_specific_words(df):\n",
    "    # Define the words to remove\n",
    "    words_to_remove = ['@user', 'httpurl']\n",
    "    \n",
    "    # Create a regex pattern to match these words\n",
    "    pattern = '|'.join(words_to_remove)\n",
    "    \n",
    "    try:\n",
    "        # Replace the words with an empty string\n",
    "        df['cleaned_text'] = df['cleaned_text'].str.replace(pattern, '', regex=True)\n",
    "        return df\n",
    "    except Exception as e:\n",
    "        print(\"An error occurred while removing specific words:\", e)\n",
    "        return None\n",
    "\n",
    "# Call the function to remove the words\n",
    "df = remove_specific_words(df)\n",
    "\n",
    "# Display the DataFrame to verify changes\n",
    "print(df.head())"
   ]
  },
  {
   "cell_type": "code",
   "execution_count": 7,
   "metadata": {},
   "outputs": [
    {
     "name": "stdout",
     "output_type": "stream",
     "text": [
      "all-MiniLM-L12-v2\n"
     ]
    },
    {
     "data": {
      "application/vnd.jupyter.widget-view+json": {
       "model_id": "7bbae834d64b41149ee52c970e482fac",
       "version_major": 2,
       "version_minor": 0
      },
      "text/plain": [
       "Batches:   0%|          | 0/60 [00:00<?, ?it/s]"
      ]
     },
     "metadata": {},
     "output_type": "display_data"
    },
    {
     "name": "stderr",
     "output_type": "stream",
     "text": [
      "2024-06-02 17:25:21,222 - BERTopic - Transformed documents to Embeddings\n",
      "2024-06-02 17:25:28,620 - BERTopic - Reduced dimensionality\n",
      "2024-06-02 17:25:28,664 - BERTopic - Clustered reduced embeddings\n",
      "2024-06-02 17:25:41,369 - BERTopic - Reduced number of topics from 41 to 20\n"
     ]
    }
   ],
   "source": [
    "from bertopic.vectorizers import ClassTfidfTransformer\n",
    "from hdbscan import HDBSCAN\n",
    "from umap import UMAP\n",
    "from bertopic.representation import KeyBERTInspired\n",
    "from sklearn.feature_extraction.text import CountVectorizer\n",
    "\n",
    "# Get the default set of English stop words from scikit-learn\n",
    "default_stop_words = text.ENGLISH_STOP_WORDS\n",
    "\n",
    "# Define custom stop words\n",
    "custom_stop_words = {'@user', 'user', 'httpurl', 'said', 'money-mouth_face'}\n",
    "\n",
    "def update_stop_words(texts, base_stop_words):\n",
    "    new_stop_words = set(base_stop_words)\n",
    "    for text in texts:\n",
    "        # Splitting text into words\n",
    "        words = text.split()\n",
    "        # Adding words with underscores to the stop words, ensuring no colons are included\n",
    "        new_stop_words.update(word.replace(':', '') for word in words if '_' in word)\n",
    "    return new_stop_words\n",
    "\n",
    "# Combine the default stop words with custom stop words\n",
    "combined_stop_words = default_stop_words.union(custom_stop_words)\n",
    "\n",
    "# Update the combined stop words with words containing underscores\n",
    "combined_stop_words_updated = update_stop_words(df[\"cleaned_text\"], combined_stop_words)\n",
    "\n",
    "# Convert the updated combined stop words from a set to a list\n",
    "combined_stop_words_list = list(combined_stop_words_updated)\n",
    "\n",
    "# Initialize the CountVectorizer with the combined set of stop words\n",
    "vectorizer_model = CountVectorizer(stop_words=combined_stop_words_list)\n",
    "\n",
    "\n",
    "print(\"all-MiniLM-L12-v2\")\n",
    "\n",
    "umap_model = UMAP(n_neighbors=15, n_components=5, \n",
    "                  min_dist=0.0, metric='cosine', random_state=42) \n",
    "representation_model = KeyBERTInspired()\n",
    "ctfidf_model = ClassTfidfTransformer(reduce_frequent_words=True)\n",
    "\n",
    "# flag_hyperparameters \n",
    "# Specify min_cluster_size and min_samples to minimize outliers\n",
    "hdbscan_model = HDBSCAN(min_cluster_size=10, metric='euclidean',\n",
    "                        cluster_selection_method='eom', prediction_data=True, min_samples=4) # Clustering algorithm that yields denser topics and reduces outliers\n",
    "\n",
    "# Initiate BERTopic and fit data\n",
    "model = BERTopic(verbose=True, representation_model = representation_model, \n",
    "                 embedding_model = \"all-MiniLM-L12-v2\", umap_model = umap_model, \n",
    "                 ctfidf_model=ctfidf_model, hdbscan_model=hdbscan_model, vectorizer_model=vectorizer_model)\n",
    "topics, _ = model.fit_transform(df[\"cleaned_text\"])\n",
    "\n",
    "# Merge similar topics based on hierarchical clustering\n",
    "model.reduce_topics(df['cleaned_text'], nr_topics=\"auto\")\n",
    "\n",
    "topics = model.topics_\n",
    "\n",
    "# Add new topic labels to the dataframe\n",
    "df['topic_label'] = topics"
   ]
  },
  {
   "cell_type": "code",
   "execution_count": 8,
   "metadata": {},
   "outputs": [
    {
     "name": "stdout",
     "output_type": "stream",
     "text": [
      "[-1  1  5  0 10  3  7  6  9  8  4  2 13 11 17 14 15 16 12 18]\n"
     ]
    }
   ],
   "source": [
    "# Get the list of unique values under the column \"topic_label\"\n",
    "unique_topic_labels = df['topic_label'].unique()\n",
    "\n",
    "# Display the unique values\n",
    "print(unique_topic_labels)"
   ]
  },
  {
   "cell_type": "markdown",
   "metadata": {},
   "source": [
    "## Visualisations"
   ]
  },
  {
   "cell_type": "code",
   "execution_count": 9,
   "metadata": {},
   "outputs": [
    {
     "name": "stderr",
     "output_type": "stream",
     "text": [
      "100%|██████████| 18/18 [00:05<00:00,  3.35it/s]\n"
     ]
    },
    {
     "data": {
      "application/vnd.plotly.v1+json": {
       "config": {
        "plotlyServerURL": "https://plot.ly"
       },
       "data": [
        {
         "hoverinfo": "text",
         "marker": {
          "color": "rgb(61,153,112)"
         },
         "mode": "lines",
         "text": [
          "racist_racism_xenophobia_activism_protester",
          "",
          "",
          "lying_lie_lied_lies_deceive"
         ],
         "type": "scatter",
         "x": [
          0,
          0.9210309056009005,
          0.9210309056009005,
          0
         ],
         "xaxis": "x",
         "y": [
          -15,
          -15,
          -25,
          -25
         ],
         "yaxis": "y"
        },
        {
         "hoverinfo": "text",
         "marker": {
          "color": "rgb(61,153,112)"
         },
         "mode": "lines",
         "text": [
          "racist_xenophobia_racism_protester_migrant",
          "",
          "",
          "outbreak_virus_infected_infection_caused"
         ],
         "type": "scatter",
         "x": [
          0.9210309056009005,
          0.9327160491146301,
          0.9327160491146301,
          0
         ],
         "xaxis": "x",
         "y": [
          -20,
          -20,
          -35,
          -35
         ],
         "yaxis": "y"
        },
        {
         "hoverinfo": "text",
         "marker": {
          "color": "rgb(61,153,112)"
         },
         "mode": "lines",
         "text": [
          "satan_christians_jesus_christianity_religious",
          "",
          "",
          "racist_xenophobia_racism_protester_migrant"
         ],
         "type": "scatter",
         "x": [
          0,
          0.9571080558841043,
          0.9571080558841043,
          0.9327160491146301
         ],
         "xaxis": "x",
         "y": [
          -5,
          -5,
          -27.5,
          -27.5
         ],
         "yaxis": "y"
        },
        {
         "hoverinfo": "text",
         "marker": {
          "color": "rgb(61,153,112)"
         },
         "mode": "lines",
         "text": [
          "vote_trump_voter_election_presidency",
          "",
          "",
          "biden_obama_democrat_democratic_president"
         ],
         "type": "scatter",
         "x": [
          0,
          0.63789960086054,
          0.63789960086054,
          0
         ],
         "xaxis": "x",
         "y": [
          -75,
          -75,
          -85,
          -85
         ],
         "yaxis": "y"
        },
        {
         "hoverinfo": "text",
         "marker": {
          "color": "rgb(61,153,112)"
         },
         "mode": "lines",
         "text": [
          "melania_shouted_triggered_hhahaahahah_love",
          "",
          "",
          "election_vote_biden_trump_voting"
         ],
         "type": "scatter",
         "x": [
          0,
          0.8446570732497566,
          0.8446570732497566,
          0.63789960086054
         ],
         "xaxis": "x",
         "y": [
          -65,
          -65,
          -80,
          -80
         ],
         "yaxis": "y"
        },
        {
         "hoverinfo": "text",
         "marker": {
          "color": "rgb(61,153,112)"
         },
         "mode": "lines",
         "text": [
          "election_biden_vote_voter_ballot",
          "",
          "",
          "immigration_deporting_immigrants_immigrant_migrants"
         ],
         "type": "scatter",
         "x": [
          0.8446570732497566,
          0.8738626535935038,
          0.8738626535935038,
          0
         ],
         "xaxis": "x",
         "y": [
          -72.5,
          -72.5,
          -95,
          -95
         ],
         "yaxis": "y"
        },
        {
         "hoverinfo": "text",
         "marker": {
          "color": "rgb(61,153,112)"
         },
         "mode": "lines",
         "text": [
          "cnn_documentary_conspiracy_wikileaks_announcing",
          "",
          "",
          "biden_election_vote_ballot_voter"
         ],
         "type": "scatter",
         "x": [
          0,
          0.8909481491978836,
          0.8909481491978836,
          0.8738626535935038
         ],
         "xaxis": "x",
         "y": [
          -55,
          -55,
          -83.75,
          -83.75
         ],
         "yaxis": "y"
        },
        {
         "hoverinfo": "text",
         "marker": {
          "color": "rgb(61,153,112)"
         },
         "mode": "lines",
         "text": [
          "biden_vote_election_voter_voting",
          "",
          "",
          "gop_republicans_democrats_trumpists_mcconnell"
         ],
         "type": "scatter",
         "x": [
          0.8909481491978836,
          0.8989326798473183,
          0.8989326798473183,
          0
         ],
         "xaxis": "x",
         "y": [
          -69.375,
          -69.375,
          -105,
          -105
         ],
         "yaxis": "y"
        },
        {
         "hoverinfo": "text",
         "marker": {
          "color": "rgb(61,153,112)"
         },
         "mode": "lines",
         "text": [
          "vaccine_vaccines_vaccination_vaccinate_vaccinating",
          "",
          "",
          "biden_republicans_democrat_election_gop"
         ],
         "type": "scatter",
         "x": [
          0,
          0.9106351549081024,
          0.9106351549081024,
          0.8989326798473183
         ],
         "xaxis": "x",
         "y": [
          -45,
          -45,
          -87.1875,
          -87.1875
         ],
         "yaxis": "y"
        },
        {
         "hoverinfo": "text",
         "marker": {
          "color": "rgb(61,153,112)"
         },
         "mode": "lines",
         "text": [
          "biden_trump_presidency_obama_president",
          "",
          "",
          "judiciary_courts_judges_judge_lawyers"
         ],
         "type": "scatter",
         "x": [
          0.9106351549081024,
          0.9282446112960366,
          0.9282446112960366,
          0
         ],
         "xaxis": "x",
         "y": [
          -66.09375,
          -66.09375,
          -115,
          -115
         ],
         "yaxis": "y"
        },
        {
         "hoverinfo": "text",
         "marker": {
          "color": "rgb(61,153,112)"
         },
         "mode": "lines",
         "text": [
          "xenophobia_racist_racism_protester_lying",
          "",
          "",
          "democrats_republicans_gop_trump_democrat"
         ],
         "type": "scatter",
         "x": [
          0.9571080558841043,
          0.9785994648331333,
          0.9785994648331333,
          0.9282446112960366
         ],
         "xaxis": "x",
         "y": [
          -16.25,
          -16.25,
          -90.546875,
          -90.546875
         ],
         "yaxis": "y"
        },
        {
         "hoverinfo": "text",
         "marker": {
          "color": "rgb(255,65,54)"
         },
         "mode": "lines",
         "text": [
          "putin_impeachment_russia_moscow_trumpsenatecowards",
          "",
          "",
          "impeached_impeachment_impeach_convicted_acquittal"
         ],
         "type": "scatter",
         "x": [
          0,
          0.9231993566643317,
          0.9231993566643317,
          0
         ],
         "xaxis": "x",
         "y": [
          -135,
          -135,
          -145,
          -145
         ],
         "yaxis": "y"
        },
        {
         "hoverinfo": "text",
         "marker": {
          "color": "rgb(255,65,54)"
         },
         "mode": "lines",
         "text": [
          "pardons_convicted_prison_punishment_sentenced",
          "",
          "",
          "impeachment_putin_impeached_impeach_trumpsenatecowards"
         ],
         "type": "scatter",
         "x": [
          0,
          0.9500970097980427,
          0.9500970097980427,
          0.9231993566643317
         ],
         "xaxis": "x",
         "y": [
          -125,
          -125,
          -140,
          -140
         ],
         "yaxis": "y"
        },
        {
         "hoverinfo": "text",
         "marker": {
          "color": "rgb(255,65,54)"
         },
         "mode": "lines",
         "text": [
          "covid_flu_coronavirus_political_distraction",
          "",
          "",
          "mask_maskers_politics_face_putinpuppiphants"
         ],
         "type": "scatter",
         "x": [
          0,
          0.9389978309765111,
          0.9389978309765111,
          0
         ],
         "xaxis": "x",
         "y": [
          -155,
          -155,
          -165,
          -165
         ],
         "yaxis": "y"
        },
        {
         "hoverinfo": "text",
         "marker": {
          "color": "rgb(255,65,54)"
         },
         "mode": "lines",
         "text": [
          "mask_maskers_putinpuppiphants_kkk_gop",
          "",
          "",
          "gun_ballistic_missile_shot_gunz"
         ],
         "type": "scatter",
         "x": [
          0.9389978309765111,
          0.9467574637356594,
          0.9467574637356594,
          0
         ],
         "xaxis": "x",
         "y": [
          -160,
          -160,
          -175,
          -175
         ],
         "yaxis": "y"
        },
        {
         "hoverinfo": "text",
         "marker": {
          "color": "rgb(255,65,54)"
         },
         "mode": "lines",
         "text": [
          "gun_gunz_furious_ballistic_killshot",
          "",
          "",
          "trump2020_trump2020landslide_2020_trump_pence"
         ],
         "type": "scatter",
         "x": [
          0.9467574637356594,
          0.9753170252946234,
          0.9753170252946234,
          0
         ],
         "xaxis": "x",
         "y": [
          -167.5,
          -167.5,
          -185,
          -185
         ],
         "yaxis": "y"
        },
        {
         "hoverinfo": "text",
         "marker": {
          "color": "rgb(255,65,54)"
         },
         "mode": "lines",
         "text": [
          "putin_impeachment_impeached_impeach_trumpsenatecowards",
          "",
          "",
          "gun_gunz_furious_killshot_eminem"
         ],
         "type": "scatter",
         "x": [
          0.9500970097980427,
          0.9809275752085962,
          0.9809275752085962,
          0.9753170252946234
         ],
         "xaxis": "x",
         "y": [
          -132.5,
          -132.5,
          -176.25,
          -176.25
         ],
         "yaxis": "y"
        },
        {
         "hoverinfo": "text",
         "marker": {
          "color": "rgb(0,116,217)"
         },
         "mode": "lines",
         "text": [
          "biden_trump_president_vaccine_election",
          "",
          "",
          "impeachment_gun_impeach_mask_trumpsenatecowards"
         ],
         "type": "scatter",
         "x": [
          0.9785994648331333,
          1.0168700026863957,
          1.0168700026863957,
          0.9809275752085962
         ],
         "xaxis": "x",
         "y": [
          -53.3984375,
          -53.3984375,
          -154.375,
          -154.375
         ],
         "yaxis": "y"
        },
        {
         "hoverinfo": "text",
         "hovertext": [
          "racist_xenophobia_racism_protester_migrant",
          "election_biden_vote_voter_ballot",
          "biden_vote_election_voter_voting",
          "biden_trump_presidency_obama_president",
          "xenophobia_racist_racism_protester_lying",
          "mask_maskers_putinpuppiphants_kkk_gop",
          "gun_gunz_furious_ballistic_killshot",
          "putin_impeachment_impeached_impeach_trumpsenatecowards",
          "biden_trump_president_vaccine_election"
         ],
         "marker": {
          "color": "black"
         },
         "mode": "markers",
         "showlegend": false,
         "type": "scatter",
         "x": [
          0.9210309056009005,
          0.8446570732497566,
          0.8909481491978836,
          0.9106351549081024,
          0.9571080558841043,
          0.9389978309765111,
          0.9467574637356594,
          0.9500970097980427,
          0.9785994648331333
         ],
         "y": [
          -20,
          -72.5,
          -69.375,
          -66.09375,
          -16.25,
          -160,
          -167.5,
          -132.5,
          -53.3984375
         ]
        },
        {
         "hoverinfo": "text",
         "hovertext": [
          "racist_xenophobia_racism_protester_migrant",
          "election_vote_biden_trump_voting",
          "biden_election_vote_ballot_voter",
          "biden_republicans_democrat_election_gop",
          "democrats_republicans_gop_trump_democrat",
          "impeachment_putin_impeached_impeach_trumpsenatecowards",
          "gun_gunz_furious_killshot_eminem",
          "impeachment_gun_impeach_mask_trumpsenatecowards"
         ],
         "marker": {
          "color": "black"
         },
         "mode": "markers",
         "showlegend": false,
         "type": "scatter",
         "x": [
          0.9327160491146301,
          0.63789960086054,
          0.8738626535935038,
          0.8989326798473183,
          0.9282446112960366,
          0.9231993566643317,
          0.9753170252946234,
          0.9809275752085962
         ],
         "y": [
          -27.5,
          -80,
          -83.75,
          -87.1875,
          -90.546875,
          -140,
          -176.25,
          -154.375
         ]
        }
       ],
       "layout": {
        "autosize": false,
        "height": 485,
        "hoverlabel": {
         "bgcolor": "white",
         "font": {
          "family": "Rockwell",
          "size": 16
         }
        },
        "hovermode": "closest",
        "plot_bgcolor": "#ECEFF1",
        "showlegend": false,
        "template": {
         "data": {
          "bar": [
           {
            "error_x": {
             "color": "#2a3f5f"
            },
            "error_y": {
             "color": "#2a3f5f"
            },
            "marker": {
             "line": {
              "color": "white",
              "width": 0.5
             },
             "pattern": {
              "fillmode": "overlay",
              "size": 10,
              "solidity": 0.2
             }
            },
            "type": "bar"
           }
          ],
          "barpolar": [
           {
            "marker": {
             "line": {
              "color": "white",
              "width": 0.5
             },
             "pattern": {
              "fillmode": "overlay",
              "size": 10,
              "solidity": 0.2
             }
            },
            "type": "barpolar"
           }
          ],
          "carpet": [
           {
            "aaxis": {
             "endlinecolor": "#2a3f5f",
             "gridcolor": "#C8D4E3",
             "linecolor": "#C8D4E3",
             "minorgridcolor": "#C8D4E3",
             "startlinecolor": "#2a3f5f"
            },
            "baxis": {
             "endlinecolor": "#2a3f5f",
             "gridcolor": "#C8D4E3",
             "linecolor": "#C8D4E3",
             "minorgridcolor": "#C8D4E3",
             "startlinecolor": "#2a3f5f"
            },
            "type": "carpet"
           }
          ],
          "choropleth": [
           {
            "colorbar": {
             "outlinewidth": 0,
             "ticks": ""
            },
            "type": "choropleth"
           }
          ],
          "contour": [
           {
            "colorbar": {
             "outlinewidth": 0,
             "ticks": ""
            },
            "colorscale": [
             [
              0,
              "#0d0887"
             ],
             [
              0.1111111111111111,
              "#46039f"
             ],
             [
              0.2222222222222222,
              "#7201a8"
             ],
             [
              0.3333333333333333,
              "#9c179e"
             ],
             [
              0.4444444444444444,
              "#bd3786"
             ],
             [
              0.5555555555555556,
              "#d8576b"
             ],
             [
              0.6666666666666666,
              "#ed7953"
             ],
             [
              0.7777777777777778,
              "#fb9f3a"
             ],
             [
              0.8888888888888888,
              "#fdca26"
             ],
             [
              1,
              "#f0f921"
             ]
            ],
            "type": "contour"
           }
          ],
          "contourcarpet": [
           {
            "colorbar": {
             "outlinewidth": 0,
             "ticks": ""
            },
            "type": "contourcarpet"
           }
          ],
          "heatmap": [
           {
            "colorbar": {
             "outlinewidth": 0,
             "ticks": ""
            },
            "colorscale": [
             [
              0,
              "#0d0887"
             ],
             [
              0.1111111111111111,
              "#46039f"
             ],
             [
              0.2222222222222222,
              "#7201a8"
             ],
             [
              0.3333333333333333,
              "#9c179e"
             ],
             [
              0.4444444444444444,
              "#bd3786"
             ],
             [
              0.5555555555555556,
              "#d8576b"
             ],
             [
              0.6666666666666666,
              "#ed7953"
             ],
             [
              0.7777777777777778,
              "#fb9f3a"
             ],
             [
              0.8888888888888888,
              "#fdca26"
             ],
             [
              1,
              "#f0f921"
             ]
            ],
            "type": "heatmap"
           }
          ],
          "heatmapgl": [
           {
            "colorbar": {
             "outlinewidth": 0,
             "ticks": ""
            },
            "colorscale": [
             [
              0,
              "#0d0887"
             ],
             [
              0.1111111111111111,
              "#46039f"
             ],
             [
              0.2222222222222222,
              "#7201a8"
             ],
             [
              0.3333333333333333,
              "#9c179e"
             ],
             [
              0.4444444444444444,
              "#bd3786"
             ],
             [
              0.5555555555555556,
              "#d8576b"
             ],
             [
              0.6666666666666666,
              "#ed7953"
             ],
             [
              0.7777777777777778,
              "#fb9f3a"
             ],
             [
              0.8888888888888888,
              "#fdca26"
             ],
             [
              1,
              "#f0f921"
             ]
            ],
            "type": "heatmapgl"
           }
          ],
          "histogram": [
           {
            "marker": {
             "pattern": {
              "fillmode": "overlay",
              "size": 10,
              "solidity": 0.2
             }
            },
            "type": "histogram"
           }
          ],
          "histogram2d": [
           {
            "colorbar": {
             "outlinewidth": 0,
             "ticks": ""
            },
            "colorscale": [
             [
              0,
              "#0d0887"
             ],
             [
              0.1111111111111111,
              "#46039f"
             ],
             [
              0.2222222222222222,
              "#7201a8"
             ],
             [
              0.3333333333333333,
              "#9c179e"
             ],
             [
              0.4444444444444444,
              "#bd3786"
             ],
             [
              0.5555555555555556,
              "#d8576b"
             ],
             [
              0.6666666666666666,
              "#ed7953"
             ],
             [
              0.7777777777777778,
              "#fb9f3a"
             ],
             [
              0.8888888888888888,
              "#fdca26"
             ],
             [
              1,
              "#f0f921"
             ]
            ],
            "type": "histogram2d"
           }
          ],
          "histogram2dcontour": [
           {
            "colorbar": {
             "outlinewidth": 0,
             "ticks": ""
            },
            "colorscale": [
             [
              0,
              "#0d0887"
             ],
             [
              0.1111111111111111,
              "#46039f"
             ],
             [
              0.2222222222222222,
              "#7201a8"
             ],
             [
              0.3333333333333333,
              "#9c179e"
             ],
             [
              0.4444444444444444,
              "#bd3786"
             ],
             [
              0.5555555555555556,
              "#d8576b"
             ],
             [
              0.6666666666666666,
              "#ed7953"
             ],
             [
              0.7777777777777778,
              "#fb9f3a"
             ],
             [
              0.8888888888888888,
              "#fdca26"
             ],
             [
              1,
              "#f0f921"
             ]
            ],
            "type": "histogram2dcontour"
           }
          ],
          "mesh3d": [
           {
            "colorbar": {
             "outlinewidth": 0,
             "ticks": ""
            },
            "type": "mesh3d"
           }
          ],
          "parcoords": [
           {
            "line": {
             "colorbar": {
              "outlinewidth": 0,
              "ticks": ""
             }
            },
            "type": "parcoords"
           }
          ],
          "pie": [
           {
            "automargin": true,
            "type": "pie"
           }
          ],
          "scatter": [
           {
            "fillpattern": {
             "fillmode": "overlay",
             "size": 10,
             "solidity": 0.2
            },
            "type": "scatter"
           }
          ],
          "scatter3d": [
           {
            "line": {
             "colorbar": {
              "outlinewidth": 0,
              "ticks": ""
             }
            },
            "marker": {
             "colorbar": {
              "outlinewidth": 0,
              "ticks": ""
             }
            },
            "type": "scatter3d"
           }
          ],
          "scattercarpet": [
           {
            "marker": {
             "colorbar": {
              "outlinewidth": 0,
              "ticks": ""
             }
            },
            "type": "scattercarpet"
           }
          ],
          "scattergeo": [
           {
            "marker": {
             "colorbar": {
              "outlinewidth": 0,
              "ticks": ""
             }
            },
            "type": "scattergeo"
           }
          ],
          "scattergl": [
           {
            "marker": {
             "colorbar": {
              "outlinewidth": 0,
              "ticks": ""
             }
            },
            "type": "scattergl"
           }
          ],
          "scattermapbox": [
           {
            "marker": {
             "colorbar": {
              "outlinewidth": 0,
              "ticks": ""
             }
            },
            "type": "scattermapbox"
           }
          ],
          "scatterpolar": [
           {
            "marker": {
             "colorbar": {
              "outlinewidth": 0,
              "ticks": ""
             }
            },
            "type": "scatterpolar"
           }
          ],
          "scatterpolargl": [
           {
            "marker": {
             "colorbar": {
              "outlinewidth": 0,
              "ticks": ""
             }
            },
            "type": "scatterpolargl"
           }
          ],
          "scatterternary": [
           {
            "marker": {
             "colorbar": {
              "outlinewidth": 0,
              "ticks": ""
             }
            },
            "type": "scatterternary"
           }
          ],
          "surface": [
           {
            "colorbar": {
             "outlinewidth": 0,
             "ticks": ""
            },
            "colorscale": [
             [
              0,
              "#0d0887"
             ],
             [
              0.1111111111111111,
              "#46039f"
             ],
             [
              0.2222222222222222,
              "#7201a8"
             ],
             [
              0.3333333333333333,
              "#9c179e"
             ],
             [
              0.4444444444444444,
              "#bd3786"
             ],
             [
              0.5555555555555556,
              "#d8576b"
             ],
             [
              0.6666666666666666,
              "#ed7953"
             ],
             [
              0.7777777777777778,
              "#fb9f3a"
             ],
             [
              0.8888888888888888,
              "#fdca26"
             ],
             [
              1,
              "#f0f921"
             ]
            ],
            "type": "surface"
           }
          ],
          "table": [
           {
            "cells": {
             "fill": {
              "color": "#EBF0F8"
             },
             "line": {
              "color": "white"
             }
            },
            "header": {
             "fill": {
              "color": "#C8D4E3"
             },
             "line": {
              "color": "white"
             }
            },
            "type": "table"
           }
          ]
         },
         "layout": {
          "annotationdefaults": {
           "arrowcolor": "#2a3f5f",
           "arrowhead": 0,
           "arrowwidth": 1
          },
          "autotypenumbers": "strict",
          "coloraxis": {
           "colorbar": {
            "outlinewidth": 0,
            "ticks": ""
           }
          },
          "colorscale": {
           "diverging": [
            [
             0,
             "#8e0152"
            ],
            [
             0.1,
             "#c51b7d"
            ],
            [
             0.2,
             "#de77ae"
            ],
            [
             0.3,
             "#f1b6da"
            ],
            [
             0.4,
             "#fde0ef"
            ],
            [
             0.5,
             "#f7f7f7"
            ],
            [
             0.6,
             "#e6f5d0"
            ],
            [
             0.7,
             "#b8e186"
            ],
            [
             0.8,
             "#7fbc41"
            ],
            [
             0.9,
             "#4d9221"
            ],
            [
             1,
             "#276419"
            ]
           ],
           "sequential": [
            [
             0,
             "#0d0887"
            ],
            [
             0.1111111111111111,
             "#46039f"
            ],
            [
             0.2222222222222222,
             "#7201a8"
            ],
            [
             0.3333333333333333,
             "#9c179e"
            ],
            [
             0.4444444444444444,
             "#bd3786"
            ],
            [
             0.5555555555555556,
             "#d8576b"
            ],
            [
             0.6666666666666666,
             "#ed7953"
            ],
            [
             0.7777777777777778,
             "#fb9f3a"
            ],
            [
             0.8888888888888888,
             "#fdca26"
            ],
            [
             1,
             "#f0f921"
            ]
           ],
           "sequentialminus": [
            [
             0,
             "#0d0887"
            ],
            [
             0.1111111111111111,
             "#46039f"
            ],
            [
             0.2222222222222222,
             "#7201a8"
            ],
            [
             0.3333333333333333,
             "#9c179e"
            ],
            [
             0.4444444444444444,
             "#bd3786"
            ],
            [
             0.5555555555555556,
             "#d8576b"
            ],
            [
             0.6666666666666666,
             "#ed7953"
            ],
            [
             0.7777777777777778,
             "#fb9f3a"
            ],
            [
             0.8888888888888888,
             "#fdca26"
            ],
            [
             1,
             "#f0f921"
            ]
           ]
          },
          "colorway": [
           "#636efa",
           "#EF553B",
           "#00cc96",
           "#ab63fa",
           "#FFA15A",
           "#19d3f3",
           "#FF6692",
           "#B6E880",
           "#FF97FF",
           "#FECB52"
          ],
          "font": {
           "color": "#2a3f5f"
          },
          "geo": {
           "bgcolor": "white",
           "lakecolor": "white",
           "landcolor": "white",
           "showlakes": true,
           "showland": true,
           "subunitcolor": "#C8D4E3"
          },
          "hoverlabel": {
           "align": "left"
          },
          "hovermode": "closest",
          "mapbox": {
           "style": "light"
          },
          "paper_bgcolor": "white",
          "plot_bgcolor": "white",
          "polar": {
           "angularaxis": {
            "gridcolor": "#EBF0F8",
            "linecolor": "#EBF0F8",
            "ticks": ""
           },
           "bgcolor": "white",
           "radialaxis": {
            "gridcolor": "#EBF0F8",
            "linecolor": "#EBF0F8",
            "ticks": ""
           }
          },
          "scene": {
           "xaxis": {
            "backgroundcolor": "white",
            "gridcolor": "#DFE8F3",
            "gridwidth": 2,
            "linecolor": "#EBF0F8",
            "showbackground": true,
            "ticks": "",
            "zerolinecolor": "#EBF0F8"
           },
           "yaxis": {
            "backgroundcolor": "white",
            "gridcolor": "#DFE8F3",
            "gridwidth": 2,
            "linecolor": "#EBF0F8",
            "showbackground": true,
            "ticks": "",
            "zerolinecolor": "#EBF0F8"
           },
           "zaxis": {
            "backgroundcolor": "white",
            "gridcolor": "#DFE8F3",
            "gridwidth": 2,
            "linecolor": "#EBF0F8",
            "showbackground": true,
            "ticks": "",
            "zerolinecolor": "#EBF0F8"
           }
          },
          "shapedefaults": {
           "line": {
            "color": "#2a3f5f"
           }
          },
          "ternary": {
           "aaxis": {
            "gridcolor": "#DFE8F3",
            "linecolor": "#A2B1C6",
            "ticks": ""
           },
           "baxis": {
            "gridcolor": "#DFE8F3",
            "linecolor": "#A2B1C6",
            "ticks": ""
           },
           "bgcolor": "white",
           "caxis": {
            "gridcolor": "#DFE8F3",
            "linecolor": "#A2B1C6",
            "ticks": ""
           }
          },
          "title": {
           "x": 0.05
          },
          "xaxis": {
           "automargin": true,
           "gridcolor": "#EBF0F8",
           "linecolor": "#EBF0F8",
           "ticks": "",
           "title": {
            "standoff": 15
           },
           "zerolinecolor": "#EBF0F8",
           "zerolinewidth": 2
          },
          "yaxis": {
           "automargin": true,
           "gridcolor": "#EBF0F8",
           "linecolor": "#EBF0F8",
           "ticks": "",
           "title": {
            "standoff": 15
           },
           "zerolinecolor": "#EBF0F8",
           "zerolinewidth": 2
          }
         }
        },
        "title": {
         "font": {
          "color": "Black",
          "size": 22
         },
         "text": "<b>Hierarchical Clustering</b>",
         "x": 0.5,
         "xanchor": "center",
         "yanchor": "top"
        },
        "width": 1000,
        "xaxis": {
         "mirror": "allticks",
         "rangemode": "tozero",
         "showgrid": false,
         "showline": true,
         "showticklabels": true,
         "ticks": "outside",
         "type": "linear",
         "zeroline": false
        },
        "yaxis": {
         "mirror": "allticks",
         "range": [
          -190,
          0
         ],
         "rangemode": "tozero",
         "showgrid": false,
         "showline": true,
         "showticklabels": true,
         "tickmode": "array",
         "ticks": "outside",
         "ticktext": [
          "10_satan_christians_jesus",
          "7_racist_racism_xenophobia",
          "11_lying_lie_lied",
          "15_outbreak_virus_infected",
          "4_vaccine_vaccines_vaccinat...",
          "8_cnn_documentary_conspiracy",
          "2_melania_shouted_triggered",
          "0_vote_trump_voter",
          "1_biden_obama_democrat",
          "6_immigration_deporting_imm...",
          "5_gop_republicans_democrats",
          "3_judiciary_courts_judges",
          "16_pardons_convicted_prison",
          "9_putin_impeachment_russia",
          "13_impeached_impeachment_im...",
          "17_covid_flu_coronavirus",
          "18_mask_maskers_politics",
          "12_gun_ballistic_missile",
          "14_trump2020_trump2020lands..."
         ],
         "tickvals": [
          -5,
          -15,
          -25,
          -35,
          -45,
          -55,
          -65,
          -75,
          -85,
          -95,
          -105,
          -115,
          -125,
          -135,
          -145,
          -155,
          -165,
          -175,
          -185
         ],
         "type": "linear",
         "zeroline": false
        }
       }
      }
     },
     "metadata": {},
     "output_type": "display_data"
    }
   ],
   "source": [
    "# Hierarchical Clustering for merging topics\n",
    "hierarchical_topics = model.hierarchical_topics(df['cleaned_text'])\n",
    "fig = model.visualize_hierarchy(hierarchical_topics=hierarchical_topics)\n",
    "fig.show()"
   ]
  },
  {
   "cell_type": "code",
   "execution_count": 10,
   "metadata": {},
   "outputs": [
    {
     "data": {
      "application/vnd.plotly.v1+json": {
       "config": {
        "plotlyServerURL": "https://plot.ly"
       },
       "data": [
        {
         "customdata": [
          [
           0,
           "vote | trump | voter | election | presidency",
           505
          ],
          [
           1,
           "biden | obama | democrat | democratic | president",
           287
          ],
          [
           2,
           "melania | shouted | triggered | hhahaahahah | love",
           79
          ],
          [
           3,
           "judiciary | courts | judges | judge | lawyers",
           33
          ],
          [
           4,
           "vaccine | vaccines | vaccination | vaccinate | vaccinating",
           33
          ],
          [
           5,
           "gop | republicans | democrats | trumpists | mcconnell",
           32
          ],
          [
           6,
           "immigration | deporting | immigrants | immigrant | migrants",
           31
          ],
          [
           7,
           "racist | racism | xenophobia | activism | protester",
           30
          ],
          [
           8,
           "cnn | documentary | conspiracy | wikileaks | announcing",
           24
          ],
          [
           9,
           "putin | impeachment | russia | moscow | trumpsenatecowards",
           21
          ],
          [
           10,
           "satan | christians | jesus | christianity | religious",
           19
          ],
          [
           11,
           "lying | lie | lied | lies | deceive",
           18
          ],
          [
           12,
           "gun | ballistic | missile | shot | gunz",
           17
          ],
          [
           13,
           "impeached | impeachment | impeach | convicted | acquittal",
           15
          ],
          [
           14,
           "trump2020 | trump2020landslide | 2020 | trump | pence",
           14
          ],
          [
           15,
           "outbreak | virus | infected | infection | caused",
           14
          ],
          [
           16,
           "pardons | convicted | prison | punishment | sentenced",
           14
          ],
          [
           17,
           "covid | flu | coronavirus | political | distraction",
           11
          ],
          [
           18,
           "mask | maskers | politics | face | putinpuppiphants",
           11
          ]
         ],
         "hovertemplate": "<b>Topic %{customdata[0]}</b><br>%{customdata[1]}<br>Size: %{customdata[2]}",
         "legendgroup": "",
         "marker": {
          "color": "#B0BEC5",
          "line": {
           "color": "DarkSlateGrey",
           "width": 2
          },
          "size": [
           505,
           287,
           79,
           33,
           33,
           32,
           31,
           30,
           24,
           21,
           19,
           18,
           17,
           15,
           14,
           14,
           14,
           11,
           11
          ],
          "sizemode": "area",
          "sizeref": 0.315625,
          "symbol": "circle"
         },
         "mode": "markers",
         "name": "",
         "orientation": "v",
         "showlegend": false,
         "type": "scatter",
         "x": [
          0.3027140200138092,
          13.4779634475708,
          -0.4205002784729004,
          0.35288217663764954,
          -0.8590866923332214,
          0.9492594599723816,
          13.67850112915039,
          -0.19841410219669342,
          1.068189263343811,
          -0.9660301208496094,
          0.5721072554588318,
          -0.11490713804960251,
          13.893144607543945,
          0.13634996116161346,
          1.5820320844650269,
          -0.7349912524223328,
          -0.1260657161474228,
          -0.47832292318344116,
          -0.6959590315818787
         ],
         "xaxis": "x",
         "y": [
          7.1213459968566895,
          14.038346290588379,
          7.773135185241699,
          6.629864692687988,
          -4.098169803619385,
          8.45365047454834,
          13.837688446044922,
          6.815013885498047,
          6.738053321838379,
          7.579726696014404,
          7.3943305015563965,
          7.283054351806641,
          13.622979164123535,
          7.879900932312012,
          7.413655757904053,
          -3.9744932651519775,
          6.217335224151611,
          -3.7175607681274414,
          6.96274995803833
         ],
         "yaxis": "y"
        }
       ],
       "layout": {
        "annotations": [
         {
          "showarrow": false,
          "text": "D1",
          "x": -1.1109346389770507,
          "y": 5.715601480007171,
          "yshift": 10
         },
         {
          "showarrow": false,
          "text": "D2",
          "x": 7.433090829849243,
          "xshift": 10,
          "y": 16.144098234176635
         }
        ],
        "height": 650,
        "hoverlabel": {
         "bgcolor": "white",
         "font": {
          "family": "Rockwell",
          "size": 16
         }
        },
        "legend": {
         "itemsizing": "constant",
         "tracegroupgap": 0
        },
        "margin": {
         "t": 60
        },
        "shapes": [
         {
          "line": {
           "color": "#CFD8DC",
           "width": 2
          },
          "type": "line",
          "x0": 7.433090829849243,
          "x1": 7.433090829849243,
          "y0": -4.7128952741622925,
          "y1": 16.144098234176635
         },
         {
          "line": {
           "color": "#9E9E9E",
           "width": 2
          },
          "type": "line",
          "x0": -1.1109346389770507,
          "x1": 15.977116298675536,
          "y0": 5.715601480007171,
          "y1": 5.715601480007171
         }
        ],
        "sliders": [
         {
          "active": 0,
          "pad": {
           "t": 50
          },
          "steps": [
           {
            "args": [
             {
              "marker.color": [
               [
                "red",
                "#B0BEC5",
                "#B0BEC5",
                "#B0BEC5",
                "#B0BEC5",
                "#B0BEC5",
                "#B0BEC5",
                "#B0BEC5",
                "#B0BEC5",
                "#B0BEC5",
                "#B0BEC5",
                "#B0BEC5",
                "#B0BEC5",
                "#B0BEC5",
                "#B0BEC5",
                "#B0BEC5",
                "#B0BEC5",
                "#B0BEC5",
                "#B0BEC5"
               ]
              ]
             }
            ],
            "label": "Topic 0",
            "method": "update"
           },
           {
            "args": [
             {
              "marker.color": [
               [
                "#B0BEC5",
                "red",
                "#B0BEC5",
                "#B0BEC5",
                "#B0BEC5",
                "#B0BEC5",
                "#B0BEC5",
                "#B0BEC5",
                "#B0BEC5",
                "#B0BEC5",
                "#B0BEC5",
                "#B0BEC5",
                "#B0BEC5",
                "#B0BEC5",
                "#B0BEC5",
                "#B0BEC5",
                "#B0BEC5",
                "#B0BEC5",
                "#B0BEC5"
               ]
              ]
             }
            ],
            "label": "Topic 1",
            "method": "update"
           },
           {
            "args": [
             {
              "marker.color": [
               [
                "#B0BEC5",
                "#B0BEC5",
                "red",
                "#B0BEC5",
                "#B0BEC5",
                "#B0BEC5",
                "#B0BEC5",
                "#B0BEC5",
                "#B0BEC5",
                "#B0BEC5",
                "#B0BEC5",
                "#B0BEC5",
                "#B0BEC5",
                "#B0BEC5",
                "#B0BEC5",
                "#B0BEC5",
                "#B0BEC5",
                "#B0BEC5",
                "#B0BEC5"
               ]
              ]
             }
            ],
            "label": "Topic 2",
            "method": "update"
           },
           {
            "args": [
             {
              "marker.color": [
               [
                "#B0BEC5",
                "#B0BEC5",
                "#B0BEC5",
                "red",
                "#B0BEC5",
                "#B0BEC5",
                "#B0BEC5",
                "#B0BEC5",
                "#B0BEC5",
                "#B0BEC5",
                "#B0BEC5",
                "#B0BEC5",
                "#B0BEC5",
                "#B0BEC5",
                "#B0BEC5",
                "#B0BEC5",
                "#B0BEC5",
                "#B0BEC5",
                "#B0BEC5"
               ]
              ]
             }
            ],
            "label": "Topic 3",
            "method": "update"
           },
           {
            "args": [
             {
              "marker.color": [
               [
                "#B0BEC5",
                "#B0BEC5",
                "#B0BEC5",
                "#B0BEC5",
                "red",
                "#B0BEC5",
                "#B0BEC5",
                "#B0BEC5",
                "#B0BEC5",
                "#B0BEC5",
                "#B0BEC5",
                "#B0BEC5",
                "#B0BEC5",
                "#B0BEC5",
                "#B0BEC5",
                "#B0BEC5",
                "#B0BEC5",
                "#B0BEC5",
                "#B0BEC5"
               ]
              ]
             }
            ],
            "label": "Topic 4",
            "method": "update"
           },
           {
            "args": [
             {
              "marker.color": [
               [
                "#B0BEC5",
                "#B0BEC5",
                "#B0BEC5",
                "#B0BEC5",
                "#B0BEC5",
                "red",
                "#B0BEC5",
                "#B0BEC5",
                "#B0BEC5",
                "#B0BEC5",
                "#B0BEC5",
                "#B0BEC5",
                "#B0BEC5",
                "#B0BEC5",
                "#B0BEC5",
                "#B0BEC5",
                "#B0BEC5",
                "#B0BEC5",
                "#B0BEC5"
               ]
              ]
             }
            ],
            "label": "Topic 5",
            "method": "update"
           },
           {
            "args": [
             {
              "marker.color": [
               [
                "#B0BEC5",
                "#B0BEC5",
                "#B0BEC5",
                "#B0BEC5",
                "#B0BEC5",
                "#B0BEC5",
                "red",
                "#B0BEC5",
                "#B0BEC5",
                "#B0BEC5",
                "#B0BEC5",
                "#B0BEC5",
                "#B0BEC5",
                "#B0BEC5",
                "#B0BEC5",
                "#B0BEC5",
                "#B0BEC5",
                "#B0BEC5",
                "#B0BEC5"
               ]
              ]
             }
            ],
            "label": "Topic 6",
            "method": "update"
           },
           {
            "args": [
             {
              "marker.color": [
               [
                "#B0BEC5",
                "#B0BEC5",
                "#B0BEC5",
                "#B0BEC5",
                "#B0BEC5",
                "#B0BEC5",
                "#B0BEC5",
                "red",
                "#B0BEC5",
                "#B0BEC5",
                "#B0BEC5",
                "#B0BEC5",
                "#B0BEC5",
                "#B0BEC5",
                "#B0BEC5",
                "#B0BEC5",
                "#B0BEC5",
                "#B0BEC5",
                "#B0BEC5"
               ]
              ]
             }
            ],
            "label": "Topic 7",
            "method": "update"
           },
           {
            "args": [
             {
              "marker.color": [
               [
                "#B0BEC5",
                "#B0BEC5",
                "#B0BEC5",
                "#B0BEC5",
                "#B0BEC5",
                "#B0BEC5",
                "#B0BEC5",
                "#B0BEC5",
                "red",
                "#B0BEC5",
                "#B0BEC5",
                "#B0BEC5",
                "#B0BEC5",
                "#B0BEC5",
                "#B0BEC5",
                "#B0BEC5",
                "#B0BEC5",
                "#B0BEC5",
                "#B0BEC5"
               ]
              ]
             }
            ],
            "label": "Topic 8",
            "method": "update"
           },
           {
            "args": [
             {
              "marker.color": [
               [
                "#B0BEC5",
                "#B0BEC5",
                "#B0BEC5",
                "#B0BEC5",
                "#B0BEC5",
                "#B0BEC5",
                "#B0BEC5",
                "#B0BEC5",
                "#B0BEC5",
                "red",
                "#B0BEC5",
                "#B0BEC5",
                "#B0BEC5",
                "#B0BEC5",
                "#B0BEC5",
                "#B0BEC5",
                "#B0BEC5",
                "#B0BEC5",
                "#B0BEC5"
               ]
              ]
             }
            ],
            "label": "Topic 9",
            "method": "update"
           },
           {
            "args": [
             {
              "marker.color": [
               [
                "#B0BEC5",
                "#B0BEC5",
                "#B0BEC5",
                "#B0BEC5",
                "#B0BEC5",
                "#B0BEC5",
                "#B0BEC5",
                "#B0BEC5",
                "#B0BEC5",
                "#B0BEC5",
                "red",
                "#B0BEC5",
                "#B0BEC5",
                "#B0BEC5",
                "#B0BEC5",
                "#B0BEC5",
                "#B0BEC5",
                "#B0BEC5",
                "#B0BEC5"
               ]
              ]
             }
            ],
            "label": "Topic 10",
            "method": "update"
           },
           {
            "args": [
             {
              "marker.color": [
               [
                "#B0BEC5",
                "#B0BEC5",
                "#B0BEC5",
                "#B0BEC5",
                "#B0BEC5",
                "#B0BEC5",
                "#B0BEC5",
                "#B0BEC5",
                "#B0BEC5",
                "#B0BEC5",
                "#B0BEC5",
                "red",
                "#B0BEC5",
                "#B0BEC5",
                "#B0BEC5",
                "#B0BEC5",
                "#B0BEC5",
                "#B0BEC5",
                "#B0BEC5"
               ]
              ]
             }
            ],
            "label": "Topic 11",
            "method": "update"
           },
           {
            "args": [
             {
              "marker.color": [
               [
                "#B0BEC5",
                "#B0BEC5",
                "#B0BEC5",
                "#B0BEC5",
                "#B0BEC5",
                "#B0BEC5",
                "#B0BEC5",
                "#B0BEC5",
                "#B0BEC5",
                "#B0BEC5",
                "#B0BEC5",
                "#B0BEC5",
                "red",
                "#B0BEC5",
                "#B0BEC5",
                "#B0BEC5",
                "#B0BEC5",
                "#B0BEC5",
                "#B0BEC5"
               ]
              ]
             }
            ],
            "label": "Topic 12",
            "method": "update"
           },
           {
            "args": [
             {
              "marker.color": [
               [
                "#B0BEC5",
                "#B0BEC5",
                "#B0BEC5",
                "#B0BEC5",
                "#B0BEC5",
                "#B0BEC5",
                "#B0BEC5",
                "#B0BEC5",
                "#B0BEC5",
                "#B0BEC5",
                "#B0BEC5",
                "#B0BEC5",
                "#B0BEC5",
                "red",
                "#B0BEC5",
                "#B0BEC5",
                "#B0BEC5",
                "#B0BEC5",
                "#B0BEC5"
               ]
              ]
             }
            ],
            "label": "Topic 13",
            "method": "update"
           },
           {
            "args": [
             {
              "marker.color": [
               [
                "#B0BEC5",
                "#B0BEC5",
                "#B0BEC5",
                "#B0BEC5",
                "#B0BEC5",
                "#B0BEC5",
                "#B0BEC5",
                "#B0BEC5",
                "#B0BEC5",
                "#B0BEC5",
                "#B0BEC5",
                "#B0BEC5",
                "#B0BEC5",
                "#B0BEC5",
                "red",
                "#B0BEC5",
                "#B0BEC5",
                "#B0BEC5",
                "#B0BEC5"
               ]
              ]
             }
            ],
            "label": "Topic 14",
            "method": "update"
           },
           {
            "args": [
             {
              "marker.color": [
               [
                "#B0BEC5",
                "#B0BEC5",
                "#B0BEC5",
                "#B0BEC5",
                "#B0BEC5",
                "#B0BEC5",
                "#B0BEC5",
                "#B0BEC5",
                "#B0BEC5",
                "#B0BEC5",
                "#B0BEC5",
                "#B0BEC5",
                "#B0BEC5",
                "#B0BEC5",
                "#B0BEC5",
                "red",
                "#B0BEC5",
                "#B0BEC5",
                "#B0BEC5"
               ]
              ]
             }
            ],
            "label": "Topic 15",
            "method": "update"
           },
           {
            "args": [
             {
              "marker.color": [
               [
                "#B0BEC5",
                "#B0BEC5",
                "#B0BEC5",
                "#B0BEC5",
                "#B0BEC5",
                "#B0BEC5",
                "#B0BEC5",
                "#B0BEC5",
                "#B0BEC5",
                "#B0BEC5",
                "#B0BEC5",
                "#B0BEC5",
                "#B0BEC5",
                "#B0BEC5",
                "#B0BEC5",
                "#B0BEC5",
                "red",
                "#B0BEC5",
                "#B0BEC5"
               ]
              ]
             }
            ],
            "label": "Topic 16",
            "method": "update"
           },
           {
            "args": [
             {
              "marker.color": [
               [
                "#B0BEC5",
                "#B0BEC5",
                "#B0BEC5",
                "#B0BEC5",
                "#B0BEC5",
                "#B0BEC5",
                "#B0BEC5",
                "#B0BEC5",
                "#B0BEC5",
                "#B0BEC5",
                "#B0BEC5",
                "#B0BEC5",
                "#B0BEC5",
                "#B0BEC5",
                "#B0BEC5",
                "#B0BEC5",
                "#B0BEC5",
                "red",
                "#B0BEC5"
               ]
              ]
             }
            ],
            "label": "Topic 17",
            "method": "update"
           },
           {
            "args": [
             {
              "marker.color": [
               [
                "#B0BEC5",
                "#B0BEC5",
                "#B0BEC5",
                "#B0BEC5",
                "#B0BEC5",
                "#B0BEC5",
                "#B0BEC5",
                "#B0BEC5",
                "#B0BEC5",
                "#B0BEC5",
                "#B0BEC5",
                "#B0BEC5",
                "#B0BEC5",
                "#B0BEC5",
                "#B0BEC5",
                "#B0BEC5",
                "#B0BEC5",
                "#B0BEC5",
                "red"
               ]
              ]
             }
            ],
            "label": "Topic 18",
            "method": "update"
           }
          ]
         }
        ],
        "template": {
         "data": {
          "bar": [
           {
            "error_x": {
             "color": "rgb(36,36,36)"
            },
            "error_y": {
             "color": "rgb(36,36,36)"
            },
            "marker": {
             "line": {
              "color": "white",
              "width": 0.5
             },
             "pattern": {
              "fillmode": "overlay",
              "size": 10,
              "solidity": 0.2
             }
            },
            "type": "bar"
           }
          ],
          "barpolar": [
           {
            "marker": {
             "line": {
              "color": "white",
              "width": 0.5
             },
             "pattern": {
              "fillmode": "overlay",
              "size": 10,
              "solidity": 0.2
             }
            },
            "type": "barpolar"
           }
          ],
          "carpet": [
           {
            "aaxis": {
             "endlinecolor": "rgb(36,36,36)",
             "gridcolor": "white",
             "linecolor": "white",
             "minorgridcolor": "white",
             "startlinecolor": "rgb(36,36,36)"
            },
            "baxis": {
             "endlinecolor": "rgb(36,36,36)",
             "gridcolor": "white",
             "linecolor": "white",
             "minorgridcolor": "white",
             "startlinecolor": "rgb(36,36,36)"
            },
            "type": "carpet"
           }
          ],
          "choropleth": [
           {
            "colorbar": {
             "outlinewidth": 1,
             "tickcolor": "rgb(36,36,36)",
             "ticks": "outside"
            },
            "type": "choropleth"
           }
          ],
          "contour": [
           {
            "colorbar": {
             "outlinewidth": 1,
             "tickcolor": "rgb(36,36,36)",
             "ticks": "outside"
            },
            "colorscale": [
             [
              0,
              "#440154"
             ],
             [
              0.1111111111111111,
              "#482878"
             ],
             [
              0.2222222222222222,
              "#3e4989"
             ],
             [
              0.3333333333333333,
              "#31688e"
             ],
             [
              0.4444444444444444,
              "#26828e"
             ],
             [
              0.5555555555555556,
              "#1f9e89"
             ],
             [
              0.6666666666666666,
              "#35b779"
             ],
             [
              0.7777777777777778,
              "#6ece58"
             ],
             [
              0.8888888888888888,
              "#b5de2b"
             ],
             [
              1,
              "#fde725"
             ]
            ],
            "type": "contour"
           }
          ],
          "contourcarpet": [
           {
            "colorbar": {
             "outlinewidth": 1,
             "tickcolor": "rgb(36,36,36)",
             "ticks": "outside"
            },
            "type": "contourcarpet"
           }
          ],
          "heatmap": [
           {
            "colorbar": {
             "outlinewidth": 1,
             "tickcolor": "rgb(36,36,36)",
             "ticks": "outside"
            },
            "colorscale": [
             [
              0,
              "#440154"
             ],
             [
              0.1111111111111111,
              "#482878"
             ],
             [
              0.2222222222222222,
              "#3e4989"
             ],
             [
              0.3333333333333333,
              "#31688e"
             ],
             [
              0.4444444444444444,
              "#26828e"
             ],
             [
              0.5555555555555556,
              "#1f9e89"
             ],
             [
              0.6666666666666666,
              "#35b779"
             ],
             [
              0.7777777777777778,
              "#6ece58"
             ],
             [
              0.8888888888888888,
              "#b5de2b"
             ],
             [
              1,
              "#fde725"
             ]
            ],
            "type": "heatmap"
           }
          ],
          "heatmapgl": [
           {
            "colorbar": {
             "outlinewidth": 1,
             "tickcolor": "rgb(36,36,36)",
             "ticks": "outside"
            },
            "colorscale": [
             [
              0,
              "#440154"
             ],
             [
              0.1111111111111111,
              "#482878"
             ],
             [
              0.2222222222222222,
              "#3e4989"
             ],
             [
              0.3333333333333333,
              "#31688e"
             ],
             [
              0.4444444444444444,
              "#26828e"
             ],
             [
              0.5555555555555556,
              "#1f9e89"
             ],
             [
              0.6666666666666666,
              "#35b779"
             ],
             [
              0.7777777777777778,
              "#6ece58"
             ],
             [
              0.8888888888888888,
              "#b5de2b"
             ],
             [
              1,
              "#fde725"
             ]
            ],
            "type": "heatmapgl"
           }
          ],
          "histogram": [
           {
            "marker": {
             "line": {
              "color": "white",
              "width": 0.6
             }
            },
            "type": "histogram"
           }
          ],
          "histogram2d": [
           {
            "colorbar": {
             "outlinewidth": 1,
             "tickcolor": "rgb(36,36,36)",
             "ticks": "outside"
            },
            "colorscale": [
             [
              0,
              "#440154"
             ],
             [
              0.1111111111111111,
              "#482878"
             ],
             [
              0.2222222222222222,
              "#3e4989"
             ],
             [
              0.3333333333333333,
              "#31688e"
             ],
             [
              0.4444444444444444,
              "#26828e"
             ],
             [
              0.5555555555555556,
              "#1f9e89"
             ],
             [
              0.6666666666666666,
              "#35b779"
             ],
             [
              0.7777777777777778,
              "#6ece58"
             ],
             [
              0.8888888888888888,
              "#b5de2b"
             ],
             [
              1,
              "#fde725"
             ]
            ],
            "type": "histogram2d"
           }
          ],
          "histogram2dcontour": [
           {
            "colorbar": {
             "outlinewidth": 1,
             "tickcolor": "rgb(36,36,36)",
             "ticks": "outside"
            },
            "colorscale": [
             [
              0,
              "#440154"
             ],
             [
              0.1111111111111111,
              "#482878"
             ],
             [
              0.2222222222222222,
              "#3e4989"
             ],
             [
              0.3333333333333333,
              "#31688e"
             ],
             [
              0.4444444444444444,
              "#26828e"
             ],
             [
              0.5555555555555556,
              "#1f9e89"
             ],
             [
              0.6666666666666666,
              "#35b779"
             ],
             [
              0.7777777777777778,
              "#6ece58"
             ],
             [
              0.8888888888888888,
              "#b5de2b"
             ],
             [
              1,
              "#fde725"
             ]
            ],
            "type": "histogram2dcontour"
           }
          ],
          "mesh3d": [
           {
            "colorbar": {
             "outlinewidth": 1,
             "tickcolor": "rgb(36,36,36)",
             "ticks": "outside"
            },
            "type": "mesh3d"
           }
          ],
          "parcoords": [
           {
            "line": {
             "colorbar": {
              "outlinewidth": 1,
              "tickcolor": "rgb(36,36,36)",
              "ticks": "outside"
             }
            },
            "type": "parcoords"
           }
          ],
          "pie": [
           {
            "automargin": true,
            "type": "pie"
           }
          ],
          "scatter": [
           {
            "fillpattern": {
             "fillmode": "overlay",
             "size": 10,
             "solidity": 0.2
            },
            "type": "scatter"
           }
          ],
          "scatter3d": [
           {
            "line": {
             "colorbar": {
              "outlinewidth": 1,
              "tickcolor": "rgb(36,36,36)",
              "ticks": "outside"
             }
            },
            "marker": {
             "colorbar": {
              "outlinewidth": 1,
              "tickcolor": "rgb(36,36,36)",
              "ticks": "outside"
             }
            },
            "type": "scatter3d"
           }
          ],
          "scattercarpet": [
           {
            "marker": {
             "colorbar": {
              "outlinewidth": 1,
              "tickcolor": "rgb(36,36,36)",
              "ticks": "outside"
             }
            },
            "type": "scattercarpet"
           }
          ],
          "scattergeo": [
           {
            "marker": {
             "colorbar": {
              "outlinewidth": 1,
              "tickcolor": "rgb(36,36,36)",
              "ticks": "outside"
             }
            },
            "type": "scattergeo"
           }
          ],
          "scattergl": [
           {
            "marker": {
             "colorbar": {
              "outlinewidth": 1,
              "tickcolor": "rgb(36,36,36)",
              "ticks": "outside"
             }
            },
            "type": "scattergl"
           }
          ],
          "scattermapbox": [
           {
            "marker": {
             "colorbar": {
              "outlinewidth": 1,
              "tickcolor": "rgb(36,36,36)",
              "ticks": "outside"
             }
            },
            "type": "scattermapbox"
           }
          ],
          "scatterpolar": [
           {
            "marker": {
             "colorbar": {
              "outlinewidth": 1,
              "tickcolor": "rgb(36,36,36)",
              "ticks": "outside"
             }
            },
            "type": "scatterpolar"
           }
          ],
          "scatterpolargl": [
           {
            "marker": {
             "colorbar": {
              "outlinewidth": 1,
              "tickcolor": "rgb(36,36,36)",
              "ticks": "outside"
             }
            },
            "type": "scatterpolargl"
           }
          ],
          "scatterternary": [
           {
            "marker": {
             "colorbar": {
              "outlinewidth": 1,
              "tickcolor": "rgb(36,36,36)",
              "ticks": "outside"
             }
            },
            "type": "scatterternary"
           }
          ],
          "surface": [
           {
            "colorbar": {
             "outlinewidth": 1,
             "tickcolor": "rgb(36,36,36)",
             "ticks": "outside"
            },
            "colorscale": [
             [
              0,
              "#440154"
             ],
             [
              0.1111111111111111,
              "#482878"
             ],
             [
              0.2222222222222222,
              "#3e4989"
             ],
             [
              0.3333333333333333,
              "#31688e"
             ],
             [
              0.4444444444444444,
              "#26828e"
             ],
             [
              0.5555555555555556,
              "#1f9e89"
             ],
             [
              0.6666666666666666,
              "#35b779"
             ],
             [
              0.7777777777777778,
              "#6ece58"
             ],
             [
              0.8888888888888888,
              "#b5de2b"
             ],
             [
              1,
              "#fde725"
             ]
            ],
            "type": "surface"
           }
          ],
          "table": [
           {
            "cells": {
             "fill": {
              "color": "rgb(237,237,237)"
             },
             "line": {
              "color": "white"
             }
            },
            "header": {
             "fill": {
              "color": "rgb(217,217,217)"
             },
             "line": {
              "color": "white"
             }
            },
            "type": "table"
           }
          ]
         },
         "layout": {
          "annotationdefaults": {
           "arrowhead": 0,
           "arrowwidth": 1
          },
          "autotypenumbers": "strict",
          "coloraxis": {
           "colorbar": {
            "outlinewidth": 1,
            "tickcolor": "rgb(36,36,36)",
            "ticks": "outside"
           }
          },
          "colorscale": {
           "diverging": [
            [
             0,
             "rgb(103,0,31)"
            ],
            [
             0.1,
             "rgb(178,24,43)"
            ],
            [
             0.2,
             "rgb(214,96,77)"
            ],
            [
             0.3,
             "rgb(244,165,130)"
            ],
            [
             0.4,
             "rgb(253,219,199)"
            ],
            [
             0.5,
             "rgb(247,247,247)"
            ],
            [
             0.6,
             "rgb(209,229,240)"
            ],
            [
             0.7,
             "rgb(146,197,222)"
            ],
            [
             0.8,
             "rgb(67,147,195)"
            ],
            [
             0.9,
             "rgb(33,102,172)"
            ],
            [
             1,
             "rgb(5,48,97)"
            ]
           ],
           "sequential": [
            [
             0,
             "#440154"
            ],
            [
             0.1111111111111111,
             "#482878"
            ],
            [
             0.2222222222222222,
             "#3e4989"
            ],
            [
             0.3333333333333333,
             "#31688e"
            ],
            [
             0.4444444444444444,
             "#26828e"
            ],
            [
             0.5555555555555556,
             "#1f9e89"
            ],
            [
             0.6666666666666666,
             "#35b779"
            ],
            [
             0.7777777777777778,
             "#6ece58"
            ],
            [
             0.8888888888888888,
             "#b5de2b"
            ],
            [
             1,
             "#fde725"
            ]
           ],
           "sequentialminus": [
            [
             0,
             "#440154"
            ],
            [
             0.1111111111111111,
             "#482878"
            ],
            [
             0.2222222222222222,
             "#3e4989"
            ],
            [
             0.3333333333333333,
             "#31688e"
            ],
            [
             0.4444444444444444,
             "#26828e"
            ],
            [
             0.5555555555555556,
             "#1f9e89"
            ],
            [
             0.6666666666666666,
             "#35b779"
            ],
            [
             0.7777777777777778,
             "#6ece58"
            ],
            [
             0.8888888888888888,
             "#b5de2b"
            ],
            [
             1,
             "#fde725"
            ]
           ]
          },
          "colorway": [
           "#1F77B4",
           "#FF7F0E",
           "#2CA02C",
           "#D62728",
           "#9467BD",
           "#8C564B",
           "#E377C2",
           "#7F7F7F",
           "#BCBD22",
           "#17BECF"
          ],
          "font": {
           "color": "rgb(36,36,36)"
          },
          "geo": {
           "bgcolor": "white",
           "lakecolor": "white",
           "landcolor": "white",
           "showlakes": true,
           "showland": true,
           "subunitcolor": "white"
          },
          "hoverlabel": {
           "align": "left"
          },
          "hovermode": "closest",
          "mapbox": {
           "style": "light"
          },
          "paper_bgcolor": "white",
          "plot_bgcolor": "white",
          "polar": {
           "angularaxis": {
            "gridcolor": "rgb(232,232,232)",
            "linecolor": "rgb(36,36,36)",
            "showgrid": false,
            "showline": true,
            "ticks": "outside"
           },
           "bgcolor": "white",
           "radialaxis": {
            "gridcolor": "rgb(232,232,232)",
            "linecolor": "rgb(36,36,36)",
            "showgrid": false,
            "showline": true,
            "ticks": "outside"
           }
          },
          "scene": {
           "xaxis": {
            "backgroundcolor": "white",
            "gridcolor": "rgb(232,232,232)",
            "gridwidth": 2,
            "linecolor": "rgb(36,36,36)",
            "showbackground": true,
            "showgrid": false,
            "showline": true,
            "ticks": "outside",
            "zeroline": false,
            "zerolinecolor": "rgb(36,36,36)"
           },
           "yaxis": {
            "backgroundcolor": "white",
            "gridcolor": "rgb(232,232,232)",
            "gridwidth": 2,
            "linecolor": "rgb(36,36,36)",
            "showbackground": true,
            "showgrid": false,
            "showline": true,
            "ticks": "outside",
            "zeroline": false,
            "zerolinecolor": "rgb(36,36,36)"
           },
           "zaxis": {
            "backgroundcolor": "white",
            "gridcolor": "rgb(232,232,232)",
            "gridwidth": 2,
            "linecolor": "rgb(36,36,36)",
            "showbackground": true,
            "showgrid": false,
            "showline": true,
            "ticks": "outside",
            "zeroline": false,
            "zerolinecolor": "rgb(36,36,36)"
           }
          },
          "shapedefaults": {
           "fillcolor": "black",
           "line": {
            "width": 0
           },
           "opacity": 0.3
          },
          "ternary": {
           "aaxis": {
            "gridcolor": "rgb(232,232,232)",
            "linecolor": "rgb(36,36,36)",
            "showgrid": false,
            "showline": true,
            "ticks": "outside"
           },
           "baxis": {
            "gridcolor": "rgb(232,232,232)",
            "linecolor": "rgb(36,36,36)",
            "showgrid": false,
            "showline": true,
            "ticks": "outside"
           },
           "bgcolor": "white",
           "caxis": {
            "gridcolor": "rgb(232,232,232)",
            "linecolor": "rgb(36,36,36)",
            "showgrid": false,
            "showline": true,
            "ticks": "outside"
           }
          },
          "title": {
           "x": 0.05
          },
          "xaxis": {
           "automargin": true,
           "gridcolor": "rgb(232,232,232)",
           "linecolor": "rgb(36,36,36)",
           "showgrid": false,
           "showline": true,
           "ticks": "outside",
           "title": {
            "standoff": 15
           },
           "zeroline": false,
           "zerolinecolor": "rgb(36,36,36)"
          },
          "yaxis": {
           "automargin": true,
           "gridcolor": "rgb(232,232,232)",
           "linecolor": "rgb(36,36,36)",
           "showgrid": false,
           "showline": true,
           "ticks": "outside",
           "title": {
            "standoff": 15
           },
           "zeroline": false,
           "zerolinecolor": "rgb(36,36,36)"
          }
         }
        },
        "title": {
         "font": {
          "color": "Black",
          "size": 22
         },
         "text": "<b>Intertopic Distance Map</b>",
         "x": 0.5,
         "xanchor": "center",
         "y": 0.95,
         "yanchor": "top"
        },
        "width": 650,
        "xaxis": {
         "anchor": "y",
         "domain": [
          0,
          1
         ],
         "range": [
          -1.1109346389770507,
          15.977116298675536
         ],
         "title": {
          "text": ""
         },
         "visible": false
        },
        "yaxis": {
         "anchor": "x",
         "domain": [
          0,
          1
         ],
         "range": [
          -4.7128952741622925,
          16.144098234176635
         ],
         "title": {
          "text": ""
         },
         "visible": false
        }
       }
      }
     },
     "metadata": {},
     "output_type": "display_data"
    }
   ],
   "source": [
    "model.visualize_topics(custom_labels=True)"
   ]
  },
  {
   "cell_type": "code",
   "execution_count": 11,
   "metadata": {},
   "outputs": [
    {
     "data": {
      "application/vnd.plotly.v1+json": {
       "config": {
        "plotlyServerURL": "https://plot.ly"
       },
       "data": [
        {
         "marker": {
          "color": "#D55E00"
         },
         "orientation": "h",
         "type": "bar",
         "x": [
          0.4094059467315674,
          0.4104807376861572,
          0.430339515209198,
          0.4340564012527466,
          0.4382815361022949
         ],
         "xaxis": "x",
         "y": [
          "presidency  ",
          "election  ",
          "voter  ",
          "trump  ",
          "vote  "
         ],
         "yaxis": "y"
        },
        {
         "marker": {
          "color": "#0072B2"
         },
         "orientation": "h",
         "type": "bar",
         "x": [
          0.3607650399208069,
          0.36192506551742554,
          0.36782100796699524,
          0.3700193166732788,
          0.5804784297943115
         ],
         "xaxis": "x2",
         "y": [
          "president  ",
          "democratic  ",
          "democrat  ",
          "obama  ",
          "biden  "
         ],
         "yaxis": "y2"
        },
        {
         "marker": {
          "color": "#CC79A7"
         },
         "orientation": "h",
         "type": "bar",
         "x": [
          0.2776980400085449,
          0.28719431161880493,
          0.30099308490753174,
          0.31344637274742126,
          0.33283525705337524
         ],
         "xaxis": "x3",
         "y": [
          "love  ",
          "hhahaahahah  ",
          "triggered  ",
          "shouted  ",
          "melania  "
         ],
         "yaxis": "y3"
        },
        {
         "marker": {
          "color": "#E69F00"
         },
         "orientation": "h",
         "type": "bar",
         "x": [
          0.41534489393234253,
          0.42892998456954956,
          0.45834213495254517,
          0.46224749088287354,
          0.5008279085159302
         ],
         "xaxis": "x4",
         "y": [
          "lawyers  ",
          "judge  ",
          "judges  ",
          "courts  ",
          "judiciary  "
         ],
         "yaxis": "y4"
        },
        {
         "marker": {
          "color": "#56B4E9"
         },
         "orientation": "h",
         "type": "bar",
         "x": [
          0.5378419756889343,
          0.5463770627975464,
          0.5603827238082886,
          0.563623309135437,
          0.5644899606704712
         ],
         "xaxis": "x5",
         "y": [
          "vaccinating  ",
          "vaccinate  ",
          "vaccination  ",
          "vaccines  ",
          "vaccine  "
         ],
         "yaxis": "y5"
        },
        {
         "marker": {
          "color": "#009E73"
         },
         "orientation": "h",
         "type": "bar",
         "x": [
          0.41386735439300537,
          0.4730997681617737,
          0.49045345187187195,
          0.5941295623779297,
          0.6085802316665649
         ],
         "xaxis": "x6",
         "y": [
          "mcconnell  ",
          "trumpists  ",
          "democrats  ",
          "republicans  ",
          "gop  "
         ],
         "yaxis": "y6"
        },
        {
         "marker": {
          "color": "#F0E442"
         },
         "orientation": "h",
         "type": "bar",
         "x": [
          0.3346693217754364,
          0.36396467685699463,
          0.38369208574295044,
          0.42323678731918335,
          0.45007896423339844
         ],
         "xaxis": "x7",
         "y": [
          "migrants  ",
          "immigrant  ",
          "immigrants  ",
          "deporting  ",
          "immigration  "
         ],
         "yaxis": "y7"
        },
        {
         "marker": {
          "color": "#D55E00"
         },
         "orientation": "h",
         "type": "bar",
         "x": [
          0.40532904863357544,
          0.4844014346599579,
          0.5258370041847229,
          0.5758633613586426,
          0.580031156539917
         ],
         "xaxis": "x8",
         "y": [
          "protester  ",
          "activism  ",
          "xenophobia  ",
          "racism  ",
          "racist  "
         ],
         "yaxis": "y8"
        },
        {
         "marker": {
          "color": "#0072B2"
         },
         "orientation": "h",
         "type": "bar",
         "x": [
          0.3259098529815674,
          0.3620869815349579,
          0.3766480088233948,
          0.3831574022769928,
          0.4175710678100586
         ],
         "xaxis": "x9",
         "y": [
          "announcing  ",
          "wikileaks  ",
          "conspiracy  ",
          "documentary  ",
          "cnn  "
         ],
         "yaxis": "y9"
        },
        {
         "marker": {
          "color": "#CC79A7"
         },
         "orientation": "h",
         "type": "bar",
         "x": [
          0.38495054841041565,
          0.38651198148727417,
          0.3883046507835388,
          0.4527510702610016,
          0.6118528842926025
         ],
         "xaxis": "x10",
         "y": [
          "trumpsenatecowards  ",
          "moscow  ",
          "russia  ",
          "impeachment  ",
          "putin  "
         ],
         "yaxis": "y10"
        },
        {
         "marker": {
          "color": "#E69F00"
         },
         "orientation": "h",
         "type": "bar",
         "x": [
          0.4137638211250305,
          0.417180597782135,
          0.4273785352706909,
          0.4752795100212097,
          0.4779646098613739
         ],
         "xaxis": "x11",
         "y": [
          "religious  ",
          "christianity  ",
          "jesus  ",
          "christians  ",
          "satan  "
         ],
         "yaxis": "y11"
        },
        {
         "marker": {
          "color": "#56B4E9"
         },
         "orientation": "h",
         "type": "bar",
         "x": [
          0.36458897590637207,
          0.48713693022727966,
          0.5424221158027649,
          0.5554285049438477,
          0.5576156973838806
         ],
         "xaxis": "x12",
         "y": [
          "deceive  ",
          "lies  ",
          "lied  ",
          "lie  ",
          "lying  "
         ],
         "yaxis": "y12"
        },
        {
         "marker": {
          "color": "#009E73"
         },
         "orientation": "h",
         "type": "bar",
         "x": [
          0.3821027874946594,
          0.38427984714508057,
          0.39465445280075073,
          0.40234267711639404,
          0.49105358123779297
         ],
         "xaxis": "x13",
         "y": [
          "gunz  ",
          "shot  ",
          "missile  ",
          "ballistic  ",
          "gun  "
         ],
         "yaxis": "y13"
        },
        {
         "marker": {
          "color": "#F0E442"
         },
         "orientation": "h",
         "type": "bar",
         "x": [
          0.35161954164505005,
          0.3912963271141052,
          0.681613564491272,
          0.7067558169364929,
          0.7266942858695984
         ],
         "xaxis": "x14",
         "y": [
          "acquittal  ",
          "convicted  ",
          "impeach  ",
          "impeachment  ",
          "impeached  "
         ],
         "yaxis": "y14"
        },
        {
         "marker": {
          "color": "#D55E00"
         },
         "orientation": "h",
         "type": "bar",
         "x": [
          0.5273975133895874,
          0.5453360676765442,
          0.5928678512573242,
          0.6337019801139832,
          0.7290680408477783
         ],
         "xaxis": "x15",
         "y": [
          "pence  ",
          "trump  ",
          "2020  ",
          "trump2020landslide  ",
          "trump2020  "
         ],
         "yaxis": "y15"
        },
        {
         "marker": {
          "color": "#0072B2"
         },
         "orientation": "h",
         "type": "bar",
         "x": [
          0.3389431834220886,
          0.3598628044128418,
          0.46946340799331665,
          0.47751879692077637,
          0.4785290062427521
         ],
         "xaxis": "x16",
         "y": [
          "caused  ",
          "infection  ",
          "infected  ",
          "virus  ",
          "outbreak  "
         ],
         "yaxis": "y16"
        },
        {
         "marker": {
          "color": "#CC79A7"
         },
         "orientation": "h",
         "type": "bar",
         "x": [
          0.42427027225494385,
          0.4310349225997925,
          0.44413328170776367,
          0.45710763335227966,
          0.4632573127746582
         ],
         "xaxis": "x17",
         "y": [
          "sentenced  ",
          "punishment  ",
          "prison  ",
          "convicted  ",
          "pardons  "
         ],
         "yaxis": "y17"
        },
        {
         "marker": {
          "color": "#E69F00"
         },
         "orientation": "h",
         "type": "bar",
         "x": [
          0.28490376472473145,
          0.29051265120506287,
          0.3765309154987335,
          0.3802955746650696,
          0.6237941980361938
         ],
         "xaxis": "x18",
         "y": [
          "distraction  ",
          "political  ",
          "coronavirus  ",
          "flu  ",
          "covid  "
         ],
         "yaxis": "y18"
        },
        {
         "marker": {
          "color": "#56B4E9"
         },
         "orientation": "h",
         "type": "bar",
         "x": [
          0.31159257888793945,
          0.31359198689460754,
          0.3369525671005249,
          0.4920658469200134,
          0.6130579710006714
         ],
         "xaxis": "x19",
         "y": [
          "putinpuppiphants  ",
          "face  ",
          "politics  ",
          "maskers  ",
          "mask  "
         ],
         "yaxis": "y19"
        }
       ],
       "layout": {
        "annotations": [
         {
          "font": {
           "size": 16
          },
          "showarrow": false,
          "text": "Topic 0",
          "x": 0.0875,
          "xanchor": "center",
          "xref": "paper",
          "y": 0.9999999999999999,
          "yanchor": "bottom",
          "yref": "paper"
         },
         {
          "font": {
           "size": 16
          },
          "showarrow": false,
          "text": "Topic 1",
          "x": 0.36250000000000004,
          "xanchor": "center",
          "xref": "paper",
          "y": 0.9999999999999999,
          "yanchor": "bottom",
          "yref": "paper"
         },
         {
          "font": {
           "size": 16
          },
          "showarrow": false,
          "text": "Topic 2",
          "x": 0.6375000000000001,
          "xanchor": "center",
          "xref": "paper",
          "y": 0.9999999999999999,
          "yanchor": "bottom",
          "yref": "paper"
         },
         {
          "font": {
           "size": 16
          },
          "showarrow": false,
          "text": "Topic 3",
          "x": 0.9125,
          "xanchor": "center",
          "xref": "paper",
          "y": 0.9999999999999999,
          "yanchor": "bottom",
          "yref": "paper"
         },
         {
          "font": {
           "size": 16
          },
          "showarrow": false,
          "text": "Topic 4",
          "x": 0.0875,
          "xanchor": "center",
          "xref": "paper",
          "y": 0.7839999999999999,
          "yanchor": "bottom",
          "yref": "paper"
         },
         {
          "font": {
           "size": 16
          },
          "showarrow": false,
          "text": "Topic 5",
          "x": 0.36250000000000004,
          "xanchor": "center",
          "xref": "paper",
          "y": 0.7839999999999999,
          "yanchor": "bottom",
          "yref": "paper"
         },
         {
          "font": {
           "size": 16
          },
          "showarrow": false,
          "text": "Topic 6",
          "x": 0.6375000000000001,
          "xanchor": "center",
          "xref": "paper",
          "y": 0.7839999999999999,
          "yanchor": "bottom",
          "yref": "paper"
         },
         {
          "font": {
           "size": 16
          },
          "showarrow": false,
          "text": "Topic 7",
          "x": 0.9125,
          "xanchor": "center",
          "xref": "paper",
          "y": 0.7839999999999999,
          "yanchor": "bottom",
          "yref": "paper"
         },
         {
          "font": {
           "size": 16
          },
          "showarrow": false,
          "text": "Topic 8",
          "x": 0.0875,
          "xanchor": "center",
          "xref": "paper",
          "y": 0.568,
          "yanchor": "bottom",
          "yref": "paper"
         },
         {
          "font": {
           "size": 16
          },
          "showarrow": false,
          "text": "Topic 9",
          "x": 0.36250000000000004,
          "xanchor": "center",
          "xref": "paper",
          "y": 0.568,
          "yanchor": "bottom",
          "yref": "paper"
         },
         {
          "font": {
           "size": 16
          },
          "showarrow": false,
          "text": "Topic 10",
          "x": 0.6375000000000001,
          "xanchor": "center",
          "xref": "paper",
          "y": 0.568,
          "yanchor": "bottom",
          "yref": "paper"
         },
         {
          "font": {
           "size": 16
          },
          "showarrow": false,
          "text": "Topic 11",
          "x": 0.9125,
          "xanchor": "center",
          "xref": "paper",
          "y": 0.568,
          "yanchor": "bottom",
          "yref": "paper"
         },
         {
          "font": {
           "size": 16
          },
          "showarrow": false,
          "text": "Topic 12",
          "x": 0.0875,
          "xanchor": "center",
          "xref": "paper",
          "y": 0.352,
          "yanchor": "bottom",
          "yref": "paper"
         },
         {
          "font": {
           "size": 16
          },
          "showarrow": false,
          "text": "Topic 13",
          "x": 0.36250000000000004,
          "xanchor": "center",
          "xref": "paper",
          "y": 0.352,
          "yanchor": "bottom",
          "yref": "paper"
         },
         {
          "font": {
           "size": 16
          },
          "showarrow": false,
          "text": "Topic 14",
          "x": 0.6375000000000001,
          "xanchor": "center",
          "xref": "paper",
          "y": 0.352,
          "yanchor": "bottom",
          "yref": "paper"
         },
         {
          "font": {
           "size": 16
          },
          "showarrow": false,
          "text": "Topic 15",
          "x": 0.9125,
          "xanchor": "center",
          "xref": "paper",
          "y": 0.352,
          "yanchor": "bottom",
          "yref": "paper"
         },
         {
          "font": {
           "size": 16
          },
          "showarrow": false,
          "text": "Topic 16",
          "x": 0.0875,
          "xanchor": "center",
          "xref": "paper",
          "y": 0.13599999999999998,
          "yanchor": "bottom",
          "yref": "paper"
         },
         {
          "font": {
           "size": 16
          },
          "showarrow": false,
          "text": "Topic 17",
          "x": 0.36250000000000004,
          "xanchor": "center",
          "xref": "paper",
          "y": 0.13599999999999998,
          "yanchor": "bottom",
          "yref": "paper"
         },
         {
          "font": {
           "size": 16
          },
          "showarrow": false,
          "text": "Topic 18",
          "x": 0.6375000000000001,
          "xanchor": "center",
          "xref": "paper",
          "y": 0.13599999999999998,
          "yanchor": "bottom",
          "yref": "paper"
         }
        ],
        "height": 1250,
        "hoverlabel": {
         "bgcolor": "white",
         "font": {
          "family": "Rockwell",
          "size": 16
         }
        },
        "showlegend": false,
        "template": {
         "data": {
          "bar": [
           {
            "error_x": {
             "color": "#2a3f5f"
            },
            "error_y": {
             "color": "#2a3f5f"
            },
            "marker": {
             "line": {
              "color": "white",
              "width": 0.5
             },
             "pattern": {
              "fillmode": "overlay",
              "size": 10,
              "solidity": 0.2
             }
            },
            "type": "bar"
           }
          ],
          "barpolar": [
           {
            "marker": {
             "line": {
              "color": "white",
              "width": 0.5
             },
             "pattern": {
              "fillmode": "overlay",
              "size": 10,
              "solidity": 0.2
             }
            },
            "type": "barpolar"
           }
          ],
          "carpet": [
           {
            "aaxis": {
             "endlinecolor": "#2a3f5f",
             "gridcolor": "#C8D4E3",
             "linecolor": "#C8D4E3",
             "minorgridcolor": "#C8D4E3",
             "startlinecolor": "#2a3f5f"
            },
            "baxis": {
             "endlinecolor": "#2a3f5f",
             "gridcolor": "#C8D4E3",
             "linecolor": "#C8D4E3",
             "minorgridcolor": "#C8D4E3",
             "startlinecolor": "#2a3f5f"
            },
            "type": "carpet"
           }
          ],
          "choropleth": [
           {
            "colorbar": {
             "outlinewidth": 0,
             "ticks": ""
            },
            "type": "choropleth"
           }
          ],
          "contour": [
           {
            "colorbar": {
             "outlinewidth": 0,
             "ticks": ""
            },
            "colorscale": [
             [
              0,
              "#0d0887"
             ],
             [
              0.1111111111111111,
              "#46039f"
             ],
             [
              0.2222222222222222,
              "#7201a8"
             ],
             [
              0.3333333333333333,
              "#9c179e"
             ],
             [
              0.4444444444444444,
              "#bd3786"
             ],
             [
              0.5555555555555556,
              "#d8576b"
             ],
             [
              0.6666666666666666,
              "#ed7953"
             ],
             [
              0.7777777777777778,
              "#fb9f3a"
             ],
             [
              0.8888888888888888,
              "#fdca26"
             ],
             [
              1,
              "#f0f921"
             ]
            ],
            "type": "contour"
           }
          ],
          "contourcarpet": [
           {
            "colorbar": {
             "outlinewidth": 0,
             "ticks": ""
            },
            "type": "contourcarpet"
           }
          ],
          "heatmap": [
           {
            "colorbar": {
             "outlinewidth": 0,
             "ticks": ""
            },
            "colorscale": [
             [
              0,
              "#0d0887"
             ],
             [
              0.1111111111111111,
              "#46039f"
             ],
             [
              0.2222222222222222,
              "#7201a8"
             ],
             [
              0.3333333333333333,
              "#9c179e"
             ],
             [
              0.4444444444444444,
              "#bd3786"
             ],
             [
              0.5555555555555556,
              "#d8576b"
             ],
             [
              0.6666666666666666,
              "#ed7953"
             ],
             [
              0.7777777777777778,
              "#fb9f3a"
             ],
             [
              0.8888888888888888,
              "#fdca26"
             ],
             [
              1,
              "#f0f921"
             ]
            ],
            "type": "heatmap"
           }
          ],
          "heatmapgl": [
           {
            "colorbar": {
             "outlinewidth": 0,
             "ticks": ""
            },
            "colorscale": [
             [
              0,
              "#0d0887"
             ],
             [
              0.1111111111111111,
              "#46039f"
             ],
             [
              0.2222222222222222,
              "#7201a8"
             ],
             [
              0.3333333333333333,
              "#9c179e"
             ],
             [
              0.4444444444444444,
              "#bd3786"
             ],
             [
              0.5555555555555556,
              "#d8576b"
             ],
             [
              0.6666666666666666,
              "#ed7953"
             ],
             [
              0.7777777777777778,
              "#fb9f3a"
             ],
             [
              0.8888888888888888,
              "#fdca26"
             ],
             [
              1,
              "#f0f921"
             ]
            ],
            "type": "heatmapgl"
           }
          ],
          "histogram": [
           {
            "marker": {
             "pattern": {
              "fillmode": "overlay",
              "size": 10,
              "solidity": 0.2
             }
            },
            "type": "histogram"
           }
          ],
          "histogram2d": [
           {
            "colorbar": {
             "outlinewidth": 0,
             "ticks": ""
            },
            "colorscale": [
             [
              0,
              "#0d0887"
             ],
             [
              0.1111111111111111,
              "#46039f"
             ],
             [
              0.2222222222222222,
              "#7201a8"
             ],
             [
              0.3333333333333333,
              "#9c179e"
             ],
             [
              0.4444444444444444,
              "#bd3786"
             ],
             [
              0.5555555555555556,
              "#d8576b"
             ],
             [
              0.6666666666666666,
              "#ed7953"
             ],
             [
              0.7777777777777778,
              "#fb9f3a"
             ],
             [
              0.8888888888888888,
              "#fdca26"
             ],
             [
              1,
              "#f0f921"
             ]
            ],
            "type": "histogram2d"
           }
          ],
          "histogram2dcontour": [
           {
            "colorbar": {
             "outlinewidth": 0,
             "ticks": ""
            },
            "colorscale": [
             [
              0,
              "#0d0887"
             ],
             [
              0.1111111111111111,
              "#46039f"
             ],
             [
              0.2222222222222222,
              "#7201a8"
             ],
             [
              0.3333333333333333,
              "#9c179e"
             ],
             [
              0.4444444444444444,
              "#bd3786"
             ],
             [
              0.5555555555555556,
              "#d8576b"
             ],
             [
              0.6666666666666666,
              "#ed7953"
             ],
             [
              0.7777777777777778,
              "#fb9f3a"
             ],
             [
              0.8888888888888888,
              "#fdca26"
             ],
             [
              1,
              "#f0f921"
             ]
            ],
            "type": "histogram2dcontour"
           }
          ],
          "mesh3d": [
           {
            "colorbar": {
             "outlinewidth": 0,
             "ticks": ""
            },
            "type": "mesh3d"
           }
          ],
          "parcoords": [
           {
            "line": {
             "colorbar": {
              "outlinewidth": 0,
              "ticks": ""
             }
            },
            "type": "parcoords"
           }
          ],
          "pie": [
           {
            "automargin": true,
            "type": "pie"
           }
          ],
          "scatter": [
           {
            "fillpattern": {
             "fillmode": "overlay",
             "size": 10,
             "solidity": 0.2
            },
            "type": "scatter"
           }
          ],
          "scatter3d": [
           {
            "line": {
             "colorbar": {
              "outlinewidth": 0,
              "ticks": ""
             }
            },
            "marker": {
             "colorbar": {
              "outlinewidth": 0,
              "ticks": ""
             }
            },
            "type": "scatter3d"
           }
          ],
          "scattercarpet": [
           {
            "marker": {
             "colorbar": {
              "outlinewidth": 0,
              "ticks": ""
             }
            },
            "type": "scattercarpet"
           }
          ],
          "scattergeo": [
           {
            "marker": {
             "colorbar": {
              "outlinewidth": 0,
              "ticks": ""
             }
            },
            "type": "scattergeo"
           }
          ],
          "scattergl": [
           {
            "marker": {
             "colorbar": {
              "outlinewidth": 0,
              "ticks": ""
             }
            },
            "type": "scattergl"
           }
          ],
          "scattermapbox": [
           {
            "marker": {
             "colorbar": {
              "outlinewidth": 0,
              "ticks": ""
             }
            },
            "type": "scattermapbox"
           }
          ],
          "scatterpolar": [
           {
            "marker": {
             "colorbar": {
              "outlinewidth": 0,
              "ticks": ""
             }
            },
            "type": "scatterpolar"
           }
          ],
          "scatterpolargl": [
           {
            "marker": {
             "colorbar": {
              "outlinewidth": 0,
              "ticks": ""
             }
            },
            "type": "scatterpolargl"
           }
          ],
          "scatterternary": [
           {
            "marker": {
             "colorbar": {
              "outlinewidth": 0,
              "ticks": ""
             }
            },
            "type": "scatterternary"
           }
          ],
          "surface": [
           {
            "colorbar": {
             "outlinewidth": 0,
             "ticks": ""
            },
            "colorscale": [
             [
              0,
              "#0d0887"
             ],
             [
              0.1111111111111111,
              "#46039f"
             ],
             [
              0.2222222222222222,
              "#7201a8"
             ],
             [
              0.3333333333333333,
              "#9c179e"
             ],
             [
              0.4444444444444444,
              "#bd3786"
             ],
             [
              0.5555555555555556,
              "#d8576b"
             ],
             [
              0.6666666666666666,
              "#ed7953"
             ],
             [
              0.7777777777777778,
              "#fb9f3a"
             ],
             [
              0.8888888888888888,
              "#fdca26"
             ],
             [
              1,
              "#f0f921"
             ]
            ],
            "type": "surface"
           }
          ],
          "table": [
           {
            "cells": {
             "fill": {
              "color": "#EBF0F8"
             },
             "line": {
              "color": "white"
             }
            },
            "header": {
             "fill": {
              "color": "#C8D4E3"
             },
             "line": {
              "color": "white"
             }
            },
            "type": "table"
           }
          ]
         },
         "layout": {
          "annotationdefaults": {
           "arrowcolor": "#2a3f5f",
           "arrowhead": 0,
           "arrowwidth": 1
          },
          "autotypenumbers": "strict",
          "coloraxis": {
           "colorbar": {
            "outlinewidth": 0,
            "ticks": ""
           }
          },
          "colorscale": {
           "diverging": [
            [
             0,
             "#8e0152"
            ],
            [
             0.1,
             "#c51b7d"
            ],
            [
             0.2,
             "#de77ae"
            ],
            [
             0.3,
             "#f1b6da"
            ],
            [
             0.4,
             "#fde0ef"
            ],
            [
             0.5,
             "#f7f7f7"
            ],
            [
             0.6,
             "#e6f5d0"
            ],
            [
             0.7,
             "#b8e186"
            ],
            [
             0.8,
             "#7fbc41"
            ],
            [
             0.9,
             "#4d9221"
            ],
            [
             1,
             "#276419"
            ]
           ],
           "sequential": [
            [
             0,
             "#0d0887"
            ],
            [
             0.1111111111111111,
             "#46039f"
            ],
            [
             0.2222222222222222,
             "#7201a8"
            ],
            [
             0.3333333333333333,
             "#9c179e"
            ],
            [
             0.4444444444444444,
             "#bd3786"
            ],
            [
             0.5555555555555556,
             "#d8576b"
            ],
            [
             0.6666666666666666,
             "#ed7953"
            ],
            [
             0.7777777777777778,
             "#fb9f3a"
            ],
            [
             0.8888888888888888,
             "#fdca26"
            ],
            [
             1,
             "#f0f921"
            ]
           ],
           "sequentialminus": [
            [
             0,
             "#0d0887"
            ],
            [
             0.1111111111111111,
             "#46039f"
            ],
            [
             0.2222222222222222,
             "#7201a8"
            ],
            [
             0.3333333333333333,
             "#9c179e"
            ],
            [
             0.4444444444444444,
             "#bd3786"
            ],
            [
             0.5555555555555556,
             "#d8576b"
            ],
            [
             0.6666666666666666,
             "#ed7953"
            ],
            [
             0.7777777777777778,
             "#fb9f3a"
            ],
            [
             0.8888888888888888,
             "#fdca26"
            ],
            [
             1,
             "#f0f921"
            ]
           ]
          },
          "colorway": [
           "#636efa",
           "#EF553B",
           "#00cc96",
           "#ab63fa",
           "#FFA15A",
           "#19d3f3",
           "#FF6692",
           "#B6E880",
           "#FF97FF",
           "#FECB52"
          ],
          "font": {
           "color": "#2a3f5f"
          },
          "geo": {
           "bgcolor": "white",
           "lakecolor": "white",
           "landcolor": "white",
           "showlakes": true,
           "showland": true,
           "subunitcolor": "#C8D4E3"
          },
          "hoverlabel": {
           "align": "left"
          },
          "hovermode": "closest",
          "mapbox": {
           "style": "light"
          },
          "paper_bgcolor": "white",
          "plot_bgcolor": "white",
          "polar": {
           "angularaxis": {
            "gridcolor": "#EBF0F8",
            "linecolor": "#EBF0F8",
            "ticks": ""
           },
           "bgcolor": "white",
           "radialaxis": {
            "gridcolor": "#EBF0F8",
            "linecolor": "#EBF0F8",
            "ticks": ""
           }
          },
          "scene": {
           "xaxis": {
            "backgroundcolor": "white",
            "gridcolor": "#DFE8F3",
            "gridwidth": 2,
            "linecolor": "#EBF0F8",
            "showbackground": true,
            "ticks": "",
            "zerolinecolor": "#EBF0F8"
           },
           "yaxis": {
            "backgroundcolor": "white",
            "gridcolor": "#DFE8F3",
            "gridwidth": 2,
            "linecolor": "#EBF0F8",
            "showbackground": true,
            "ticks": "",
            "zerolinecolor": "#EBF0F8"
           },
           "zaxis": {
            "backgroundcolor": "white",
            "gridcolor": "#DFE8F3",
            "gridwidth": 2,
            "linecolor": "#EBF0F8",
            "showbackground": true,
            "ticks": "",
            "zerolinecolor": "#EBF0F8"
           }
          },
          "shapedefaults": {
           "line": {
            "color": "#2a3f5f"
           }
          },
          "ternary": {
           "aaxis": {
            "gridcolor": "#DFE8F3",
            "linecolor": "#A2B1C6",
            "ticks": ""
           },
           "baxis": {
            "gridcolor": "#DFE8F3",
            "linecolor": "#A2B1C6",
            "ticks": ""
           },
           "bgcolor": "white",
           "caxis": {
            "gridcolor": "#DFE8F3",
            "linecolor": "#A2B1C6",
            "ticks": ""
           }
          },
          "title": {
           "x": 0.05
          },
          "xaxis": {
           "automargin": true,
           "gridcolor": "#EBF0F8",
           "linecolor": "#EBF0F8",
           "ticks": "",
           "title": {
            "standoff": 15
           },
           "zerolinecolor": "#EBF0F8",
           "zerolinewidth": 2
          },
          "yaxis": {
           "automargin": true,
           "gridcolor": "#EBF0F8",
           "linecolor": "#EBF0F8",
           "ticks": "",
           "title": {
            "standoff": 15
           },
           "zerolinecolor": "#EBF0F8",
           "zerolinewidth": 2
          }
         }
        },
        "title": {
         "font": {
          "color": "Black",
          "size": 22
         },
         "text": "Topic Word Scores",
         "x": 0.5,
         "xanchor": "center",
         "yanchor": "top"
        },
        "width": 1000,
        "xaxis": {
         "anchor": "y",
         "domain": [
          0,
          0.175
         ],
         "showgrid": true
        },
        "xaxis10": {
         "anchor": "y10",
         "domain": [
          0.275,
          0.45
         ],
         "showgrid": true
        },
        "xaxis11": {
         "anchor": "y11",
         "domain": [
          0.55,
          0.7250000000000001
         ],
         "showgrid": true
        },
        "xaxis12": {
         "anchor": "y12",
         "domain": [
          0.825,
          1
         ],
         "showgrid": true
        },
        "xaxis13": {
         "anchor": "y13",
         "domain": [
          0,
          0.175
         ],
         "showgrid": true
        },
        "xaxis14": {
         "anchor": "y14",
         "domain": [
          0.275,
          0.45
         ],
         "showgrid": true
        },
        "xaxis15": {
         "anchor": "y15",
         "domain": [
          0.55,
          0.7250000000000001
         ],
         "showgrid": true
        },
        "xaxis16": {
         "anchor": "y16",
         "domain": [
          0.825,
          1
         ],
         "showgrid": true
        },
        "xaxis17": {
         "anchor": "y17",
         "domain": [
          0,
          0.175
         ],
         "showgrid": true
        },
        "xaxis18": {
         "anchor": "y18",
         "domain": [
          0.275,
          0.45
         ],
         "showgrid": true
        },
        "xaxis19": {
         "anchor": "y19",
         "domain": [
          0.55,
          0.7250000000000001
         ],
         "showgrid": true
        },
        "xaxis2": {
         "anchor": "y2",
         "domain": [
          0.275,
          0.45
         ],
         "showgrid": true
        },
        "xaxis20": {
         "anchor": "y20",
         "domain": [
          0.825,
          1
         ],
         "showgrid": true
        },
        "xaxis3": {
         "anchor": "y3",
         "domain": [
          0.55,
          0.7250000000000001
         ],
         "showgrid": true
        },
        "xaxis4": {
         "anchor": "y4",
         "domain": [
          0.825,
          1
         ],
         "showgrid": true
        },
        "xaxis5": {
         "anchor": "y5",
         "domain": [
          0,
          0.175
         ],
         "showgrid": true
        },
        "xaxis6": {
         "anchor": "y6",
         "domain": [
          0.275,
          0.45
         ],
         "showgrid": true
        },
        "xaxis7": {
         "anchor": "y7",
         "domain": [
          0.55,
          0.7250000000000001
         ],
         "showgrid": true
        },
        "xaxis8": {
         "anchor": "y8",
         "domain": [
          0.825,
          1
         ],
         "showgrid": true
        },
        "xaxis9": {
         "anchor": "y9",
         "domain": [
          0,
          0.175
         ],
         "showgrid": true
        },
        "yaxis": {
         "anchor": "x",
         "domain": [
          0.8639999999999999,
          0.9999999999999999
         ],
         "showgrid": true
        },
        "yaxis10": {
         "anchor": "x10",
         "domain": [
          0.43199999999999994,
          0.568
         ],
         "showgrid": true
        },
        "yaxis11": {
         "anchor": "x11",
         "domain": [
          0.43199999999999994,
          0.568
         ],
         "showgrid": true
        },
        "yaxis12": {
         "anchor": "x12",
         "domain": [
          0.43199999999999994,
          0.568
         ],
         "showgrid": true
        },
        "yaxis13": {
         "anchor": "x13",
         "domain": [
          0.21599999999999997,
          0.352
         ],
         "showgrid": true
        },
        "yaxis14": {
         "anchor": "x14",
         "domain": [
          0.21599999999999997,
          0.352
         ],
         "showgrid": true
        },
        "yaxis15": {
         "anchor": "x15",
         "domain": [
          0.21599999999999997,
          0.352
         ],
         "showgrid": true
        },
        "yaxis16": {
         "anchor": "x16",
         "domain": [
          0.21599999999999997,
          0.352
         ],
         "showgrid": true
        },
        "yaxis17": {
         "anchor": "x17",
         "domain": [
          0,
          0.13599999999999998
         ],
         "showgrid": true
        },
        "yaxis18": {
         "anchor": "x18",
         "domain": [
          0,
          0.13599999999999998
         ],
         "showgrid": true
        },
        "yaxis19": {
         "anchor": "x19",
         "domain": [
          0,
          0.13599999999999998
         ],
         "showgrid": true
        },
        "yaxis2": {
         "anchor": "x2",
         "domain": [
          0.8639999999999999,
          0.9999999999999999
         ],
         "showgrid": true
        },
        "yaxis20": {
         "anchor": "x20",
         "domain": [
          0,
          0.13599999999999998
         ],
         "showgrid": true
        },
        "yaxis3": {
         "anchor": "x3",
         "domain": [
          0.8639999999999999,
          0.9999999999999999
         ],
         "showgrid": true
        },
        "yaxis4": {
         "anchor": "x4",
         "domain": [
          0.8639999999999999,
          0.9999999999999999
         ],
         "showgrid": true
        },
        "yaxis5": {
         "anchor": "x5",
         "domain": [
          0.6479999999999999,
          0.7839999999999999
         ],
         "showgrid": true
        },
        "yaxis6": {
         "anchor": "x6",
         "domain": [
          0.6479999999999999,
          0.7839999999999999
         ],
         "showgrid": true
        },
        "yaxis7": {
         "anchor": "x7",
         "domain": [
          0.6479999999999999,
          0.7839999999999999
         ],
         "showgrid": true
        },
        "yaxis8": {
         "anchor": "x8",
         "domain": [
          0.6479999999999999,
          0.7839999999999999
         ],
         "showgrid": true
        },
        "yaxis9": {
         "anchor": "x9",
         "domain": [
          0.43199999999999994,
          0.568
         ],
         "showgrid": true
        }
       }
      }
     },
     "metadata": {},
     "output_type": "display_data"
    }
   ],
   "source": [
    "model.visualize_barchart(custom_labels=True, top_n_topics=43)"
   ]
  },
  {
   "cell_type": "code",
   "execution_count": 12,
   "metadata": {},
   "outputs": [
    {
     "data": {
      "application/vnd.plotly.v1+json": {
       "config": {
        "plotlyServerURL": "https://plot.ly"
       },
       "data": [
        {
         "hovertext": "<b>Topic -1</b>:biden_trump_president_senator_elec",
         "line": {
          "color": "black",
          "width": 1.5
         },
         "mode": "lines+lines",
         "name": "",
         "opacity": 0.1,
         "type": "scatter",
         "x": [
          1,
          2,
          3,
          4,
          5,
          6,
          7,
          8,
          9,
          10
         ],
         "y": [
          0.4909551441669464,
          0.48534107208251953,
          0.4598979949951172,
          0.4339875876903534,
          0.4317582845687866,
          0.4315246343612671,
          0.4272192418575287,
          0.4209393262863159,
          0.41717419028282166,
          0.4026855230331421
         ]
        },
        {
         "hovertext": "<b>Topic 0</b>:vote_trump_voter_election_presidenc",
         "line": {
          "color": "black",
          "width": 1.5
         },
         "mode": "lines+lines",
         "name": "",
         "opacity": 0.1,
         "type": "scatter",
         "x": [
          1,
          2,
          3,
          4,
          5,
          6,
          7,
          8,
          9,
          10
         ],
         "y": [
          0.4382815361022949,
          0.4340564012527466,
          0.430339515209198,
          0.4104807376861572,
          0.4094059467315674,
          0.37201446294784546,
          0.37122994661331177,
          0.36803367733955383,
          0.35668474435806274,
          0.3071748614311218
         ]
        },
        {
         "hovertext": "<b>Topic 1</b>:biden_obama_democrat_democratic_pre",
         "line": {
          "color": "black",
          "width": 1.5
         },
         "mode": "lines+lines",
         "name": "",
         "opacity": 0.1,
         "type": "scatter",
         "x": [
          1,
          2,
          3,
          4,
          5,
          6,
          7,
          8,
          9,
          10
         ],
         "y": [
          0.5804784297943115,
          0.3700193166732788,
          0.36782100796699524,
          0.36192506551742554,
          0.3607650399208069,
          0.3508281707763672,
          0.34333235025405884,
          0.3162219524383545,
          0.31535324454307556,
          0.3117856979370117
         ]
        },
        {
         "hovertext": "<b>Topic 2</b>:melania_shouted_triggered_hhahaahah",
         "line": {
          "color": "black",
          "width": 1.5
         },
         "mode": "lines+lines",
         "name": "",
         "opacity": 0.1,
         "type": "scatter",
         "x": [
          1,
          2,
          3,
          4,
          5,
          6,
          7,
          8,
          9,
          10
         ],
         "y": [
          0.33283525705337524,
          0.31344637274742126,
          0.30099308490753174,
          0.28719431161880493,
          0.2776980400085449,
          0.27298662066459656,
          0.26891326904296875,
          0.2660847306251526,
          0.26167789101600647,
          0.2604248523712158
         ]
        },
        {
         "hovertext": "<b>Topic 3</b>:judiciary_courts_judges_judge_lawye",
         "line": {
          "color": "black",
          "width": 1.5
         },
         "mode": "lines+lines",
         "name": "",
         "opacity": 0.1,
         "type": "scatter",
         "x": [
          1,
          2,
          3,
          4,
          5,
          6,
          7,
          8,
          9,
          10
         ],
         "y": [
          0.5008279085159302,
          0.46224749088287354,
          0.45834213495254517,
          0.42892998456954956,
          0.41534489393234253,
          0.4152165949344635,
          0.4111992120742798,
          0.40764373540878296,
          0.38974374532699585,
          0.3871597945690155
         ]
        },
        {
         "hovertext": "<b>Topic 4</b>:vaccine_vaccines_vaccination_vaccin",
         "line": {
          "color": "black",
          "width": 1.5
         },
         "mode": "lines+lines",
         "name": "",
         "opacity": 0.1,
         "type": "scatter",
         "x": [
          1,
          2,
          3,
          4,
          5,
          6,
          7,
          8,
          9,
          10
         ],
         "y": [
          0.5644899606704712,
          0.563623309135437,
          0.5603827238082886,
          0.5463770627975464,
          0.5378419756889343,
          0.5334963798522949,
          0.42684853076934814,
          0.42399078607559204,
          0.3979298770427704,
          0.3241460919380188
         ]
        },
        {
         "hovertext": "<b>Topic 5</b>:gop_republicans_democrats_trumpists",
         "line": {
          "color": "black",
          "width": 1.5
         },
         "mode": "lines+lines",
         "name": "",
         "opacity": 0.1,
         "type": "scatter",
         "x": [
          1,
          2,
          3,
          4,
          5,
          6,
          7,
          8,
          9,
          10
         ],
         "y": [
          0.6085802316665649,
          0.5941295623779297,
          0.49045345187187195,
          0.4730997681617737,
          0.41386735439300537,
          0.39218008518218994,
          0.3716084361076355,
          0.3632117211818695,
          0.35174840688705444,
          0.3467442989349365
         ]
        },
        {
         "hovertext": "<b>Topic 6</b>:immigration_deporting_immigrants_im",
         "line": {
          "color": "black",
          "width": 1.5
         },
         "mode": "lines+lines",
         "name": "",
         "opacity": 0.1,
         "type": "scatter",
         "x": [
          1,
          2,
          3,
          4,
          5,
          6,
          7,
          8,
          9,
          10
         ],
         "y": [
          0.45007896423339844,
          0.42323678731918335,
          0.38369208574295044,
          0.36396467685699463,
          0.3346693217754364,
          0.32734450697898865,
          0.31976747512817383,
          0.2969275712966919,
          0.24257028102874756,
          0.22502630949020386
         ]
        },
        {
         "hovertext": "<b>Topic 7</b>:racist_racism_xenophobia_activism_p",
         "line": {
          "color": "black",
          "width": 1.5
         },
         "mode": "lines+lines",
         "name": "",
         "opacity": 0.1,
         "type": "scatter",
         "x": [
          1,
          2,
          3,
          4,
          5,
          6,
          7,
          8,
          9,
          10
         ],
         "y": [
          0.580031156539917,
          0.5758633613586426,
          0.5258370041847229,
          0.4844014346599579,
          0.40532904863357544,
          0.3858925700187683,
          0.3573315143585205,
          0.29123377799987793,
          0.28599756956100464,
          0.28589683771133423
         ]
        },
        {
         "hovertext": "<b>Topic 8</b>:cnn_documentary_conspiracy_wikileak",
         "line": {
          "color": "black",
          "width": 1.5
         },
         "mode": "lines+lines",
         "name": "",
         "opacity": 0.1,
         "type": "scatter",
         "x": [
          1,
          2,
          3,
          4,
          5,
          6,
          7,
          8,
          9,
          10
         ],
         "y": [
          0.4175710678100586,
          0.3831574022769928,
          0.3766480088233948,
          0.3620869815349579,
          0.3259098529815674,
          0.2855675220489502,
          0.281438946723938,
          0.28092920780181885,
          0.2733510434627533,
          0.2593943774700165
         ]
        },
        {
         "hovertext": "<b>Topic 9</b>:putin_impeachment_russia_moscow_tru",
         "line": {
          "color": "black",
          "width": 1.5
         },
         "mode": "lines+lines",
         "name": "",
         "opacity": 0.1,
         "type": "scatter",
         "x": [
          1,
          2,
          3,
          4,
          5,
          6,
          7,
          8,
          9,
          10
         ],
         "y": [
          0.6118528842926025,
          0.4527510702610016,
          0.3883046507835388,
          0.38651198148727417,
          0.38495054841041565,
          0.38090986013412476,
          0.3596634268760681,
          0.3520216941833496,
          0.3389216661453247,
          0.3377072513103485
         ]
        },
        {
         "hovertext": "<b>Topic 10</b>:satan_christians_jesus_christianit",
         "line": {
          "color": "black",
          "width": 1.5
         },
         "mode": "lines+lines",
         "name": "",
         "opacity": 0.1,
         "type": "scatter",
         "x": [
          1,
          2,
          3,
          4,
          5,
          6,
          7,
          8,
          9,
          10
         ],
         "y": [
          0.4779646098613739,
          0.4752795100212097,
          0.4273785352706909,
          0.417180597782135,
          0.4137638211250305,
          0.41027480363845825,
          0.4102274775505066,
          0.39775097370147705,
          0.3797852694988251,
          0.3705606162548065
         ]
        },
        {
         "hovertext": "<b>Topic 11</b>:lying_lie_lied_lies_deceive_campai",
         "line": {
          "color": "black",
          "width": 1.5
         },
         "mode": "lines+lines",
         "name": "",
         "opacity": 0.1,
         "type": "scatter",
         "x": [
          1,
          2,
          3,
          4,
          5,
          6,
          7,
          8,
          9,
          10
         ],
         "y": [
          0.5576156973838806,
          0.5554285049438477,
          0.5424221158027649,
          0.48713693022727966,
          0.36458897590637207,
          0.3632493019104004,
          0.32588645815849304,
          0.31472378969192505,
          0.2935168147087097,
          0.28485673666000366
         ]
        },
        {
         "hovertext": "<b>Topic 12</b>:gun_ballistic_missile_shot_gunz_we",
         "line": {
          "color": "black",
          "width": 1.5
         },
         "mode": "lines+lines",
         "name": "",
         "opacity": 0.1,
         "type": "scatter",
         "x": [
          1,
          2,
          3,
          4,
          5,
          6,
          7,
          8,
          9,
          10
         ],
         "y": [
          0.49105358123779297,
          0.40234267711639404,
          0.39465445280075073,
          0.38427984714508057,
          0.3821027874946594,
          0.3639850616455078,
          0.3411807417869568,
          0.339411199092865,
          0.33228689432144165,
          0.3144996464252472
         ]
        },
        {
         "hovertext": "<b>Topic 13</b>:impeached_impeachment_impeach_conv",
         "line": {
          "color": "black",
          "width": 1.5
         },
         "mode": "lines+lines",
         "name": "",
         "opacity": 0.1,
         "type": "scatter",
         "x": [
          1,
          2,
          3,
          4,
          5,
          6,
          7,
          8,
          9,
          10
         ],
         "y": [
          0.7266942858695984,
          0.7067558169364929,
          0.681613564491272,
          0.3912963271141052,
          0.35161954164505005,
          0.33457648754119873,
          0.33000773191452026,
          0.31736260652542114,
          0.3157188296318054,
          0.31513363122940063
         ]
        },
        {
         "hovertext": "<b>Topic 14</b>:trump2020_trump2020landslide_2020_",
         "line": {
          "color": "black",
          "width": 1.5
         },
         "mode": "lines+lines",
         "name": "",
         "opacity": 0.1,
         "type": "scatter",
         "x": [
          1,
          2,
          3,
          4,
          5,
          6,
          7,
          8,
          9,
          10
         ],
         "y": [
          0.7290680408477783,
          0.6337019801139832,
          0.5928678512573242,
          0.5453360676765442,
          0.5273975133895874,
          0.50848388671875,
          0.46327298879623413,
          0.4435821771621704,
          0.42447924613952637,
          0.3665570914745331
         ]
        },
        {
         "hovertext": "<b>Topic 15</b>:outbreak_virus_infected_infection_",
         "line": {
          "color": "black",
          "width": 1.5
         },
         "mode": "lines+lines",
         "name": "",
         "opacity": 0.1,
         "type": "scatter",
         "x": [
          1,
          2,
          3,
          4,
          5,
          6,
          7,
          8,
          9,
          10
         ],
         "y": [
          0.4785290062427521,
          0.47751879692077637,
          0.46946340799331665,
          0.3598628044128418,
          0.3389431834220886,
          0.28659820556640625,
          0.24950876832008362,
          0.2110024392604828,
          0.21054241061210632,
          0.20348551869392395
         ]
        },
        {
         "hovertext": "<b>Topic 16</b>:pardons_convicted_prison_punishmen",
         "line": {
          "color": "black",
          "width": 1.5
         },
         "mode": "lines+lines",
         "name": "",
         "opacity": 0.1,
         "type": "scatter",
         "x": [
          1,
          2,
          3,
          4,
          5,
          6,
          7,
          8,
          9,
          10
         ],
         "y": [
          0.4632573127746582,
          0.45710763335227966,
          0.44413328170776367,
          0.4310349225997925,
          0.42427027225494385,
          0.41803380846977234,
          0.40895795822143555,
          0.38341814279556274,
          0.32176268100738525,
          0.3035937249660492
         ]
        },
        {
         "hovertext": "<b>Topic 17</b>:covid_flu_coronavirus_political_di",
         "line": {
          "color": "black",
          "width": 1.5
         },
         "mode": "lines+lines",
         "name": "",
         "opacity": 0.1,
         "type": "scatter",
         "x": [
          1,
          2,
          3,
          4,
          5,
          6,
          7,
          8,
          9,
          10
         ],
         "y": [
          0.6237941980361938,
          0.3802955746650696,
          0.3765309154987335,
          0.29051265120506287,
          0.28490376472473145,
          0.27680712938308716,
          0.26238852739334106,
          0.25308066606521606,
          0.25047385692596436,
          0.245388001203537
         ]
        },
        {
         "hovertext": "<b>Topic 18</b>:mask_maskers_politics_face_putinpu",
         "line": {
          "color": "black",
          "width": 1.5
         },
         "mode": "lines+lines",
         "name": "",
         "opacity": 0.1,
         "type": "scatter",
         "x": [
          1,
          2,
          3,
          4,
          5,
          6,
          7,
          8,
          9,
          10
         ],
         "y": [
          0.6130579710006714,
          0.4920658469200134,
          0.3369525671005249,
          0.31359198689460754,
          0.31159257888793945,
          0.3049417734146118,
          0.2840750217437744,
          0.28400516510009766,
          0.282115638256073,
          0.26721471548080444
         ]
        }
       ],
       "layout": {
        "height": 500,
        "hoverlabel": {
         "bgcolor": "white",
         "font": {
          "family": "Rockwell",
          "size": 16
         }
        },
        "showlegend": false,
        "template": {
         "data": {
          "bar": [
           {
            "error_x": {
             "color": "#2a3f5f"
            },
            "error_y": {
             "color": "#2a3f5f"
            },
            "marker": {
             "line": {
              "color": "white",
              "width": 0.5
             },
             "pattern": {
              "fillmode": "overlay",
              "size": 10,
              "solidity": 0.2
             }
            },
            "type": "bar"
           }
          ],
          "barpolar": [
           {
            "marker": {
             "line": {
              "color": "white",
              "width": 0.5
             },
             "pattern": {
              "fillmode": "overlay",
              "size": 10,
              "solidity": 0.2
             }
            },
            "type": "barpolar"
           }
          ],
          "carpet": [
           {
            "aaxis": {
             "endlinecolor": "#2a3f5f",
             "gridcolor": "#C8D4E3",
             "linecolor": "#C8D4E3",
             "minorgridcolor": "#C8D4E3",
             "startlinecolor": "#2a3f5f"
            },
            "baxis": {
             "endlinecolor": "#2a3f5f",
             "gridcolor": "#C8D4E3",
             "linecolor": "#C8D4E3",
             "minorgridcolor": "#C8D4E3",
             "startlinecolor": "#2a3f5f"
            },
            "type": "carpet"
           }
          ],
          "choropleth": [
           {
            "colorbar": {
             "outlinewidth": 0,
             "ticks": ""
            },
            "type": "choropleth"
           }
          ],
          "contour": [
           {
            "colorbar": {
             "outlinewidth": 0,
             "ticks": ""
            },
            "colorscale": [
             [
              0,
              "#0d0887"
             ],
             [
              0.1111111111111111,
              "#46039f"
             ],
             [
              0.2222222222222222,
              "#7201a8"
             ],
             [
              0.3333333333333333,
              "#9c179e"
             ],
             [
              0.4444444444444444,
              "#bd3786"
             ],
             [
              0.5555555555555556,
              "#d8576b"
             ],
             [
              0.6666666666666666,
              "#ed7953"
             ],
             [
              0.7777777777777778,
              "#fb9f3a"
             ],
             [
              0.8888888888888888,
              "#fdca26"
             ],
             [
              1,
              "#f0f921"
             ]
            ],
            "type": "contour"
           }
          ],
          "contourcarpet": [
           {
            "colorbar": {
             "outlinewidth": 0,
             "ticks": ""
            },
            "type": "contourcarpet"
           }
          ],
          "heatmap": [
           {
            "colorbar": {
             "outlinewidth": 0,
             "ticks": ""
            },
            "colorscale": [
             [
              0,
              "#0d0887"
             ],
             [
              0.1111111111111111,
              "#46039f"
             ],
             [
              0.2222222222222222,
              "#7201a8"
             ],
             [
              0.3333333333333333,
              "#9c179e"
             ],
             [
              0.4444444444444444,
              "#bd3786"
             ],
             [
              0.5555555555555556,
              "#d8576b"
             ],
             [
              0.6666666666666666,
              "#ed7953"
             ],
             [
              0.7777777777777778,
              "#fb9f3a"
             ],
             [
              0.8888888888888888,
              "#fdca26"
             ],
             [
              1,
              "#f0f921"
             ]
            ],
            "type": "heatmap"
           }
          ],
          "heatmapgl": [
           {
            "colorbar": {
             "outlinewidth": 0,
             "ticks": ""
            },
            "colorscale": [
             [
              0,
              "#0d0887"
             ],
             [
              0.1111111111111111,
              "#46039f"
             ],
             [
              0.2222222222222222,
              "#7201a8"
             ],
             [
              0.3333333333333333,
              "#9c179e"
             ],
             [
              0.4444444444444444,
              "#bd3786"
             ],
             [
              0.5555555555555556,
              "#d8576b"
             ],
             [
              0.6666666666666666,
              "#ed7953"
             ],
             [
              0.7777777777777778,
              "#fb9f3a"
             ],
             [
              0.8888888888888888,
              "#fdca26"
             ],
             [
              1,
              "#f0f921"
             ]
            ],
            "type": "heatmapgl"
           }
          ],
          "histogram": [
           {
            "marker": {
             "pattern": {
              "fillmode": "overlay",
              "size": 10,
              "solidity": 0.2
             }
            },
            "type": "histogram"
           }
          ],
          "histogram2d": [
           {
            "colorbar": {
             "outlinewidth": 0,
             "ticks": ""
            },
            "colorscale": [
             [
              0,
              "#0d0887"
             ],
             [
              0.1111111111111111,
              "#46039f"
             ],
             [
              0.2222222222222222,
              "#7201a8"
             ],
             [
              0.3333333333333333,
              "#9c179e"
             ],
             [
              0.4444444444444444,
              "#bd3786"
             ],
             [
              0.5555555555555556,
              "#d8576b"
             ],
             [
              0.6666666666666666,
              "#ed7953"
             ],
             [
              0.7777777777777778,
              "#fb9f3a"
             ],
             [
              0.8888888888888888,
              "#fdca26"
             ],
             [
              1,
              "#f0f921"
             ]
            ],
            "type": "histogram2d"
           }
          ],
          "histogram2dcontour": [
           {
            "colorbar": {
             "outlinewidth": 0,
             "ticks": ""
            },
            "colorscale": [
             [
              0,
              "#0d0887"
             ],
             [
              0.1111111111111111,
              "#46039f"
             ],
             [
              0.2222222222222222,
              "#7201a8"
             ],
             [
              0.3333333333333333,
              "#9c179e"
             ],
             [
              0.4444444444444444,
              "#bd3786"
             ],
             [
              0.5555555555555556,
              "#d8576b"
             ],
             [
              0.6666666666666666,
              "#ed7953"
             ],
             [
              0.7777777777777778,
              "#fb9f3a"
             ],
             [
              0.8888888888888888,
              "#fdca26"
             ],
             [
              1,
              "#f0f921"
             ]
            ],
            "type": "histogram2dcontour"
           }
          ],
          "mesh3d": [
           {
            "colorbar": {
             "outlinewidth": 0,
             "ticks": ""
            },
            "type": "mesh3d"
           }
          ],
          "parcoords": [
           {
            "line": {
             "colorbar": {
              "outlinewidth": 0,
              "ticks": ""
             }
            },
            "type": "parcoords"
           }
          ],
          "pie": [
           {
            "automargin": true,
            "type": "pie"
           }
          ],
          "scatter": [
           {
            "fillpattern": {
             "fillmode": "overlay",
             "size": 10,
             "solidity": 0.2
            },
            "type": "scatter"
           }
          ],
          "scatter3d": [
           {
            "line": {
             "colorbar": {
              "outlinewidth": 0,
              "ticks": ""
             }
            },
            "marker": {
             "colorbar": {
              "outlinewidth": 0,
              "ticks": ""
             }
            },
            "type": "scatter3d"
           }
          ],
          "scattercarpet": [
           {
            "marker": {
             "colorbar": {
              "outlinewidth": 0,
              "ticks": ""
             }
            },
            "type": "scattercarpet"
           }
          ],
          "scattergeo": [
           {
            "marker": {
             "colorbar": {
              "outlinewidth": 0,
              "ticks": ""
             }
            },
            "type": "scattergeo"
           }
          ],
          "scattergl": [
           {
            "marker": {
             "colorbar": {
              "outlinewidth": 0,
              "ticks": ""
             }
            },
            "type": "scattergl"
           }
          ],
          "scattermapbox": [
           {
            "marker": {
             "colorbar": {
              "outlinewidth": 0,
              "ticks": ""
             }
            },
            "type": "scattermapbox"
           }
          ],
          "scatterpolar": [
           {
            "marker": {
             "colorbar": {
              "outlinewidth": 0,
              "ticks": ""
             }
            },
            "type": "scatterpolar"
           }
          ],
          "scatterpolargl": [
           {
            "marker": {
             "colorbar": {
              "outlinewidth": 0,
              "ticks": ""
             }
            },
            "type": "scatterpolargl"
           }
          ],
          "scatterternary": [
           {
            "marker": {
             "colorbar": {
              "outlinewidth": 0,
              "ticks": ""
             }
            },
            "type": "scatterternary"
           }
          ],
          "surface": [
           {
            "colorbar": {
             "outlinewidth": 0,
             "ticks": ""
            },
            "colorscale": [
             [
              0,
              "#0d0887"
             ],
             [
              0.1111111111111111,
              "#46039f"
             ],
             [
              0.2222222222222222,
              "#7201a8"
             ],
             [
              0.3333333333333333,
              "#9c179e"
             ],
             [
              0.4444444444444444,
              "#bd3786"
             ],
             [
              0.5555555555555556,
              "#d8576b"
             ],
             [
              0.6666666666666666,
              "#ed7953"
             ],
             [
              0.7777777777777778,
              "#fb9f3a"
             ],
             [
              0.8888888888888888,
              "#fdca26"
             ],
             [
              1,
              "#f0f921"
             ]
            ],
            "type": "surface"
           }
          ],
          "table": [
           {
            "cells": {
             "fill": {
              "color": "#EBF0F8"
             },
             "line": {
              "color": "white"
             }
            },
            "header": {
             "fill": {
              "color": "#C8D4E3"
             },
             "line": {
              "color": "white"
             }
            },
            "type": "table"
           }
          ]
         },
         "layout": {
          "annotationdefaults": {
           "arrowcolor": "#2a3f5f",
           "arrowhead": 0,
           "arrowwidth": 1
          },
          "autotypenumbers": "strict",
          "coloraxis": {
           "colorbar": {
            "outlinewidth": 0,
            "ticks": ""
           }
          },
          "colorscale": {
           "diverging": [
            [
             0,
             "#8e0152"
            ],
            [
             0.1,
             "#c51b7d"
            ],
            [
             0.2,
             "#de77ae"
            ],
            [
             0.3,
             "#f1b6da"
            ],
            [
             0.4,
             "#fde0ef"
            ],
            [
             0.5,
             "#f7f7f7"
            ],
            [
             0.6,
             "#e6f5d0"
            ],
            [
             0.7,
             "#b8e186"
            ],
            [
             0.8,
             "#7fbc41"
            ],
            [
             0.9,
             "#4d9221"
            ],
            [
             1,
             "#276419"
            ]
           ],
           "sequential": [
            [
             0,
             "#0d0887"
            ],
            [
             0.1111111111111111,
             "#46039f"
            ],
            [
             0.2222222222222222,
             "#7201a8"
            ],
            [
             0.3333333333333333,
             "#9c179e"
            ],
            [
             0.4444444444444444,
             "#bd3786"
            ],
            [
             0.5555555555555556,
             "#d8576b"
            ],
            [
             0.6666666666666666,
             "#ed7953"
            ],
            [
             0.7777777777777778,
             "#fb9f3a"
            ],
            [
             0.8888888888888888,
             "#fdca26"
            ],
            [
             1,
             "#f0f921"
            ]
           ],
           "sequentialminus": [
            [
             0,
             "#0d0887"
            ],
            [
             0.1111111111111111,
             "#46039f"
            ],
            [
             0.2222222222222222,
             "#7201a8"
            ],
            [
             0.3333333333333333,
             "#9c179e"
            ],
            [
             0.4444444444444444,
             "#bd3786"
            ],
            [
             0.5555555555555556,
             "#d8576b"
            ],
            [
             0.6666666666666666,
             "#ed7953"
            ],
            [
             0.7777777777777778,
             "#fb9f3a"
            ],
            [
             0.8888888888888888,
             "#fdca26"
            ],
            [
             1,
             "#f0f921"
            ]
           ]
          },
          "colorway": [
           "#636efa",
           "#EF553B",
           "#00cc96",
           "#ab63fa",
           "#FFA15A",
           "#19d3f3",
           "#FF6692",
           "#B6E880",
           "#FF97FF",
           "#FECB52"
          ],
          "font": {
           "color": "#2a3f5f"
          },
          "geo": {
           "bgcolor": "white",
           "lakecolor": "white",
           "landcolor": "white",
           "showlakes": true,
           "showland": true,
           "subunitcolor": "#C8D4E3"
          },
          "hoverlabel": {
           "align": "left"
          },
          "hovermode": "closest",
          "mapbox": {
           "style": "light"
          },
          "paper_bgcolor": "white",
          "plot_bgcolor": "white",
          "polar": {
           "angularaxis": {
            "gridcolor": "#EBF0F8",
            "linecolor": "#EBF0F8",
            "ticks": ""
           },
           "bgcolor": "white",
           "radialaxis": {
            "gridcolor": "#EBF0F8",
            "linecolor": "#EBF0F8",
            "ticks": ""
           }
          },
          "scene": {
           "xaxis": {
            "backgroundcolor": "white",
            "gridcolor": "#DFE8F3",
            "gridwidth": 2,
            "linecolor": "#EBF0F8",
            "showbackground": true,
            "ticks": "",
            "zerolinecolor": "#EBF0F8"
           },
           "yaxis": {
            "backgroundcolor": "white",
            "gridcolor": "#DFE8F3",
            "gridwidth": 2,
            "linecolor": "#EBF0F8",
            "showbackground": true,
            "ticks": "",
            "zerolinecolor": "#EBF0F8"
           },
           "zaxis": {
            "backgroundcolor": "white",
            "gridcolor": "#DFE8F3",
            "gridwidth": 2,
            "linecolor": "#EBF0F8",
            "showbackground": true,
            "ticks": "",
            "zerolinecolor": "#EBF0F8"
           }
          },
          "shapedefaults": {
           "line": {
            "color": "#2a3f5f"
           }
          },
          "ternary": {
           "aaxis": {
            "gridcolor": "#DFE8F3",
            "linecolor": "#A2B1C6",
            "ticks": ""
           },
           "baxis": {
            "gridcolor": "#DFE8F3",
            "linecolor": "#A2B1C6",
            "ticks": ""
           },
           "bgcolor": "white",
           "caxis": {
            "gridcolor": "#DFE8F3",
            "linecolor": "#A2B1C6",
            "ticks": ""
           }
          },
          "title": {
           "x": 0.05
          },
          "xaxis": {
           "automargin": true,
           "gridcolor": "#EBF0F8",
           "linecolor": "#EBF0F8",
           "ticks": "",
           "title": {
            "standoff": 15
           },
           "zerolinecolor": "#EBF0F8",
           "zerolinewidth": 2
          },
          "yaxis": {
           "automargin": true,
           "gridcolor": "#EBF0F8",
           "linecolor": "#EBF0F8",
           "ticks": "",
           "title": {
            "standoff": 15
           },
           "zerolinecolor": "#EBF0F8",
           "zerolinewidth": 2
          }
         }
        },
        "title": {
         "font": {
          "color": "Black",
          "size": 22
         },
         "text": "<b>Term score decline per Topic</b>",
         "x": 0.5,
         "xanchor": "center",
         "y": 0.9,
         "yanchor": "top"
        },
        "width": 800,
        "xaxis": {
         "dtick": 2,
         "range": [
          0,
          10
         ],
         "tick0": 1,
         "title": {
          "text": "Term Rank"
         }
        },
        "yaxis": {
         "title": {
          "text": "c-TF-IDF score"
         }
        }
       }
      }
     },
     "metadata": {},
     "output_type": "display_data"
    }
   ],
   "source": [
    "model.visualize_term_rank()"
   ]
  },
  {
   "cell_type": "markdown",
   "metadata": {},
   "source": [
    "# Saving model and dataset"
   ]
  },
  {
   "cell_type": "code",
   "execution_count": 13,
   "metadata": {},
   "outputs": [],
   "source": [
    "custom_topic_names = {\n",
    "    0: \"Election and Voting\",\n",
    "    1: \"Biden and Democratic Party\",\n",
    "    2: \"Melania and Public Reactions\",\n",
    "    3: \"Judiciary and Courts\",\n",
    "    4: \"COVID-19 Vaccination\",\n",
    "    5: \"GOP and Republicans\",\n",
    "    6: \"Immigration Issues\",\n",
    "    7: \"Racism and Activism\",\n",
    "    8: \"CNN and Conspiracy Theories\",\n",
    "    9: \"Russia and Impeachment\",\n",
    "    10: \"Christianity and Religion\",\n",
    "    11: \"Lies and Deception\",\n",
    "    12: \"Guns and Ballistics\",\n",
    "    13: \"Impeachment Proceedings\",\n",
    "    14: \"Trump 2020 Campaign\",\n",
    "    15: \"COVID-19 Outbreak\",\n",
    "    16: \"Pardons and Convictions\",\n",
    "    17: \"COVID-19 and Political Distraction\",\n",
    "    18: \"Masks and Politics\"\n",
    "}\n",
    "\n",
    "# Assign custom names to topics\n",
    "model.set_topic_labels(custom_topic_names)"
   ]
  },
  {
   "cell_type": "code",
   "execution_count": 14,
   "metadata": {},
   "outputs": [],
   "source": [
    "# Save the model with custom topic names\n",
    "model.save(\"bert_best_model_tweets\")\n",
    "\n",
    "# To load the model later\n",
    "my_best_model = BERTopic.load(\"bert_best_model_tweets\")"
   ]
  },
  {
   "cell_type": "code",
   "execution_count": 15,
   "metadata": {},
   "outputs": [],
   "source": [
    "# Save the updated DataFrame to a new CSV file\n",
    "df.to_csv('dataset_with_topic_labels.csv', index=False)"
   ]
  },
  {
   "cell_type": "code",
   "execution_count": 16,
   "metadata": {},
   "outputs": [
    {
     "name": "stdout",
     "output_type": "stream",
     "text": [
      "[-1  1  5  0 10  3  7  6  9  8  4  2 13 11 17 14 15 16 12 18]\n"
     ]
    }
   ],
   "source": [
    "# Load the CSV files\n",
    "df1 = pd.read_csv('dataset_with_topic_labels.csv')\n",
    "\n",
    "# Get the list of unique values under the column \"topic_label\"\n",
    "unique_topic_labels = df1['topic_label'].unique()\n",
    "\n",
    "# Display the unique values\n",
    "print(unique_topic_labels)"
   ]
  }
 ],
 "metadata": {
  "kernelspec": {
   "display_name": "Python 3",
   "language": "python",
   "name": "python3"
  },
  "language_info": {
   "codemirror_mode": {
    "name": "ipython",
    "version": 3
   },
   "file_extension": ".py",
   "mimetype": "text/x-python",
   "name": "python",
   "nbconvert_exporter": "python",
   "pygments_lexer": "ipython3",
   "version": "3.11.5"
  }
 },
 "nbformat": 4,
 "nbformat_minor": 2
}
