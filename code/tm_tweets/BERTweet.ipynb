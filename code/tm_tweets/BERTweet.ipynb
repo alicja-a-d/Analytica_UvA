{
 "cells": [
  {
   "cell_type": "markdown",
   "metadata": {},
   "source": [
    "### Topic modelling on tweets with BERTweet\n"
   ]
  },
  {
   "cell_type": "code",
   "execution_count": 1,
   "metadata": {},
   "outputs": [
    {
     "name": "stderr",
     "output_type": "stream",
     "text": [
      "[nltk_data] Downloading package stopwords to\n",
      "[nltk_data]     C:\\Users\\hielk\\AppData\\Roaming\\nltk_data...\n",
      "[nltk_data]   Package stopwords is already up-to-date!\n",
      "[nltk_data] Downloading package wordnet to\n",
      "[nltk_data]     C:\\Users\\hielk\\AppData\\Roaming\\nltk_data...\n",
      "[nltk_data]   Package wordnet is already up-to-date!\n"
     ]
    }
   ],
   "source": [
    "#importing required libraries\n",
    "# %pip install nltk emoji==0.6.0\n",
    "import pandas as pd \n",
    "import seaborn as sns\n",
    "import matplotlib.pyplot as plt\n",
    "from bertopic import BERTopic\n",
    "import string\n",
    "from wordcloud import WordCloud\n",
    "import nltk\n",
    "from nltk.corpus import stopwords\n",
    "from nltk.stem import PorterStemmer\n",
    "from nltk.stem import WordNetLemmatizer\n",
    "from nltk.tokenize import word_tokenize\n",
    "nltk.download('stopwords')\n",
    "nltk.download('wordnet')\n",
    "from collections import Counter\n",
    "import re\n",
    "import os\n",
    "from ast import literal_eval\n",
    "from sentence_transformers import SentenceTransformer\n",
    "from umap import UMAP\n",
    "import dataframe_image as dfi\n",
    "from sklearn.metrics.pairwise import cosine_similarity\n",
    "from sklearn.feature_extraction import text\n",
    "\n",
    "import emoji\n",
    "from emoji import demojize\n",
    "from nltk.tokenize import TweetTokenizer  #keeps hashtags intact\n",
    "\n",
    "import torch\n",
    "from transformers import AutoModel, AutoTokenizer \n",
    "from TweetNormalizer import normalizeTweet\n"
   ]
  },
  {
   "cell_type": "markdown",
   "metadata": {},
   "source": [
    "Running the topic modelling on 2000 tweets as a 100 was too little."
   ]
  },
  {
   "cell_type": "code",
   "execution_count": 2,
   "metadata": {},
   "outputs": [],
   "source": [
    "\n",
    "# # loading the data into a dataframe\n",
    "# df = pd.read_excel('../../data/test/3000_random_rows_24_07_2020.xlsx')\n",
    "# display(df.head())"
   ]
  },
  {
   "cell_type": "code",
   "execution_count": 3,
   "metadata": {},
   "outputs": [
    {
     "data": {
      "text/html": [
       "<div>\n",
       "<style scoped>\n",
       "    .dataframe tbody tr th:only-of-type {\n",
       "        vertical-align: middle;\n",
       "    }\n",
       "\n",
       "    .dataframe tbody tr th {\n",
       "        vertical-align: top;\n",
       "    }\n",
       "\n",
       "    .dataframe thead th {\n",
       "        text-align: right;\n",
       "    }\n",
       "</style>\n",
       "<table border=\"1\" class=\"dataframe\">\n",
       "  <thead>\n",
       "    <tr style=\"text-align: right;\">\n",
       "      <th></th>\n",
       "      <th>created_at_fuzzy</th>\n",
       "      <th>state_likely_tweeted_from</th>\n",
       "      <th>text</th>\n",
       "      <th>source</th>\n",
       "      <th>display_text_width</th>\n",
       "      <th>lang</th>\n",
       "      <th>favorite_count</th>\n",
       "      <th>retweet_count</th>\n",
       "      <th>is_quote</th>\n",
       "      <th>followers_count</th>\n",
       "      <th>friends_count</th>\n",
       "      <th>listed_count</th>\n",
       "      <th>statuses_count</th>\n",
       "      <th>favourites_count</th>\n",
       "      <th>cleaned_text</th>\n",
       "      <th>Toxicity</th>\n",
       "      <th>Fact assessment</th>\n",
       "      <th>Trivia question</th>\n",
       "      <th>Offensive Assessment</th>\n",
       "    </tr>\n",
       "  </thead>\n",
       "  <tbody>\n",
       "    <tr>\n",
       "      <th>0</th>\n",
       "      <td>2020-08-13T16:55:49Z</td>\n",
       "      <td>California</td>\n",
       "      <td>LIVE: Trump holds press conference https://t.c...</td>\n",
       "      <td>Twitter Web App</td>\n",
       "      <td>71</td>\n",
       "      <td>en</td>\n",
       "      <td>0</td>\n",
       "      <td>0</td>\n",
       "      <td>False</td>\n",
       "      <td>3281</td>\n",
       "      <td>4938</td>\n",
       "      <td>4</td>\n",
       "      <td>39349</td>\n",
       "      <td>23299</td>\n",
       "      <td>LIVE: Trump holds press conference  via @YouTube</td>\n",
       "      <td>1</td>\n",
       "      <td>no verdict</td>\n",
       "      <td>NaN</td>\n",
       "      <td>NaN</td>\n",
       "    </tr>\n",
       "    <tr>\n",
       "      <th>1</th>\n",
       "      <td>2020-08-30T00:03:31Z</td>\n",
       "      <td>Tennessee</td>\n",
       "      <td>Trump’s claim the ‘silent majority’ will save ...</td>\n",
       "      <td>Twitter Web App</td>\n",
       "      <td>205</td>\n",
       "      <td>en</td>\n",
       "      <td>9</td>\n",
       "      <td>2</td>\n",
       "      <td>False</td>\n",
       "      <td>2866</td>\n",
       "      <td>3000</td>\n",
       "      <td>2</td>\n",
       "      <td>23786</td>\n",
       "      <td>30906</td>\n",
       "      <td>Trump’s claim the ‘silent majority’ will save ...</td>\n",
       "      <td>8</td>\n",
       "      <td>'no verdict'</td>\n",
       "      <td>NaN</td>\n",
       "      <td>NaN</td>\n",
       "    </tr>\n",
       "    <tr>\n",
       "      <th>2</th>\n",
       "      <td>2020-10-26T23:16:05Z</td>\n",
       "      <td>New York</td>\n",
       "      <td>#NewHampshire #VoteBlue #VoteBlueToSaveAmerica...</td>\n",
       "      <td>Twitter Web App</td>\n",
       "      <td>267</td>\n",
       "      <td>en</td>\n",
       "      <td>7</td>\n",
       "      <td>4</td>\n",
       "      <td>False</td>\n",
       "      <td>32221</td>\n",
       "      <td>26550</td>\n",
       "      <td>52</td>\n",
       "      <td>304911</td>\n",
       "      <td>146137</td>\n",
       "      <td>#NewHampshire #VoteBlue #VoteBlueToSaveAmerica...</td>\n",
       "      <td>2</td>\n",
       "      <td>'true'</td>\n",
       "      <td>NaN</td>\n",
       "      <td>NaN</td>\n",
       "    </tr>\n",
       "    <tr>\n",
       "      <th>3</th>\n",
       "      <td>2020-08-24T09:54:59Z</td>\n",
       "      <td>Florida</td>\n",
       "      <td>@davidsirota I'm so confused, when is the medi...</td>\n",
       "      <td>Twitter for Android</td>\n",
       "      <td>262</td>\n",
       "      <td>en</td>\n",
       "      <td>2</td>\n",
       "      <td>0</td>\n",
       "      <td>False</td>\n",
       "      <td>457</td>\n",
       "      <td>375</td>\n",
       "      <td>5</td>\n",
       "      <td>16851</td>\n",
       "      <td>7429</td>\n",
       "      <td>@davidsirota I'm so confused, when is the medi...</td>\n",
       "      <td>7</td>\n",
       "      <td>'no verdict'</td>\n",
       "      <td>NaN</td>\n",
       "      <td>NaN</td>\n",
       "    </tr>\n",
       "    <tr>\n",
       "      <th>4</th>\n",
       "      <td>2021-02-04T11:31:07Z</td>\n",
       "      <td>Washington</td>\n",
       "      <td>@Carlos27480217 @DonaldJTrumpJr Yep! He has Ba...</td>\n",
       "      <td>Twitter for Android</td>\n",
       "      <td>88</td>\n",
       "      <td>en</td>\n",
       "      <td>0</td>\n",
       "      <td>0</td>\n",
       "      <td>False</td>\n",
       "      <td>43</td>\n",
       "      <td>177</td>\n",
       "      <td>0</td>\n",
       "      <td>2618</td>\n",
       "      <td>1517</td>\n",
       "      <td>@Carlos27480217 @DonaldJTrumpJr Yep! He has Ba...</td>\n",
       "      <td>8</td>\n",
       "      <td>'false'</td>\n",
       "      <td>NaN</td>\n",
       "      <td>NaN</td>\n",
       "    </tr>\n",
       "    <tr>\n",
       "      <th>5</th>\n",
       "      <td>2021-01-03T11:54:56Z</td>\n",
       "      <td>Texas</td>\n",
       "      <td>@HouseGOP @SenateGOP @GOP @NRSC @NRCC It is in...</td>\n",
       "      <td>Twitter for iPhone</td>\n",
       "      <td>270</td>\n",
       "      <td>en</td>\n",
       "      <td>0</td>\n",
       "      <td>0</td>\n",
       "      <td>True</td>\n",
       "      <td>17842</td>\n",
       "      <td>15408</td>\n",
       "      <td>29</td>\n",
       "      <td>37936</td>\n",
       "      <td>31978</td>\n",
       "      <td>@HouseGOP @SenateGOP @GOP @NRSC @NRCC It is in...</td>\n",
       "      <td>8</td>\n",
       "      <td>false</td>\n",
       "      <td>NaN</td>\n",
       "      <td>NaN</td>\n",
       "    </tr>\n",
       "    <tr>\n",
       "      <th>6</th>\n",
       "      <td>2020-09-03T03:39:01Z</td>\n",
       "      <td>Illinois</td>\n",
       "      <td>@dachs8 @JordanChariton Seriously? Almost ever...</td>\n",
       "      <td>Twitter for Android</td>\n",
       "      <td>278</td>\n",
       "      <td>en</td>\n",
       "      <td>6</td>\n",
       "      <td>0</td>\n",
       "      <td>False</td>\n",
       "      <td>1116</td>\n",
       "      <td>1588</td>\n",
       "      <td>6</td>\n",
       "      <td>7168</td>\n",
       "      <td>125089</td>\n",
       "      <td>@dachs8 @JordanChariton Seriously? Almost ever...</td>\n",
       "      <td>7</td>\n",
       "      <td>'no verdict'</td>\n",
       "      <td>NaN</td>\n",
       "      <td>NaN</td>\n",
       "    </tr>\n",
       "    <tr>\n",
       "      <th>7</th>\n",
       "      <td>2021-02-10T01:29:58Z</td>\n",
       "      <td>North Carolina</td>\n",
       "      <td>Biden endorses sending stimulus checks to Amer...</td>\n",
       "      <td>Twitter for iPhone</td>\n",
       "      <td>120</td>\n",
       "      <td>en</td>\n",
       "      <td>0</td>\n",
       "      <td>0</td>\n",
       "      <td>False</td>\n",
       "      <td>377</td>\n",
       "      <td>295</td>\n",
       "      <td>1</td>\n",
       "      <td>84774</td>\n",
       "      <td>38849</td>\n",
       "      <td>Biden endorses sending stimulus checks to Amer...</td>\n",
       "      <td>2</td>\n",
       "      <td>'true'</td>\n",
       "      <td>NaN</td>\n",
       "      <td>NaN</td>\n",
       "    </tr>\n",
       "    <tr>\n",
       "      <th>8</th>\n",
       "      <td>2020-12-16T19:04:31Z</td>\n",
       "      <td>California</td>\n",
       "      <td>Doug Collins is in the Deep state Mitch McConn...</td>\n",
       "      <td>Twitter for Android</td>\n",
       "      <td>195</td>\n",
       "      <td>en</td>\n",
       "      <td>1</td>\n",
       "      <td>0</td>\n",
       "      <td>False</td>\n",
       "      <td>91</td>\n",
       "      <td>523</td>\n",
       "      <td>0</td>\n",
       "      <td>1245</td>\n",
       "      <td>1427</td>\n",
       "      <td>Doug Collins is in the Deep state Mitch McConn...</td>\n",
       "      <td>8</td>\n",
       "      <td>False</td>\n",
       "      <td>NaN</td>\n",
       "      <td>NaN</td>\n",
       "    </tr>\n",
       "    <tr>\n",
       "      <th>9</th>\n",
       "      <td>2020-07-29T13:51:59Z</td>\n",
       "      <td>Kansas</td>\n",
       "      <td>It was Trump's antic semitic joke: \"You don't ...</td>\n",
       "      <td>Twitter for Android</td>\n",
       "      <td>69</td>\n",
       "      <td>en</td>\n",
       "      <td>0</td>\n",
       "      <td>0</td>\n",
       "      <td>True</td>\n",
       "      <td>211</td>\n",
       "      <td>637</td>\n",
       "      <td>0</td>\n",
       "      <td>115742</td>\n",
       "      <td>48100</td>\n",
       "      <td>It was Trump's antic semitic joke: \"You don't ...</td>\n",
       "      <td>8</td>\n",
       "      <td>False</td>\n",
       "      <td>NaN</td>\n",
       "      <td>NaN</td>\n",
       "    </tr>\n",
       "    <tr>\n",
       "      <th>10</th>\n",
       "      <td>2020-10-08T07:48:34Z</td>\n",
       "      <td>Oregon</td>\n",
       "      <td>We're not electing a dictator. The president i...</td>\n",
       "      <td>Twitter for Android</td>\n",
       "      <td>242</td>\n",
       "      <td>en</td>\n",
       "      <td>1</td>\n",
       "      <td>0</td>\n",
       "      <td>False</td>\n",
       "      <td>678</td>\n",
       "      <td>1179</td>\n",
       "      <td>34</td>\n",
       "      <td>146317</td>\n",
       "      <td>266836</td>\n",
       "      <td>We're not electing a dictator. The president i...</td>\n",
       "      <td>7</td>\n",
       "      <td>'no verdict'</td>\n",
       "      <td>NaN</td>\n",
       "      <td>NaN</td>\n",
       "    </tr>\n",
       "    <tr>\n",
       "      <th>11</th>\n",
       "      <td>2020-12-25T11:32:41Z</td>\n",
       "      <td>Pennsylvania</td>\n",
       "      <td>@PreetBharara I've always stood by *pled*, unt...</td>\n",
       "      <td>Twitter for Android</td>\n",
       "      <td>108</td>\n",
       "      <td>en</td>\n",
       "      <td>0</td>\n",
       "      <td>0</td>\n",
       "      <td>False</td>\n",
       "      <td>164</td>\n",
       "      <td>242</td>\n",
       "      <td>7</td>\n",
       "      <td>22893</td>\n",
       "      <td>18428</td>\n",
       "      <td>@PreetBharara I've always stood by *pled*, unt...</td>\n",
       "      <td>2</td>\n",
       "      <td>'no verdict'</td>\n",
       "      <td>NaN</td>\n",
       "      <td>NaN</td>\n",
       "    </tr>\n",
       "    <tr>\n",
       "      <th>12</th>\n",
       "      <td>2020-11-26T07:20:31Z</td>\n",
       "      <td>Indiana</td>\n",
       "      <td>@DenaePFA @WajahatAli Got this Bible verse fro...</td>\n",
       "      <td>Twitter Web App</td>\n",
       "      <td>232</td>\n",
       "      <td>en</td>\n",
       "      <td>1</td>\n",
       "      <td>0</td>\n",
       "      <td>False</td>\n",
       "      <td>5781</td>\n",
       "      <td>6037</td>\n",
       "      <td>3</td>\n",
       "      <td>23623</td>\n",
       "      <td>21302</td>\n",
       "      <td>@DenaePFA @WajahatAli Got this Bible verse fro...</td>\n",
       "      <td>7</td>\n",
       "      <td>'no verdict'</td>\n",
       "      <td>NaN</td>\n",
       "      <td>NaN</td>\n",
       "    </tr>\n",
       "    <tr>\n",
       "      <th>13</th>\n",
       "      <td>2020-10-17T14:04:04Z</td>\n",
       "      <td>Pennsylvania</td>\n",
       "      <td>@AndrewBatesNC Except he said he would cancel ...</td>\n",
       "      <td>Twitter for Android</td>\n",
       "      <td>126</td>\n",
       "      <td>en</td>\n",
       "      <td>0</td>\n",
       "      <td>0</td>\n",
       "      <td>False</td>\n",
       "      <td>118</td>\n",
       "      <td>352</td>\n",
       "      <td>3</td>\n",
       "      <td>3802</td>\n",
       "      <td>4830</td>\n",
       "      <td>@AndrewBatesNC Except he said he would cancel ...</td>\n",
       "      <td>7</td>\n",
       "      <td>False</td>\n",
       "      <td>NaN</td>\n",
       "      <td>NaN</td>\n",
       "    </tr>\n",
       "    <tr>\n",
       "      <th>14</th>\n",
       "      <td>2021-03-25T06:10:17Z</td>\n",
       "      <td>Texas</td>\n",
       "      <td>@laurenboebert The president of Mexico blames ...</td>\n",
       "      <td>Twitter for Android</td>\n",
       "      <td>36</td>\n",
       "      <td>en</td>\n",
       "      <td>0</td>\n",
       "      <td>0</td>\n",
       "      <td>False</td>\n",
       "      <td>7</td>\n",
       "      <td>58</td>\n",
       "      <td>0</td>\n",
       "      <td>158</td>\n",
       "      <td>124</td>\n",
       "      <td>@laurenboebert The president of Mexico blames ...</td>\n",
       "      <td>3</td>\n",
       "      <td>False</td>\n",
       "      <td>NaN</td>\n",
       "      <td>NaN</td>\n",
       "    </tr>\n",
       "    <tr>\n",
       "      <th>15</th>\n",
       "      <td>2020-11-15T13:47:51Z</td>\n",
       "      <td>Maine</td>\n",
       "      <td>@CassandraAhearn PS\\r\\n@Twitter  @Jack  @Twitt...</td>\n",
       "      <td>Twitter Web App</td>\n",
       "      <td>263</td>\n",
       "      <td>en</td>\n",
       "      <td>1</td>\n",
       "      <td>0</td>\n",
       "      <td>False</td>\n",
       "      <td>11320</td>\n",
       "      <td>12314</td>\n",
       "      <td>8</td>\n",
       "      <td>26730</td>\n",
       "      <td>36105</td>\n",
       "      <td>@CassandraAhearn PS\\r\\n@Twitter  @Jack  @Twitt...</td>\n",
       "      <td>8</td>\n",
       "      <td>'no verdict'</td>\n",
       "      <td>NaN</td>\n",
       "      <td>NaN</td>\n",
       "    </tr>\n",
       "    <tr>\n",
       "      <th>16</th>\n",
       "      <td>2021-02-16T01:52:59Z</td>\n",
       "      <td>Utah</td>\n",
       "      <td>Hot take; Romney isn’t against Trump because h...</td>\n",
       "      <td>Twitter for iPhone</td>\n",
       "      <td>132</td>\n",
       "      <td>en</td>\n",
       "      <td>16</td>\n",
       "      <td>1</td>\n",
       "      <td>True</td>\n",
       "      <td>298</td>\n",
       "      <td>501</td>\n",
       "      <td>2</td>\n",
       "      <td>3002</td>\n",
       "      <td>5086</td>\n",
       "      <td>Hot take; Romney isn’t against Trump because h...</td>\n",
       "      <td>2</td>\n",
       "      <td>'true'</td>\n",
       "      <td>NaN</td>\n",
       "      <td>NaN</td>\n",
       "    </tr>\n",
       "    <tr>\n",
       "      <th>17</th>\n",
       "      <td>2020-09-30T23:10:23Z</td>\n",
       "      <td>Hawaii</td>\n",
       "      <td>Trump actually stood in front of the cameras t...</td>\n",
       "      <td>Twitter Web App</td>\n",
       "      <td>181</td>\n",
       "      <td>en</td>\n",
       "      <td>12</td>\n",
       "      <td>3</td>\n",
       "      <td>False</td>\n",
       "      <td>2689</td>\n",
       "      <td>2491</td>\n",
       "      <td>22</td>\n",
       "      <td>39381</td>\n",
       "      <td>88744</td>\n",
       "      <td>Trump actually stood in front of the cameras t...</td>\n",
       "      <td>8</td>\n",
       "      <td>'true'</td>\n",
       "      <td>NaN</td>\n",
       "      <td>NaN</td>\n",
       "    </tr>\n",
       "    <tr>\n",
       "      <th>18</th>\n",
       "      <td>2021-03-04T07:03:15Z</td>\n",
       "      <td>Iowa</td>\n",
       "      <td>feel free to join in if you ever see me bullyi...</td>\n",
       "      <td>Twitter for iPhone</td>\n",
       "      <td>64</td>\n",
       "      <td>en</td>\n",
       "      <td>2</td>\n",
       "      <td>0</td>\n",
       "      <td>False</td>\n",
       "      <td>819</td>\n",
       "      <td>450</td>\n",
       "      <td>5</td>\n",
       "      <td>26708</td>\n",
       "      <td>73717</td>\n",
       "      <td>feel free to join in if you ever see me bullyi...</td>\n",
       "      <td>2</td>\n",
       "      <td>'no verdict'</td>\n",
       "      <td>NaN</td>\n",
       "      <td>NaN</td>\n",
       "    </tr>\n",
       "    <tr>\n",
       "      <th>19</th>\n",
       "      <td>2020-09-30T05:47:00Z</td>\n",
       "      <td>Nevada</td>\n",
       "      <td>@PatriotBee78 Biden was low on substance. Also...</td>\n",
       "      <td>Twitter Web App</td>\n",
       "      <td>166</td>\n",
       "      <td>en</td>\n",
       "      <td>5</td>\n",
       "      <td>4</td>\n",
       "      <td>False</td>\n",
       "      <td>38505</td>\n",
       "      <td>38626</td>\n",
       "      <td>225</td>\n",
       "      <td>81777</td>\n",
       "      <td>2779</td>\n",
       "      <td>@PatriotBee78 Biden was low on substance. Also...</td>\n",
       "      <td>8</td>\n",
       "      <td>'false'</td>\n",
       "      <td>NaN</td>\n",
       "      <td>NaN</td>\n",
       "    </tr>\n",
       "  </tbody>\n",
       "</table>\n",
       "</div>"
      ],
      "text/plain": [
       "        created_at_fuzzy state_likely_tweeted_from  \\\n",
       "0   2020-08-13T16:55:49Z                California   \n",
       "1   2020-08-30T00:03:31Z                 Tennessee   \n",
       "2   2020-10-26T23:16:05Z                  New York   \n",
       "3   2020-08-24T09:54:59Z                   Florida   \n",
       "4   2021-02-04T11:31:07Z                Washington   \n",
       "5   2021-01-03T11:54:56Z                     Texas   \n",
       "6   2020-09-03T03:39:01Z                  Illinois   \n",
       "7   2021-02-10T01:29:58Z            North Carolina   \n",
       "8   2020-12-16T19:04:31Z                California   \n",
       "9   2020-07-29T13:51:59Z                    Kansas   \n",
       "10  2020-10-08T07:48:34Z                    Oregon   \n",
       "11  2020-12-25T11:32:41Z              Pennsylvania   \n",
       "12  2020-11-26T07:20:31Z                   Indiana   \n",
       "13  2020-10-17T14:04:04Z              Pennsylvania   \n",
       "14  2021-03-25T06:10:17Z                     Texas   \n",
       "15  2020-11-15T13:47:51Z                     Maine   \n",
       "16  2021-02-16T01:52:59Z                      Utah   \n",
       "17  2020-09-30T23:10:23Z                    Hawaii   \n",
       "18  2021-03-04T07:03:15Z                      Iowa   \n",
       "19  2020-09-30T05:47:00Z                    Nevada   \n",
       "\n",
       "                                                 text               source  \\\n",
       "0   LIVE: Trump holds press conference https://t.c...      Twitter Web App   \n",
       "1   Trump’s claim the ‘silent majority’ will save ...      Twitter Web App   \n",
       "2   #NewHampshire #VoteBlue #VoteBlueToSaveAmerica...      Twitter Web App   \n",
       "3   @davidsirota I'm so confused, when is the medi...  Twitter for Android   \n",
       "4   @Carlos27480217 @DonaldJTrumpJr Yep! He has Ba...  Twitter for Android   \n",
       "5   @HouseGOP @SenateGOP @GOP @NRSC @NRCC It is in...   Twitter for iPhone   \n",
       "6   @dachs8 @JordanChariton Seriously? Almost ever...  Twitter for Android   \n",
       "7   Biden endorses sending stimulus checks to Amer...   Twitter for iPhone   \n",
       "8   Doug Collins is in the Deep state Mitch McConn...  Twitter for Android   \n",
       "9   It was Trump's antic semitic joke: \"You don't ...  Twitter for Android   \n",
       "10  We're not electing a dictator. The president i...  Twitter for Android   \n",
       "11  @PreetBharara I've always stood by *pled*, unt...  Twitter for Android   \n",
       "12  @DenaePFA @WajahatAli Got this Bible verse fro...      Twitter Web App   \n",
       "13  @AndrewBatesNC Except he said he would cancel ...  Twitter for Android   \n",
       "14  @laurenboebert The president of Mexico blames ...  Twitter for Android   \n",
       "15  @CassandraAhearn PS\\r\\n@Twitter  @Jack  @Twitt...      Twitter Web App   \n",
       "16  Hot take; Romney isn’t against Trump because h...   Twitter for iPhone   \n",
       "17  Trump actually stood in front of the cameras t...      Twitter Web App   \n",
       "18  feel free to join in if you ever see me bullyi...   Twitter for iPhone   \n",
       "19  @PatriotBee78 Biden was low on substance. Also...      Twitter Web App   \n",
       "\n",
       "    display_text_width lang  favorite_count  retweet_count  is_quote  \\\n",
       "0                   71   en               0              0     False   \n",
       "1                  205   en               9              2     False   \n",
       "2                  267   en               7              4     False   \n",
       "3                  262   en               2              0     False   \n",
       "4                   88   en               0              0     False   \n",
       "5                  270   en               0              0      True   \n",
       "6                  278   en               6              0     False   \n",
       "7                  120   en               0              0     False   \n",
       "8                  195   en               1              0     False   \n",
       "9                   69   en               0              0      True   \n",
       "10                 242   en               1              0     False   \n",
       "11                 108   en               0              0     False   \n",
       "12                 232   en               1              0     False   \n",
       "13                 126   en               0              0     False   \n",
       "14                  36   en               0              0     False   \n",
       "15                 263   en               1              0     False   \n",
       "16                 132   en              16              1      True   \n",
       "17                 181   en              12              3     False   \n",
       "18                  64   en               2              0     False   \n",
       "19                 166   en               5              4     False   \n",
       "\n",
       "    followers_count  friends_count  listed_count  statuses_count  \\\n",
       "0              3281           4938             4           39349   \n",
       "1              2866           3000             2           23786   \n",
       "2             32221          26550            52          304911   \n",
       "3               457            375             5           16851   \n",
       "4                43            177             0            2618   \n",
       "5             17842          15408            29           37936   \n",
       "6              1116           1588             6            7168   \n",
       "7               377            295             1           84774   \n",
       "8                91            523             0            1245   \n",
       "9               211            637             0          115742   \n",
       "10              678           1179            34          146317   \n",
       "11              164            242             7           22893   \n",
       "12             5781           6037             3           23623   \n",
       "13              118            352             3            3802   \n",
       "14                7             58             0             158   \n",
       "15            11320          12314             8           26730   \n",
       "16              298            501             2            3002   \n",
       "17             2689           2491            22           39381   \n",
       "18              819            450             5           26708   \n",
       "19            38505          38626           225           81777   \n",
       "\n",
       "    favourites_count                                       cleaned_text  \\\n",
       "0              23299   LIVE: Trump holds press conference  via @YouTube   \n",
       "1              30906  Trump’s claim the ‘silent majority’ will save ...   \n",
       "2             146137  #NewHampshire #VoteBlue #VoteBlueToSaveAmerica...   \n",
       "3               7429  @davidsirota I'm so confused, when is the medi...   \n",
       "4               1517  @Carlos27480217 @DonaldJTrumpJr Yep! He has Ba...   \n",
       "5              31978  @HouseGOP @SenateGOP @GOP @NRSC @NRCC It is in...   \n",
       "6             125089  @dachs8 @JordanChariton Seriously? Almost ever...   \n",
       "7              38849  Biden endorses sending stimulus checks to Amer...   \n",
       "8               1427  Doug Collins is in the Deep state Mitch McConn...   \n",
       "9              48100  It was Trump's antic semitic joke: \"You don't ...   \n",
       "10            266836  We're not electing a dictator. The president i...   \n",
       "11             18428  @PreetBharara I've always stood by *pled*, unt...   \n",
       "12             21302  @DenaePFA @WajahatAli Got this Bible verse fro...   \n",
       "13              4830  @AndrewBatesNC Except he said he would cancel ...   \n",
       "14               124  @laurenboebert The president of Mexico blames ...   \n",
       "15             36105  @CassandraAhearn PS\\r\\n@Twitter  @Jack  @Twitt...   \n",
       "16              5086  Hot take; Romney isn’t against Trump because h...   \n",
       "17             88744  Trump actually stood in front of the cameras t...   \n",
       "18             73717  feel free to join in if you ever see me bullyi...   \n",
       "19              2779  @PatriotBee78 Biden was low on substance. Also...   \n",
       "\n",
       "    Toxicity Fact assessment Trivia question Offensive Assessment  \n",
       "0          1      no verdict             NaN                  NaN  \n",
       "1          8    'no verdict'             NaN                  NaN  \n",
       "2          2          'true'             NaN                  NaN  \n",
       "3          7    'no verdict'             NaN                  NaN  \n",
       "4          8         'false'             NaN                  NaN  \n",
       "5          8           false             NaN                  NaN  \n",
       "6          7    'no verdict'             NaN                  NaN  \n",
       "7          2          'true'             NaN                  NaN  \n",
       "8          8           False             NaN                  NaN  \n",
       "9          8           False             NaN                  NaN  \n",
       "10         7    'no verdict'             NaN                  NaN  \n",
       "11         2    'no verdict'             NaN                  NaN  \n",
       "12         7    'no verdict'             NaN                  NaN  \n",
       "13         7           False             NaN                  NaN  \n",
       "14         3           False             NaN                  NaN  \n",
       "15         8    'no verdict'             NaN                  NaN  \n",
       "16         2          'true'             NaN                  NaN  \n",
       "17         8          'true'             NaN                  NaN  \n",
       "18         2    'no verdict'             NaN                  NaN  \n",
       "19         8         'false'             NaN                  NaN  "
      ]
     },
     "execution_count": 3,
     "metadata": {},
     "output_type": "execute_result"
    }
   ],
   "source": [
    "# Path to the CSV file\n",
    "csv_file_path = \"../../data/labelled/2000_random_tweets_labelled.csv\"\n",
    "\n",
    "# Read the CSV file into a DataFrame\n",
    "df = pd.read_csv(csv_file_path)\n",
    "\n",
    "# Remove rows with text language other than English\n",
    "df = df[df['lang'] == 'en']\n",
    "\n",
    "# Display the first few rows of the DataFrame to verify it was read correctly\n",
    "df.head(20)\n"
   ]
  },
  {
   "cell_type": "code",
   "execution_count": 4,
   "metadata": {},
   "outputs": [
    {
     "data": {
      "image/png": "[encoded data removed]",
      "text/plain": [
       "<Figure size 500x500 with 1 Axes>"
      ]
     },
     "metadata": {},
     "output_type": "display_data"
    }
   ],
   "source": [
    "#adding an extra column as this is the columsn that will appear in the dataset we gave to LLM, we can of course adapt this \n",
    "# just depends which analysis we will be doing first \n",
    "\n",
    "df['cleaned_text'] = df['text']\n",
    "\n",
    "\n",
    "# creating a new column containing the length of each headline text that is larger than 0\n",
    "non_empty_lengths = df[(df['cleaned_text'].notnull()) & (df['display_text_width'] > 0)]['display_text_width']\n",
    "# visualising the length distribution \n",
    "\n",
    "sns.set(rc={'figure.figsize':(14,11)})\n",
    "sns.set(style=\"whitegrid\")\n",
    "sns.displot(non_empty_lengths, kde=False, color='green', bins=100)\n",
    "\n",
    "\n",
    "plt.ylabel('Frequency', fontsize=12)\n",
    "plt.xlabel('Distribution of Tweet Text Lengths', fontsize=12)\n",
    "plt.grid(True)\n",
    "\n",
    "\n",
    "plt.show()"
   ]
  },
  {
   "cell_type": "code",
   "execution_count": 5,
   "metadata": {},
   "outputs": [],
   "source": [
    "from sklearn.feature_extraction.text import CountVectorizer\n",
    "\n",
    "count_vectoriser = CountVectorizer(stop_words=\"english\") # Stopwords for BERT"
   ]
  },
  {
   "cell_type": "code",
   "execution_count": 6,
   "metadata": {},
   "outputs": [],
   "source": [
    "from TweetNormalizer import normalizeTweet\n",
    "\n",
    "def apply_tweet_normalization(df):\n",
    "    \"\"\"\n",
    "    Apply tweet normalization to the 'cleaned_text' column in the DataFrame.\n",
    "    \n",
    "    Parameters:\n",
    "        df (pandas.DataFrame): DataFrame containing the 'cleaned_text' column.\n",
    "        \n",
    "    Returns:\n",
    "        pandas.DataFrame: DataFrame with normalized tweet text.\n",
    "    \"\"\"\n",
    "    try:\n",
    "        df['cleaned_text'] = df['cleaned_text'].apply(normalizeTweet)\n",
    "        return df\n",
    "    except Exception as e:\n",
    "        print(\"An error occurred:\", e)\n",
    "        return None\n",
    "\n",
    "# Call the function to apply tweet normalization\n",
    "df = apply_tweet_normalization(df)"
   ]
  },
  {
   "cell_type": "code",
   "execution_count": 7,
   "metadata": {},
   "outputs": [
    {
     "data": {
      "text/html": [
       "<div>\n",
       "<style scoped>\n",
       "    .dataframe tbody tr th:only-of-type {\n",
       "        vertical-align: middle;\n",
       "    }\n",
       "\n",
       "    .dataframe tbody tr th {\n",
       "        vertical-align: top;\n",
       "    }\n",
       "\n",
       "    .dataframe thead th {\n",
       "        text-align: right;\n",
       "    }\n",
       "</style>\n",
       "<table border=\"1\" class=\"dataframe\">\n",
       "  <thead>\n",
       "    <tr style=\"text-align: right;\">\n",
       "      <th></th>\n",
       "      <th>created_at_fuzzy</th>\n",
       "      <th>state_likely_tweeted_from</th>\n",
       "      <th>text</th>\n",
       "      <th>source</th>\n",
       "      <th>display_text_width</th>\n",
       "      <th>lang</th>\n",
       "      <th>favorite_count</th>\n",
       "      <th>retweet_count</th>\n",
       "      <th>is_quote</th>\n",
       "      <th>followers_count</th>\n",
       "      <th>friends_count</th>\n",
       "      <th>listed_count</th>\n",
       "      <th>statuses_count</th>\n",
       "      <th>favourites_count</th>\n",
       "      <th>cleaned_text</th>\n",
       "      <th>Toxicity</th>\n",
       "      <th>Fact assessment</th>\n",
       "      <th>Trivia question</th>\n",
       "      <th>Offensive Assessment</th>\n",
       "    </tr>\n",
       "  </thead>\n",
       "  <tbody>\n",
       "    <tr>\n",
       "      <th>0</th>\n",
       "      <td>2020-08-13T16:55:49Z</td>\n",
       "      <td>California</td>\n",
       "      <td>LIVE: Trump holds press conference https://t.c...</td>\n",
       "      <td>Twitter Web App</td>\n",
       "      <td>71</td>\n",
       "      <td>en</td>\n",
       "      <td>0</td>\n",
       "      <td>0</td>\n",
       "      <td>False</td>\n",
       "      <td>3281</td>\n",
       "      <td>4938</td>\n",
       "      <td>4</td>\n",
       "      <td>39349</td>\n",
       "      <td>23299</td>\n",
       "      <td>LIVE : Trump holds press conference HTTPURL vi...</td>\n",
       "      <td>1</td>\n",
       "      <td>no verdict</td>\n",
       "      <td>NaN</td>\n",
       "      <td>NaN</td>\n",
       "    </tr>\n",
       "    <tr>\n",
       "      <th>1</th>\n",
       "      <td>2020-08-30T00:03:31Z</td>\n",
       "      <td>Tennessee</td>\n",
       "      <td>Trump’s claim the ‘silent majority’ will save ...</td>\n",
       "      <td>Twitter Web App</td>\n",
       "      <td>205</td>\n",
       "      <td>en</td>\n",
       "      <td>9</td>\n",
       "      <td>2</td>\n",
       "      <td>False</td>\n",
       "      <td>2866</td>\n",
       "      <td>3000</td>\n",
       "      <td>2</td>\n",
       "      <td>23786</td>\n",
       "      <td>30906</td>\n",
       "      <td>Trump 's claim the ‘ silent majority ' will sa...</td>\n",
       "      <td>8</td>\n",
       "      <td>'no verdict'</td>\n",
       "      <td>NaN</td>\n",
       "      <td>NaN</td>\n",
       "    </tr>\n",
       "    <tr>\n",
       "      <th>2</th>\n",
       "      <td>2020-10-26T23:16:05Z</td>\n",
       "      <td>New York</td>\n",
       "      <td>#NewHampshire #VoteBlue #VoteBlueToSaveAmerica...</td>\n",
       "      <td>Twitter Web App</td>\n",
       "      <td>267</td>\n",
       "      <td>en</td>\n",
       "      <td>7</td>\n",
       "      <td>4</td>\n",
       "      <td>False</td>\n",
       "      <td>32221</td>\n",
       "      <td>26550</td>\n",
       "      <td>52</td>\n",
       "      <td>304911</td>\n",
       "      <td>146137</td>\n",
       "      <td>#NewHampshire #VoteBlue #VoteBlueToSaveAmerica...</td>\n",
       "      <td>2</td>\n",
       "      <td>'true'</td>\n",
       "      <td>NaN</td>\n",
       "      <td>NaN</td>\n",
       "    </tr>\n",
       "    <tr>\n",
       "      <th>3</th>\n",
       "      <td>2020-08-24T09:54:59Z</td>\n",
       "      <td>Florida</td>\n",
       "      <td>@davidsirota I'm so confused, when is the medi...</td>\n",
       "      <td>Twitter for Android</td>\n",
       "      <td>262</td>\n",
       "      <td>en</td>\n",
       "      <td>2</td>\n",
       "      <td>0</td>\n",
       "      <td>False</td>\n",
       "      <td>457</td>\n",
       "      <td>375</td>\n",
       "      <td>5</td>\n",
       "      <td>16851</td>\n",
       "      <td>7429</td>\n",
       "      <td>@USER I 'm so confused , when is the media goi...</td>\n",
       "      <td>7</td>\n",
       "      <td>'no verdict'</td>\n",
       "      <td>NaN</td>\n",
       "      <td>NaN</td>\n",
       "    </tr>\n",
       "    <tr>\n",
       "      <th>4</th>\n",
       "      <td>2021-02-04T11:31:07Z</td>\n",
       "      <td>Washington</td>\n",
       "      <td>@Carlos27480217 @DonaldJTrumpJr Yep! He has Ba...</td>\n",
       "      <td>Twitter for Android</td>\n",
       "      <td>88</td>\n",
       "      <td>en</td>\n",
       "      <td>0</td>\n",
       "      <td>0</td>\n",
       "      <td>False</td>\n",
       "      <td>43</td>\n",
       "      <td>177</td>\n",
       "      <td>0</td>\n",
       "      <td>2618</td>\n",
       "      <td>1517</td>\n",
       "      <td>@USER @USER Yep ! He has Balls ! ! Now with Ou...</td>\n",
       "      <td>8</td>\n",
       "      <td>'false'</td>\n",
       "      <td>NaN</td>\n",
       "      <td>NaN</td>\n",
       "    </tr>\n",
       "    <tr>\n",
       "      <th>...</th>\n",
       "      <td>...</td>\n",
       "      <td>...</td>\n",
       "      <td>...</td>\n",
       "      <td>...</td>\n",
       "      <td>...</td>\n",
       "      <td>...</td>\n",
       "      <td>...</td>\n",
       "      <td>...</td>\n",
       "      <td>...</td>\n",
       "      <td>...</td>\n",
       "      <td>...</td>\n",
       "      <td>...</td>\n",
       "      <td>...</td>\n",
       "      <td>...</td>\n",
       "      <td>...</td>\n",
       "      <td>...</td>\n",
       "      <td>...</td>\n",
       "      <td>...</td>\n",
       "      <td>...</td>\n",
       "    </tr>\n",
       "    <tr>\n",
       "      <th>1995</th>\n",
       "      <td>2021-01-15T18:46:33Z</td>\n",
       "      <td>Georgia</td>\n",
       "      <td>U.S. says Capitol rioters meant to 'capture an...</td>\n",
       "      <td>Twitter for iPhone</td>\n",
       "      <td>126</td>\n",
       "      <td>en</td>\n",
       "      <td>2</td>\n",
       "      <td>0</td>\n",
       "      <td>False</td>\n",
       "      <td>1546</td>\n",
       "      <td>1600</td>\n",
       "      <td>2</td>\n",
       "      <td>5156</td>\n",
       "      <td>3058</td>\n",
       "      <td>U . S . says Capitol rioters meant to ' captur...</td>\n",
       "      <td>8</td>\n",
       "      <td>'true'</td>\n",
       "      <td>NaN</td>\n",
       "      <td>NaN</td>\n",
       "    </tr>\n",
       "    <tr>\n",
       "      <th>1996</th>\n",
       "      <td>2020-12-21T13:11:53Z</td>\n",
       "      <td>Iowa</td>\n",
       "      <td>@KeithOlbermann Look in Keith’s eyes.  Trump o...</td>\n",
       "      <td>Twitter for iPhone</td>\n",
       "      <td>104</td>\n",
       "      <td>en</td>\n",
       "      <td>0</td>\n",
       "      <td>0</td>\n",
       "      <td>False</td>\n",
       "      <td>28</td>\n",
       "      <td>50</td>\n",
       "      <td>0</td>\n",
       "      <td>758</td>\n",
       "      <td>6974</td>\n",
       "      <td>@USER Look in Keith 's eyes . Trump owns him ....</td>\n",
       "      <td>8</td>\n",
       "      <td>'no verdict'</td>\n",
       "      <td>NaN</td>\n",
       "      <td>NaN</td>\n",
       "    </tr>\n",
       "    <tr>\n",
       "      <th>1997</th>\n",
       "      <td>2021-02-06T06:35:34Z</td>\n",
       "      <td>North Carolina</td>\n",
       "      <td>@AmyAThatcher I guess the right wingers are pi...</td>\n",
       "      <td>Twitter for Android</td>\n",
       "      <td>125</td>\n",
       "      <td>en</td>\n",
       "      <td>1</td>\n",
       "      <td>0</td>\n",
       "      <td>False</td>\n",
       "      <td>598</td>\n",
       "      <td>512</td>\n",
       "      <td>9</td>\n",
       "      <td>26537</td>\n",
       "      <td>156580</td>\n",
       "      <td>@USER I guess the right wingers are pissed bec...</td>\n",
       "      <td>3</td>\n",
       "      <td>'no verdict'</td>\n",
       "      <td>NaN</td>\n",
       "      <td>NaN</td>\n",
       "    </tr>\n",
       "    <tr>\n",
       "      <th>1998</th>\n",
       "      <td>2020-08-14T07:37:59Z</td>\n",
       "      <td>Iowa</td>\n",
       "      <td>Insane....\\r\\n\\r\\nBiden calls for mandate requ...</td>\n",
       "      <td>Twitter for iPad</td>\n",
       "      <td>98</td>\n",
       "      <td>en</td>\n",
       "      <td>1</td>\n",
       "      <td>0</td>\n",
       "      <td>False</td>\n",
       "      <td>31</td>\n",
       "      <td>96</td>\n",
       "      <td>0</td>\n",
       "      <td>1041</td>\n",
       "      <td>2414</td>\n",
       "      <td>Insane ... Biden calls for mandate requiring a...</td>\n",
       "      <td>2</td>\n",
       "      <td>'true'</td>\n",
       "      <td>NaN</td>\n",
       "      <td>NaN</td>\n",
       "    </tr>\n",
       "    <tr>\n",
       "      <th>1999</th>\n",
       "      <td>2020-09-13T10:35:06Z</td>\n",
       "      <td>Florida</td>\n",
       "      <td>The following things must happen Nov 3.\\r\\n1- ...</td>\n",
       "      <td>Twitter for iPhone</td>\n",
       "      <td>201</td>\n",
       "      <td>en</td>\n",
       "      <td>0</td>\n",
       "      <td>0</td>\n",
       "      <td>True</td>\n",
       "      <td>1492</td>\n",
       "      <td>2270</td>\n",
       "      <td>3</td>\n",
       "      <td>58417</td>\n",
       "      <td>14909</td>\n",
       "      <td>The following things must happen Nov 3 . 1 - T...</td>\n",
       "      <td>9</td>\n",
       "      <td>False</td>\n",
       "      <td>NaN</td>\n",
       "      <td>NaN</td>\n",
       "    </tr>\n",
       "  </tbody>\n",
       "</table>\n",
       "<p>1919 rows × 19 columns</p>\n",
       "</div>"
      ],
      "text/plain": [
       "          created_at_fuzzy state_likely_tweeted_from  \\\n",
       "0     2020-08-13T16:55:49Z                California   \n",
       "1     2020-08-30T00:03:31Z                 Tennessee   \n",
       "2     2020-10-26T23:16:05Z                  New York   \n",
       "3     2020-08-24T09:54:59Z                   Florida   \n",
       "4     2021-02-04T11:31:07Z                Washington   \n",
       "...                    ...                       ...   \n",
       "1995  2021-01-15T18:46:33Z                   Georgia   \n",
       "1996  2020-12-21T13:11:53Z                      Iowa   \n",
       "1997  2021-02-06T06:35:34Z            North Carolina   \n",
       "1998  2020-08-14T07:37:59Z                      Iowa   \n",
       "1999  2020-09-13T10:35:06Z                   Florida   \n",
       "\n",
       "                                                   text               source  \\\n",
       "0     LIVE: Trump holds press conference https://t.c...      Twitter Web App   \n",
       "1     Trump’s claim the ‘silent majority’ will save ...      Twitter Web App   \n",
       "2     #NewHampshire #VoteBlue #VoteBlueToSaveAmerica...      Twitter Web App   \n",
       "3     @davidsirota I'm so confused, when is the medi...  Twitter for Android   \n",
       "4     @Carlos27480217 @DonaldJTrumpJr Yep! He has Ba...  Twitter for Android   \n",
       "...                                                 ...                  ...   \n",
       "1995  U.S. says Capitol rioters meant to 'capture an...   Twitter for iPhone   \n",
       "1996  @KeithOlbermann Look in Keith’s eyes.  Trump o...   Twitter for iPhone   \n",
       "1997  @AmyAThatcher I guess the right wingers are pi...  Twitter for Android   \n",
       "1998  Insane....\\r\\n\\r\\nBiden calls for mandate requ...     Twitter for iPad   \n",
       "1999  The following things must happen Nov 3.\\r\\n1- ...   Twitter for iPhone   \n",
       "\n",
       "      display_text_width lang  favorite_count  retweet_count  is_quote  \\\n",
       "0                     71   en               0              0     False   \n",
       "1                    205   en               9              2     False   \n",
       "2                    267   en               7              4     False   \n",
       "3                    262   en               2              0     False   \n",
       "4                     88   en               0              0     False   \n",
       "...                  ...  ...             ...            ...       ...   \n",
       "1995                 126   en               2              0     False   \n",
       "1996                 104   en               0              0     False   \n",
       "1997                 125   en               1              0     False   \n",
       "1998                  98   en               1              0     False   \n",
       "1999                 201   en               0              0      True   \n",
       "\n",
       "      followers_count  friends_count  listed_count  statuses_count  \\\n",
       "0                3281           4938             4           39349   \n",
       "1                2866           3000             2           23786   \n",
       "2               32221          26550            52          304911   \n",
       "3                 457            375             5           16851   \n",
       "4                  43            177             0            2618   \n",
       "...               ...            ...           ...             ...   \n",
       "1995             1546           1600             2            5156   \n",
       "1996               28             50             0             758   \n",
       "1997              598            512             9           26537   \n",
       "1998               31             96             0            1041   \n",
       "1999             1492           2270             3           58417   \n",
       "\n",
       "      favourites_count                                       cleaned_text  \\\n",
       "0                23299  LIVE : Trump holds press conference HTTPURL vi...   \n",
       "1                30906  Trump 's claim the ‘ silent majority ' will sa...   \n",
       "2               146137  #NewHampshire #VoteBlue #VoteBlueToSaveAmerica...   \n",
       "3                 7429  @USER I 'm so confused , when is the media goi...   \n",
       "4                 1517  @USER @USER Yep ! He has Balls ! ! Now with Ou...   \n",
       "...                ...                                                ...   \n",
       "1995              3058  U . S . says Capitol rioters meant to ' captur...   \n",
       "1996              6974  @USER Look in Keith 's eyes . Trump owns him ....   \n",
       "1997            156580  @USER I guess the right wingers are pissed bec...   \n",
       "1998              2414  Insane ... Biden calls for mandate requiring a...   \n",
       "1999             14909  The following things must happen Nov 3 . 1 - T...   \n",
       "\n",
       "      Toxicity Fact assessment Trivia question Offensive Assessment  \n",
       "0            1      no verdict             NaN                  NaN  \n",
       "1            8    'no verdict'             NaN                  NaN  \n",
       "2            2          'true'             NaN                  NaN  \n",
       "3            7    'no verdict'             NaN                  NaN  \n",
       "4            8         'false'             NaN                  NaN  \n",
       "...        ...             ...             ...                  ...  \n",
       "1995         8          'true'             NaN                  NaN  \n",
       "1996         8    'no verdict'             NaN                  NaN  \n",
       "1997         3    'no verdict'             NaN                  NaN  \n",
       "1998         2          'true'             NaN                  NaN  \n",
       "1999         9           False             NaN                  NaN  \n",
       "\n",
       "[1919 rows x 19 columns]"
      ]
     },
     "execution_count": 7,
     "metadata": {},
     "output_type": "execute_result"
    }
   ],
   "source": [
    "df"
   ]
  },
  {
   "cell_type": "code",
   "execution_count": 8,
   "metadata": {},
   "outputs": [
    {
     "data": {
      "text/html": [
       "<div>\n",
       "<style scoped>\n",
       "    .dataframe tbody tr th:only-of-type {\n",
       "        vertical-align: middle;\n",
       "    }\n",
       "\n",
       "    .dataframe tbody tr th {\n",
       "        vertical-align: top;\n",
       "    }\n",
       "\n",
       "    .dataframe thead th {\n",
       "        text-align: right;\n",
       "    }\n",
       "</style>\n",
       "<table border=\"1\" class=\"dataframe\">\n",
       "  <thead>\n",
       "    <tr style=\"text-align: right;\">\n",
       "      <th></th>\n",
       "      <th>created_at_fuzzy</th>\n",
       "      <th>state_likely_tweeted_from</th>\n",
       "      <th>text</th>\n",
       "      <th>source</th>\n",
       "      <th>display_text_width</th>\n",
       "      <th>lang</th>\n",
       "      <th>favorite_count</th>\n",
       "      <th>retweet_count</th>\n",
       "      <th>is_quote</th>\n",
       "      <th>followers_count</th>\n",
       "      <th>friends_count</th>\n",
       "      <th>listed_count</th>\n",
       "      <th>statuses_count</th>\n",
       "      <th>favourites_count</th>\n",
       "      <th>cleaned_text</th>\n",
       "      <th>Toxicity</th>\n",
       "      <th>Fact assessment</th>\n",
       "      <th>Trivia question</th>\n",
       "      <th>Offensive Assessment</th>\n",
       "    </tr>\n",
       "  </thead>\n",
       "  <tbody>\n",
       "    <tr>\n",
       "      <th>0</th>\n",
       "      <td>2020-08-13T16:55:49Z</td>\n",
       "      <td>California</td>\n",
       "      <td>LIVE: Trump holds press conference https://t.c...</td>\n",
       "      <td>Twitter Web App</td>\n",
       "      <td>71</td>\n",
       "      <td>en</td>\n",
       "      <td>0</td>\n",
       "      <td>0</td>\n",
       "      <td>False</td>\n",
       "      <td>3281</td>\n",
       "      <td>4938</td>\n",
       "      <td>4</td>\n",
       "      <td>39349</td>\n",
       "      <td>23299</td>\n",
       "      <td>live : trump hold press conference httpurl via...</td>\n",
       "      <td>1</td>\n",
       "      <td>no verdict</td>\n",
       "      <td>NaN</td>\n",
       "      <td>NaN</td>\n",
       "    </tr>\n",
       "    <tr>\n",
       "      <th>1</th>\n",
       "      <td>2020-08-30T00:03:31Z</td>\n",
       "      <td>Tennessee</td>\n",
       "      <td>Trump’s claim the ‘silent majority’ will save ...</td>\n",
       "      <td>Twitter Web App</td>\n",
       "      <td>205</td>\n",
       "      <td>en</td>\n",
       "      <td>9</td>\n",
       "      <td>2</td>\n",
       "      <td>False</td>\n",
       "      <td>2866</td>\n",
       "      <td>3000</td>\n",
       "      <td>2</td>\n",
       "      <td>23786</td>\n",
       "      <td>30906</td>\n",
       "      <td>trump 's claim the ‘ silent majority ' will sa...</td>\n",
       "      <td>8</td>\n",
       "      <td>'no verdict'</td>\n",
       "      <td>NaN</td>\n",
       "      <td>NaN</td>\n",
       "    </tr>\n",
       "    <tr>\n",
       "      <th>2</th>\n",
       "      <td>2020-10-26T23:16:05Z</td>\n",
       "      <td>New York</td>\n",
       "      <td>#NewHampshire #VoteBlue #VoteBlueToSaveAmerica...</td>\n",
       "      <td>Twitter Web App</td>\n",
       "      <td>267</td>\n",
       "      <td>en</td>\n",
       "      <td>7</td>\n",
       "      <td>4</td>\n",
       "      <td>False</td>\n",
       "      <td>32221</td>\n",
       "      <td>26550</td>\n",
       "      <td>52</td>\n",
       "      <td>304911</td>\n",
       "      <td>146137</td>\n",
       "      <td>#newhampshire #voteblue #votebluetosaveamerica...</td>\n",
       "      <td>2</td>\n",
       "      <td>'true'</td>\n",
       "      <td>NaN</td>\n",
       "      <td>NaN</td>\n",
       "    </tr>\n",
       "    <tr>\n",
       "      <th>3</th>\n",
       "      <td>2020-08-24T09:54:59Z</td>\n",
       "      <td>Florida</td>\n",
       "      <td>@davidsirota I'm so confused, when is the medi...</td>\n",
       "      <td>Twitter for Android</td>\n",
       "      <td>262</td>\n",
       "      <td>en</td>\n",
       "      <td>2</td>\n",
       "      <td>0</td>\n",
       "      <td>False</td>\n",
       "      <td>457</td>\n",
       "      <td>375</td>\n",
       "      <td>5</td>\n",
       "      <td>16851</td>\n",
       "      <td>7429</td>\n",
       "      <td>@user i 'm so confused , when is the medium go...</td>\n",
       "      <td>7</td>\n",
       "      <td>'no verdict'</td>\n",
       "      <td>NaN</td>\n",
       "      <td>NaN</td>\n",
       "    </tr>\n",
       "    <tr>\n",
       "      <th>4</th>\n",
       "      <td>2021-02-04T11:31:07Z</td>\n",
       "      <td>Washington</td>\n",
       "      <td>@Carlos27480217 @DonaldJTrumpJr Yep! He has Ba...</td>\n",
       "      <td>Twitter for Android</td>\n",
       "      <td>88</td>\n",
       "      <td>en</td>\n",
       "      <td>0</td>\n",
       "      <td>0</td>\n",
       "      <td>False</td>\n",
       "      <td>43</td>\n",
       "      <td>177</td>\n",
       "      <td>0</td>\n",
       "      <td>2618</td>\n",
       "      <td>1517</td>\n",
       "      <td>@user @user yep ! he ha balls ! ! now with our...</td>\n",
       "      <td>8</td>\n",
       "      <td>'false'</td>\n",
       "      <td>NaN</td>\n",
       "      <td>NaN</td>\n",
       "    </tr>\n",
       "    <tr>\n",
       "      <th>...</th>\n",
       "      <td>...</td>\n",
       "      <td>...</td>\n",
       "      <td>...</td>\n",
       "      <td>...</td>\n",
       "      <td>...</td>\n",
       "      <td>...</td>\n",
       "      <td>...</td>\n",
       "      <td>...</td>\n",
       "      <td>...</td>\n",
       "      <td>...</td>\n",
       "      <td>...</td>\n",
       "      <td>...</td>\n",
       "      <td>...</td>\n",
       "      <td>...</td>\n",
       "      <td>...</td>\n",
       "      <td>...</td>\n",
       "      <td>...</td>\n",
       "      <td>...</td>\n",
       "      <td>...</td>\n",
       "    </tr>\n",
       "    <tr>\n",
       "      <th>1995</th>\n",
       "      <td>2021-01-15T18:46:33Z</td>\n",
       "      <td>Georgia</td>\n",
       "      <td>U.S. says Capitol rioters meant to 'capture an...</td>\n",
       "      <td>Twitter for iPhone</td>\n",
       "      <td>126</td>\n",
       "      <td>en</td>\n",
       "      <td>2</td>\n",
       "      <td>0</td>\n",
       "      <td>False</td>\n",
       "      <td>1546</td>\n",
       "      <td>1600</td>\n",
       "      <td>2</td>\n",
       "      <td>5156</td>\n",
       "      <td>3058</td>\n",
       "      <td>u . s . say capitol rioter meant to ' capture ...</td>\n",
       "      <td>8</td>\n",
       "      <td>'true'</td>\n",
       "      <td>NaN</td>\n",
       "      <td>NaN</td>\n",
       "    </tr>\n",
       "    <tr>\n",
       "      <th>1996</th>\n",
       "      <td>2020-12-21T13:11:53Z</td>\n",
       "      <td>Iowa</td>\n",
       "      <td>@KeithOlbermann Look in Keith’s eyes.  Trump o...</td>\n",
       "      <td>Twitter for iPhone</td>\n",
       "      <td>104</td>\n",
       "      <td>en</td>\n",
       "      <td>0</td>\n",
       "      <td>0</td>\n",
       "      <td>False</td>\n",
       "      <td>28</td>\n",
       "      <td>50</td>\n",
       "      <td>0</td>\n",
       "      <td>758</td>\n",
       "      <td>6974</td>\n",
       "      <td>@user look in keith 's eye . trump owns him . ...</td>\n",
       "      <td>8</td>\n",
       "      <td>'no verdict'</td>\n",
       "      <td>NaN</td>\n",
       "      <td>NaN</td>\n",
       "    </tr>\n",
       "    <tr>\n",
       "      <th>1997</th>\n",
       "      <td>2021-02-06T06:35:34Z</td>\n",
       "      <td>North Carolina</td>\n",
       "      <td>@AmyAThatcher I guess the right wingers are pi...</td>\n",
       "      <td>Twitter for Android</td>\n",
       "      <td>125</td>\n",
       "      <td>en</td>\n",
       "      <td>1</td>\n",
       "      <td>0</td>\n",
       "      <td>False</td>\n",
       "      <td>598</td>\n",
       "      <td>512</td>\n",
       "      <td>9</td>\n",
       "      <td>26537</td>\n",
       "      <td>156580</td>\n",
       "      <td>@user i guess the right winger are pissed beca...</td>\n",
       "      <td>3</td>\n",
       "      <td>'no verdict'</td>\n",
       "      <td>NaN</td>\n",
       "      <td>NaN</td>\n",
       "    </tr>\n",
       "    <tr>\n",
       "      <th>1998</th>\n",
       "      <td>2020-08-14T07:37:59Z</td>\n",
       "      <td>Iowa</td>\n",
       "      <td>Insane....\\r\\n\\r\\nBiden calls for mandate requ...</td>\n",
       "      <td>Twitter for iPad</td>\n",
       "      <td>98</td>\n",
       "      <td>en</td>\n",
       "      <td>1</td>\n",
       "      <td>0</td>\n",
       "      <td>False</td>\n",
       "      <td>31</td>\n",
       "      <td>96</td>\n",
       "      <td>0</td>\n",
       "      <td>1041</td>\n",
       "      <td>2414</td>\n",
       "      <td>insane ... biden call for mandate requiring al...</td>\n",
       "      <td>2</td>\n",
       "      <td>'true'</td>\n",
       "      <td>NaN</td>\n",
       "      <td>NaN</td>\n",
       "    </tr>\n",
       "    <tr>\n",
       "      <th>1999</th>\n",
       "      <td>2020-09-13T10:35:06Z</td>\n",
       "      <td>Florida</td>\n",
       "      <td>The following things must happen Nov 3.\\r\\n1- ...</td>\n",
       "      <td>Twitter for iPhone</td>\n",
       "      <td>201</td>\n",
       "      <td>en</td>\n",
       "      <td>0</td>\n",
       "      <td>0</td>\n",
       "      <td>True</td>\n",
       "      <td>1492</td>\n",
       "      <td>2270</td>\n",
       "      <td>3</td>\n",
       "      <td>58417</td>\n",
       "      <td>14909</td>\n",
       "      <td>the following thing must happen nov 3 . 1 - tr...</td>\n",
       "      <td>9</td>\n",
       "      <td>False</td>\n",
       "      <td>NaN</td>\n",
       "      <td>NaN</td>\n",
       "    </tr>\n",
       "  </tbody>\n",
       "</table>\n",
       "<p>1919 rows × 19 columns</p>\n",
       "</div>"
      ],
      "text/plain": [
       "          created_at_fuzzy state_likely_tweeted_from  \\\n",
       "0     2020-08-13T16:55:49Z                California   \n",
       "1     2020-08-30T00:03:31Z                 Tennessee   \n",
       "2     2020-10-26T23:16:05Z                  New York   \n",
       "3     2020-08-24T09:54:59Z                   Florida   \n",
       "4     2021-02-04T11:31:07Z                Washington   \n",
       "...                    ...                       ...   \n",
       "1995  2021-01-15T18:46:33Z                   Georgia   \n",
       "1996  2020-12-21T13:11:53Z                      Iowa   \n",
       "1997  2021-02-06T06:35:34Z            North Carolina   \n",
       "1998  2020-08-14T07:37:59Z                      Iowa   \n",
       "1999  2020-09-13T10:35:06Z                   Florida   \n",
       "\n",
       "                                                   text               source  \\\n",
       "0     LIVE: Trump holds press conference https://t.c...      Twitter Web App   \n",
       "1     Trump’s claim the ‘silent majority’ will save ...      Twitter Web App   \n",
       "2     #NewHampshire #VoteBlue #VoteBlueToSaveAmerica...      Twitter Web App   \n",
       "3     @davidsirota I'm so confused, when is the medi...  Twitter for Android   \n",
       "4     @Carlos27480217 @DonaldJTrumpJr Yep! He has Ba...  Twitter for Android   \n",
       "...                                                 ...                  ...   \n",
       "1995  U.S. says Capitol rioters meant to 'capture an...   Twitter for iPhone   \n",
       "1996  @KeithOlbermann Look in Keith’s eyes.  Trump o...   Twitter for iPhone   \n",
       "1997  @AmyAThatcher I guess the right wingers are pi...  Twitter for Android   \n",
       "1998  Insane....\\r\\n\\r\\nBiden calls for mandate requ...     Twitter for iPad   \n",
       "1999  The following things must happen Nov 3.\\r\\n1- ...   Twitter for iPhone   \n",
       "\n",
       "      display_text_width lang  favorite_count  retweet_count  is_quote  \\\n",
       "0                     71   en               0              0     False   \n",
       "1                    205   en               9              2     False   \n",
       "2                    267   en               7              4     False   \n",
       "3                    262   en               2              0     False   \n",
       "4                     88   en               0              0     False   \n",
       "...                  ...  ...             ...            ...       ...   \n",
       "1995                 126   en               2              0     False   \n",
       "1996                 104   en               0              0     False   \n",
       "1997                 125   en               1              0     False   \n",
       "1998                  98   en               1              0     False   \n",
       "1999                 201   en               0              0      True   \n",
       "\n",
       "      followers_count  friends_count  listed_count  statuses_count  \\\n",
       "0                3281           4938             4           39349   \n",
       "1                2866           3000             2           23786   \n",
       "2               32221          26550            52          304911   \n",
       "3                 457            375             5           16851   \n",
       "4                  43            177             0            2618   \n",
       "...               ...            ...           ...             ...   \n",
       "1995             1546           1600             2            5156   \n",
       "1996               28             50             0             758   \n",
       "1997              598            512             9           26537   \n",
       "1998               31             96             0            1041   \n",
       "1999             1492           2270             3           58417   \n",
       "\n",
       "      favourites_count                                       cleaned_text  \\\n",
       "0                23299  live : trump hold press conference httpurl via...   \n",
       "1                30906  trump 's claim the ‘ silent majority ' will sa...   \n",
       "2               146137  #newhampshire #voteblue #votebluetosaveamerica...   \n",
       "3                 7429  @user i 'm so confused , when is the medium go...   \n",
       "4                 1517  @user @user yep ! he ha balls ! ! now with our...   \n",
       "...                ...                                                ...   \n",
       "1995              3058  u . s . say capitol rioter meant to ' capture ...   \n",
       "1996              6974  @user look in keith 's eye . trump owns him . ...   \n",
       "1997            156580  @user i guess the right winger are pissed beca...   \n",
       "1998              2414  insane ... biden call for mandate requiring al...   \n",
       "1999             14909  the following thing must happen nov 3 . 1 - tr...   \n",
       "\n",
       "      Toxicity Fact assessment Trivia question Offensive Assessment  \n",
       "0            1      no verdict             NaN                  NaN  \n",
       "1            8    'no verdict'             NaN                  NaN  \n",
       "2            2          'true'             NaN                  NaN  \n",
       "3            7    'no verdict'             NaN                  NaN  \n",
       "4            8         'false'             NaN                  NaN  \n",
       "...        ...             ...             ...                  ...  \n",
       "1995         8          'true'             NaN                  NaN  \n",
       "1996         8    'no verdict'             NaN                  NaN  \n",
       "1997         3    'no verdict'             NaN                  NaN  \n",
       "1998         2          'true'             NaN                  NaN  \n",
       "1999         9           False             NaN                  NaN  \n",
       "\n",
       "[1919 rows x 19 columns]"
      ]
     },
     "execution_count": 8,
     "metadata": {},
     "output_type": "execute_result"
    }
   ],
   "source": [
    "def clean_text_BERT(doc):\n",
    "    lemma = WordNetLemmatizer()\n",
    "    no_emoji = emoji.demojize(doc, delimiters=(\"\", \"\")) # Substitutes emoji by descriptive word\n",
    "    normalized = \" \".join(lemma.lemmatize(word).lower() for word in no_emoji.split())\n",
    "    return normalized\n",
    "\n",
    "df[\"cleaned_text\"] = df[\"cleaned_text\"].apply(clean_text_BERT)\n",
    "df"
   ]
  },
  {
   "cell_type": "code",
   "execution_count": 9,
   "metadata": {},
   "outputs": [],
   "source": [
    "# import re\n",
    "# from nltk.stem import WordNetLemmatizer\n",
    "\n",
    "# def clean_text_BERT(doc):\n",
    "#     # Define a regular expression pattern for emojis\n",
    "#     emoji_pattern = re.compile(\"[\"\n",
    "#         u\"\\U0001F600-\\U0001F64F\"  # emoticons\n",
    "#         u\"\\U0001F300-\\U0001F5FF\"  # symbols & pictographs\n",
    "#         u\"\\U0001F680-\\U0001F6FF\"  # transport & map symbols\n",
    "#         u\"\\U0001F700-\\U0001F77F\"  # alchemical symbols\n",
    "#         u\"\\U0001F780-\\U0001F7FF\"  # Geometric Shapes Extended\n",
    "#         u\"\\U0001F800-\\U0001F8FF\"  # Supplemental Arrows-C\n",
    "#         u\"\\U0001F900-\\U0001F9FF\"  # Supplemental Symbols and Pictographs\n",
    "#         u\"\\U0001FA00-\\U0001FA6F\"  # Chess Symbols\n",
    "#         u\"\\U0001FA70-\\U0001FAFF\"  # Symbols and Pictographs Extended-A\n",
    "#         u\"\\U00002702-\\U000027B0\"  # Dingbats\n",
    "#         u\"\\U000024C2-\\U0001F251\" \n",
    "#         \"]+\", flags=re.UNICODE)\n",
    "\n",
    "#     # Remove emojis from the document\n",
    "#     no_emoji = emoji_pattern.sub(r'', doc)\n",
    "\n",
    "#     lemma = WordNetLemmatizer()\n",
    "#     normalized = \" \".join(lemma.lemmatize(word).lower() for word in no_emoji.split())\n",
    "#     return normalized\n",
    "\n",
    "# # Apply the updated function to the DataFrame\n",
    "# df[\"cleaned_text\"] = df[\"cleaned_text\"].apply(clean_text_BERT)\n"
   ]
  },
  {
   "cell_type": "code",
   "execution_count": 10,
   "metadata": {},
   "outputs": [
    {
     "name": "stdout",
     "output_type": "stream",
     "text": [
      "       created_at_fuzzy state_likely_tweeted_from  \\\n",
      "0  2020-08-13T16:55:49Z                California   \n",
      "1  2020-08-30T00:03:31Z                 Tennessee   \n",
      "2  2020-10-26T23:16:05Z                  New York   \n",
      "3  2020-08-24T09:54:59Z                   Florida   \n",
      "4  2021-02-04T11:31:07Z                Washington   \n",
      "\n",
      "                                                text               source  \\\n",
      "0  LIVE: Trump holds press conference https://t.c...      Twitter Web App   \n",
      "1  Trump’s claim the ‘silent majority’ will save ...      Twitter Web App   \n",
      "2  #NewHampshire #VoteBlue #VoteBlueToSaveAmerica...      Twitter Web App   \n",
      "3  @davidsirota I'm so confused, when is the medi...  Twitter for Android   \n",
      "4  @Carlos27480217 @DonaldJTrumpJr Yep! He has Ba...  Twitter for Android   \n",
      "\n",
      "   display_text_width lang  favorite_count  retweet_count  is_quote  \\\n",
      "0                  71   en               0              0     False   \n",
      "1                 205   en               9              2     False   \n",
      "2                 267   en               7              4     False   \n",
      "3                 262   en               2              0     False   \n",
      "4                  88   en               0              0     False   \n",
      "\n",
      "   followers_count  friends_count  listed_count  statuses_count  \\\n",
      "0             3281           4938             4           39349   \n",
      "1             2866           3000             2           23786   \n",
      "2            32221          26550            52          304911   \n",
      "3              457            375             5           16851   \n",
      "4               43            177             0            2618   \n",
      "\n",
      "   favourites_count                                       cleaned_text  \\\n",
      "0             23299           live : trump hold press conference  via    \n",
      "1             30906  trump 's claim the ‘ silent majority ' will sa...   \n",
      "2            146137  #newhampshire #voteblue #votebluetosaveamerica...   \n",
      "3              7429   i 'm so confused , when is the medium going t...   \n",
      "4              1517    yep ! he ha balls ! ! now with our whimp in ...   \n",
      "\n",
      "   Toxicity Fact assessment Trivia question Offensive Assessment  \n",
      "0         1      no verdict             NaN                  NaN  \n",
      "1         8    'no verdict'             NaN                  NaN  \n",
      "2         2          'true'             NaN                  NaN  \n",
      "3         7    'no verdict'             NaN                  NaN  \n",
      "4         8         'false'             NaN                  NaN  \n"
     ]
    }
   ],
   "source": [
    "def remove_specific_words(df):\n",
    "    # Define the words to remove\n",
    "    words_to_remove = ['@user', 'httpurl']\n",
    "    \n",
    "    # Create a regex pattern to match these words\n",
    "    pattern = '|'.join(words_to_remove)\n",
    "    \n",
    "    try:\n",
    "        # Replace the words with an empty string\n",
    "        df['cleaned_text'] = df['cleaned_text'].str.replace(pattern, '', regex=True)\n",
    "        return df\n",
    "    except Exception as e:\n",
    "        print(\"An error occurred while removing specific words:\", e)\n",
    "        return None\n",
    "\n",
    "# Call the function to remove the words\n",
    "df = remove_specific_words(df)\n",
    "\n",
    "# Display the DataFrame to verify changes\n",
    "print(df.head())"
   ]
  },
  {
   "cell_type": "code",
   "execution_count": 11,
   "metadata": {},
   "outputs": [],
   "source": [
    "# # Function to dynamically add words with underscores to stop words\n",
    "# def update_stop_words(texts, base_stop_words):\n",
    "#     new_stop_words = set(base_stop_words)\n",
    "#     for text in texts:\n",
    "#         words = text.split()\n",
    "#         new_stop_words.update(word for word in words if '_' in word)\n",
    "#     return new_stop_words"
   ]
  },
  {
   "cell_type": "code",
   "execution_count": 12,
   "metadata": {},
   "outputs": [],
   "source": [
    "def update_stop_words(texts, base_stop_words):\n",
    "    new_stop_words = set(base_stop_words)\n",
    "    for text in texts:\n",
    "        # Splitting text into words\n",
    "        words = text.split()\n",
    "        # Adding words with underscores to the stop words, ensuring no colons are included\n",
    "        new_stop_words.update(word.replace(':', '') for word in words if '_' in word)\n",
    "    return new_stop_words\n"
   ]
  },
  {
   "cell_type": "code",
   "execution_count": 13,
   "metadata": {},
   "outputs": [
    {
     "name": "stdout",
     "output_type": "stream",
     "text": [
      "all-MiniLM-L12-v2\n"
     ]
    },
    {
     "data": {
      "application/vnd.jupyter.widget-view+json": {
       "model_id": "e410f5f2e16f4809adc73ac8ee7d9bc5",
       "version_major": 2,
       "version_minor": 0
      },
      "text/plain": [
       "Batches:   0%|          | 0/60 [00:00<?, ?it/s]"
      ]
     },
     "metadata": {},
     "output_type": "display_data"
    },
    {
     "name": "stderr",
     "output_type": "stream",
     "text": [
      "2024-05-28 11:46:10,918 - BERTopic - Transformed documents to Embeddings\n",
      "2024-05-28 11:46:33,386 - BERTopic - Reduced dimensionality\n",
      "2024-05-28 11:46:33,562 - BERTopic - Clustered reduced embeddings\n"
     ]
    },
    {
     "data": {
      "text/html": [
       "<div>\n",
       "<style scoped>\n",
       "    .dataframe tbody tr th:only-of-type {\n",
       "        vertical-align: middle;\n",
       "    }\n",
       "\n",
       "    .dataframe tbody tr th {\n",
       "        vertical-align: top;\n",
       "    }\n",
       "\n",
       "    .dataframe thead th {\n",
       "        text-align: right;\n",
       "    }\n",
       "</style>\n",
       "<table border=\"1\" class=\"dataframe\">\n",
       "  <thead>\n",
       "    <tr style=\"text-align: right;\">\n",
       "      <th></th>\n",
       "      <th>Topic</th>\n",
       "      <th>Count</th>\n",
       "      <th>Name</th>\n",
       "      <th>Representation</th>\n",
       "      <th>Representative_Docs</th>\n",
       "    </tr>\n",
       "  </thead>\n",
       "  <tbody>\n",
       "    <tr>\n",
       "      <th>0</th>\n",
       "      <td>-1</td>\n",
       "      <td>711</td>\n",
       "      <td>-1_trump_biden_wa_president</td>\n",
       "      <td>[trump, biden, wa, president, joe, ha, just, l...</td>\n",
       "      <td>[less than a week to go . biden is no prize , ...</td>\n",
       "    </tr>\n",
       "    <tr>\n",
       "      <th>1</th>\n",
       "      <td>0</td>\n",
       "      <td>89</td>\n",
       "      <td>0_capitol_trump_terrorist_riot</td>\n",
       "      <td>[capitol, trump, terrorist, riot, people, viol...</td>\n",
       "      <td>[ we 're interpreters &amp; workers for u . s forc...</td>\n",
       "    </tr>\n",
       "    <tr>\n",
       "      <th>2</th>\n",
       "      <td>1</td>\n",
       "      <td>79</td>\n",
       "      <td>1_trump_wa_feel_love</td>\n",
       "      <td>[trump, wa, feel, love, day, eyes, biden, hair...</td>\n",
       "      <td>[                                             ...</td>\n",
       "    </tr>\n",
       "    <tr>\n",
       "      <th>3</th>\n",
       "      <td>2</td>\n",
       "      <td>69</td>\n",
       "      <td>2_vote_ballot_state_election</td>\n",
       "      <td>[vote, ballot, state, election, trump, mail, v...</td>\n",
       "      <td>[           if people who claim fraud get thei...</td>\n",
       "    </tr>\n",
       "    <tr>\n",
       "      <th>4</th>\n",
       "      <td>3</td>\n",
       "      <td>65</td>\n",
       "      <td>3_biden_vote biden_manifest_vote</td>\n",
       "      <td>[biden, vote biden, manifest, vote, 45 elector...</td>\n",
       "      <td>[  seriously ? almost every poll sited on the ...</td>\n",
       "    </tr>\n",
       "    <tr>\n",
       "      <th>5</th>\n",
       "      <td>4</td>\n",
       "      <td>61</td>\n",
       "      <td>4_biden_plan_policy_tax</td>\n",
       "      <td>[biden, plan, policy, tax, student, debt, admi...</td>\n",
       "      <td>[  criticism him relentlessly on populist poli...</td>\n",
       "    </tr>\n",
       "    <tr>\n",
       "      <th>6</th>\n",
       "      <td>5</td>\n",
       "      <td>57</td>\n",
       "      <td>5_supporter_trump supporter_support_trump</td>\n",
       "      <td>[supporter, trump supporter, support, trump, s...</td>\n",
       "      <td>[  this is fair but generous . he 's also gett...</td>\n",
       "    </tr>\n",
       "    <tr>\n",
       "      <th>7</th>\n",
       "      <td>6</td>\n",
       "      <td>54</td>\n",
       "      <td>6_money_trump_economy_tax</td>\n",
       "      <td>[money, trump, economy, tax, year, like, econo...</td>\n",
       "      <td>[ i support no tax on truly family farms but g...</td>\n",
       "    </tr>\n",
       "    <tr>\n",
       "      <th>8</th>\n",
       "      <td>7</td>\n",
       "      <td>47</td>\n",
       "      <td>7_trump_world_trump trump_real</td>\n",
       "      <td>[trump, world, trump trump, real, country, pan...</td>\n",
       "      <td>[   trump ha been a laughing stock to the enti...</td>\n",
       "    </tr>\n",
       "    <tr>\n",
       "      <th>9</th>\n",
       "      <td>8</td>\n",
       "      <td>44</td>\n",
       "      <td>8_trump_think_term_crazy</td>\n",
       "      <td>[trump, think, term, crazy, office, like trump...</td>\n",
       "      <td>[ people that think trump wa anything other th...</td>\n",
       "    </tr>\n",
       "    <tr>\n",
       "      <th>10</th>\n",
       "      <td>9</td>\n",
       "      <td>43</td>\n",
       "      <td>9_twitter_tweet_trump_medium</td>\n",
       "      <td>[twitter, tweet, trump, medium, tr, retweet, f...</td>\n",
       "      <td>[ ps    #deactivatetrump #suspendtrump trump u...</td>\n",
       "    </tr>\n",
       "    <tr>\n",
       "      <th>11</th>\n",
       "      <td>10</td>\n",
       "      <td>41</td>\n",
       "      <td>10_harris_kamala_black_kamala harris</td>\n",
       "      <td>[harris, kamala, black, kamala harris, biden h...</td>\n",
       "      <td>[the inauguration of joe biden did n't feature...</td>\n",
       "    </tr>\n",
       "    <tr>\n",
       "      <th>12</th>\n",
       "      <td>11</td>\n",
       "      <td>35</td>\n",
       "      <td>11_biden_joe biden_joe_thewayiseeit</td>\n",
       "      <td>[biden, joe biden, joe, thewayiseeit, thewayis...</td>\n",
       "      <td>[#newhampshire #voteblue #votebluetosaveameric...</td>\n",
       "    </tr>\n",
       "    <tr>\n",
       "      <th>13</th>\n",
       "      <td>12</td>\n",
       "      <td>33</td>\n",
       "      <td>12_vaccine_vaccinated_biden_coronavirus vaccine</td>\n",
       "      <td>[vaccine, vaccinated, biden, coronavirus vacci...</td>\n",
       "      <td>[investors are encouraged by the latest progre...</td>\n",
       "    </tr>\n",
       "    <tr>\n",
       "      <th>14</th>\n",
       "      <td>13</td>\n",
       "      <td>33</td>\n",
       "      <td>13_court_supreme court_supreme_lawyer</td>\n",
       "      <td>[court, supreme court, supreme, lawyer, trump ...</td>\n",
       "      <td>[   did n't realize you were on trump legal te...</td>\n",
       "    </tr>\n",
       "    <tr>\n",
       "      <th>15</th>\n",
       "      <td>14</td>\n",
       "      <td>32</td>\n",
       "      <td>14_party_gop_republicans_deep</td>\n",
       "      <td>[party, gop, republicans, deep, trump, democra...</td>\n",
       "      <td>[the gop war ha begun . trumpists v traditiona...</td>\n",
       "    </tr>\n",
       "    <tr>\n",
       "      <th>16</th>\n",
       "      <td>15</td>\n",
       "      <td>31</td>\n",
       "      <td>15_border_immigration_biden_ha</td>\n",
       "      <td>[border, immigration, biden, ha, biden adminis...</td>\n",
       "      <td>[ wow what bs this guy spews ! this ha been go...</td>\n",
       "    </tr>\n",
       "    <tr>\n",
       "      <th>17</th>\n",
       "      <td>16</td>\n",
       "      <td>30</td>\n",
       "      <td>16_white_racist_black_white supremacist</td>\n",
       "      <td>[white, racist, black, white supremacist, supr...</td>\n",
       "      <td>[   the “ fear , anger and paranoia in the pub...</td>\n",
       "    </tr>\n",
       "    <tr>\n",
       "      <th>18</th>\n",
       "      <td>17</td>\n",
       "      <td>24</td>\n",
       "      <td>17_woodward_cnn_jack_film</td>\n",
       "      <td>[woodward, cnn, jack, film, video, trump, time...</td>\n",
       "      <td>[ why doe n't anyone show the video of  announ...</td>\n",
       "    </tr>\n",
       "    <tr>\n",
       "      <th>19</th>\n",
       "      <td>18</td>\n",
       "      <td>23</td>\n",
       "      <td>18_concede_communist_loses_conceded</td>\n",
       "      <td>[concede, communist, loses, conceded, losing, ...</td>\n",
       "      <td>[the communist fucs are to stupid to realize  ...</td>\n",
       "    </tr>\n",
       "    <tr>\n",
       "      <th>20</th>\n",
       "      <td>19</td>\n",
       "      <td>21</td>\n",
       "      <td>19_accept_biden_votes_won</td>\n",
       "      <td>[accept, biden, votes, won, lost, biden won, b...</td>\n",
       "      <td>[ president trump please look in to this . how...</td>\n",
       "    </tr>\n",
       "    <tr>\n",
       "      <th>21</th>\n",
       "      <td>20</td>\n",
       "      <td>21</td>\n",
       "      <td>20_putin_russia_moscow mitch_moscow</td>\n",
       "      <td>[putin, russia, moscow mitch, moscow, mitch, r...</td>\n",
       "      <td>[  sorry , the notion that \" trump is putin 's...</td>\n",
       "    </tr>\n",
       "    <tr>\n",
       "      <th>22</th>\n",
       "      <td>21</td>\n",
       "      <td>19</td>\n",
       "      <td>21_christian_devil_god_satan</td>\n",
       "      <td>[christian, devil, god, satan, celebrant, vers...</td>\n",
       "      <td>[  got this bible verse from billy graham spea...</td>\n",
       "    </tr>\n",
       "    <tr>\n",
       "      <th>23</th>\n",
       "      <td>22</td>\n",
       "      <td>18</td>\n",
       "      <td>22_lie_lied_trump lie_lying</td>\n",
       "      <td>[lie, lied, trump lie, lying, deceive, doe lie...</td>\n",
       "      <td>[      he admited he wa wrong amd ha changed s...</td>\n",
       "    </tr>\n",
       "    <tr>\n",
       "      <th>24</th>\n",
       "      <td>23</td>\n",
       "      <td>18</td>\n",
       "      <td>23_china_hunter biden_hunter_biden</td>\n",
       "      <td>[china, hunter biden, hunter, biden, email, ru...</td>\n",
       "      <td>[ our chinese whistleblower friend say that bi...</td>\n",
       "    </tr>\n",
       "    <tr>\n",
       "      <th>25</th>\n",
       "      <td>24</td>\n",
       "      <td>17</td>\n",
       "      <td>24_gun_atf_biden_end</td>\n",
       "      <td>[gun, atf, biden, end, severe, north korea, wa...</td>\n",
       "      <td>[kill shot murdered mgk into another style of ...</td>\n",
       "    </tr>\n",
       "    <tr>\n",
       "      <th>26</th>\n",
       "      <td>25</td>\n",
       "      <td>17</td>\n",
       "      <td>25_fact_biden_lie_dog</td>\n",
       "      <td>[fact, biden, lie, dog, ample, dude, cheating,...</td>\n",
       "      <td>[   fact check false sweetheart . oh but hey ,...</td>\n",
       "    </tr>\n",
       "    <tr>\n",
       "      <th>27</th>\n",
       "      <td>26</td>\n",
       "      <td>16</td>\n",
       "      <td>26_trump wa_mean trump_year trump_trump</td>\n",
       "      <td>[trump wa, mean trump, year trump, trump, did,...</td>\n",
       "      <td>[john bolton , hardly a bff of  , say trump ne...</td>\n",
       "    </tr>\n",
       "    <tr>\n",
       "      <th>28</th>\n",
       "      <td>27</td>\n",
       "      <td>15</td>\n",
       "      <td>27_impeached_impeachment_trump impeachment_senate</td>\n",
       "      <td>[impeached, impeachment, trump impeachment, se...</td>\n",
       "      <td>[  ya 'll really believed theyd convict him ov...</td>\n",
       "    </tr>\n",
       "    <tr>\n",
       "      <th>29</th>\n",
       "      <td>28</td>\n",
       "      <td>15</td>\n",
       "      <td>28_awful_ve_trump president_worse</td>\n",
       "      <td>[awful, ve, trump president, worse, trump, yes...</td>\n",
       "      <td>[ another deranged trump sycophant who will be...</td>\n",
       "    </tr>\n",
       "    <tr>\n",
       "      <th>30</th>\n",
       "      <td>29</td>\n",
       "      <td>15</td>\n",
       "      <td>29_biden_money mouth_face_mouth_face_money</td>\n",
       "      <td>[biden, money mouth_face, mouth_face, money, h...</td>\n",
       "      <td>[   i 'm not gullible at all , i just can read...</td>\n",
       "    </tr>\n",
       "    <tr>\n",
       "      <th>31</th>\n",
       "      <td>30</td>\n",
       "      <td>14</td>\n",
       "      <td>30_debate_final_biden_trump biden</td>\n",
       "      <td>[debate, final, biden, trump biden, biden deba...</td>\n",
       "      <td>[joe biden 's ' communication skill ' on show ...</td>\n",
       "    </tr>\n",
       "    <tr>\n",
       "      <th>32</th>\n",
       "      <td>31</td>\n",
       "      <td>14</td>\n",
       "      <td>31_care_miss trump_mrs_kevin sorbo</td>\n",
       "      <td>[care, miss trump, mrs, kevin sorbo, sorbo, ca...</td>\n",
       "      <td>[let 's see if baron grows up to be a accompli...</td>\n",
       "    </tr>\n",
       "    <tr>\n",
       "      <th>33</th>\n",
       "      <td>32</td>\n",
       "      <td>14</td>\n",
       "      <td>32_2020_trump pence_pence 2020_trump 2020</td>\n",
       "      <td>[2020, trump pence, pence 2020, trump 2020, pe...</td>\n",
       "      <td>[ trump pence 2020 kag ! ! , once upon a time ...</td>\n",
       "    </tr>\n",
       "    <tr>\n",
       "      <th>34</th>\n",
       "      <td>33</td>\n",
       "      <td>14</td>\n",
       "      <td>33_virus_infected_country_virus did</td>\n",
       "      <td>[virus, infected, country, virus did, tested, ...</td>\n",
       "      <td>[    maybe because he know that this shit ha b...</td>\n",
       "    </tr>\n",
       "    <tr>\n",
       "      <th>35</th>\n",
       "      <td>34</td>\n",
       "      <td>14</td>\n",
       "      <td>34_pardon_trump pardon_prison_pardon trump</td>\n",
       "      <td>[pardon, trump pardon, prison, pardon trump, p...</td>\n",
       "      <td>[  if trump ever actually get convicted of any...</td>\n",
       "    </tr>\n",
       "    <tr>\n",
       "      <th>36</th>\n",
       "      <td>35</td>\n",
       "      <td>13</td>\n",
       "      <td>35_remove_fix_library_remove trump</td>\n",
       "      <td>[remove, fix, library, remove trump, death, ar...</td>\n",
       "      <td>[ even if asymptomatic the cabinet and vice pr...</td>\n",
       "    </tr>\n",
       "    <tr>\n",
       "      <th>37</th>\n",
       "      <td>36</td>\n",
       "      <td>11</td>\n",
       "      <td>36_covid_ploy_trump covid_responsible</td>\n",
       "      <td>[covid, ploy, trump covid, responsible, covid ...</td>\n",
       "      <td>[  you know first reading your comment , it so...</td>\n",
       "    </tr>\n",
       "    <tr>\n",
       "      <th>38</th>\n",
       "      <td>37</td>\n",
       "      <td>11</td>\n",
       "      <td>37_parler_did trump_trump did_2001</td>\n",
       "      <td>[parler, did trump, trump did, 2001, leaving f...</td>\n",
       "      <td>[trump say become a very pissed off hal comput...</td>\n",
       "    </tr>\n",
       "    <tr>\n",
       "      <th>39</th>\n",
       "      <td>38</td>\n",
       "      <td>11</td>\n",
       "      <td>38_mask_wear_wear mask_wearing mask</td>\n",
       "      <td>[mask, wear, wear mask, wearing mask, wearing,...</td>\n",
       "      <td>[ i wa getting quote for a patio and the contr...</td>\n",
       "    </tr>\n",
       "    <tr>\n",
       "      <th>40</th>\n",
       "      <td>39</td>\n",
       "      <td>10</td>\n",
       "      <td>39_died_americans died_people_death</td>\n",
       "      <td>[died, americans died, people, death, american...</td>\n",
       "      <td>[ if president trump is responsible for the de...</td>\n",
       "    </tr>\n",
       "  </tbody>\n",
       "</table>\n",
       "</div>"
      ],
      "text/plain": [
       "    Topic  Count                                               Name  \\\n",
       "0      -1    711                        -1_trump_biden_wa_president   \n",
       "1       0     89                     0_capitol_trump_terrorist_riot   \n",
       "2       1     79                               1_trump_wa_feel_love   \n",
       "3       2     69                       2_vote_ballot_state_election   \n",
       "4       3     65                   3_biden_vote biden_manifest_vote   \n",
       "5       4     61                            4_biden_plan_policy_tax   \n",
       "6       5     57          5_supporter_trump supporter_support_trump   \n",
       "7       6     54                          6_money_trump_economy_tax   \n",
       "8       7     47                     7_trump_world_trump trump_real   \n",
       "9       8     44                           8_trump_think_term_crazy   \n",
       "10      9     43                       9_twitter_tweet_trump_medium   \n",
       "11     10     41               10_harris_kamala_black_kamala harris   \n",
       "12     11     35                11_biden_joe biden_joe_thewayiseeit   \n",
       "13     12     33    12_vaccine_vaccinated_biden_coronavirus vaccine   \n",
       "14     13     33              13_court_supreme court_supreme_lawyer   \n",
       "15     14     32                      14_party_gop_republicans_deep   \n",
       "16     15     31                     15_border_immigration_biden_ha   \n",
       "17     16     30            16_white_racist_black_white supremacist   \n",
       "18     17     24                          17_woodward_cnn_jack_film   \n",
       "19     18     23                18_concede_communist_loses_conceded   \n",
       "20     19     21                          19_accept_biden_votes_won   \n",
       "21     20     21                20_putin_russia_moscow mitch_moscow   \n",
       "22     21     19                       21_christian_devil_god_satan   \n",
       "23     22     18                        22_lie_lied_trump lie_lying   \n",
       "24     23     18                 23_china_hunter biden_hunter_biden   \n",
       "25     24     17                               24_gun_atf_biden_end   \n",
       "26     25     17                              25_fact_biden_lie_dog   \n",
       "27     26     16            26_trump wa_mean trump_year trump_trump   \n",
       "28     27     15  27_impeached_impeachment_trump impeachment_senate   \n",
       "29     28     15                  28_awful_ve_trump president_worse   \n",
       "30     29     15         29_biden_money mouth_face_mouth_face_money   \n",
       "31     30     14                  30_debate_final_biden_trump biden   \n",
       "32     31     14                 31_care_miss trump_mrs_kevin sorbo   \n",
       "33     32     14          32_2020_trump pence_pence 2020_trump 2020   \n",
       "34     33     14                33_virus_infected_country_virus did   \n",
       "35     34     14         34_pardon_trump pardon_prison_pardon trump   \n",
       "36     35     13                 35_remove_fix_library_remove trump   \n",
       "37     36     11              36_covid_ploy_trump covid_responsible   \n",
       "38     37     11                 37_parler_did trump_trump did_2001   \n",
       "39     38     11                38_mask_wear_wear mask_wearing mask   \n",
       "40     39     10                39_died_americans died_people_death   \n",
       "\n",
       "                                       Representation  \\\n",
       "0   [trump, biden, wa, president, joe, ha, just, l...   \n",
       "1   [capitol, trump, terrorist, riot, people, viol...   \n",
       "2   [trump, wa, feel, love, day, eyes, biden, hair...   \n",
       "3   [vote, ballot, state, election, trump, mail, v...   \n",
       "4   [biden, vote biden, manifest, vote, 45 elector...   \n",
       "5   [biden, plan, policy, tax, student, debt, admi...   \n",
       "6   [supporter, trump supporter, support, trump, s...   \n",
       "7   [money, trump, economy, tax, year, like, econo...   \n",
       "8   [trump, world, trump trump, real, country, pan...   \n",
       "9   [trump, think, term, crazy, office, like trump...   \n",
       "10  [twitter, tweet, trump, medium, tr, retweet, f...   \n",
       "11  [harris, kamala, black, kamala harris, biden h...   \n",
       "12  [biden, joe biden, joe, thewayiseeit, thewayis...   \n",
       "13  [vaccine, vaccinated, biden, coronavirus vacci...   \n",
       "14  [court, supreme court, supreme, lawyer, trump ...   \n",
       "15  [party, gop, republicans, deep, trump, democra...   \n",
       "16  [border, immigration, biden, ha, biden adminis...   \n",
       "17  [white, racist, black, white supremacist, supr...   \n",
       "18  [woodward, cnn, jack, film, video, trump, time...   \n",
       "19  [concede, communist, loses, conceded, losing, ...   \n",
       "20  [accept, biden, votes, won, lost, biden won, b...   \n",
       "21  [putin, russia, moscow mitch, moscow, mitch, r...   \n",
       "22  [christian, devil, god, satan, celebrant, vers...   \n",
       "23  [lie, lied, trump lie, lying, deceive, doe lie...   \n",
       "24  [china, hunter biden, hunter, biden, email, ru...   \n",
       "25  [gun, atf, biden, end, severe, north korea, wa...   \n",
       "26  [fact, biden, lie, dog, ample, dude, cheating,...   \n",
       "27  [trump wa, mean trump, year trump, trump, did,...   \n",
       "28  [impeached, impeachment, trump impeachment, se...   \n",
       "29  [awful, ve, trump president, worse, trump, yes...   \n",
       "30  [biden, money mouth_face, mouth_face, money, h...   \n",
       "31  [debate, final, biden, trump biden, biden deba...   \n",
       "32  [care, miss trump, mrs, kevin sorbo, sorbo, ca...   \n",
       "33  [2020, trump pence, pence 2020, trump 2020, pe...   \n",
       "34  [virus, infected, country, virus did, tested, ...   \n",
       "35  [pardon, trump pardon, prison, pardon trump, p...   \n",
       "36  [remove, fix, library, remove trump, death, ar...   \n",
       "37  [covid, ploy, trump covid, responsible, covid ...   \n",
       "38  [parler, did trump, trump did, 2001, leaving f...   \n",
       "39  [mask, wear, wear mask, wearing mask, wearing,...   \n",
       "40  [died, americans died, people, death, american...   \n",
       "\n",
       "                                  Representative_Docs  \n",
       "0   [less than a week to go . biden is no prize , ...  \n",
       "1   [ we 're interpreters & workers for u . s forc...  \n",
       "2   [                                             ...  \n",
       "3   [           if people who claim fraud get thei...  \n",
       "4   [  seriously ? almost every poll sited on the ...  \n",
       "5   [  criticism him relentlessly on populist poli...  \n",
       "6   [  this is fair but generous . he 's also gett...  \n",
       "7   [ i support no tax on truly family farms but g...  \n",
       "8   [   trump ha been a laughing stock to the enti...  \n",
       "9   [ people that think trump wa anything other th...  \n",
       "10  [ ps    #deactivatetrump #suspendtrump trump u...  \n",
       "11  [the inauguration of joe biden did n't feature...  \n",
       "12  [#newhampshire #voteblue #votebluetosaveameric...  \n",
       "13  [investors are encouraged by the latest progre...  \n",
       "14  [   did n't realize you were on trump legal te...  \n",
       "15  [the gop war ha begun . trumpists v traditiona...  \n",
       "16  [ wow what bs this guy spews ! this ha been go...  \n",
       "17  [   the “ fear , anger and paranoia in the pub...  \n",
       "18  [ why doe n't anyone show the video of  announ...  \n",
       "19  [the communist fucs are to stupid to realize  ...  \n",
       "20  [ president trump please look in to this . how...  \n",
       "21  [  sorry , the notion that \" trump is putin 's...  \n",
       "22  [  got this bible verse from billy graham spea...  \n",
       "23  [      he admited he wa wrong amd ha changed s...  \n",
       "24  [ our chinese whistleblower friend say that bi...  \n",
       "25  [kill shot murdered mgk into another style of ...  \n",
       "26  [   fact check false sweetheart . oh but hey ,...  \n",
       "27  [john bolton , hardly a bff of  , say trump ne...  \n",
       "28  [  ya 'll really believed theyd convict him ov...  \n",
       "29  [ another deranged trump sycophant who will be...  \n",
       "30  [   i 'm not gullible at all , i just can read...  \n",
       "31  [joe biden 's ' communication skill ' on show ...  \n",
       "32  [let 's see if baron grows up to be a accompli...  \n",
       "33  [ trump pence 2020 kag ! ! , once upon a time ...  \n",
       "34  [    maybe because he know that this shit ha b...  \n",
       "35  [  if trump ever actually get convicted of any...  \n",
       "36  [ even if asymptomatic the cabinet and vice pr...  \n",
       "37  [  you know first reading your comment , it so...  \n",
       "38  [trump say become a very pissed off hal comput...  \n",
       "39  [ i wa getting quote for a patio and the contr...  \n",
       "40  [ if president trump is responsible for the de...  "
      ]
     },
     "metadata": {},
     "output_type": "display_data"
    }
   ],
   "source": [
    "from bertopic.vectorizers import ClassTfidfTransformer\n",
    "from hdbscan import HDBSCAN\n",
    "from umap import UMAP\n",
    "from bertopic.representation import KeyBERTInspired\n",
    "\n",
    "print(\"all-MiniLM-L12-v2\")\n",
    "\n",
    "umap_model = UMAP(n_neighbors=15, n_components=5, \n",
    "                  min_dist=0.0, metric='cosine', random_state=42) \n",
    "representation_model = KeyBERTInspired()\n",
    "ctfidf_model = ClassTfidfTransformer(reduce_frequent_words=True)\n",
    "\n",
    "# flag_hyperparameters \n",
    "# Specify min_cluster_size and min_samples to minimize outliers\n",
    "hdbscan_model = HDBSCAN(min_cluster_size=10, metric='euclidean',\n",
    "                        cluster_selection_method='eom', prediction_data=True, min_samples=4) # Clustering algorithm that yields denser topics and reduces outliers\n",
    "\n",
    "# Initiate BERTopic and fit data\n",
    "model = BERTopic(verbose=True, representation_model = representation_model, \n",
    "                 embedding_model = \"all-MiniLM-L12-v2\", umap_model = umap_model, \n",
    "                 ctfidf_model=ctfidf_model, hdbscan_model=hdbscan_model)\n",
    "topics, _ = model.fit_transform(df[\"cleaned_text\"])\n",
    "\n",
    "# Get the default set of English stop words from scikit-learn\n",
    "default_stop_words = text.ENGLISH_STOP_WORDS\n",
    "\n",
    "# Define custom stop words\n",
    "custom_stop_words = {'@user', 'user', 'httpurl', 'said', 'money-mouth_face'}\n",
    "\n",
    "# Combine the default stop words with custom stop words\n",
    "combined_stop_words = default_stop_words.union(custom_stop_words)\n",
    "\n",
    "# Update the combined stop words with words containing underscores\n",
    "combined_stop_words_updated = update_stop_words(df[\"cleaned_text\"], combined_stop_words)\n",
    "\n",
    "# Convert the updated combined stop words from a set to a list\n",
    "combined_stop_words_list = list(combined_stop_words_updated)\n",
    "\n",
    "# Initialize the CountVectorizer with the combined set of stop words\n",
    "# count_vectoriser = CountVectorizer(ngram_range=(1, 2), stop_words=\"english\")\n",
    "\n",
    "count_vectoriser = CountVectorizer(ngram_range=(1, 2), stop_words=combined_stop_words_list)\n",
    "\n",
    "# count_vectoriser = CountVectorizer(stop_words=combined_stop_words_list)\n",
    "\n",
    "model.update_topics(df[\"cleaned_text\"], vectorizer_model=count_vectoriser)\n",
    "\n",
    "display(model.get_topic_info())"
   ]
  },
  {
   "cell_type": "code",
   "execution_count": 14,
   "metadata": {},
   "outputs": [
    {
     "ename": "AttributeError",
     "evalue": "'BERTopic' object has no attribute 'rename_topics'",
     "output_type": "error",
     "traceback": [
      "\u001b[1;31m---------------------------------------------------------------------------\u001b[0m",
      "\u001b[1;31mAttributeError\u001b[0m                            Traceback (most recent call last)",
      "Cell \u001b[1;32mIn[14], line 46\u001b[0m\n\u001b[0;32m      2\u001b[0m new_topic_names \u001b[38;5;241m=\u001b[39m {\n\u001b[0;32m      3\u001b[0m     \u001b[38;5;241m0\u001b[39m: \u001b[38;5;124m\"\u001b[39m\u001b[38;5;124mCapitol Riot\u001b[39m\u001b[38;5;124m\"\u001b[39m,\n\u001b[0;32m      4\u001b[0m     \u001b[38;5;241m1\u001b[39m: \u001b[38;5;124m\"\u001b[39m\u001b[38;5;124mPersonal Sentiments\u001b[39m\u001b[38;5;124m\"\u001b[39m,\n\u001b[1;32m   (...)\u001b[0m\n\u001b[0;32m     42\u001b[0m     \u001b[38;5;241m39\u001b[39m: \u001b[38;5;124m\"\u001b[39m\u001b[38;5;124mCOVID-19 Impact\u001b[39m\u001b[38;5;124m\"\u001b[39m\n\u001b[0;32m     43\u001b[0m }\n\u001b[0;32m     45\u001b[0m \u001b[38;5;66;03m# Rename topics\u001b[39;00m\n\u001b[1;32m---> 46\u001b[0m model\u001b[38;5;241m.\u001b[39mrename_topics(new_topic_names)\n\u001b[0;32m     48\u001b[0m \u001b[38;5;66;03m# Optionally, you might want to see the updated topic names\u001b[39;00m\n\u001b[0;32m     49\u001b[0m \u001b[38;5;28mprint\u001b[39m(model\u001b[38;5;241m.\u001b[39mget_topic_info())\n",
      "\u001b[1;31mAttributeError\u001b[0m: 'BERTopic' object has no attribute 'rename_topics'"
     ]
    }
   ],
   "source": [
    "# Dictionary mapping the topic numbers with the new names\n",
    "new_topic_names = {\n",
    "    0: \"Capitol Riot\",\n",
    "    1: \"Personal Sentiments\",\n",
    "    2: \"Voting Process\",\n",
    "    3: \"Election Legitimacy\",\n",
    "    4: \"Economic Policy\",\n",
    "    5: \"Political Support\",\n",
    "    6: \"Financial Discussions\",\n",
    "    7: \"Global Affairs\",\n",
    "    8: \"General Opinion\",\n",
    "    9: \"Social Media Discourse\",\n",
    "    10: \"Kamala Harris\",\n",
    "    11: \"Public Perception\",\n",
    "    12: \"COVID-19 Vaccine\",\n",
    "    13: \"Judicial System\",\n",
    "    14: \"Immigration\",\n",
    "    15: \"Political Critique\",\n",
    "    16: \"Racial Issues\",\n",
    "    17: \"Media Coverage\",\n",
    "    18: \"Election Concession\",\n",
    "    19: \"Election Results\",\n",
    "    20: \"Russian Influence\",\n",
    "    21: \"Religious Discussion\",\n",
    "    22: \"Deception\",\n",
    "    23: \"China Relations\",\n",
    "    24: \"Gun Control\",\n",
    "    25: \"Domestic Disturbances\",\n",
    "    26: \"Impeachment Talks\",\n",
    "    27: \"Legislative Issues\",\n",
    "    28: \"Economic Criticism\",\n",
    "    29: \"Financial Mismanagement\",\n",
    "    30: \"Political Debates\",\n",
    "    31: \"Cultural References\",\n",
    "    32: \"Pence's Role\",\n",
    "    33: \"Health Concerns\",\n",
    "    34: \"Criminal Justice\",\n",
    "    35: \"Social Issues\",\n",
    "    36: \"Pandemic Response\",\n",
    "    37: \"Digital Platforms\",\n",
    "    38: \"Mask Wearing\",\n",
    "    39: \"COVID-19 Impact\"\n",
    "}\n",
    "\n",
    "# Rename topics\n",
    "model.rename_topics(new_topic_names)\n",
    "\n",
    "# Optionally, you might want to see the updated topic names\n",
    "print(model.get_topic_info())\n"
   ]
  },
  {
   "cell_type": "code",
   "execution_count": 15,
   "metadata": {},
   "outputs": [
    {
     "data": {
      "application/vnd.plotly.v1+json": {
       "config": {
        "plotlyServerURL": "https://plot.ly"
       },
       "data": [
        {
         "customdata": [
          [
           0,
           "capitol | trump | terrorist | riot | people",
           89
          ],
          [
           1,
           "trump | wa | feel | love | day",
           79
          ],
          [
           2,
           "vote | ballot | state | election | trump",
           69
          ],
          [
           3,
           "biden | vote biden | manifest | vote | 45 electoral",
           65
          ],
          [
           4,
           "biden | plan | policy | tax | student",
           61
          ],
          [
           5,
           "supporter | trump supporter | support | trump | support trump",
           57
          ],
          [
           6,
           "money | trump | economy | tax | year",
           54
          ],
          [
           7,
           "trump | world | trump trump | real | country",
           47
          ],
          [
           8,
           "trump | think | term | crazy | office",
           44
          ],
          [
           9,
           "twitter | tweet | trump | medium | tr",
           43
          ],
          [
           10,
           "harris | kamala | black | kamala harris | biden harris",
           41
          ],
          [
           11,
           "biden | joe biden | joe | thewayiseeit | thewayiseeit thewayiseeit",
           35
          ],
          [
           12,
           "vaccine | vaccinated | biden | coronavirus vaccine | vaccination",
           33
          ],
          [
           13,
           "court | supreme court | supreme | lawyer | trump lawyer",
           33
          ],
          [
           14,
           "party | gop | republicans | deep | trump",
           32
          ],
          [
           15,
           "border | immigration | biden | ha | biden administration",
           31
          ],
          [
           16,
           "white | racist | black | white supremacist | supremacist",
           30
          ],
          [
           17,
           "woodward | cnn | jack | film | video",
           24
          ],
          [
           18,
           "concede | communist | loses | conceded | losing",
           23
          ],
          [
           19,
           "accept | biden | votes | won | lost",
           21
          ],
          [
           20,
           "putin | russia | moscow mitch | moscow | mitch",
           21
          ],
          [
           21,
           "christian | devil | god | satan | celebrant",
           19
          ],
          [
           22,
           "lie | lied | trump lie | lying | deceive",
           18
          ],
          [
           23,
           "china | hunter biden | hunter | biden | email",
           18
          ],
          [
           24,
           "gun | atf | biden | end | severe",
           17
          ],
          [
           25,
           "fact | biden | lie | dog | ample",
           17
          ],
          [
           26,
           "trump wa | mean trump | year trump | trump | did",
           16
          ],
          [
           27,
           "impeached | impeachment | trump impeachment | senate | house",
           15
          ],
          [
           28,
           "awful | ve | trump president | worse | trump",
           15
          ],
          [
           29,
           "biden | money mouth_face | mouth_face | money | hunter",
           15
          ],
          [
           30,
           "debate | final | biden | trump biden | biden debate",
           14
          ],
          [
           31,
           "care | miss trump | mrs | kevin sorbo | sorbo",
           14
          ],
          [
           32,
           "2020 | trump pence | pence 2020 | trump 2020 | pence",
           14
          ],
          [
           33,
           "virus | infected | country | virus did | tested",
           14
          ],
          [
           34,
           "pardon | trump pardon | prison | pardon trump | pension",
           14
          ],
          [
           35,
           "remove | fix | library | remove trump | death",
           13
          ],
          [
           36,
           "covid | ploy | trump covid | responsible | covid 19",
           11
          ],
          [
           37,
           "parler | did trump | trump did | 2001 | leaving free",
           11
          ],
          [
           38,
           "mask | wear | wear mask | wearing mask | wearing",
           11
          ],
          [
           39,
           "died | americans died | people | death | americans",
           10
          ]
         ],
         "hovertemplate": "<b>Topic %{customdata[0]}</b><br>%{customdata[1]}<br>Size: %{customdata[2]}",
         "legendgroup": "",
         "marker": {
          "color": "#B0BEC5",
          "line": {
           "color": "DarkSlateGrey",
           "width": 2
          },
          "size": [
           89,
           79,
           69,
           65,
           61,
           57,
           54,
           47,
           44,
           43,
           41,
           35,
           33,
           33,
           32,
           31,
           30,
           24,
           23,
           21,
           21,
           19,
           18,
           18,
           17,
           17,
           16,
           15,
           15,
           15,
           14,
           14,
           14,
           14,
           14,
           13,
           11,
           11,
           11,
           10
          ],
          "sizemode": "area",
          "sizeref": 0.055625,
          "symbol": "circle"
         },
         "mode": "markers",
         "name": "",
         "orientation": "v",
         "showlegend": false,
         "type": "scatter",
         "x": [
          10.879511833190918,
          9.664608001708984,
          -1.452762484550476,
          -1.0323398113250732,
          -0.8541097640991211,
          11.018381118774414,
          -0.9362751245498657,
          10.376574516296387,
          11.161091804504395,
          9.543712615966797,
          -0.6748563051223755,
          -0.6700244545936584,
          10.627266883850098,
          -0.5562716722488403,
          -1.676817536354065,
          -0.7783285975456238,
          10.82052993774414,
          9.848444938659668,
          -3.1268534660339355,
          -2.9634618759155273,
          -3.4735300540924072,
          9.597041130065918,
          -3.3727190494537354,
          -3.5499117374420166,
          -3.6817333698272705,
          -3.440415143966675,
          10.687214851379395,
          10.955229759216309,
          11.590388298034668,
          -3.851114511489868,
          -0.41223904490470886,
          9.835236549377441,
          10.342472076416016,
          10.692185401916504,
          8.317069053649902,
          8.56114387512207,
          10.622007369995117,
          11.807074546813965,
          9.201590538024902,
          9.410144805908203
         ],
         "xaxis": "x",
         "y": [
          11.490099906921387,
          5.542827606201172,
          3.667555570602417,
          3.713780641555786,
          5.161868095397949,
          11.605435371398926,
          5.286401748657227,
          10.707561492919922,
          8.069291114807129,
          5.618860721588135,
          4.493759632110596,
          4.012382507324219,
          7.782289505004883,
          4.474917888641357,
          3.484590768814087,
          5.2680439949035645,
          11.64475154876709,
          5.325350761413574,
          -0.22548282146453857,
          -0.3277233839035034,
          0.30855658650398254,
          5.005906105041504,
          -1.0569770336151123,
          0.21242797374725342,
          0.2076597362756729,
          -0.9788438081741333,
          10.953985214233398,
          10.835909843444824,
          7.8289313316345215,
          -1.0355764627456665,
          4.638643741607666,
          5.825253486633301,
          10.539593696594238,
          7.933035373687744,
          4.527459144592285,
          4.719635486602783,
          8.008940696716309,
          7.6239118576049805,
          5.282953262329102,
          5.4730634689331055
         ],
         "yaxis": "y"
        }
       ],
       "layout": {
        "annotations": [
         {
          "showarrow": false,
          "text": "D1",
          "x": -4.428781688213348,
          "y": 6.087970346212387,
          "yshift": 10
         },
         {
          "showarrow": false,
          "text": "D2",
          "x": 4.574677020311356,
          "xshift": 10,
          "y": 13.391464281082154
         }
        ],
        "height": 650,
        "hoverlabel": {
         "bgcolor": "white",
         "font": {
          "family": "Rockwell",
          "size": 16
         }
        },
        "legend": {
         "itemsizing": "constant",
         "tracegroupgap": 0
        },
        "margin": {
         "t": 60
        },
        "shapes": [
         {
          "line": {
           "color": "#CFD8DC",
           "width": 2
          },
          "type": "line",
          "x0": 4.574677020311356,
          "x1": 4.574677020311356,
          "y0": -1.2155235886573792,
          "y1": 13.391464281082154
         },
         {
          "line": {
           "color": "#9E9E9E",
           "width": 2
          },
          "type": "line",
          "x0": -4.428781688213348,
          "x1": 13.57813572883606,
          "y0": 6.087970346212387,
          "y1": 6.087970346212387
         }
        ],
        "sliders": [
         {
          "active": 0,
          "pad": {
           "t": 50
          },
          "steps": [
           {
            "args": [
             {
              "marker.color": [
               [
                "red",
                "#B0BEC5",
                "#B0BEC5",
                "#B0BEC5",
                "#B0BEC5",
                "#B0BEC5",
                "#B0BEC5",
                "#B0BEC5",
                "#B0BEC5",
                "#B0BEC5",
                "#B0BEC5",
                "#B0BEC5",
                "#B0BEC5",
                "#B0BEC5",
                "#B0BEC5",
                "#B0BEC5",
                "#B0BEC5",
                "#B0BEC5",
                "#B0BEC5",
                "#B0BEC5",
                "#B0BEC5",
                "#B0BEC5",
                "#B0BEC5",
                "#B0BEC5",
                "#B0BEC5",
                "#B0BEC5",
                "#B0BEC5",
                "#B0BEC5",
                "#B0BEC5",
                "#B0BEC5",
                "#B0BEC5",
                "#B0BEC5",
                "#B0BEC5",
                "#B0BEC5",
                "#B0BEC5",
                "#B0BEC5",
                "#B0BEC5",
                "#B0BEC5",
                "#B0BEC5",
                "#B0BEC5"
               ]
              ]
             }
            ],
            "label": "Topic 0",
            "method": "update"
           },
           {
            "args": [
             {
              "marker.color": [
               [
                "#B0BEC5",
                "red",
                "#B0BEC5",
                "#B0BEC5",
                "#B0BEC5",
                "#B0BEC5",
                "#B0BEC5",
                "#B0BEC5",
                "#B0BEC5",
                "#B0BEC5",
                "#B0BEC5",
                "#B0BEC5",
                "#B0BEC5",
                "#B0BEC5",
                "#B0BEC5",
                "#B0BEC5",
                "#B0BEC5",
                "#B0BEC5",
                "#B0BEC5",
                "#B0BEC5",
                "#B0BEC5",
                "#B0BEC5",
                "#B0BEC5",
                "#B0BEC5",
                "#B0BEC5",
                "#B0BEC5",
                "#B0BEC5",
                "#B0BEC5",
                "#B0BEC5",
                "#B0BEC5",
                "#B0BEC5",
                "#B0BEC5",
                "#B0BEC5",
                "#B0BEC5",
                "#B0BEC5",
                "#B0BEC5",
                "#B0BEC5",
                "#B0BEC5",
                "#B0BEC5",
                "#B0BEC5"
               ]
              ]
             }
            ],
            "label": "Topic 1",
            "method": "update"
           },
           {
            "args": [
             {
              "marker.color": [
               [
                "#B0BEC5",
                "#B0BEC5",
                "red",
                "#B0BEC5",
                "#B0BEC5",
                "#B0BEC5",
                "#B0BEC5",
                "#B0BEC5",
                "#B0BEC5",
                "#B0BEC5",
                "#B0BEC5",
                "#B0BEC5",
                "#B0BEC5",
                "#B0BEC5",
                "#B0BEC5",
                "#B0BEC5",
                "#B0BEC5",
                "#B0BEC5",
                "#B0BEC5",
                "#B0BEC5",
                "#B0BEC5",
                "#B0BEC5",
                "#B0BEC5",
                "#B0BEC5",
                "#B0BEC5",
                "#B0BEC5",
                "#B0BEC5",
                "#B0BEC5",
                "#B0BEC5",
                "#B0BEC5",
                "#B0BEC5",
                "#B0BEC5",
                "#B0BEC5",
                "#B0BEC5",
                "#B0BEC5",
                "#B0BEC5",
                "#B0BEC5",
                "#B0BEC5",
                "#B0BEC5",
                "#B0BEC5"
               ]
              ]
             }
            ],
            "label": "Topic 2",
            "method": "update"
           },
           {
            "args": [
             {
              "marker.color": [
               [
                "#B0BEC5",
                "#B0BEC5",
                "#B0BEC5",
                "red",
                "#B0BEC5",
                "#B0BEC5",
                "#B0BEC5",
                "#B0BEC5",
                "#B0BEC5",
                "#B0BEC5",
                "#B0BEC5",
                "#B0BEC5",
                "#B0BEC5",
                "#B0BEC5",
                "#B0BEC5",
                "#B0BEC5",
                "#B0BEC5",
                "#B0BEC5",
                "#B0BEC5",
                "#B0BEC5",
                "#B0BEC5",
                "#B0BEC5",
                "#B0BEC5",
                "#B0BEC5",
                "#B0BEC5",
                "#B0BEC5",
                "#B0BEC5",
                "#B0BEC5",
                "#B0BEC5",
                "#B0BEC5",
                "#B0BEC5",
                "#B0BEC5",
                "#B0BEC5",
                "#B0BEC5",
                "#B0BEC5",
                "#B0BEC5",
                "#B0BEC5",
                "#B0BEC5",
                "#B0BEC5",
                "#B0BEC5"
               ]
              ]
             }
            ],
            "label": "Topic 3",
            "method": "update"
           },
           {
            "args": [
             {
              "marker.color": [
               [
                "#B0BEC5",
                "#B0BEC5",
                "#B0BEC5",
                "#B0BEC5",
                "red",
                "#B0BEC5",
                "#B0BEC5",
                "#B0BEC5",
                "#B0BEC5",
                "#B0BEC5",
                "#B0BEC5",
                "#B0BEC5",
                "#B0BEC5",
                "#B0BEC5",
                "#B0BEC5",
                "#B0BEC5",
                "#B0BEC5",
                "#B0BEC5",
                "#B0BEC5",
                "#B0BEC5",
                "#B0BEC5",
                "#B0BEC5",
                "#B0BEC5",
                "#B0BEC5",
                "#B0BEC5",
                "#B0BEC5",
                "#B0BEC5",
                "#B0BEC5",
                "#B0BEC5",
                "#B0BEC5",
                "#B0BEC5",
                "#B0BEC5",
                "#B0BEC5",
                "#B0BEC5",
                "#B0BEC5",
                "#B0BEC5",
                "#B0BEC5",
                "#B0BEC5",
                "#B0BEC5",
                "#B0BEC5"
               ]
              ]
             }
            ],
            "label": "Topic 4",
            "method": "update"
           },
           {
            "args": [
             {
              "marker.color": [
               [
                "#B0BEC5",
                "#B0BEC5",
                "#B0BEC5",
                "#B0BEC5",
                "#B0BEC5",
                "red",
                "#B0BEC5",
                "#B0BEC5",
                "#B0BEC5",
                "#B0BEC5",
                "#B0BEC5",
                "#B0BEC5",
                "#B0BEC5",
                "#B0BEC5",
                "#B0BEC5",
                "#B0BEC5",
                "#B0BEC5",
                "#B0BEC5",
                "#B0BEC5",
                "#B0BEC5",
                "#B0BEC5",
                "#B0BEC5",
                "#B0BEC5",
                "#B0BEC5",
                "#B0BEC5",
                "#B0BEC5",
                "#B0BEC5",
                "#B0BEC5",
                "#B0BEC5",
                "#B0BEC5",
                "#B0BEC5",
                "#B0BEC5",
                "#B0BEC5",
                "#B0BEC5",
                "#B0BEC5",
                "#B0BEC5",
                "#B0BEC5",
                "#B0BEC5",
                "#B0BEC5",
                "#B0BEC5"
               ]
              ]
             }
            ],
            "label": "Topic 5",
            "method": "update"
           },
           {
            "args": [
             {
              "marker.color": [
               [
                "#B0BEC5",
                "#B0BEC5",
                "#B0BEC5",
                "#B0BEC5",
                "#B0BEC5",
                "#B0BEC5",
                "red",
                "#B0BEC5",
                "#B0BEC5",
                "#B0BEC5",
                "#B0BEC5",
                "#B0BEC5",
                "#B0BEC5",
                "#B0BEC5",
                "#B0BEC5",
                "#B0BEC5",
                "#B0BEC5",
                "#B0BEC5",
                "#B0BEC5",
                "#B0BEC5",
                "#B0BEC5",
                "#B0BEC5",
                "#B0BEC5",
                "#B0BEC5",
                "#B0BEC5",
                "#B0BEC5",
                "#B0BEC5",
                "#B0BEC5",
                "#B0BEC5",
                "#B0BEC5",
                "#B0BEC5",
                "#B0BEC5",
                "#B0BEC5",
                "#B0BEC5",
                "#B0BEC5",
                "#B0BEC5",
                "#B0BEC5",
                "#B0BEC5",
                "#B0BEC5",
                "#B0BEC5"
               ]
              ]
             }
            ],
            "label": "Topic 6",
            "method": "update"
           },
           {
            "args": [
             {
              "marker.color": [
               [
                "#B0BEC5",
                "#B0BEC5",
                "#B0BEC5",
                "#B0BEC5",
                "#B0BEC5",
                "#B0BEC5",
                "#B0BEC5",
                "red",
                "#B0BEC5",
                "#B0BEC5",
                "#B0BEC5",
                "#B0BEC5",
                "#B0BEC5",
                "#B0BEC5",
                "#B0BEC5",
                "#B0BEC5",
                "#B0BEC5",
                "#B0BEC5",
                "#B0BEC5",
                "#B0BEC5",
                "#B0BEC5",
                "#B0BEC5",
                "#B0BEC5",
                "#B0BEC5",
                "#B0BEC5",
                "#B0BEC5",
                "#B0BEC5",
                "#B0BEC5",
                "#B0BEC5",
                "#B0BEC5",
                "#B0BEC5",
                "#B0BEC5",
                "#B0BEC5",
                "#B0BEC5",
                "#B0BEC5",
                "#B0BEC5",
                "#B0BEC5",
                "#B0BEC5",
                "#B0BEC5",
                "#B0BEC5"
               ]
              ]
             }
            ],
            "label": "Topic 7",
            "method": "update"
           },
           {
            "args": [
             {
              "marker.color": [
               [
                "#B0BEC5",
                "#B0BEC5",
                "#B0BEC5",
                "#B0BEC5",
                "#B0BEC5",
                "#B0BEC5",
                "#B0BEC5",
                "#B0BEC5",
                "red",
                "#B0BEC5",
                "#B0BEC5",
                "#B0BEC5",
                "#B0BEC5",
                "#B0BEC5",
                "#B0BEC5",
                "#B0BEC5",
                "#B0BEC5",
                "#B0BEC5",
                "#B0BEC5",
                "#B0BEC5",
                "#B0BEC5",
                "#B0BEC5",
                "#B0BEC5",
                "#B0BEC5",
                "#B0BEC5",
                "#B0BEC5",
                "#B0BEC5",
                "#B0BEC5",
                "#B0BEC5",
                "#B0BEC5",
                "#B0BEC5",
                "#B0BEC5",
                "#B0BEC5",
                "#B0BEC5",
                "#B0BEC5",
                "#B0BEC5",
                "#B0BEC5",
                "#B0BEC5",
                "#B0BEC5",
                "#B0BEC5"
               ]
              ]
             }
            ],
            "label": "Topic 8",
            "method": "update"
           },
           {
            "args": [
             {
              "marker.color": [
               [
                "#B0BEC5",
                "#B0BEC5",
                "#B0BEC5",
                "#B0BEC5",
                "#B0BEC5",
                "#B0BEC5",
                "#B0BEC5",
                "#B0BEC5",
                "#B0BEC5",
                "red",
                "#B0BEC5",
                "#B0BEC5",
                "#B0BEC5",
                "#B0BEC5",
                "#B0BEC5",
                "#B0BEC5",
                "#B0BEC5",
                "#B0BEC5",
                "#B0BEC5",
                "#B0BEC5",
                "#B0BEC5",
                "#B0BEC5",
                "#B0BEC5",
                "#B0BEC5",
                "#B0BEC5",
                "#B0BEC5",
                "#B0BEC5",
                "#B0BEC5",
                "#B0BEC5",
                "#B0BEC5",
                "#B0BEC5",
                "#B0BEC5",
                "#B0BEC5",
                "#B0BEC5",
                "#B0BEC5",
                "#B0BEC5",
                "#B0BEC5",
                "#B0BEC5",
                "#B0BEC5",
                "#B0BEC5"
               ]
              ]
             }
            ],
            "label": "Topic 9",
            "method": "update"
           },
           {
            "args": [
             {
              "marker.color": [
               [
                "#B0BEC5",
                "#B0BEC5",
                "#B0BEC5",
                "#B0BEC5",
                "#B0BEC5",
                "#B0BEC5",
                "#B0BEC5",
                "#B0BEC5",
                "#B0BEC5",
                "#B0BEC5",
                "red",
                "#B0BEC5",
                "#B0BEC5",
                "#B0BEC5",
                "#B0BEC5",
                "#B0BEC5",
                "#B0BEC5",
                "#B0BEC5",
                "#B0BEC5",
                "#B0BEC5",
                "#B0BEC5",
                "#B0BEC5",
                "#B0BEC5",
                "#B0BEC5",
                "#B0BEC5",
                "#B0BEC5",
                "#B0BEC5",
                "#B0BEC5",
                "#B0BEC5",
                "#B0BEC5",
                "#B0BEC5",
                "#B0BEC5",
                "#B0BEC5",
                "#B0BEC5",
                "#B0BEC5",
                "#B0BEC5",
                "#B0BEC5",
                "#B0BEC5",
                "#B0BEC5",
                "#B0BEC5"
               ]
              ]
             }
            ],
            "label": "Topic 10",
            "method": "update"
           },
           {
            "args": [
             {
              "marker.color": [
               [
                "#B0BEC5",
                "#B0BEC5",
                "#B0BEC5",
                "#B0BEC5",
                "#B0BEC5",
                "#B0BEC5",
                "#B0BEC5",
                "#B0BEC5",
                "#B0BEC5",
                "#B0BEC5",
                "#B0BEC5",
                "red",
                "#B0BEC5",
                "#B0BEC5",
                "#B0BEC5",
                "#B0BEC5",
                "#B0BEC5",
                "#B0BEC5",
                "#B0BEC5",
                "#B0BEC5",
                "#B0BEC5",
                "#B0BEC5",
                "#B0BEC5",
                "#B0BEC5",
                "#B0BEC5",
                "#B0BEC5",
                "#B0BEC5",
                "#B0BEC5",
                "#B0BEC5",
                "#B0BEC5",
                "#B0BEC5",
                "#B0BEC5",
                "#B0BEC5",
                "#B0BEC5",
                "#B0BEC5",
                "#B0BEC5",
                "#B0BEC5",
                "#B0BEC5",
                "#B0BEC5",
                "#B0BEC5"
               ]
              ]
             }
            ],
            "label": "Topic 11",
            "method": "update"
           },
           {
            "args": [
             {
              "marker.color": [
               [
                "#B0BEC5",
                "#B0BEC5",
                "#B0BEC5",
                "#B0BEC5",
                "#B0BEC5",
                "#B0BEC5",
                "#B0BEC5",
                "#B0BEC5",
                "#B0BEC5",
                "#B0BEC5",
                "#B0BEC5",
                "#B0BEC5",
                "red",
                "#B0BEC5",
                "#B0BEC5",
                "#B0BEC5",
                "#B0BEC5",
                "#B0BEC5",
                "#B0BEC5",
                "#B0BEC5",
                "#B0BEC5",
                "#B0BEC5",
                "#B0BEC5",
                "#B0BEC5",
                "#B0BEC5",
                "#B0BEC5",
                "#B0BEC5",
                "#B0BEC5",
                "#B0BEC5",
                "#B0BEC5",
                "#B0BEC5",
                "#B0BEC5",
                "#B0BEC5",
                "#B0BEC5",
                "#B0BEC5",
                "#B0BEC5",
                "#B0BEC5",
                "#B0BEC5",
                "#B0BEC5",
                "#B0BEC5"
               ]
              ]
             }
            ],
            "label": "Topic 12",
            "method": "update"
           },
           {
            "args": [
             {
              "marker.color": [
               [
                "#B0BEC5",
                "#B0BEC5",
                "#B0BEC5",
                "#B0BEC5",
                "#B0BEC5",
                "#B0BEC5",
                "#B0BEC5",
                "#B0BEC5",
                "#B0BEC5",
                "#B0BEC5",
                "#B0BEC5",
                "#B0BEC5",
                "#B0BEC5",
                "red",
                "#B0BEC5",
                "#B0BEC5",
                "#B0BEC5",
                "#B0BEC5",
                "#B0BEC5",
                "#B0BEC5",
                "#B0BEC5",
                "#B0BEC5",
                "#B0BEC5",
                "#B0BEC5",
                "#B0BEC5",
                "#B0BEC5",
                "#B0BEC5",
                "#B0BEC5",
                "#B0BEC5",
                "#B0BEC5",
                "#B0BEC5",
                "#B0BEC5",
                "#B0BEC5",
                "#B0BEC5",
                "#B0BEC5",
                "#B0BEC5",
                "#B0BEC5",
                "#B0BEC5",
                "#B0BEC5",
                "#B0BEC5"
               ]
              ]
             }
            ],
            "label": "Topic 13",
            "method": "update"
           },
           {
            "args": [
             {
              "marker.color": [
               [
                "#B0BEC5",
                "#B0BEC5",
                "#B0BEC5",
                "#B0BEC5",
                "#B0BEC5",
                "#B0BEC5",
                "#B0BEC5",
                "#B0BEC5",
                "#B0BEC5",
                "#B0BEC5",
                "#B0BEC5",
                "#B0BEC5",
                "#B0BEC5",
                "#B0BEC5",
                "red",
                "#B0BEC5",
                "#B0BEC5",
                "#B0BEC5",
                "#B0BEC5",
                "#B0BEC5",
                "#B0BEC5",
                "#B0BEC5",
                "#B0BEC5",
                "#B0BEC5",
                "#B0BEC5",
                "#B0BEC5",
                "#B0BEC5",
                "#B0BEC5",
                "#B0BEC5",
                "#B0BEC5",
                "#B0BEC5",
                "#B0BEC5",
                "#B0BEC5",
                "#B0BEC5",
                "#B0BEC5",
                "#B0BEC5",
                "#B0BEC5",
                "#B0BEC5",
                "#B0BEC5",
                "#B0BEC5"
               ]
              ]
             }
            ],
            "label": "Topic 14",
            "method": "update"
           },
           {
            "args": [
             {
              "marker.color": [
               [
                "#B0BEC5",
                "#B0BEC5",
                "#B0BEC5",
                "#B0BEC5",
                "#B0BEC5",
                "#B0BEC5",
                "#B0BEC5",
                "#B0BEC5",
                "#B0BEC5",
                "#B0BEC5",
                "#B0BEC5",
                "#B0BEC5",
                "#B0BEC5",
                "#B0BEC5",
                "#B0BEC5",
                "red",
                "#B0BEC5",
                "#B0BEC5",
                "#B0BEC5",
                "#B0BEC5",
                "#B0BEC5",
                "#B0BEC5",
                "#B0BEC5",
                "#B0BEC5",
                "#B0BEC5",
                "#B0BEC5",
                "#B0BEC5",
                "#B0BEC5",
                "#B0BEC5",
                "#B0BEC5",
                "#B0BEC5",
                "#B0BEC5",
                "#B0BEC5",
                "#B0BEC5",
                "#B0BEC5",
                "#B0BEC5",
                "#B0BEC5",
                "#B0BEC5",
                "#B0BEC5",
                "#B0BEC5"
               ]
              ]
             }
            ],
            "label": "Topic 15",
            "method": "update"
           },
           {
            "args": [
             {
              "marker.color": [
               [
                "#B0BEC5",
                "#B0BEC5",
                "#B0BEC5",
                "#B0BEC5",
                "#B0BEC5",
                "#B0BEC5",
                "#B0BEC5",
                "#B0BEC5",
                "#B0BEC5",
                "#B0BEC5",
                "#B0BEC5",
                "#B0BEC5",
                "#B0BEC5",
                "#B0BEC5",
                "#B0BEC5",
                "#B0BEC5",
                "red",
                "#B0BEC5",
                "#B0BEC5",
                "#B0BEC5",
                "#B0BEC5",
                "#B0BEC5",
                "#B0BEC5",
                "#B0BEC5",
                "#B0BEC5",
                "#B0BEC5",
                "#B0BEC5",
                "#B0BEC5",
                "#B0BEC5",
                "#B0BEC5",
                "#B0BEC5",
                "#B0BEC5",
                "#B0BEC5",
                "#B0BEC5",
                "#B0BEC5",
                "#B0BEC5",
                "#B0BEC5",
                "#B0BEC5",
                "#B0BEC5",
                "#B0BEC5"
               ]
              ]
             }
            ],
            "label": "Topic 16",
            "method": "update"
           },
           {
            "args": [
             {
              "marker.color": [
               [
                "#B0BEC5",
                "#B0BEC5",
                "#B0BEC5",
                "#B0BEC5",
                "#B0BEC5",
                "#B0BEC5",
                "#B0BEC5",
                "#B0BEC5",
                "#B0BEC5",
                "#B0BEC5",
                "#B0BEC5",
                "#B0BEC5",
                "#B0BEC5",
                "#B0BEC5",
                "#B0BEC5",
                "#B0BEC5",
                "#B0BEC5",
                "red",
                "#B0BEC5",
                "#B0BEC5",
                "#B0BEC5",
                "#B0BEC5",
                "#B0BEC5",
                "#B0BEC5",
                "#B0BEC5",
                "#B0BEC5",
                "#B0BEC5",
                "#B0BEC5",
                "#B0BEC5",
                "#B0BEC5",
                "#B0BEC5",
                "#B0BEC5",
                "#B0BEC5",
                "#B0BEC5",
                "#B0BEC5",
                "#B0BEC5",
                "#B0BEC5",
                "#B0BEC5",
                "#B0BEC5",
                "#B0BEC5"
               ]
              ]
             }
            ],
            "label": "Topic 17",
            "method": "update"
           },
           {
            "args": [
             {
              "marker.color": [
               [
                "#B0BEC5",
                "#B0BEC5",
                "#B0BEC5",
                "#B0BEC5",
                "#B0BEC5",
                "#B0BEC5",
                "#B0BEC5",
                "#B0BEC5",
                "#B0BEC5",
                "#B0BEC5",
                "#B0BEC5",
                "#B0BEC5",
                "#B0BEC5",
                "#B0BEC5",
                "#B0BEC5",
                "#B0BEC5",
                "#B0BEC5",
                "#B0BEC5",
                "red",
                "#B0BEC5",
                "#B0BEC5",
                "#B0BEC5",
                "#B0BEC5",
                "#B0BEC5",
                "#B0BEC5",
                "#B0BEC5",
                "#B0BEC5",
                "#B0BEC5",
                "#B0BEC5",
                "#B0BEC5",
                "#B0BEC5",
                "#B0BEC5",
                "#B0BEC5",
                "#B0BEC5",
                "#B0BEC5",
                "#B0BEC5",
                "#B0BEC5",
                "#B0BEC5",
                "#B0BEC5",
                "#B0BEC5"
               ]
              ]
             }
            ],
            "label": "Topic 18",
            "method": "update"
           },
           {
            "args": [
             {
              "marker.color": [
               [
                "#B0BEC5",
                "#B0BEC5",
                "#B0BEC5",
                "#B0BEC5",
                "#B0BEC5",
                "#B0BEC5",
                "#B0BEC5",
                "#B0BEC5",
                "#B0BEC5",
                "#B0BEC5",
                "#B0BEC5",
                "#B0BEC5",
                "#B0BEC5",
                "#B0BEC5",
                "#B0BEC5",
                "#B0BEC5",
                "#B0BEC5",
                "#B0BEC5",
                "#B0BEC5",
                "red",
                "#B0BEC5",
                "#B0BEC5",
                "#B0BEC5",
                "#B0BEC5",
                "#B0BEC5",
                "#B0BEC5",
                "#B0BEC5",
                "#B0BEC5",
                "#B0BEC5",
                "#B0BEC5",
                "#B0BEC5",
                "#B0BEC5",
                "#B0BEC5",
                "#B0BEC5",
                "#B0BEC5",
                "#B0BEC5",
                "#B0BEC5",
                "#B0BEC5",
                "#B0BEC5",
                "#B0BEC5"
               ]
              ]
             }
            ],
            "label": "Topic 19",
            "method": "update"
           },
           {
            "args": [
             {
              "marker.color": [
               [
                "#B0BEC5",
                "#B0BEC5",
                "#B0BEC5",
                "#B0BEC5",
                "#B0BEC5",
                "#B0BEC5",
                "#B0BEC5",
                "#B0BEC5",
                "#B0BEC5",
                "#B0BEC5",
                "#B0BEC5",
                "#B0BEC5",
                "#B0BEC5",
                "#B0BEC5",
                "#B0BEC5",
                "#B0BEC5",
                "#B0BEC5",
                "#B0BEC5",
                "#B0BEC5",
                "#B0BEC5",
                "red",
                "#B0BEC5",
                "#B0BEC5",
                "#B0BEC5",
                "#B0BEC5",
                "#B0BEC5",
                "#B0BEC5",
                "#B0BEC5",
                "#B0BEC5",
                "#B0BEC5",
                "#B0BEC5",
                "#B0BEC5",
                "#B0BEC5",
                "#B0BEC5",
                "#B0BEC5",
                "#B0BEC5",
                "#B0BEC5",
                "#B0BEC5",
                "#B0BEC5",
                "#B0BEC5"
               ]
              ]
             }
            ],
            "label": "Topic 20",
            "method": "update"
           },
           {
            "args": [
             {
              "marker.color": [
               [
                "#B0BEC5",
                "#B0BEC5",
                "#B0BEC5",
                "#B0BEC5",
                "#B0BEC5",
                "#B0BEC5",
                "#B0BEC5",
                "#B0BEC5",
                "#B0BEC5",
                "#B0BEC5",
                "#B0BEC5",
                "#B0BEC5",
                "#B0BEC5",
                "#B0BEC5",
                "#B0BEC5",
                "#B0BEC5",
                "#B0BEC5",
                "#B0BEC5",
                "#B0BEC5",
                "#B0BEC5",
                "#B0BEC5",
                "red",
                "#B0BEC5",
                "#B0BEC5",
                "#B0BEC5",
                "#B0BEC5",
                "#B0BEC5",
                "#B0BEC5",
                "#B0BEC5",
                "#B0BEC5",
                "#B0BEC5",
                "#B0BEC5",
                "#B0BEC5",
                "#B0BEC5",
                "#B0BEC5",
                "#B0BEC5",
                "#B0BEC5",
                "#B0BEC5",
                "#B0BEC5",
                "#B0BEC5"
               ]
              ]
             }
            ],
            "label": "Topic 21",
            "method": "update"
           },
           {
            "args": [
             {
              "marker.color": [
               [
                "#B0BEC5",
                "#B0BEC5",
                "#B0BEC5",
                "#B0BEC5",
                "#B0BEC5",
                "#B0BEC5",
                "#B0BEC5",
                "#B0BEC5",
                "#B0BEC5",
                "#B0BEC5",
                "#B0BEC5",
                "#B0BEC5",
                "#B0BEC5",
                "#B0BEC5",
                "#B0BEC5",
                "#B0BEC5",
                "#B0BEC5",
                "#B0BEC5",
                "#B0BEC5",
                "#B0BEC5",
                "#B0BEC5",
                "#B0BEC5",
                "red",
                "#B0BEC5",
                "#B0BEC5",
                "#B0BEC5",
                "#B0BEC5",
                "#B0BEC5",
                "#B0BEC5",
                "#B0BEC5",
                "#B0BEC5",
                "#B0BEC5",
                "#B0BEC5",
                "#B0BEC5",
                "#B0BEC5",
                "#B0BEC5",
                "#B0BEC5",
                "#B0BEC5",
                "#B0BEC5",
                "#B0BEC5"
               ]
              ]
             }
            ],
            "label": "Topic 22",
            "method": "update"
           },
           {
            "args": [
             {
              "marker.color": [
               [
                "#B0BEC5",
                "#B0BEC5",
                "#B0BEC5",
                "#B0BEC5",
                "#B0BEC5",
                "#B0BEC5",
                "#B0BEC5",
                "#B0BEC5",
                "#B0BEC5",
                "#B0BEC5",
                "#B0BEC5",
                "#B0BEC5",
                "#B0BEC5",
                "#B0BEC5",
                "#B0BEC5",
                "#B0BEC5",
                "#B0BEC5",
                "#B0BEC5",
                "#B0BEC5",
                "#B0BEC5",
                "#B0BEC5",
                "#B0BEC5",
                "#B0BEC5",
                "red",
                "#B0BEC5",
                "#B0BEC5",
                "#B0BEC5",
                "#B0BEC5",
                "#B0BEC5",
                "#B0BEC5",
                "#B0BEC5",
                "#B0BEC5",
                "#B0BEC5",
                "#B0BEC5",
                "#B0BEC5",
                "#B0BEC5",
                "#B0BEC5",
                "#B0BEC5",
                "#B0BEC5",
                "#B0BEC5"
               ]
              ]
             }
            ],
            "label": "Topic 23",
            "method": "update"
           },
           {
            "args": [
             {
              "marker.color": [
               [
                "#B0BEC5",
                "#B0BEC5",
                "#B0BEC5",
                "#B0BEC5",
                "#B0BEC5",
                "#B0BEC5",
                "#B0BEC5",
                "#B0BEC5",
                "#B0BEC5",
                "#B0BEC5",
                "#B0BEC5",
                "#B0BEC5",
                "#B0BEC5",
                "#B0BEC5",
                "#B0BEC5",
                "#B0BEC5",
                "#B0BEC5",
                "#B0BEC5",
                "#B0BEC5",
                "#B0BEC5",
                "#B0BEC5",
                "#B0BEC5",
                "#B0BEC5",
                "#B0BEC5",
                "red",
                "#B0BEC5",
                "#B0BEC5",
                "#B0BEC5",
                "#B0BEC5",
                "#B0BEC5",
                "#B0BEC5",
                "#B0BEC5",
                "#B0BEC5",
                "#B0BEC5",
                "#B0BEC5",
                "#B0BEC5",
                "#B0BEC5",
                "#B0BEC5",
                "#B0BEC5",
                "#B0BEC5"
               ]
              ]
             }
            ],
            "label": "Topic 24",
            "method": "update"
           },
           {
            "args": [
             {
              "marker.color": [
               [
                "#B0BEC5",
                "#B0BEC5",
                "#B0BEC5",
                "#B0BEC5",
                "#B0BEC5",
                "#B0BEC5",
                "#B0BEC5",
                "#B0BEC5",
                "#B0BEC5",
                "#B0BEC5",
                "#B0BEC5",
                "#B0BEC5",
                "#B0BEC5",
                "#B0BEC5",
                "#B0BEC5",
                "#B0BEC5",
                "#B0BEC5",
                "#B0BEC5",
                "#B0BEC5",
                "#B0BEC5",
                "#B0BEC5",
                "#B0BEC5",
                "#B0BEC5",
                "#B0BEC5",
                "#B0BEC5",
                "red",
                "#B0BEC5",
                "#B0BEC5",
                "#B0BEC5",
                "#B0BEC5",
                "#B0BEC5",
                "#B0BEC5",
                "#B0BEC5",
                "#B0BEC5",
                "#B0BEC5",
                "#B0BEC5",
                "#B0BEC5",
                "#B0BEC5",
                "#B0BEC5",
                "#B0BEC5"
               ]
              ]
             }
            ],
            "label": "Topic 25",
            "method": "update"
           },
           {
            "args": [
             {
              "marker.color": [
               [
                "#B0BEC5",
                "#B0BEC5",
                "#B0BEC5",
                "#B0BEC5",
                "#B0BEC5",
                "#B0BEC5",
                "#B0BEC5",
                "#B0BEC5",
                "#B0BEC5",
                "#B0BEC5",
                "#B0BEC5",
                "#B0BEC5",
                "#B0BEC5",
                "#B0BEC5",
                "#B0BEC5",
                "#B0BEC5",
                "#B0BEC5",
                "#B0BEC5",
                "#B0BEC5",
                "#B0BEC5",
                "#B0BEC5",
                "#B0BEC5",
                "#B0BEC5",
                "#B0BEC5",
                "#B0BEC5",
                "#B0BEC5",
                "red",
                "#B0BEC5",
                "#B0BEC5",
                "#B0BEC5",
                "#B0BEC5",
                "#B0BEC5",
                "#B0BEC5",
                "#B0BEC5",
                "#B0BEC5",
                "#B0BEC5",
                "#B0BEC5",
                "#B0BEC5",
                "#B0BEC5",
                "#B0BEC5"
               ]
              ]
             }
            ],
            "label": "Topic 26",
            "method": "update"
           },
           {
            "args": [
             {
              "marker.color": [
               [
                "#B0BEC5",
                "#B0BEC5",
                "#B0BEC5",
                "#B0BEC5",
                "#B0BEC5",
                "#B0BEC5",
                "#B0BEC5",
                "#B0BEC5",
                "#B0BEC5",
                "#B0BEC5",
                "#B0BEC5",
                "#B0BEC5",
                "#B0BEC5",
                "#B0BEC5",
                "#B0BEC5",
                "#B0BEC5",
                "#B0BEC5",
                "#B0BEC5",
                "#B0BEC5",
                "#B0BEC5",
                "#B0BEC5",
                "#B0BEC5",
                "#B0BEC5",
                "#B0BEC5",
                "#B0BEC5",
                "#B0BEC5",
                "#B0BEC5",
                "red",
                "#B0BEC5",
                "#B0BEC5",
                "#B0BEC5",
                "#B0BEC5",
                "#B0BEC5",
                "#B0BEC5",
                "#B0BEC5",
                "#B0BEC5",
                "#B0BEC5",
                "#B0BEC5",
                "#B0BEC5",
                "#B0BEC5"
               ]
              ]
             }
            ],
            "label": "Topic 27",
            "method": "update"
           },
           {
            "args": [
             {
              "marker.color": [
               [
                "#B0BEC5",
                "#B0BEC5",
                "#B0BEC5",
                "#B0BEC5",
                "#B0BEC5",
                "#B0BEC5",
                "#B0BEC5",
                "#B0BEC5",
                "#B0BEC5",
                "#B0BEC5",
                "#B0BEC5",
                "#B0BEC5",
                "#B0BEC5",
                "#B0BEC5",
                "#B0BEC5",
                "#B0BEC5",
                "#B0BEC5",
                "#B0BEC5",
                "#B0BEC5",
                "#B0BEC5",
                "#B0BEC5",
                "#B0BEC5",
                "#B0BEC5",
                "#B0BEC5",
                "#B0BEC5",
                "#B0BEC5",
                "#B0BEC5",
                "#B0BEC5",
                "red",
                "#B0BEC5",
                "#B0BEC5",
                "#B0BEC5",
                "#B0BEC5",
                "#B0BEC5",
                "#B0BEC5",
                "#B0BEC5",
                "#B0BEC5",
                "#B0BEC5",
                "#B0BEC5",
                "#B0BEC5"
               ]
              ]
             }
            ],
            "label": "Topic 28",
            "method": "update"
           },
           {
            "args": [
             {
              "marker.color": [
               [
                "#B0BEC5",
                "#B0BEC5",
                "#B0BEC5",
                "#B0BEC5",
                "#B0BEC5",
                "#B0BEC5",
                "#B0BEC5",
                "#B0BEC5",
                "#B0BEC5",
                "#B0BEC5",
                "#B0BEC5",
                "#B0BEC5",
                "#B0BEC5",
                "#B0BEC5",
                "#B0BEC5",
                "#B0BEC5",
                "#B0BEC5",
                "#B0BEC5",
                "#B0BEC5",
                "#B0BEC5",
                "#B0BEC5",
                "#B0BEC5",
                "#B0BEC5",
                "#B0BEC5",
                "#B0BEC5",
                "#B0BEC5",
                "#B0BEC5",
                "#B0BEC5",
                "#B0BEC5",
                "red",
                "#B0BEC5",
                "#B0BEC5",
                "#B0BEC5",
                "#B0BEC5",
                "#B0BEC5",
                "#B0BEC5",
                "#B0BEC5",
                "#B0BEC5",
                "#B0BEC5",
                "#B0BEC5"
               ]
              ]
             }
            ],
            "label": "Topic 29",
            "method": "update"
           },
           {
            "args": [
             {
              "marker.color": [
               [
                "#B0BEC5",
                "#B0BEC5",
                "#B0BEC5",
                "#B0BEC5",
                "#B0BEC5",
                "#B0BEC5",
                "#B0BEC5",
                "#B0BEC5",
                "#B0BEC5",
                "#B0BEC5",
                "#B0BEC5",
                "#B0BEC5",
                "#B0BEC5",
                "#B0BEC5",
                "#B0BEC5",
                "#B0BEC5",
                "#B0BEC5",
                "#B0BEC5",
                "#B0BEC5",
                "#B0BEC5",
                "#B0BEC5",
                "#B0BEC5",
                "#B0BEC5",
                "#B0BEC5",
                "#B0BEC5",
                "#B0BEC5",
                "#B0BEC5",
                "#B0BEC5",
                "#B0BEC5",
                "#B0BEC5",
                "red",
                "#B0BEC5",
                "#B0BEC5",
                "#B0BEC5",
                "#B0BEC5",
                "#B0BEC5",
                "#B0BEC5",
                "#B0BEC5",
                "#B0BEC5",
                "#B0BEC5"
               ]
              ]
             }
            ],
            "label": "Topic 30",
            "method": "update"
           },
           {
            "args": [
             {
              "marker.color": [
               [
                "#B0BEC5",
                "#B0BEC5",
                "#B0BEC5",
                "#B0BEC5",
                "#B0BEC5",
                "#B0BEC5",
                "#B0BEC5",
                "#B0BEC5",
                "#B0BEC5",
                "#B0BEC5",
                "#B0BEC5",
                "#B0BEC5",
                "#B0BEC5",
                "#B0BEC5",
                "#B0BEC5",
                "#B0BEC5",
                "#B0BEC5",
                "#B0BEC5",
                "#B0BEC5",
                "#B0BEC5",
                "#B0BEC5",
                "#B0BEC5",
                "#B0BEC5",
                "#B0BEC5",
                "#B0BEC5",
                "#B0BEC5",
                "#B0BEC5",
                "#B0BEC5",
                "#B0BEC5",
                "#B0BEC5",
                "#B0BEC5",
                "red",
                "#B0BEC5",
                "#B0BEC5",
                "#B0BEC5",
                "#B0BEC5",
                "#B0BEC5",
                "#B0BEC5",
                "#B0BEC5",
                "#B0BEC5"
               ]
              ]
             }
            ],
            "label": "Topic 31",
            "method": "update"
           },
           {
            "args": [
             {
              "marker.color": [
               [
                "#B0BEC5",
                "#B0BEC5",
                "#B0BEC5",
                "#B0BEC5",
                "#B0BEC5",
                "#B0BEC5",
                "#B0BEC5",
                "#B0BEC5",
                "#B0BEC5",
                "#B0BEC5",
                "#B0BEC5",
                "#B0BEC5",
                "#B0BEC5",
                "#B0BEC5",
                "#B0BEC5",
                "#B0BEC5",
                "#B0BEC5",
                "#B0BEC5",
                "#B0BEC5",
                "#B0BEC5",
                "#B0BEC5",
                "#B0BEC5",
                "#B0BEC5",
                "#B0BEC5",
                "#B0BEC5",
                "#B0BEC5",
                "#B0BEC5",
                "#B0BEC5",
                "#B0BEC5",
                "#B0BEC5",
                "#B0BEC5",
                "#B0BEC5",
                "red",
                "#B0BEC5",
                "#B0BEC5",
                "#B0BEC5",
                "#B0BEC5",
                "#B0BEC5",
                "#B0BEC5",
                "#B0BEC5"
               ]
              ]
             }
            ],
            "label": "Topic 32",
            "method": "update"
           },
           {
            "args": [
             {
              "marker.color": [
               [
                "#B0BEC5",
                "#B0BEC5",
                "#B0BEC5",
                "#B0BEC5",
                "#B0BEC5",
                "#B0BEC5",
                "#B0BEC5",
                "#B0BEC5",
                "#B0BEC5",
                "#B0BEC5",
                "#B0BEC5",
                "#B0BEC5",
                "#B0BEC5",
                "#B0BEC5",
                "#B0BEC5",
                "#B0BEC5",
                "#B0BEC5",
                "#B0BEC5",
                "#B0BEC5",
                "#B0BEC5",
                "#B0BEC5",
                "#B0BEC5",
                "#B0BEC5",
                "#B0BEC5",
                "#B0BEC5",
                "#B0BEC5",
                "#B0BEC5",
                "#B0BEC5",
                "#B0BEC5",
                "#B0BEC5",
                "#B0BEC5",
                "#B0BEC5",
                "#B0BEC5",
                "red",
                "#B0BEC5",
                "#B0BEC5",
                "#B0BEC5",
                "#B0BEC5",
                "#B0BEC5",
                "#B0BEC5"
               ]
              ]
             }
            ],
            "label": "Topic 33",
            "method": "update"
           },
           {
            "args": [
             {
              "marker.color": [
               [
                "#B0BEC5",
                "#B0BEC5",
                "#B0BEC5",
                "#B0BEC5",
                "#B0BEC5",
                "#B0BEC5",
                "#B0BEC5",
                "#B0BEC5",
                "#B0BEC5",
                "#B0BEC5",
                "#B0BEC5",
                "#B0BEC5",
                "#B0BEC5",
                "#B0BEC5",
                "#B0BEC5",
                "#B0BEC5",
                "#B0BEC5",
                "#B0BEC5",
                "#B0BEC5",
                "#B0BEC5",
                "#B0BEC5",
                "#B0BEC5",
                "#B0BEC5",
                "#B0BEC5",
                "#B0BEC5",
                "#B0BEC5",
                "#B0BEC5",
                "#B0BEC5",
                "#B0BEC5",
                "#B0BEC5",
                "#B0BEC5",
                "#B0BEC5",
                "#B0BEC5",
                "#B0BEC5",
                "red",
                "#B0BEC5",
                "#B0BEC5",
                "#B0BEC5",
                "#B0BEC5",
                "#B0BEC5"
               ]
              ]
             }
            ],
            "label": "Topic 34",
            "method": "update"
           },
           {
            "args": [
             {
              "marker.color": [
               [
                "#B0BEC5",
                "#B0BEC5",
                "#B0BEC5",
                "#B0BEC5",
                "#B0BEC5",
                "#B0BEC5",
                "#B0BEC5",
                "#B0BEC5",
                "#B0BEC5",
                "#B0BEC5",
                "#B0BEC5",
                "#B0BEC5",
                "#B0BEC5",
                "#B0BEC5",
                "#B0BEC5",
                "#B0BEC5",
                "#B0BEC5",
                "#B0BEC5",
                "#B0BEC5",
                "#B0BEC5",
                "#B0BEC5",
                "#B0BEC5",
                "#B0BEC5",
                "#B0BEC5",
                "#B0BEC5",
                "#B0BEC5",
                "#B0BEC5",
                "#B0BEC5",
                "#B0BEC5",
                "#B0BEC5",
                "#B0BEC5",
                "#B0BEC5",
                "#B0BEC5",
                "#B0BEC5",
                "#B0BEC5",
                "red",
                "#B0BEC5",
                "#B0BEC5",
                "#B0BEC5",
                "#B0BEC5"
               ]
              ]
             }
            ],
            "label": "Topic 35",
            "method": "update"
           },
           {
            "args": [
             {
              "marker.color": [
               [
                "#B0BEC5",
                "#B0BEC5",
                "#B0BEC5",
                "#B0BEC5",
                "#B0BEC5",
                "#B0BEC5",
                "#B0BEC5",
                "#B0BEC5",
                "#B0BEC5",
                "#B0BEC5",
                "#B0BEC5",
                "#B0BEC5",
                "#B0BEC5",
                "#B0BEC5",
                "#B0BEC5",
                "#B0BEC5",
                "#B0BEC5",
                "#B0BEC5",
                "#B0BEC5",
                "#B0BEC5",
                "#B0BEC5",
                "#B0BEC5",
                "#B0BEC5",
                "#B0BEC5",
                "#B0BEC5",
                "#B0BEC5",
                "#B0BEC5",
                "#B0BEC5",
                "#B0BEC5",
                "#B0BEC5",
                "#B0BEC5",
                "#B0BEC5",
                "#B0BEC5",
                "#B0BEC5",
                "#B0BEC5",
                "#B0BEC5",
                "red",
                "#B0BEC5",
                "#B0BEC5",
                "#B0BEC5"
               ]
              ]
             }
            ],
            "label": "Topic 36",
            "method": "update"
           },
           {
            "args": [
             {
              "marker.color": [
               [
                "#B0BEC5",
                "#B0BEC5",
                "#B0BEC5",
                "#B0BEC5",
                "#B0BEC5",
                "#B0BEC5",
                "#B0BEC5",
                "#B0BEC5",
                "#B0BEC5",
                "#B0BEC5",
                "#B0BEC5",
                "#B0BEC5",
                "#B0BEC5",
                "#B0BEC5",
                "#B0BEC5",
                "#B0BEC5",
                "#B0BEC5",
                "#B0BEC5",
                "#B0BEC5",
                "#B0BEC5",
                "#B0BEC5",
                "#B0BEC5",
                "#B0BEC5",
                "#B0BEC5",
                "#B0BEC5",
                "#B0BEC5",
                "#B0BEC5",
                "#B0BEC5",
                "#B0BEC5",
                "#B0BEC5",
                "#B0BEC5",
                "#B0BEC5",
                "#B0BEC5",
                "#B0BEC5",
                "#B0BEC5",
                "#B0BEC5",
                "#B0BEC5",
                "red",
                "#B0BEC5",
                "#B0BEC5"
               ]
              ]
             }
            ],
            "label": "Topic 37",
            "method": "update"
           },
           {
            "args": [
             {
              "marker.color": [
               [
                "#B0BEC5",
                "#B0BEC5",
                "#B0BEC5",
                "#B0BEC5",
                "#B0BEC5",
                "#B0BEC5",
                "#B0BEC5",
                "#B0BEC5",
                "#B0BEC5",
                "#B0BEC5",
                "#B0BEC5",
                "#B0BEC5",
                "#B0BEC5",
                "#B0BEC5",
                "#B0BEC5",
                "#B0BEC5",
                "#B0BEC5",
                "#B0BEC5",
                "#B0BEC5",
                "#B0BEC5",
                "#B0BEC5",
                "#B0BEC5",
                "#B0BEC5",
                "#B0BEC5",
                "#B0BEC5",
                "#B0BEC5",
                "#B0BEC5",
                "#B0BEC5",
                "#B0BEC5",
                "#B0BEC5",
                "#B0BEC5",
                "#B0BEC5",
                "#B0BEC5",
                "#B0BEC5",
                "#B0BEC5",
                "#B0BEC5",
                "#B0BEC5",
                "#B0BEC5",
                "red",
                "#B0BEC5"
               ]
              ]
             }
            ],
            "label": "Topic 38",
            "method": "update"
           },
           {
            "args": [
             {
              "marker.color": [
               [
                "#B0BEC5",
                "#B0BEC5",
                "#B0BEC5",
                "#B0BEC5",
                "#B0BEC5",
                "#B0BEC5",
                "#B0BEC5",
                "#B0BEC5",
                "#B0BEC5",
                "#B0BEC5",
                "#B0BEC5",
                "#B0BEC5",
                "#B0BEC5",
                "#B0BEC5",
                "#B0BEC5",
                "#B0BEC5",
                "#B0BEC5",
                "#B0BEC5",
                "#B0BEC5",
                "#B0BEC5",
                "#B0BEC5",
                "#B0BEC5",
                "#B0BEC5",
                "#B0BEC5",
                "#B0BEC5",
                "#B0BEC5",
                "#B0BEC5",
                "#B0BEC5",
                "#B0BEC5",
                "#B0BEC5",
                "#B0BEC5",
                "#B0BEC5",
                "#B0BEC5",
                "#B0BEC5",
                "#B0BEC5",
                "#B0BEC5",
                "#B0BEC5",
                "#B0BEC5",
                "#B0BEC5",
                "red"
               ]
              ]
             }
            ],
            "label": "Topic 39",
            "method": "update"
           }
          ]
         }
        ],
        "template": {
         "data": {
          "bar": [
           {
            "error_x": {
             "color": "rgb(36,36,36)"
            },
            "error_y": {
             "color": "rgb(36,36,36)"
            },
            "marker": {
             "line": {
              "color": "white",
              "width": 0.5
             },
             "pattern": {
              "fillmode": "overlay",
              "size": 10,
              "solidity": 0.2
             }
            },
            "type": "bar"
           }
          ],
          "barpolar": [
           {
            "marker": {
             "line": {
              "color": "white",
              "width": 0.5
             },
             "pattern": {
              "fillmode": "overlay",
              "size": 10,
              "solidity": 0.2
             }
            },
            "type": "barpolar"
           }
          ],
          "carpet": [
           {
            "aaxis": {
             "endlinecolor": "rgb(36,36,36)",
             "gridcolor": "white",
             "linecolor": "white",
             "minorgridcolor": "white",
             "startlinecolor": "rgb(36,36,36)"
            },
            "baxis": {
             "endlinecolor": "rgb(36,36,36)",
             "gridcolor": "white",
             "linecolor": "white",
             "minorgridcolor": "white",
             "startlinecolor": "rgb(36,36,36)"
            },
            "type": "carpet"
           }
          ],
          "choropleth": [
           {
            "colorbar": {
             "outlinewidth": 1,
             "tickcolor": "rgb(36,36,36)",
             "ticks": "outside"
            },
            "type": "choropleth"
           }
          ],
          "contour": [
           {
            "colorbar": {
             "outlinewidth": 1,
             "tickcolor": "rgb(36,36,36)",
             "ticks": "outside"
            },
            "colorscale": [
             [
              0,
              "#440154"
             ],
             [
              0.1111111111111111,
              "#482878"
             ],
             [
              0.2222222222222222,
              "#3e4989"
             ],
             [
              0.3333333333333333,
              "#31688e"
             ],
             [
              0.4444444444444444,
              "#26828e"
             ],
             [
              0.5555555555555556,
              "#1f9e89"
             ],
             [
              0.6666666666666666,
              "#35b779"
             ],
             [
              0.7777777777777778,
              "#6ece58"
             ],
             [
              0.8888888888888888,
              "#b5de2b"
             ],
             [
              1,
              "#fde725"
             ]
            ],
            "type": "contour"
           }
          ],
          "contourcarpet": [
           {
            "colorbar": {
             "outlinewidth": 1,
             "tickcolor": "rgb(36,36,36)",
             "ticks": "outside"
            },
            "type": "contourcarpet"
           }
          ],
          "heatmap": [
           {
            "colorbar": {
             "outlinewidth": 1,
             "tickcolor": "rgb(36,36,36)",
             "ticks": "outside"
            },
            "colorscale": [
             [
              0,
              "#440154"
             ],
             [
              0.1111111111111111,
              "#482878"
             ],
             [
              0.2222222222222222,
              "#3e4989"
             ],
             [
              0.3333333333333333,
              "#31688e"
             ],
             [
              0.4444444444444444,
              "#26828e"
             ],
             [
              0.5555555555555556,
              "#1f9e89"
             ],
             [
              0.6666666666666666,
              "#35b779"
             ],
             [
              0.7777777777777778,
              "#6ece58"
             ],
             [
              0.8888888888888888,
              "#b5de2b"
             ],
             [
              1,
              "#fde725"
             ]
            ],
            "type": "heatmap"
           }
          ],
          "heatmapgl": [
           {
            "colorbar": {
             "outlinewidth": 1,
             "tickcolor": "rgb(36,36,36)",
             "ticks": "outside"
            },
            "colorscale": [
             [
              0,
              "#440154"
             ],
             [
              0.1111111111111111,
              "#482878"
             ],
             [
              0.2222222222222222,
              "#3e4989"
             ],
             [
              0.3333333333333333,
              "#31688e"
             ],
             [
              0.4444444444444444,
              "#26828e"
             ],
             [
              0.5555555555555556,
              "#1f9e89"
             ],
             [
              0.6666666666666666,
              "#35b779"
             ],
             [
              0.7777777777777778,
              "#6ece58"
             ],
             [
              0.8888888888888888,
              "#b5de2b"
             ],
             [
              1,
              "#fde725"
             ]
            ],
            "type": "heatmapgl"
           }
          ],
          "histogram": [
           {
            "marker": {
             "line": {
              "color": "white",
              "width": 0.6
             }
            },
            "type": "histogram"
           }
          ],
          "histogram2d": [
           {
            "colorbar": {
             "outlinewidth": 1,
             "tickcolor": "rgb(36,36,36)",
             "ticks": "outside"
            },
            "colorscale": [
             [
              0,
              "#440154"
             ],
             [
              0.1111111111111111,
              "#482878"
             ],
             [
              0.2222222222222222,
              "#3e4989"
             ],
             [
              0.3333333333333333,
              "#31688e"
             ],
             [
              0.4444444444444444,
              "#26828e"
             ],
             [
              0.5555555555555556,
              "#1f9e89"
             ],
             [
              0.6666666666666666,
              "#35b779"
             ],
             [
              0.7777777777777778,
              "#6ece58"
             ],
             [
              0.8888888888888888,
              "#b5de2b"
             ],
             [
              1,
              "#fde725"
             ]
            ],
            "type": "histogram2d"
           }
          ],
          "histogram2dcontour": [
           {
            "colorbar": {
             "outlinewidth": 1,
             "tickcolor": "rgb(36,36,36)",
             "ticks": "outside"
            },
            "colorscale": [
             [
              0,
              "#440154"
             ],
             [
              0.1111111111111111,
              "#482878"
             ],
             [
              0.2222222222222222,
              "#3e4989"
             ],
             [
              0.3333333333333333,
              "#31688e"
             ],
             [
              0.4444444444444444,
              "#26828e"
             ],
             [
              0.5555555555555556,
              "#1f9e89"
             ],
             [
              0.6666666666666666,
              "#35b779"
             ],
             [
              0.7777777777777778,
              "#6ece58"
             ],
             [
              0.8888888888888888,
              "#b5de2b"
             ],
             [
              1,
              "#fde725"
             ]
            ],
            "type": "histogram2dcontour"
           }
          ],
          "mesh3d": [
           {
            "colorbar": {
             "outlinewidth": 1,
             "tickcolor": "rgb(36,36,36)",
             "ticks": "outside"
            },
            "type": "mesh3d"
           }
          ],
          "parcoords": [
           {
            "line": {
             "colorbar": {
              "outlinewidth": 1,
              "tickcolor": "rgb(36,36,36)",
              "ticks": "outside"
             }
            },
            "type": "parcoords"
           }
          ],
          "pie": [
           {
            "automargin": true,
            "type": "pie"
           }
          ],
          "scatter": [
           {
            "fillpattern": {
             "fillmode": "overlay",
             "size": 10,
             "solidity": 0.2
            },
            "type": "scatter"
           }
          ],
          "scatter3d": [
           {
            "line": {
             "colorbar": {
              "outlinewidth": 1,
              "tickcolor": "rgb(36,36,36)",
              "ticks": "outside"
             }
            },
            "marker": {
             "colorbar": {
              "outlinewidth": 1,
              "tickcolor": "rgb(36,36,36)",
              "ticks": "outside"
             }
            },
            "type": "scatter3d"
           }
          ],
          "scattercarpet": [
           {
            "marker": {
             "colorbar": {
              "outlinewidth": 1,
              "tickcolor": "rgb(36,36,36)",
              "ticks": "outside"
             }
            },
            "type": "scattercarpet"
           }
          ],
          "scattergeo": [
           {
            "marker": {
             "colorbar": {
              "outlinewidth": 1,
              "tickcolor": "rgb(36,36,36)",
              "ticks": "outside"
             }
            },
            "type": "scattergeo"
           }
          ],
          "scattergl": [
           {
            "marker": {
             "colorbar": {
              "outlinewidth": 1,
              "tickcolor": "rgb(36,36,36)",
              "ticks": "outside"
             }
            },
            "type": "scattergl"
           }
          ],
          "scattermapbox": [
           {
            "marker": {
             "colorbar": {
              "outlinewidth": 1,
              "tickcolor": "rgb(36,36,36)",
              "ticks": "outside"
             }
            },
            "type": "scattermapbox"
           }
          ],
          "scatterpolar": [
           {
            "marker": {
             "colorbar": {
              "outlinewidth": 1,
              "tickcolor": "rgb(36,36,36)",
              "ticks": "outside"
             }
            },
            "type": "scatterpolar"
           }
          ],
          "scatterpolargl": [
           {
            "marker": {
             "colorbar": {
              "outlinewidth": 1,
              "tickcolor": "rgb(36,36,36)",
              "ticks": "outside"
             }
            },
            "type": "scatterpolargl"
           }
          ],
          "scatterternary": [
           {
            "marker": {
             "colorbar": {
              "outlinewidth": 1,
              "tickcolor": "rgb(36,36,36)",
              "ticks": "outside"
             }
            },
            "type": "scatterternary"
           }
          ],
          "surface": [
           {
            "colorbar": {
             "outlinewidth": 1,
             "tickcolor": "rgb(36,36,36)",
             "ticks": "outside"
            },
            "colorscale": [
             [
              0,
              "#440154"
             ],
             [
              0.1111111111111111,
              "#482878"
             ],
             [
              0.2222222222222222,
              "#3e4989"
             ],
             [
              0.3333333333333333,
              "#31688e"
             ],
             [
              0.4444444444444444,
              "#26828e"
             ],
             [
              0.5555555555555556,
              "#1f9e89"
             ],
             [
              0.6666666666666666,
              "#35b779"
             ],
             [
              0.7777777777777778,
              "#6ece58"
             ],
             [
              0.8888888888888888,
              "#b5de2b"
             ],
             [
              1,
              "#fde725"
             ]
            ],
            "type": "surface"
           }
          ],
          "table": [
           {
            "cells": {
             "fill": {
              "color": "rgb(237,237,237)"
             },
             "line": {
              "color": "white"
             }
            },
            "header": {
             "fill": {
              "color": "rgb(217,217,217)"
             },
             "line": {
              "color": "white"
             }
            },
            "type": "table"
           }
          ]
         },
         "layout": {
          "annotationdefaults": {
           "arrowhead": 0,
           "arrowwidth": 1
          },
          "autotypenumbers": "strict",
          "coloraxis": {
           "colorbar": {
            "outlinewidth": 1,
            "tickcolor": "rgb(36,36,36)",
            "ticks": "outside"
           }
          },
          "colorscale": {
           "diverging": [
            [
             0,
             "rgb(103,0,31)"
            ],
            [
             0.1,
             "rgb(178,24,43)"
            ],
            [
             0.2,
             "rgb(214,96,77)"
            ],
            [
             0.3,
             "rgb(244,165,130)"
            ],
            [
             0.4,
             "rgb(253,219,199)"
            ],
            [
             0.5,
             "rgb(247,247,247)"
            ],
            [
             0.6,
             "rgb(209,229,240)"
            ],
            [
             0.7,
             "rgb(146,197,222)"
            ],
            [
             0.8,
             "rgb(67,147,195)"
            ],
            [
             0.9,
             "rgb(33,102,172)"
            ],
            [
             1,
             "rgb(5,48,97)"
            ]
           ],
           "sequential": [
            [
             0,
             "#440154"
            ],
            [
             0.1111111111111111,
             "#482878"
            ],
            [
             0.2222222222222222,
             "#3e4989"
            ],
            [
             0.3333333333333333,
             "#31688e"
            ],
            [
             0.4444444444444444,
             "#26828e"
            ],
            [
             0.5555555555555556,
             "#1f9e89"
            ],
            [
             0.6666666666666666,
             "#35b779"
            ],
            [
             0.7777777777777778,
             "#6ece58"
            ],
            [
             0.8888888888888888,
             "#b5de2b"
            ],
            [
             1,
             "#fde725"
            ]
           ],
           "sequentialminus": [
            [
             0,
             "#440154"
            ],
            [
             0.1111111111111111,
             "#482878"
            ],
            [
             0.2222222222222222,
             "#3e4989"
            ],
            [
             0.3333333333333333,
             "#31688e"
            ],
            [
             0.4444444444444444,
             "#26828e"
            ],
            [
             0.5555555555555556,
             "#1f9e89"
            ],
            [
             0.6666666666666666,
             "#35b779"
            ],
            [
             0.7777777777777778,
             "#6ece58"
            ],
            [
             0.8888888888888888,
             "#b5de2b"
            ],
            [
             1,
             "#fde725"
            ]
           ]
          },
          "colorway": [
           "#1F77B4",
           "#FF7F0E",
           "#2CA02C",
           "#D62728",
           "#9467BD",
           "#8C564B",
           "#E377C2",
           "#7F7F7F",
           "#BCBD22",
           "#17BECF"
          ],
          "font": {
           "color": "rgb(36,36,36)"
          },
          "geo": {
           "bgcolor": "white",
           "lakecolor": "white",
           "landcolor": "white",
           "showlakes": true,
           "showland": true,
           "subunitcolor": "white"
          },
          "hoverlabel": {
           "align": "left"
          },
          "hovermode": "closest",
          "mapbox": {
           "style": "light"
          },
          "paper_bgcolor": "white",
          "plot_bgcolor": "white",
          "polar": {
           "angularaxis": {
            "gridcolor": "rgb(232,232,232)",
            "linecolor": "rgb(36,36,36)",
            "showgrid": false,
            "showline": true,
            "ticks": "outside"
           },
           "bgcolor": "white",
           "radialaxis": {
            "gridcolor": "rgb(232,232,232)",
            "linecolor": "rgb(36,36,36)",
            "showgrid": false,
            "showline": true,
            "ticks": "outside"
           }
          },
          "scene": {
           "xaxis": {
            "backgroundcolor": "white",
            "gridcolor": "rgb(232,232,232)",
            "gridwidth": 2,
            "linecolor": "rgb(36,36,36)",
            "showbackground": true,
            "showgrid": false,
            "showline": true,
            "ticks": "outside",
            "zeroline": false,
            "zerolinecolor": "rgb(36,36,36)"
           },
           "yaxis": {
            "backgroundcolor": "white",
            "gridcolor": "rgb(232,232,232)",
            "gridwidth": 2,
            "linecolor": "rgb(36,36,36)",
            "showbackground": true,
            "showgrid": false,
            "showline": true,
            "ticks": "outside",
            "zeroline": false,
            "zerolinecolor": "rgb(36,36,36)"
           },
           "zaxis": {
            "backgroundcolor": "white",
            "gridcolor": "rgb(232,232,232)",
            "gridwidth": 2,
            "linecolor": "rgb(36,36,36)",
            "showbackground": true,
            "showgrid": false,
            "showline": true,
            "ticks": "outside",
            "zeroline": false,
            "zerolinecolor": "rgb(36,36,36)"
           }
          },
          "shapedefaults": {
           "fillcolor": "black",
           "line": {
            "width": 0
           },
           "opacity": 0.3
          },
          "ternary": {
           "aaxis": {
            "gridcolor": "rgb(232,232,232)",
            "linecolor": "rgb(36,36,36)",
            "showgrid": false,
            "showline": true,
            "ticks": "outside"
           },
           "baxis": {
            "gridcolor": "rgb(232,232,232)",
            "linecolor": "rgb(36,36,36)",
            "showgrid": false,
            "showline": true,
            "ticks": "outside"
           },
           "bgcolor": "white",
           "caxis": {
            "gridcolor": "rgb(232,232,232)",
            "linecolor": "rgb(36,36,36)",
            "showgrid": false,
            "showline": true,
            "ticks": "outside"
           }
          },
          "title": {
           "x": 0.05
          },
          "xaxis": {
           "automargin": true,
           "gridcolor": "rgb(232,232,232)",
           "linecolor": "rgb(36,36,36)",
           "showgrid": false,
           "showline": true,
           "ticks": "outside",
           "title": {
            "standoff": 15
           },
           "zeroline": false,
           "zerolinecolor": "rgb(36,36,36)"
          },
          "yaxis": {
           "automargin": true,
           "gridcolor": "rgb(232,232,232)",
           "linecolor": "rgb(36,36,36)",
           "showgrid": false,
           "showline": true,
           "ticks": "outside",
           "title": {
            "standoff": 15
           },
           "zeroline": false,
           "zerolinecolor": "rgb(36,36,36)"
          }
         }
        },
        "title": {
         "font": {
          "color": "Black",
          "size": 22
         },
         "text": "<b>Intertopic Distance Map</b>",
         "x": 0.5,
         "xanchor": "center",
         "y": 0.95,
         "yanchor": "top"
        },
        "width": 650,
        "xaxis": {
         "anchor": "y",
         "domain": [
          0,
          1
         ],
         "range": [
          -4.428781688213348,
          13.57813572883606
         ],
         "title": {
          "text": ""
         },
         "visible": false
        },
        "yaxis": {
         "anchor": "x",
         "domain": [
          0,
          1
         ],
         "range": [
          -1.2155235886573792,
          13.391464281082154
         ],
         "title": {
          "text": ""
         },
         "visible": false
        }
       }
      }
     },
     "metadata": {},
     "output_type": "display_data"
    }
   ],
   "source": [
    "model.visualize_topics(custom_labels=True)"
   ]
  },
  {
   "cell_type": "code",
   "execution_count": 16,
   "metadata": {},
   "outputs": [
    {
     "data": {
      "application/vnd.plotly.v1+json": {
       "config": {
        "plotlyServerURL": "https://plot.ly"
       },
       "data": [
        {
         "marker": {
          "color": "#D55E00"
         },
         "orientation": "h",
         "type": "bar",
         "x": [
          0.010564502368606232,
          0.014810640228428476,
          0.014810640228428476,
          0.02181509223098023,
          0.023246032751191407
         ],
         "xaxis": "x",
         "y": [
          "people  ",
          "riot  ",
          "terrorist  ",
          "trump  ",
          "capitol  "
         ],
         "yaxis": "y"
        },
        {
         "marker": {
          "color": "#0072B2"
         },
         "orientation": "h",
         "type": "bar",
         "x": [
          0.012537123475805557,
          0.013109825780824022,
          0.013369664599725899,
          0.014891505319476821,
          0.02630987569106854
         ],
         "xaxis": "x2",
         "y": [
          "day  ",
          "love  ",
          "feel  ",
          "wa  ",
          "trump  "
         ],
         "yaxis": "y2"
        },
        {
         "marker": {
          "color": "#CC79A7"
         },
         "orientation": "h",
         "type": "bar",
         "x": [
          0.02055218026287048,
          0.023696578740672616,
          0.02398706560671916,
          0.02803236000856184,
          0.037655716004849044
         ],
         "xaxis": "x3",
         "y": [
          "trump  ",
          "election  ",
          "state  ",
          "ballot  ",
          "vote  "
         ],
         "yaxis": "y3"
        },
        {
         "marker": {
          "color": "#E69F00"
         },
         "orientation": "h",
         "type": "bar",
         "x": [
          0.02375612846894911,
          0.026106285951737133,
          0.026911625478289517,
          0.02759670257173162,
          0.0583782878909086
         ],
         "xaxis": "x4",
         "y": [
          "45 electoral  ",
          "vote  ",
          "manifest  ",
          "vote biden  ",
          "biden  "
         ],
         "yaxis": "y4"
        },
        {
         "marker": {
          "color": "#56B4E9"
         },
         "orientation": "h",
         "type": "bar",
         "x": [
          0.014609559381816408,
          0.015005125797779965,
          0.015147395909003391,
          0.019305716693653333,
          0.031084351918737464
         ],
         "xaxis": "x5",
         "y": [
          "student  ",
          "tax  ",
          "policy  ",
          "plan  ",
          "biden  "
         ],
         "yaxis": "y5"
        },
        {
         "marker": {
          "color": "#009E73"
         },
         "orientation": "h",
         "type": "bar",
         "x": [
          0.0183426067715491,
          0.026439121453869258,
          0.027299313828941747,
          0.04680270486188717,
          0.05567188716932629
         ],
         "xaxis": "x6",
         "y": [
          "support trump  ",
          "trump  ",
          "support  ",
          "trump supporter  ",
          "supporter  "
         ],
         "yaxis": "y6"
        },
        {
         "marker": {
          "color": "#F0E442"
         },
         "orientation": "h",
         "type": "bar",
         "x": [
          0.013790082055463374,
          0.01455196885356538,
          0.021900713831274028,
          0.02263861586103644,
          0.04396305944003719
         ],
         "xaxis": "x7",
         "y": [
          "year  ",
          "tax  ",
          "economy  ",
          "trump  ",
          "money  "
         ],
         "yaxis": "y7"
        },
        {
         "marker": {
          "color": "#D55E00"
         },
         "orientation": "h",
         "type": "bar",
         "x": [
          0.025513192233624152,
          0.03777720035160454,
          0.038800914545591,
          0.04613722328051488,
          0.05320895906613055
         ],
         "xaxis": "x8",
         "y": [
          "country  ",
          "real  ",
          "trump trump  ",
          "world  ",
          "trump  "
         ],
         "yaxis": "y8"
        },
        {
         "marker": {
          "color": "#0072B2"
         },
         "orientation": "h",
         "type": "bar",
         "x": [
          0.017790598671984525,
          0.017978439201143205,
          0.021504168809172705,
          0.024801489343209134,
          0.029058528178292874
         ],
         "xaxis": "x9",
         "y": [
          "office  ",
          "crazy  ",
          "term  ",
          "think  ",
          "trump  "
         ],
         "yaxis": "y9"
        },
        {
         "marker": {
          "color": "#CC79A7"
         },
         "orientation": "h",
         "type": "bar",
         "x": [
          0.01928648984019829,
          0.02211593155721318,
          0.02717154984668737,
          0.027427487444424876,
          0.050283726981445606
         ],
         "xaxis": "x10",
         "y": [
          "tr  ",
          "medium  ",
          "trump  ",
          "tweet  ",
          "twitter  "
         ],
         "yaxis": "y10"
        },
        {
         "marker": {
          "color": "#E69F00"
         },
         "orientation": "h",
         "type": "bar",
         "x": [
          0.024425489854947115,
          0.025946734562056036,
          0.026864714562582603,
          0.045937771256852625,
          0.05363959986928935
         ],
         "xaxis": "x11",
         "y": [
          "biden harris  ",
          "kamala harris  ",
          "black  ",
          "kamala  ",
          "harris  "
         ],
         "yaxis": "y11"
        },
        {
         "marker": {
          "color": "#56B4E9"
         },
         "orientation": "h",
         "type": "bar",
         "x": [
          0.03313464183642333,
          0.03844173515884492,
          0.04101560030156502,
          0.04162441472073621,
          0.050222794047460606
         ],
         "xaxis": "x12",
         "y": [
          "thewayiseeit thewayiseeit  ",
          "thewayiseeit  ",
          "joe  ",
          "joe biden  ",
          "biden  "
         ],
         "yaxis": "y12"
        },
        {
         "marker": {
          "color": "#009E73"
         },
         "orientation": "h",
         "type": "bar",
         "x": [
          0.019899059631402663,
          0.019899059631402663,
          0.022993232568898445,
          0.029332622554612522,
          0.09698361016593167
         ],
         "xaxis": "x13",
         "y": [
          "vaccination  ",
          "coronavirus vaccine  ",
          "biden  ",
          "vaccinated  ",
          "vaccine  "
         ],
         "yaxis": "y13"
        },
        {
         "marker": {
          "color": "#F0E442"
         },
         "orientation": "h",
         "type": "bar",
         "x": [
          0.033496442232833816,
          0.03436074897462934,
          0.06302615664652401,
          0.06302615664652401,
          0.06542592779734212
         ],
         "xaxis": "x14",
         "y": [
          "trump lawyer  ",
          "lawyer  ",
          "supreme  ",
          "supreme court  ",
          "court  "
         ],
         "yaxis": "y14"
        },
        {
         "marker": {
          "color": "#D55E00"
         },
         "orientation": "h",
         "type": "bar",
         "x": [
          0.017168784864779657,
          0.0188847699827378,
          0.019937566103787756,
          0.029880438220991748,
          0.0646223101257063
         ],
         "xaxis": "x15",
         "y": [
          "trump  ",
          "deep  ",
          "republicans  ",
          "gop  ",
          "party  "
         ],
         "yaxis": "y15"
        },
        {
         "marker": {
          "color": "#0072B2"
         },
         "orientation": "h",
         "type": "bar",
         "x": [
          0.016828979586367403,
          0.02199507734507445,
          0.026346209255503388,
          0.04092856308220148,
          0.061950858724063036
         ],
         "xaxis": "x16",
         "y": [
          "biden administration  ",
          "ha  ",
          "biden  ",
          "immigration  ",
          "border  "
         ],
         "yaxis": "y16"
        },
        {
         "marker": {
          "color": "#CC79A7"
         },
         "orientation": "h",
         "type": "bar",
         "x": [
          0.022001068659757237,
          0.022001068659757237,
          0.027019873805105767,
          0.05643722560778764,
          0.05952700205271324
         ],
         "xaxis": "x17",
         "y": [
          "supremacist  ",
          "white supremacist  ",
          "black  ",
          "racist  ",
          "white  "
         ],
         "yaxis": "y17"
        },
        {
         "marker": {
          "color": "#E69F00"
         },
         "orientation": "h",
         "type": "bar",
         "x": [
          0.0201079944049098,
          0.020840721358360296,
          0.020840721358360296,
          0.0238059126470506,
          0.039129083332927764
         ],
         "xaxis": "x18",
         "y": [
          "video  ",
          "film  ",
          "jack  ",
          "cnn  ",
          "woodward  "
         ],
         "yaxis": "y18"
        },
        {
         "marker": {
          "color": "#56B4E9"
         },
         "orientation": "h",
         "type": "bar",
         "x": [
          0.033399770697412304,
          0.03702504014875377,
          0.037978430306727436,
          0.043381716728241496,
          0.055666284495687175
         ],
         "xaxis": "x19",
         "y": [
          "losing  ",
          "conceded  ",
          "loses  ",
          "communist  ",
          "concede  "
         ],
         "yaxis": "y19"
        },
        {
         "marker": {
          "color": "#009E73"
         },
         "orientation": "h",
         "type": "bar",
         "x": [
          0.026578418187837807,
          0.027424045701391012,
          0.031247679942175692,
          0.031532576171350836,
          0.032181056830083266
         ],
         "xaxis": "x20",
         "y": [
          "lost  ",
          "won  ",
          "votes  ",
          "biden  ",
          "accept  "
         ],
         "yaxis": "y20"
        },
        {
         "marker": {
          "color": "#F0E442"
         },
         "orientation": "h",
         "type": "bar",
         "x": [
          0.02583493080733529,
          0.03162090428199965,
          0.03162090428199965,
          0.0592197805666569,
          0.08491561732161147
         ],
         "xaxis": "x21",
         "y": [
          "mitch  ",
          "moscow  ",
          "moscow mitch  ",
          "russia  ",
          "putin  "
         ],
         "yaxis": "y21"
        },
        {
         "marker": {
          "color": "#D55E00"
         },
         "orientation": "h",
         "type": "bar",
         "x": [
          0.029473300857447652,
          0.04140658828612887,
          0.051329897141832066,
          0.052559025430563476,
          0.06928050142627944
         ],
         "xaxis": "x22",
         "y": [
          "celebrant  ",
          "satan  ",
          "god  ",
          "devil  ",
          "christian  "
         ],
         "yaxis": "y22"
        },
        {
         "marker": {
          "color": "#0072B2"
         },
         "orientation": "h",
         "type": "bar",
         "x": [
          0.03699112832253575,
          0.04690497852814689,
          0.04754100785225957,
          0.06442274047076314,
          0.10643482997725455
         ],
         "xaxis": "x23",
         "y": [
          "deceive  ",
          "lying  ",
          "trump lie  ",
          "lied  ",
          "lie  "
         ],
         "yaxis": "y23"
        },
        {
         "marker": {
          "color": "#CC79A7"
         },
         "orientation": "h",
         "type": "bar",
         "x": [
          0.03614271941876987,
          0.04754309247177854,
          0.052099078628859465,
          0.055462240596191904,
          0.09638234623425707
         ],
         "xaxis": "x24",
         "y": [
          "email  ",
          "biden  ",
          "hunter  ",
          "hunter biden  ",
          "china  "
         ],
         "yaxis": "y24"
        },
        {
         "marker": {
          "color": "#E69F00"
         },
         "orientation": "h",
         "type": "bar",
         "x": [
          0.025886286554310006,
          0.02624733920157706,
          0.02801474312992224,
          0.03636724691256349,
          0.06902271140696732
         ],
         "xaxis": "x25",
         "y": [
          "severe  ",
          "end  ",
          "biden  ",
          "atf  ",
          "gun  "
         ],
         "yaxis": "y25"
        },
        {
         "marker": {
          "color": "#56B4E9"
         },
         "orientation": "h",
         "type": "bar",
         "x": [
          0.028801691129146673,
          0.03529736329580509,
          0.036867486287302034,
          0.04041162860101176,
          0.041765758232061946
         ],
         "xaxis": "x26",
         "y": [
          "ample  ",
          "dog  ",
          "lie  ",
          "biden  ",
          "fact  "
         ],
         "yaxis": "y26"
        },
        {
         "marker": {
          "color": "#009E73"
         },
         "orientation": "h",
         "type": "bar",
         "x": [
          0.031011247043690852,
          0.0335711560682772,
          0.0355941992211527,
          0.036816268707137036,
          0.03701402458692567
         ],
         "xaxis": "x27",
         "y": [
          "did  ",
          "trump  ",
          "year trump  ",
          "mean trump  ",
          "trump wa  "
         ],
         "yaxis": "y27"
        },
        {
         "marker": {
          "color": "#F0E442"
         },
         "orientation": "h",
         "type": "bar",
         "x": [
          0.03520617700399178,
          0.03924438166652965,
          0.03937926928774187,
          0.06359032940422948,
          0.09776537705773375
         ],
         "xaxis": "x28",
         "y": [
          "house  ",
          "senate  ",
          "trump impeachment  ",
          "impeachment  ",
          "impeached  "
         ],
         "yaxis": "y28"
        },
        {
         "marker": {
          "color": "#D55E00"
         },
         "orientation": "h",
         "type": "bar",
         "x": [
          0.04333801804815269,
          0.04379476938406559,
          0.04451663537107151,
          0.04946370478873859,
          0.06286669591761002
         ],
         "xaxis": "x29",
         "y": [
          "trump  ",
          "worse  ",
          "trump president  ",
          "ve  ",
          "awful  "
         ],
         "yaxis": "y29"
        },
        {
         "marker": {
          "color": "#0072B2"
         },
         "orientation": "h",
         "type": "bar",
         "x": [
          0.03328886471282013,
          0.03945619717514244,
          0.04140658828612887,
          0.04140658828612887,
          0.043288369993068565
         ],
         "xaxis": "x30",
         "y": [
          "hunter  ",
          "money  ",
          "mouth_face  ",
          "money mouth_face  ",
          "biden  "
         ],
         "yaxis": "y30"
        },
        {
         "marker": {
          "color": "#CC79A7"
         },
         "orientation": "h",
         "type": "bar",
         "x": [
          0.034214314400200625,
          0.03520386669852818,
          0.03702752912346291,
          0.04021240900479758,
          0.07776887023207152
         ],
         "xaxis": "x31",
         "y": [
          "biden debate  ",
          "trump biden  ",
          "biden  ",
          "final  ",
          "debate  "
         ],
         "yaxis": "y31"
        },
        {
         "marker": {
          "color": "#E69F00"
         },
         "orientation": "h",
         "type": "bar",
         "x": [
          0.03786925599784817,
          0.03786925599784817,
          0.03786925599784817,
          0.03786925599784817,
          0.04084752287406761
         ],
         "xaxis": "x32",
         "y": [
          "sorbo  ",
          "kevin sorbo  ",
          "mrs  ",
          "miss trump  ",
          "care  "
         ],
         "yaxis": "y32"
        },
        {
         "marker": {
          "color": "#56B4E9"
         },
         "orientation": "h",
         "type": "bar",
         "x": [
          0.157184339130506,
          0.16693339906278193,
          0.18691336420546498,
          0.18691336420546498,
          0.2505564741268814
         ],
         "xaxis": "x33",
         "y": [
          "pence  ",
          "trump 2020  ",
          "pence 2020  ",
          "trump pence  ",
          "2020  "
         ],
         "yaxis": "y33"
        },
        {
         "marker": {
          "color": "#009E73"
         },
         "orientation": "h",
         "type": "bar",
         "x": [
          0.029337791428218008,
          0.029337791428218008,
          0.035557178831344,
          0.03923803105419652,
          0.11698565175436214
         ],
         "xaxis": "x34",
         "y": [
          "tested  ",
          "virus did  ",
          "country  ",
          "infected  ",
          "virus  "
         ],
         "yaxis": "y34"
        },
        {
         "marker": {
          "color": "#F0E442"
         },
         "orientation": "h",
         "type": "bar",
         "x": [
          0.04446668735635831,
          0.05947227703336408,
          0.06659627600971062,
          0.0761981310524021,
          0.15743688119037486
         ],
         "xaxis": "x35",
         "y": [
          "pension  ",
          "pardon trump  ",
          "prison  ",
          "trump pardon  ",
          "pardon  "
         ],
         "yaxis": "y35"
        },
        {
         "marker": {
          "color": "#D55E00"
         },
         "orientation": "h",
         "type": "bar",
         "x": [
          0.03438281405777938,
          0.03656716123574451,
          0.03656716123574451,
          0.04297773226014182,
          0.04297773226014182
         ],
         "xaxis": "x36",
         "y": [
          "death  ",
          "remove trump  ",
          "library  ",
          "fix  ",
          "remove  "
         ],
         "yaxis": "y36"
        },
        {
         "marker": {
          "color": "#0072B2"
         },
         "orientation": "h",
         "type": "bar",
         "x": [
          0.028455606424825818,
          0.032395137652181265,
          0.03706587052888034,
          0.04051763328337582,
          0.1279770398864275
         ],
         "xaxis": "x37",
         "y": [
          "covid 19  ",
          "responsible  ",
          "trump covid  ",
          "ploy  ",
          "covid  "
         ],
         "yaxis": "y37"
        },
        {
         "marker": {
          "color": "#CC79A7"
         },
         "orientation": "h",
         "type": "bar",
         "x": [
          0.041364150394501226,
          0.041364150394501226,
          0.04731642570821835,
          0.053773589702541515,
          0.07463122380862475
         ],
         "xaxis": "x38",
         "y": [
          "leaving free  ",
          "2001  ",
          "trump did  ",
          "did trump  ",
          "parler  "
         ],
         "yaxis": "y38"
        },
        {
         "marker": {
          "color": "#E69F00"
         },
         "orientation": "h",
         "type": "bar",
         "x": [
          0.044417971296984674,
          0.05022143621258768,
          0.06125732104212717,
          0.08402929164587952,
          0.15283928660953364
         ],
         "xaxis": "x39",
         "y": [
          "wearing  ",
          "wearing mask  ",
          "wear mask  ",
          "wear  ",
          "mask  "
         ],
         "yaxis": "y39"
        },
        {
         "marker": {
          "color": "#56B4E9"
         },
         "orientation": "h",
         "type": "bar",
         "x": [
          0.04426242832334657,
          0.05144523946908897,
          0.053953956197620945,
          0.05488277655490511,
          0.07850163862679052
         ],
         "xaxis": "x40",
         "y": [
          "americans  ",
          "death  ",
          "people  ",
          "americans died  ",
          "died  "
         ],
         "yaxis": "y40"
        }
       ],
       "layout": {
        "annotations": [
         {
          "font": {
           "size": 16
          },
          "showarrow": false,
          "text": "Topic 0",
          "x": 0.0875,
          "xanchor": "center",
          "xref": "paper",
          "y": 1,
          "yanchor": "bottom",
          "yref": "paper"
         },
         {
          "font": {
           "size": 16
          },
          "showarrow": false,
          "text": "Topic 1",
          "x": 0.36250000000000004,
          "xanchor": "center",
          "xref": "paper",
          "y": 1,
          "yanchor": "bottom",
          "yref": "paper"
         },
         {
          "font": {
           "size": 16
          },
          "showarrow": false,
          "text": "Topic 2",
          "x": 0.6375000000000001,
          "xanchor": "center",
          "xref": "paper",
          "y": 1,
          "yanchor": "bottom",
          "yref": "paper"
         },
         {
          "font": {
           "size": 16
          },
          "showarrow": false,
          "text": "Topic 3",
          "x": 0.9125,
          "xanchor": "center",
          "xref": "paper",
          "y": 1,
          "yanchor": "bottom",
          "yref": "paper"
         },
         {
          "font": {
           "size": 16
          },
          "showarrow": false,
          "text": "Topic 4",
          "x": 0.0875,
          "xanchor": "center",
          "xref": "paper",
          "y": 0.8960000000000001,
          "yanchor": "bottom",
          "yref": "paper"
         },
         {
          "font": {
           "size": 16
          },
          "showarrow": false,
          "text": "Topic 5",
          "x": 0.36250000000000004,
          "xanchor": "center",
          "xref": "paper",
          "y": 0.8960000000000001,
          "yanchor": "bottom",
          "yref": "paper"
         },
         {
          "font": {
           "size": 16
          },
          "showarrow": false,
          "text": "Topic 6",
          "x": 0.6375000000000001,
          "xanchor": "center",
          "xref": "paper",
          "y": 0.8960000000000001,
          "yanchor": "bottom",
          "yref": "paper"
         },
         {
          "font": {
           "size": 16
          },
          "showarrow": false,
          "text": "Topic 7",
          "x": 0.9125,
          "xanchor": "center",
          "xref": "paper",
          "y": 0.8960000000000001,
          "yanchor": "bottom",
          "yref": "paper"
         },
         {
          "font": {
           "size": 16
          },
          "showarrow": false,
          "text": "Topic 8",
          "x": 0.0875,
          "xanchor": "center",
          "xref": "paper",
          "y": 0.792,
          "yanchor": "bottom",
          "yref": "paper"
         },
         {
          "font": {
           "size": 16
          },
          "showarrow": false,
          "text": "Topic 9",
          "x": 0.36250000000000004,
          "xanchor": "center",
          "xref": "paper",
          "y": 0.792,
          "yanchor": "bottom",
          "yref": "paper"
         },
         {
          "font": {
           "size": 16
          },
          "showarrow": false,
          "text": "Topic 10",
          "x": 0.6375000000000001,
          "xanchor": "center",
          "xref": "paper",
          "y": 0.792,
          "yanchor": "bottom",
          "yref": "paper"
         },
         {
          "font": {
           "size": 16
          },
          "showarrow": false,
          "text": "Topic 11",
          "x": 0.9125,
          "xanchor": "center",
          "xref": "paper",
          "y": 0.792,
          "yanchor": "bottom",
          "yref": "paper"
         },
         {
          "font": {
           "size": 16
          },
          "showarrow": false,
          "text": "Topic 12",
          "x": 0.0875,
          "xanchor": "center",
          "xref": "paper",
          "y": 0.688,
          "yanchor": "bottom",
          "yref": "paper"
         },
         {
          "font": {
           "size": 16
          },
          "showarrow": false,
          "text": "Topic 13",
          "x": 0.36250000000000004,
          "xanchor": "center",
          "xref": "paper",
          "y": 0.688,
          "yanchor": "bottom",
          "yref": "paper"
         },
         {
          "font": {
           "size": 16
          },
          "showarrow": false,
          "text": "Topic 14",
          "x": 0.6375000000000001,
          "xanchor": "center",
          "xref": "paper",
          "y": 0.688,
          "yanchor": "bottom",
          "yref": "paper"
         },
         {
          "font": {
           "size": 16
          },
          "showarrow": false,
          "text": "Topic 15",
          "x": 0.9125,
          "xanchor": "center",
          "xref": "paper",
          "y": 0.688,
          "yanchor": "bottom",
          "yref": "paper"
         },
         {
          "font": {
           "size": 16
          },
          "showarrow": false,
          "text": "Topic 16",
          "x": 0.0875,
          "xanchor": "center",
          "xref": "paper",
          "y": 0.5840000000000001,
          "yanchor": "bottom",
          "yref": "paper"
         },
         {
          "font": {
           "size": 16
          },
          "showarrow": false,
          "text": "Topic 17",
          "x": 0.36250000000000004,
          "xanchor": "center",
          "xref": "paper",
          "y": 0.5840000000000001,
          "yanchor": "bottom",
          "yref": "paper"
         },
         {
          "font": {
           "size": 16
          },
          "showarrow": false,
          "text": "Topic 18",
          "x": 0.6375000000000001,
          "xanchor": "center",
          "xref": "paper",
          "y": 0.5840000000000001,
          "yanchor": "bottom",
          "yref": "paper"
         },
         {
          "font": {
           "size": 16
          },
          "showarrow": false,
          "text": "Topic 19",
          "x": 0.9125,
          "xanchor": "center",
          "xref": "paper",
          "y": 0.5840000000000001,
          "yanchor": "bottom",
          "yref": "paper"
         },
         {
          "font": {
           "size": 16
          },
          "showarrow": false,
          "text": "Topic 20",
          "x": 0.0875,
          "xanchor": "center",
          "xref": "paper",
          "y": 0.48000000000000004,
          "yanchor": "bottom",
          "yref": "paper"
         },
         {
          "font": {
           "size": 16
          },
          "showarrow": false,
          "text": "Topic 21",
          "x": 0.36250000000000004,
          "xanchor": "center",
          "xref": "paper",
          "y": 0.48000000000000004,
          "yanchor": "bottom",
          "yref": "paper"
         },
         {
          "font": {
           "size": 16
          },
          "showarrow": false,
          "text": "Topic 22",
          "x": 0.6375000000000001,
          "xanchor": "center",
          "xref": "paper",
          "y": 0.48000000000000004,
          "yanchor": "bottom",
          "yref": "paper"
         },
         {
          "font": {
           "size": 16
          },
          "showarrow": false,
          "text": "Topic 23",
          "x": 0.9125,
          "xanchor": "center",
          "xref": "paper",
          "y": 0.48000000000000004,
          "yanchor": "bottom",
          "yref": "paper"
         },
         {
          "font": {
           "size": 16
          },
          "showarrow": false,
          "text": "Topic 24",
          "x": 0.0875,
          "xanchor": "center",
          "xref": "paper",
          "y": 0.376,
          "yanchor": "bottom",
          "yref": "paper"
         },
         {
          "font": {
           "size": 16
          },
          "showarrow": false,
          "text": "Topic 25",
          "x": 0.36250000000000004,
          "xanchor": "center",
          "xref": "paper",
          "y": 0.376,
          "yanchor": "bottom",
          "yref": "paper"
         },
         {
          "font": {
           "size": 16
          },
          "showarrow": false,
          "text": "Topic 26",
          "x": 0.6375000000000001,
          "xanchor": "center",
          "xref": "paper",
          "y": 0.376,
          "yanchor": "bottom",
          "yref": "paper"
         },
         {
          "font": {
           "size": 16
          },
          "showarrow": false,
          "text": "Topic 27",
          "x": 0.9125,
          "xanchor": "center",
          "xref": "paper",
          "y": 0.376,
          "yanchor": "bottom",
          "yref": "paper"
         },
         {
          "font": {
           "size": 16
          },
          "showarrow": false,
          "text": "Topic 28",
          "x": 0.0875,
          "xanchor": "center",
          "xref": "paper",
          "y": 0.272,
          "yanchor": "bottom",
          "yref": "paper"
         },
         {
          "font": {
           "size": 16
          },
          "showarrow": false,
          "text": "Topic 29",
          "x": 0.36250000000000004,
          "xanchor": "center",
          "xref": "paper",
          "y": 0.272,
          "yanchor": "bottom",
          "yref": "paper"
         },
         {
          "font": {
           "size": 16
          },
          "showarrow": false,
          "text": "Topic 30",
          "x": 0.6375000000000001,
          "xanchor": "center",
          "xref": "paper",
          "y": 0.272,
          "yanchor": "bottom",
          "yref": "paper"
         },
         {
          "font": {
           "size": 16
          },
          "showarrow": false,
          "text": "Topic 31",
          "x": 0.9125,
          "xanchor": "center",
          "xref": "paper",
          "y": 0.272,
          "yanchor": "bottom",
          "yref": "paper"
         },
         {
          "font": {
           "size": 16
          },
          "showarrow": false,
          "text": "Topic 32",
          "x": 0.0875,
          "xanchor": "center",
          "xref": "paper",
          "y": 0.168,
          "yanchor": "bottom",
          "yref": "paper"
         },
         {
          "font": {
           "size": 16
          },
          "showarrow": false,
          "text": "Topic 33",
          "x": 0.36250000000000004,
          "xanchor": "center",
          "xref": "paper",
          "y": 0.168,
          "yanchor": "bottom",
          "yref": "paper"
         },
         {
          "font": {
           "size": 16
          },
          "showarrow": false,
          "text": "Topic 34",
          "x": 0.6375000000000001,
          "xanchor": "center",
          "xref": "paper",
          "y": 0.168,
          "yanchor": "bottom",
          "yref": "paper"
         },
         {
          "font": {
           "size": 16
          },
          "showarrow": false,
          "text": "Topic 35",
          "x": 0.9125,
          "xanchor": "center",
          "xref": "paper",
          "y": 0.168,
          "yanchor": "bottom",
          "yref": "paper"
         },
         {
          "font": {
           "size": 16
          },
          "showarrow": false,
          "text": "Topic 36",
          "x": 0.0875,
          "xanchor": "center",
          "xref": "paper",
          "y": 0.064,
          "yanchor": "bottom",
          "yref": "paper"
         },
         {
          "font": {
           "size": 16
          },
          "showarrow": false,
          "text": "Topic 37",
          "x": 0.36250000000000004,
          "xanchor": "center",
          "xref": "paper",
          "y": 0.064,
          "yanchor": "bottom",
          "yref": "paper"
         },
         {
          "font": {
           "size": 16
          },
          "showarrow": false,
          "text": "Topic 38",
          "x": 0.6375000000000001,
          "xanchor": "center",
          "xref": "paper",
          "y": 0.064,
          "yanchor": "bottom",
          "yref": "paper"
         },
         {
          "font": {
           "size": 16
          },
          "showarrow": false,
          "text": "Topic 39",
          "x": 0.9125,
          "xanchor": "center",
          "xref": "paper",
          "y": 0.064,
          "yanchor": "bottom",
          "yref": "paper"
         }
        ],
        "height": 2500,
        "hoverlabel": {
         "bgcolor": "white",
         "font": {
          "family": "Rockwell",
          "size": 16
         }
        },
        "showlegend": false,
        "template": {
         "data": {
          "bar": [
           {
            "error_x": {
             "color": "#2a3f5f"
            },
            "error_y": {
             "color": "#2a3f5f"
            },
            "marker": {
             "line": {
              "color": "white",
              "width": 0.5
             },
             "pattern": {
              "fillmode": "overlay",
              "size": 10,
              "solidity": 0.2
             }
            },
            "type": "bar"
           }
          ],
          "barpolar": [
           {
            "marker": {
             "line": {
              "color": "white",
              "width": 0.5
             },
             "pattern": {
              "fillmode": "overlay",
              "size": 10,
              "solidity": 0.2
             }
            },
            "type": "barpolar"
           }
          ],
          "carpet": [
           {
            "aaxis": {
             "endlinecolor": "#2a3f5f",
             "gridcolor": "#C8D4E3",
             "linecolor": "#C8D4E3",
             "minorgridcolor": "#C8D4E3",
             "startlinecolor": "#2a3f5f"
            },
            "baxis": {
             "endlinecolor": "#2a3f5f",
             "gridcolor": "#C8D4E3",
             "linecolor": "#C8D4E3",
             "minorgridcolor": "#C8D4E3",
             "startlinecolor": "#2a3f5f"
            },
            "type": "carpet"
           }
          ],
          "choropleth": [
           {
            "colorbar": {
             "outlinewidth": 0,
             "ticks": ""
            },
            "type": "choropleth"
           }
          ],
          "contour": [
           {
            "colorbar": {
             "outlinewidth": 0,
             "ticks": ""
            },
            "colorscale": [
             [
              0,
              "#0d0887"
             ],
             [
              0.1111111111111111,
              "#46039f"
             ],
             [
              0.2222222222222222,
              "#7201a8"
             ],
             [
              0.3333333333333333,
              "#9c179e"
             ],
             [
              0.4444444444444444,
              "#bd3786"
             ],
             [
              0.5555555555555556,
              "#d8576b"
             ],
             [
              0.6666666666666666,
              "#ed7953"
             ],
             [
              0.7777777777777778,
              "#fb9f3a"
             ],
             [
              0.8888888888888888,
              "#fdca26"
             ],
             [
              1,
              "#f0f921"
             ]
            ],
            "type": "contour"
           }
          ],
          "contourcarpet": [
           {
            "colorbar": {
             "outlinewidth": 0,
             "ticks": ""
            },
            "type": "contourcarpet"
           }
          ],
          "heatmap": [
           {
            "colorbar": {
             "outlinewidth": 0,
             "ticks": ""
            },
            "colorscale": [
             [
              0,
              "#0d0887"
             ],
             [
              0.1111111111111111,
              "#46039f"
             ],
             [
              0.2222222222222222,
              "#7201a8"
             ],
             [
              0.3333333333333333,
              "#9c179e"
             ],
             [
              0.4444444444444444,
              "#bd3786"
             ],
             [
              0.5555555555555556,
              "#d8576b"
             ],
             [
              0.6666666666666666,
              "#ed7953"
             ],
             [
              0.7777777777777778,
              "#fb9f3a"
             ],
             [
              0.8888888888888888,
              "#fdca26"
             ],
             [
              1,
              "#f0f921"
             ]
            ],
            "type": "heatmap"
           }
          ],
          "heatmapgl": [
           {
            "colorbar": {
             "outlinewidth": 0,
             "ticks": ""
            },
            "colorscale": [
             [
              0,
              "#0d0887"
             ],
             [
              0.1111111111111111,
              "#46039f"
             ],
             [
              0.2222222222222222,
              "#7201a8"
             ],
             [
              0.3333333333333333,
              "#9c179e"
             ],
             [
              0.4444444444444444,
              "#bd3786"
             ],
             [
              0.5555555555555556,
              "#d8576b"
             ],
             [
              0.6666666666666666,
              "#ed7953"
             ],
             [
              0.7777777777777778,
              "#fb9f3a"
             ],
             [
              0.8888888888888888,
              "#fdca26"
             ],
             [
              1,
              "#f0f921"
             ]
            ],
            "type": "heatmapgl"
           }
          ],
          "histogram": [
           {
            "marker": {
             "pattern": {
              "fillmode": "overlay",
              "size": 10,
              "solidity": 0.2
             }
            },
            "type": "histogram"
           }
          ],
          "histogram2d": [
           {
            "colorbar": {
             "outlinewidth": 0,
             "ticks": ""
            },
            "colorscale": [
             [
              0,
              "#0d0887"
             ],
             [
              0.1111111111111111,
              "#46039f"
             ],
             [
              0.2222222222222222,
              "#7201a8"
             ],
             [
              0.3333333333333333,
              "#9c179e"
             ],
             [
              0.4444444444444444,
              "#bd3786"
             ],
             [
              0.5555555555555556,
              "#d8576b"
             ],
             [
              0.6666666666666666,
              "#ed7953"
             ],
             [
              0.7777777777777778,
              "#fb9f3a"
             ],
             [
              0.8888888888888888,
              "#fdca26"
             ],
             [
              1,
              "#f0f921"
             ]
            ],
            "type": "histogram2d"
           }
          ],
          "histogram2dcontour": [
           {
            "colorbar": {
             "outlinewidth": 0,
             "ticks": ""
            },
            "colorscale": [
             [
              0,
              "#0d0887"
             ],
             [
              0.1111111111111111,
              "#46039f"
             ],
             [
              0.2222222222222222,
              "#7201a8"
             ],
             [
              0.3333333333333333,
              "#9c179e"
             ],
             [
              0.4444444444444444,
              "#bd3786"
             ],
             [
              0.5555555555555556,
              "#d8576b"
             ],
             [
              0.6666666666666666,
              "#ed7953"
             ],
             [
              0.7777777777777778,
              "#fb9f3a"
             ],
             [
              0.8888888888888888,
              "#fdca26"
             ],
             [
              1,
              "#f0f921"
             ]
            ],
            "type": "histogram2dcontour"
           }
          ],
          "mesh3d": [
           {
            "colorbar": {
             "outlinewidth": 0,
             "ticks": ""
            },
            "type": "mesh3d"
           }
          ],
          "parcoords": [
           {
            "line": {
             "colorbar": {
              "outlinewidth": 0,
              "ticks": ""
             }
            },
            "type": "parcoords"
           }
          ],
          "pie": [
           {
            "automargin": true,
            "type": "pie"
           }
          ],
          "scatter": [
           {
            "fillpattern": {
             "fillmode": "overlay",
             "size": 10,
             "solidity": 0.2
            },
            "type": "scatter"
           }
          ],
          "scatter3d": [
           {
            "line": {
             "colorbar": {
              "outlinewidth": 0,
              "ticks": ""
             }
            },
            "marker": {
             "colorbar": {
              "outlinewidth": 0,
              "ticks": ""
             }
            },
            "type": "scatter3d"
           }
          ],
          "scattercarpet": [
           {
            "marker": {
             "colorbar": {
              "outlinewidth": 0,
              "ticks": ""
             }
            },
            "type": "scattercarpet"
           }
          ],
          "scattergeo": [
           {
            "marker": {
             "colorbar": {
              "outlinewidth": 0,
              "ticks": ""
             }
            },
            "type": "scattergeo"
           }
          ],
          "scattergl": [
           {
            "marker": {
             "colorbar": {
              "outlinewidth": 0,
              "ticks": ""
             }
            },
            "type": "scattergl"
           }
          ],
          "scattermapbox": [
           {
            "marker": {
             "colorbar": {
              "outlinewidth": 0,
              "ticks": ""
             }
            },
            "type": "scattermapbox"
           }
          ],
          "scatterpolar": [
           {
            "marker": {
             "colorbar": {
              "outlinewidth": 0,
              "ticks": ""
             }
            },
            "type": "scatterpolar"
           }
          ],
          "scatterpolargl": [
           {
            "marker": {
             "colorbar": {
              "outlinewidth": 0,
              "ticks": ""
             }
            },
            "type": "scatterpolargl"
           }
          ],
          "scatterternary": [
           {
            "marker": {
             "colorbar": {
              "outlinewidth": 0,
              "ticks": ""
             }
            },
            "type": "scatterternary"
           }
          ],
          "surface": [
           {
            "colorbar": {
             "outlinewidth": 0,
             "ticks": ""
            },
            "colorscale": [
             [
              0,
              "#0d0887"
             ],
             [
              0.1111111111111111,
              "#46039f"
             ],
             [
              0.2222222222222222,
              "#7201a8"
             ],
             [
              0.3333333333333333,
              "#9c179e"
             ],
             [
              0.4444444444444444,
              "#bd3786"
             ],
             [
              0.5555555555555556,
              "#d8576b"
             ],
             [
              0.6666666666666666,
              "#ed7953"
             ],
             [
              0.7777777777777778,
              "#fb9f3a"
             ],
             [
              0.8888888888888888,
              "#fdca26"
             ],
             [
              1,
              "#f0f921"
             ]
            ],
            "type": "surface"
           }
          ],
          "table": [
           {
            "cells": {
             "fill": {
              "color": "#EBF0F8"
             },
             "line": {
              "color": "white"
             }
            },
            "header": {
             "fill": {
              "color": "#C8D4E3"
             },
             "line": {
              "color": "white"
             }
            },
            "type": "table"
           }
          ]
         },
         "layout": {
          "annotationdefaults": {
           "arrowcolor": "#2a3f5f",
           "arrowhead": 0,
           "arrowwidth": 1
          },
          "autotypenumbers": "strict",
          "coloraxis": {
           "colorbar": {
            "outlinewidth": 0,
            "ticks": ""
           }
          },
          "colorscale": {
           "diverging": [
            [
             0,
             "#8e0152"
            ],
            [
             0.1,
             "#c51b7d"
            ],
            [
             0.2,
             "#de77ae"
            ],
            [
             0.3,
             "#f1b6da"
            ],
            [
             0.4,
             "#fde0ef"
            ],
            [
             0.5,
             "#f7f7f7"
            ],
            [
             0.6,
             "#e6f5d0"
            ],
            [
             0.7,
             "#b8e186"
            ],
            [
             0.8,
             "#7fbc41"
            ],
            [
             0.9,
             "#4d9221"
            ],
            [
             1,
             "#276419"
            ]
           ],
           "sequential": [
            [
             0,
             "#0d0887"
            ],
            [
             0.1111111111111111,
             "#46039f"
            ],
            [
             0.2222222222222222,
             "#7201a8"
            ],
            [
             0.3333333333333333,
             "#9c179e"
            ],
            [
             0.4444444444444444,
             "#bd3786"
            ],
            [
             0.5555555555555556,
             "#d8576b"
            ],
            [
             0.6666666666666666,
             "#ed7953"
            ],
            [
             0.7777777777777778,
             "#fb9f3a"
            ],
            [
             0.8888888888888888,
             "#fdca26"
            ],
            [
             1,
             "#f0f921"
            ]
           ],
           "sequentialminus": [
            [
             0,
             "#0d0887"
            ],
            [
             0.1111111111111111,
             "#46039f"
            ],
            [
             0.2222222222222222,
             "#7201a8"
            ],
            [
             0.3333333333333333,
             "#9c179e"
            ],
            [
             0.4444444444444444,
             "#bd3786"
            ],
            [
             0.5555555555555556,
             "#d8576b"
            ],
            [
             0.6666666666666666,
             "#ed7953"
            ],
            [
             0.7777777777777778,
             "#fb9f3a"
            ],
            [
             0.8888888888888888,
             "#fdca26"
            ],
            [
             1,
             "#f0f921"
            ]
           ]
          },
          "colorway": [
           "#636efa",
           "#EF553B",
           "#00cc96",
           "#ab63fa",
           "#FFA15A",
           "#19d3f3",
           "#FF6692",
           "#B6E880",
           "#FF97FF",
           "#FECB52"
          ],
          "font": {
           "color": "#2a3f5f"
          },
          "geo": {
           "bgcolor": "white",
           "lakecolor": "white",
           "landcolor": "white",
           "showlakes": true,
           "showland": true,
           "subunitcolor": "#C8D4E3"
          },
          "hoverlabel": {
           "align": "left"
          },
          "hovermode": "closest",
          "mapbox": {
           "style": "light"
          },
          "paper_bgcolor": "white",
          "plot_bgcolor": "white",
          "polar": {
           "angularaxis": {
            "gridcolor": "#EBF0F8",
            "linecolor": "#EBF0F8",
            "ticks": ""
           },
           "bgcolor": "white",
           "radialaxis": {
            "gridcolor": "#EBF0F8",
            "linecolor": "#EBF0F8",
            "ticks": ""
           }
          },
          "scene": {
           "xaxis": {
            "backgroundcolor": "white",
            "gridcolor": "#DFE8F3",
            "gridwidth": 2,
            "linecolor": "#EBF0F8",
            "showbackground": true,
            "ticks": "",
            "zerolinecolor": "#EBF0F8"
           },
           "yaxis": {
            "backgroundcolor": "white",
            "gridcolor": "#DFE8F3",
            "gridwidth": 2,
            "linecolor": "#EBF0F8",
            "showbackground": true,
            "ticks": "",
            "zerolinecolor": "#EBF0F8"
           },
           "zaxis": {
            "backgroundcolor": "white",
            "gridcolor": "#DFE8F3",
            "gridwidth": 2,
            "linecolor": "#EBF0F8",
            "showbackground": true,
            "ticks": "",
            "zerolinecolor": "#EBF0F8"
           }
          },
          "shapedefaults": {
           "line": {
            "color": "#2a3f5f"
           }
          },
          "ternary": {
           "aaxis": {
            "gridcolor": "#DFE8F3",
            "linecolor": "#A2B1C6",
            "ticks": ""
           },
           "baxis": {
            "gridcolor": "#DFE8F3",
            "linecolor": "#A2B1C6",
            "ticks": ""
           },
           "bgcolor": "white",
           "caxis": {
            "gridcolor": "#DFE8F3",
            "linecolor": "#A2B1C6",
            "ticks": ""
           }
          },
          "title": {
           "x": 0.05
          },
          "xaxis": {
           "automargin": true,
           "gridcolor": "#EBF0F8",
           "linecolor": "#EBF0F8",
           "ticks": "",
           "title": {
            "standoff": 15
           },
           "zerolinecolor": "#EBF0F8",
           "zerolinewidth": 2
          },
          "yaxis": {
           "automargin": true,
           "gridcolor": "#EBF0F8",
           "linecolor": "#EBF0F8",
           "ticks": "",
           "title": {
            "standoff": 15
           },
           "zerolinecolor": "#EBF0F8",
           "zerolinewidth": 2
          }
         }
        },
        "title": {
         "font": {
          "color": "Black",
          "size": 22
         },
         "text": "Topic Word Scores",
         "x": 0.5,
         "xanchor": "center",
         "yanchor": "top"
        },
        "width": 1000,
        "xaxis": {
         "anchor": "y",
         "domain": [
          0,
          0.175
         ],
         "showgrid": true
        },
        "xaxis10": {
         "anchor": "y10",
         "domain": [
          0.275,
          0.45
         ],
         "showgrid": true
        },
        "xaxis11": {
         "anchor": "y11",
         "domain": [
          0.55,
          0.7250000000000001
         ],
         "showgrid": true
        },
        "xaxis12": {
         "anchor": "y12",
         "domain": [
          0.825,
          1
         ],
         "showgrid": true
        },
        "xaxis13": {
         "anchor": "y13",
         "domain": [
          0,
          0.175
         ],
         "showgrid": true
        },
        "xaxis14": {
         "anchor": "y14",
         "domain": [
          0.275,
          0.45
         ],
         "showgrid": true
        },
        "xaxis15": {
         "anchor": "y15",
         "domain": [
          0.55,
          0.7250000000000001
         ],
         "showgrid": true
        },
        "xaxis16": {
         "anchor": "y16",
         "domain": [
          0.825,
          1
         ],
         "showgrid": true
        },
        "xaxis17": {
         "anchor": "y17",
         "domain": [
          0,
          0.175
         ],
         "showgrid": true
        },
        "xaxis18": {
         "anchor": "y18",
         "domain": [
          0.275,
          0.45
         ],
         "showgrid": true
        },
        "xaxis19": {
         "anchor": "y19",
         "domain": [
          0.55,
          0.7250000000000001
         ],
         "showgrid": true
        },
        "xaxis2": {
         "anchor": "y2",
         "domain": [
          0.275,
          0.45
         ],
         "showgrid": true
        },
        "xaxis20": {
         "anchor": "y20",
         "domain": [
          0.825,
          1
         ],
         "showgrid": true
        },
        "xaxis21": {
         "anchor": "y21",
         "domain": [
          0,
          0.175
         ],
         "showgrid": true
        },
        "xaxis22": {
         "anchor": "y22",
         "domain": [
          0.275,
          0.45
         ],
         "showgrid": true
        },
        "xaxis23": {
         "anchor": "y23",
         "domain": [
          0.55,
          0.7250000000000001
         ],
         "showgrid": true
        },
        "xaxis24": {
         "anchor": "y24",
         "domain": [
          0.825,
          1
         ],
         "showgrid": true
        },
        "xaxis25": {
         "anchor": "y25",
         "domain": [
          0,
          0.175
         ],
         "showgrid": true
        },
        "xaxis26": {
         "anchor": "y26",
         "domain": [
          0.275,
          0.45
         ],
         "showgrid": true
        },
        "xaxis27": {
         "anchor": "y27",
         "domain": [
          0.55,
          0.7250000000000001
         ],
         "showgrid": true
        },
        "xaxis28": {
         "anchor": "y28",
         "domain": [
          0.825,
          1
         ],
         "showgrid": true
        },
        "xaxis29": {
         "anchor": "y29",
         "domain": [
          0,
          0.175
         ],
         "showgrid": true
        },
        "xaxis3": {
         "anchor": "y3",
         "domain": [
          0.55,
          0.7250000000000001
         ],
         "showgrid": true
        },
        "xaxis30": {
         "anchor": "y30",
         "domain": [
          0.275,
          0.45
         ],
         "showgrid": true
        },
        "xaxis31": {
         "anchor": "y31",
         "domain": [
          0.55,
          0.7250000000000001
         ],
         "showgrid": true
        },
        "xaxis32": {
         "anchor": "y32",
         "domain": [
          0.825,
          1
         ],
         "showgrid": true
        },
        "xaxis33": {
         "anchor": "y33",
         "domain": [
          0,
          0.175
         ],
         "showgrid": true
        },
        "xaxis34": {
         "anchor": "y34",
         "domain": [
          0.275,
          0.45
         ],
         "showgrid": true
        },
        "xaxis35": {
         "anchor": "y35",
         "domain": [
          0.55,
          0.7250000000000001
         ],
         "showgrid": true
        },
        "xaxis36": {
         "anchor": "y36",
         "domain": [
          0.825,
          1
         ],
         "showgrid": true
        },
        "xaxis37": {
         "anchor": "y37",
         "domain": [
          0,
          0.175
         ],
         "showgrid": true
        },
        "xaxis38": {
         "anchor": "y38",
         "domain": [
          0.275,
          0.45
         ],
         "showgrid": true
        },
        "xaxis39": {
         "anchor": "y39",
         "domain": [
          0.55,
          0.7250000000000001
         ],
         "showgrid": true
        },
        "xaxis4": {
         "anchor": "y4",
         "domain": [
          0.825,
          1
         ],
         "showgrid": true
        },
        "xaxis40": {
         "anchor": "y40",
         "domain": [
          0.825,
          1
         ],
         "showgrid": true
        },
        "xaxis5": {
         "anchor": "y5",
         "domain": [
          0,
          0.175
         ],
         "showgrid": true
        },
        "xaxis6": {
         "anchor": "y6",
         "domain": [
          0.275,
          0.45
         ],
         "showgrid": true
        },
        "xaxis7": {
         "anchor": "y7",
         "domain": [
          0.55,
          0.7250000000000001
         ],
         "showgrid": true
        },
        "xaxis8": {
         "anchor": "y8",
         "domain": [
          0.825,
          1
         ],
         "showgrid": true
        },
        "xaxis9": {
         "anchor": "y9",
         "domain": [
          0,
          0.175
         ],
         "showgrid": true
        },
        "yaxis": {
         "anchor": "x",
         "domain": [
          0.936,
          1
         ],
         "showgrid": true
        },
        "yaxis10": {
         "anchor": "x10",
         "domain": [
          0.728,
          0.792
         ],
         "showgrid": true
        },
        "yaxis11": {
         "anchor": "x11",
         "domain": [
          0.728,
          0.792
         ],
         "showgrid": true
        },
        "yaxis12": {
         "anchor": "x12",
         "domain": [
          0.728,
          0.792
         ],
         "showgrid": true
        },
        "yaxis13": {
         "anchor": "x13",
         "domain": [
          0.624,
          0.688
         ],
         "showgrid": true
        },
        "yaxis14": {
         "anchor": "x14",
         "domain": [
          0.624,
          0.688
         ],
         "showgrid": true
        },
        "yaxis15": {
         "anchor": "x15",
         "domain": [
          0.624,
          0.688
         ],
         "showgrid": true
        },
        "yaxis16": {
         "anchor": "x16",
         "domain": [
          0.624,
          0.688
         ],
         "showgrid": true
        },
        "yaxis17": {
         "anchor": "x17",
         "domain": [
          0.52,
          0.5840000000000001
         ],
         "showgrid": true
        },
        "yaxis18": {
         "anchor": "x18",
         "domain": [
          0.52,
          0.5840000000000001
         ],
         "showgrid": true
        },
        "yaxis19": {
         "anchor": "x19",
         "domain": [
          0.52,
          0.5840000000000001
         ],
         "showgrid": true
        },
        "yaxis2": {
         "anchor": "x2",
         "domain": [
          0.936,
          1
         ],
         "showgrid": true
        },
        "yaxis20": {
         "anchor": "x20",
         "domain": [
          0.52,
          0.5840000000000001
         ],
         "showgrid": true
        },
        "yaxis21": {
         "anchor": "x21",
         "domain": [
          0.41600000000000004,
          0.48000000000000004
         ],
         "showgrid": true
        },
        "yaxis22": {
         "anchor": "x22",
         "domain": [
          0.41600000000000004,
          0.48000000000000004
         ],
         "showgrid": true
        },
        "yaxis23": {
         "anchor": "x23",
         "domain": [
          0.41600000000000004,
          0.48000000000000004
         ],
         "showgrid": true
        },
        "yaxis24": {
         "anchor": "x24",
         "domain": [
          0.41600000000000004,
          0.48000000000000004
         ],
         "showgrid": true
        },
        "yaxis25": {
         "anchor": "x25",
         "domain": [
          0.312,
          0.376
         ],
         "showgrid": true
        },
        "yaxis26": {
         "anchor": "x26",
         "domain": [
          0.312,
          0.376
         ],
         "showgrid": true
        },
        "yaxis27": {
         "anchor": "x27",
         "domain": [
          0.312,
          0.376
         ],
         "showgrid": true
        },
        "yaxis28": {
         "anchor": "x28",
         "domain": [
          0.312,
          0.376
         ],
         "showgrid": true
        },
        "yaxis29": {
         "anchor": "x29",
         "domain": [
          0.20800000000000002,
          0.272
         ],
         "showgrid": true
        },
        "yaxis3": {
         "anchor": "x3",
         "domain": [
          0.936,
          1
         ],
         "showgrid": true
        },
        "yaxis30": {
         "anchor": "x30",
         "domain": [
          0.20800000000000002,
          0.272
         ],
         "showgrid": true
        },
        "yaxis31": {
         "anchor": "x31",
         "domain": [
          0.20800000000000002,
          0.272
         ],
         "showgrid": true
        },
        "yaxis32": {
         "anchor": "x32",
         "domain": [
          0.20800000000000002,
          0.272
         ],
         "showgrid": true
        },
        "yaxis33": {
         "anchor": "x33",
         "domain": [
          0.10400000000000001,
          0.168
         ],
         "showgrid": true
        },
        "yaxis34": {
         "anchor": "x34",
         "domain": [
          0.10400000000000001,
          0.168
         ],
         "showgrid": true
        },
        "yaxis35": {
         "anchor": "x35",
         "domain": [
          0.10400000000000001,
          0.168
         ],
         "showgrid": true
        },
        "yaxis36": {
         "anchor": "x36",
         "domain": [
          0.10400000000000001,
          0.168
         ],
         "showgrid": true
        },
        "yaxis37": {
         "anchor": "x37",
         "domain": [
          0,
          0.064
         ],
         "showgrid": true
        },
        "yaxis38": {
         "anchor": "x38",
         "domain": [
          0,
          0.064
         ],
         "showgrid": true
        },
        "yaxis39": {
         "anchor": "x39",
         "domain": [
          0,
          0.064
         ],
         "showgrid": true
        },
        "yaxis4": {
         "anchor": "x4",
         "domain": [
          0.936,
          1
         ],
         "showgrid": true
        },
        "yaxis40": {
         "anchor": "x40",
         "domain": [
          0,
          0.064
         ],
         "showgrid": true
        },
        "yaxis5": {
         "anchor": "x5",
         "domain": [
          0.8320000000000001,
          0.8960000000000001
         ],
         "showgrid": true
        },
        "yaxis6": {
         "anchor": "x6",
         "domain": [
          0.8320000000000001,
          0.8960000000000001
         ],
         "showgrid": true
        },
        "yaxis7": {
         "anchor": "x7",
         "domain": [
          0.8320000000000001,
          0.8960000000000001
         ],
         "showgrid": true
        },
        "yaxis8": {
         "anchor": "x8",
         "domain": [
          0.8320000000000001,
          0.8960000000000001
         ],
         "showgrid": true
        },
        "yaxis9": {
         "anchor": "x9",
         "domain": [
          0.728,
          0.792
         ],
         "showgrid": true
        }
       }
      }
     },
     "metadata": {},
     "output_type": "display_data"
    }
   ],
   "source": [
    "model.visualize_barchart(custom_labels=True, top_n_topics=43)"
   ]
  },
  {
   "cell_type": "markdown",
   "metadata": {},
   "source": [
    "## Visualisation of word distribution"
   ]
  },
  {
   "cell_type": "code",
   "execution_count": 17,
   "metadata": {},
   "outputs": [
    {
     "data": {
      "application/vnd.plotly.v1+json": {
       "config": {
        "plotlyServerURL": "https://plot.ly"
       },
       "data": [
        {
         "hovertext": "<b>Topic -1</b>:trump_biden_wa_president_joe_ha_ju",
         "line": {
          "color": "black",
          "width": 1.5
         },
         "mode": "lines+lines",
         "name": "",
         "opacity": 0.1,
         "type": "scatter",
         "x": [
          1,
          2,
          3,
          4,
          5,
          6,
          7,
          8,
          9,
          10
         ],
         "y": [
          0.016527712931743804,
          0.016126159564668018,
          0.00969886224877698,
          0.009377526725724894,
          0.007573743134556148,
          0.007565921861508254,
          0.007296191690576236,
          0.0072602110800479795,
          0.006926501339146396,
          0.006731874984810943
         ]
        },
        {
         "hovertext": "<b>Topic 0</b>:capitol_trump_terrorist_riot_people",
         "line": {
          "color": "black",
          "width": 1.5
         },
         "mode": "lines+lines",
         "name": "",
         "opacity": 0.1,
         "type": "scatter",
         "x": [
          1,
          2,
          3,
          4,
          5,
          6,
          7,
          8,
          9,
          10
         ],
         "y": [
          0.023246032751191407,
          0.02181509223098023,
          0.014810640228428476,
          0.014810640228428476,
          0.010564502368606232,
          0.010333597270397498,
          0.009942718772767064,
          0.009194575771099694,
          0.00881753506835877,
          0.00881753506835877
         ]
        },
        {
         "hovertext": "<b>Topic 1</b>:trump_wa_feel_love_day_eyes_biden_h",
         "line": {
          "color": "black",
          "width": 1.5
         },
         "mode": "lines+lines",
         "name": "",
         "opacity": 0.1,
         "type": "scatter",
         "x": [
          1,
          2,
          3,
          4,
          5,
          6,
          7,
          8,
          9,
          10
         ],
         "y": [
          0.02630987569106854,
          0.014891505319476821,
          0.013369664599725899,
          0.013109825780824022,
          0.012537123475805557,
          0.012373397327738995,
          0.01225489650670068,
          0.011779533132212208,
          0.011779533132212208,
          0.011586478806519829
         ]
        },
        {
         "hovertext": "<b>Topic 2</b>:vote_ballot_state_election_trump_ma",
         "line": {
          "color": "black",
          "width": 1.5
         },
         "mode": "lines+lines",
         "name": "",
         "opacity": 0.1,
         "type": "scatter",
         "x": [
          1,
          2,
          3,
          4,
          5,
          6,
          7,
          8,
          9,
          10
         ],
         "y": [
          0.037655716004849044,
          0.02803236000856184,
          0.02398706560671916,
          0.023696578740672616,
          0.02055218026287048,
          0.020138597983212,
          0.019188272503616023,
          0.01894097032937072,
          0.018384590221908928,
          0.015656992485010464
         ]
        },
        {
         "hovertext": "<b>Topic 3</b>:biden_vote biden_manifest_vote_45 e",
         "line": {
          "color": "black",
          "width": 1.5
         },
         "mode": "lines+lines",
         "name": "",
         "opacity": 0.1,
         "type": "scatter",
         "x": [
          1,
          2,
          3,
          4,
          5,
          6,
          7,
          8,
          9,
          10
         ],
         "y": [
          0.0583782878909086,
          0.02759670257173162,
          0.026911625478289517,
          0.026106285951737133,
          0.02375612846894911,
          0.02375612846894911,
          0.02375612846894911,
          0.021050846351942494,
          0.020663559189066517,
          0.01886382897825532
         ]
        },
        {
         "hovertext": "<b>Topic 4</b>:biden_plan_policy_tax_student_debt_",
         "line": {
          "color": "black",
          "width": 1.5
         },
         "mode": "lines+lines",
         "name": "",
         "opacity": 0.1,
         "type": "scatter",
         "x": [
          1,
          2,
          3,
          4,
          5,
          6,
          7,
          8,
          9,
          10
         ],
         "y": [
          0.031084351918737464,
          0.019305716693653333,
          0.015147395909003391,
          0.015005125797779965,
          0.014609559381816408,
          0.014185824849370806,
          0.013913111025058456,
          0.013819079195494284,
          0.012580463245679371,
          0.012286260620460633
         ]
        },
        {
         "hovertext": "<b>Topic 5</b>:supporter_trump supporter_support_t",
         "line": {
          "color": "black",
          "width": 1.5
         },
         "mode": "lines+lines",
         "name": "",
         "opacity": 0.1,
         "type": "scatter",
         "x": [
          1,
          2,
          3,
          4,
          5,
          6,
          7,
          8,
          9,
          10
         ],
         "y": [
          0.05567188716932629,
          0.04680270486188717,
          0.027299313828941747,
          0.026439121453869258,
          0.0183426067715491,
          0.015485393397045423,
          0.014359978373243387,
          0.014005923194904167,
          0.013470362680611421,
          0.013154061886853004
         ]
        },
        {
         "hovertext": "<b>Topic 6</b>:money_trump_economy_tax_year_like_e",
         "line": {
          "color": "black",
          "width": 1.5
         },
         "mode": "lines+lines",
         "name": "",
         "opacity": 0.1,
         "type": "scatter",
         "x": [
          1,
          2,
          3,
          4,
          5,
          6,
          7,
          8,
          9,
          10
         ],
         "y": [
          0.04396305944003719,
          0.02263861586103644,
          0.021900713831274028,
          0.01455196885356538,
          0.013790082055463374,
          0.013259437276855406,
          0.012815620248673195,
          0.012815620248673195,
          0.01220053145716618,
          0.01220053145716618
         ]
        },
        {
         "hovertext": "<b>Topic 7</b>:trump_world_trump trump_real_countr",
         "line": {
          "color": "black",
          "width": 1.5
         },
         "mode": "lines+lines",
         "name": "",
         "opacity": 0.1,
         "type": "scatter",
         "x": [
          1,
          2,
          3,
          4,
          5,
          6,
          7,
          8,
          9,
          10
         ],
         "y": [
          0.05320895906613055,
          0.04613722328051488,
          0.038800914545591,
          0.03777720035160454,
          0.025513192233624152,
          0.02464474601772344,
          0.02346191547570514,
          0.02346191547570514,
          0.0231270722579757,
          0.022545220218597322
         ]
        },
        {
         "hovertext": "<b>Topic 8</b>:trump_think_term_crazy_office_like ",
         "line": {
          "color": "black",
          "width": 1.5
         },
         "mode": "lines+lines",
         "name": "",
         "opacity": 0.1,
         "type": "scatter",
         "x": [
          1,
          2,
          3,
          4,
          5,
          6,
          7,
          8,
          9,
          10
         ],
         "y": [
          0.029058528178292874,
          0.024801489343209134,
          0.021504168809172705,
          0.017978439201143205,
          0.017790598671984525,
          0.017790598671984525,
          0.01744514759201549,
          0.01667224154618197,
          0.01508362203643392,
          0.01508362203643392
         ]
        },
        {
         "hovertext": "<b>Topic 9</b>:twitter_tweet_trump_medium_tr_retwe",
         "line": {
          "color": "black",
          "width": 1.5
         },
         "mode": "lines+lines",
         "name": "",
         "opacity": 0.1,
         "type": "scatter",
         "x": [
          1,
          2,
          3,
          4,
          5,
          6,
          7,
          8,
          9,
          10
         ],
         "y": [
          0.050283726981445606,
          0.027427487444424876,
          0.02717154984668737,
          0.02211593155721318,
          0.01928648984019829,
          0.01853293526444017,
          0.017398072645770705,
          0.017338478227811406,
          0.01587733326544815,
          0.015127882594521936
         ]
        },
        {
         "hovertext": "<b>Topic 10</b>:harris_kamala_black_kamala harris_",
         "line": {
          "color": "black",
          "width": 1.5
         },
         "mode": "lines+lines",
         "name": "",
         "opacity": 0.1,
         "type": "scatter",
         "x": [
          1,
          2,
          3,
          4,
          5,
          6,
          7,
          8,
          9,
          10
         ],
         "y": [
          0.05363959986928935,
          0.045937771256852625,
          0.026864714562582603,
          0.025946734562056036,
          0.024425489854947115,
          0.02427856855101078,
          0.022206969810527413,
          0.022134159357241362,
          0.015030305308062512,
          0.013455002222337614
         ]
        },
        {
         "hovertext": "<b>Topic 11</b>:biden_joe biden_joe_thewayiseeit_t",
         "line": {
          "color": "black",
          "width": 1.5
         },
         "mode": "lines+lines",
         "name": "",
         "opacity": 0.1,
         "type": "scatter",
         "x": [
          1,
          2,
          3,
          4,
          5,
          6,
          7,
          8,
          9,
          10
         ],
         "y": [
          0.050222794047460606,
          0.04162441472073621,
          0.04101560030156502,
          0.03844173515884492,
          0.03313464183642333,
          0.030758529505038535,
          0.02502839128829233,
          0.024809156857415294,
          0.022530515875923442,
          0.02173218512471976
         ]
        },
        {
         "hovertext": "<b>Topic 12</b>:vaccine_vaccinated_biden_coronavir",
         "line": {
          "color": "black",
          "width": 1.5
         },
         "mode": "lines+lines",
         "name": "",
         "opacity": 0.1,
         "type": "scatter",
         "x": [
          1,
          2,
          3,
          4,
          5,
          6,
          7,
          8,
          9,
          10
         ],
         "y": [
          0.09698361016593167,
          0.029332622554612522,
          0.022993232568898445,
          0.019899059631402663,
          0.019899059631402663,
          0.019899059631402663,
          0.019734379988824227,
          0.01914900218479836,
          0.017458946895345967,
          0.01559538284120046
         ]
        },
        {
         "hovertext": "<b>Topic 13</b>:court_supreme court_supreme_lawyer",
         "line": {
          "color": "black",
          "width": 1.5
         },
         "mode": "lines+lines",
         "name": "",
         "opacity": 0.1,
         "type": "scatter",
         "x": [
          1,
          2,
          3,
          4,
          5,
          6,
          7,
          8,
          9,
          10
         ],
         "y": [
          0.06542592779734212,
          0.06302615664652401,
          0.06302615664652401,
          0.03436074897462934,
          0.033496442232833816,
          0.031684048497654195,
          0.027737731893855113,
          0.023044034438278398,
          0.020787893167337833,
          0.02075290687692534
         ]
        },
        {
         "hovertext": "<b>Topic 14</b>:party_gop_republicans_deep_trump_d",
         "line": {
          "color": "black",
          "width": 1.5
         },
         "mode": "lines+lines",
         "name": "",
         "opacity": 0.1,
         "type": "scatter",
         "x": [
          1,
          2,
          3,
          4,
          5,
          6,
          7,
          8,
          9,
          10
         ],
         "y": [
          0.0646223101257063,
          0.029880438220991748,
          0.019937566103787756,
          0.0188847699827378,
          0.017168784864779657,
          0.01715517394123402,
          0.014973763695017498,
          0.014973763695017498,
          0.013536211908489339,
          0.012815992713967874
         ]
        },
        {
         "hovertext": "<b>Topic 15</b>:border_immigration_biden_ha_biden ",
         "line": {
          "color": "black",
          "width": 1.5
         },
         "mode": "lines+lines",
         "name": "",
         "opacity": 0.1,
         "type": "scatter",
         "x": [
          1,
          2,
          3,
          4,
          5,
          6,
          7,
          8,
          9,
          10
         ],
         "y": [
          0.061950858724063036,
          0.04092856308220148,
          0.026346209255503388,
          0.02199507734507445,
          0.016828979586367403,
          0.01628734626274828,
          0.016223192590533682,
          0.015684684226531683,
          0.01565281067919289,
          0.015559358212370639
         ]
        },
        {
         "hovertext": "<b>Topic 16</b>:white_racist_black_white supremaci",
         "line": {
          "color": "black",
          "width": 1.5
         },
         "mode": "lines+lines",
         "name": "",
         "opacity": 0.1,
         "type": "scatter",
         "x": [
          1,
          2,
          3,
          4,
          5,
          6,
          7,
          8,
          9,
          10
         ],
         "y": [
          0.05952700205271324,
          0.05643722560778764,
          0.027019873805105767,
          0.022001068659757237,
          0.022001068659757237,
          0.0200019176807499,
          0.019723930393722555,
          0.019723930393722555,
          0.018777275586991736,
          0.017444681796505535
         ]
        },
        {
         "hovertext": "<b>Topic 17</b>:woodward_cnn_jack_film_video_trump",
         "line": {
          "color": "black",
          "width": 1.5
         },
         "mode": "lines+lines",
         "name": "",
         "opacity": 0.1,
         "type": "scatter",
         "x": [
          1,
          2,
          3,
          4,
          5,
          6,
          7,
          8,
          9,
          10
         ],
         "y": [
          0.039129083332927764,
          0.0238059126470506,
          0.020840721358360296,
          0.020840721358360296,
          0.0201079944049098,
          0.019376370966382877,
          0.01674658623212063,
          0.01621593300034922,
          0.01621593300034922,
          0.01621593300034922
         ]
        },
        {
         "hovertext": "<b>Topic 18</b>:concede_communist_loses_conceded_l",
         "line": {
          "color": "black",
          "width": 1.5
         },
         "mode": "lines+lines",
         "name": "",
         "opacity": 0.1,
         "type": "scatter",
         "x": [
          1,
          2,
          3,
          4,
          5,
          6,
          7,
          8,
          9,
          10
         ],
         "y": [
          0.055666284495687175,
          0.043381716728241496,
          0.037978430306727436,
          0.03702504014875377,
          0.033399770697412304,
          0.030613574987242622,
          0.02926177964813086,
          0.027683165447450832,
          0.027683165447450832,
          0.027683165447450832
         ]
        },
        {
         "hovertext": "<b>Topic 19</b>:accept_biden_votes_won_lost_biden ",
         "line": {
          "color": "black",
          "width": 1.5
         },
         "mode": "lines+lines",
         "name": "",
         "opacity": 0.1,
         "type": "scatter",
         "x": [
          1,
          2,
          3,
          4,
          5,
          6,
          7,
          8,
          9,
          10
         ],
         "y": [
          0.032181056830083266,
          0.031532576171350836,
          0.031247679942175692,
          0.027424045701391012,
          0.026578418187837807,
          0.026260655964236407,
          0.02250442294643919,
          0.022295899189892103,
          0.019986365720777794,
          0.019424565100874935
         ]
        },
        {
         "hovertext": "<b>Topic 20</b>:putin_russia_moscow mitch_moscow_m",
         "line": {
          "color": "black",
          "width": 1.5
         },
         "mode": "lines+lines",
         "name": "",
         "opacity": 0.1,
         "type": "scatter",
         "x": [
          1,
          2,
          3,
          4,
          5,
          6,
          7,
          8,
          9,
          10
         ],
         "y": [
          0.08491561732161147,
          0.0592197805666569,
          0.03162090428199965,
          0.03162090428199965,
          0.02583493080733529,
          0.024326147722578306,
          0.02315382523096813,
          0.022507829402601116,
          0.022507829402601116,
          0.022507829402601116
         ]
        },
        {
         "hovertext": "<b>Topic 21</b>:christian_devil_god_satan_celebran",
         "line": {
          "color": "black",
          "width": 1.5
         },
         "mode": "lines+lines",
         "name": "",
         "opacity": 0.1,
         "type": "scatter",
         "x": [
          1,
          2,
          3,
          4,
          5,
          6,
          7,
          8,
          9,
          10
         ],
         "y": [
          0.06928050142627944,
          0.052559025430563476,
          0.051329897141832066,
          0.04140658828612887,
          0.029473300857447652,
          0.029473300857447652,
          0.029473300857447652,
          0.029473300857447652,
          0.02844495318541569,
          0.027604392190752582
         ]
        },
        {
         "hovertext": "<b>Topic 22</b>:lie_lied_trump lie_lying_deceive_d",
         "line": {
          "color": "black",
          "width": 1.5
         },
         "mode": "lines+lines",
         "name": "",
         "opacity": 0.1,
         "type": "scatter",
         "x": [
          1,
          2,
          3,
          4,
          5,
          6,
          7,
          8,
          9,
          10
         ],
         "y": [
          0.10643482997725455,
          0.06442274047076314,
          0.04754100785225957,
          0.04690497852814689,
          0.03699112832253575,
          0.03699112832253575,
          0.03699112832253575,
          0.03699112832253575,
          0.03699112832253575,
          0.03699112832253575
         ]
        },
        {
         "hovertext": "<b>Topic 23</b>:china_hunter biden_hunter_biden_em",
         "line": {
          "color": "black",
          "width": 1.5
         },
         "mode": "lines+lines",
         "name": "",
         "opacity": 0.1,
         "type": "scatter",
         "x": [
          1,
          2,
          3,
          4,
          5,
          6,
          7,
          8,
          9,
          10
         ],
         "y": [
          0.09638234623425707,
          0.055462240596191904,
          0.052099078628859465,
          0.04754309247177854,
          0.03614271941876987,
          0.030751660894638155,
          0.030751660894638155,
          0.030751660894638155,
          0.027419347001727695,
          0.027419347001727695
         ]
        },
        {
         "hovertext": "<b>Topic 24</b>:gun_atf_biden_end_severe_north kor",
         "line": {
          "color": "black",
          "width": 1.5
         },
         "mode": "lines+lines",
         "name": "",
         "opacity": 0.1,
         "type": "scatter",
         "x": [
          1,
          2,
          3,
          4,
          5,
          6,
          7,
          8,
          9,
          10
         ],
         "y": [
          0.06902271140696732,
          0.03636724691256349,
          0.02801474312992224,
          0.02624733920157706,
          0.025886286554310006,
          0.025886286554310006,
          0.025886286554310006,
          0.025886286554310006,
          0.024244831275042327,
          0.024244831275042327
         ]
        },
        {
         "hovertext": "<b>Topic 25</b>:fact_biden_lie_dog_ample_dude_chea",
         "line": {
          "color": "black",
          "width": 1.5
         },
         "mode": "lines+lines",
         "name": "",
         "opacity": 0.1,
         "type": "scatter",
         "x": [
          1,
          2,
          3,
          4,
          5,
          6,
          7,
          8,
          9,
          10
         ],
         "y": [
          0.041765758232061946,
          0.04041162860101176,
          0.036867486287302034,
          0.03529736329580509,
          0.028801691129146673,
          0.026348028448240246,
          0.025473438960680373,
          0.025473438960680373,
          0.024095146279179917,
          0.022742907690660313
         ]
        },
        {
         "hovertext": "<b>Topic 26</b>:trump wa_mean trump_year trump_tru",
         "line": {
          "color": "black",
          "width": 1.5
         },
         "mode": "lines+lines",
         "name": "",
         "opacity": 0.1,
         "type": "scatter",
         "x": [
          1,
          2,
          3,
          4,
          5,
          6,
          7,
          8,
          9,
          10
         ],
         "y": [
          0.03701402458692567,
          0.036816268707137036,
          0.0355941992211527,
          0.0335711560682772,
          0.031011247043690852,
          0.029933798602576812,
          0.029474842376096544,
          0.029474842376096544,
          0.026935133796105508,
          0.02558402364500203
         ]
        },
        {
         "hovertext": "<b>Topic 27</b>:impeached_impeachment_trump impeac",
         "line": {
          "color": "black",
          "width": 1.5
         },
         "mode": "lines+lines",
         "name": "",
         "opacity": 0.1,
         "type": "scatter",
         "x": [
          1,
          2,
          3,
          4,
          5,
          6,
          7,
          8,
          9,
          10
         ],
         "y": [
          0.09776537705773375,
          0.06359032940422948,
          0.03937926928774187,
          0.03924438166652965,
          0.03520617700399178,
          0.03410615671981578,
          0.032639230872825664,
          0.0321919306171043,
          0.030569569868531633,
          0.02910237597370075
         ]
        },
        {
         "hovertext": "<b>Topic 28</b>:awful_ve_trump president_worse_tru",
         "line": {
          "color": "black",
          "width": 1.5
         },
         "mode": "lines+lines",
         "name": "",
         "opacity": 0.1,
         "type": "scatter",
         "x": [
          1,
          2,
          3,
          4,
          5,
          6,
          7,
          8,
          9,
          10
         ],
         "y": [
          0.06286669591761002,
          0.04946370478873859,
          0.04451663537107151,
          0.04379476938406559,
          0.04333801804815269,
          0.0348436931894567,
          0.0348436931894567,
          0.0348436931894567,
          0.0348436931894567,
          0.0348436931894567
         ]
        },
        {
         "hovertext": "<b>Topic 29</b>:biden_money mouth_face_mouth_face_",
         "line": {
          "color": "black",
          "width": 1.5
         },
         "mode": "lines+lines",
         "name": "",
         "opacity": 0.1,
         "type": "scatter",
         "x": [
          1,
          2,
          3,
          4,
          5,
          6,
          7,
          8,
          9,
          10
         ],
         "y": [
          0.043288369993068565,
          0.04140658828612887,
          0.04140658828612887,
          0.03945619717514244,
          0.03328886471282013,
          0.030325732744921507,
          0.029473300857447652,
          0.029473300857447652,
          0.029473300857447652,
          0.029473300857447652
         ]
        },
        {
         "hovertext": "<b>Topic 30</b>:debate_final_biden_trump biden_bid",
         "line": {
          "color": "black",
          "width": 1.5
         },
         "mode": "lines+lines",
         "name": "",
         "opacity": 0.1,
         "type": "scatter",
         "x": [
          1,
          2,
          3,
          4,
          5,
          6,
          7,
          8,
          9,
          10
         ],
         "y": [
          0.07776887023207152,
          0.04021240900479758,
          0.03702752912346291,
          0.03520386669852818,
          0.034214314400200625,
          0.03288025866009898,
          0.03288025866009898,
          0.032044776993554604,
          0.03023938360034955,
          0.02680827266986505
         ]
        },
        {
         "hovertext": "<b>Topic 31</b>:care_miss trump_mrs_kevin sorbo_so",
         "line": {
          "color": "black",
          "width": 1.5
         },
         "mode": "lines+lines",
         "name": "",
         "opacity": 0.1,
         "type": "scatter",
         "x": [
          1,
          2,
          3,
          4,
          5,
          6,
          7,
          8,
          9,
          10
         ],
         "y": [
          0.04084752287406761,
          0.03786925599784817,
          0.03786925599784817,
          0.03786925599784817,
          0.03786925599784817,
          0.035467957918682104,
          0.034807587195944595,
          0.032446385181067364,
          0.030459533712180166,
          0.029672064409079123
         ]
        },
        {
         "hovertext": "<b>Topic 32</b>:2020_trump pence_pence 2020_trump ",
         "line": {
          "color": "black",
          "width": 1.5
         },
         "mode": "lines+lines",
         "name": "",
         "opacity": 0.1,
         "type": "scatter",
         "x": [
          1,
          2,
          3,
          4,
          5,
          6,
          7,
          8,
          9,
          10
         ],
         "y": [
          0.2505564741268814,
          0.18691336420546498,
          0.18691336420546498,
          0.16693339906278193,
          0.157184339130506,
          0.10907640402799004,
          0.09725665816852132,
          0.08773387060687791,
          0.0701804258078917,
          0.06045529673042488
         ]
        },
        {
         "hovertext": "<b>Topic 33</b>:virus_infected_country_virus did_t",
         "line": {
          "color": "black",
          "width": 1.5
         },
         "mode": "lines+lines",
         "name": "",
         "opacity": 0.1,
         "type": "scatter",
         "x": [
          1,
          2,
          3,
          4,
          5,
          6,
          7,
          8,
          9,
          10
         ],
         "y": [
          0.11698565175436214,
          0.03923803105419652,
          0.035557178831344,
          0.029337791428218008,
          0.029337791428218008,
          0.029337791428218008,
          0.029337791428218008,
          0.02758529219808047,
          0.027477475445047972,
          0.0251366248414246
         ]
        },
        {
         "hovertext": "<b>Topic 34</b>:pardon_trump pardon_prison_pardon ",
         "line": {
          "color": "black",
          "width": 1.5
         },
         "mode": "lines+lines",
         "name": "",
         "opacity": 0.1,
         "type": "scatter",
         "x": [
          1,
          2,
          3,
          4,
          5,
          6,
          7,
          8,
          9,
          10
         ],
         "y": [
          0.15743688119037486,
          0.0761981310524021,
          0.06659627600971062,
          0.05947227703336408,
          0.04446668735635831,
          0.039648184688909384,
          0.03576607268642758,
          0.028610138743983726,
          0.02693492493450891,
          0.02464553908522547
         ]
        },
        {
         "hovertext": "<b>Topic 35</b>:remove_fix_library_remove trump_de",
         "line": {
          "color": "black",
          "width": 1.5
         },
         "mode": "lines+lines",
         "name": "",
         "opacity": 0.1,
         "type": "scatter",
         "x": [
          1,
          2,
          3,
          4,
          5,
          6,
          7,
          8,
          9,
          10
         ],
         "y": [
          0.04297773226014182,
          0.04297773226014182,
          0.03656716123574451,
          0.03656716123574451,
          0.03438281405777938,
          0.03260466763815757,
          0.031454645791095526,
          0.031330750160514904,
          0.031330750160514904,
          0.031330750160514904
         ]
        },
        {
         "hovertext": "<b>Topic 36</b>:covid_ploy_trump covid_responsible",
         "line": {
          "color": "black",
          "width": 1.5
         },
         "mode": "lines+lines",
         "name": "",
         "opacity": 0.1,
         "type": "scatter",
         "x": [
          1,
          2,
          3,
          4,
          5,
          6,
          7,
          8,
          9,
          10
         ],
         "y": [
          0.1279770398864275,
          0.04051763328337582,
          0.03706587052888034,
          0.032395137652181265,
          0.028455606424825818,
          0.028455606424825818,
          0.027947198117244013,
          0.0258461083907514,
          0.02397718548291427,
          0.02397718548291427
         ]
        },
        {
         "hovertext": "<b>Topic 37</b>:parler_did trump_trump did_2001_le",
         "line": {
          "color": "black",
          "width": 1.5
         },
         "mode": "lines+lines",
         "name": "",
         "opacity": 0.1,
         "type": "scatter",
         "x": [
          1,
          2,
          3,
          4,
          5,
          6,
          7,
          8,
          9,
          10
         ],
         "y": [
          0.07463122380862475,
          0.053773589702541515,
          0.04731642570821835,
          0.041364150394501226,
          0.041364150394501226,
          0.041364150394501226,
          0.041364150394501226,
          0.041364150394501226,
          0.041364150394501226,
          0.041364150394501226
         ]
        },
        {
         "hovertext": "<b>Topic 38</b>:mask_wear_wear mask_wearing mask_w",
         "line": {
          "color": "black",
          "width": 1.5
         },
         "mode": "lines+lines",
         "name": "",
         "opacity": 0.1,
         "type": "scatter",
         "x": [
          1,
          2,
          3,
          4,
          5,
          6,
          7,
          8,
          9,
          10
         ],
         "y": [
          0.15283928660953364,
          0.08402929164587952,
          0.06125732104212717,
          0.05022143621258768,
          0.044417971296984674,
          0.03545477207398349,
          0.031874030828338916,
          0.026239850494718234,
          0.023513736401466714,
          0.02321551708408378
         ]
        },
        {
         "hovertext": "<b>Topic 39</b>:died_americans died_people_death_a",
         "line": {
          "color": "black",
          "width": 1.5
         },
         "mode": "lines+lines",
         "name": "",
         "opacity": 0.1,
         "type": "scatter",
         "x": [
          1,
          2,
          3,
          4,
          5,
          6,
          7,
          8,
          9,
          10
         ],
         "y": [
          0.07850163862679052,
          0.05488277655490511,
          0.053953956197620945,
          0.05144523946908897,
          0.04426242832334657,
          0.043640309595151056,
          0.04103517450570686,
          0.04103517450570686,
          0.04103517450570686,
          0.03658851770327007
         ]
        }
       ],
       "layout": {
        "height": 500,
        "hoverlabel": {
         "bgcolor": "white",
         "font": {
          "family": "Rockwell",
          "size": 16
         }
        },
        "showlegend": false,
        "template": {
         "data": {
          "bar": [
           {
            "error_x": {
             "color": "#2a3f5f"
            },
            "error_y": {
             "color": "#2a3f5f"
            },
            "marker": {
             "line": {
              "color": "white",
              "width": 0.5
             },
             "pattern": {
              "fillmode": "overlay",
              "size": 10,
              "solidity": 0.2
             }
            },
            "type": "bar"
           }
          ],
          "barpolar": [
           {
            "marker": {
             "line": {
              "color": "white",
              "width": 0.5
             },
             "pattern": {
              "fillmode": "overlay",
              "size": 10,
              "solidity": 0.2
             }
            },
            "type": "barpolar"
           }
          ],
          "carpet": [
           {
            "aaxis": {
             "endlinecolor": "#2a3f5f",
             "gridcolor": "#C8D4E3",
             "linecolor": "#C8D4E3",
             "minorgridcolor": "#C8D4E3",
             "startlinecolor": "#2a3f5f"
            },
            "baxis": {
             "endlinecolor": "#2a3f5f",
             "gridcolor": "#C8D4E3",
             "linecolor": "#C8D4E3",
             "minorgridcolor": "#C8D4E3",
             "startlinecolor": "#2a3f5f"
            },
            "type": "carpet"
           }
          ],
          "choropleth": [
           {
            "colorbar": {
             "outlinewidth": 0,
             "ticks": ""
            },
            "type": "choropleth"
           }
          ],
          "contour": [
           {
            "colorbar": {
             "outlinewidth": 0,
             "ticks": ""
            },
            "colorscale": [
             [
              0,
              "#0d0887"
             ],
             [
              0.1111111111111111,
              "#46039f"
             ],
             [
              0.2222222222222222,
              "#7201a8"
             ],
             [
              0.3333333333333333,
              "#9c179e"
             ],
             [
              0.4444444444444444,
              "#bd3786"
             ],
             [
              0.5555555555555556,
              "#d8576b"
             ],
             [
              0.6666666666666666,
              "#ed7953"
             ],
             [
              0.7777777777777778,
              "#fb9f3a"
             ],
             [
              0.8888888888888888,
              "#fdca26"
             ],
             [
              1,
              "#f0f921"
             ]
            ],
            "type": "contour"
           }
          ],
          "contourcarpet": [
           {
            "colorbar": {
             "outlinewidth": 0,
             "ticks": ""
            },
            "type": "contourcarpet"
           }
          ],
          "heatmap": [
           {
            "colorbar": {
             "outlinewidth": 0,
             "ticks": ""
            },
            "colorscale": [
             [
              0,
              "#0d0887"
             ],
             [
              0.1111111111111111,
              "#46039f"
             ],
             [
              0.2222222222222222,
              "#7201a8"
             ],
             [
              0.3333333333333333,
              "#9c179e"
             ],
             [
              0.4444444444444444,
              "#bd3786"
             ],
             [
              0.5555555555555556,
              "#d8576b"
             ],
             [
              0.6666666666666666,
              "#ed7953"
             ],
             [
              0.7777777777777778,
              "#fb9f3a"
             ],
             [
              0.8888888888888888,
              "#fdca26"
             ],
             [
              1,
              "#f0f921"
             ]
            ],
            "type": "heatmap"
           }
          ],
          "heatmapgl": [
           {
            "colorbar": {
             "outlinewidth": 0,
             "ticks": ""
            },
            "colorscale": [
             [
              0,
              "#0d0887"
             ],
             [
              0.1111111111111111,
              "#46039f"
             ],
             [
              0.2222222222222222,
              "#7201a8"
             ],
             [
              0.3333333333333333,
              "#9c179e"
             ],
             [
              0.4444444444444444,
              "#bd3786"
             ],
             [
              0.5555555555555556,
              "#d8576b"
             ],
             [
              0.6666666666666666,
              "#ed7953"
             ],
             [
              0.7777777777777778,
              "#fb9f3a"
             ],
             [
              0.8888888888888888,
              "#fdca26"
             ],
             [
              1,
              "#f0f921"
             ]
            ],
            "type": "heatmapgl"
           }
          ],
          "histogram": [
           {
            "marker": {
             "pattern": {
              "fillmode": "overlay",
              "size": 10,
              "solidity": 0.2
             }
            },
            "type": "histogram"
           }
          ],
          "histogram2d": [
           {
            "colorbar": {
             "outlinewidth": 0,
             "ticks": ""
            },
            "colorscale": [
             [
              0,
              "#0d0887"
             ],
             [
              0.1111111111111111,
              "#46039f"
             ],
             [
              0.2222222222222222,
              "#7201a8"
             ],
             [
              0.3333333333333333,
              "#9c179e"
             ],
             [
              0.4444444444444444,
              "#bd3786"
             ],
             [
              0.5555555555555556,
              "#d8576b"
             ],
             [
              0.6666666666666666,
              "#ed7953"
             ],
             [
              0.7777777777777778,
              "#fb9f3a"
             ],
             [
              0.8888888888888888,
              "#fdca26"
             ],
             [
              1,
              "#f0f921"
             ]
            ],
            "type": "histogram2d"
           }
          ],
          "histogram2dcontour": [
           {
            "colorbar": {
             "outlinewidth": 0,
             "ticks": ""
            },
            "colorscale": [
             [
              0,
              "#0d0887"
             ],
             [
              0.1111111111111111,
              "#46039f"
             ],
             [
              0.2222222222222222,
              "#7201a8"
             ],
             [
              0.3333333333333333,
              "#9c179e"
             ],
             [
              0.4444444444444444,
              "#bd3786"
             ],
             [
              0.5555555555555556,
              "#d8576b"
             ],
             [
              0.6666666666666666,
              "#ed7953"
             ],
             [
              0.7777777777777778,
              "#fb9f3a"
             ],
             [
              0.8888888888888888,
              "#fdca26"
             ],
             [
              1,
              "#f0f921"
             ]
            ],
            "type": "histogram2dcontour"
           }
          ],
          "mesh3d": [
           {
            "colorbar": {
             "outlinewidth": 0,
             "ticks": ""
            },
            "type": "mesh3d"
           }
          ],
          "parcoords": [
           {
            "line": {
             "colorbar": {
              "outlinewidth": 0,
              "ticks": ""
             }
            },
            "type": "parcoords"
           }
          ],
          "pie": [
           {
            "automargin": true,
            "type": "pie"
           }
          ],
          "scatter": [
           {
            "fillpattern": {
             "fillmode": "overlay",
             "size": 10,
             "solidity": 0.2
            },
            "type": "scatter"
           }
          ],
          "scatter3d": [
           {
            "line": {
             "colorbar": {
              "outlinewidth": 0,
              "ticks": ""
             }
            },
            "marker": {
             "colorbar": {
              "outlinewidth": 0,
              "ticks": ""
             }
            },
            "type": "scatter3d"
           }
          ],
          "scattercarpet": [
           {
            "marker": {
             "colorbar": {
              "outlinewidth": 0,
              "ticks": ""
             }
            },
            "type": "scattercarpet"
           }
          ],
          "scattergeo": [
           {
            "marker": {
             "colorbar": {
              "outlinewidth": 0,
              "ticks": ""
             }
            },
            "type": "scattergeo"
           }
          ],
          "scattergl": [
           {
            "marker": {
             "colorbar": {
              "outlinewidth": 0,
              "ticks": ""
             }
            },
            "type": "scattergl"
           }
          ],
          "scattermapbox": [
           {
            "marker": {
             "colorbar": {
              "outlinewidth": 0,
              "ticks": ""
             }
            },
            "type": "scattermapbox"
           }
          ],
          "scatterpolar": [
           {
            "marker": {
             "colorbar": {
              "outlinewidth": 0,
              "ticks": ""
             }
            },
            "type": "scatterpolar"
           }
          ],
          "scatterpolargl": [
           {
            "marker": {
             "colorbar": {
              "outlinewidth": 0,
              "ticks": ""
             }
            },
            "type": "scatterpolargl"
           }
          ],
          "scatterternary": [
           {
            "marker": {
             "colorbar": {
              "outlinewidth": 0,
              "ticks": ""
             }
            },
            "type": "scatterternary"
           }
          ],
          "surface": [
           {
            "colorbar": {
             "outlinewidth": 0,
             "ticks": ""
            },
            "colorscale": [
             [
              0,
              "#0d0887"
             ],
             [
              0.1111111111111111,
              "#46039f"
             ],
             [
              0.2222222222222222,
              "#7201a8"
             ],
             [
              0.3333333333333333,
              "#9c179e"
             ],
             [
              0.4444444444444444,
              "#bd3786"
             ],
             [
              0.5555555555555556,
              "#d8576b"
             ],
             [
              0.6666666666666666,
              "#ed7953"
             ],
             [
              0.7777777777777778,
              "#fb9f3a"
             ],
             [
              0.8888888888888888,
              "#fdca26"
             ],
             [
              1,
              "#f0f921"
             ]
            ],
            "type": "surface"
           }
          ],
          "table": [
           {
            "cells": {
             "fill": {
              "color": "#EBF0F8"
             },
             "line": {
              "color": "white"
             }
            },
            "header": {
             "fill": {
              "color": "#C8D4E3"
             },
             "line": {
              "color": "white"
             }
            },
            "type": "table"
           }
          ]
         },
         "layout": {
          "annotationdefaults": {
           "arrowcolor": "#2a3f5f",
           "arrowhead": 0,
           "arrowwidth": 1
          },
          "autotypenumbers": "strict",
          "coloraxis": {
           "colorbar": {
            "outlinewidth": 0,
            "ticks": ""
           }
          },
          "colorscale": {
           "diverging": [
            [
             0,
             "#8e0152"
            ],
            [
             0.1,
             "#c51b7d"
            ],
            [
             0.2,
             "#de77ae"
            ],
            [
             0.3,
             "#f1b6da"
            ],
            [
             0.4,
             "#fde0ef"
            ],
            [
             0.5,
             "#f7f7f7"
            ],
            [
             0.6,
             "#e6f5d0"
            ],
            [
             0.7,
             "#b8e186"
            ],
            [
             0.8,
             "#7fbc41"
            ],
            [
             0.9,
             "#4d9221"
            ],
            [
             1,
             "#276419"
            ]
           ],
           "sequential": [
            [
             0,
             "#0d0887"
            ],
            [
             0.1111111111111111,
             "#46039f"
            ],
            [
             0.2222222222222222,
             "#7201a8"
            ],
            [
             0.3333333333333333,
             "#9c179e"
            ],
            [
             0.4444444444444444,
             "#bd3786"
            ],
            [
             0.5555555555555556,
             "#d8576b"
            ],
            [
             0.6666666666666666,
             "#ed7953"
            ],
            [
             0.7777777777777778,
             "#fb9f3a"
            ],
            [
             0.8888888888888888,
             "#fdca26"
            ],
            [
             1,
             "#f0f921"
            ]
           ],
           "sequentialminus": [
            [
             0,
             "#0d0887"
            ],
            [
             0.1111111111111111,
             "#46039f"
            ],
            [
             0.2222222222222222,
             "#7201a8"
            ],
            [
             0.3333333333333333,
             "#9c179e"
            ],
            [
             0.4444444444444444,
             "#bd3786"
            ],
            [
             0.5555555555555556,
             "#d8576b"
            ],
            [
             0.6666666666666666,
             "#ed7953"
            ],
            [
             0.7777777777777778,
             "#fb9f3a"
            ],
            [
             0.8888888888888888,
             "#fdca26"
            ],
            [
             1,
             "#f0f921"
            ]
           ]
          },
          "colorway": [
           "#636efa",
           "#EF553B",
           "#00cc96",
           "#ab63fa",
           "#FFA15A",
           "#19d3f3",
           "#FF6692",
           "#B6E880",
           "#FF97FF",
           "#FECB52"
          ],
          "font": {
           "color": "#2a3f5f"
          },
          "geo": {
           "bgcolor": "white",
           "lakecolor": "white",
           "landcolor": "white",
           "showlakes": true,
           "showland": true,
           "subunitcolor": "#C8D4E3"
          },
          "hoverlabel": {
           "align": "left"
          },
          "hovermode": "closest",
          "mapbox": {
           "style": "light"
          },
          "paper_bgcolor": "white",
          "plot_bgcolor": "white",
          "polar": {
           "angularaxis": {
            "gridcolor": "#EBF0F8",
            "linecolor": "#EBF0F8",
            "ticks": ""
           },
           "bgcolor": "white",
           "radialaxis": {
            "gridcolor": "#EBF0F8",
            "linecolor": "#EBF0F8",
            "ticks": ""
           }
          },
          "scene": {
           "xaxis": {
            "backgroundcolor": "white",
            "gridcolor": "#DFE8F3",
            "gridwidth": 2,
            "linecolor": "#EBF0F8",
            "showbackground": true,
            "ticks": "",
            "zerolinecolor": "#EBF0F8"
           },
           "yaxis": {
            "backgroundcolor": "white",
            "gridcolor": "#DFE8F3",
            "gridwidth": 2,
            "linecolor": "#EBF0F8",
            "showbackground": true,
            "ticks": "",
            "zerolinecolor": "#EBF0F8"
           },
           "zaxis": {
            "backgroundcolor": "white",
            "gridcolor": "#DFE8F3",
            "gridwidth": 2,
            "linecolor": "#EBF0F8",
            "showbackground": true,
            "ticks": "",
            "zerolinecolor": "#EBF0F8"
           }
          },
          "shapedefaults": {
           "line": {
            "color": "#2a3f5f"
           }
          },
          "ternary": {
           "aaxis": {
            "gridcolor": "#DFE8F3",
            "linecolor": "#A2B1C6",
            "ticks": ""
           },
           "baxis": {
            "gridcolor": "#DFE8F3",
            "linecolor": "#A2B1C6",
            "ticks": ""
           },
           "bgcolor": "white",
           "caxis": {
            "gridcolor": "#DFE8F3",
            "linecolor": "#A2B1C6",
            "ticks": ""
           }
          },
          "title": {
           "x": 0.05
          },
          "xaxis": {
           "automargin": true,
           "gridcolor": "#EBF0F8",
           "linecolor": "#EBF0F8",
           "ticks": "",
           "title": {
            "standoff": 15
           },
           "zerolinecolor": "#EBF0F8",
           "zerolinewidth": 2
          },
          "yaxis": {
           "automargin": true,
           "gridcolor": "#EBF0F8",
           "linecolor": "#EBF0F8",
           "ticks": "",
           "title": {
            "standoff": 15
           },
           "zerolinecolor": "#EBF0F8",
           "zerolinewidth": 2
          }
         }
        },
        "title": {
         "font": {
          "color": "Black",
          "size": 22
         },
         "text": "<b>Term score decline per Topic</b>",
         "x": 0.5,
         "xanchor": "center",
         "y": 0.9,
         "yanchor": "top"
        },
        "width": 800,
        "xaxis": {
         "dtick": 2,
         "range": [
          0,
          10
         ],
         "tick0": 1,
         "title": {
          "text": "Term Rank"
         }
        },
        "yaxis": {
         "title": {
          "text": "c-TF-IDF score"
         }
        }
       }
      }
     },
     "metadata": {},
     "output_type": "display_data"
    }
   ],
   "source": [
    "model.visualize_term_rank()\n"
   ]
  },
  {
   "cell_type": "markdown",
   "metadata": {},
   "source": [
    "# Modelling"
   ]
  },
  {
   "cell_type": "code",
   "execution_count": 18,
   "metadata": {},
   "outputs": [],
   "source": [
    "df['topic_label'] = topics\n",
    "\n",
    "# Save the DataFrame with the new column\n",
    "df.to_csv('dataset_with_topic_labels.csv', index=False)"
   ]
  },
  {
   "cell_type": "markdown",
   "metadata": {},
   "source": [
    "### Topic visualisation\n"
   ]
  },
  {
   "cell_type": "code",
   "execution_count": 19,
   "metadata": {},
   "outputs": [
    {
     "data": {
      "application/vnd.plotly.v1+json": {
       "config": {
        "plotlyServerURL": "https://plot.ly"
       },
       "data": [
        {
         "hoverinfo": "text",
         "marker": {
          "color": "rgb(61,153,112)"
         },
         "mode": "lines",
         "type": "scatter",
         "x": [
          0,
          0.9046295316187593,
          0.9046295316187593,
          0
         ],
         "xaxis": "x",
         "y": [
          -15,
          -15,
          -25,
          -25
         ],
         "yaxis": "y"
        },
        {
         "hoverinfo": "text",
         "marker": {
          "color": "rgb(61,153,112)"
         },
         "mode": "lines",
         "type": "scatter",
         "x": [
          0,
          0.9708212721456174,
          0.9708212721456174,
          0.9046295316187593
         ],
         "xaxis": "x",
         "y": [
          -5,
          -5,
          -20,
          -20
         ],
         "yaxis": "y"
        },
        {
         "hoverinfo": "text",
         "marker": {
          "color": "rgb(255,65,54)"
         },
         "mode": "lines",
         "type": "scatter",
         "x": [
          0,
          0.861262969158531,
          0.861262969158531,
          0
         ],
         "xaxis": "x",
         "y": [
          -35,
          -35,
          -45,
          -45
         ],
         "yaxis": "y"
        },
        {
         "hoverinfo": "text",
         "marker": {
          "color": "rgb(255,65,54)"
         },
         "mode": "lines",
         "type": "scatter",
         "x": [
          0,
          0.8760990107465768,
          0.8760990107465768,
          0
         ],
         "xaxis": "x",
         "y": [
          -65,
          -65,
          -75,
          -75
         ],
         "yaxis": "y"
        },
        {
         "hoverinfo": "text",
         "marker": {
          "color": "rgb(255,65,54)"
         },
         "mode": "lines",
         "type": "scatter",
         "x": [
          0,
          0.8287846316974155,
          0.8287846316974155,
          0
         ],
         "xaxis": "x",
         "y": [
          -85,
          -85,
          -95,
          -95
         ],
         "yaxis": "y"
        },
        {
         "hoverinfo": "text",
         "marker": {
          "color": "rgb(255,65,54)"
         },
         "mode": "lines",
         "type": "scatter",
         "x": [
          0.8287846316974155,
          0.898302991815295,
          0.898302991815295,
          0
         ],
         "xaxis": "x",
         "y": [
          -90,
          -90,
          -105,
          -105
         ],
         "yaxis": "y"
        },
        {
         "hoverinfo": "text",
         "marker": {
          "color": "rgb(255,65,54)"
         },
         "mode": "lines",
         "type": "scatter",
         "x": [
          0.8760990107465768,
          0.9194144379699217,
          0.9194144379699217,
          0.898302991815295
         ],
         "xaxis": "x",
         "y": [
          -70,
          -70,
          -97.5,
          -97.5
         ],
         "yaxis": "y"
        },
        {
         "hoverinfo": "text",
         "marker": {
          "color": "rgb(255,65,54)"
         },
         "mode": "lines",
         "type": "scatter",
         "x": [
          0,
          0.9486229132186403,
          0.9486229132186403,
          0.9194144379699217
         ],
         "xaxis": "x",
         "y": [
          -55,
          -55,
          -83.75,
          -83.75
         ],
         "yaxis": "y"
        },
        {
         "hoverinfo": "text",
         "marker": {
          "color": "rgb(255,65,54)"
         },
         "mode": "lines",
         "type": "scatter",
         "x": [
          0.9486229132186403,
          0.9518478629415206,
          0.9518478629415206,
          0
         ],
         "xaxis": "x",
         "y": [
          -69.375,
          -69.375,
          -115,
          -115
         ],
         "yaxis": "y"
        },
        {
         "hoverinfo": "text",
         "marker": {
          "color": "rgb(255,65,54)"
         },
         "mode": "lines",
         "type": "scatter",
         "x": [
          0.861262969158531,
          0.9792795278296778,
          0.9792795278296778,
          0.9518478629415206
         ],
         "xaxis": "x",
         "y": [
          -40,
          -40,
          -92.1875,
          -92.1875
         ],
         "yaxis": "y"
        },
        {
         "hoverinfo": "text",
         "marker": {
          "color": "rgb(0,116,217)"
         },
         "mode": "lines",
         "type": "scatter",
         "x": [
          0.9708212721456174,
          1.0167411769808719,
          1.0167411769808719,
          0.9792795278296778
         ],
         "xaxis": "x",
         "y": [
          -12.5,
          -12.5,
          -66.09375,
          -66.09375
         ],
         "yaxis": "y"
        },
        {
         "hoverinfo": "text",
         "marker": {
          "color": "rgb(35,205,205)"
         },
         "mode": "lines",
         "type": "scatter",
         "x": [
          0,
          0.9102496208680695,
          0.9102496208680695,
          0
         ],
         "xaxis": "x",
         "y": [
          -125,
          -125,
          -135,
          -135
         ],
         "yaxis": "y"
        },
        {
         "hoverinfo": "text",
         "marker": {
          "color": "rgb(133,20,75)"
         },
         "mode": "lines",
         "type": "scatter",
         "x": [
          0,
          0.9462630557743892,
          0.9462630557743892,
          0
         ],
         "xaxis": "x",
         "y": [
          -145,
          -145,
          -155,
          -155
         ],
         "yaxis": "y"
        },
        {
         "hoverinfo": "text",
         "marker": {
          "color": "rgb(133,20,75)"
         },
         "mode": "lines",
         "type": "scatter",
         "x": [
          0,
          0.9488371857737936,
          0.9488371857737936,
          0
         ],
         "xaxis": "x",
         "y": [
          -165,
          -165,
          -175,
          -175
         ],
         "yaxis": "y"
        },
        {
         "hoverinfo": "text",
         "marker": {
          "color": "rgb(133,20,75)"
         },
         "mode": "lines",
         "type": "scatter",
         "x": [
          0,
          0.936080763247685,
          0.936080763247685,
          0
         ],
         "xaxis": "x",
         "y": [
          -185,
          -185,
          -195,
          -195
         ],
         "yaxis": "y"
        },
        {
         "hoverinfo": "text",
         "marker": {
          "color": "rgb(133,20,75)"
         },
         "mode": "lines",
         "type": "scatter",
         "x": [
          0.9488371857737936,
          0.9627727481475725,
          0.9627727481475725,
          0.936080763247685
         ],
         "xaxis": "x",
         "y": [
          -170,
          -170,
          -190,
          -190
         ],
         "yaxis": "y"
        },
        {
         "hoverinfo": "text",
         "marker": {
          "color": "rgb(133,20,75)"
         },
         "mode": "lines",
         "type": "scatter",
         "x": [
          0.9462630557743892,
          0.9695999387340454,
          0.9695999387340454,
          0.9627727481475725
         ],
         "xaxis": "x",
         "y": [
          -150,
          -150,
          -180,
          -180
         ],
         "yaxis": "y"
        },
        {
         "hoverinfo": "text",
         "marker": {
          "color": "rgb(133,20,75)"
         },
         "mode": "lines",
         "type": "scatter",
         "x": [
          0,
          0.8649119987697282,
          0.8649119987697282,
          0
         ],
         "xaxis": "x",
         "y": [
          -225,
          -225,
          -235,
          -235
         ],
         "yaxis": "y"
        },
        {
         "hoverinfo": "text",
         "marker": {
          "color": "rgb(133,20,75)"
         },
         "mode": "lines",
         "type": "scatter",
         "x": [
          0,
          0.8942704832029185,
          0.8942704832029185,
          0.8649119987697282
         ],
         "xaxis": "x",
         "y": [
          -215,
          -215,
          -230,
          -230
         ],
         "yaxis": "y"
        },
        {
         "hoverinfo": "text",
         "marker": {
          "color": "rgb(133,20,75)"
         },
         "mode": "lines",
         "type": "scatter",
         "x": [
          0.8942704832029185,
          0.9140864197387351,
          0.9140864197387351,
          0
         ],
         "xaxis": "x",
         "y": [
          -222.5,
          -222.5,
          -245,
          -245
         ],
         "yaxis": "y"
        },
        {
         "hoverinfo": "text",
         "marker": {
          "color": "rgb(133,20,75)"
         },
         "mode": "lines",
         "type": "scatter",
         "x": [
          0,
          0.9378833086589872,
          0.9378833086589872,
          0.9140864197387351
         ],
         "xaxis": "x",
         "y": [
          -205,
          -205,
          -233.75,
          -233.75
         ],
         "yaxis": "y"
        },
        {
         "hoverinfo": "text",
         "marker": {
          "color": "rgb(133,20,75)"
         },
         "mode": "lines",
         "type": "scatter",
         "x": [
          0,
          0.9012067670553562,
          0.9012067670553562,
          0
         ],
         "xaxis": "x",
         "y": [
          -265,
          -265,
          -275,
          -275
         ],
         "yaxis": "y"
        },
        {
         "hoverinfo": "text",
         "marker": {
          "color": "rgb(133,20,75)"
         },
         "mode": "lines",
         "type": "scatter",
         "x": [
          0,
          0.952622311612255,
          0.952622311612255,
          0.9012067670553562
         ],
         "xaxis": "x",
         "y": [
          -255,
          -255,
          -270,
          -270
         ],
         "yaxis": "y"
        },
        {
         "hoverinfo": "text",
         "marker": {
          "color": "rgb(133,20,75)"
         },
         "mode": "lines",
         "type": "scatter",
         "x": [
          0.952622311612255,
          0.962427760933324,
          0.962427760933324,
          0
         ],
         "xaxis": "x",
         "y": [
          -262.5,
          -262.5,
          -285,
          -285
         ],
         "yaxis": "y"
        },
        {
         "hoverinfo": "text",
         "marker": {
          "color": "rgb(133,20,75)"
         },
         "mode": "lines",
         "type": "scatter",
         "x": [
          0.9378833086589872,
          0.9744825771000921,
          0.9744825771000921,
          0.962427760933324
         ],
         "xaxis": "x",
         "y": [
          -219.375,
          -219.375,
          -273.75,
          -273.75
         ],
         "yaxis": "y"
        },
        {
         "hoverinfo": "text",
         "marker": {
          "color": "rgb(133,20,75)"
         },
         "mode": "lines",
         "type": "scatter",
         "x": [
          0.9695999387340454,
          0.9996045373513857,
          0.9996045373513857,
          0.9744825771000921
         ],
         "xaxis": "x",
         "y": [
          -165,
          -165,
          -246.5625,
          -246.5625
         ],
         "yaxis": "y"
        },
        {
         "hoverinfo": "text",
         "marker": {
          "color": "rgb(0,116,217)"
         },
         "mode": "lines",
         "type": "scatter",
         "x": [
          0.9102496208680695,
          1.027462732237416,
          1.027462732237416,
          0.9996045373513857
         ],
         "xaxis": "x",
         "y": [
          -130,
          -130,
          -205.78125,
          -205.78125
         ],
         "yaxis": "y"
        },
        {
         "hoverinfo": "text",
         "marker": {
          "color": "rgb(255,220,0)"
         },
         "mode": "lines",
         "type": "scatter",
         "x": [
          0,
          0.9368247760991314,
          0.9368247760991314,
          0
         ],
         "xaxis": "x",
         "y": [
          -305,
          -305,
          -315,
          -315
         ],
         "yaxis": "y"
        },
        {
         "hoverinfo": "text",
         "marker": {
          "color": "rgb(255,220,0)"
         },
         "mode": "lines",
         "type": "scatter",
         "x": [
          0,
          0.963304669489896,
          0.963304669489896,
          0.9368247760991314
         ],
         "xaxis": "x",
         "y": [
          -295,
          -295,
          -310,
          -310
         ],
         "yaxis": "y"
        },
        {
         "hoverinfo": "text",
         "marker": {
          "color": "rgb(40,35,35)"
         },
         "mode": "lines",
         "type": "scatter",
         "x": [
          0,
          0.975452190912178,
          0.975452190912178,
          0
         ],
         "xaxis": "x",
         "y": [
          -325,
          -325,
          -335,
          -335
         ],
         "yaxis": "y"
        },
        {
         "hoverinfo": "text",
         "marker": {
          "color": "rgb(40,35,35)"
         },
         "mode": "lines",
         "type": "scatter",
         "x": [
          0,
          0.9370174506151423,
          0.9370174506151423,
          0
         ],
         "xaxis": "x",
         "y": [
          -355,
          -355,
          -365,
          -365
         ],
         "yaxis": "y"
        },
        {
         "hoverinfo": "text",
         "marker": {
          "color": "rgb(40,35,35)"
         },
         "mode": "lines",
         "type": "scatter",
         "x": [
          0.9370174506151423,
          0.9651058336959114,
          0.9651058336959114,
          0
         ],
         "xaxis": "x",
         "y": [
          -360,
          -360,
          -375,
          -375
         ],
         "yaxis": "y"
        },
        {
         "hoverinfo": "text",
         "marker": {
          "color": "rgb(40,35,35)"
         },
         "mode": "lines",
         "type": "scatter",
         "x": [
          0,
          0.9693867858511118,
          0.9693867858511118,
          0.9651058336959114
         ],
         "xaxis": "x",
         "y": [
          -345,
          -345,
          -367.5,
          -367.5
         ],
         "yaxis": "y"
        },
        {
         "hoverinfo": "text",
         "marker": {
          "color": "rgb(40,35,35)"
         },
         "mode": "lines",
         "type": "scatter",
         "x": [
          0,
          0.9685745551223767,
          0.9685745551223767,
          0
         ],
         "xaxis": "x",
         "y": [
          -385,
          -385,
          -395,
          -395
         ],
         "yaxis": "y"
        },
        {
         "hoverinfo": "text",
         "marker": {
          "color": "rgb(40,35,35)"
         },
         "mode": "lines",
         "type": "scatter",
         "x": [
          0.9693867858511118,
          0.9843437887367735,
          0.9843437887367735,
          0.9685745551223767
         ],
         "xaxis": "x",
         "y": [
          -356.25,
          -356.25,
          -390,
          -390
         ],
         "yaxis": "y"
        },
        {
         "hoverinfo": "text",
         "marker": {
          "color": "rgb(40,35,35)"
         },
         "mode": "lines",
         "type": "scatter",
         "x": [
          0.975452190912178,
          0.9939499718274115,
          0.9939499718274115,
          0.9843437887367735
         ],
         "xaxis": "x",
         "y": [
          -330,
          -330,
          -373.125,
          -373.125
         ],
         "yaxis": "y"
        },
        {
         "hoverinfo": "text",
         "marker": {
          "color": "rgb(0,116,217)"
         },
         "mode": "lines",
         "type": "scatter",
         "x": [
          0.963304669489896,
          1.0081549239387875,
          1.0081549239387875,
          0.9939499718274115
         ],
         "xaxis": "x",
         "y": [
          -302.5,
          -302.5,
          -351.5625,
          -351.5625
         ],
         "yaxis": "y"
        },
        {
         "hoverinfo": "text",
         "marker": {
          "color": "rgb(0,116,217)"
         },
         "mode": "lines",
         "type": "scatter",
         "x": [
          1.027462732237416,
          1.0433509459306771,
          1.0433509459306771,
          1.0081549239387875
         ],
         "xaxis": "x",
         "y": [
          -167.890625,
          -167.890625,
          -327.03125,
          -327.03125
         ],
         "yaxis": "y"
        },
        {
         "hoverinfo": "text",
         "marker": {
          "color": "rgb(0,116,217)"
         },
         "mode": "lines",
         "type": "scatter",
         "x": [
          1.0167411769808719,
          1.2102577570779753,
          1.2102577570779753,
          1.0433509459306771
         ],
         "xaxis": "x",
         "y": [
          -39.296875,
          -39.296875,
          -247.4609375,
          -247.4609375
         ],
         "yaxis": "y"
        }
       ],
       "layout": {
        "autosize": false,
        "height": 800,
        "hoverlabel": {
         "bgcolor": "white",
         "font": {
          "family": "Rockwell",
          "size": 16
         }
        },
        "hovermode": "closest",
        "plot_bgcolor": "#ECEFF1",
        "showlegend": false,
        "template": {
         "data": {
          "bar": [
           {
            "error_x": {
             "color": "#2a3f5f"
            },
            "error_y": {
             "color": "#2a3f5f"
            },
            "marker": {
             "line": {
              "color": "white",
              "width": 0.5
             },
             "pattern": {
              "fillmode": "overlay",
              "size": 10,
              "solidity": 0.2
             }
            },
            "type": "bar"
           }
          ],
          "barpolar": [
           {
            "marker": {
             "line": {
              "color": "white",
              "width": 0.5
             },
             "pattern": {
              "fillmode": "overlay",
              "size": 10,
              "solidity": 0.2
             }
            },
            "type": "barpolar"
           }
          ],
          "carpet": [
           {
            "aaxis": {
             "endlinecolor": "#2a3f5f",
             "gridcolor": "#C8D4E3",
             "linecolor": "#C8D4E3",
             "minorgridcolor": "#C8D4E3",
             "startlinecolor": "#2a3f5f"
            },
            "baxis": {
             "endlinecolor": "#2a3f5f",
             "gridcolor": "#C8D4E3",
             "linecolor": "#C8D4E3",
             "minorgridcolor": "#C8D4E3",
             "startlinecolor": "#2a3f5f"
            },
            "type": "carpet"
           }
          ],
          "choropleth": [
           {
            "colorbar": {
             "outlinewidth": 0,
             "ticks": ""
            },
            "type": "choropleth"
           }
          ],
          "contour": [
           {
            "colorbar": {
             "outlinewidth": 0,
             "ticks": ""
            },
            "colorscale": [
             [
              0,
              "#0d0887"
             ],
             [
              0.1111111111111111,
              "#46039f"
             ],
             [
              0.2222222222222222,
              "#7201a8"
             ],
             [
              0.3333333333333333,
              "#9c179e"
             ],
             [
              0.4444444444444444,
              "#bd3786"
             ],
             [
              0.5555555555555556,
              "#d8576b"
             ],
             [
              0.6666666666666666,
              "#ed7953"
             ],
             [
              0.7777777777777778,
              "#fb9f3a"
             ],
             [
              0.8888888888888888,
              "#fdca26"
             ],
             [
              1,
              "#f0f921"
             ]
            ],
            "type": "contour"
           }
          ],
          "contourcarpet": [
           {
            "colorbar": {
             "outlinewidth": 0,
             "ticks": ""
            },
            "type": "contourcarpet"
           }
          ],
          "heatmap": [
           {
            "colorbar": {
             "outlinewidth": 0,
             "ticks": ""
            },
            "colorscale": [
             [
              0,
              "#0d0887"
             ],
             [
              0.1111111111111111,
              "#46039f"
             ],
             [
              0.2222222222222222,
              "#7201a8"
             ],
             [
              0.3333333333333333,
              "#9c179e"
             ],
             [
              0.4444444444444444,
              "#bd3786"
             ],
             [
              0.5555555555555556,
              "#d8576b"
             ],
             [
              0.6666666666666666,
              "#ed7953"
             ],
             [
              0.7777777777777778,
              "#fb9f3a"
             ],
             [
              0.8888888888888888,
              "#fdca26"
             ],
             [
              1,
              "#f0f921"
             ]
            ],
            "type": "heatmap"
           }
          ],
          "heatmapgl": [
           {
            "colorbar": {
             "outlinewidth": 0,
             "ticks": ""
            },
            "colorscale": [
             [
              0,
              "#0d0887"
             ],
             [
              0.1111111111111111,
              "#46039f"
             ],
             [
              0.2222222222222222,
              "#7201a8"
             ],
             [
              0.3333333333333333,
              "#9c179e"
             ],
             [
              0.4444444444444444,
              "#bd3786"
             ],
             [
              0.5555555555555556,
              "#d8576b"
             ],
             [
              0.6666666666666666,
              "#ed7953"
             ],
             [
              0.7777777777777778,
              "#fb9f3a"
             ],
             [
              0.8888888888888888,
              "#fdca26"
             ],
             [
              1,
              "#f0f921"
             ]
            ],
            "type": "heatmapgl"
           }
          ],
          "histogram": [
           {
            "marker": {
             "pattern": {
              "fillmode": "overlay",
              "size": 10,
              "solidity": 0.2
             }
            },
            "type": "histogram"
           }
          ],
          "histogram2d": [
           {
            "colorbar": {
             "outlinewidth": 0,
             "ticks": ""
            },
            "colorscale": [
             [
              0,
              "#0d0887"
             ],
             [
              0.1111111111111111,
              "#46039f"
             ],
             [
              0.2222222222222222,
              "#7201a8"
             ],
             [
              0.3333333333333333,
              "#9c179e"
             ],
             [
              0.4444444444444444,
              "#bd3786"
             ],
             [
              0.5555555555555556,
              "#d8576b"
             ],
             [
              0.6666666666666666,
              "#ed7953"
             ],
             [
              0.7777777777777778,
              "#fb9f3a"
             ],
             [
              0.8888888888888888,
              "#fdca26"
             ],
             [
              1,
              "#f0f921"
             ]
            ],
            "type": "histogram2d"
           }
          ],
          "histogram2dcontour": [
           {
            "colorbar": {
             "outlinewidth": 0,
             "ticks": ""
            },
            "colorscale": [
             [
              0,
              "#0d0887"
             ],
             [
              0.1111111111111111,
              "#46039f"
             ],
             [
              0.2222222222222222,
              "#7201a8"
             ],
             [
              0.3333333333333333,
              "#9c179e"
             ],
             [
              0.4444444444444444,
              "#bd3786"
             ],
             [
              0.5555555555555556,
              "#d8576b"
             ],
             [
              0.6666666666666666,
              "#ed7953"
             ],
             [
              0.7777777777777778,
              "#fb9f3a"
             ],
             [
              0.8888888888888888,
              "#fdca26"
             ],
             [
              1,
              "#f0f921"
             ]
            ],
            "type": "histogram2dcontour"
           }
          ],
          "mesh3d": [
           {
            "colorbar": {
             "outlinewidth": 0,
             "ticks": ""
            },
            "type": "mesh3d"
           }
          ],
          "parcoords": [
           {
            "line": {
             "colorbar": {
              "outlinewidth": 0,
              "ticks": ""
             }
            },
            "type": "parcoords"
           }
          ],
          "pie": [
           {
            "automargin": true,
            "type": "pie"
           }
          ],
          "scatter": [
           {
            "fillpattern": {
             "fillmode": "overlay",
             "size": 10,
             "solidity": 0.2
            },
            "type": "scatter"
           }
          ],
          "scatter3d": [
           {
            "line": {
             "colorbar": {
              "outlinewidth": 0,
              "ticks": ""
             }
            },
            "marker": {
             "colorbar": {
              "outlinewidth": 0,
              "ticks": ""
             }
            },
            "type": "scatter3d"
           }
          ],
          "scattercarpet": [
           {
            "marker": {
             "colorbar": {
              "outlinewidth": 0,
              "ticks": ""
             }
            },
            "type": "scattercarpet"
           }
          ],
          "scattergeo": [
           {
            "marker": {
             "colorbar": {
              "outlinewidth": 0,
              "ticks": ""
             }
            },
            "type": "scattergeo"
           }
          ],
          "scattergl": [
           {
            "marker": {
             "colorbar": {
              "outlinewidth": 0,
              "ticks": ""
             }
            },
            "type": "scattergl"
           }
          ],
          "scattermapbox": [
           {
            "marker": {
             "colorbar": {
              "outlinewidth": 0,
              "ticks": ""
             }
            },
            "type": "scattermapbox"
           }
          ],
          "scatterpolar": [
           {
            "marker": {
             "colorbar": {
              "outlinewidth": 0,
              "ticks": ""
             }
            },
            "type": "scatterpolar"
           }
          ],
          "scatterpolargl": [
           {
            "marker": {
             "colorbar": {
              "outlinewidth": 0,
              "ticks": ""
             }
            },
            "type": "scatterpolargl"
           }
          ],
          "scatterternary": [
           {
            "marker": {
             "colorbar": {
              "outlinewidth": 0,
              "ticks": ""
             }
            },
            "type": "scatterternary"
           }
          ],
          "surface": [
           {
            "colorbar": {
             "outlinewidth": 0,
             "ticks": ""
            },
            "colorscale": [
             [
              0,
              "#0d0887"
             ],
             [
              0.1111111111111111,
              "#46039f"
             ],
             [
              0.2222222222222222,
              "#7201a8"
             ],
             [
              0.3333333333333333,
              "#9c179e"
             ],
             [
              0.4444444444444444,
              "#bd3786"
             ],
             [
              0.5555555555555556,
              "#d8576b"
             ],
             [
              0.6666666666666666,
              "#ed7953"
             ],
             [
              0.7777777777777778,
              "#fb9f3a"
             ],
             [
              0.8888888888888888,
              "#fdca26"
             ],
             [
              1,
              "#f0f921"
             ]
            ],
            "type": "surface"
           }
          ],
          "table": [
           {
            "cells": {
             "fill": {
              "color": "#EBF0F8"
             },
             "line": {
              "color": "white"
             }
            },
            "header": {
             "fill": {
              "color": "#C8D4E3"
             },
             "line": {
              "color": "white"
             }
            },
            "type": "table"
           }
          ]
         },
         "layout": {
          "annotationdefaults": {
           "arrowcolor": "#2a3f5f",
           "arrowhead": 0,
           "arrowwidth": 1
          },
          "autotypenumbers": "strict",
          "coloraxis": {
           "colorbar": {
            "outlinewidth": 0,
            "ticks": ""
           }
          },
          "colorscale": {
           "diverging": [
            [
             0,
             "#8e0152"
            ],
            [
             0.1,
             "#c51b7d"
            ],
            [
             0.2,
             "#de77ae"
            ],
            [
             0.3,
             "#f1b6da"
            ],
            [
             0.4,
             "#fde0ef"
            ],
            [
             0.5,
             "#f7f7f7"
            ],
            [
             0.6,
             "#e6f5d0"
            ],
            [
             0.7,
             "#b8e186"
            ],
            [
             0.8,
             "#7fbc41"
            ],
            [
             0.9,
             "#4d9221"
            ],
            [
             1,
             "#276419"
            ]
           ],
           "sequential": [
            [
             0,
             "#0d0887"
            ],
            [
             0.1111111111111111,
             "#46039f"
            ],
            [
             0.2222222222222222,
             "#7201a8"
            ],
            [
             0.3333333333333333,
             "#9c179e"
            ],
            [
             0.4444444444444444,
             "#bd3786"
            ],
            [
             0.5555555555555556,
             "#d8576b"
            ],
            [
             0.6666666666666666,
             "#ed7953"
            ],
            [
             0.7777777777777778,
             "#fb9f3a"
            ],
            [
             0.8888888888888888,
             "#fdca26"
            ],
            [
             1,
             "#f0f921"
            ]
           ],
           "sequentialminus": [
            [
             0,
             "#0d0887"
            ],
            [
             0.1111111111111111,
             "#46039f"
            ],
            [
             0.2222222222222222,
             "#7201a8"
            ],
            [
             0.3333333333333333,
             "#9c179e"
            ],
            [
             0.4444444444444444,
             "#bd3786"
            ],
            [
             0.5555555555555556,
             "#d8576b"
            ],
            [
             0.6666666666666666,
             "#ed7953"
            ],
            [
             0.7777777777777778,
             "#fb9f3a"
            ],
            [
             0.8888888888888888,
             "#fdca26"
            ],
            [
             1,
             "#f0f921"
            ]
           ]
          },
          "colorway": [
           "#636efa",
           "#EF553B",
           "#00cc96",
           "#ab63fa",
           "#FFA15A",
           "#19d3f3",
           "#FF6692",
           "#B6E880",
           "#FF97FF",
           "#FECB52"
          ],
          "font": {
           "color": "#2a3f5f"
          },
          "geo": {
           "bgcolor": "white",
           "lakecolor": "white",
           "landcolor": "white",
           "showlakes": true,
           "showland": true,
           "subunitcolor": "#C8D4E3"
          },
          "hoverlabel": {
           "align": "left"
          },
          "hovermode": "closest",
          "mapbox": {
           "style": "light"
          },
          "paper_bgcolor": "white",
          "plot_bgcolor": "white",
          "polar": {
           "angularaxis": {
            "gridcolor": "#EBF0F8",
            "linecolor": "#EBF0F8",
            "ticks": ""
           },
           "bgcolor": "white",
           "radialaxis": {
            "gridcolor": "#EBF0F8",
            "linecolor": "#EBF0F8",
            "ticks": ""
           }
          },
          "scene": {
           "xaxis": {
            "backgroundcolor": "white",
            "gridcolor": "#DFE8F3",
            "gridwidth": 2,
            "linecolor": "#EBF0F8",
            "showbackground": true,
            "ticks": "",
            "zerolinecolor": "#EBF0F8"
           },
           "yaxis": {
            "backgroundcolor": "white",
            "gridcolor": "#DFE8F3",
            "gridwidth": 2,
            "linecolor": "#EBF0F8",
            "showbackground": true,
            "ticks": "",
            "zerolinecolor": "#EBF0F8"
           },
           "zaxis": {
            "backgroundcolor": "white",
            "gridcolor": "#DFE8F3",
            "gridwidth": 2,
            "linecolor": "#EBF0F8",
            "showbackground": true,
            "ticks": "",
            "zerolinecolor": "#EBF0F8"
           }
          },
          "shapedefaults": {
           "line": {
            "color": "#2a3f5f"
           }
          },
          "ternary": {
           "aaxis": {
            "gridcolor": "#DFE8F3",
            "linecolor": "#A2B1C6",
            "ticks": ""
           },
           "baxis": {
            "gridcolor": "#DFE8F3",
            "linecolor": "#A2B1C6",
            "ticks": ""
           },
           "bgcolor": "white",
           "caxis": {
            "gridcolor": "#DFE8F3",
            "linecolor": "#A2B1C6",
            "ticks": ""
           }
          },
          "title": {
           "x": 0.05
          },
          "xaxis": {
           "automargin": true,
           "gridcolor": "#EBF0F8",
           "linecolor": "#EBF0F8",
           "ticks": "",
           "title": {
            "standoff": 15
           },
           "zerolinecolor": "#EBF0F8",
           "zerolinewidth": 2
          },
          "yaxis": {
           "automargin": true,
           "gridcolor": "#EBF0F8",
           "linecolor": "#EBF0F8",
           "ticks": "",
           "title": {
            "standoff": 15
           },
           "zerolinecolor": "#EBF0F8",
           "zerolinewidth": 2
          }
         }
        },
        "title": {
         "font": {
          "color": "Black",
          "size": 22
         },
         "text": "<b>Hierarchical Clustering</b>",
         "x": 0.5,
         "xanchor": "center",
         "yanchor": "top"
        },
        "width": 1000,
        "xaxis": {
         "mirror": "allticks",
         "rangemode": "tozero",
         "showgrid": false,
         "showline": true,
         "showticklabels": true,
         "ticks": "outside",
         "type": "linear",
         "zeroline": false
        },
        "yaxis": {
         "mirror": "allticks",
         "range": [
          -400,
          0
         ],
         "rangemode": "tozero",
         "showgrid": false,
         "showline": true,
         "showticklabels": true,
         "tickmode": "array",
         "ticks": "outside",
         "ticktext": [
          "24_gun_atf_biden",
          "23_china_hunter biden_hunter",
          "29_biden_money mouth_face_m...",
          "19_accept_biden_votes",
          "2_vote_ballot_state",
          "12_vaccine_vaccinated_biden",
          "15_border_immigration_biden",
          "4_biden_plan_policy",
          "3_biden_vote biden_manifest",
          "11_biden_joe biden_joe",
          "10_harris_kamala_black",
          "30_debate_final_biden",
          "25_fact_biden_lie",
          "22_lie_lied_trump lie",
          "20_putin_russia_moscow mitch",
          "18_concede_communist_loses",
          "26_trump wa_mean trump_year...",
          "27_impeached_impeachment_tr...",
          "17_woodward_cnn_jack",
          "9_twitter_tweet_trump",
          "16_white_racist_black",
          "1_trump_wa_feel",
          "5_supporter_trump supporter...",
          "0_capitol_trump_terrorist",
          "6_money_trump_economy",
          "13_court_supreme court_supr...",
          "8_trump_think_term",
          "14_party_gop_republicans",
          "35_remove_fix_library",
          "33_virus_infected_country",
          "36_covid_ploy_trump covid",
          "39_died_americans died_people",
          "34_pardon_trump pardon_prison",
          "37_parler_did trump_trump did",
          "21_christian_devil_god",
          "31_care_miss trump_mrs",
          "7_trump_world_trump trump",
          "28_awful_ve_trump president",
          "38_mask_wear_wear mask",
          "32_2020_trump pence_pence 2..."
         ],
         "tickvals": [
          -5,
          -15,
          -25,
          -35,
          -45,
          -55,
          -65,
          -75,
          -85,
          -95,
          -105,
          -115,
          -125,
          -135,
          -145,
          -155,
          -165,
          -175,
          -185,
          -195,
          -205,
          -215,
          -225,
          -235,
          -245,
          -255,
          -265,
          -275,
          -285,
          -295,
          -305,
          -315,
          -325,
          -335,
          -345,
          -355,
          -365,
          -375,
          -385,
          -395
         ],
         "type": "linear",
         "zeroline": false
        }
       }
      }
     },
     "metadata": {},
     "output_type": "display_data"
    }
   ],
   "source": [
    "model.visualize_hierarchy(top_n_topics=43)"
   ]
  },
  {
   "cell_type": "code",
   "execution_count": 20,
   "metadata": {},
   "outputs": [
    {
     "data": {
      "text/plain": [
       "<bertopic._bertopic.BERTopic at 0x1fb9b21fe90>"
      ]
     },
     "execution_count": 20,
     "metadata": {},
     "output_type": "execute_result"
    }
   ],
   "source": [
    "#saving the model\n",
    "model.save(\"bert_best_model_tweets\")\n",
    "\n",
    "# loading the serialised model\n",
    "my_best_model = BERTopic.load(\"bert_best_model_tweets\")\n",
    "my_best_model"
   ]
  }
 ],
 "metadata": {
  "kernelspec": {
   "display_name": "Python 3",
   "language": "python",
   "name": "python3"
  },
  "language_info": {
   "codemirror_mode": {
    "name": "ipython",
    "version": 3
   },
   "file_extension": ".py",
   "mimetype": "text/x-python",
   "name": "python",
   "nbconvert_exporter": "python",
   "pygments_lexer": "ipython3",
   "version": "3.11.5"
  }
 },
 "nbformat": 4,
 "nbformat_minor": 2
}
