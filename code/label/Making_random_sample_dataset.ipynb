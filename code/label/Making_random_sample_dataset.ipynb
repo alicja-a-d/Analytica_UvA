{
 "cells": [
  {
   "cell_type": "code",
   "execution_count": 1,
   "metadata": {},
   "outputs": [],
   "source": [
    "import pandas as pd\n",
    "import random\n",
    "\n",
    "#original dataset for one day of tweets\n",
    "original_dataset = pd.read_csv('../../data/tweets/anon.tweets_2020-07-24_copy.csv')\n",
    "\n",
    "#number of rows in the original dataset\n",
    "num_rows_original = len(original_dataset)\n",
    "\n",
    "num_random_rows = 100\n",
    "\n",
    "# 1000 random indices to make the model more accurate\n",
    "random_indices = random.sample(range(num_rows_original), num_random_rows)\n",
    "\n",
    "# new dataset \n",
    "new_dataset = original_dataset.iloc[random_indices]\n",
    "\n",
    "# Save the new dataset to a new CSV file\n",
    "new_dataset.to_excel('../../data/test/100_random_rows_24_07_2020.xlsx', index=False)"
   ]
  },
  {
   "cell_type": "code",
   "execution_count": null,
   "metadata": {},
   "outputs": [],
   "source": []
  }
 ],
 "metadata": {
  "kernelspec": {
   "display_name": "bert_envv",
   "language": "python",
   "name": "python3"
  },
  "language_info": {
   "codemirror_mode": {
    "name": "ipython",
    "version": 3
   },
   "file_extension": ".py",
   "mimetype": "text/x-python",
   "name": "python",
   "nbconvert_exporter": "python",
   "pygments_lexer": "ipython3",
   "version": "3.8.18"
  }
 },
 "nbformat": 4,
 "nbformat_minor": 2
}
