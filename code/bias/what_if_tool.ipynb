{
  "cells": [
    {
      "cell_type": "markdown",
      "metadata": {},
      "source": [
        "This code will most likely not work properly in VSCode. It is a slightly adapted version of what was used in Google Colab."
      ]
    },
    {
      "cell_type": "code",
      "execution_count": 1,
      "metadata": {
        "colab": {
          "base_uri": "https://localhost:8080/"
        },
        "id": "XSgyly4gSb2j",
        "outputId": "c0ed8cb1-f6dc-4fe9-a221-dbf3ef43dd80"
      },
      "outputs": [],
      "source": [
        "# Import Necessary Libraries\n",
        "from witwidget.notebook.visualization import WitWidget, WitConfigBuilder\n",
        "import numpy as np\n",
        "import random\n",
        "import pandas as pd\n",
        "import matplotlib.pyplot as plt\n",
        "import seaborn as sns\n",
        "from scipy import stats\n",
        "from scipy.stats import multivariate_normal, bernoulli, beta, norm\n",
        "from scipy.stats import ks_2samp\n",
        "from scipy.special import expit as logistic_sigmoid\n",
        "import statsmodels.api as sm\n",
        "import statsmodels.formula.api as smf\n",
        "from sklearn.datasets import load_iris\n",
        "from sklearn.linear_model import LogisticRegression\n",
        "from sklearn.model_selection import train_test_split\n",
        "from sklearn.metrics import log_loss\n",
        "from sklearn.metrics import brier_score_loss\n",
        "from sklearn.model_selection import cross_val_score\n",
        "from sklearn.metrics import balanced_accuracy_score, brier_score_loss, accuracy_score, roc_auc_score, roc_curve, auc\n",
        "from sklearn.model_selection import KFold\n",
        "from sklearn.preprocessing import StandardScaler\n",
        "import pickle\n",
        "\n",
        "np.random.seed(42)"
      ]
    },
    {
      "cell_type": "code",
      "execution_count": 2,
      "metadata": {
        "id": "q2OCD_ZFSb23"
      },
      "outputs": [],
      "source": [
        "df = pd.read_csv('../regression/test_dataset.csv', index_col=False)\n",
        "model = pickle.load(open('../regression/regression_model_MM.sav', 'rb'))\n",
        "model_weighed = pickle.load(open('../regression/regression_model_Bias.sav', 'rb'))\n",
        "model_weighed_y = pickle.load(open('../regression/regression_model_Bias2.sav', 'rb'))"
      ]
    },
    {
      "cell_type": "code",
      "execution_count": 3,
      "metadata": {
        "colab": {
          "base_uri": "https://localhost:8080/"
        },
        "id": "nTnreKFGIwHD",
        "outputId": "29deec50-705b-4644-bf66-a4c48e0b8e7d"
      },
      "outputs": [
        {
          "data": {
            "text/plain": [
              "<witwidget.notebook.visualization.WitConfigBuilder at 0x1a40954a870>"
            ]
          },
          "execution_count": 3,
          "metadata": {},
          "output_type": "execute_result"
        }
      ],
      "source": [
        "# Prepare the features and labels\n",
        "features = df.drop(columns=['fake_binary'])\n",
        "labels = df['fake_binary']\n",
        "\n",
        "# Create a combined DataFrame to pass to WIT\n",
        "wit_data = features.copy()\n",
        "wit_data['fake_binary'] = labels\n",
        "\n",
        "binary_variable = 'party_detailed'  # Replace with your binary variable name\n",
        "\n",
        "# Define a function to make predictions using the loaded models\n",
        "class CustomModelWrapper:\n",
        "    def __init__(self, model):\n",
        "        self.model = model\n",
        "\n",
        "    def predict(self, inputs):\n",
        "        inputs_df = pd.DataFrame(inputs, columns=features.columns)\n",
        "        predicted_probs = self.model.predict(inputs_df)\n",
        "        return np.expand_dims(predicted_probs, axis=1)\n",
        "\n",
        "# Instantiate the wrappers with your models\n",
        "custom_model = CustomModelWrapper(model)\n",
        "custom_model_weighed = CustomModelWrapper(model_weighed)\n",
        "custom_model_weighed_y = CustomModelWrapper(model_weighed_y)\n",
        "\n",
        "\n",
        "# Prepare WIT configuration for the first model\n",
        "config_builder1 = WitConfigBuilder(wit_data.values.tolist(), wit_data.columns.tolist())\n",
        "config_builder1.set_custom_predict_fn(custom_model.predict)\n",
        "config_builder1.set_target_feature('fake_binary')\n",
        "\n",
        "# Prepare WIT configuration for the second model\n",
        "config_builder2 = WitConfigBuilder(wit_data.values.tolist(), wit_data.columns.tolist())\n",
        "config_builder2.set_custom_predict_fn(custom_model_weighed.predict)\n",
        "config_builder2.set_target_feature('fake_binary')\n",
        "\n",
        "# Prepare WIT configuration for the third model\n",
        "config_builder3 = WitConfigBuilder(wit_data.values.tolist(), wit_data.columns.tolist())\n",
        "config_builder3.set_custom_predict_fn(custom_model_weighed_y.predict)\n",
        "config_builder3.set_target_feature('fake_binary')\n"
      ]
    },
    {
      "cell_type": "code",
      "execution_count": 4,
      "metadata": {
        "id": "5v7X1Idf4v6W"
      },
      "outputs": [
        {
          "data": {
            "text/html": [
              "<style>.container { width:100% !important; }</style>"
            ],
            "text/plain": [
              "<IPython.core.display.HTML object>"
            ]
          },
          "metadata": {},
          "output_type": "display_data"
        },
        {
          "data": {
            "application/vnd.jupyter.widget-view+json": {
              "model_id": "45868d9704ff409aa995968a97205e76",
              "version_major": 2,
              "version_minor": 0
            },
            "text/plain": [
              "WitWidget(config={'model_type': 'classification', 'label_vocab': [], 'feature_names': ['const', 'statuses_coun…"
            ]
          },
          "metadata": {},
          "output_type": "display_data"
        }
      ],
      "source": [
        "wit1 = WitWidget(config_builder1)\n",
        "\n",
        "display(wit1)"
      ]
    },
    {
      "cell_type": "code",
      "execution_count": 5,
      "metadata": {
        "id": "YvjmNh1w6s1B"
      },
      "outputs": [
        {
          "data": {
            "text/html": [
              "<style>.container { width:100% !important; }</style>"
            ],
            "text/plain": [
              "<IPython.core.display.HTML object>"
            ]
          },
          "metadata": {},
          "output_type": "display_data"
        },
        {
          "data": {
            "application/vnd.jupyter.widget-view+json": {
              "model_id": "a50304eb8a694697bcefafb9b545d770",
              "version_major": 2,
              "version_minor": 0
            },
            "text/plain": [
              "WitWidget(config={'model_type': 'classification', 'label_vocab': [], 'feature_names': ['const', 'statuses_coun…"
            ]
          },
          "metadata": {},
          "output_type": "display_data"
        }
      ],
      "source": [
        "wit2 = WitWidget(config_builder2)\n",
        "\n",
        "display(wit2)"
      ]
    },
    {
      "cell_type": "code",
      "execution_count": 6,
      "metadata": {
        "id": "TYTZY3PFS8zP"
      },
      "outputs": [
        {
          "data": {
            "text/html": [
              "<style>.container { width:100% !important; }</style>"
            ],
            "text/plain": [
              "<IPython.core.display.HTML object>"
            ]
          },
          "metadata": {},
          "output_type": "display_data"
        },
        {
          "data": {
            "application/vnd.jupyter.widget-view+json": {
              "model_id": "67a3e5acd7684a3485020891b701bc9b",
              "version_major": 2,
              "version_minor": 0
            },
            "text/plain": [
              "WitWidget(config={'model_type': 'classification', 'label_vocab': [], 'feature_names': ['const', 'statuses_coun…"
            ]
          },
          "metadata": {},
          "output_type": "display_data"
        }
      ],
      "source": [
        "wit3 = WitWidget(config_builder3)\n",
        "\n",
        "display(wit3)"
      ]
    },
    {
      "cell_type": "code",
      "execution_count": 7,
      "metadata": {
        "colab": {
          "base_uri": "https://localhost:8080/"
        },
        "id": "NQn0xmcgZzbG",
        "outputId": "ad21088e-ef6b-43be-8648-ceae2c0167a3"
      },
      "outputs": [
        {
          "name": "stdout",
          "output_type": "stream",
          "text": [
            "Model 1 Predictions: [[0]\n",
            " [1]\n",
            " [0]\n",
            " [0]\n",
            " [0]\n",
            " [0]\n",
            " [0]\n",
            " [0]\n",
            " [0]\n",
            " [1]]\n",
            "Model 2 Predictions: [[0]\n",
            " [1]\n",
            " [0]\n",
            " [0]\n",
            " [1]\n",
            " [0]\n",
            " [0]\n",
            " [0]\n",
            " [1]\n",
            " [1]]\n",
            "Model 3 Predictions: [[0]\n",
            " [1]\n",
            " [0]\n",
            " [0]\n",
            " [1]\n",
            " [1]\n",
            " [0]\n",
            " [0]\n",
            " [1]\n",
            " [1]]\n",
            "Accuracy Model 1: 0.7395833333333334\n",
            "Accuracy Model 2: 0.7458333333333333\n",
            "Accuracy Model 3: 0.6645833333333333\n"
          ]
        }
      ],
      "source": [
        "# Predict using each model independently\n",
        "predictions1 = custom_model.predict(features.values)\n",
        "predictions2 = custom_model_weighed.predict(features.values)\n",
        "predictions3 = custom_model_weighed_y.predict(features.values)\n",
        "\n",
        "# Convert probabilities to binary predictions\n",
        "binary_predictions1 = (predictions1 >= 0.5).astype(int)\n",
        "binary_predictions2 = (predictions2 >= 0.5).astype(int)\n",
        "binary_predictions3 = (predictions3 >= 0.5).astype(int)\n",
        "\n",
        "# Print predictions for verification\n",
        "print(\"Model 1 Predictions:\", binary_predictions1[:10])\n",
        "print(\"Model 2 Predictions:\", binary_predictions2[:10])\n",
        "print(\"Model 3 Predictions:\", binary_predictions3[:10])\n",
        "\n",
        "# Calculate accuracy for each model\n",
        "accuracy1 = accuracy_score(labels, binary_predictions1)\n",
        "accuracy2 = accuracy_score(labels, binary_predictions2)\n",
        "accuracy3 = accuracy_score(labels, binary_predictions3)\n",
        "\n",
        "print(f\"Accuracy Model 1: {accuracy1}\")\n",
        "print(f\"Accuracy Model 2: {accuracy2}\")\n",
        "print(f\"Accuracy Model 3: {accuracy3}\")\n"
      ]
    }
  ],
  "metadata": {
    "colab": {
      "provenance": []
    },
    "kernelspec": {
      "display_name": "Python 3",
      "language": "python",
      "name": "python3"
    },
    "language_info": {
      "codemirror_mode": {
        "name": "ipython",
        "version": 3
      },
      "file_extension": ".py",
      "mimetype": "text/x-python",
      "name": "python",
      "nbconvert_exporter": "python",
      "pygments_lexer": "ipython3",
      "version": "3.12.2"
    }
  },
  "nbformat": 4,
  "nbformat_minor": 0
}
