{
 "cells": [
  {
   "cell_type": "code",
   "execution_count": 1,
   "metadata": {},
   "outputs": [],
   "source": [
    "# Import Necessary Libraries\n",
    "from witwidget.notebook.visualization import WitWidget, WitConfigBuilder\n",
    "import numpy as np\n",
    "import random\n",
    "import pandas as pd\n",
    "import matplotlib.pyplot as plt\n",
    "import seaborn as sns\n",
    "from scipy import stats\n",
    "from scipy.stats import multivariate_normal, bernoulli, beta, norm\n",
    "from scipy.stats import ks_2samp\n",
    "from scipy.special import expit as logistic_sigmoid\n",
    "import statsmodels.api as sm\n",
    "import statsmodels.formula.api as smf\n",
    "from sklearn.datasets import load_iris\n",
    "from sklearn.linear_model import LogisticRegression\n",
    "from sklearn.model_selection import train_test_split\n",
    "from sklearn.metrics import log_loss\n",
    "from sklearn.metrics import brier_score_loss\n",
    "from sklearn.model_selection import cross_val_score\n",
    "from sklearn.metrics import balanced_accuracy_score, brier_score_loss, accuracy_score, roc_auc_score, roc_curve, auc\n",
    "from sklearn.model_selection import KFold\n",
    "from sklearn.preprocessing import StandardScaler\n",
    "import pickle\n",
    "\n",
    "np.random.seed(42)"
   ]
  },
  {
   "cell_type": "code",
   "execution_count": 2,
   "metadata": {},
   "outputs": [],
   "source": [
    "df = pd.read_csv('../regression/test_dataset.csv')\n",
    "model = pickle.load(open('../regression/regression_model_MM.sav', 'rb'))"
   ]
  },
  {
   "cell_type": "code",
   "execution_count": 3,
   "metadata": {},
   "outputs": [],
   "source": [
    "def custom_predict(input_data):\n",
    "    # Preprocess input_data if necessary\n",
    "    input_data = np.array(input_data)\n",
    "    predictions = model.predict(input_data)\n",
    "    return predictions.tolist()"
   ]
  },
  {
   "cell_type": "code",
   "execution_count": 14,
   "metadata": {},
   "outputs": [
    {
     "data": {
      "text/html": [
       "<style>.container { width:100% !important; }</style>"
      ],
      "text/plain": [
       "<IPython.core.display.HTML object>"
      ]
     },
     "metadata": {},
     "output_type": "display_data"
    },
    {
     "data": {
      "application/vnd.jupyter.widget-view+json": {
       "model_id": "e235bd4518db42f48386dfe9fcb82db2",
       "version_major": 2,
       "version_minor": 0
      },
      "text/plain": [
       "WitWidget(config={'model_type': 'classification', 'label_vocab': [], 'uses_json_input': True, 'inference_addre…"
      ]
     },
     "execution_count": 14,
     "metadata": {},
     "output_type": "execute_result"
    }
   ],
   "source": [
    "# Convert dataframe to list of dictionaries (required format for WIT)\n",
    "examples = df.to_dict(orient='records')\n",
    "\n",
    "# Configure the What-If Tool\n",
    "config_builder = WitConfigBuilder(examples).set_custom_predict_fn(custom_predict)\n",
    "\n",
    "# Launch the What-If Tool\n",
    "WitWidget(config_builder)"
   ]
  },
  {
   "cell_type": "code",
   "execution_count": 6,
   "metadata": {},
   "outputs": [
    {
     "data": {
      "text/plain": [
       "CompletedProcess(args=['jupyter', 'nbextension', 'enable', '--py', 'witwidget', '--sys-prefix'], returncode=1)"
      ]
     },
     "execution_count": 6,
     "metadata": {},
     "output_type": "execute_result"
    }
   ],
   "source": [
    "import subprocess\n",
    "\n",
    "# Enable the widgetsnbextension\n",
    "subprocess.run([\"jupyter\", \"nbextension\", \"enable\", \"--py\", \"widgetsnbextension\", \"--sys-prefix\"])\n",
    "\n",
    "# Install and enable the widgetsnbextension\n",
    "subprocess.run([\"jupyter\", \"nbextension\", \"install\", \"--py\", \"widgetsnbextension\", \"--sys-prefix\"])\n",
    "\n",
    "# Enable the witwidget extension\n",
    "subprocess.run([\"jupyter\", \"nbextension\", \"enable\", \"--py\", \"witwidget\", \"--sys-prefix\"])\n"
   ]
  }
 ],
 "metadata": {
  "kernelspec": {
   "display_name": "Python 3",
   "language": "python",
   "name": "python3"
  },
  "language_info": {
   "codemirror_mode": {
    "name": "ipython",
    "version": 3
   },
   "file_extension": ".py",
   "mimetype": "text/x-python",
   "name": "python",
   "nbconvert_exporter": "python",
   "pygments_lexer": "ipython3",
   "version": "3.12.2"
  }
 },
 "nbformat": 4,
 "nbformat_minor": 2
}
